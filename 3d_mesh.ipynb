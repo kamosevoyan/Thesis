{
 "cells": [
  {
   "cell_type": "code",
   "execution_count": null,
   "metadata": {},
   "outputs": [],
   "source": [
    "import gmsh\n",
    "\n",
    "# Initialize the Gmsh Python API\n",
    "gmsh.initialize()\n",
    "\n",
    "# Start a new model\n",
    "gmsh.model.add(\"Sphere\")\n",
    "\n",
    "# Define the sphere\n",
    "radius = 1.0\n",
    "x_center, y_center, z_center = 0.0, 0.0, 0.0\n",
    "sphere = gmsh.model.occ.addSphere(x_center, y_center, z_center, radius)\n",
    "\n",
    "# Synchronize the data from the built-in CAD kernel with the Gmsh model\n",
    "gmsh.model.occ.synchronize()\n",
    "\n",
    "# Define the mesh size\n",
    "MeshSize = 0.4\n",
    "\n",
    "# Set the mesh size\n",
    "gmsh.model.mesh.setSize(gmsh.model.getEntities(0), MeshSize)\n",
    "\n",
    "# Generate 3D mesh\n",
    "gmsh.model.mesh.generate(3)\n",
    "\n",
    "# Save the mesh to a file\n",
    "gmsh.write(\"sphere.msh\")\n",
    "\n",
    "# Finalize the Gmsh Python API\n",
    "gmsh.fltk.run()\n"
   ]
  },
  {
   "cell_type": "code",
   "execution_count": null,
   "metadata": {},
   "outputs": [],
   "source": []
  },
  {
   "cell_type": "code",
   "execution_count": null,
   "metadata": {},
   "outputs": [],
   "source": [
    "import numpy as np\n",
    "\n",
    "# Create a RandomState object\n",
    "rs = np.random.RandomState(123)"
   ]
  },
  {
   "cell_type": "code",
   "execution_count": null,
   "metadata": {},
   "outputs": [],
   "source": [
    "\n",
    "# Use the RandomState object\n",
    "random_numbers = rs.randint(0, 10)\n",
    "print(random_numbers)\n",
    "\n",
    "# Save its state"
   ]
  },
  {
   "cell_type": "code",
   "execution_count": null,
   "metadata": {},
   "outputs": [],
   "source": [
    "state = rs.get_state()"
   ]
  },
  {
   "cell_type": "code",
   "execution_count": null,
   "metadata": {},
   "outputs": [],
   "source": [
    "rs.set_state(state)"
   ]
  },
  {
   "cell_type": "code",
   "execution_count": null,
   "metadata": {},
   "outputs": [],
   "source": [
    "import torch"
   ]
  },
  {
   "cell_type": "code",
   "execution_count": null,
   "metadata": {},
   "outputs": [],
   "source": [
    "gen = torch.Generator()"
   ]
  },
  {
   "cell_type": "code",
   "execution_count": null,
   "metadata": {},
   "outputs": [],
   "source": [
    "gen.set"
   ]
  }
 ],
 "metadata": {
  "kernelspec": {
   "display_name": "Python 3",
   "language": "python",
   "name": "python3"
  },
  "language_info": {
   "codemirror_mode": {
    "name": "ipython",
    "version": 3
   },
   "file_extension": ".py",
   "mimetype": "text/x-python",
   "name": "python",
   "nbconvert_exporter": "python",
   "pygments_lexer": "ipython3",
   "version": "3.9.18"
  }
 },
 "nbformat": 4,
 "nbformat_minor": 2
}
