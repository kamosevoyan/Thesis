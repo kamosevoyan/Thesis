{
 "cells": [
  {
   "cell_type": "code",
   "execution_count": 38,
   "id": "d77dd589",
   "metadata": {},
   "outputs": [],
   "source": [
    "import matplotlib.pyplot as plt\n",
    "import dill\n",
    "import sympy\n",
    "from tqdm import tqdm\n",
    "from scipy.sparse import lil_matrix, csc_matrix, csr_matrix\n",
    "from scipy.sparse.linalg import spsolve\n",
    "import pypardiso\n",
    "import plotly"
   ]
  },
  {
   "cell_type": "markdown",
   "id": "69ae7294",
   "metadata": {},
   "source": [
    "### Load precomputed integrals"
   ]
  },
  {
   "cell_type": "code",
   "execution_count": 39,
   "id": "e0ed5cdf",
   "metadata": {},
   "outputs": [],
   "source": [
    "lagrange_linear_poisson_matrix = dill.load(\n",
    "    open(\"../../calculations/lagrange_linear_poisson_matrix\", \"rb\")\n",
    ")\n",
    "lagrange_linear_poisson_right_values = dill.load(\n",
    "    open(\"../../calculations/lagrange_linear_poisson_right_values\", \"rb\")\n",
    ")\n",
    "consistency_lambdified = dill.load(\n",
    "    open(\"../../calculations/lagrange_linear_poisson_dg_consistency\", \"rb\")\n",
    ")\n",
    "consistency_boundary_lambdified = dill.load(\n",
    "    open(\"../../calculations/lagrange_linear_poisson_dg_consistency_boundary\", \"rb\")\n",
    ")\n",
    "symmetricity_lambdified = dill.load(\n",
    "    open(\"../../calculations/lagrange_linear_poisson_dg_symmetricity\", \"rb\")\n",
    ")\n",
    "symmetricity_boundary_lambdified = dill.load(\n",
    "    open(\"../../calculations/lagrange_linear_poisson_dg_symmetricity_boundary\", \"rb\")\n",
    ")\n",
    "penalty_lambdified = dill.load(\n",
    "    open(\"../../calculations/lagrange_linear_poisson_dg_penalty\", \"rb\")\n",
    ")\n",
    "penalty_boundary_lambdified = dill.load(\n",
    "    open(\"../../calculations/lagrange_linear_poisson_dg_penalty_boundary\", \"rb\")\n",
    ")\n",
    "\n",
    "bc_dirichlet_lambdified = dill.load(open(\"../../calculations/lagrange_linear_poisson_dg_bc_dirichlet\", \"rb\"))\n",
    "bc_neumann_lambdified = dill.load(open(\"../../calculations/lagrange_linear_poisson_dg_bc_neumann\", \"rb\"))"
   ]
  },
  {
   "cell_type": "markdown",
   "id": "6688870c",
   "metadata": {},
   "source": [
    "### Initialize the domain"
   ]
  },
  {
   "cell_type": "code",
   "execution_count": 40,
   "id": "f91988b0",
   "metadata": {},
   "outputs": [
    {
     "name": "stderr",
     "output_type": "stream",
     "text": [
      "Warning : Gmsh has aleady been initialized\n"
     ]
    },
    {
     "name": "stdout",
     "output_type": "stream",
     "text": [
      "Info    : Meshing 1D...\n",
      "Info    : [  0%] Meshing curve 1 (Circle)\n",
      "Info    : [ 30%] Meshing curve 2 (Circle)\n",
      "Info    : [ 60%] Meshing curve 3 (Circle)\n",
      "Info    : [ 80%] Meshing curve 4 (Circle)\n",
      "Info    : Done meshing 1D (Wall 0.000143553s, CPU 0.00019s)\n",
      "Info    : Meshing 2D...\n",
      "Info    : Meshing surface 1 (Transfinite)\n",
      "Info    : Done meshing 2D (Wall 4.5793e-05s, CPU 0.000142s)\n",
      "Info    : 122 nodes 245 elements\n",
      "-------------------------------------------------------\n",
      "Version       : 4.13.1\n",
      "License       : GNU General Public License\n",
      "Build OS      : Linux64-sdk\n",
      "Build date    : 20240524\n",
      "Build host    : gmsh.info\n",
      "Build options : 64Bit ALGLIB[contrib] ANN[contrib] Bamg Blas[petsc] Blossom Cgns DIntegration Dlopen DomHex Eigen[contrib] Fltk Gmm[contrib] Hxt Jpeg Kbipack Lapack[petsc] LinuxJoystick MathEx[contrib] Med Mesh Metis[contrib] Mmg Mpeg Netgen Nii2mesh ONELAB ONELABMetamodel OpenCASCADE OpenCASCADE-CAF OpenGL OpenMP OptHom PETSc Parser Plugins Png Post QuadMeshingTools QuadTri Solver TetGen/BR TinyXML2[contrib] Untangle Voro++[contrib] WinslowUntangler Zlib\n",
      "FLTK version  : 1.4.0\n",
      "PETSc version : 3.14.4 (real arithmtic)\n",
      "OCC version   : 7.7.2\n",
      "MED version   : 4.1.0\n",
      "Packaged by   : geuzaine\n",
      "Web site      : https://gmsh.info\n",
      "Issue tracker : https://gitlab.onelab.info/gmsh/gmsh/issues\n",
      "-------------------------------------------------------\n"
     ]
    }
   ],
   "source": [
    "import gmsh\n",
    "import numpy as np\n",
    "import matplotlib.pyplot as plt\n",
    "\n",
    "\n",
    "gmsh.initialize()\n",
    "gmsh.model.add(\"tri_mesh\")\n",
    "\n",
    "ms = 0.025\n",
    "# Define points\n",
    "point_1 = gmsh.model.geo.addPoint(0, 0, 0, ms)\n",
    "point_2 = gmsh.model.geo.addPoint(1, 0, 0, ms)\n",
    "point_3 = gmsh.model.geo.addPoint(0, 1, 0, ms)\n",
    "point_4 = gmsh.model.geo.addPoint(-1, 0, 0, ms)\n",
    "point_5 = gmsh.model.geo.addPoint(0, -1, 0, ms)\n",
    "\n",
    "# Define circles\n",
    "arc_1 = gmsh.model.geo.addCircleArc(point_2, point_1, point_3)\n",
    "arc_2 = gmsh.model.geo.addCircleArc(point_3, point_1, point_4)\n",
    "arc_3 = gmsh.model.geo.addCircleArc(point_4, point_1, point_5)\n",
    "arc_4 = gmsh.model.geo.addCircleArc(point_5, point_1, point_2)\n",
    "\n",
    "# Define line loop\n",
    "circle = gmsh.model.geo.addCurveLoop([arc_1, arc_2, arc_3, arc_4])\n",
    "\n",
    "# Define plane surface\n",
    "plane = gmsh.model.geo.addPlaneSurface([circle])\n",
    "\n",
    "gmsh.model.geo.synchronize()\n",
    "\n",
    "ms = 11\n",
    "gmsh.model.mesh.setTransfiniteCurve(arc_1, ms)\n",
    "gmsh.model.mesh.setTransfiniteCurve(arc_2, ms)\n",
    "gmsh.model.mesh.setTransfiniteCurve(arc_3, ms)\n",
    "gmsh.model.mesh.setTransfiniteCurve(arc_4, ms)\n",
    "gmsh.model.mesh.setTransfiniteSurface(plane)\n",
    "\n",
    "neumann_tag = gmsh.model.addPhysicalGroup(1, [arc_1], name=\"Neuman\")\n",
    "\n",
    "physical_group_curves_tag = gmsh.model.addPhysicalGroup(1, [arc_1, arc_2, arc_3, arc_4], name=\"Boundary curves\")\n",
    "physical_group_surface_tag = gmsh.model.addPhysicalGroup(2, [plane], name=\"Surface\")\n",
    "\n",
    "\n",
    "# point_tag = gmsh.model.geo.addPoint(np.sqrt(1/2), np.sqrt(1/2), 0, 1)\n",
    "# gmsh.model.geo.synchronize()\n",
    "\n",
    "# # Define the Attractor field\n",
    "# attractor_field = gmsh.model.mesh.field.add(\"Attractor\")\n",
    "# gmsh.model.mesh.field.setNumbers(attractor_field, \"NodesList\", [point_tag])\n",
    "\n",
    "# # Define the Threshold field\n",
    "# threshold_field = gmsh.model.mesh.field.add(\"Threshold\")\n",
    "# gmsh.model.mesh.field.setNumber(threshold_field, \"IField\", attractor_field)\n",
    "# gmsh.model.mesh.field.setNumber(threshold_field, \"LcMin\", 0.001)\n",
    "# gmsh.model.mesh.field.setNumber(threshold_field, \"LcMax\", 0.1)\n",
    "# gmsh.model.mesh.field.setNumber(threshold_field, \"DistMin\", 0.01)\n",
    "# gmsh.model.mesh.field.setNumber(threshold_field, \"DistMax\", 0.5)\n",
    "\n",
    "# # Set the Threshold field as the background field\n",
    "# gmsh.model.mesh.field.setAsBackgroundMesh(threshold_field)\n",
    "\n",
    "\n",
    "gmsh.model.mesh.generate(2)\n",
    "gmsh.fltk.run()"
   ]
  },
  {
   "cell_type": "code",
   "execution_count": 41,
   "id": "2633f299",
   "metadata": {},
   "outputs": [],
   "source": [
    "edge_entities = gmsh.model.getEntitiesForPhysicalGroup(dim=1, tag=neumann_tag)\n",
    "\n",
    "edge_elemTags, edge_nodeTags = [], []\n",
    "for e in edge_entities:\n",
    "    _, elemTags, nodeTags = gmsh.model.mesh.getElements(1, e)\n",
    "    edge_elemTags.extend(np.hstack(elemTags))\n",
    "    edge_nodeTags.extend(np.hstack(nodeTags))"
   ]
  },
  {
   "cell_type": "markdown",
   "id": "8142e2fd",
   "metadata": {},
   "source": [
    "# Triangles"
   ]
  },
  {
   "cell_type": "code",
   "execution_count": 42,
   "id": "d830b13b",
   "metadata": {},
   "outputs": [],
   "source": [
    "boundary_node_tags, _ = gmsh.model.mesh.getNodesForPhysicalGroup(1, physical_group_curves_tag)\n",
    "surface_node_tags, points = gmsh.model.mesh.getNodesForPhysicalGroup(2, physical_group_surface_tag)\n",
    "points = points.reshape(-1, 3)[:, :-1]\n",
    "boundary_node_tags = boundary_node_tags - 1"
   ]
  },
  {
   "cell_type": "code",
   "execution_count": 43,
   "id": "83ecb291",
   "metadata": {},
   "outputs": [],
   "source": [
    "tri_tags, tri_nodes = gmsh.model.mesh.getElementsByType(2)"
   ]
  },
  {
   "cell_type": "code",
   "execution_count": 44,
   "id": "cbc2ca82",
   "metadata": {},
   "outputs": [],
   "source": [
    "# get triangles to edges\n",
    "edge_nodes = gmsh.model.mesh.getElementEdgeNodes(2)\n",
    "# (nTriangles * nEdgesPerTriangle * nNodesPerEdge)\n",
    "# edge_nodes.reshape(-1, 3, 2)"
   ]
  },
  {
   "cell_type": "code",
   "execution_count": 45,
   "id": "64102e33",
   "metadata": {},
   "outputs": [
    {
     "data": {
      "text/plain": [
       "array([ 22,  23,  22, 121,  21, 121,  20, 120,  20, 119,  17, 116,  16,\n",
       "       116,  16, 115,  15, 115,  15, 114,  14, 114,  14, 113,  19, 118,\n",
       "       121, 112, 120, 121,  19, 119, 120, 112, 119, 120, 119, 110, 117,\n",
       "       118, 117, 108, 116, 117, 115, 116, 121,  23, 115, 106, 114, 115,\n",
       "       113, 105, 113, 104,  13, 113, 112,  24, 112,  25, 112, 103, 111,\n",
       "       102, 110, 111, 109, 110, 109, 100, 108, 109,  67,  29,  66,  67,\n",
       "        18, 117,  56,  48,  65,  66,  64,  65,   5,  41,   9,  77, 100,\n",
       "        92,  62,  54,  61,  53,  60,  52,   7,  59,  58,  30,  56,  47,\n",
       "        69,  70,  78,  79,  57,  58,  76,  28,  62,  63,  58,  49,  54,\n",
       "        45,  52,  53,  70,  71,   6,  50,  90,  81,  60,  61,  43,  38,\n",
       "       116, 108, 104, 105,  51,  43,  49,  31, 104,  95,  93,  94,  59,\n",
       "        51,  94,  27,  61,  52,  47,  34,  26,  27,  17,  18,   9,  10,\n",
       "       113, 114,   5,  40, 101,  92, 104,  96,  63,  64,  89,  90,  24,\n",
       "        25,  45,  46,  87,  88,   3,  23,  82,  73, 103,  26,  14,  15,\n",
       "         5,   6,  19,  20,  21,  22,  30,  31,  48,  32,   1,   5,  47,\n",
       "        48,  42,  38,  25,  26,  63,  54,  36,  37,  74,  65,  51,  52,\n",
       "        74,  66,  49,   4, 107, 108,  59,  50,  32,  33,  57,  49,  95,\n",
       "        86,  29,  30,   7,   8,  16,  17,   8,  59,  87,  79, 111, 103,\n",
       "        45,  36,  63,  55,  67,  30,  33,  34,  55,  56,  28,  29,  61,\n",
       "        62,  15,  16,   8,   9,  21, 120,   6,   7,  11,  12,  44,  45,\n",
       "        27,  28,  39,  40,  12,  13,  23,  24,  20,  21,  44,  36,  49,\n",
       "        32,  86,  77,  22,   3, 118, 119,  81,  73,  10,  11,  11,  86,\n",
       "        18, 118,  57,  48, 111, 112,  42,  39,  89,  81,  60,  51,  31,\n",
       "         4, 115, 107,  45,  35,  62,  53,   4,  32,  83,  75,  52,  44,\n",
       "        78,  69,  41,  40,  48,  49,  46,  34,   9,  68,  53,  54,  90,\n",
       "        82,  52,  43,  10,  77,   2,  14,  97,  88,  51,  42,  35,  36,\n",
       "        58,  31,   6,  41,  91,  83,   7,  50,  38,  39,  56,  57,  94,\n",
       "        85,  53,  45,  94,  26, 119, 111,  41,  39,  47,  33,  55,  46,\n",
       "        41,  42,  54,  55,  50,  42,  43,  37,  98,  99,  43,  44,  46,\n",
       "        47,  44,  37,  34,  35,  75,  76,  59,  60,  13,   2,  96,  88,\n",
       "       116, 107,  46,  35,   8,  68, 108, 100,  68,  59,  68,  60, 110,\n",
       "       101,  72,  64,  68,  69,  54,  46, 101,  93,  42,  43,  83,  84,\n",
       "        66,  57, 102,  94,  76,  67,  69,  61,  70,  61, 109, 101,  73,\n",
       "        64,  71,  63,  71,  72,  55,  47,  73,  74,  64,  55,  82,  83,\n",
       "        75,  66,  97,  89,  75,  67,  77,  68,  48,  33,  92,  83, 110,\n",
       "       102,  53,  44,  77,  69,  99, 100,  77,  78,  78,  70,  79,  71,\n",
       "        79,  80,  99,  90,  80,  71,  37,  38,  11,  95,  88,  89, 114,\n",
       "       105,  80,  81,   2, 113, 117, 109,  65,  56,  81,  72,  81,  82,\n",
       "        66,  58,  86,  87,  82,  74,  72,  63,  40,   1,  90,  91,  67,\n",
       "        58,  83,  74,  88,  80,  84,  75,  92,  93, 118, 109,  64,  56,\n",
       "        80,  72,  84,  85,  69,  60,  85,  76,  85,  28, 108,  99,  72,\n",
       "        73,  84,  76,  85,  27, 106,  97,  10,  86,  74,  75,  50,  41,\n",
       "        70,  62,  86,  78,  71,  62,  87,  78,  88,  79,  89,  80,  91,\n",
       "        82,  50,  51,  91,  92,  92,  84, 105,  97, 120, 111,  93,  84,\n",
       "        17, 117,  93,  85,  95,  87,  95,  96,  18,  19,  96,  87, 114,\n",
       "       106,  12, 104,  96,  97,  97,  98,  98,  89,  98,  90,  99,  91,\n",
       "       103,  25,  76,  29, 100,  91, 100, 101, 101, 102,  79,  70, 102,\n",
       "        93, 105, 106, 102, 103, 121,  24,  65,  57, 103,  94,  12,  95,\n",
       "       105,  96,  73,  65, 106,  98, 118, 110, 106, 107,  13, 104, 107,\n",
       "        98, 107,  99], dtype=uint64)"
      ]
     },
     "execution_count": 45,
     "metadata": {},
     "output_type": "execute_result"
    }
   ],
   "source": [
    "gmsh.model.mesh.createEdges()  # forces Gmsh to assign unique tags to edges\n",
    "edge_tags, edge_node_pairs = gmsh.model.mesh.getAllEdges() \n",
    "edge_node_pairs"
   ]
  },
  {
   "cell_type": "code",
   "execution_count": 46,
   "id": "7db59f46",
   "metadata": {},
   "outputs": [
    {
     "data": {
      "text/plain": [
       "(2, array([36, 45, 35], dtype=uint64), 2, 1)"
      ]
     },
     "execution_count": 46,
     "metadata": {},
     "output_type": "execute_result"
    }
   ],
   "source": [
    "element_types, element_tags, element_node_tags = gmsh.model.mesh.getElements()\n",
    "\n",
    "gmsh.model.mesh.getElement(element_tags[1][10])"
   ]
  },
  {
   "cell_type": "code",
   "execution_count": 47,
   "id": "33c2ba12",
   "metadata": {},
   "outputs": [],
   "source": [
    "element_types, element_tags, element_node_tags = gmsh.model.mesh.getElements()\n",
    "triangles = [nodes for elem_type, nodes in zip(element_types, element_node_tags) if elem_type == 2][0]\n",
    "triangles = triangles.reshape(-1, 3)\n",
    "triangles = triangles - 1\n",
    "\n",
    "def orient_batch(arg):\n",
    "    indices = np.argsort(arg, axis=-1)\n",
    "    res = np.take_along_axis(arg, indices, axis=-1)\n",
    "\n",
    "    return res\n",
    "\n",
    "triangles = orient_batch(triangles)"
   ]
  },
  {
   "cell_type": "code",
   "execution_count": 48,
   "id": "30ed611f",
   "metadata": {},
   "outputs": [],
   "source": [
    "vertex_marker_is_boundary = np.zeros(surface_node_tags.shape[0])\n",
    "vertex_marker_is_boundary[boundary_node_tags] = 1"
   ]
  },
  {
   "cell_type": "code",
   "execution_count": 49,
   "id": "b2e1dae9",
   "metadata": {},
   "outputs": [],
   "source": [
    "all_edges = triangles[:, [[1, 2], [0, 2], [0, 1]]].reshape(-1, 2)\n",
    "all_edges = np.sort(all_edges, axis=-1)\n",
    "all_edges, _, indices, counts = np.unique(all_edges, axis=0, return_counts=True, return_inverse=True, return_index=True)\n",
    "edge_marker_is_boundary = (counts == 1).astype(int)[:, None]"
   ]
  },
  {
   "cell_type": "markdown",
   "id": "a951e3d3",
   "metadata": {},
   "source": [
    "## Triangles to edges"
   ]
  },
  {
   "cell_type": "code",
   "execution_count": 50,
   "id": "997e8a21",
   "metadata": {},
   "outputs": [],
   "source": [
    "triangles_to_edges = indices.reshape(-1, 3)"
   ]
  },
  {
   "cell_type": "markdown",
   "id": "f09f3c5b",
   "metadata": {},
   "source": [
    "## Vertices to edges"
   ]
  },
  {
   "cell_type": "code",
   "execution_count": 51,
   "id": "4b6d772d",
   "metadata": {},
   "outputs": [],
   "source": [
    "vertices_to_edges = []\n",
    "\n",
    "for test_idx in range(points.shape[0]):\n",
    "    vertices_to_edges.append([])\n",
    "\n",
    "for e_idx, edge in enumerate(all_edges):\n",
    "    for pidx in edge:\n",
    "        vertices_to_edges[pidx].append(e_idx)"
   ]
  },
  {
   "cell_type": "markdown",
   "id": "ba7d021f",
   "metadata": {},
   "source": [
    "## Edges to edges"
   ]
  },
  {
   "cell_type": "code",
   "execution_count": 52,
   "id": "db433d5a",
   "metadata": {},
   "outputs": [],
   "source": [
    "edges_to_edges = []\n",
    "\n",
    "for test_idx in range(all_edges.shape[0]):\n",
    "    edges_to_edges.append([])\n",
    "\n",
    "for e_idx, edge in enumerate(all_edges):\n",
    "    \n",
    "    edges_to_edges[e_idx].extend(vertices_to_edges[edge[0]])\n",
    "    edges_to_edges[e_idx].extend(vertices_to_edges[edge[1]])\n",
    "    edges_to_edges[e_idx] = list(set(edges_to_edges[e_idx]))\n",
    "    edges_to_edges[e_idx].remove(e_idx)"
   ]
  },
  {
   "cell_type": "markdown",
   "id": "568290e5",
   "metadata": {},
   "source": [
    "## Edges to triangles"
   ]
  },
  {
   "cell_type": "code",
   "execution_count": 53,
   "id": "38a9565d",
   "metadata": {},
   "outputs": [],
   "source": [
    "edges_to_triangles = []\n",
    "\n",
    "for test_idx in range(all_edges.shape[0]):\n",
    "    edges_to_triangles.append([])\n",
    "\n",
    "for t_idx, edge in enumerate(triangles_to_edges):\n",
    "    \n",
    "    for e_idx in edge:\n",
    "        edges_to_triangles[e_idx].append(t_idx)\n",
    "\n",
    "for t_idx, v in enumerate(edges_to_triangles):\n",
    "    if len(v) == 1:\n",
    "        edges_to_triangles[t_idx].append(-1)\n",
    "\n",
    "edges_to_triangles = np.array(edges_to_triangles)"
   ]
  },
  {
   "cell_type": "markdown",
   "id": "af967789",
   "metadata": {},
   "source": [
    "# Vertices to triangles"
   ]
  },
  {
   "cell_type": "code",
   "execution_count": 54,
   "id": "9e8f5003",
   "metadata": {},
   "outputs": [],
   "source": [
    "vertices_to_triangles = []\n",
    "\n",
    "for i in range(points.shape[0]):\n",
    "    vertices_to_triangles.append([])\n",
    "\n",
    "for cidx, cell in enumerate(triangles):\n",
    "    for pidx in cell:\n",
    "        vertices_to_triangles[pidx].append(cidx)"
   ]
  },
  {
   "cell_type": "code",
   "execution_count": 55,
   "id": "c9e1b80a",
   "metadata": {},
   "outputs": [],
   "source": [
    "def get_adjaset_triangles(edge: int) -> np.ndarray:\n",
    "    \"\"\"Returns the idx of the triangles that share the edge.\n",
    "\n",
    "    Args:\n",
    "        edge (int): edge index\n",
    "\n",
    "    Returns:\n",
    "        np.ndarray: triangle indices\n",
    "    \"\"\"\n",
    "    triangle_idx = edges_to_triangles[edge]\n",
    "\n",
    "    if triangle_idx[1] == -1:\n",
    "        triangle_idx = triangle_idx[:1]\n",
    "\n",
    "    triangle_idx.sort(axis=-1)\n",
    "\n",
    "    return triangle_idx"
   ]
  },
  {
   "cell_type": "code",
   "execution_count": 56,
   "id": "7794c76e-c6a7-4bd4-8a99-a66f4a712d02",
   "metadata": {},
   "outputs": [],
   "source": [
    "x, y = sympy.symbols(\"x y\")"
   ]
  },
  {
   "cell_type": "code",
   "execution_count": 57,
   "id": "11f78ac7-0cac-4255-9db2-d685fb9c10d3",
   "metadata": {},
   "outputs": [],
   "source": [
    "F = sympy.Float(0)\n",
    "right_vals = np.zeros((points.shape[0]))\n",
    "right_vals[:] = sympy.lambdify((x, y), F)(*points.T)\n",
    "\n",
    "D = sympy.Float(1)\n",
    "bc_dirichlet = np.zeros((points.shape[0]))\n",
    "bc_dirichlet[:] = sympy.lambdify((x, y), D)(*points.T)\n",
    "\n",
    "N = sympy.Float(10_000)\n",
    "bc_neumann = np.zeros((points.shape[0]))\n",
    "bc_neumann[:] = sympy.lambdify((x, y), N)(*points.T)"
   ]
  },
  {
   "cell_type": "code",
   "execution_count": 58,
   "id": "a20516c7",
   "metadata": {},
   "outputs": [
    {
     "name": "stderr",
     "output_type": "stream",
     "text": [
      "100%|██████████| 200/200 [00:00<00:00, 30866.57it/s]\n",
      "100%|██████████| 320/320 [00:00<00:00, 2155.78it/s]\n"
     ]
    }
   ],
   "source": [
    "num_unknowns = triangles.shape[0] * 3\n",
    "stiffness_matrix = lil_matrix((num_unknowns, num_unknowns), dtype=np.float64)\n",
    "b = np.zeros((num_unknowns), dtype=np.float64)\n",
    "\n",
    "for t_idx, element in enumerate(tqdm(triangles)):\n",
    "    x1, x2, x3 = points[element[0], 0], points[element[1], 0], points[element[2], 0]\n",
    "    y1, y2, y3 = points[element[0], 1], points[element[1], 1], points[element[2], 1]\n",
    "\n",
    "    FF = lagrange_linear_poisson_matrix(x1, y1, x2, y2, x3, y3)\n",
    "    ff = lagrange_linear_poisson_right_values(x1, y1, x2, y2, x3, y3, right_vals[element[0]], right_vals[element[1]], right_vals[element[2]])\n",
    "\n",
    "    for test_idx in range(3):\n",
    "        for trial_idx in range(3): \n",
    "            stiffness_matrix[3*t_idx + trial_idx, 3*t_idx + test_idx] += FF[trial_idx, test_idx]\n",
    "        b[3*t_idx + test_idx] -= ff[test_idx, 0]\n",
    "\n",
    "\n",
    "P = 20\n",
    "for e_idx, _ in enumerate(tqdm(all_edges)):\n",
    "\n",
    "    nt_idx = get_adjaset_triangles(e_idx)\n",
    "    triangles_points = triangles[nt_idx]\n",
    "    triangle_point_coords = points[triangles_points]    \n",
    "    re_idx = np.where(triangles_to_edges[nt_idx] == e_idx)[-1]\n",
    "    \n",
    "    if edge_marker_is_boundary[e_idx] == 0:\n",
    "        cons = consistency_lambdified(*triangle_point_coords.flatten())\n",
    "        symm = symmetricity_lambdified(*triangle_point_coords.flatten())\n",
    "        penalty = penalty_lambdified(*triangle_point_coords.flatten(), P)\n",
    "        \n",
    "        for test_idx in range(3):\n",
    "            for trial_idx in range(3):\n",
    "                for p_idx in range(2):\n",
    "                    for n_idx in range(2):\n",
    "                        stiffness_matrix[3*nt_idx[p_idx] + trial_idx, 3*nt_idx[n_idx] + test_idx] -= cons[p_idx][n_idx][re_idx[0]][re_idx[1]][trial_idx][test_idx]\n",
    "                        stiffness_matrix[3*nt_idx[p_idx] + trial_idx, 3*nt_idx[n_idx] + test_idx] -= symm[p_idx][n_idx][re_idx[0]][re_idx[1]][trial_idx][test_idx]\n",
    "                        stiffness_matrix[3*nt_idx[p_idx] + trial_idx, 3*nt_idx[n_idx] + test_idx] += penalty[p_idx][n_idx][re_idx[0]][re_idx[1]][trial_idx][test_idx]\n",
    "    else:\n",
    "                        \n",
    "        cons_b = consistency_boundary_lambdified(*triangle_point_coords.flatten())\n",
    "        symm_b = symmetricity_boundary_lambdified(*triangle_point_coords.flatten())\n",
    "        penalty_b = penalty_boundary_lambdified(*triangle_point_coords.flatten(), P)\n",
    "        bc_d = bc_dirichlet_lambdified(*triangle_point_coords.flatten(), P)\n",
    "        bc_n = bc_neumann_lambdified(*triangle_point_coords.flatten())\n",
    "    \n",
    "\n",
    "        # SIP\n",
    "        for test_idx in range(3):     \n",
    "            for trial_idx in range(3):                \n",
    "                if True or (triangle_point_coords[0, trial_idx, 0] > 0) and (triangle_point_coords[0, trial_idx, 1] > 0):\n",
    "                    continue\n",
    "                    \n",
    "                stiffness_matrix[3*nt_idx[0] + trial_idx, 3*nt_idx[0] + test_idx] -=      cons_b[re_idx[0]][trial_idx][test_idx] \n",
    "                stiffness_matrix[3*nt_idx[0] + trial_idx, 3*nt_idx[0] + test_idx] -=      symm_b[re_idx[0]][trial_idx][test_idx] \n",
    "                stiffness_matrix[3*nt_idx[0] + trial_idx, 3*nt_idx[0] + test_idx] += penalty_b[re_idx[0]][trial_idx][test_idx]\n",
    "                \n",
    "\n",
    "        for test_idx in range(3):\n",
    "            if True or (triangle_point_coords[0, test_idx, 0] > 0) and (triangle_point_coords[0, test_idx, 1] > 0):\n",
    "                for trial_idx in range(3):           \n",
    "                    x = triangle_point_coords[0, test_idx, 0]\n",
    "                    y = triangle_point_coords[0, test_idx, 1]                    \n",
    "                    phi = np.arctan2(y, x)\n",
    "                    \n",
    "                    \n",
    "                    b[3*nt_idx[0] + test_idx] = 1 if np.isclose(phi, np.pi / 4) else -1 if np.isclose(phi, -3*np.pi / 4) else bc_n[re_idx[0]][trial_idx][test_idx]\n",
    "                    # b[3*nt_idx[0] + test_idx] += bc_neumann[triangles_points[0]][test_idx] * bc_n[re_idx[0]][trial_idx][test_idx]\n",
    "                    \n",
    "                continue\n",
    "            \n",
    "            # Dirichlet\n",
    "            for trial_idx in range(3):                                                    \n",
    "                b[3*nt_idx[0] + test_idx] += bc_dirichlet[triangles_points[0]][test_idx] * bc_d[re_idx[0]][trial_idx][test_idx]\n"
   ]
  },
  {
   "cell_type": "code",
   "execution_count": 59,
   "id": "c8e71f3c",
   "metadata": {},
   "outputs": [],
   "source": [
    "from scipy.sparse import bmat"
   ]
  },
  {
   "cell_type": "code",
   "execution_count": 60,
   "id": "6086d0ed",
   "metadata": {},
   "outputs": [],
   "source": [
    "M = np.random.rand(stiffness_matrix.shape[0], 1)\n",
    "M_sparse = lil_matrix(M)\n",
    "M_T_sparse = lil_matrix(M.T)\n",
    "zero_block = lil_matrix((1, 1))"
   ]
  },
  {
   "cell_type": "code",
   "execution_count": 61,
   "metadata": {},
   "outputs": [],
   "source": [
    "A = bmat([\n",
    "    [stiffness_matrix, M_sparse],\n",
    "    [M_T_sparse, zero_block]\n",
    "], format='csr')"
   ]
  },
  {
   "cell_type": "code",
   "execution_count": 62,
   "metadata": {},
   "outputs": [],
   "source": [
    "# A = csr_matrix(A)"
   ]
  },
  {
   "cell_type": "code",
   "execution_count": 63,
   "id": "8e780f0c",
   "metadata": {},
   "outputs": [
    {
     "data": {
      "text/plain": [
       "np.float64(5.294277463318842)"
      ]
     },
     "execution_count": 63,
     "metadata": {},
     "output_type": "execute_result"
    }
   ],
   "source": [
    "coefs = pypardiso.spsolve(A.tocsr(), np.r_[b, 0.])[:-1].reshape(-1, 3)\n",
    "coefs.sum()"
   ]
  },
  {
   "cell_type": "code",
   "execution_count": 64,
   "id": "076700a8",
   "metadata": {},
   "outputs": [],
   "source": [
    "param = np.linspace(0, 1, 3)\n",
    "gridx, gridy = np.meshgrid(param, param, indexing=\"ij\")\n",
    "\n",
    "mask = (gridy <= 1 - gridx)\n",
    "\n",
    "gridx = gridx[mask]\n",
    "gridy = gridy[mask]"
   ]
  },
  {
   "cell_type": "code",
   "execution_count": 65,
   "id": "8e659ebb",
   "metadata": {},
   "outputs": [],
   "source": [
    "mapping_function_lambdified = dill.load(\n",
    "    open(\"../../calculations/lagrange_linear_mapping_x\", \"rb\")\n",
    ")\n",
    "interpolation_function_lambdified = dill.load(\n",
    "    open(\"../../calculations/lagrange_linear_interpolation_x\", \"rb\")\n",
    ")"
   ]
  },
  {
   "cell_type": "code",
   "execution_count": 66,
   "id": "81ee76e7",
   "metadata": {},
   "outputs": [],
   "source": [
    "global_x, global_y, global_z = [], [], []\n",
    "\n",
    "for t_idx, element in enumerate(triangles):\n",
    "    \n",
    "    x0, x1, x2 = points[element[0], 0], points[element[1], 0], points[element[2], 0]\n",
    "    y0, y1, y2 = points[element[0], 1], points[element[1], 1], points[element[2], 1]\n",
    "    \n",
    "    physical_x, physical_y = mapping_function_lambdified(gridx, gridy, x0, y0, x1, y1, x2, y2).squeeze()\n",
    "    \n",
    "    physical_z = interpolation_function_lambdified(\n",
    "                                        gridx, gridy,\n",
    "                                        coefs[t_idx, 0], \n",
    "                                        coefs[t_idx, 1], \n",
    "                                        coefs[t_idx, 2],\n",
    "                                        ).squeeze()\n",
    "    \n",
    "    global_x.append(physical_x)\n",
    "    global_y.append(physical_y)\n",
    "    global_z.append(physical_z)\n",
    "    \n",
    "global_x = np.concatenate(global_x)\n",
    "global_y = np.concatenate(global_y)\n",
    "global_z = np.concatenate(global_z)"
   ]
  },
  {
   "cell_type": "code",
   "execution_count": 67,
   "id": "114315a1",
   "metadata": {},
   "outputs": [],
   "source": [
    "# # EXTENSIVE\n",
    "# plot_data = [\n",
    "#     plotly.graph_objects.Mesh3d(\n",
    "#                                 x=gx, \n",
    "#                                 y=gy,\n",
    "#                                 z=gz, \n",
    "#                                 )\n",
    "#         for gx, gy, gz in zip(\n",
    "#                                 global_x.reshape(-1, gridx.shape[0]), \n",
    "#                                 global_y.reshape(-1, gridx.shape[0]), \n",
    "#                                 global_z.reshape(-1, gridx.shape[0])\n",
    "#                               )\n",
    "#     ]\n",
    "# fig = plotly.graph_objects.Figure(data=plot_data)\n",
    "# fig.update_layout()"
   ]
  },
  {
   "cell_type": "code",
   "execution_count": 68,
   "id": "73a9c79a",
   "metadata": {},
   "outputs": [
    {
     "data": {
      "application/vnd.plotly.v1+json": {
       "config": {
        "plotlyServerURL": "https://plot.ly"
       },
       "data": [
        {
         "intensity": {
          "bdata": "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",
          "dtype": "f8"
         },
         "type": "mesh3d",
         "x": {
          "bdata": "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",
          "dtype": "f8"
         },
         "y": {
          "bdata": "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",
          "dtype": "f8"
         },
         "z": {
          "bdata": "X3Ka1H4Z8D9gt6zQdsDsPwKKJPjvTek/Uipl7VnK8T+jEyGBFhHwP0XiLwY1e/M/1satd7578z9r2mVsDJrxPwDcO8K0cO8/9grqjCgR8D8WPUQD7V7sPyyeTEQlTek/rtCgIHtS4j+d11lBPN3oP4zeEmL9Z+8/yJ4aF5fM5T+3pdM3WFfsP+JslA2zRuk/GF9vkCdP4j9sNMqkVubkP8AJJbmFfec/tABm2fzY6D8I1sDtK3DrP0+iXCLSYu8/Ry7YU9BI2D9aWNqOgMfhP5CZyPOYauc/ypNw419s3j8bi6ZWSNnkP6Z8hLn3R+I/MZQNMT492D8hWkr/j+bbPxEgh83hj98/EF1p2nHA4T8IwIfBGpXjPwfwS5xEYuc/6YXyOwcwyj/yPCm6BDrWP/A2WdYFXN8/25wiSuue0j/YllJm7MDbP8H2S/bSJdg/pHY0lRkKyj/slcXlktTNP5paKxuGz9A/Sbmqr0Mk1j/tSPNXgAnYP0A3u5R6Q98/lao8A98loz910OosoPjCPyI7g0zkk9A/0m2MD7iPvj+43OFzBHfNPy1DvU5Axsk/lnnZqw1Poj8tvrzyUBejP8QCoDmU36M/YW/3/v68wj+GQLDQD+/CPy5AfEkdc9A/ahGIoB1wwL/QgJ5AVumnvwlE4wDK7aE/0v4i9g1aqL8Gxl5LEn2hPwNI2pVaDKE/D8kEYFCywL86525CWgvEv2QF2SRkZMe/rq2mW3UNqb8sk6dyzjizv+HIxchWrqA/gNnl/Zn/0r8k9wcVEu3Ov0c7RC7w2se/kMTtDb+By7+zCConnW/Evx/WDyBKBMG/aW7r+cIj079jKGHPyIXWv13i1qTO59m/K/TvvQc+z78QtG20CQHTv4QLCYiJNMi/llCN09E93r9Kkw6YGizcv/7Vj1xjGtq/NmtO42rC2L/qrc+ns7DWv9WFD/MDR9O/oaFgbcNg3r8jicnfELDhv3XB4gjAL+S/YPhXG9FU3L+CNMW2F6rgvx9PT8neSNq/CPhB/lgf5b/Clgb0obDkv301y+nqQeS/uF1KE/Yt4r9z/A4JP7/hv9GGpVAmed6/76NMDxst5b/WAgADWmTov75hs/aYm+u/a3XLKX3C5L9S1H4dvPnnv+dGSkTfV+S/exzuemG467/5L8aMaK7rv3dDnp5vpOu/ik/I7Wl16L8IY6D/cGvov5mComByMuW/DznbqJK+67/yEAUSDbrrv9ToLnuHteu/rtdi/7GC77+Rr4xoLH7vvyc79apoo/G/w87qfOt+8z+Hhx1JKJrxP5eAoCrKau8/BCOK+rqV9T/J27zG97DzP0Z3KXiKrPc/rS5RxlGu9z8QGvBBOoj1P3QFj70iYvM/SxsB0UGx8z+uBqBMKovxP9EPYrdjaO8/+uVVtFtk7z/kP8xUhoXxP8uMbc/eWPM/bM2MsWpv6z86Z8+mGxbvP9+0w655euc/wqsAQpd05z9IgrIwpmDqP85YZB+1TO0/ZRPheLwQ7z/2dMmzZf7wP4S94NdwVvM/alcIlZhl5z+MtgqJYUvqP68VDX0qMe0/1OWVOP+U4z/2RJgsyHrmP3zoRrjLiN8/MIy01A503z9vRQTbksDhP8ZErksex+M/kdOxNS1w5j/o0lumuHboPwphCQFTJu0/BEf/T11J3z8uYGHMQqThP9kcw/DWo+M/XmP0kVsJ2D+13LfagwjcP7h/6dNZydA/a4xwSKqr0D9cscojWL/SP03WJP8F09Q/Wp8OP8zo2z9KxGgaevzdPyRZ1hr3kuM/Atv4ZH130D+WMf9Z3H3SPyqIBU87hNQ/7N+3Uc3uwj8UjcQ7i/vGP1En+GV/uqM//lfqRTKFoj8ZRWimXtOiPzQy5gaLIaM/ui7B12Woxj8AquDv8LvGP7rjA4+/V9Q/bmhTsHbAoD/Tcsghz6mgPzh9PZMnk6A/AJt6UWc5s7/NFcAYu0Szvxt1j/2Eace/dWAIXdnFx7+ciLrOhNDLv8KwbEAw28+/P9Dn6ewMtL+MIEzNQyK8v62BBJljx50/VZpZA+wzyL8KbnNLM1fMv9+gxkk9PdC/vmqKIUkB07+YVJfF7BLVv1EIaEGc6Nm/M4yhVjob2r9WZDbP/zTevz2e5aNiJ+G/W1qhlCxL1b9+MjYN8mTZv4MoodIee9C/x3o9325K2r+CvooIYXDevx4B7JgpS+G/70P8QDiq4L/M5aJVMb3iv3rKWRI5L+S/xuJSrJ9I5L+sTyhX8Fvnv5G8/QFBb+q/kFccxMra4r91xPFuG+7lv1nM5dv1bOG/lieeog1Z5L88KXbLVXLnv+MqTvSdi+q/RpMSNeL557/slOpdKhPrv/b+hse2muu/DHSlLkWx67/nRKYFc7Xvv+GKU27Q3PG/CIdoUe0v67/jV2koGzTvvwSaK3SVruq/BkN2LT6l8b9EC2FZqsTxv4HTS4UW5PG/bfOkaPuB77/og3rA08Dvv85gXXZ6ueu/7aE46YBJ9r86RK7NPB70v4bmI7L48vG/wHpRIv/7878NHccGu9Dxv5RTalt9rvG/nHyz1qS09z8YLc1xmoj1P5Pd5gyQXPM/UqPCyIef+j/OU9xjfXP4PwjK0bpqiv0/XicND22O/T/ms2/+d+z6P29A0u2CSvg/ULtUPT10+D/YR7csSNL1P0FPnGsNWvM/BRoUJuhY8z8fCVEuvsj1Pzn4jTaUOPg/PTHkGq398D9XICEjg23zP+uQaB/kRO0/N3TlWto+7T9PxAPSFGTwP4LOlHa8KPI/2WUUZ51q8z8McKULRS/1P5cRtqDNNfg/KRhD0uwq7T/FzUBm5FPwP3UPYGNSEvI/zOCf/T526D8tZN73GvPrP3Cp/CiRweM/5TRBxvqz4z9UoikHLPPlP8MPEkhdMug/8JYCZX7k6z9gBOulryPuP3784QGBCvI/cH/BPXeW4z9wiFGDssvlP2+R4cjtAOg/wgHxdB383T/giQgASjPhP6MEX25My9Q/fnKVB1Cj1D8HSZpAv8zWP5Afn3ku9tg/GA6WBpsd4T9ceRijUjLiP/BiYQmO6ec/66zq8mxd1D/mpOJHjHbWP+Kc2pyrj9g/hWnMYeq7xj98WbwLKe7KP8/kDXfr86I/Or6zCHlYoT/ZwdxN3gehP3jFBZNDt6A/+X57nvJ/yj/hv8Xvy2vKPzIHZX3jVNg/rs2TuBgNnj/UN5W/LIKcP/qhlsZA95o/F7L1gHoivL+OVzV/NYW8v80rCJgd5M+/FNUfu+Iv0L8P174ApnTSvwrZXUZpudS/xYtwJU+Lvb/YSfYdLk/DvxrzeIayo5Y/2K/s0kB40L/TaeB+J8zSv84j1CoOINW/vmWxXUVl2b+5H6UJLLnbv9INO/QkKeG/m5NCS1JM4b8+pfZrbKTjv+G2qoyG/OW/FKysmxsE3L+tZ4ruJ1rgv/Ew1KCSb9W/b0CcumVs4b9D7Za4Is3jvxeakbbfLea/Ls7lsFru5b8Ce+CuF0/ov+xbL6dPcOq/W/kU8h+W6r8EiCukqFPuv1YLIauYCPG/Lq2btb146L/XO7JnRjbsvwJhInlbW+a/+NSE9+mt6r+RXwBrsHXuvxX1PW+7HvG//no5E+Y077/MglpDVn7xv4IQdxfx3fG/deaqx3/x8b/BORUDbpL0vw2Nfz5cM/e/ZKMRo8yU8b+w9nveujX0v1JgeH4ZOPG/rflJ8qpR9r9uSagDvsj2vzCZBhXRP/e/WPw/a4Ul9L8aTJ58mJz0vwT/NeRf+fG/p+ZwtCmU/L9Ssf5PZvb5v/57jOuiWPe/SFjoKUR7+b/0InbFgN32v+nJX59eYva/oK2LTu2X/T/ltaWA+uz6Pyq+v7IHQvg/lNHbeM0NAUBsq9EjqHD/P1fMcUqkTwNAiP4QG7pUA0ACO+cMp3ABQPnuev0nGf8/i91tACJz/z+AVhrk+6r7Pwa+ucrPPPg/8YOwono5+D8ecYzv+Zn7P0teaDx5+v4/aMcDYbgt9T+VtN+tN474P98KVx/2IfI/TuSUajsc8j+MLXQtUx/0P8t2U/BqIvY/NhFnFR6K+D91WkbYNY36Px8+OcAA+P4/gOZefbwN8j9+WibFEgX0P33O7Qxp/PU/vibRAsYi7j9eBzBJuQjxP3yA5AoTKug/7brws+oX6D9Wd7WuuTzqP8AzeqmIYew/XlgEQwn98D+TtmbAcA/yP0ZTECwd7vU/yQGmojXu5z+Iowz0ggbqP0hFc0XQHuw/q0YqSVUy4j9q6JCaokrkPxkXXd/p7Ng/3J8J6di32D/Gmyon1IPaP6+XS2XPT9w/H83hU4Ys5D8US/LygxLlP1DKPjMg/es/pEZgtP1b2D/7rH7SjBfaP1ITnfAb09s/QrmBitNsyj/whb7G8ePNP/SUC7GuhqA/NBkxOm7znD9gLIOiomGaP40/1QrXz5c/wyQ8ETNXzT8pZ0ae+QTNPzATmS38h9s/U0vQWw0Ilz8wziJEEaOTPw1RdSwVPpA/TomZli5Ow7/yOI8ZzrrDvwOOVmyvvtS/n8ess5UM1b98Fc3yqSfXv1lj7TG+Qtm/RbCiNCFbxL//S+OySZHIv0rrQuGPLoY/egkc/59p1b94c+vy85PXv3bduuZHvtm/lBWXIB1a4L+Uyn4aR2/hv2wmoEFq/+W/ks3VJyst5r/IrRAa1XTov/2NSwx/vOq/CFaCuH6d4b89Nr2qKOXjv/u8XZKkG9q/vJUSZI1Y5r9L87E1Mqvov9pQUQfX/eq/rMJqc4c27L87IApFLInuv853YcFACvG/r+KZMAAl8b8+VlI1LTfzv83JCjpaSfW/+1ImURDA7r8MnUstNXLxv5jgGEEgNuu/sNKBAPA18b+e7YyumFHzv4sImFxBbfW/V0rSFsM29L9EZd3Ea1L2v/7BIi2WN/e/OGvPGKhX97/yUzIrDOX6v608lT1wcv6/91cHHnR09r+yQGow2AH6v7ZEPyNAkfW/NfbTmXGo/L+cYUUpOpn9vwTNtrgCiv6/26a/2kcH+r9CEjFqEPj6v4FXqxseZve/uDEWtWYwA8B8n2/xhkQBwH4akltOsf6/a7O6e/zJAMBeQihwObz9vz1qvoQkx/y/Zf3G4IBfA0BkuTDAKm8BQMjqND+p/f4/CPmjD6yiB0AItQ3vVbIFQKz0gD7X5QtAeea4iwfRC0D2k+zGWN0HQHJBIAKq6QNAhl2a82msBUACC84uu7gBQCap97aYD/8/xjUw+OcF/z9U9Vqal6ABQMbPnTg7vgNAKBcVlWiM+j8LzJrRr8f+P4r4+THpEvY/beaxT90M9j9qcFRsXXP3P2b69ojd2fg/vJoACqi1/j9cklETFA4AQIanJ2I5rwNAjKpzG+jx9T96305bw0f3P2cUKpuenfg/dM1vZ0MP8j9iAkunHmXzP7rg12Y9Wew/6r0WZcs+7D89JC/lCzntP5CKR2VMM+4/lCdDZ2pP8z+9Wk+niszzPzLw+htvf/g/NhmsxksC7D9GZYv0EvTsP1WxaiLa5e0/8i4fI20T5T8Ce/5QNAXmP12JJP8cSdw/Jdpnk28C3D+CylURUZPcP+C6Q48yJN0/+zQlVZrb5T8qLRwUCyTmP+N8luD8te0/vwdy1XGO2z8QPCV1XxfcP2Bw2BRNoNw/koDLUxwIzT8z6TGT9xnOPy+Nl+Wnmpc/SN4ggMOmkj/kR7qhR5qMPzfTMkMI54M/wBkgWGZyzT91ojdiMufMP9sLHiD6R9w/1jj/wFn7hj8uRHMyTyZ7P2Et0MXVq2A/pFeMSFSOyL8QsQhr1yTJv2tRlBYvRtm/oKQbwMif2b9sBa+aFMDavzhmQnVg4Nu/YJKtFdXVyb/4U9TKbBbMv8zf9sgqBmu/zRDU0HUT2r+IbQCt1Tvbv0TKLIk1ZNy/p2Oghork478EkrZ0unjkv+e+1iRav+q/ZvDRGbP06r/MfDlNfzrsvzEJoYBLgO2/0ncS0rKq5L83BHoFf/Dlv3v+pRRlwdy/vGfQVw8w6788SaEBV37sv7wqcquezO2/CAEHcepx8b/Ice9FDhnyvzLOJTbNS/W/NLD/ieVt9b+EC4ZQV+z2v9VmDBfJavi/6PfhYmc48r84U2gp2bbzvzd/iHfSBe6/xnkB4UeI9b/Ga/2BVhT3v8dd+SJloPi/EvzgFr0E+r8S7ty3y5D7v11+wEwygf6/6gDMSt65/r+OtHRr9IwBwKZog7H5vAPAHP7yjYXC+78mMwgNSBEAwE37GdEsy/i/aLUpnItIA8BNQCZ03poDwDLLIkwx7QPADIZjwp9UAcDwEGCa8qYBwF6tOtFnwf6/vXEiJtv9C8DW4oUV7g0IwPBT6QQBHgTAvGeqLnyvB8DV2A0ej78DwLpdMjcdYQPAc8AQ+Q3NC0CVddnwKukHQLcqouhHBQRAv9Dg/Rp0B0Dhhan1N5ADQAvhsAIoGwNAG6EhZe0oA0ARV6DGFj8BQA8aPlCAqv4/SBZCDuaNA0A/zMBvD6QBQHaLYrfe8gNAKMXwWHu6A0D+56gP0ooBQKgVwoxRtv4/Fcv1H7QTAEDW21utFcj7PwWi9c3Z2fg/w+uA4VKv+D/U1ZZffR/3P+a/rN2nj/U/QsWFqoOb+z9Ur5sorgv6P8KeinO0h/4/skGUysh++D8ocxbqqPn2P5+kmAmJdPU/UySiztbN8z/KVSTutkjyP+kNYKXJOe4/9kL1EFMC7j+khdRckaDsP1LIs6jPPus/aWTUtygq8j/ABcTdR3nxP1cnLucnU/U/6sgrW3K37T9YzP141F7sP8bPz5Y2Bus//von3NQl5j9s/vn5Ns3kPyVaSLpuKN0/+ivrVr7L3D8yRj2ehIzbP2lgj+VKTdo/wA6JN+2b5D/cGzJbUPzjP4SHnEP70eo/CgaFz9ZJ3D9yrWg6aBPbP9pUTKX53Nk/fpe8CsTrzD9O5oPg5n7KP30u8manPYQ/jR0WsuWNcj8oFJTJCtIxPwib41ikU3C/0V/vyzPOyT/veMOjrULJP1sHJzX8g9k/r1K1I3TGab9cQmeav5h8v7DteZEiJ4a/azI6I8oRzL80l35Pdo/Mv8bH8jo93tu/96w4Wcs33L87e2+KAIbbv39Jprs11Nq/GX6o+2A4zb+hGhZey9TLvxwS/SZaCZC/ALItqrS83L/GFGFgyAHcv4t3lBbcRtu/8OXRPuHu5b9Tl+sZa5Hlv+HyjChof+2/Y3aGvgyx7b+MxqAdbZrsv7UWu3zNg+u/cMiJ2eq75b+ZGKQ4S6Xkv/o0GumRjdu/tQdXo6sA7r92DlMhO+DsvzcVT5/Kv+u/rYYi+fy0878NiiC4xCTzv3+JmSCkafi/yHKEByiI+L/M+6rBGRr3v9GE0XsLrPW/PHL8hfc6879A+yJA6czxv2Dj6AiO2+u/hPQYVzfE+L82UJhBh0b3v+mrFyzXyPW/UoUwz24OAMBWZuCILZ/+v2KQ1PLBugPAos+L/trRA8DqXjk/ZKMBwGTczf/a6f6/pKWPvwu2/r80xOpAHln6vwSsB4JhyPW/G/yj/vEODMCJQWjtZMUFwO0NWbiv9/6/WE8M7k4KCMDFlNDcwcABwJSidN2rBQTAyKV3oqllA8AE76mpQ2sBwIJwuGG74f6/rj+gF1HCB8DqiNIe68cFwJTZyIz4HgzA0xW8MHchA0CCgi5UiDwBQGPeQe8yr/4/GZ11AQ25AECQE9BJPKj9P71IXqRFofw//s/Z0eSq/D/rT/O5rAL6P9jPDKJ0Wvc/GScNIGGn/T8GpyYIKf/6PzR+QG7do/4/O9ZVswKC/j+xvdIk2ez6PyelT5avV/c/kE3cVHQL+j8GNVnGSnb2P+bEYvbllPU/tuJcvktw9T94s+lko1DzPzuEdgv7MPE/a2JJpJVW9j8uM9ZK7Tb0PyDiNYrfPPc/pjCOE/NP9T8CF+9rJzjzP1/9T8RbIPE/nbJw4VN58T/zMaNzEMPuPyhppl5pRes/bygzkekN6z9fkpE1BK/oP0/879keUOY/bgMoypyM7j9ebYZuty3sPzZvjgGoBfE/0taRL23P6j8Gl+a2qXvoPztXOz7mJ+Y/imjBAQv94z++KBaJR6nhP4T04adRVdo/l4xdrWj32T856k2CBcbXP9tHPleilNU/NOeC1CJ74T8FFvs+cWLgPxwIV1KR+uU/aJVfeFuA2T9QPYVts17XPznlqmILPdU/u6KuHK5FyT+M8vkGXgLFP4VWeditVm2//I0mi8DBgb81pYXKEzmGv2685AlnsIq/hLIG2ilhxD8RwRCmtBnEP/TmX94379Q/WJ/9ss5FkL8F5Yfgc5qRv7IqEg4Z75K/6hnp7pXRy7+gYpqUKvzLv/U/uQM5zdq/cWv5dJUZ278cm4mNmCfZv8jKGaabNde/v/1sXjyKzL8WXY2PQqbIv94kOZduCpe/3u5ZEp2U279M+d8Yq5DZv7sDZh+5jNe/RR8YumCk5L98JFu9Z6LjvxtHA+tyfuu/WthjaRqh67/hovC2WVXpv2htfQSZCee/2qj2t9PA479hc4MFE3Xhv7TyEg0awde/l6kv3+Hj67/TbPenhIrpvw8wv3AnMee/4WvyLPXM8b9/TVaRRqDwv/cCTWr5p/W/1PEF75y29b/Uy/DVkJXzv9Ol27yEdPG/rU7FmfCr8L9YUWAByRXtvwtXCYmIQue/ZwKTcKjd9b8iAAxyQ6/zv939hHPegPG/lJA4ruJW+r9OjrGvfSj4v8Ae3usc0P6/j+ASJ3nK/r/iNv5PKTD7vzaN6XjZlfe/unFRy7sp+L8OyDz0a4/0v+YCkG/+iPG/xxjs5QRDA8C8W4rYGxT/v+qFPOUtove/b3LzgpZYAcAMD5kSPz/7vy+Y9T9Q3P6/nSlTTIUD/b9I6bBPs1L6v/KoDlPhofe/m3USfb7cAMDgqoL9qgj/v2dW+1O6NwPAbAwDBRyp/D/+ewseqQD6P4/rEzc2WPc/xsFciTB/+T9YMWWivdb2PyB3tg1FVfY/63Gqeupb9j9UYCq4uyD0P75OqvWM5fE/dGQVvm/V9j/eUpX7QJr0P/5WgAH1Tvc/KgM9B+c99z+ZBSg//JD0PwgIE3cR5PE/fnRK62w39D/udjUjgorxP9PlV8/yMPE/LskgKrYW8T+xBrVHOVnuPwZ7KDsGheo/5VTV+/508T8fHh7ryhXvP5zgic1H0/E/Q0z8d4cD8T8wrQKc9TruP9nBDEjcbuo/+P4o7hMt7D+iEzOa+mDoP2tlWewYU+Y/gLuoAXAl5j/WRMBYcbvjPyzO169yUeE/ZoYdcOA26D+8DzXH4czlP01Rkt5QSOo/3+LnMQ/45T9UBEF2HZbjP8glmrorNOE/6uJtFYdi4D+8CI6zKgHcP+nF5/H9mdU/J39qlopJ1T8O8I979vPSP/RgtWBintA//gwl1Ba12z/lfUq5gl/ZP2vN74hREOE/V16EGgzq1D9v2a5YgKLSP4dU2Zb0WtA/SrinKMMaxD/0XPlJVxe/P6jBlDse6Ym/vdEbXENVkb+Aw6QfKrWRv0K1LeMQFZK/jlMruEcMvj8eF0kHTvS9P+Nm1xF4G9A/kPOzC59ul79c7qCoWeyWvyjpjUUUapa/SiNIhzGlyL+kwuXa6JTIvxHkjJZHLte/OVr1Qphp17/TzWSPBRvVv21B1NtyzNK/1uSyRA8Fyb8KzJHd6WfEv8mp2Btwt5m/avbF60jL17+mTnIlMGzVv+OmHl8XDdO/Sa2Sav504b9n2WgHckXgv11fQl9YBOe/+TjB4lIb57+UuMu0hbPkvzA41oa4S+K/cX5EoQZb4L8Z/J3mcubbv9KHj790NdO/kBZ8kopK578tF4ote9jkv8oXmMhrZuK/nl+Ta0MX7b87YKEGNKXqv1ZUVSL+cfG/Npc7nPp58b9qaZni5yPvv2eku4zaU+u/PB+YzjKz6r85Wrp4JePmvwsQuWRwcuK/88THouSQ8b+EdqHcNELvvyFjs3OgYuu//BN5g6SP9L9KCgJP2p/yvwRjKmRkjve/0EoAWpiN979zV5qV6eX0vxZkNNE6PvK/7gXnCuGg8r8iJQKNZPLvvxeCm3dTaOu/KRrpLU/l/L9dAeFchpP3v5Ho2Iu9QfK/ugx35NE/+r/u824TCe70v0v/BJtUmve/+ehG9KKd9r/khZBJOm/0v88i2p7RQPK/cAiA9w+8+b9bpclMp433v+cnufp82vy/PSiEngRc9j9OW9oE2h/0P2COMGuv4/E/uq8l2Gb78z/M4ns+PL/xPzg3xxHJmvE/Ef0CXS6f8T/dzcHg8VfvP5ihfQeHces/ysyBRVG+8T9Pbb+xN5bvP4OcAC503fE/aU1mZxnV8T+wDCjVCo3vP41+g9vib+s/riJGN7MW7z+MlKE9i/nqP4uqv58zg+o/RNW5ZgRf6j9OYDAqHTfnP1frpu01D+Q/zC1YwWLd6j/VuM6Ee7XnP1OG9hvBW+s/yWstgAZG6j+HrDeozSXnP0XtQdCUBeQ/85y9n47M5T+x3cfHVaziPx3OTb8WU+E/3Mab2wEv4T+gdaXpXyveP4ddExy8+Nk/QlKY13uP4j81Rs/wKXbgP6fdlNP17+M/+gYFNoIN4T+2lVRg4/rdP3kdn1TC2tk/lscQBk5f2T9YT1v6LD/VPziBF6CXo9A/qydezn5g0D+tPrSSVpvMPwQurIivdcg/pFyNaJwI1T9QVInjyPXSP56RvAK6sNk/pPPVfSYU0D8BnObddCrMP7pQIcCcLMg/erSlmCX0vT/sHRtddfi1P3GWMRg7oZG/IC3lmhFQlb8SZ4IpCbWUvwWhH7gAGpS/rIzMVYw3tT8vPiVyTl61P1AyKYmO4cc/pWh3Yy5Hmr/T/lbVfWCYvwGVNkfNeZa/vW/ciCdoxL+DYhh3USvEvzP5pKK0w9K/+RbHQUz00r8yxaZHb9DQv9jmDJskWc2/66rnfnR6xL9eB6eKujLAvyQ/CdKDYpi/XOPkLfxA07/0jL3R9wfRvxltLOvmnc2/SeEf9dzm27/hiviY2K3Zv5tvLd5eRuK/ovFIrDlY4r8Y6f0y/DvgvxzBZXN9P9y/SeqszM/K2b812RbaVJLVv5vij4FYys2/kTWhbgd64r+zM/GJbVPgv6ljgkqnWdy/KMwTaeHj5r9JymOER73kv75ihmO7Teu//J3XUYdY67/AMb07Gzrov4TFoiWvG+W/uPjjJOfF5L98jMkOe6fhv+am4O+NZty/6kRKhpdz678KpBaP10rovysD45cXIuW/wSU31Jny77/ihAPd2cnsv0wDEhHOOPK/zdq6xAg58r+O30TcHTXwv6DInedlYuy/4xqgcn3L7L9mJLShp8PovyyAylvpJOW/TIgUUZuN9r8uFz5hel/yvyBMz+KyYuy/VIbHtMRm9L82FfHEozjwv1uEehjuP/K/UwOj05Tk8b/mHdt9nQrwv/NwJlBMYey/2+BGqYk29L9u+35Tklzyv2O+6n5+iPa/xY/WGCZy6z/gVPupTHDrP/wZIDtzbus/5JLScs5Y7z8AWPcD9VbvPwJLZ2a7n/E/0ZxfeKR46z9OpkGdsW7rP8qvI8K+ZOs/Vt19FUQh6D/T5l86URfoP9wdnLLjyeQ/Uy/jZW/L5D+IBLBMl2nkP73ZfDO/B+Q/sHOfC9cW6D/kSGzy/rTnPwy4W7E+Yus/UO9z2qTR5D8AxpuO3mfkP7Gcw0IY/uM/J89f/LPb4T/YpYew7XHhP/1dlzyGy90/Icic+L/S3T8YIk53VNzbPw98//Xo5dk/aTVI0PRw4T9l4qAPv3XgP8IGQqSJ+OM/tvzV8BXe3T/Bz/CIA9nbP8yiCyHx09k/ZUeZ/Y1r2D9wGrSVe2bWPxSSXAoG+dI/DfjGpC4E0z+/rMwT3SrPP2RpC95cTcg/chZnNO5j1j/FdIYZLvXSP9g0B8Stw9k/WCSxxCcO0z+y8XEr4yTPP7Sagc12Lcg/CKXIre7Oyz8KTthPgtfEP18BL9KNgcE/HYLpyoCdwT+2p+xcSuitPw5ymePcSpW/ycACJfTRxD8z0ajiC121P3X/G39nBsg/AOA6VkWuwT8LhVd5JdStP9TreMyUIZa/xpMoY7TDrj9dztb4dkKUv+awNCVZY5K/OtNXpupgkb+37QZ9u6O/v1DzOyied82/89spGDBqlL/zt71sBjPAv6zk+4l1c5e/P0j36iTzkL8rOdeQeau/vyNQePMUjc2/4E4Kjm4auL/+2hFyj8TJv9hlq/AJ/MW/QedAJsHYxb8MH7hvwZrTv3fKT0wiSdy/1eQHhh3Iyb/WnZufb5LVv2nizuV5t82/obMA+vfNxb8G+ObH8ZvTvzuWzZLnUNy/yTWFCIwD0L/+02vTgbjYv8ERChQcINW/l9t8O8UN1b/oKPNl9KPfvxy7NMgRHeW/DNzVKCK52L+uFKapqKfhv4HcLhZ/ZNy/SskIHMUJ1b8r0/N6caTfv4Zu7+yOH+W/eJGS1IV/2r+szb4ZGY3iv6ZZHI1G9d+/eOKid8Xj378k/QHL1Sjmvw2JMtrIX+y/Pvfx4uOM4r8mgyLy1sPov0B9EgrlJ+W/4DMMEGzh37/cCCfwhSjmv8n3R9hVYOy/idHTRYP84r92wPQtUzTpvyKJoYNQCOa/iwpFZWgC5r+K1QuZvTPpv4qg0swSZey/kjh6AInd7L/JgSAabwfwv02z181U3PG/MY/KvuzM7L/ROLoDNiDwvwoqD6j12fG/siekCWVo6b8kCk5S5NvsvzPAfVTdA+a/",
          "dtype": "f8"
         }
        }
       ],
       "layout": {
        "template": {
         "data": {
          "bar": [
           {
            "error_x": {
             "color": "#2a3f5f"
            },
            "error_y": {
             "color": "#2a3f5f"
            },
            "marker": {
             "line": {
              "color": "#E5ECF6",
              "width": 0.5
             },
             "pattern": {
              "fillmode": "overlay",
              "size": 10,
              "solidity": 0.2
             }
            },
            "type": "bar"
           }
          ],
          "barpolar": [
           {
            "marker": {
             "line": {
              "color": "#E5ECF6",
              "width": 0.5
             },
             "pattern": {
              "fillmode": "overlay",
              "size": 10,
              "solidity": 0.2
             }
            },
            "type": "barpolar"
           }
          ],
          "carpet": [
           {
            "aaxis": {
             "endlinecolor": "#2a3f5f",
             "gridcolor": "white",
             "linecolor": "white",
             "minorgridcolor": "white",
             "startlinecolor": "#2a3f5f"
            },
            "baxis": {
             "endlinecolor": "#2a3f5f",
             "gridcolor": "white",
             "linecolor": "white",
             "minorgridcolor": "white",
             "startlinecolor": "#2a3f5f"
            },
            "type": "carpet"
           }
          ],
          "choropleth": [
           {
            "colorbar": {
             "outlinewidth": 0,
             "ticks": ""
            },
            "type": "choropleth"
           }
          ],
          "contour": [
           {
            "colorbar": {
             "outlinewidth": 0,
             "ticks": ""
            },
            "colorscale": [
             [
              0,
              "#0d0887"
             ],
             [
              0.1111111111111111,
              "#46039f"
             ],
             [
              0.2222222222222222,
              "#7201a8"
             ],
             [
              0.3333333333333333,
              "#9c179e"
             ],
             [
              0.4444444444444444,
              "#bd3786"
             ],
             [
              0.5555555555555556,
              "#d8576b"
             ],
             [
              0.6666666666666666,
              "#ed7953"
             ],
             [
              0.7777777777777778,
              "#fb9f3a"
             ],
             [
              0.8888888888888888,
              "#fdca26"
             ],
             [
              1,
              "#f0f921"
             ]
            ],
            "type": "contour"
           }
          ],
          "contourcarpet": [
           {
            "colorbar": {
             "outlinewidth": 0,
             "ticks": ""
            },
            "type": "contourcarpet"
           }
          ],
          "heatmap": [
           {
            "colorbar": {
             "outlinewidth": 0,
             "ticks": ""
            },
            "colorscale": [
             [
              0,
              "#0d0887"
             ],
             [
              0.1111111111111111,
              "#46039f"
             ],
             [
              0.2222222222222222,
              "#7201a8"
             ],
             [
              0.3333333333333333,
              "#9c179e"
             ],
             [
              0.4444444444444444,
              "#bd3786"
             ],
             [
              0.5555555555555556,
              "#d8576b"
             ],
             [
              0.6666666666666666,
              "#ed7953"
             ],
             [
              0.7777777777777778,
              "#fb9f3a"
             ],
             [
              0.8888888888888888,
              "#fdca26"
             ],
             [
              1,
              "#f0f921"
             ]
            ],
            "type": "heatmap"
           }
          ],
          "histogram": [
           {
            "marker": {
             "pattern": {
              "fillmode": "overlay",
              "size": 10,
              "solidity": 0.2
             }
            },
            "type": "histogram"
           }
          ],
          "histogram2d": [
           {
            "colorbar": {
             "outlinewidth": 0,
             "ticks": ""
            },
            "colorscale": [
             [
              0,
              "#0d0887"
             ],
             [
              0.1111111111111111,
              "#46039f"
             ],
             [
              0.2222222222222222,
              "#7201a8"
             ],
             [
              0.3333333333333333,
              "#9c179e"
             ],
             [
              0.4444444444444444,
              "#bd3786"
             ],
             [
              0.5555555555555556,
              "#d8576b"
             ],
             [
              0.6666666666666666,
              "#ed7953"
             ],
             [
              0.7777777777777778,
              "#fb9f3a"
             ],
             [
              0.8888888888888888,
              "#fdca26"
             ],
             [
              1,
              "#f0f921"
             ]
            ],
            "type": "histogram2d"
           }
          ],
          "histogram2dcontour": [
           {
            "colorbar": {
             "outlinewidth": 0,
             "ticks": ""
            },
            "colorscale": [
             [
              0,
              "#0d0887"
             ],
             [
              0.1111111111111111,
              "#46039f"
             ],
             [
              0.2222222222222222,
              "#7201a8"
             ],
             [
              0.3333333333333333,
              "#9c179e"
             ],
             [
              0.4444444444444444,
              "#bd3786"
             ],
             [
              0.5555555555555556,
              "#d8576b"
             ],
             [
              0.6666666666666666,
              "#ed7953"
             ],
             [
              0.7777777777777778,
              "#fb9f3a"
             ],
             [
              0.8888888888888888,
              "#fdca26"
             ],
             [
              1,
              "#f0f921"
             ]
            ],
            "type": "histogram2dcontour"
           }
          ],
          "mesh3d": [
           {
            "colorbar": {
             "outlinewidth": 0,
             "ticks": ""
            },
            "type": "mesh3d"
           }
          ],
          "parcoords": [
           {
            "line": {
             "colorbar": {
              "outlinewidth": 0,
              "ticks": ""
             }
            },
            "type": "parcoords"
           }
          ],
          "pie": [
           {
            "automargin": true,
            "type": "pie"
           }
          ],
          "scatter": [
           {
            "fillpattern": {
             "fillmode": "overlay",
             "size": 10,
             "solidity": 0.2
            },
            "type": "scatter"
           }
          ],
          "scatter3d": [
           {
            "line": {
             "colorbar": {
              "outlinewidth": 0,
              "ticks": ""
             }
            },
            "marker": {
             "colorbar": {
              "outlinewidth": 0,
              "ticks": ""
             }
            },
            "type": "scatter3d"
           }
          ],
          "scattercarpet": [
           {
            "marker": {
             "colorbar": {
              "outlinewidth": 0,
              "ticks": ""
             }
            },
            "type": "scattercarpet"
           }
          ],
          "scattergeo": [
           {
            "marker": {
             "colorbar": {
              "outlinewidth": 0,
              "ticks": ""
             }
            },
            "type": "scattergeo"
           }
          ],
          "scattergl": [
           {
            "marker": {
             "colorbar": {
              "outlinewidth": 0,
              "ticks": ""
             }
            },
            "type": "scattergl"
           }
          ],
          "scattermap": [
           {
            "marker": {
             "colorbar": {
              "outlinewidth": 0,
              "ticks": ""
             }
            },
            "type": "scattermap"
           }
          ],
          "scattermapbox": [
           {
            "marker": {
             "colorbar": {
              "outlinewidth": 0,
              "ticks": ""
             }
            },
            "type": "scattermapbox"
           }
          ],
          "scatterpolar": [
           {
            "marker": {
             "colorbar": {
              "outlinewidth": 0,
              "ticks": ""
             }
            },
            "type": "scatterpolar"
           }
          ],
          "scatterpolargl": [
           {
            "marker": {
             "colorbar": {
              "outlinewidth": 0,
              "ticks": ""
             }
            },
            "type": "scatterpolargl"
           }
          ],
          "scatterternary": [
           {
            "marker": {
             "colorbar": {
              "outlinewidth": 0,
              "ticks": ""
             }
            },
            "type": "scatterternary"
           }
          ],
          "surface": [
           {
            "colorbar": {
             "outlinewidth": 0,
             "ticks": ""
            },
            "colorscale": [
             [
              0,
              "#0d0887"
             ],
             [
              0.1111111111111111,
              "#46039f"
             ],
             [
              0.2222222222222222,
              "#7201a8"
             ],
             [
              0.3333333333333333,
              "#9c179e"
             ],
             [
              0.4444444444444444,
              "#bd3786"
             ],
             [
              0.5555555555555556,
              "#d8576b"
             ],
             [
              0.6666666666666666,
              "#ed7953"
             ],
             [
              0.7777777777777778,
              "#fb9f3a"
             ],
             [
              0.8888888888888888,
              "#fdca26"
             ],
             [
              1,
              "#f0f921"
             ]
            ],
            "type": "surface"
           }
          ],
          "table": [
           {
            "cells": {
             "fill": {
              "color": "#EBF0F8"
             },
             "line": {
              "color": "white"
             }
            },
            "header": {
             "fill": {
              "color": "#C8D4E3"
             },
             "line": {
              "color": "white"
             }
            },
            "type": "table"
           }
          ]
         },
         "layout": {
          "annotationdefaults": {
           "arrowcolor": "#2a3f5f",
           "arrowhead": 0,
           "arrowwidth": 1
          },
          "autotypenumbers": "strict",
          "coloraxis": {
           "colorbar": {
            "outlinewidth": 0,
            "ticks": ""
           }
          },
          "colorscale": {
           "diverging": [
            [
             0,
             "#8e0152"
            ],
            [
             0.1,
             "#c51b7d"
            ],
            [
             0.2,
             "#de77ae"
            ],
            [
             0.3,
             "#f1b6da"
            ],
            [
             0.4,
             "#fde0ef"
            ],
            [
             0.5,
             "#f7f7f7"
            ],
            [
             0.6,
             "#e6f5d0"
            ],
            [
             0.7,
             "#b8e186"
            ],
            [
             0.8,
             "#7fbc41"
            ],
            [
             0.9,
             "#4d9221"
            ],
            [
             1,
             "#276419"
            ]
           ],
           "sequential": [
            [
             0,
             "#0d0887"
            ],
            [
             0.1111111111111111,
             "#46039f"
            ],
            [
             0.2222222222222222,
             "#7201a8"
            ],
            [
             0.3333333333333333,
             "#9c179e"
            ],
            [
             0.4444444444444444,
             "#bd3786"
            ],
            [
             0.5555555555555556,
             "#d8576b"
            ],
            [
             0.6666666666666666,
             "#ed7953"
            ],
            [
             0.7777777777777778,
             "#fb9f3a"
            ],
            [
             0.8888888888888888,
             "#fdca26"
            ],
            [
             1,
             "#f0f921"
            ]
           ],
           "sequentialminus": [
            [
             0,
             "#0d0887"
            ],
            [
             0.1111111111111111,
             "#46039f"
            ],
            [
             0.2222222222222222,
             "#7201a8"
            ],
            [
             0.3333333333333333,
             "#9c179e"
            ],
            [
             0.4444444444444444,
             "#bd3786"
            ],
            [
             0.5555555555555556,
             "#d8576b"
            ],
            [
             0.6666666666666666,
             "#ed7953"
            ],
            [
             0.7777777777777778,
             "#fb9f3a"
            ],
            [
             0.8888888888888888,
             "#fdca26"
            ],
            [
             1,
             "#f0f921"
            ]
           ]
          },
          "colorway": [
           "#636efa",
           "#EF553B",
           "#00cc96",
           "#ab63fa",
           "#FFA15A",
           "#19d3f3",
           "#FF6692",
           "#B6E880",
           "#FF97FF",
           "#FECB52"
          ],
          "font": {
           "color": "#2a3f5f"
          },
          "geo": {
           "bgcolor": "white",
           "lakecolor": "white",
           "landcolor": "#E5ECF6",
           "showlakes": true,
           "showland": true,
           "subunitcolor": "white"
          },
          "hoverlabel": {
           "align": "left"
          },
          "hovermode": "closest",
          "mapbox": {
           "style": "light"
          },
          "paper_bgcolor": "white",
          "plot_bgcolor": "#E5ECF6",
          "polar": {
           "angularaxis": {
            "gridcolor": "white",
            "linecolor": "white",
            "ticks": ""
           },
           "bgcolor": "#E5ECF6",
           "radialaxis": {
            "gridcolor": "white",
            "linecolor": "white",
            "ticks": ""
           }
          },
          "scene": {
           "xaxis": {
            "backgroundcolor": "#E5ECF6",
            "gridcolor": "white",
            "gridwidth": 2,
            "linecolor": "white",
            "showbackground": true,
            "ticks": "",
            "zerolinecolor": "white"
           },
           "yaxis": {
            "backgroundcolor": "#E5ECF6",
            "gridcolor": "white",
            "gridwidth": 2,
            "linecolor": "white",
            "showbackground": true,
            "ticks": "",
            "zerolinecolor": "white"
           },
           "zaxis": {
            "backgroundcolor": "#E5ECF6",
            "gridcolor": "white",
            "gridwidth": 2,
            "linecolor": "white",
            "showbackground": true,
            "ticks": "",
            "zerolinecolor": "white"
           }
          },
          "shapedefaults": {
           "line": {
            "color": "#2a3f5f"
           }
          },
          "ternary": {
           "aaxis": {
            "gridcolor": "white",
            "linecolor": "white",
            "ticks": ""
           },
           "baxis": {
            "gridcolor": "white",
            "linecolor": "white",
            "ticks": ""
           },
           "bgcolor": "#E5ECF6",
           "caxis": {
            "gridcolor": "white",
            "linecolor": "white",
            "ticks": ""
           }
          },
          "title": {
           "x": 0.05
          },
          "xaxis": {
           "automargin": true,
           "gridcolor": "white",
           "linecolor": "white",
           "ticks": "",
           "title": {
            "standoff": 15
           },
           "zerolinecolor": "white",
           "zerolinewidth": 2
          },
          "yaxis": {
           "automargin": true,
           "gridcolor": "white",
           "linecolor": "white",
           "ticks": "",
           "title": {
            "standoff": 15
           },
           "zerolinecolor": "white",
           "zerolinewidth": 2
          }
         }
        }
       }
      }
     },
     "metadata": {},
     "output_type": "display_data"
    }
   ],
   "source": [
    "plot_data = [\n",
    "    plotly.graph_objects.Mesh3d(\n",
    "                                x=global_x, \n",
    "                                y=global_y,\n",
    "                                z=global_z,\n",
    "                                intensity=global_z\n",
    "                                )        \n",
    "    ]\n",
    "fig = plotly.graph_objects.Figure(data=plot_data)\n",
    "fig.update_layout()"
   ]
  },
  {
   "cell_type": "code",
   "execution_count": 69,
   "id": "f7fb3231",
   "metadata": {},
   "outputs": [],
   "source": [
    "grid_x, grid_y = np.mgrid[-1:+1:100j, -1:+1:100j]"
   ]
  },
  {
   "cell_type": "code",
   "execution_count": 70,
   "id": "fce9a156",
   "metadata": {},
   "outputs": [],
   "source": [
    "points = np.stack([global_x, global_y], axis=-1)"
   ]
  },
  {
   "cell_type": "code",
   "execution_count": 71,
   "id": "fe153ed2",
   "metadata": {},
   "outputs": [],
   "source": [
    "from scipy.interpolate import griddata\n",
    "grid_z0 = griddata(points, global_z, (grid_x, grid_y), method='nearest')\n",
    "grid_z1 = griddata(points, global_z, (grid_x, grid_y), method='linear')\n",
    "grid_z2 = griddata(points, global_z, (grid_x, grid_y), method='cubic', rescale=True, fill_value=np.inf)"
   ]
  },
  {
   "cell_type": "code",
   "execution_count": 72,
   "id": "ad6289ad",
   "metadata": {},
   "outputs": [
    {
     "data": {
      "text/plain": [
       "<matplotlib.image.AxesImage at 0x7f5af47037f0>"
      ]
     },
     "execution_count": 72,
     "metadata": {},
     "output_type": "execute_result"
    },
    {
     "data": {
      "image/png": "[encoded data removed]",
      "text/plain": [
       "<Figure size 640x480 with 1 Axes>"
      ]
     },
     "metadata": {},
     "output_type": "display_data"
    }
   ],
   "source": [
    "plt.imshow(grid_z2[::-1], cmap=\"viridis\")"
   ]
  },
  {
   "cell_type": "code",
   "execution_count": 73,
   "id": "5a0fa904",
   "metadata": {},
   "outputs": [
    {
     "data": {
      "application/vnd.plotly.v1+json": {
       "config": {
        "plotlyServerURL": "https://plot.ly"
       },
       "data": [
        {
         "colorscale": [
          [
           0,
           "rgb(0,0,0)"
          ],
          [
           0.3333333333333333,
           "rgb(230,0,0)"
          ],
          [
           0.6666666666666666,
           "rgb(255,210,0)"
          ],
          [
           1,
           "rgb(255,255,255)"
          ]
         ],
         "contours": {
          "coloring": "heatmap",
          "end": 5,
          "labelfont": {
           "color": "white",
           "size": 12
          },
          "showlabels": true,
          "size": 0.5,
          "start": -5
         },
         "line": {
          "smoothing": 1.3
         },
         "type": "contour",
         "z": {
          "bdata": "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",
          "dtype": "f8",
          "shape": "100, 100"
         }
        }
       ],
       "layout": {
        "autosize": false,
        "height": 700,
        "margin": {
         "b": 100,
         "l": 50,
         "pad": 4,
         "r": 50,
         "t": 50
        },
        "paper_bgcolor": "LightSteelBlue",
        "template": {
         "data": {
          "bar": [
           {
            "error_x": {
             "color": "#2a3f5f"
            },
            "error_y": {
             "color": "#2a3f5f"
            },
            "marker": {
             "line": {
              "color": "#E5ECF6",
              "width": 0.5
             },
             "pattern": {
              "fillmode": "overlay",
              "size": 10,
              "solidity": 0.2
             }
            },
            "type": "bar"
           }
          ],
          "barpolar": [
           {
            "marker": {
             "line": {
              "color": "#E5ECF6",
              "width": 0.5
             },
             "pattern": {
              "fillmode": "overlay",
              "size": 10,
              "solidity": 0.2
             }
            },
            "type": "barpolar"
           }
          ],
          "carpet": [
           {
            "aaxis": {
             "endlinecolor": "#2a3f5f",
             "gridcolor": "white",
             "linecolor": "white",
             "minorgridcolor": "white",
             "startlinecolor": "#2a3f5f"
            },
            "baxis": {
             "endlinecolor": "#2a3f5f",
             "gridcolor": "white",
             "linecolor": "white",
             "minorgridcolor": "white",
             "startlinecolor": "#2a3f5f"
            },
            "type": "carpet"
           }
          ],
          "choropleth": [
           {
            "colorbar": {
             "outlinewidth": 0,
             "ticks": ""
            },
            "type": "choropleth"
           }
          ],
          "contour": [
           {
            "colorbar": {
             "outlinewidth": 0,
             "ticks": ""
            },
            "colorscale": [
             [
              0,
              "#0d0887"
             ],
             [
              0.1111111111111111,
              "#46039f"
             ],
             [
              0.2222222222222222,
              "#7201a8"
             ],
             [
              0.3333333333333333,
              "#9c179e"
             ],
             [
              0.4444444444444444,
              "#bd3786"
             ],
             [
              0.5555555555555556,
              "#d8576b"
             ],
             [
              0.6666666666666666,
              "#ed7953"
             ],
             [
              0.7777777777777778,
              "#fb9f3a"
             ],
             [
              0.8888888888888888,
              "#fdca26"
             ],
             [
              1,
              "#f0f921"
             ]
            ],
            "type": "contour"
           }
          ],
          "contourcarpet": [
           {
            "colorbar": {
             "outlinewidth": 0,
             "ticks": ""
            },
            "type": "contourcarpet"
           }
          ],
          "heatmap": [
           {
            "colorbar": {
             "outlinewidth": 0,
             "ticks": ""
            },
            "colorscale": [
             [
              0,
              "#0d0887"
             ],
             [
              0.1111111111111111,
              "#46039f"
             ],
             [
              0.2222222222222222,
              "#7201a8"
             ],
             [
              0.3333333333333333,
              "#9c179e"
             ],
             [
              0.4444444444444444,
              "#bd3786"
             ],
             [
              0.5555555555555556,
              "#d8576b"
             ],
             [
              0.6666666666666666,
              "#ed7953"
             ],
             [
              0.7777777777777778,
              "#fb9f3a"
             ],
             [
              0.8888888888888888,
              "#fdca26"
             ],
             [
              1,
              "#f0f921"
             ]
            ],
            "type": "heatmap"
           }
          ],
          "histogram": [
           {
            "marker": {
             "pattern": {
              "fillmode": "overlay",
              "size": 10,
              "solidity": 0.2
             }
            },
            "type": "histogram"
           }
          ],
          "histogram2d": [
           {
            "colorbar": {
             "outlinewidth": 0,
             "ticks": ""
            },
            "colorscale": [
             [
              0,
              "#0d0887"
             ],
             [
              0.1111111111111111,
              "#46039f"
             ],
             [
              0.2222222222222222,
              "#7201a8"
             ],
             [
              0.3333333333333333,
              "#9c179e"
             ],
             [
              0.4444444444444444,
              "#bd3786"
             ],
             [
              0.5555555555555556,
              "#d8576b"
             ],
             [
              0.6666666666666666,
              "#ed7953"
             ],
             [
              0.7777777777777778,
              "#fb9f3a"
             ],
             [
              0.8888888888888888,
              "#fdca26"
             ],
             [
              1,
              "#f0f921"
             ]
            ],
            "type": "histogram2d"
           }
          ],
          "histogram2dcontour": [
           {
            "colorbar": {
             "outlinewidth": 0,
             "ticks": ""
            },
            "colorscale": [
             [
              0,
              "#0d0887"
             ],
             [
              0.1111111111111111,
              "#46039f"
             ],
             [
              0.2222222222222222,
              "#7201a8"
             ],
             [
              0.3333333333333333,
              "#9c179e"
             ],
             [
              0.4444444444444444,
              "#bd3786"
             ],
             [
              0.5555555555555556,
              "#d8576b"
             ],
             [
              0.6666666666666666,
              "#ed7953"
             ],
             [
              0.7777777777777778,
              "#fb9f3a"
             ],
             [
              0.8888888888888888,
              "#fdca26"
             ],
             [
              1,
              "#f0f921"
             ]
            ],
            "type": "histogram2dcontour"
           }
          ],
          "mesh3d": [
           {
            "colorbar": {
             "outlinewidth": 0,
             "ticks": ""
            },
            "type": "mesh3d"
           }
          ],
          "parcoords": [
           {
            "line": {
             "colorbar": {
              "outlinewidth": 0,
              "ticks": ""
             }
            },
            "type": "parcoords"
           }
          ],
          "pie": [
           {
            "automargin": true,
            "type": "pie"
           }
          ],
          "scatter": [
           {
            "fillpattern": {
             "fillmode": "overlay",
             "size": 10,
             "solidity": 0.2
            },
            "type": "scatter"
           }
          ],
          "scatter3d": [
           {
            "line": {
             "colorbar": {
              "outlinewidth": 0,
              "ticks": ""
             }
            },
            "marker": {
             "colorbar": {
              "outlinewidth": 0,
              "ticks": ""
             }
            },
            "type": "scatter3d"
           }
          ],
          "scattercarpet": [
           {
            "marker": {
             "colorbar": {
              "outlinewidth": 0,
              "ticks": ""
             }
            },
            "type": "scattercarpet"
           }
          ],
          "scattergeo": [
           {
            "marker": {
             "colorbar": {
              "outlinewidth": 0,
              "ticks": ""
             }
            },
            "type": "scattergeo"
           }
          ],
          "scattergl": [
           {
            "marker": {
             "colorbar": {
              "outlinewidth": 0,
              "ticks": ""
             }
            },
            "type": "scattergl"
           }
          ],
          "scattermap": [
           {
            "marker": {
             "colorbar": {
              "outlinewidth": 0,
              "ticks": ""
             }
            },
            "type": "scattermap"
           }
          ],
          "scattermapbox": [
           {
            "marker": {
             "colorbar": {
              "outlinewidth": 0,
              "ticks": ""
             }
            },
            "type": "scattermapbox"
           }
          ],
          "scatterpolar": [
           {
            "marker": {
             "colorbar": {
              "outlinewidth": 0,
              "ticks": ""
             }
            },
            "type": "scatterpolar"
           }
          ],
          "scatterpolargl": [
           {
            "marker": {
             "colorbar": {
              "outlinewidth": 0,
              "ticks": ""
             }
            },
            "type": "scatterpolargl"
           }
          ],
          "scatterternary": [
           {
            "marker": {
             "colorbar": {
              "outlinewidth": 0,
              "ticks": ""
             }
            },
            "type": "scatterternary"
           }
          ],
          "surface": [
           {
            "colorbar": {
             "outlinewidth": 0,
             "ticks": ""
            },
            "colorscale": [
             [
              0,
              "#0d0887"
             ],
             [
              0.1111111111111111,
              "#46039f"
             ],
             [
              0.2222222222222222,
              "#7201a8"
             ],
             [
              0.3333333333333333,
              "#9c179e"
             ],
             [
              0.4444444444444444,
              "#bd3786"
             ],
             [
              0.5555555555555556,
              "#d8576b"
             ],
             [
              0.6666666666666666,
              "#ed7953"
             ],
             [
              0.7777777777777778,
              "#fb9f3a"
             ],
             [
              0.8888888888888888,
              "#fdca26"
             ],
             [
              1,
              "#f0f921"
             ]
            ],
            "type": "surface"
           }
          ],
          "table": [
           {
            "cells": {
             "fill": {
              "color": "#EBF0F8"
             },
             "line": {
              "color": "white"
             }
            },
            "header": {
             "fill": {
              "color": "#C8D4E3"
             },
             "line": {
              "color": "white"
             }
            },
            "type": "table"
           }
          ]
         },
         "layout": {
          "annotationdefaults": {
           "arrowcolor": "#2a3f5f",
           "arrowhead": 0,
           "arrowwidth": 1
          },
          "autotypenumbers": "strict",
          "coloraxis": {
           "colorbar": {
            "outlinewidth": 0,
            "ticks": ""
           }
          },
          "colorscale": {
           "diverging": [
            [
             0,
             "#8e0152"
            ],
            [
             0.1,
             "#c51b7d"
            ],
            [
             0.2,
             "#de77ae"
            ],
            [
             0.3,
             "#f1b6da"
            ],
            [
             0.4,
             "#fde0ef"
            ],
            [
             0.5,
             "#f7f7f7"
            ],
            [
             0.6,
             "#e6f5d0"
            ],
            [
             0.7,
             "#b8e186"
            ],
            [
             0.8,
             "#7fbc41"
            ],
            [
             0.9,
             "#4d9221"
            ],
            [
             1,
             "#276419"
            ]
           ],
           "sequential": [
            [
             0,
             "#0d0887"
            ],
            [
             0.1111111111111111,
             "#46039f"
            ],
            [
             0.2222222222222222,
             "#7201a8"
            ],
            [
             0.3333333333333333,
             "#9c179e"
            ],
            [
             0.4444444444444444,
             "#bd3786"
            ],
            [
             0.5555555555555556,
             "#d8576b"
            ],
            [
             0.6666666666666666,
             "#ed7953"
            ],
            [
             0.7777777777777778,
             "#fb9f3a"
            ],
            [
             0.8888888888888888,
             "#fdca26"
            ],
            [
             1,
             "#f0f921"
            ]
           ],
           "sequentialminus": [
            [
             0,
             "#0d0887"
            ],
            [
             0.1111111111111111,
             "#46039f"
            ],
            [
             0.2222222222222222,
             "#7201a8"
            ],
            [
             0.3333333333333333,
             "#9c179e"
            ],
            [
             0.4444444444444444,
             "#bd3786"
            ],
            [
             0.5555555555555556,
             "#d8576b"
            ],
            [
             0.6666666666666666,
             "#ed7953"
            ],
            [
             0.7777777777777778,
             "#fb9f3a"
            ],
            [
             0.8888888888888888,
             "#fdca26"
            ],
            [
             1,
             "#f0f921"
            ]
           ]
          },
          "colorway": [
           "#636efa",
           "#EF553B",
           "#00cc96",
           "#ab63fa",
           "#FFA15A",
           "#19d3f3",
           "#FF6692",
           "#B6E880",
           "#FF97FF",
           "#FECB52"
          ],
          "font": {
           "color": "#2a3f5f"
          },
          "geo": {
           "bgcolor": "white",
           "lakecolor": "white",
           "landcolor": "#E5ECF6",
           "showlakes": true,
           "showland": true,
           "subunitcolor": "white"
          },
          "hoverlabel": {
           "align": "left"
          },
          "hovermode": "closest",
          "mapbox": {
           "style": "light"
          },
          "paper_bgcolor": "white",
          "plot_bgcolor": "#E5ECF6",
          "polar": {
           "angularaxis": {
            "gridcolor": "white",
            "linecolor": "white",
            "ticks": ""
           },
           "bgcolor": "#E5ECF6",
           "radialaxis": {
            "gridcolor": "white",
            "linecolor": "white",
            "ticks": ""
           }
          },
          "scene": {
           "xaxis": {
            "backgroundcolor": "#E5ECF6",
            "gridcolor": "white",
            "gridwidth": 2,
            "linecolor": "white",
            "showbackground": true,
            "ticks": "",
            "zerolinecolor": "white"
           },
           "yaxis": {
            "backgroundcolor": "#E5ECF6",
            "gridcolor": "white",
            "gridwidth": 2,
            "linecolor": "white",
            "showbackground": true,
            "ticks": "",
            "zerolinecolor": "white"
           },
           "zaxis": {
            "backgroundcolor": "#E5ECF6",
            "gridcolor": "white",
            "gridwidth": 2,
            "linecolor": "white",
            "showbackground": true,
            "ticks": "",
            "zerolinecolor": "white"
           }
          },
          "shapedefaults": {
           "line": {
            "color": "#2a3f5f"
           }
          },
          "ternary": {
           "aaxis": {
            "gridcolor": "white",
            "linecolor": "white",
            "ticks": ""
           },
           "baxis": {
            "gridcolor": "white",
            "linecolor": "white",
            "ticks": ""
           },
           "bgcolor": "#E5ECF6",
           "caxis": {
            "gridcolor": "white",
            "linecolor": "white",
            "ticks": ""
           }
          },
          "title": {
           "x": 0.05
          },
          "xaxis": {
           "automargin": true,
           "gridcolor": "white",
           "linecolor": "white",
           "ticks": "",
           "title": {
            "standoff": 15
           },
           "zerolinecolor": "white",
           "zerolinewidth": 2
          },
          "yaxis": {
           "automargin": true,
           "gridcolor": "white",
           "linecolor": "white",
           "ticks": "",
           "title": {
            "standoff": 15
           },
           "zerolinecolor": "white",
           "zerolinewidth": 2
          }
         }
        },
        "width": 700
       }
      }
     },
     "metadata": {},
     "output_type": "display_data"
    }
   ],
   "source": [
    "import plotly.graph_objects as go\n",
    "\n",
    "fig = go.Figure(data =\n",
    "    go.Contour(\n",
    "        z=grid_z2,\n",
    "        # contours_coloring='lines',\n",
    "        colorscale='Hot',\n",
    "        contours=dict(\n",
    "            start=-5,\n",
    "            end=5,\n",
    "            size=0.5,\n",
    "            coloring ='heatmap',\n",
    "            showlabels = True, # show labels on contours\n",
    "            labelfont = dict( # label font properties\n",
    "                size = 12,\n",
    "                color = 'white',\n",
    "            )\n",
    "        ),\n",
    "        line_smoothing=1.3\n",
    "    ),\n",
    "    )\n",
    "\n",
    "fig.update_layout(\n",
    "    autosize=False,\n",
    "    width=700,\n",
    "    height=700,\n",
    "    margin=dict(\n",
    "        l=50,\n",
    "        r=50,\n",
    "        b=100,\n",
    "        t=50,\n",
    "        pad=4\n",
    "    ),\n",
    "    paper_bgcolor=\"LightSteelBlue\",\n",
    ")\n",
    "fig.show()"
   ]
  }
 ],
 "metadata": {
  "kernelspec": {
   "display_name": "experiments",
   "language": "python",
   "name": "python3"
  },
  "language_info": {
   "codemirror_mode": {
    "name": "ipython",
    "version": 3
   },
   "file_extension": ".py",
   "mimetype": "text/x-python",
   "name": "python",
   "nbconvert_exporter": "python",
   "pygments_lexer": "ipython3",
   "version": "3.9.21"
  }
 },
 "nbformat": 4,
 "nbformat_minor": 5
}
