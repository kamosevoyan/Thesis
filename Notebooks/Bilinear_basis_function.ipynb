{
 "cells": [
  {
   "cell_type": "code",
   "execution_count": null,
   "id": "66101353",
   "metadata": {},
   "outputs": [],
   "source": [
    "import numpy as np\n",
    "import matplotlib.pyplot as plt"
   ]
  },
  {
   "cell_type": "code",
   "execution_count": null,
   "id": "e3daa4ac",
   "metadata": {},
   "outputs": [],
   "source": [
    "tx, h_1 = np.linspace(1, 5, 5, retstep=True)\n",
    "ty, h_2 = np.linspace(3, 7, 5, retstep=True)"
   ]
  },
  {
   "cell_type": "code",
   "execution_count": null,
   "id": "5f5debcf",
   "metadata": {},
   "outputs": [],
   "source": [
    "X, Y = np.meshgrid(tx, ty, indexing=\"ij\")"
   ]
  },
  {
   "cell_type": "code",
   "execution_count": null,
   "id": "11a1483b",
   "metadata": {},
   "outputs": [],
   "source": [
    "def phi(i, j, _X_, _Y_, h_1, h_2):\n",
    "    _tx_ = np.linspace(_X_.min(), _X_.max(), 1000)\n",
    "    _ty_ = np.linspace(_Y_.min(), _Y_.max(), 1000)\n",
    "\n",
    "    xx, yy = np.meshgrid(_tx_, _ty_, indexing=\"ij\")\n",
    "\n",
    "    zz = np.zeros_like(xx)\n",
    "\n",
    "    idx_1 = (xx >= _X_[i - 1]) & (xx <= _X_[i]) & (yy >= _Y_[j - 1]) & (yy <= _Y_[j])\n",
    "\n",
    "    zz[idx_1] = (1 / (h_1 * h_2) * (xx - _X_[i - 1]) * (yy - _Y_[j - 1]))[idx_1]\n",
    "\n",
    "    idx_2 = (xx >= _X_[i - 1]) & (xx <= _X_[i]) & (yy >= _Y_[j]) & (yy <= _Y_[j + 1])\n",
    "\n",
    "    zz[idx_2] = (1 / (h_1 * h_2) * (xx - _X_[i - 1]) * (_Y_[j + 1] - yy))[idx_2]\n",
    "\n",
    "    idx_3 = (xx >= _X_[i]) & (xx <= _X_[i + 1]) & (yy >= _Y_[j - 1]) & (yy <= _Y_[j])\n",
    "\n",
    "    zz[idx_3] = (1 / (h_1 * h_2) * (_X_[i + 1] - xx) * (yy - _Y_[j - 1]))[idx_3]\n",
    "\n",
    "    idx_4 = (xx >= _X_[i]) & (xx <= _X_[i + 1]) & (yy >= _Y_[j]) & (yy <= _Y_[j + 1])\n",
    "\n",
    "    zz[idx_4] = (1 / (h_1 * h_2) * (_X_[i + 1] - xx) * (_Y_[j + 1] - yy))[idx_4]\n",
    "\n",
    "    return xx, yy, zz"
   ]
  },
  {
   "cell_type": "code",
   "execution_count": null,
   "id": "5d34d5a8",
   "metadata": {},
   "outputs": [],
   "source": [
    "xx, yy, zz = phi(2, 2, tx, ty, h_1, h_2)"
   ]
  },
  {
   "cell_type": "code",
   "execution_count": null,
   "id": "17c2479a",
   "metadata": {},
   "outputs": [],
   "source": [
    "%matplotlib widget\n",
    "fig = plt.figure(figsize=(8, 8))\n",
    "ax = plt.axes(projection=\"3d\")\n",
    "ax.plot_wireframe(xx, yy, zz, color=\"black\", alpha=1)\n",
    "ax.set_box_aspect((np.ptp(xx), np.ptp(yy), 3 * np.ptp(zz)))\n",
    "plt.show()"
   ]
  },
  {
   "cell_type": "code",
   "execution_count": null,
   "id": "2aaee814",
   "metadata": {},
   "outputs": [],
   "source": [
    "fig.savefig(\"../images/bilinear_basis_function\", dpi=200, transparent=True)"
   ]
  }
 ],
 "metadata": {
  "kernelspec": {
   "display_name": "Python 3 (ipykernel)",
   "language": "python",
   "name": "python3"
  },
  "language_info": {
   "codemirror_mode": {
    "name": "ipython",
    "version": 3
   },
   "file_extension": ".py",
   "mimetype": "text/x-python",
   "name": "python",
   "nbconvert_exporter": "python",
   "pygments_lexer": "ipython3",
   "version": "3.9.12"
  }
 },
 "nbformat": 4,
 "nbformat_minor": 5
}
