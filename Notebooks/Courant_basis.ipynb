{
 "cells": [
  {
   "cell_type": "code",
   "execution_count": null,
   "id": "9e1b7da4",
   "metadata": {},
   "outputs": [],
   "source": [
    "import torch\n",
    "import numpy\n",
    "from tqdm import tqdm\n",
    "import matplotlib.pyplot as plt"
   ]
  },
  {
   "cell_type": "code",
   "execution_count": null,
   "id": "0b15e444",
   "metadata": {},
   "outputs": [],
   "source": [
    "n_points = 5"
   ]
  },
  {
   "cell_type": "code",
   "execution_count": null,
   "id": "6854c6d2",
   "metadata": {},
   "outputs": [],
   "source": [
    "grid = numpy.linspace(-torch.pi / 2, torch.pi / 2, n_points)\n",
    "grid_x, grid_y = numpy.meshgrid(grid, grid, indexing=\"ij\")"
   ]
  },
  {
   "cell_type": "code",
   "execution_count": null,
   "id": "d0125f88",
   "metadata": {},
   "outputs": [],
   "source": [
    "h_1 = h_2 = grid[1] - grid[0]"
   ]
  },
  {
   "cell_type": "code",
   "execution_count": null,
   "id": "0ae7f57a",
   "metadata": {},
   "outputs": [],
   "source": [
    "def phi(X, Y, h1, h2, i, j, n_x, n_y):\n",
    "    tx = numpy.linspace(X.min(), X.max(), n_x)\n",
    "    ty = numpy.linspace(Y.min(), Y.max(), n_y)\n",
    "    xx, yy = numpy.meshgrid(tx, ty, indexing=\"ij\")\n",
    "    xm = xx.min()\n",
    "    ym = yy.min()\n",
    "    xx = xx - ym\n",
    "    yy = yy - ym\n",
    "    tmp = numpy.zeros(xx.shape)\n",
    "    S1 = (\n",
    "        (i <= xx / h1)\n",
    "        & (xx / h1 <= i + 1)\n",
    "        & (j <= yy / h2)\n",
    "        & (yy / h2 <= j + 1)\n",
    "        & (yy / h2 - j >= xx / h1 - i)\n",
    "    )\n",
    "    tmp[S1] = (j + 1 - yy / h2)[S1]\n",
    "    S2 = (\n",
    "        (i - 1 <= xx / h1)\n",
    "        & (xx / h1 <= i)\n",
    "        & (j <= yy / h2)\n",
    "        & (yy / h2 <= j + 1)\n",
    "        & (yy / h2 - j <= 1 + xx / h1 - i)\n",
    "    )\n",
    "    tmp[S2] = (1 + xx / h1 - yy / h2 - i + j)[S2]\n",
    "    S3 = (\n",
    "        (i - 1 <= xx / h1)\n",
    "        & (xx / h1 <= i)\n",
    "        & (j - 1 <= yy / h2)\n",
    "        & (yy / h2 <= j)\n",
    "        & (yy / h2 - j >= xx / h1 - i)\n",
    "    )\n",
    "    tmp[S3] = (1 + xx / h1 - i)[S3]\n",
    "    S4 = (\n",
    "        (i - 1 <= xx / h1)\n",
    "        & (xx / h1 <= i)\n",
    "        & (j - 1 <= yy / h2)\n",
    "        & (yy / h2 <= j)\n",
    "        & (yy / h2 - j <= xx / h1 - i)\n",
    "    )\n",
    "    tmp[S4] = (1 + yy / h2 - j)[S4]\n",
    "    S5 = (\n",
    "        (i <= xx / h1)\n",
    "        & (xx / h1 <= i + 1)\n",
    "        & (j - 1 <= yy / h2)\n",
    "        & (yy / h2 <= j)\n",
    "        & (yy / h2 - j >= xx / h1 - i - 1)\n",
    "    )\n",
    "    tmp[S5] = (1 - xx / h1 + yy / h2 + i - j)[S5]\n",
    "    S6 = (\n",
    "        (i <= xx / h1)\n",
    "        & (xx / h1 <= i + 1)\n",
    "        & (j <= yy / h2)\n",
    "        & (yy / h2 <= j + 1)\n",
    "        & (yy / h2 - j <= xx / h1 - i)\n",
    "    )\n",
    "    tmp[S6] = (1 - xx / h1 + i)[S6]\n",
    "    return tmp"
   ]
  },
  {
   "cell_type": "code",
   "execution_count": null,
   "id": "7e40a4c9",
   "metadata": {},
   "outputs": [],
   "source": [
    "t = torch.linspace(grid[0], grid[-1], 100)\n",
    "(\n",
    "    xx,\n",
    "    yy,\n",
    ") = torch.meshgrid(t, t, indexing=\"ij\")\n",
    "zz = torch.zeros_like(xx)\n",
    "\n",
    "zz += phi(t, t, h_1, h_2, 2, 2, 100, 100)"
   ]
  },
  {
   "cell_type": "code",
   "execution_count": null,
   "id": "19278c15",
   "metadata": {},
   "outputs": [],
   "source": [
    "%matplotlib widget\n",
    "fig = plt.figure(figsize=(8, 8))\n",
    "ax = plt.axes(projection=\"3d\")\n",
    "ax.plot_surface(xx, yy, zz, cmap=\"magma\")\n",
    "plt.show()"
   ]
  }
 ],
 "metadata": {
  "kernelspec": {
   "display_name": "Python 3 (ipykernel)",
   "language": "python",
   "name": "python3"
  },
  "language_info": {
   "codemirror_mode": {
    "name": "ipython",
    "version": 3
   },
   "file_extension": ".py",
   "mimetype": "text/x-python",
   "name": "python",
   "nbconvert_exporter": "python",
   "pygments_lexer": "ipython3",
   "version": "3.9.12"
  }
 },
 "nbformat": 4,
 "nbformat_minor": 5
}
