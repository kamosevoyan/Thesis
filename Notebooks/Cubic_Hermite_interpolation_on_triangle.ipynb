{
 "cells": [
  {
   "cell_type": "code",
   "execution_count": null,
   "id": "03179eaa",
   "metadata": {},
   "outputs": [],
   "source": [
    "import sympy\n",
    "import numpy as np\n",
    "import matplotlib.pyplot as plt\n",
    "from triangle import triangulate, plot as tplot, convex_hull, show_data, get_data\n",
    "import symfem"
   ]
  },
  {
   "cell_type": "code",
   "execution_count": null,
   "id": "f93cec45",
   "metadata": {},
   "outputs": [],
   "source": [
    "t = np.linspace(0, 2 * np.pi, 15, endpoint=False)\n",
    "points = np.stack((np.cos(t), np.sin(t))).T"
   ]
  },
  {
   "cell_type": "code",
   "execution_count": null,
   "id": "bb8f0c00",
   "metadata": {},
   "outputs": [],
   "source": [
    "seg = np.array(\n",
    "    [[j, j + 1] for j in range(points.shape[0] - 1)] + [[points.shape[0] - 1, 0]]\n",
    ")"
   ]
  },
  {
   "cell_type": "code",
   "execution_count": null,
   "id": "87602566",
   "metadata": {},
   "outputs": [],
   "source": [
    "cndt = triangulate({\"vertices\": points, \"segments\": seg}, opts=\"Rpq30a0.2ne\")"
   ]
  },
  {
   "cell_type": "code",
   "execution_count": null,
   "id": "a7c6a607",
   "metadata": {},
   "outputs": [],
   "source": [
    "%matplotlib inline\n",
    "fig, ax = plt.subplots(figsize=(4, 4))\n",
    "ax = plt.subplot(111, aspect=\"equal\")\n",
    "tplot(ax, **cndt)\n",
    "# fig.savefig('../images/circle_mesh')\n",
    "plt.show()"
   ]
  },
  {
   "cell_type": "code",
   "execution_count": null,
   "id": "4e145e25",
   "metadata": {},
   "outputs": [],
   "source": [
    "x, y, p1, p2, p3 = sympy.symbols(\"x, y, p1, p2, p3\")\n",
    "x1, x2, x3, y1, y2, y3 = sympy.symbols(\"x1:4 y1:4\")"
   ]
  },
  {
   "cell_type": "code",
   "execution_count": null,
   "id": "b9500518",
   "metadata": {},
   "outputs": [],
   "source": [
    "triangle_sym = np.array(\n",
    "    [\n",
    "        [x1, y1],\n",
    "        [x2, y2],\n",
    "        [x3, y3],\n",
    "    ]\n",
    ")\n",
    "\n",
    "BELL_BASIS = symfem.create_element(\"triangle\", \"Argyris\", 5)\n",
    "\n",
    "MAP = BELL_BASIS.reference.get_map_to(triangle_sym)\n",
    "INV_MAP = BELL_BASIS.reference.get_inverse_map_to(triangle_sym)"
   ]
  },
  {
   "cell_type": "code",
   "execution_count": null,
   "id": "33acc9f9",
   "metadata": {},
   "outputs": [],
   "source": [
    "points = cndt[\"vertices\"]\n",
    "triangles = cndt[\"triangles\"]\n",
    "neighbours = cndt[\"neighbors\"]\n",
    "triangles_s = points[triangles]\n",
    "triangles_c = triangles_s.reshape(-1, 2)"
   ]
  },
  {
   "cell_type": "code",
   "execution_count": null,
   "id": "e4c5583b",
   "metadata": {},
   "outputs": [],
   "source": [
    "tx = np.linspace(-1, 1, 1000)\n",
    "ty = np.linspace(-1, 1, 1000)\n",
    "xx, yy = np.meshgrid(tx, ty, indexing=\"xy\")\n",
    "points_ = np.stack((xx, yy)).transpose(1, 2, 0)\n",
    "\n",
    "a = triangles_s[:, 0] - triangles_s[:, 1]\n",
    "b = triangles_s[:, 0] - triangles_s[:, 2]\n",
    "areas = np.abs(a[:, 0] * b[:, 1] - a[:, 1] * b[:, 0])"
   ]
  },
  {
   "cell_type": "code",
   "execution_count": null,
   "id": "b868612d",
   "metadata": {},
   "outputs": [],
   "source": [
    "a = points_[...,] - triangles_s[:, 0, None, None]\n",
    "b = points_[...,] - triangles_s[:, 1, None, None]\n",
    "c = points_[...,] - triangles_s[:, 2, None, None]\n",
    "\n",
    "area1 = np.abs(a[..., 0] * b[..., 1] - a[..., 1] * b[..., 0])\n",
    "area2 = np.abs(a[..., 0] * c[..., 1] - a[..., 1] * c[..., 0])\n",
    "area3 = np.abs(b[..., 0] * c[..., 1] - b[..., 1] * c[..., 0])\n",
    "\n",
    "indices = np.where(\n",
    "    np.isclose((area1 + area2 + area3).transpose(1, 2, 0), areas[None, None, ...])\n",
    ")"
   ]
  },
  {
   "cell_type": "markdown",
   "id": "e08aeb9c",
   "metadata": {},
   "source": [
    "# Basis functions"
   ]
  },
  {
   "cell_type": "code",
   "execution_count": null,
   "id": "9d38a37c",
   "metadata": {},
   "outputs": [],
   "source": [
    "q1 = p1**2 * (3 - 2 * p1) + 2 * p1 * p2 * p3\n",
    "q1 = q1.subs(p3, 1 - p1 - p2)\n",
    "\n",
    "q2 = p2**2 * (3 - 2 * p2) + 2 * p1 * p2 * p3\n",
    "q2 = q2.subs(p3, 1 - p1 - p2)\n",
    "\n",
    "q3 = p3**2 * (3 - 2 * p3) + 2 * p1 * p2 * p3\n",
    "q3 = q3.subs(p3, 1 - p1 - p2)"
   ]
  },
  {
   "cell_type": "code",
   "execution_count": null,
   "id": "baf17cc3",
   "metadata": {},
   "outputs": [],
   "source": [
    "r1 = p1**2 * (p1 - 1) - p1 * p2 * p3\n",
    "r1 = r1.subs(p3, 1 - p1 - p2)\n",
    "\n",
    "r2 = p2**2 * p1 + 1 / 2 * p1 * p2 * p3\n",
    "r2 = r2.subs(p3, 1 - p1 - p2)\n",
    "\n",
    "r3 = p3**2 * p1 + 1 / 2 * p1 * p2 * p3\n",
    "r3 = r3.subs(p3, 1 - p1 - p2)"
   ]
  },
  {
   "cell_type": "code",
   "execution_count": null,
   "id": "1f3ad70e",
   "metadata": {},
   "outputs": [],
   "source": [
    "s1 = p1**2 * p2 + 1 / 2 * p1 * p2 * p3\n",
    "s1 = s1.subs(p3, 1 - p1 - p2)\n",
    "\n",
    "s2 = p2**2 * (p2 - 1) - p1 * p2 * p3\n",
    "s2 = s2.subs(p3, 1 - p1 - p2)\n",
    "\n",
    "s3 = p3**2 * p2 + 1 / 2 * p1 * p2 * p3\n",
    "s3 = s3.subs(p3, 1 - p1 - p2)"
   ]
  },
  {
   "cell_type": "code",
   "execution_count": null,
   "id": "9cc45165",
   "metadata": {},
   "outputs": [],
   "source": [
    "def transform_basis(arg):\n",
    "    u = INV_MAP[0].subs(\n",
    "        {\n",
    "            x1: arg[0, 0],\n",
    "            x2: arg[1, 0],\n",
    "            x3: arg[2, 0],\n",
    "            y1: arg[0, 1],\n",
    "            y2: arg[1, 1],\n",
    "            y3: arg[2, 1],\n",
    "        }\n",
    "    )\n",
    "\n",
    "    v = INV_MAP[1].subs(\n",
    "        {\n",
    "            x1: arg[0, 0],\n",
    "            x2: arg[1, 0],\n",
    "            x3: arg[2, 0],\n",
    "            y1: arg[0, 1],\n",
    "            y2: arg[1, 1],\n",
    "            y3: arg[2, 1],\n",
    "        }\n",
    "    )\n",
    "\n",
    "    U = MAP[0].subs(\n",
    "        {\n",
    "            x1: arg[0, 0],\n",
    "            x2: arg[1, 0],\n",
    "            x3: arg[2, 0],\n",
    "            y1: arg[0, 1],\n",
    "            y2: arg[1, 1],\n",
    "            y3: arg[2, 1],\n",
    "        }\n",
    "    )\n",
    "\n",
    "    V = MAP[1].subs(\n",
    "        {\n",
    "            x1: arg[0, 0],\n",
    "            x2: arg[1, 0],\n",
    "            x3: arg[2, 0],\n",
    "            y1: arg[0, 1],\n",
    "            y2: arg[1, 1],\n",
    "            y3: arg[2, 1],\n",
    "        }\n",
    "    )\n",
    "\n",
    "    J = sympy.Matrix([u, v]).jacobian([x, y]).inv()\n",
    "\n",
    "    R1 = J.row(0)[0] * r1 + J.row(0)[1] * s1\n",
    "    R2 = J.row(0)[0] * r2 + J.row(0)[1] * s2\n",
    "    R3 = J.row(0)[0] * r3 + J.row(0)[1] * s3\n",
    "\n",
    "    S1 = J.row(1)[0] * r1 + J.row(1)[1] * s1\n",
    "    S2 = J.row(1)[0] * r2 + J.row(1)[1] * s2\n",
    "    S3 = J.row(1)[0] * r3 + J.row(1)[1] * s3\n",
    "\n",
    "    return [\n",
    "        q1.subs(p1, u).subs(p2, v),\n",
    "        q2.subs(p1, u).subs(p2, v),\n",
    "        q3.subs(p1, u).subs(p2, v),\n",
    "        R1.subs(p1, u).subs(p2, v),\n",
    "        R2.subs(p1, u).subs(p2, v),\n",
    "        R3.subs(p1, u).subs(p2, v),\n",
    "        S1.subs(p1, u).subs(p2, v),\n",
    "        S2.subs(p1, u).subs(p2, v),\n",
    "        S3.subs(p1, u).subs(p2, v),\n",
    "    ]"
   ]
  },
  {
   "cell_type": "code",
   "execution_count": null,
   "id": "39cef4bf",
   "metadata": {},
   "outputs": [],
   "source": [
    "fn_values = np.zeros((points.shape[0], 3))\n",
    "x, y = sympy.symbols(\"x y\")\n",
    "FF = (x**2 + y**2 - 1) ** 2\n",
    "fn_values[:, 0] = sympy.lambdify((x, y), FF)(*points.T)\n",
    "fn_values[:, 1] = sympy.lambdify((x, y), FF.diff(x))(*points.T)\n",
    "fn_values[:, 2] = sympy.lambdify((x, y), FF.diff(y))(*points.T)"
   ]
  },
  {
   "cell_type": "code",
   "execution_count": null,
   "id": "445ddd28",
   "metadata": {},
   "outputs": [],
   "source": [
    "tx = np.linspace(-1.5, 1.5, 1000)\n",
    "ty = np.linspace(-1.5, 1.5, 1000)\n",
    "mx, my = np.meshgrid(tx, ty, indexing=\"ij\")\n",
    "mz = np.zeros_like(mx)\n",
    "points_ = np.stack((mx, my)).transpose(1, 2, 0)\n",
    "\n",
    "for idx, (p_idx, t_points) in enumerate(zip(triangles, triangles_s)):\n",
    "    this_triangle = t_points.copy()\n",
    "\n",
    "    a = this_triangle[0] - this_triangle[1]\n",
    "    b = this_triangle[0] - this_triangle[2]\n",
    "    areas = np.abs(a[0] * b[1] - a[1] * b[0])\n",
    "    a = points_[...,] - this_triangle[0, None, None]\n",
    "    b = points_[...,] - this_triangle[1, None, None]\n",
    "    c = points_[...,] - this_triangle[2, None, None]\n",
    "    area1 = np.abs(a[..., 0] * b[..., 1] - a[..., 1] * b[..., 0])\n",
    "    area2 = np.abs(a[..., 0] * c[..., 1] - a[..., 1] * c[..., 0])\n",
    "    area3 = np.abs(b[..., 0] * c[..., 1] - b[..., 1] * c[..., 0])\n",
    "    indices = np.where(np.isclose((area1 + area2 + area3), areas))\n",
    "\n",
    "    cb = transform_basis(this_triangle)\n",
    "\n",
    "    resulting_fn = (\n",
    "        fn_values[p_idx[1]][0] * cb[0]\n",
    "        + fn_values[p_idx[2]][0] * cb[1]\n",
    "        + fn_values[p_idx[0]][0] * cb[2]\n",
    "    )\n",
    "    resulting_fn_x = (\n",
    "        fn_values[p_idx[1]][1] * cb[3]\n",
    "        + fn_values[p_idx[2]][1] * cb[4]\n",
    "        + fn_values[p_idx[0]][1] * cb[5]\n",
    "    )\n",
    "    resulting_fn_y = (\n",
    "        fn_values[p_idx[1]][2] * cb[6]\n",
    "        + fn_values[p_idx[2]][2] * cb[7]\n",
    "        + fn_values[p_idx[0]][2] * cb[8]\n",
    "    )\n",
    "\n",
    "    all_f = resulting_fn + resulting_fn_x + resulting_fn_y\n",
    "\n",
    "    vals = sympy.lambdify((x, y), all_f.diff(y))(mx, my)\n",
    "\n",
    "    if isinstance(vals, (int, float)):\n",
    "        vals = np.ones_like(mz) * vals\n",
    "\n",
    "    mz[indices] = vals[indices]"
   ]
  },
  {
   "cell_type": "code",
   "execution_count": null,
   "id": "6c8b8305",
   "metadata": {},
   "outputs": [],
   "source": [
    "%matplotlib widget\n",
    "fig = plt.figure(figsize=(10, 10))\n",
    "ax = plt.axes(projection=\"3d\")\n",
    "ax.plot_surface(mx, my, mz, cmap=\"magma\")\n",
    "plt.show()"
   ]
  }
 ],
 "metadata": {
  "kernelspec": {
   "display_name": "Python 3 (ipykernel)",
   "language": "python",
   "name": "python3"
  },
  "language_info": {
   "codemirror_mode": {
    "name": "ipython",
    "version": 3
   },
   "file_extension": ".py",
   "mimetype": "text/x-python",
   "name": "python",
   "nbconvert_exporter": "python",
   "pygments_lexer": "ipython3",
   "version": "3.9.12"
  }
 },
 "nbformat": 4,
 "nbformat_minor": 5
}
