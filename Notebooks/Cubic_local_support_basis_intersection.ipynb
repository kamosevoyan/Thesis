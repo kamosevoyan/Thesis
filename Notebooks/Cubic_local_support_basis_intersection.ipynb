{
 "cells": [
  {
   "cell_type": "code",
   "execution_count": null,
   "id": "4331cae4",
   "metadata": {},
   "outputs": [],
   "source": [
    "import matplotlib.pyplot as plt\n",
    "import numpy as np\n",
    "import matplotlib.patches as mpatches"
   ]
  },
  {
   "cell_type": "code",
   "execution_count": null,
   "id": "82912470",
   "metadata": {},
   "outputs": [],
   "source": [
    "X = np.arange(-2, 10, 1)\n",
    "Y = np.arange(-2, 10, 1)"
   ]
  },
  {
   "cell_type": "code",
   "execution_count": null,
   "id": "7db1397a",
   "metadata": {},
   "outputs": [],
   "source": [
    "fig, ax = plt.subplots(figsize=(8, 8))\n",
    "\n",
    "for i, _ in enumerate(Y):\n",
    "    ax.axvline(x=Y[i])\n",
    "\n",
    "for j, _ in enumerate(X):\n",
    "    ax.axhline(y=Y[j])\n",
    "\n",
    "ax.axis(\"equal\")\n",
    "ax.set_xlim([-2, 9])\n",
    "ax.set_ylim([-2, 9])\n",
    "\n",
    "left, bottom, width, height = (3, 3, 1, 1)\n",
    "\n",
    "rect = mpatches.Rectangle((left, bottom), width, height, facecolor=(0.4, 0, 0))\n",
    "fig.gca().add_patch(rect)\n",
    "\n",
    "for i in range(Y.shape[0]):\n",
    "    for j in range(X.shape[0]):\n",
    "        if ((abs(i - 3) == 1) and (abs(j - 3) <= 1)) or (\n",
    "            (abs(j - 3) == 1) and (abs(i - 3) <= 1)\n",
    "        ):\n",
    "            rect = mpatches.Rectangle(\n",
    "                (left - (j - 3), bottom - (i - 3)), width, height, facecolor=(0.6, 0, 0)\n",
    "            )\n",
    "            fig.gca().add_patch(rect)\n",
    "\n",
    "        elif ((abs(i - 3) == 2) and (abs(j - 3) <= 2)) or (\n",
    "            (abs(j - 3) == 2) and (abs(i - 3) <= 2)\n",
    "        ):\n",
    "            rect = mpatches.Rectangle(\n",
    "                (left - (j - 3), bottom - (i - 3)), width, height, facecolor=(0.8, 0, 0)\n",
    "            )\n",
    "            fig.gca().add_patch(rect)\n",
    "        elif ((abs(i - 3) == 3) and (abs(j - 3) <= 3)) or (\n",
    "            (abs(j - 3) == 3) and (abs(i - 3) <= 3)\n",
    "        ):\n",
    "            rect = mpatches.Rectangle(\n",
    "                (left - (j - 3), bottom - (i - 3)), width, height, facecolor=(1.0, 0, 0)\n",
    "            )\n",
    "            fig.gca().add_patch(rect)\n",
    "\n",
    "ax.text(3.5, 3.5, rf\"$\\varphi^{{kl}}$\", horizontalalignment=\"center\", fontsize=15)\n",
    "\n",
    "fig.tight_layout()\n",
    "ax.grid(False)\n",
    "plt.axis(\"off\")\n",
    "\n",
    "plt.show()"
   ]
  },
  {
   "cell_type": "code",
   "execution_count": null,
   "id": "2b80b108",
   "metadata": {},
   "outputs": [],
   "source": [
    "# fig.savefig('../images/two_dimensional_basis_intersection', dpi=200, transparent=True)"
   ]
  }
 ],
 "metadata": {
  "kernelspec": {
   "display_name": "Python 3 (ipykernel)",
   "language": "python",
   "name": "python3"
  },
  "language_info": {
   "codemirror_mode": {
    "name": "ipython",
    "version": 3
   },
   "file_extension": ".py",
   "mimetype": "text/x-python",
   "name": "python",
   "nbconvert_exporter": "python",
   "pygments_lexer": "ipython3",
   "version": "3.9.12"
  }
 },
 "nbformat": 4,
 "nbformat_minor": 5
}
