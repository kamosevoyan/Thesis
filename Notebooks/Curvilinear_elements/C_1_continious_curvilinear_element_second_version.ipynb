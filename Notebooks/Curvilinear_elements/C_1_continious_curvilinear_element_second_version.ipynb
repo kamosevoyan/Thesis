{
 "cells": [
  {
   "cell_type": "code",
   "execution_count": null,
   "metadata": {},
   "outputs": [],
   "source": [
    "import sympy\n",
    "import symfem\n",
    "import numpy as np\n",
    "import matplotlib.pyplot as plt\n",
    "from sympy import lambdify\n",
    "import dill\n",
    "dill.settings[\"recurse\"] = True\n",
    "from sympy import Rational as R\n",
    "from tqdm.notebook import tqdm"
   ]
  },
  {
   "cell_type": "markdown",
   "metadata": {},
   "source": [
    "## Define necessary symbols"
   ]
  },
  {
   "cell_type": "code",
   "execution_count": null,
   "metadata": {},
   "outputs": [],
   "source": [
    "x, y, p, q = sympy.symbols(\"x y p q\")\n",
    "x1, x2, x3, x4, x5, x6 = sympy.symbols(\"x1:7\")\n",
    "y1, y2, y3, y4, y5, y6 = sympy.symbols(\"y1:7\")\n",
    "s = sympy.symbols(\"s\")"
   ]
  },
  {
   "attachments": {},
   "cell_type": "markdown",
   "metadata": {},
   "source": [
    "## Get shape functions"
   ]
  },
  {
   "cell_type": "code",
   "execution_count": null,
   "metadata": {},
   "outputs": [],
   "source": [
    "monomial_basis = sympy.Matrix([\n",
    "    1,\n",
    "    x,\n",
    "    x**2,\n",
    "    x**3,\n",
    "    y,\n",
    "    y**2,\n",
    "    y**3,\n",
    "    x*y,\n",
    "    x*y**2,\n",
    "    x**2*y\n",
    "])\n",
    "\n",
    "V = sympy.zeros(10, 10)\n",
    "\n",
    "for i, basis in enumerate(monomial_basis):\n",
    "    \n",
    "    V[i, 0] = basis.subs({x: 0, y: 0})\n",
    "    V[i, 1] = basis.subs({x: 1, y: 0})\n",
    "    V[i, 2] = basis.subs({x: 0, y: 1})\n",
    "\n",
    "    V[i, 3] = -basis.subs(y, 1-x).diff(x).subs({x: 1})\n",
    "    V[i, 4] = -basis.subs(y, 1-x).diff(x).subs({x: 0})\n",
    "\n",
    "    V[i, 5] = +basis.subs({x: 0, y:s}).diff(s).subs({s: 0})\n",
    "    V[i, 6] = +basis.subs({x: 0, y:s}).diff(s).subs({s: 1})\n",
    "\n",
    "    V[i, 7] = +basis.subs({x: s, y:0}).diff(s).subs({s: 0})\n",
    "    V[i, 8] = +basis.subs({x: s, y:0}).diff(s).subs({s: 1})\n",
    "\n",
    "    # center of mass\n",
    "    V[i, 9] = basis.subs({x: R(1,3), y: R(1,3)})\n",
    "new_basis = V.inv() @ monomial_basis"
   ]
  },
  {
   "cell_type": "markdown",
   "metadata": {},
   "source": [
    "## Test the result on an example"
   ]
  },
  {
   "cell_type": "code",
   "execution_count": null,
   "metadata": {},
   "outputs": [],
   "source": [
    "phi = np.linspace(0, 0.5, 100)\n",
    "r = 1\n",
    "\n",
    "cx = r*np.cos(phi)\n",
    "cy = r*np.sin(phi)\n",
    "\n",
    "points = np.array([\n",
    "    [0.0, 0.0],\n",
    "    [cx[0], cy[0]],\n",
    "    [cx[-1], cy[-1]]\n",
    "])\n",
    "\n",
    "rm = np.array([\n",
    "    [0, -1],\n",
    "    [1, 0]\n",
    "])\n",
    "\n",
    "v21 = points[2] - points[0]\n",
    "v22 = points[2] - points[0]\n",
    "\n",
    "v31 = points[1] - points[0]\n",
    "v32 = points[1] - points[0]\n",
    "\n",
    "# v11 = np.array([+0.5, +1.0])\n",
    "# v11 /= np.linalg.norm(v11)\n",
    "# v12 = np.array([-1.0, -0.5])\n",
    "# v12 /= np.linalg.norm(v12)\n",
    "\n",
    "# v11 = (rm @ v31).astype(float)\n",
    "# v11 /= np.linalg.norm(v11)\n",
    "# v12 = (rm @ v21).astype(float)\n",
    "# v12 /= np.linalg.norm(v12)\n",
    "\n",
    "base_angle = np.arccos(v21@v32 / np.linalg.norm(v21) / np.linalg.norm(v31))\n",
    "v11 = np.array([-np.sin(phi[+0]), np.cos(phi[+0])]) * base_angle * r\n",
    "v12 = np.array([-np.sin(phi[-1]), np.cos(phi[-1])]) * base_angle * r"
   ]
  },
  {
   "cell_type": "code",
   "execution_count": null,
   "metadata": {},
   "outputs": [],
   "source": [
    "X = points[0, 0]*new_basis[0] + points[1, 0]*new_basis[1] + points[2, 0]*new_basis[2] + \\\n",
    "    v11[0]*new_basis[3] + v12[0]*new_basis[4] + \\\n",
    "    v21[0]*new_basis[5] + v22[0]*new_basis[6] + \\\n",
    "    v31[0]*new_basis[7] + v32[0]*new_basis[8] + \\\n",
    "    points[:3, 0].mean()*new_basis[9]\n",
    "\n",
    "Y = points[0, 1]*new_basis[0] + points[1, 1]*new_basis[1] + points[2, 1]*new_basis[2] + \\\n",
    "    v11[1]*new_basis[3] + v12[1]*new_basis[4] + \\\n",
    "    v21[1]*new_basis[5] + v22[1]*new_basis[6] + \\\n",
    "    v31[1]*new_basis[7] + v32[1]*new_basis[8] + \\\n",
    "    points[:3, 1].mean()*new_basis[9]\n"
   ]
  },
  {
   "cell_type": "code",
   "execution_count": null,
   "metadata": {},
   "outputs": [],
   "source": [
    "tt = np.linspace(0, 1, 100)\n",
    "e1_x = sympy.lambdify([x, y], X)(tt, 1-tt)\n",
    "e1_y = sympy.lambdify([x, y], Y)(tt, 1-tt)\n",
    "\n",
    "e2_x = sympy.lambdify([x, y], X)(0, tt)\n",
    "e2_y = sympy.lambdify([x, y], Y)(0, tt)\n",
    "\n",
    "e3_x = sympy.lambdify([x, y], X)(tt, 0)\n",
    "e3_y = sympy.lambdify([x, y], Y)(tt, 0)"
   ]
  },
  {
   "cell_type": "markdown",
   "metadata": {},
   "source": [
    "## Visualization"
   ]
  },
  {
   "cell_type": "code",
   "execution_count": null,
   "metadata": {},
   "outputs": [],
   "source": [
    "%matplotlib inline\n",
    "fig, ax = plt.subplots(figsize=(8, 8))\n",
    "\n",
    "ax.plot(e1_x, e1_y, ls=\"--\")\n",
    "ax.plot([cx[0], cx[-1]], [cy[0], cy[-1]], ls=\"-.\")\n",
    "ax.plot(cx, cy)\n",
    "ax.legend([\"Cubic apprximation\", \"Linear approximation\", \"True curve\"])\n",
    "\n",
    "ax.plot(e2_x, e2_y)\n",
    "ax.plot(e3_x, e3_y)\n",
    "\n",
    "ax.quiver(points[1, 0], points[1, 1], v11[0], v11[1])\n",
    "ax.quiver(points[2, 0], points[2, 1], v12[0], v12[1])\n",
    "\n",
    "ax.quiver(points[0, 0], points[0, 1], v21[0], v21[1])\n",
    "ax.quiver(points[2, 0], points[2, 1], v22[0], v22[1])\n",
    "\n",
    "ax.quiver(points[0, 0], points[0, 1], v31[0], v31[1])\n",
    "ax.quiver(points[1, 0], points[1, 1], v32[0], v32[1])\n",
    "\n",
    "ax.axis(\"equal\");\n",
    "fig.tight_layout()"
   ]
  },
  {
   "cell_type": "markdown",
   "metadata": {},
   "source": [
    "## Check Jacobian"
   ]
  },
  {
   "cell_type": "code",
   "execution_count": null,
   "metadata": {},
   "outputs": [],
   "source": [
    "J = sympy.Matrix([X, Y]).jacobian([x, y])"
   ]
  },
  {
   "cell_type": "code",
   "execution_count": null,
   "metadata": {},
   "outputs": [],
   "source": [
    "t = np.linspace(0.0, 1, 50)\n",
    "tx, ty = np.meshgrid(t, t, indexing=\"ij\")\n",
    "mask = (1-tx >= ty)\n",
    "tx = tx[mask]\n",
    "ty = ty[mask]"
   ]
  },
  {
   "cell_type": "code",
   "execution_count": null,
   "metadata": {},
   "outputs": [],
   "source": [
    "tz = sympy.lambdify([x, y], J.det())(tx, ty)"
   ]
  },
  {
   "cell_type": "code",
   "execution_count": null,
   "metadata": {},
   "outputs": [],
   "source": [
    "%matplotlib widget\n",
    "fig, ax = plt.subplots(figsize=(6, 6), subplot_kw=dict(projection=\"3d\"))\n",
    "ax.plot_trisurf(tx, ty, tz)\n",
    "fig.tight_layout()\n",
    "plt.show()"
   ]
  },
  {
   "cell_type": "markdown",
   "metadata": {},
   "source": [
    "## Define Argyris basis on the element"
   ]
  },
  {
   "cell_type": "code",
   "execution_count": null,
   "metadata": {},
   "outputs": [],
   "source": [
    "J_ = sympy.Matrix([X, Y]).jacobian([x, y])"
   ]
  },
  {
   "cell_type": "code",
   "execution_count": null,
   "metadata": {},
   "outputs": [],
   "source": [
    "x, y, x_1, y_1, x_2, y_2, x_3, y_3 = sympy.symbols(\"x y x1 y1 x2 y2 x3 y3\")\n",
    "\n",
    "rotation_matrix = sympy.Matrix(\n",
    "    [\n",
    "        [+R(0), +R(1)],\n",
    "        [-R(1), +R(0)]\n",
    "    ]\n",
    ")\n",
    "\n",
    "t1_hat = sympy.Matrix([-R(1), +R(1)]) / sympy.sqrt(2)\n",
    "t2_hat = sympy.Matrix([+R(0), +R(1)])\n",
    "t3_hat = sympy.Matrix([+R(1), +R(0)])\n",
    "\n",
    "n1_hat = rotation_matrix @ t1_hat\n",
    "n2_hat = rotation_matrix @ t2_hat\n",
    "n3_hat = rotation_matrix @ t3_hat\n",
    "\n",
    "G1_hat = n1_hat.row_join(t1_hat).T\n",
    "G2_hat = n2_hat.row_join(t2_hat).T\n",
    "G3_hat = n3_hat.row_join(t3_hat).T\n",
    "\n",
    "l1 = ((x_3 - x_2) ** 2 + (y_3 - y_2) ** 2) ** R(1, 2)\n",
    "l2 = ((x_3 - x_1) ** 2 + (y_3 - y_1) ** 2) ** R(1, 2)\n",
    "l3 = ((x_2 - x_1) ** 2 + (y_2 - y_1) ** 2) ** R(1, 2)\n",
    "\n",
    "t1 = sympy.Matrix([x_3 - x_2, y_3 - y_2]) / l1\n",
    "t2 = sympy.Matrix([x_3 - x_1, y_3 - y_1]) / l2\n",
    "t3 = sympy.Matrix([x_2 - x_1, y_2 - y_1]) / l3\n",
    "\n",
    "n1 = rotation_matrix @ t1\n",
    "n2 = rotation_matrix @ t2\n",
    "n3 = rotation_matrix @ t3\n",
    "\n",
    "tau_1 = sympy.Matrix([t1[0] ** 2, 2 * t1[0] * t1[1], t1[1] ** 2])\n",
    "tau_2 = sympy.Matrix([t2[0] ** 2, 2 * t2[0] * t2[1], t2[1] ** 2])\n",
    "tau_3 = sympy.Matrix([t3[0] ** 2, 2 * t3[0] * t3[1], t3[1] ** 2])\n",
    "\n",
    "J = J_.inv()\n",
    "\n",
    "THETA = sympy.Matrix(\n",
    "    [\n",
    "        [J[0, 0]**2, 2*J[0, 0]*J[1, 0], J[1, 0]**2],\n",
    "        [J[0, 1]*J[0, 0], J[0, 1]*J[1, 0] + J[0, 0]*J[1, 1], J[1, 0]*J[1, 1]],\n",
    "        [J[0, 1]**2, 2*J[0, 1]*J[1, 1], J[1, 1]**2],\n",
    "    ]\n",
    ")\n",
    "\n",
    "G1 = n1.row_join(t1).T\n",
    "G2 = n2.row_join(t2).T\n",
    "G3 = n3.row_join(t3).T\n",
    "\n",
    "B1 = G1_hat @ J_.T @ G1.T\n",
    "B2 = G2_hat @ J_.T @ G2.T\n",
    "B3 = G3_hat @ J_.T @ G3.T"
   ]
  },
  {
   "cell_type": "code",
   "execution_count": null,
   "metadata": {},
   "outputs": [],
   "source": [
    "kv = {\n",
    "    x1: points[0, 0],\n",
    "    x2: points[1, 0],\n",
    "    x3: points[2, 0],\n",
    "    y1: points[0, 1],\n",
    "    y2: points[1, 1],\n",
    "    y3: points[2, 1],\n",
    "}"
   ]
  },
  {
   "cell_type": "code",
   "execution_count": null,
   "metadata": {},
   "outputs": [],
   "source": [
    "V_c = sympy.diag(\n",
    "    1,\n",
    "    J_.T.subs({x: 0, y: 0}),\n",
    "    THETA.subs({x: 0, y: 0}).inv(),\n",
    "    1,\n",
    "    J_.T.subs({x: 1, y: 0}),\n",
    "    THETA.subs({x: 1, y: 0}),\n",
    "    1,\n",
    "    J_.T.subs({x: 0, y: 1}),\n",
    "    THETA.subs({x: 0, y: 1}).inv(),\n",
    "\n",
    "    B1.subs({x: 0.5, y: 0.5}),\n",
    "    B2.subs({x: 0.0, y: 0.5}),\n",
    "    B3.subs({x: 0.5, y: 0.5}),\n",
    ").subs(kv)"
   ]
  },
  {
   "cell_type": "code",
   "execution_count": null,
   "metadata": {},
   "outputs": [],
   "source": [
    "E = np.zeros((21, 24), dtype=int)\n",
    "for i in range(21):\n",
    "    for j in range(24):\n",
    "        if (i <= 18) and (j <= 18) and (i == j):\n",
    "            E[i][j] = 1\n",
    "        elif (i == 19) and (j == 20):\n",
    "            E[i][j] = 1\n",
    "        elif (i == 20) and (j == 22):\n",
    "            E[i][j] = 1\n",
    "E = sympy.Matrix(E)"
   ]
  },
  {
   "cell_type": "code",
   "execution_count": null,
   "metadata": {},
   "outputs": [],
   "source": [
    "D = sympy.Matrix(\n",
    "    [\n",
    "        [1, 0, 0, 0, 0, 0, 0, 0, 0, 0, 0, 0, 0, 0, 0, 0, 0, 0, 0, 0, 0],\n",
    "        [0, 1, 0, 0, 0, 0, 0, 0, 0, 0, 0, 0, 0, 0, 0, 0, 0, 0, 0, 0, 0],\n",
    "        [0, 0, 1, 0, 0, 0, 0, 0, 0, 0, 0, 0, 0, 0, 0, 0, 0, 0, 0, 0, 0],\n",
    "        [0, 0, 0, 1, 0, 0, 0, 0, 0, 0, 0, 0, 0, 0, 0, 0, 0, 0, 0, 0, 0],\n",
    "        [0, 0, 0, 0, 1, 0, 0, 0, 0, 0, 0, 0, 0, 0, 0, 0, 0, 0, 0, 0, 0],\n",
    "        [0, 0, 0, 0, 0, 1, 0, 0, 0, 0, 0, 0, 0, 0, 0, 0, 0, 0, 0, 0, 0],\n",
    "        [0, 0, 0, 0, 0, 0, 1, 0, 0, 0, 0, 0, 0, 0, 0, 0, 0, 0, 0, 0, 0],\n",
    "        [0, 0, 0, 0, 0, 0, 0, 1, 0, 0, 0, 0, 0, 0, 0, 0, 0, 0, 0, 0, 0],\n",
    "        [0, 0, 0, 0, 0, 0, 0, 0, 1, 0, 0, 0, 0, 0, 0, 0, 0, 0, 0, 0, 0],\n",
    "        [0, 0, 0, 0, 0, 0, 0, 0, 0, 1, 0, 0, 0, 0, 0, 0, 0, 0, 0, 0, 0],\n",
    "        [0, 0, 0, 0, 0, 0, 0, 0, 0, 0, 1, 0, 0, 0, 0, 0, 0, 0, 0, 0, 0],\n",
    "        [0, 0, 0, 0, 0, 0, 0, 0, 0, 0, 0, 1, 0, 0, 0, 0, 0, 0, 0, 0, 0],\n",
    "        [0, 0, 0, 0, 0, 0, 0, 0, 0, 0, 0, 0, 1, 0, 0, 0, 0, 0, 0, 0, 0],\n",
    "        [0, 0, 0, 0, 0, 0, 0, 0, 0, 0, 0, 0, 0, 1, 0, 0, 0, 0, 0, 0, 0],\n",
    "        [0, 0, 0, 0, 0, 0, 0, 0, 0, 0, 0, 0, 0, 0, 1, 0, 0, 0, 0, 0, 0],\n",
    "        [0, 0, 0, 0, 0, 0, 0, 0, 0, 0, 0, 0, 0, 0, 0, 1, 0, 0, 0, 0, 0],\n",
    "        [0, 0, 0, 0, 0, 0, 0, 0, 0, 0, 0, 0, 0, 0, 0, 0, 1, 0, 0, 0, 0],\n",
    "        [0, 0, 0, 0, 0, 0, 0, 0, 0, 0, 0, 0, 0, 0, 0, 0, 0, 1, 0, 0, 0],\n",
    "        [0, 0, 0, 0, 0, 0, 0, 0, 0, 0, 0, 0, 0, 0, 0, 0, 0, 0, 1, 0, 0],\n",
    "        [\n",
    "            0,\n",
    "            0,\n",
    "            0,\n",
    "            0,\n",
    "            0,\n",
    "            0,\n",
    "            -R(15, 8) / l1,\n",
    "            -R(7, 16) * t1[0],\n",
    "            -R(7, 16) * t1[1],\n",
    "            -l1 / 32 * tau_1[0],\n",
    "            -l1 / 32 * tau_1[1],\n",
    "            -l1 / 32 * tau_1[2],\n",
    "            +R(15, 8) / l1,\n",
    "            -R(7, 16) * t1[0],\n",
    "            -R(7, 16) * t1[1],\n",
    "            +l1 / 32 * tau_1[0],\n",
    "            +l1 / 32 * tau_1[1],\n",
    "            +l1 / 32 * tau_1[2],\n",
    "            0,\n",
    "            0,\n",
    "            0,\n",
    "        ],\n",
    "        [0, 0, 0, 0, 0, 0, 0, 0, 0, 0, 0, 0, 0, 0, 0, 0, 0, 0, 0, 1, 0],\n",
    "        [\n",
    "            -R(15, 8) / l2,\n",
    "            -R(7, 16) * t2[0],\n",
    "            -R(7, 16) * t2[1],\n",
    "            -l2 / 32 * tau_2[0],\n",
    "            -l2 / 32 * tau_2[1],\n",
    "            -l2 / 32 * tau_2[2],\n",
    "            0,\n",
    "            0,\n",
    "            0,\n",
    "            0,\n",
    "            0,\n",
    "            0,\n",
    "            +R(15, 8) / l2,\n",
    "            -R(7, 16) * t2[0],\n",
    "            -R(7, 16) * t2[1],\n",
    "            +l2 / 32 * tau_2[0],\n",
    "            +l2 / 32 * tau_2[1],\n",
    "            +l2 / 32 * tau_2[2],\n",
    "            0,\n",
    "            0,\n",
    "            0,\n",
    "        ],\n",
    "        [0, 0, 0, 0, 0, 0, 0, 0, 0, 0, 0, 0, 0, 0, 0, 0, 0, 0, 0, 0, 1],\n",
    "        [\n",
    "            -R(15, 8) / l3,\n",
    "            -R(7, 16) * t3[0],\n",
    "            -R(7, 16) * t3[1],\n",
    "            -l3 / 32 * tau_3[0],\n",
    "            -l3 / 32 * tau_3[1],\n",
    "            -l3 / 32 * tau_3[2],\n",
    "            +R(15, 8) / l3,\n",
    "            -R(7, 16) * t3[0],\n",
    "            -R(7, 16) * t3[1],\n",
    "            +l3 / 32 * tau_3[0],\n",
    "            +l3 / 32 * tau_3[1],\n",
    "            +l3 / 32 * tau_3[2],\n",
    "            0,\n",
    "            0,\n",
    "            0,\n",
    "            0,\n",
    "            0,\n",
    "            0,\n",
    "            0,\n",
    "            0,\n",
    "            0,\n",
    "        ],\n",
    "    ]\n",
    ").subs(kv)"
   ]
  },
  {
   "cell_type": "code",
   "execution_count": null,
   "metadata": {},
   "outputs": [],
   "source": [
    "V = E @ V_c @ D\n",
    "M = V.T"
   ]
  },
  {
   "cell_type": "code",
   "execution_count": null,
   "metadata": {},
   "outputs": [],
   "source": [
    "argyris_basis = dill.load(open(\"../calculations/argyris_basis\", \"rb\"))"
   ]
  },
  {
   "cell_type": "code",
   "execution_count": null,
   "metadata": {},
   "outputs": [],
   "source": [
    "physical_basis = sympy.lambdify([x, y], M@argyris_basis)"
   ]
  },
  {
   "cell_type": "code",
   "execution_count": null,
   "metadata": {},
   "outputs": [],
   "source": [
    "grid = np.linspace(0, 1, 30)\n",
    "grid_x, grid_y = np.meshgrid(grid, grid, indexing=\"ij\")\n",
    "mask = (grid_y <= 1 - grid_x)\n",
    "reference_x = grid_x[mask]\n",
    "reference_y = grid_y[mask]"
   ]
  },
  {
   "cell_type": "code",
   "execution_count": null,
   "metadata": {},
   "outputs": [],
   "source": [
    "physical_x = sympy.lambdify([x, y], X.subs(kv))(reference_x, reference_y)\n",
    "physical_y = sympy.lambdify([x, y], Y.subs(kv))(reference_x, reference_y)"
   ]
  },
  {
   "cell_type": "code",
   "execution_count": null,
   "metadata": {},
   "outputs": [],
   "source": [
    "iv = np.array([\n",
    "    1, 0, 0, 0, 0, 0,\n",
    "    0, 0, 0, 0, 0, 0,\n",
    "    0, 0, 0, 0, 0, 0,\n",
    "    0, 0, 0\n",
    "])"
   ]
  },
  {
   "cell_type": "code",
   "execution_count": null,
   "metadata": {},
   "outputs": [],
   "source": [
    "physical_z = iv@physical_basis(reference_x, reference_y)[:, 0]"
   ]
  },
  {
   "cell_type": "code",
   "execution_count": null,
   "metadata": {},
   "outputs": [],
   "source": [
    "%matplotlib widget\n",
    "fig, ax = plt.subplots(figsize=(6, 6), subplot_kw=dict(projection=\"3d\"))\n",
    "ax.plot_trisurf(physical_x, physical_y, physical_z)\n",
    "fig.tight_layout()\n",
    "plt.show()"
   ]
  },
  {
   "cell_type": "code",
   "execution_count": null,
   "metadata": {},
   "outputs": [],
   "source": [
    "v1x, v1y, v2x, v2y = sympy.symbols(\"v_{1x} v_{1y} v_{2x} v_{2y}\")\n",
    "\n",
    "X = x1*new_basis[0] + x2*new_basis[1] + x3*new_basis[2] + \\\n",
    "    v1x*new_basis[3] + v2x*new_basis[4] + \\\n",
    "    (x2-x1)*new_basis[5] + (x2-x1)*new_basis[6] + \\\n",
    "    (x3-x1)*new_basis[7] + (x2-x1)*new_basis[8] + \\\n",
    "    (x1+x2+x3)/3*new_basis[9]\n",
    "\n",
    "Y = y1*new_basis[0] + y2*new_basis[1] + y3*new_basis[2] + \\\n",
    "    v1y*new_basis[3] + v2y*new_basis[4] + \\\n",
    "    (y2-y1)*new_basis[5] + (y2-y1)*new_basis[6] + \\\n",
    "    (y3-y1)*new_basis[7] + (y2-y1)*new_basis[8] + \\\n",
    "    (y1+y2+y3)/3*new_basis[9]\n"
   ]
  },
  {
   "cell_type": "code",
   "execution_count": null,
   "metadata": {},
   "outputs": [],
   "source": [
    "J = sympy.Matrix([X, Y]).jacobian([x, y])"
   ]
  },
  {
   "cell_type": "markdown",
   "metadata": {},
   "source": [
    "## Numerical integration"
   ]
  },
  {
   "cell_type": "markdown",
   "metadata": {},
   "source": [
    "### N = 7"
   ]
  },
  {
   "cell_type": "code",
   "execution_count": null,
   "metadata": {},
   "outputs": [],
   "source": [
    "def gauss_quad_7(function):\n",
    "\n",
    "    a, b = +0.0651301029022, +0.8697397941956\n",
    "    c, d = +0.3128654960049, +0.6384441885698\n",
    "    e, f = +0.0486903154253, +0.2603459660790\n",
    "    g, h = +0.4793080678419, +0.0266736178044\n",
    "    i, j = +0.0385568804451, +0.0878076287166\n",
    "    k = -0.0747850222338\n",
    "\n",
    "    return (\n",
    "    function.subs({x:a, y:a})*h + \\\n",
    "    function.subs({x:b, y:a})*h + \\\n",
    "    function.subs({x:a, y:b})*h + \\\n",
    "    function.subs({x:c, y:e})*i + \\\n",
    "    function.subs({x:d, y:c})*i + \\\n",
    "    function.subs({x:e, y:d})*i + \\\n",
    "    function.subs({x:d, y:e})*i + \\\n",
    "    function.subs({x:c, y:d})*i + \\\n",
    "    function.subs({x:e, y:c})*i + \\\n",
    "    function.subs({x:f, y:f})*j + \\\n",
    "    function.subs({x:g, y:f})*j + \\\n",
    "    function.subs({x:f, y:g})*j + \\\n",
    "    function.subs({x:1/3, y:1/3})*k)"
   ]
  },
  {
   "cell_type": "code",
   "execution_count": null,
   "metadata": {},
   "outputs": [],
   "source": [
    "kv = {\n",
    "    x1: points[0, 0],\n",
    "    x2: points[1, 0],\n",
    "    x3: points[2, 0],\n",
    "    y1: points[0, 1],\n",
    "    y2: points[1, 1],\n",
    "    y3: points[2, 1],\n",
    "    v1x: v11[0],\n",
    "    v1y: v11[1],\n",
    "    v2x: v21[0],\n",
    "    v2y: v21[1],\n",
    "}"
   ]
  },
  {
   "cell_type": "code",
   "execution_count": null,
   "metadata": {},
   "outputs": [],
   "source": [
    "J_inv = sympy.Matrix(\n",
    "    [\n",
    "        [+J[1, 1], -J[0, 1]],\n",
    "        [-J[1, 0], +J[0, 0]]\n",
    "    ]) / J.det()"
   ]
  },
  {
   "cell_type": "code",
   "execution_count": null,
   "metadata": {},
   "outputs": [],
   "source": [
    "N = len(argyris_basis)\n",
    "\n",
    "result_b = [[0 for i in range(N)] for j in range(N)]\n",
    "result_B = [[0 for i in range(N)] for j in range(N)]\n",
    "result_A = [[0 for i in range(N)] for j in range(N)]\n",
    "\n",
    "J_simp = J_inv\n",
    "\n",
    "for idx, jdx in tqdm([(idx, jdx) for idx in range(N) for jdx in range(N)]):\n",
    "    \n",
    "    first = argyris_basis[idx]\n",
    "    second = argyris_basis[jdx]\n",
    "\n",
    "    # -----------------------U------------------------------------------------------------------------------\n",
    "    u_x = first.diff(x) * J_simp.row(0)[0] + first.diff(y) * J_simp.row(1)[0]\n",
    "    u_y = first.diff(x) * J_simp.row(0)[1] + first.diff(y) * J_simp.row(1)[1]\n",
    "\n",
    "    u_xx = u_x.diff(x) * J_simp.row(0)[0] + u_x.diff(y) * J_simp.row(1)[0]\n",
    "    u_xy = u_x.diff(x) * J_simp.row(0)[1] + u_x.diff(y) * J_simp.row(1)[1]\n",
    "\n",
    "    u_yy = u_y.diff(x) * J_simp.row(0)[1] + u_y.diff(y) * J_simp.row(1)[1]\n",
    "    # ------------------------------------------------------------------------------------------------------\n",
    "\n",
    "    # -----------------------V------------------------------------------------------------------------------\n",
    "    v_x = second.diff(x) * J_simp.row(0)[0] + second.diff(y) * J_simp.row(1)[0]\n",
    "    v_y = second.diff(x) * J_simp.row(0)[1] + second.diff(y) * J_simp.row(1)[1]\n",
    "\n",
    "    v_xx = v_x.diff(x) * J_simp.row(0)[0] + v_x.diff(y) * J_simp.row(1)[0]\n",
    "    v_xy = v_x.diff(x) * J_simp.row(0)[1] + v_x.diff(y) * J_simp.row(1)[1]\n",
    "\n",
    "    v_yy = v_y.diff(x) * J_simp.row(0)[1] + v_y.diff(y) * J_simp.row(1)[1]\n",
    "    # ------------------------------------------------------------------------------------------------------\n",
    "\n",
    "    # -----------------------bilinear-form------------------------------------------------------------------\n",
    "    A = u_xx * v_xx\n",
    "    B = u_xy * v_xy\n",
    "    b = u_xx * v_yy\n",
    "    C = u_yy * v_yy\n",
    "    # ------------------------------------------------------------------------------------------------------\n",
    "\n",
    "    # -----------------------integrals----------------------------------------------------------------------\n",
    "    # sym_int_B = sympy.integrate(A + R(2) * B + C, (y, 0, 1 - x), (x, 0, 1))\n",
    "    # sym_int_b = sympy.integrate(A + R(2) * b + C, (y, 0, 1 - x), (x, 0, 1))\n",
    "    # sym_int_A = sympy.integrate(first * second, (y, 0, 1 - x), (x, 0, 1))\n",
    "\n",
    "    integral_est = gauss_quad_7(sympy.lambdify([x, y], (A + 2*B + C)*J_simp.det()))\n",
    "\n",
    "\n",
    "    # result_B[idx][jdx] = sym_int_B\n",
    "    # result_b[idx][jdx] = sym_int_b\n",
    "    # result_A[idx][jdx] = sym_int_A\n",
    "# -----------------------------------------------------------------------------------------------------\n",
    "\n",
    "# result_b = sympy.Matrix(result_b)\n",
    "# result_B = sympy.Matrix(result_B)\n",
    "# result_A = sympy.Matrix(result_A)\n",
    "\n",
    "# result_A = result_A * abs(J.inv().det())\n",
    "# result_b = result_b * abs(J.inv().det())\n",
    "# result_B = result_B * abs(J.inv().det())"
   ]
  }
 ],
 "metadata": {
  "kernelspec": {
   "display_name": "base",
   "language": "python",
   "name": "python3"
  },
  "language_info": {
   "codemirror_mode": {
    "name": "ipython",
    "version": 3
   },
   "file_extension": ".py",
   "mimetype": "text/x-python",
   "name": "python",
   "nbconvert_exporter": "python",
   "pygments_lexer": "ipython3",
   "version": "3.9.12"
  },
  "orig_nbformat": 4
 },
 "nbformat": 4,
 "nbformat_minor": 2
}
