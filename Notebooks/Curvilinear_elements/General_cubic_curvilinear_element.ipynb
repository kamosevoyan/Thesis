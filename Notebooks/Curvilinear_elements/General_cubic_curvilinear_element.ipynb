{
 "cells": [
  {
   "cell_type": "code",
   "execution_count": null,
   "metadata": {},
   "outputs": [],
   "source": [
    "import sympy\n",
    "import numpy as np\n",
    "import matplotlib.pyplot as plt\n",
    "import dill\n",
    "dill.settings[\"recurse\"] = True\n",
    "from sympy import Rational as R\n",
    "from tqdm.notebook import tqdm \n",
    "import plotly"
   ]
  },
  {
   "cell_type": "markdown",
   "metadata": {},
   "source": [
    "## Define necessary symbols"
   ]
  },
  {
   "cell_type": "code",
   "execution_count": null,
   "metadata": {},
   "outputs": [],
   "source": [
    "x_hat, y_hat = sympy.symbols(r\"\\hat{x} \\hat{y}\")\n",
    "\n",
    "x_0, x_1, x_2 = sympy.symbols(\"x_0:3\")\n",
    "y_0, y_1, y_2 = sympy.symbols(\"y_0:3\")"
   ]
  },
  {
   "cell_type": "code",
   "execution_count": null,
   "metadata": {},
   "outputs": [],
   "source": [
    "s, t = sympy.symbols(\"s t\")\n",
    "s_1, s_2 = sympy.symbols(\"s_1 s_2\")"
   ]
  },
  {
   "cell_type": "code",
   "execution_count": null,
   "metadata": {},
   "outputs": [],
   "source": [
    "monomial_basis = sympy.Matrix(\n",
    "    [\n",
    "        1,\n",
    "        x_hat,\n",
    "        y_hat,\n",
    "    ]\n",
    ")\n",
    "\n",
    "V = sympy.zeros(3, 3)\n",
    "\n",
    "for dofidx, basis in enumerate(monomial_basis):\n",
    "\n",
    "    V[dofidx, 0] = basis.subs({x_hat: 0, y_hat: 0})\n",
    "    V[dofidx, 1] = basis.subs({x_hat: 1, y_hat: 0})\n",
    "    V[dofidx, 2] = basis.subs({x_hat: 0, y_hat: 1})\n",
    "\n",
    "mapping_basis = V.inv() @ monomial_basis\n",
    "\n",
    "global_x = (\n",
    "      mapping_basis[0] * x_0\n",
    "    + mapping_basis[1] * x_1\n",
    "    + mapping_basis[2] * x_2\n",
    ")\n",
    "global_y = (\n",
    "      mapping_basis[0] * y_0\n",
    "    + mapping_basis[1] * y_1\n",
    "    + mapping_basis[2] * y_2\n",
    ")\n",
    "\n",
    "mapping_function = sympy.Matrix([global_x, global_y])"
   ]
  },
  {
   "cell_type": "code",
   "execution_count": null,
   "metadata": {},
   "outputs": [],
   "source": [
    "f_1 = sympy.Function(\"f_1\")(s)\n",
    "f_2 = sympy.Function(\"f_2\")(s)"
   ]
  },
  {
   "cell_type": "code",
   "execution_count": null,
   "metadata": {},
   "outputs": [],
   "source": [
    "chi = sympy.Matrix([f_1, f_2])"
   ]
  },
  {
   "cell_type": "code",
   "execution_count": null,
   "metadata": {},
   "outputs": [],
   "source": [
    "temp_param = s_1 + t*(s_2 - s_1)"
   ]
  },
  {
   "cell_type": "code",
   "execution_count": null,
   "metadata": {},
   "outputs": [],
   "source": [
    "# phi = chi.subs({\n",
    "#     f_1 : sympy.cos(s),\n",
    "#     f_2 : sympy.sin(s),\n",
    "#     })"
   ]
  },
  {
   "cell_type": "code",
   "execution_count": null,
   "metadata": {},
   "outputs": [],
   "source": [
    "phi = chi.subs({s: temp_param})"
   ]
  },
  {
   "cell_type": "code",
   "execution_count": null,
   "metadata": {},
   "outputs": [],
   "source": [
    "L = sympy.Matrix([\n",
    "                    x_1 + t*(x_2 - x_1),\n",
    "                    y_1 + t*(y_2 - y_1),\n",
    "])"
   ]
  },
  {
   "cell_type": "code",
   "execution_count": null,
   "metadata": {},
   "outputs": [],
   "source": [
    "Phi = ((phi - L) / (1 - t)).subs({t: y_hat})"
   ]
  },
  {
   "cell_type": "code",
   "execution_count": null,
   "metadata": {},
   "outputs": [],
   "source": [
    "X = mapping_function + x_hat * Phi"
   ]
  },
  {
   "cell_type": "code",
   "execution_count": 144,
   "metadata": {},
   "outputs": [
    {
     "data": {
      "text/latex": [
       "$\\displaystyle \\left[\\begin{matrix}1.0 f_{1}{\\left(0.5 s_{1} + 0.5 s_{2} \\right)}\\\\1.0 f_{2}{\\left(0.5 s_{1} + 0.5 s_{2} \\right)}\\end{matrix}\\right]$"
      ],
      "text/plain": [
       "Matrix([\n",
       "[1.0*f_1(0.5*s_1 + 0.5*s_2)],\n",
       "[1.0*f_2(0.5*s_1 + 0.5*s_2)]])"
      ]
     },
     "execution_count": 144,
     "metadata": {},
     "output_type": "execute_result"
    }
   ],
   "source": [
    "X.subs({x_hat:1/2, y_hat:1/2})"
   ]
  },
  {
   "cell_type": "code",
   "execution_count": null,
   "metadata": {},
   "outputs": [],
   "source": [
    "sympy.lambdify([\n",
    "    x_hat, y_hat,\n",
    "    x_0, y_0,\n",
    "    x_1, y_1,\n",
    "    x_2, y_2,\n",
    "    s_1, s_2\n",
    "], X)(*np.random.randn(10))"
   ]
  },
  {
   "cell_type": "code",
   "execution_count": null,
   "metadata": {},
   "outputs": [],
   "source": [
    "# Causes det == 0 when t_hat == 0, why?\n",
    "# X = sympy.Matrix([\n",
    "#             sympy.Piecewise((X[0, 0], y_hat > 0), (sympy.limit(X[0, 0], y_hat, 0), True)),\n",
    "#             sympy.Piecewise((X[1, 0], y_hat > 0), (sympy.limit(X[1, 0], y_hat, 0), True)),            \n",
    "# ])"
   ]
  },
  {
   "cell_type": "code",
   "execution_count": null,
   "metadata": {},
   "outputs": [],
   "source": [
    "det = X.jacobian([x_hat, y_hat]).det()"
   ]
  },
  {
   "cell_type": "markdown",
   "metadata": {},
   "source": [
    "## Test the result on an example"
   ]
  },
  {
   "cell_type": "code",
   "execution_count": null,
   "metadata": {},
   "outputs": [],
   "source": [
    "points = np.array([    \n",
    "    [0, 0],\n",
    "    [1, 0],\n",
    "    [0, 1],\n",
    "]).astype(float)"
   ]
  },
  {
   "cell_type": "code",
   "execution_count": null,
   "metadata": {},
   "outputs": [],
   "source": [
    "grid = np.linspace(0, 1, 30)\n",
    "grid_x, grid_y = np.meshgrid(grid, grid, indexing=\"ij\")\n",
    "mask = (grid_y <= 1 - grid_x)\n",
    "grid_x = grid_x[mask]\n",
    "grid_y = grid_y[mask]"
   ]
  },
  {
   "cell_type": "code",
   "execution_count": null,
   "metadata": {},
   "outputs": [],
   "source": [
    "px, py = sympy.lambdify([\n",
    "    x_hat, y_hat,\n",
    "    x_0, y_0,\n",
    "    x_1, y_1,\n",
    "    x_2, y_2,\n",
    "    s_1, s_2\n",
    "], X)(\n",
    "        grid_x, grid_y, \n",
    "        points[0, 0], points[0, 1], \n",
    "        points[1, 0], points[1, 1], \n",
    "        points[2, 0], points[2, 1], \n",
    "        0, np.pi/2).squeeze()\n",
    "\n",
    "pz = sympy.lambdify([\n",
    "    x_hat, y_hat,\n",
    "    x_0, y_0,\n",
    "    x_1, y_1,\n",
    "    x_2, y_2,\n",
    "    s_1, s_2\n",
    "], det)(\n",
    "        grid_x, grid_y, \n",
    "        points[0, 0], points[0, 1], \n",
    "        points[1, 0], points[1, 1], \n",
    "        points[2, 0], points[2, 1], \n",
    "        0, np.pi/2).squeeze()"
   ]
  },
  {
   "cell_type": "code",
   "execution_count": null,
   "metadata": {},
   "outputs": [],
   "source": [
    "plt.scatter(px, py)\n",
    "plt.axis(\"equal\")\n",
    "plt.xlim([0, 1])\n",
    "plt.ylim([0, 1])"
   ]
  },
  {
   "cell_type": "code",
   "execution_count": null,
   "metadata": {},
   "outputs": [],
   "source": [
    "plot_data = [\n",
    "    plotly.graph_objects.Mesh3d(\n",
    "                                x=px[~np.isnan(px)], \n",
    "                                y=py[~np.isnan(px)],\n",
    "                                z=pz[~np.isnan(px)],\n",
    "                                intensity=pz[~np.isnan(px)]\n",
    "                                )        \n",
    "    ]\n",
    "fig = plotly.graph_objects.Figure(data=plot_data)\n",
    "fig.update_layout()"
   ]
  },
  {
   "cell_type": "code",
   "execution_count": null,
   "metadata": {},
   "outputs": [],
   "source": [
    "import gmsh\n",
    "import math\n",
    "\n",
    "# Initialize Gmsh\n",
    "gmsh.initialize()\n",
    "gmsh.model.add(\"parametric_spline\")\n",
    "\n",
    "# Define the start and end points\n",
    "start_point = gmsh.model.geo.addPoint(0, 0, 0)\n",
    "end_point = gmsh.model.geo.addPoint(1, 0, 0)\n",
    "\n",
    "# Define the control points for the spline\n",
    "control_points = []\n",
    "\n",
    "N = 10\n",
    "for t in range(N+1):\n",
    "    x = math.sin(t / N * 2 * math.pi)\n",
    "    y = math.cos(t / N * 2 * math.pi)\n",
    "    z = 0\n",
    "    control_points.append(gmsh.model.geo.addPoint(x, y, z))\n",
    "\n",
    "# Create the spline\n",
    "spline = gmsh.model.geo.addSpline(control_points)\n",
    "\n",
    "# Synchronize necessary before meshing\n",
    "gmsh.model.geo.synchronize()\n",
    "\n",
    "# Generate mesh\n",
    "gmsh.model.mesh.generate(1)\n",
    "\n",
    "# Save and finalize\n",
    "# gmsh.write(\"parametric_spline.msh\")\n",
    "gmsh.fltk.run()"
   ]
  }
 ],
 "metadata": {
  "kernelspec": {
   "display_name": "base",
   "language": "python",
   "name": "python3"
  },
  "language_info": {
   "codemirror_mode": {
    "name": "ipython",
    "version": 3
   },
   "file_extension": ".py",
   "mimetype": "text/x-python",
   "name": "python",
   "nbconvert_exporter": "python",
   "pygments_lexer": "ipython3",
   "version": "3.9.7"
  },
  "orig_nbformat": 4
 },
 "nbformat": 4,
 "nbformat_minor": 2
}
