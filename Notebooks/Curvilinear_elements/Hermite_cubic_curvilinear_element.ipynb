{
 "cells": [
  {
   "cell_type": "code",
   "execution_count": 1,
   "metadata": {},
   "outputs": [],
   "source": [
    "import sympy\n",
    "import numpy as np\n",
    "import matplotlib.pyplot as plt\n",
    "import dill\n",
    "dill.settings[\"recurse\"] = True\n",
    "from sympy import Rational as R"
   ]
  },
  {
   "cell_type": "markdown",
   "metadata": {},
   "source": [
    "## Define necessary symbols"
   ]
  },
  {
   "cell_type": "code",
   "execution_count": 2,
   "metadata": {},
   "outputs": [],
   "source": [
    "reference_x, reference_y = sympy.symbols(\"x y\")\n",
    "\n",
    "physical_x0, physical_x1, physical_x2 = sympy.symbols(\"x_0:3\")\n",
    "physical_y0, physical_y1, physical_y2 = sympy.symbols(\"y_0:3\")\n",
    "v22_x, v32_x = sympy.symbols(\"v22_x v32_x\")\n",
    "v22_y, v32_y = sympy.symbols(\"v22_y v32_y\")\n",
    "s = sympy.symbols(\"s\")"
   ]
  },
  {
   "attachments": {},
   "cell_type": "markdown",
   "metadata": {},
   "source": [
    "## Get shape functions"
   ]
  },
  {
   "cell_type": "code",
   "execution_count": 3,
   "metadata": {},
   "outputs": [],
   "source": [
    "monomial_basis = sympy.Matrix([\n",
    "    1,\n",
    "    reference_x,\n",
    "    reference_y,\n",
    "    reference_x**2,\n",
    "    reference_x*reference_y,\n",
    "    reference_y**2,\n",
    "    reference_x**3,\n",
    "    reference_x**2*reference_y,\n",
    "    reference_x*reference_y**2,\n",
    "    reference_y**3,\n",
    "])\n",
    "\n",
    "V = sympy.zeros(10, 10)\n",
    "\n",
    "for i, basis in enumerate(monomial_basis):\n",
    "    \n",
    "    V[i, 0] = basis.subs({reference_x: 0, reference_y: 0})\n",
    "    V[i, 1] = basis.subs({reference_x: 1, reference_y: 0})\n",
    "    V[i, 2] = basis.subs({reference_x: 0, reference_y: 1})\n",
    "\n",
    "    V[i, 3] = basis.diff(reference_x).subs({reference_x: 0, reference_y: 0})\n",
    "    V[i, 4] = basis.diff(reference_y).subs({reference_x: 0, reference_y: 0})\n",
    "    \n",
    "    V[i, 5] = -basis.diff(reference_x).subs({reference_x: 1, reference_y: 0})\n",
    "    V[i, 6] = (-basis.diff(reference_x).subs({reference_x: 1, reference_y: 0}) + +basis.diff(reference_y).subs({reference_x: 1, reference_y: 0}))\n",
    "    \n",
    "    V[i, 7] = -basis.diff(reference_y).subs({reference_x: 0, reference_y: 1})\n",
    "    V[i, 8] = (+basis.diff(reference_x).subs({reference_x: 0, reference_y: 1}) + -basis.diff(reference_y).subs({reference_x: 0, reference_y: 1}))\n",
    "\n",
    "    # center of mass\n",
    "    V[i, 9] = basis.subs({reference_x: R(1,3), reference_y: R(1,3)})\n",
    "new_basis = V.inv() @ monomial_basis"
   ]
  },
  {
   "cell_type": "code",
   "execution_count": 16,
   "metadata": {},
   "outputs": [],
   "source": [
    "v11_x = physical_x1 - physical_x0\n",
    "v12_x = physical_x2 - physical_x0\n",
    "v21_x = physical_x0 - physical_x1\n",
    "v31_x = physical_x0 - physical_x2\n",
    "\n",
    "v11_y = physical_y1 - physical_y0\n",
    "v12_y = physical_y2 - physical_y0\n",
    "v21_y = physical_y0 - physical_y1\n",
    "v31_y = physical_y0 - physical_y2\n",
    "\n",
    "# v22_x = -(physical_x1 - physical_x2)\n",
    "# v22_y = -(physical_y1 - physical_y2)\n",
    "# v32_x = +(physical_x1 - physical_x2)\n",
    "# v32_y = +(physical_y1 - physical_y2)"
   ]
  },
  {
   "cell_type": "code",
   "execution_count": 17,
   "metadata": {},
   "outputs": [],
   "source": [
    "physical_x = physical_x0*new_basis[0] + physical_x1*new_basis[1] + physical_x0*new_basis[2] + \\\n",
    "    v11_x*new_basis[3] + v12_x*new_basis[4] + \\\n",
    "    v21_x*new_basis[5] + v22_x*new_basis[6] + \\\n",
    "    v31_x*new_basis[7] + v32_x*new_basis[8] + \\\n",
    "    R(1, 3)*(physical_x0 + physical_x1 + physical_x2)*new_basis[9]\n",
    "    \n",
    "    \n",
    "physical_y = physical_y0*new_basis[0] + physical_y1*new_basis[1] + physical_y0*new_basis[2] + \\\n",
    "    v11_y*new_basis[3] + v12_y*new_basis[4] + \\\n",
    "    v21_y*new_basis[5] + v22_y*new_basis[6] + \\\n",
    "    v31_y*new_basis[7] + v32_y*new_basis[8] + \\\n",
    "    R(1, 3)*(physical_y0 + physical_y1 + physical_y2)*new_basis[9]"
   ]
  },
  {
   "cell_type": "code",
   "execution_count": 18,
   "metadata": {},
   "outputs": [],
   "source": [
    "mapping_function = sympy.Matrix([physical_x, physical_y])"
   ]
  },
  {
   "cell_type": "code",
   "execution_count": 19,
   "metadata": {},
   "outputs": [
    {
     "data": {
      "text/latex": [
       "$\\displaystyle \\left[\\begin{matrix}x_{0} \\cdot \\left(7 x^{2} y + 7 x y^{2} - 7 x y - 2 y^{3} + 3 y^{2}\\right) + x_{0} \\cdot \\left(2 x^{3} + 13 x^{2} y - 3 x^{2} + 13 x y^{2} - 13 x y + 2 y^{3} - 3 y^{2} + 1\\right) + x_{1} \\left(- 2 x^{3} + 7 x^{2} y + 3 x^{2} + 7 x y^{2} - 7 x y\\right) + \\left(- x_{0} + x_{1}\\right) \\left(x^{3} + 3 x^{2} y - 2 x^{2} + 2 x y^{2} - 3 x y + x\\right) + \\left(- x_{0} + x_{2}\\right) \\left(2 x^{2} y + 3 x y^{2} - 3 x y + y^{3} - 2 y^{2} + y\\right) + \\left(x_{0} - x_{1}\\right) \\left(- x^{3} + x^{2} + x y^{2} - x y\\right) + \\left(x_{0} - x_{2}\\right) \\left(x^{2} y - x y - y^{3} + y^{2}\\right) + \\left(- x_{1} + x_{2}\\right) \\left(2 x^{2} y + x y^{2} - x y\\right) + \\left(x_{1} - x_{2}\\right) \\left(x^{2} y + 2 x y^{2} - x y\\right) + \\left(\\frac{x_{0}}{3} + \\frac{x_{1}}{3} + \\frac{x_{2}}{3}\\right) \\left(- 27 x^{2} y - 27 x y^{2} + 27 x y\\right)\\\\y_{0} \\cdot \\left(7 x^{2} y + 7 x y^{2} - 7 x y - 2 y^{3} + 3 y^{2}\\right) + y_{0} \\cdot \\left(2 x^{3} + 13 x^{2} y - 3 x^{2} + 13 x y^{2} - 13 x y + 2 y^{3} - 3 y^{2} + 1\\right) + y_{1} \\left(- 2 x^{3} + 7 x^{2} y + 3 x^{2} + 7 x y^{2} - 7 x y\\right) + \\left(- y_{0} + y_{1}\\right) \\left(x^{3} + 3 x^{2} y - 2 x^{2} + 2 x y^{2} - 3 x y + x\\right) + \\left(- y_{0} + y_{2}\\right) \\left(2 x^{2} y + 3 x y^{2} - 3 x y + y^{3} - 2 y^{2} + y\\right) + \\left(y_{0} - y_{1}\\right) \\left(- x^{3} + x^{2} + x y^{2} - x y\\right) + \\left(y_{0} - y_{2}\\right) \\left(x^{2} y - x y - y^{3} + y^{2}\\right) + \\left(- y_{1} + y_{2}\\right) \\left(2 x^{2} y + x y^{2} - x y\\right) + \\left(y_{1} - y_{2}\\right) \\left(x^{2} y + 2 x y^{2} - x y\\right) + \\left(\\frac{y_{0}}{3} + \\frac{y_{1}}{3} + \\frac{y_{2}}{3}\\right) \\left(- 27 x^{2} y - 27 x y^{2} + 27 x y\\right)\\end{matrix}\\right]$"
      ],
      "text/plain": [
       "Matrix([\n",
       "[x_0*(7*x**2*y + 7*x*y**2 - 7*x*y - 2*y**3 + 3*y**2) + x_0*(2*x**3 + 13*x**2*y - 3*x**2 + 13*x*y**2 - 13*x*y + 2*y**3 - 3*y**2 + 1) + x_1*(-2*x**3 + 7*x**2*y + 3*x**2 + 7*x*y**2 - 7*x*y) + (-x_0 + x_1)*(x**3 + 3*x**2*y - 2*x**2 + 2*x*y**2 - 3*x*y + x) + (-x_0 + x_2)*(2*x**2*y + 3*x*y**2 - 3*x*y + y**3 - 2*y**2 + y) + (x_0 - x_1)*(-x**3 + x**2 + x*y**2 - x*y) + (x_0 - x_2)*(x**2*y - x*y - y**3 + y**2) + (-x_1 + x_2)*(2*x**2*y + x*y**2 - x*y) + (x_1 - x_2)*(x**2*y + 2*x*y**2 - x*y) + (x_0/3 + x_1/3 + x_2/3)*(-27*x**2*y - 27*x*y**2 + 27*x*y)],\n",
       "[y_0*(7*x**2*y + 7*x*y**2 - 7*x*y - 2*y**3 + 3*y**2) + y_0*(2*x**3 + 13*x**2*y - 3*x**2 + 13*x*y**2 - 13*x*y + 2*y**3 - 3*y**2 + 1) + y_1*(-2*x**3 + 7*x**2*y + 3*x**2 + 7*x*y**2 - 7*x*y) + (-y_0 + y_1)*(x**3 + 3*x**2*y - 2*x**2 + 2*x*y**2 - 3*x*y + x) + (-y_0 + y_2)*(2*x**2*y + 3*x*y**2 - 3*x*y + y**3 - 2*y**2 + y) + (y_0 - y_1)*(-x**3 + x**2 + x*y**2 - x*y) + (y_0 - y_2)*(x**2*y - x*y - y**3 + y**2) + (-y_1 + y_2)*(2*x**2*y + x*y**2 - x*y) + (y_1 - y_2)*(x**2*y + 2*x*y**2 - x*y) + (y_0/3 + y_1/3 + y_2/3)*(-27*x**2*y - 27*x*y**2 + 27*x*y)]])"
      ]
     },
     "execution_count": 19,
     "metadata": {},
     "output_type": "execute_result"
    }
   ],
   "source": [
    "mapping_function"
   ]
  },
  {
   "cell_type": "code",
   "execution_count": 12,
   "metadata": {},
   "outputs": [],
   "source": [
    "J = mapping_function.jacobian([reference_x, reference_y]).cofactor_matrix()\n",
    "J = J / J.det()"
   ]
  },
  {
   "cell_type": "code",
   "execution_count": 15,
   "metadata": {},
   "outputs": [
    {
     "data": {
      "text/latex": [
       "$\\displaystyle \\left[\\begin{matrix}x_{0} \\left(- 2 s^{3} + 3 s^{2}\\right) + x_{0} \\cdot \\left(2 s^{3} - 3 s^{2} + 1\\right) + \\left(- s^{3} + s^{2}\\right) \\left(x_{0} - x_{2}\\right) + \\left(- x_{0} + x_{2}\\right) \\left(s^{3} - 2 s^{2} + s\\right)\\\\y_{0} \\left(- 2 s^{3} + 3 s^{2}\\right) + y_{0} \\cdot \\left(2 s^{3} - 3 s^{2} + 1\\right) + \\left(- s^{3} + s^{2}\\right) \\left(y_{0} - y_{2}\\right) + \\left(- y_{0} + y_{2}\\right) \\left(s^{3} - 2 s^{2} + s\\right)\\end{matrix}\\right]$"
      ],
      "text/plain": [
       "Matrix([\n",
       "[x_0*(-2*s**3 + 3*s**2) + x_0*(2*s**3 - 3*s**2 + 1) + (-s**3 + s**2)*(x_0 - x_2) + (-x_0 + x_2)*(s**3 - 2*s**2 + s)],\n",
       "[y_0*(-2*s**3 + 3*s**2) + y_0*(2*s**3 - 3*s**2 + 1) + (-s**3 + s**2)*(y_0 - y_2) + (-y_0 + y_2)*(s**3 - 2*s**2 + s)]])"
      ]
     },
     "execution_count": 15,
     "metadata": {},
     "output_type": "execute_result"
    }
   ],
   "source": [
    "mapping_function.subs({reference_x:0, reference_y: s})"
   ]
  },
  {
   "cell_type": "markdown",
   "metadata": {},
   "source": [
    "## Test the result on an example"
   ]
  },
  {
   "cell_type": "code",
   "execution_count": 40,
   "metadata": {},
   "outputs": [],
   "source": [
    "points = np.array([\n",
    "    [5, 3],\n",
    "    [5.2, 5.1],\n",
    "    [2, 2.1],\n",
    "]).astype(float)\n",
    "\n",
    "v11 = points[1] - points[0]\n",
    "v12 = points[2] - points[0]\n",
    "v21 = points[0] - points[1]\n",
    "v31 = points[0] - points[2]\n",
    "\n",
    "v22 = (points[2] - points[1]) + np.array([-5, 1])\n",
    "v32 = (points[1] - points[2]) + np.array([0, 6])"
   ]
  },
  {
   "cell_type": "code",
   "execution_count": 41,
   "metadata": {},
   "outputs": [],
   "source": [
    "X = points[0, 0]*new_basis[0] + points[1, 0]*new_basis[1] + points[2, 0]*new_basis[2] + \\\n",
    "    v11[0]*new_basis[3] + v12[0]*new_basis[4] + \\\n",
    "    v21[0]*new_basis[5] + v22[0]*new_basis[6] + \\\n",
    "    v31[0]*new_basis[7] + v32[0]*new_basis[8] + \\\n",
    "    points[:, 0].mean()*new_basis[9]\n",
    "\n",
    "Y = points[0, 1]*new_basis[0] + points[1, 1]*new_basis[1] + points[2, 1]*new_basis[2] + \\\n",
    "    v11[1]*new_basis[3] + v12[1]*new_basis[4] + \\\n",
    "    v21[1]*new_basis[5] + v22[1]*new_basis[6] + \\\n",
    "    v31[1]*new_basis[7] + v32[1]*new_basis[8] + \\\n",
    "    points[:, 1].mean()*new_basis[9]\n"
   ]
  },
  {
   "cell_type": "code",
   "execution_count": 42,
   "metadata": {},
   "outputs": [],
   "source": [
    "tt = np.linspace(0, 1, 100)\n",
    "e1_x = sympy.lambdify([reference_x, reference_y], X)(tt, 1-tt)\n",
    "e1_y = sympy.lambdify([reference_x, reference_y], Y)(tt, 1-tt)\n",
    "\n",
    "e2_x = sympy.lambdify([reference_x, reference_y], X)(0, tt)\n",
    "e2_y = sympy.lambdify([reference_x, reference_y], Y)(0, tt)\n",
    "\n",
    "e3_x = sympy.lambdify([reference_x, reference_y], X)(tt, 0)\n",
    "e3_y = sympy.lambdify([reference_x, reference_y], Y)(tt, 0)"
   ]
  },
  {
   "cell_type": "markdown",
   "metadata": {},
   "source": [
    "## Visualization"
   ]
  },
  {
   "cell_type": "code",
   "execution_count": 43,
   "metadata": {},
   "outputs": [
    {
     "data": {
      "image/png": "[encoded data removed]",
      "text/plain": [
       "<Figure size 576x576 with 1 Axes>"
      ]
     },
     "metadata": {
      "needs_background": "light"
     },
     "output_type": "display_data"
    }
   ],
   "source": [
    "%matplotlib inline\n",
    "fig, ax = plt.subplots(figsize=(8, 8))\n",
    "\n",
    "ax.plot(e1_x, e1_y, ls=\"--\")\n",
    "ax.plot(e2_x, e2_y)\n",
    "ax.plot(e3_x, e3_y)\n",
    "\n",
    "ax.quiver(points[0, 0], points[0, 1], v11[0], v11[1])\n",
    "ax.quiver(points[0, 0], points[0, 1], v12[0], v12[1])\n",
    "\n",
    "ax.quiver(points[1, 0], points[1, 1], v21[0], v21[1])\n",
    "ax.quiver(points[1, 0], points[1, 1], v22[0], v22[1])\n",
    "\n",
    "ax.quiver(points[2, 0], points[2, 1], v31[0], v31[1])\n",
    "ax.quiver(points[2, 0], points[2, 1], v32[0], v32[1])\n",
    "\n",
    "ax.axis(\"equal\")\n",
    "fig.tight_layout()"
   ]
  }
 ],
 "metadata": {
  "kernelspec": {
   "display_name": "base",
   "language": "python",
   "name": "python3"
  },
  "language_info": {
   "codemirror_mode": {
    "name": "ipython",
    "version": 3
   },
   "file_extension": ".py",
   "mimetype": "text/x-python",
   "name": "python",
   "nbconvert_exporter": "python",
   "pygments_lexer": "ipython3",
   "version": "3.9.18"
  },
  "orig_nbformat": 4
 },
 "nbformat": 4,
 "nbformat_minor": 2
}
