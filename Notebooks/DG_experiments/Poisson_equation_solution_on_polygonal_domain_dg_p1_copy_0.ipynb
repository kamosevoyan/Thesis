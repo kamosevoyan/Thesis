{
 "cells": [
  {
   "cell_type": "code",
   "execution_count": 141,
   "id": "d77dd589",
   "metadata": {},
   "outputs": [],
   "source": [
    "import matplotlib.pyplot as plt\n",
    "import dill\n",
    "import sympy\n",
    "from tqdm import tqdm\n",
    "from scipy.sparse import lil_matrix, csc_matrix, csr_matrix\n",
    "from scipy.sparse.linalg import spsolve\n",
    "import pypardiso\n",
    "import plotly"
   ]
  },
  {
   "cell_type": "markdown",
   "id": "69ae7294",
   "metadata": {},
   "source": [
    "### Load precomputed integrals"
   ]
  },
  {
   "cell_type": "code",
   "execution_count": 142,
   "id": "e0ed5cdf",
   "metadata": {},
   "outputs": [],
   "source": [
    "lagrange_linear_poisson_matrix = dill.load(\n",
    "    open(\"../../calculations/lagrange_linear_poisson_matrix\", \"rb\")\n",
    ")\n",
    "lagrange_linear_poisson_right_values = dill.load(\n",
    "    open(\"../../calculations/lagrange_linear_poisson_right_values\", \"rb\")\n",
    ")\n",
    "consistency_lambdified = dill.load(\n",
    "    open(\"../../calculations/lagrange_linear_poisson_dg_consistency\", \"rb\")\n",
    ")\n",
    "consistency_boundary_lambdified = dill.load(\n",
    "    open(\"../../calculations/lagrange_linear_poisson_dg_consistency_boundary\", \"rb\")\n",
    ")\n",
    "symmetricity_lambdified = dill.load(\n",
    "    open(\"../../calculations/lagrange_linear_poisson_dg_symmetricity\", \"rb\")\n",
    ")\n",
    "symmetricity_boundary_lambdified = dill.load(\n",
    "    open(\"../../calculations/lagrange_linear_poisson_dg_symmetricity_boundary\", \"rb\")\n",
    ")\n",
    "penalty_lambdified = dill.load(\n",
    "    open(\"../../calculations/lagrange_linear_poisson_dg_penalty\", \"rb\")\n",
    ")\n",
    "penalty_boundary_lambdified = dill.load(\n",
    "    open(\"../../calculations/lagrange_linear_poisson_dg_penalty_boundary\", \"rb\")\n",
    ")\n",
    "\n",
    "bc_dirichlet_lambdified = dill.load(open(\"../../calculations/lagrange_linear_poisson_dg_bc_dirichlet\", \"rb\"))\n",
    "bc_neumann_lambdified = dill.load(open(\"../../calculations/lagrange_linear_poisson_dg_bc_neumann\", \"rb\"))"
   ]
  },
  {
   "cell_type": "markdown",
   "id": "6688870c",
   "metadata": {},
   "source": [
    "### Initialize the domain"
   ]
  },
  {
   "cell_type": "code",
   "execution_count": 143,
   "id": "f91988b0",
   "metadata": {},
   "outputs": [],
   "source": [
    "import gmsh\n",
    "import numpy as np\n",
    "import matplotlib.pyplot as plt\n",
    "\n",
    "\n",
    "gmsh.initialize()\n",
    "gmsh.model.add(\"tri_mesh\")\n",
    "\n",
    "ms = 0.025\n",
    "# Define points\n",
    "point_1 = gmsh.model.geo.addPoint(0, 0, 0, ms)\n",
    "point_2 = gmsh.model.geo.addPoint(1, 0, 0, ms)\n",
    "point_3 = gmsh.model.geo.addPoint(0, 1, 0, ms)\n",
    "point_4 = gmsh.model.geo.addPoint(-1, 0, 0, ms)\n",
    "point_5 = gmsh.model.geo.addPoint(0, -1, 0, ms)\n",
    "\n",
    "# Define circles\n",
    "arc_1 = gmsh.model.geo.addCircleArc(point_2, point_1, point_3)\n",
    "arc_2 = gmsh.model.geo.addCircleArc(point_3, point_1, point_4)\n",
    "arc_3 = gmsh.model.geo.addCircleArc(point_4, point_1, point_5)\n",
    "arc_4 = gmsh.model.geo.addCircleArc(point_5, point_1, point_2)\n",
    "\n",
    "# Define line loop\n",
    "circle = gmsh.model.geo.addCurveLoop([arc_1, arc_2, arc_3, arc_4])\n",
    "\n",
    "# Define plane surface\n",
    "plane = gmsh.model.geo.addPlaneSurface([circle])\n",
    "\n",
    "gmsh.model.geo.synchronize()\n",
    "\n",
    "ms = 21\n",
    "gmsh.model.mesh.setTransfiniteCurve(arc_1, ms)\n",
    "gmsh.model.mesh.setTransfiniteCurve(arc_2, ms)\n",
    "gmsh.model.mesh.setTransfiniteCurve(arc_3, ms)\n",
    "gmsh.model.mesh.setTransfiniteCurve(arc_4, ms)\n",
    "gmsh.model.mesh.setTransfiniteSurface(plane)\n",
    "\n",
    "neumann_tag = gmsh.model.addPhysicalGroup(1, [arc_1], name=\"Neuman\")\n",
    "\n",
    "physical_group_curves_tag = gmsh.model.addPhysicalGroup(1, [arc_1, arc_2, arc_3, arc_4], name=\"Boundary curves\")\n",
    "physical_group_surface_tag = gmsh.model.addPhysicalGroup(2, [plane], name=\"Surface\")\n",
    "\n",
    "\n",
    "# point_tag = gmsh.model.geo.addPoint(np.sqrt(1/2), np.sqrt(1/2), 0, 1)\n",
    "# gmsh.model.geo.synchronize()\n",
    "\n",
    "# # Define the Attractor field\n",
    "# attractor_field = gmsh.model.mesh.field.add(\"Attractor\")\n",
    "# gmsh.model.mesh.field.setNumbers(attractor_field, \"NodesList\", [point_tag])\n",
    "\n",
    "# # Define the Threshold field\n",
    "# threshold_field = gmsh.model.mesh.field.add(\"Threshold\")\n",
    "# gmsh.model.mesh.field.setNumber(threshold_field, \"IField\", attractor_field)\n",
    "# gmsh.model.mesh.field.setNumber(threshold_field, \"LcMin\", 0.001)\n",
    "# gmsh.model.mesh.field.setNumber(threshold_field, \"LcMax\", 0.1)\n",
    "# gmsh.model.mesh.field.setNumber(threshold_field, \"DistMin\", 0.01)\n",
    "# gmsh.model.mesh.field.setNumber(threshold_field, \"DistMax\", 0.5)\n",
    "\n",
    "# # Set the Threshold field as the background field\n",
    "# gmsh.model.mesh.field.setAsBackgroundMesh(threshold_field)\n",
    "\n",
    "\n",
    "gmsh.model.mesh.generate(2)\n",
    "gmsh.fltk.run()"
   ]
  },
  {
   "cell_type": "code",
   "execution_count": 144,
   "id": "2633f299",
   "metadata": {},
   "outputs": [],
   "source": [
    "edge_entities = gmsh.model.getEntitiesForPhysicalGroup(dim=1, tag=neumann_tag)\n",
    "\n",
    "edge_elemTags, edge_nodeTags = [], []\n",
    "for e in edge_entities:\n",
    "    _, elemTags, nodeTags = gmsh.model.mesh.getElements(1, e)\n",
    "    edge_elemTags.extend(np.hstack(elemTags))\n",
    "    edge_nodeTags.extend(np.hstack(nodeTags))"
   ]
  },
  {
   "cell_type": "markdown",
   "id": "8142e2fd",
   "metadata": {},
   "source": [
    "# Triangles"
   ]
  },
  {
   "cell_type": "code",
   "execution_count": 145,
   "id": "d830b13b",
   "metadata": {},
   "outputs": [],
   "source": [
    "boundary_node_tags, _ = gmsh.model.mesh.getNodesForPhysicalGroup(1, physical_group_curves_tag)\n",
    "surface_node_tags, points = gmsh.model.mesh.getNodesForPhysicalGroup(2, physical_group_surface_tag)\n",
    "points = points.reshape(-1, 3)[:, :-1]\n",
    "boundary_node_tags = boundary_node_tags - 1"
   ]
  },
  {
   "cell_type": "code",
   "execution_count": 146,
   "id": "83ecb291",
   "metadata": {},
   "outputs": [],
   "source": [
    "tri_tags, tri_nodes = gmsh.model.mesh.getElementsByType(2)"
   ]
  },
  {
   "cell_type": "code",
   "execution_count": 147,
   "id": "cbc2ca82",
   "metadata": {},
   "outputs": [],
   "source": [
    "# get triangles to edges\n",
    "edge_nodes = gmsh.model.mesh.getElementEdgeNodes(2)\n",
    "# (nTriangles * nEdgesPerTriangle * nNodesPerEdge)\n",
    "# edge_nodes.reshape(-1, 3, 2)"
   ]
  },
  {
   "cell_type": "code",
   "execution_count": 148,
   "id": "64102e33",
   "metadata": {},
   "outputs": [
    {
     "data": {
      "text/plain": [
       "array([ 42,  43,  41, ..., 400, 408, 389], dtype=uint64)"
      ]
     },
     "execution_count": 148,
     "metadata": {},
     "output_type": "execute_result"
    }
   ],
   "source": [
    "gmsh.model.mesh.createEdges()  # forces Gmsh to assign unique tags to edges\n",
    "edge_tags, edge_node_pairs = gmsh.model.mesh.getAllEdges() \n",
    "edge_node_pairs"
   ]
  },
  {
   "cell_type": "code",
   "execution_count": 149,
   "id": "7db59f46",
   "metadata": {},
   "outputs": [
    {
     "data": {
      "text/plain": [
       "(2, array([76, 85, 75], dtype=uint64), 2, 1)"
      ]
     },
     "execution_count": 149,
     "metadata": {},
     "output_type": "execute_result"
    }
   ],
   "source": [
    "element_types, element_tags, element_node_tags = gmsh.model.mesh.getElements()\n",
    "\n",
    "gmsh.model.mesh.getElement(element_tags[1][10])"
   ]
  },
  {
   "cell_type": "code",
   "execution_count": 150,
   "id": "33c2ba12",
   "metadata": {},
   "outputs": [],
   "source": [
    "element_types, element_tags, element_node_tags = gmsh.model.mesh.getElements()\n",
    "triangles = [nodes for elem_type, nodes in zip(element_types, element_node_tags) if elem_type == 2][0]\n",
    "triangles = triangles.reshape(-1, 3)\n",
    "triangles = triangles - 1\n",
    "\n",
    "def orient_batch(arg):\n",
    "    indices = np.argsort(arg, axis=-1)\n",
    "    res = np.take_along_axis(arg, indices, axis=-1)\n",
    "\n",
    "    return res\n",
    "\n",
    "triangles = orient_batch(triangles)"
   ]
  },
  {
   "cell_type": "code",
   "execution_count": 151,
   "id": "30ed611f",
   "metadata": {},
   "outputs": [],
   "source": [
    "vertex_marker_is_boundary = np.zeros(surface_node_tags.shape[0])\n",
    "vertex_marker_is_boundary[boundary_node_tags] = 1"
   ]
  },
  {
   "cell_type": "code",
   "execution_count": 152,
   "id": "b2e1dae9",
   "metadata": {},
   "outputs": [],
   "source": [
    "all_edges = triangles[:, [[1, 2], [0, 2], [0, 1]]].reshape(-1, 2)\n",
    "all_edges = np.sort(all_edges, axis=-1)\n",
    "all_edges, _, indices, counts = np.unique(all_edges, axis=0, return_counts=True, return_inverse=True, return_index=True)\n",
    "edge_marker_is_boundary = (counts == 1).astype(int)[:, None]"
   ]
  },
  {
   "cell_type": "markdown",
   "id": "a951e3d3",
   "metadata": {},
   "source": [
    "## Triangles to edges"
   ]
  },
  {
   "cell_type": "code",
   "execution_count": 153,
   "id": "997e8a21",
   "metadata": {},
   "outputs": [],
   "source": [
    "triangles_to_edges = indices.reshape(-1, 3)"
   ]
  },
  {
   "cell_type": "markdown",
   "id": "f09f3c5b",
   "metadata": {},
   "source": [
    "## Vertices to edges"
   ]
  },
  {
   "cell_type": "code",
   "execution_count": 154,
   "id": "4b6d772d",
   "metadata": {},
   "outputs": [],
   "source": [
    "vertices_to_edges = []\n",
    "\n",
    "for test_idx in range(points.shape[0]):\n",
    "    vertices_to_edges.append([])\n",
    "\n",
    "for e_idx, edge in enumerate(all_edges):\n",
    "    for pidx in edge:\n",
    "        vertices_to_edges[pidx].append(e_idx)"
   ]
  },
  {
   "cell_type": "markdown",
   "id": "ba7d021f",
   "metadata": {},
   "source": [
    "## Edges to edges"
   ]
  },
  {
   "cell_type": "code",
   "execution_count": 155,
   "id": "db433d5a",
   "metadata": {},
   "outputs": [],
   "source": [
    "edges_to_edges = []\n",
    "\n",
    "for test_idx in range(all_edges.shape[0]):\n",
    "    edges_to_edges.append([])\n",
    "\n",
    "for e_idx, edge in enumerate(all_edges):\n",
    "    \n",
    "    edges_to_edges[e_idx].extend(vertices_to_edges[edge[0]])\n",
    "    edges_to_edges[e_idx].extend(vertices_to_edges[edge[1]])\n",
    "    edges_to_edges[e_idx] = list(set(edges_to_edges[e_idx]))\n",
    "    edges_to_edges[e_idx].remove(e_idx)"
   ]
  },
  {
   "cell_type": "markdown",
   "id": "568290e5",
   "metadata": {},
   "source": [
    "## Edges to triangles"
   ]
  },
  {
   "cell_type": "code",
   "execution_count": 156,
   "id": "38a9565d",
   "metadata": {},
   "outputs": [],
   "source": [
    "edges_to_triangles = []\n",
    "\n",
    "for test_idx in range(all_edges.shape[0]):\n",
    "    edges_to_triangles.append([])\n",
    "\n",
    "for t_idx, edge in enumerate(triangles_to_edges):\n",
    "    \n",
    "    for e_idx in edge:\n",
    "        edges_to_triangles[e_idx].append(t_idx)\n",
    "\n",
    "for t_idx, v in enumerate(edges_to_triangles):\n",
    "    if len(v) == 1:\n",
    "        edges_to_triangles[t_idx].append(-1)\n",
    "\n",
    "edges_to_triangles = np.array(edges_to_triangles)"
   ]
  },
  {
   "cell_type": "markdown",
   "id": "af967789",
   "metadata": {},
   "source": [
    "# Vertices to triangles"
   ]
  },
  {
   "cell_type": "code",
   "execution_count": 157,
   "id": "9e8f5003",
   "metadata": {},
   "outputs": [],
   "source": [
    "vertices_to_triangles = []\n",
    "\n",
    "for i in range(points.shape[0]):\n",
    "    vertices_to_triangles.append([])\n",
    "\n",
    "for cidx, cell in enumerate(triangles):\n",
    "    for pidx in cell:\n",
    "        vertices_to_triangles[pidx].append(cidx)"
   ]
  },
  {
   "cell_type": "code",
   "execution_count": 202,
   "id": "c9e1b80a",
   "metadata": {},
   "outputs": [],
   "source": [
    "def get_adjaset_triangles(edge: int) -> np.ndarray:\n",
    "    \"\"\"Returns the idx of the triangles that share the edge.\n",
    "\n",
    "    Args:\n",
    "        edge (int): edge index\n",
    "\n",
    "    Returns:\n",
    "        np.ndarray: triangle indices\n",
    "    \"\"\"\n",
    "    triangle_idx = edges_to_triangles[edge]\n",
    "\n",
    "    if triangle_idx[1] == -1:\n",
    "        triangle_idx = triangle_idx[:1]\n",
    "\n",
    "    triangle_idx.sort(axis=-1)\n",
    "\n",
    "    return triangle_idx"
   ]
  },
  {
   "cell_type": "code",
   "execution_count": 254,
   "id": "7794c76e-c6a7-4bd4-8a99-a66f4a712d02",
   "metadata": {},
   "outputs": [],
   "source": [
    "x, y = sympy.symbols(\"x y\")"
   ]
  },
  {
   "cell_type": "code",
   "execution_count": 255,
   "id": "11f78ac7-0cac-4255-9db2-d685fb9c10d3",
   "metadata": {},
   "outputs": [],
   "source": [
    "F = sympy.Float(0)\n",
    "right_vals = np.zeros((points.shape[0]))\n",
    "right_vals[:] = sympy.lambdify((x, y), F)(*points.T)\n",
    "\n",
    "D = sympy.Float(1)\n",
    "bc_dirichlet = np.zeros((points.shape[0]))\n",
    "bc_dirichlet[:] = sympy.lambdify((x, y), D)(*points.T)\n",
    "\n",
    "N = -sympy.Float(1)\n",
    "bc_neumann = np.zeros((points.shape[0]))\n",
    "bc_neumann[:] = sympy.lambdify((x, y), N)(*points.T)"
   ]
  },
  {
   "cell_type": "code",
   "execution_count": 257,
   "id": "a20516c7",
   "metadata": {},
   "outputs": [
    {
     "name": "stderr",
     "output_type": "stream",
     "text": [
      "  0%|          | 0/800 [00:00<?, ?it/s]"
     ]
    },
    {
     "name": "stderr",
     "output_type": "stream",
     "text": [
      "100%|██████████| 800/800 [00:00<00:00, 10213.38it/s]\n",
      "100%|██████████| 1240/1240 [00:01<00:00, 888.82it/s]\n"
     ]
    }
   ],
   "source": [
    "num_unknowns = triangles.shape[0] * 3\n",
    "stiffness_matrix = lil_matrix((num_unknowns, num_unknowns), dtype=np.float64)\n",
    "b = np.zeros((num_unknowns), dtype=np.float64)\n",
    "\n",
    "for t_idx, element in enumerate(tqdm(triangles)):\n",
    "    x1, x2, x3 = points[element[0], 0], points[element[1], 0], points[element[2], 0]\n",
    "    y1, y2, y3 = points[element[0], 1], points[element[1], 1], points[element[2], 1]\n",
    "\n",
    "    FF = lagrange_linear_poisson_matrix(x1, y1, x2, y2, x3, y3)\n",
    "    ff = lagrange_linear_poisson_right_values(x1, y1, x2, y2, x3, y3, right_vals[element[0]], right_vals[element[1]], right_vals[element[2]])\n",
    "\n",
    "    for test_idx in range(3):\n",
    "        for trial_idx in range(3): \n",
    "            stiffness_matrix[3*t_idx + trial_idx, 3*t_idx + test_idx] += FF[trial_idx, test_idx]\n",
    "        b[3*t_idx + test_idx] -= ff[test_idx, 0]\n",
    "\n",
    "\n",
    "P = 20\n",
    "for e_idx, _ in enumerate(tqdm(all_edges)):\n",
    "\n",
    "    nt_idx = get_adjaset_triangles(e_idx)\n",
    "    triangles_points = triangles[nt_idx]\n",
    "    triangle_point_coords = points[triangles_points]    \n",
    "    re_idx = np.where(triangles_to_edges[nt_idx] == e_idx)[-1]\n",
    "    \n",
    "    if edge_marker_is_boundary[e_idx] == 0:\n",
    "        cons = consistency_lambdified(*triangle_point_coords.flatten())\n",
    "        symm = symmetricity_lambdified(*triangle_point_coords.flatten())\n",
    "        penalty = penalty_lambdified(*triangle_point_coords.flatten(), P)\n",
    "        \n",
    "        for test_idx in range(3):\n",
    "            for trial_idx in range(3):\n",
    "                for p_idx in range(2):\n",
    "                    for n_idx in range(2):\n",
    "                        stiffness_matrix[3*nt_idx[p_idx] + trial_idx, 3*nt_idx[n_idx] + test_idx] -= cons[p_idx][n_idx][re_idx[0]][re_idx[1]][trial_idx][test_idx]\n",
    "                        stiffness_matrix[3*nt_idx[p_idx] + trial_idx, 3*nt_idx[n_idx] + test_idx] -= symm[p_idx][n_idx][re_idx[0]][re_idx[1]][trial_idx][test_idx]\n",
    "                        stiffness_matrix[3*nt_idx[p_idx] + trial_idx, 3*nt_idx[n_idx] + test_idx] += penalty[p_idx][n_idx][re_idx[0]][re_idx[1]][trial_idx][test_idx]\n",
    "    else:\n",
    "                        \n",
    "        cons_b = consistency_boundary_lambdified(*triangle_point_coords.flatten())\n",
    "        symm_b = symmetricity_boundary_lambdified(*triangle_point_coords.flatten())\n",
    "        penalty_b = penalty_boundary_lambdified(*triangle_point_coords.flatten(), P)\n",
    "        bc_d = bc_dirichlet_lambdified(*triangle_point_coords.flatten(), P)\n",
    "        bc_n = bc_neumann_lambdified(*triangle_point_coords.flatten())\n",
    "    \n",
    "\n",
    "        # SIP\n",
    "        for test_idx in range(3):     \n",
    "            for trial_idx in range(3):                \n",
    "                if True or (triangle_point_coords[0, trial_idx, 0] > 0) and (triangle_point_coords[0, trial_idx, 1] > 0):\n",
    "                    continue\n",
    "                    \n",
    "                stiffness_matrix[3*nt_idx[0] + trial_idx, 3*nt_idx[0] + test_idx] -=      cons_b[re_idx[0]][trial_idx][test_idx] \n",
    "                stiffness_matrix[3*nt_idx[0] + trial_idx, 3*nt_idx[0] + test_idx] -=      symm_b[re_idx[0]][trial_idx][test_idx] \n",
    "                stiffness_matrix[3*nt_idx[0] + trial_idx, 3*nt_idx[0] + test_idx] += penalty_b[re_idx[0]][trial_idx][test_idx]\n",
    "                \n",
    "\n",
    "        for test_idx in range(3):\n",
    "            if True or (triangle_point_coords[0, test_idx, 0] > 0) and (triangle_point_coords[0, test_idx, 1] > 0):\n",
    "                for trial_idx in range(3):           \n",
    "                    x = triangle_point_coords[0, test_idx, 0]\n",
    "                    y = triangle_point_coords[0, test_idx, 1]                    \n",
    "                    phi = np.arctan2(y, x)\n",
    "                    \n",
    "                    \n",
    "                    # b[3*nt_idx[0] + test_idx] = 1 if np.isclose(phi, np.pi / 4) else -1 if np.isclose(phi, -3*np.pi / 4) else bc_neumann[triangles_points[0]][test_idx] * bc_n[re_idx[0]][trial_idx][test_idx]\n",
    "                    b[3*nt_idx[0] + test_idx] += bc_neumann[triangles_points[0]][test_idx] * bc_n[re_idx[0]][trial_idx][test_idx]\n",
    "                    \n",
    "                continue\n",
    "            \n",
    "            # Dirichlet\n",
    "            for trial_idx in range(3):                                                    \n",
    "                b[3*nt_idx[0] + test_idx] += bc_dirichlet[triangles_points[0]][test_idx] * bc_d[re_idx[0]][trial_idx][test_idx]\n"
   ]
  },
  {
   "cell_type": "code",
   "execution_count": 258,
   "id": "c8e71f3c",
   "metadata": {},
   "outputs": [],
   "source": [
    "from scipy.sparse import bmat"
   ]
  },
  {
   "cell_type": "code",
   "execution_count": 259,
   "id": "6086d0ed",
   "metadata": {},
   "outputs": [],
   "source": [
    "M = np.random.rand(stiffness_matrix.shape[0], 1)\n",
    "M_sparse = lil_matrix(M)\n",
    "M_T_sparse = lil_matrix(M.T)\n",
    "zero_block = lil_matrix((1, 1))"
   ]
  },
  {
   "cell_type": "code",
   "execution_count": 260,
   "metadata": {},
   "outputs": [],
   "source": [
    "A = bmat([\n",
    "    [stiffness_matrix, M_sparse],\n",
    "    [M_T_sparse, zero_block]\n",
    "], format='csr')"
   ]
  },
  {
   "cell_type": "code",
   "execution_count": 261,
   "metadata": {},
   "outputs": [],
   "source": [
    "# A = csr_matrix(A)"
   ]
  },
  {
   "cell_type": "code",
   "execution_count": 262,
   "id": "8e780f0c",
   "metadata": {},
   "outputs": [
    {
     "data": {
      "text/plain": [
       "-0.543677684207303"
      ]
     },
     "execution_count": 262,
     "metadata": {},
     "output_type": "execute_result"
    }
   ],
   "source": [
    "coefs = pypardiso.spsolve(A.tocsr(), np.r_[b, 0.])[:-1].reshape(-1, 3)\n",
    "coefs.sum()"
   ]
  },
  {
   "cell_type": "code",
   "execution_count": 263,
   "id": "076700a8",
   "metadata": {},
   "outputs": [],
   "source": [
    "param = np.linspace(0, 1, 3)\n",
    "gridx, gridy = np.meshgrid(param, param, indexing=\"ij\")\n",
    "\n",
    "mask = (gridy <= 1 - gridx)\n",
    "\n",
    "gridx = gridx[mask]\n",
    "gridy = gridy[mask]"
   ]
  },
  {
   "cell_type": "code",
   "execution_count": 264,
   "id": "8e659ebb",
   "metadata": {},
   "outputs": [],
   "source": [
    "mapping_function_lambdified = dill.load(\n",
    "    open(\"../../calculations/lagrange_linear_mapping_x\", \"rb\")\n",
    ")\n",
    "interpolation_function_lambdified = dill.load(\n",
    "    open(\"../../calculations/lagrange_linear_interpolation_x\", \"rb\")\n",
    ")"
   ]
  },
  {
   "cell_type": "code",
   "execution_count": 265,
   "id": "81ee76e7",
   "metadata": {},
   "outputs": [],
   "source": [
    "global_x, global_y, global_z = [], [], []\n",
    "\n",
    "for t_idx, element in enumerate(triangles):\n",
    "    \n",
    "    x0, x1, x2 = points[element[0], 0], points[element[1], 0], points[element[2], 0]\n",
    "    y0, y1, y2 = points[element[0], 1], points[element[1], 1], points[element[2], 1]\n",
    "    \n",
    "    physical_x, physical_y = mapping_function_lambdified(gridx, gridy, x0, y0, x1, y1, x2, y2).squeeze()\n",
    "    \n",
    "    physical_z = interpolation_function_lambdified(\n",
    "                                        gridx, gridy,\n",
    "                                        coefs[t_idx, 0], \n",
    "                                        coefs[t_idx, 1], \n",
    "                                        coefs[t_idx, 2],\n",
    "                                        ).squeeze()\n",
    "    \n",
    "    global_x.append(physical_x)\n",
    "    global_y.append(physical_y)\n",
    "    global_z.append(physical_z)\n",
    "    \n",
    "global_x = np.concatenate(global_x)\n",
    "global_y = np.concatenate(global_y)\n",
    "global_z = np.concatenate(global_z)"
   ]
  },
  {
   "cell_type": "code",
   "execution_count": 266,
   "id": "114315a1",
   "metadata": {},
   "outputs": [],
   "source": [
    "# EXTENSIVE\n",
    "# plot_data = [\n",
    "#     plotly.graph_objects.Mesh3d(\n",
    "#                                 x=gx, \n",
    "#                                 y=gy,\n",
    "#                                 z=gz, \n",
    "#                                 )\n",
    "#         for gx, gy, gz in zip(\n",
    "#                                 global_x.reshape(-1, gridx.shape[0]), \n",
    "#                                 global_y.reshape(-1, gridx.shape[0]), \n",
    "#                                 global_z.reshape(-1, gridx.shape[0])\n",
    "#                               )\n",
    "#     ]\n",
    "# fig = plotly.graph_objects.Figure(data=plot_data)\n",
    "# fig.update_layout()"
   ]
  },
  {
   "cell_type": "code",
   "execution_count": 267,
   "id": "73a9c79a",
   "metadata": {},
   "outputs": [
    {
     "data": {
      "application/vnd.plotly.v1+json": {
       "config": {
        "plotlyServerURL": "https://plot.ly"
       },
       "data": [
        {
         "intensity": {
          "bdata": "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",
          "dtype": "f8"
         },
         "type": "mesh3d",
         "x": {
          "bdata": "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",
          "dtype": "f8"
         },
         "y": {
          "bdata": "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",
          "dtype": "f8"
         },
         "z": {
          "bdata": "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",
          "dtype": "f8"
         }
        }
       ],
       "layout": {
        "template": {
         "data": {
          "bar": [
           {
            "error_x": {
             "color": "#2a3f5f"
            },
            "error_y": {
             "color": "#2a3f5f"
            },
            "marker": {
             "line": {
              "color": "#E5ECF6",
              "width": 0.5
             },
             "pattern": {
              "fillmode": "overlay",
              "size": 10,
              "solidity": 0.2
             }
            },
            "type": "bar"
           }
          ],
          "barpolar": [
           {
            "marker": {
             "line": {
              "color": "#E5ECF6",
              "width": 0.5
             },
             "pattern": {
              "fillmode": "overlay",
              "size": 10,
              "solidity": 0.2
             }
            },
            "type": "barpolar"
           }
          ],
          "carpet": [
           {
            "aaxis": {
             "endlinecolor": "#2a3f5f",
             "gridcolor": "white",
             "linecolor": "white",
             "minorgridcolor": "white",
             "startlinecolor": "#2a3f5f"
            },
            "baxis": {
             "endlinecolor": "#2a3f5f",
             "gridcolor": "white",
             "linecolor": "white",
             "minorgridcolor": "white",
             "startlinecolor": "#2a3f5f"
            },
            "type": "carpet"
           }
          ],
          "choropleth": [
           {
            "colorbar": {
             "outlinewidth": 0,
             "ticks": ""
            },
            "type": "choropleth"
           }
          ],
          "contour": [
           {
            "colorbar": {
             "outlinewidth": 0,
             "ticks": ""
            },
            "colorscale": [
             [
              0,
              "#0d0887"
             ],
             [
              0.1111111111111111,
              "#46039f"
             ],
             [
              0.2222222222222222,
              "#7201a8"
             ],
             [
              0.3333333333333333,
              "#9c179e"
             ],
             [
              0.4444444444444444,
              "#bd3786"
             ],
             [
              0.5555555555555556,
              "#d8576b"
             ],
             [
              0.6666666666666666,
              "#ed7953"
             ],
             [
              0.7777777777777778,
              "#fb9f3a"
             ],
             [
              0.8888888888888888,
              "#fdca26"
             ],
             [
              1,
              "#f0f921"
             ]
            ],
            "type": "contour"
           }
          ],
          "contourcarpet": [
           {
            "colorbar": {
             "outlinewidth": 0,
             "ticks": ""
            },
            "type": "contourcarpet"
           }
          ],
          "heatmap": [
           {
            "colorbar": {
             "outlinewidth": 0,
             "ticks": ""
            },
            "colorscale": [
             [
              0,
              "#0d0887"
             ],
             [
              0.1111111111111111,
              "#46039f"
             ],
             [
              0.2222222222222222,
              "#7201a8"
             ],
             [
              0.3333333333333333,
              "#9c179e"
             ],
             [
              0.4444444444444444,
              "#bd3786"
             ],
             [
              0.5555555555555556,
              "#d8576b"
             ],
             [
              0.6666666666666666,
              "#ed7953"
             ],
             [
              0.7777777777777778,
              "#fb9f3a"
             ],
             [
              0.8888888888888888,
              "#fdca26"
             ],
             [
              1,
              "#f0f921"
             ]
            ],
            "type": "heatmap"
           }
          ],
          "histogram": [
           {
            "marker": {
             "pattern": {
              "fillmode": "overlay",
              "size": 10,
              "solidity": 0.2
             }
            },
            "type": "histogram"
           }
          ],
          "histogram2d": [
           {
            "colorbar": {
             "outlinewidth": 0,
             "ticks": ""
            },
            "colorscale": [
             [
              0,
              "#0d0887"
             ],
             [
              0.1111111111111111,
              "#46039f"
             ],
             [
              0.2222222222222222,
              "#7201a8"
             ],
             [
              0.3333333333333333,
              "#9c179e"
             ],
             [
              0.4444444444444444,
              "#bd3786"
             ],
             [
              0.5555555555555556,
              "#d8576b"
             ],
             [
              0.6666666666666666,
              "#ed7953"
             ],
             [
              0.7777777777777778,
              "#fb9f3a"
             ],
             [
              0.8888888888888888,
              "#fdca26"
             ],
             [
              1,
              "#f0f921"
             ]
            ],
            "type": "histogram2d"
           }
          ],
          "histogram2dcontour": [
           {
            "colorbar": {
             "outlinewidth": 0,
             "ticks": ""
            },
            "colorscale": [
             [
              0,
              "#0d0887"
             ],
             [
              0.1111111111111111,
              "#46039f"
             ],
             [
              0.2222222222222222,
              "#7201a8"
             ],
             [
              0.3333333333333333,
              "#9c179e"
             ],
             [
              0.4444444444444444,
              "#bd3786"
             ],
             [
              0.5555555555555556,
              "#d8576b"
             ],
             [
              0.6666666666666666,
              "#ed7953"
             ],
             [
              0.7777777777777778,
              "#fb9f3a"
             ],
             [
              0.8888888888888888,
              "#fdca26"
             ],
             [
              1,
              "#f0f921"
             ]
            ],
            "type": "histogram2dcontour"
           }
          ],
          "mesh3d": [
           {
            "colorbar": {
             "outlinewidth": 0,
             "ticks": ""
            },
            "type": "mesh3d"
           }
          ],
          "parcoords": [
           {
            "line": {
             "colorbar": {
              "outlinewidth": 0,
              "ticks": ""
             }
            },
            "type": "parcoords"
           }
          ],
          "pie": [
           {
            "automargin": true,
            "type": "pie"
           }
          ],
          "scatter": [
           {
            "fillpattern": {
             "fillmode": "overlay",
             "size": 10,
             "solidity": 0.2
            },
            "type": "scatter"
           }
          ],
          "scatter3d": [
           {
            "line": {
             "colorbar": {
              "outlinewidth": 0,
              "ticks": ""
             }
            },
            "marker": {
             "colorbar": {
              "outlinewidth": 0,
              "ticks": ""
             }
            },
            "type": "scatter3d"
           }
          ],
          "scattercarpet": [
           {
            "marker": {
             "colorbar": {
              "outlinewidth": 0,
              "ticks": ""
             }
            },
            "type": "scattercarpet"
           }
          ],
          "scattergeo": [
           {
            "marker": {
             "colorbar": {
              "outlinewidth": 0,
              "ticks": ""
             }
            },
            "type": "scattergeo"
           }
          ],
          "scattergl": [
           {
            "marker": {
             "colorbar": {
              "outlinewidth": 0,
              "ticks": ""
             }
            },
            "type": "scattergl"
           }
          ],
          "scattermap": [
           {
            "marker": {
             "colorbar": {
              "outlinewidth": 0,
              "ticks": ""
             }
            },
            "type": "scattermap"
           }
          ],
          "scattermapbox": [
           {
            "marker": {
             "colorbar": {
              "outlinewidth": 0,
              "ticks": ""
             }
            },
            "type": "scattermapbox"
           }
          ],
          "scatterpolar": [
           {
            "marker": {
             "colorbar": {
              "outlinewidth": 0,
              "ticks": ""
             }
            },
            "type": "scatterpolar"
           }
          ],
          "scatterpolargl": [
           {
            "marker": {
             "colorbar": {
              "outlinewidth": 0,
              "ticks": ""
             }
            },
            "type": "scatterpolargl"
           }
          ],
          "scatterternary": [
           {
            "marker": {
             "colorbar": {
              "outlinewidth": 0,
              "ticks": ""
             }
            },
            "type": "scatterternary"
           }
          ],
          "surface": [
           {
            "colorbar": {
             "outlinewidth": 0,
             "ticks": ""
            },
            "colorscale": [
             [
              0,
              "#0d0887"
             ],
             [
              0.1111111111111111,
              "#46039f"
             ],
             [
              0.2222222222222222,
              "#7201a8"
             ],
             [
              0.3333333333333333,
              "#9c179e"
             ],
             [
              0.4444444444444444,
              "#bd3786"
             ],
             [
              0.5555555555555556,
              "#d8576b"
             ],
             [
              0.6666666666666666,
              "#ed7953"
             ],
             [
              0.7777777777777778,
              "#fb9f3a"
             ],
             [
              0.8888888888888888,
              "#fdca26"
             ],
             [
              1,
              "#f0f921"
             ]
            ],
            "type": "surface"
           }
          ],
          "table": [
           {
            "cells": {
             "fill": {
              "color": "#EBF0F8"
             },
             "line": {
              "color": "white"
             }
            },
            "header": {
             "fill": {
              "color": "#C8D4E3"
             },
             "line": {
              "color": "white"
             }
            },
            "type": "table"
           }
          ]
         },
         "layout": {
          "annotationdefaults": {
           "arrowcolor": "#2a3f5f",
           "arrowhead": 0,
           "arrowwidth": 1
          },
          "autotypenumbers": "strict",
          "coloraxis": {
           "colorbar": {
            "outlinewidth": 0,
            "ticks": ""
           }
          },
          "colorscale": {
           "diverging": [
            [
             0,
             "#8e0152"
            ],
            [
             0.1,
             "#c51b7d"
            ],
            [
             0.2,
             "#de77ae"
            ],
            [
             0.3,
             "#f1b6da"
            ],
            [
             0.4,
             "#fde0ef"
            ],
            [
             0.5,
             "#f7f7f7"
            ],
            [
             0.6,
             "#e6f5d0"
            ],
            [
             0.7,
             "#b8e186"
            ],
            [
             0.8,
             "#7fbc41"
            ],
            [
             0.9,
             "#4d9221"
            ],
            [
             1,
             "#276419"
            ]
           ],
           "sequential": [
            [
             0,
             "#0d0887"
            ],
            [
             0.1111111111111111,
             "#46039f"
            ],
            [
             0.2222222222222222,
             "#7201a8"
            ],
            [
             0.3333333333333333,
             "#9c179e"
            ],
            [
             0.4444444444444444,
             "#bd3786"
            ],
            [
             0.5555555555555556,
             "#d8576b"
            ],
            [
             0.6666666666666666,
             "#ed7953"
            ],
            [
             0.7777777777777778,
             "#fb9f3a"
            ],
            [
             0.8888888888888888,
             "#fdca26"
            ],
            [
             1,
             "#f0f921"
            ]
           ],
           "sequentialminus": [
            [
             0,
             "#0d0887"
            ],
            [
             0.1111111111111111,
             "#46039f"
            ],
            [
             0.2222222222222222,
             "#7201a8"
            ],
            [
             0.3333333333333333,
             "#9c179e"
            ],
            [
             0.4444444444444444,
             "#bd3786"
            ],
            [
             0.5555555555555556,
             "#d8576b"
            ],
            [
             0.6666666666666666,
             "#ed7953"
            ],
            [
             0.7777777777777778,
             "#fb9f3a"
            ],
            [
             0.8888888888888888,
             "#fdca26"
            ],
            [
             1,
             "#f0f921"
            ]
           ]
          },
          "colorway": [
           "#636efa",
           "#EF553B",
           "#00cc96",
           "#ab63fa",
           "#FFA15A",
           "#19d3f3",
           "#FF6692",
           "#B6E880",
           "#FF97FF",
           "#FECB52"
          ],
          "font": {
           "color": "#2a3f5f"
          },
          "geo": {
           "bgcolor": "white",
           "lakecolor": "white",
           "landcolor": "#E5ECF6",
           "showlakes": true,
           "showland": true,
           "subunitcolor": "white"
          },
          "hoverlabel": {
           "align": "left"
          },
          "hovermode": "closest",
          "mapbox": {
           "style": "light"
          },
          "paper_bgcolor": "white",
          "plot_bgcolor": "#E5ECF6",
          "polar": {
           "angularaxis": {
            "gridcolor": "white",
            "linecolor": "white",
            "ticks": ""
           },
           "bgcolor": "#E5ECF6",
           "radialaxis": {
            "gridcolor": "white",
            "linecolor": "white",
            "ticks": ""
           }
          },
          "scene": {
           "xaxis": {
            "backgroundcolor": "#E5ECF6",
            "gridcolor": "white",
            "gridwidth": 2,
            "linecolor": "white",
            "showbackground": true,
            "ticks": "",
            "zerolinecolor": "white"
           },
           "yaxis": {
            "backgroundcolor": "#E5ECF6",
            "gridcolor": "white",
            "gridwidth": 2,
            "linecolor": "white",
            "showbackground": true,
            "ticks": "",
            "zerolinecolor": "white"
           },
           "zaxis": {
            "backgroundcolor": "#E5ECF6",
            "gridcolor": "white",
            "gridwidth": 2,
            "linecolor": "white",
            "showbackground": true,
            "ticks": "",
            "zerolinecolor": "white"
           }
          },
          "shapedefaults": {
           "line": {
            "color": "#2a3f5f"
           }
          },
          "ternary": {
           "aaxis": {
            "gridcolor": "white",
            "linecolor": "white",
            "ticks": ""
           },
           "baxis": {
            "gridcolor": "white",
            "linecolor": "white",
            "ticks": ""
           },
           "bgcolor": "#E5ECF6",
           "caxis": {
            "gridcolor": "white",
            "linecolor": "white",
            "ticks": ""
           }
          },
          "title": {
           "x": 0.05
          },
          "xaxis": {
           "automargin": true,
           "gridcolor": "white",
           "linecolor": "white",
           "ticks": "",
           "title": {
            "standoff": 15
           },
           "zerolinecolor": "white",
           "zerolinewidth": 2
          },
          "yaxis": {
           "automargin": true,
           "gridcolor": "white",
           "linecolor": "white",
           "ticks": "",
           "title": {
            "standoff": 15
           },
           "zerolinecolor": "white",
           "zerolinewidth": 2
          }
         }
        }
       }
      }
     },
     "metadata": {},
     "output_type": "display_data"
    }
   ],
   "source": [
    "plot_data = [\n",
    "    plotly.graph_objects.Mesh3d(\n",
    "                                x=global_x, \n",
    "                                y=global_y,\n",
    "                                z=global_z,\n",
    "                                intensity=global_z\n",
    "                                )        \n",
    "    ]\n",
    "fig = plotly.graph_objects.Figure(data=plot_data)\n",
    "fig.update_layout()"
   ]
  },
  {
   "cell_type": "code",
   "execution_count": 268,
   "id": "f7fb3231",
   "metadata": {},
   "outputs": [],
   "source": [
    "grid_x, grid_y = np.mgrid[-1:+1:100j, -1:+1:100j]"
   ]
  },
  {
   "cell_type": "code",
   "execution_count": 269,
   "id": "fce9a156",
   "metadata": {},
   "outputs": [],
   "source": [
    "points = np.stack([global_x, global_y], axis=-1)"
   ]
  },
  {
   "cell_type": "code",
   "execution_count": 279,
   "id": "fe153ed2",
   "metadata": {},
   "outputs": [],
   "source": [
    "from scipy.interpolate import griddata\n",
    "grid_z0 = griddata(points, global_z, (grid_x, grid_y), method='nearest')\n",
    "grid_z1 = griddata(points, global_z, (grid_x, grid_y), method='linear')\n",
    "grid_z2 = griddata(points, global_z, (grid_x, grid_y), method='cubic', rescale=True, fill_value=coefs.min())"
   ]
  },
  {
   "cell_type": "code",
   "execution_count": 283,
   "id": "ad6289ad",
   "metadata": {},
   "outputs": [
    {
     "data": {
      "text/plain": [
       "<matplotlib.image.AxesImage at 0x24e06df4100>"
      ]
     },
     "execution_count": 283,
     "metadata": {},
     "output_type": "execute_result"
    },
    {
     "data": {
      "image/png": "[encoded data removed]",
      "text/plain": [
       "<Figure size 640x480 with 1 Axes>"
      ]
     },
     "metadata": {},
     "output_type": "display_data"
    }
   ],
   "source": [
    "plt.imshow(grid_z0[::-1], cmap=\"viridis\")"
   ]
  },
  {
   "cell_type": "code",
   "execution_count": 284,
   "id": "5a0fa904",
   "metadata": {},
   "outputs": [
    {
     "data": {
      "application/vnd.plotly.v1+json": {
       "config": {
        "plotlyServerURL": "https://plot.ly"
       },
       "data": [
        {
         "colorscale": [
          [
           0,
           "rgb(0,0,0)"
          ],
          [
           0.3333333333333333,
           "rgb(230,0,0)"
          ],
          [
           0.6666666666666666,
           "rgb(255,210,0)"
          ],
          [
           1,
           "rgb(255,255,255)"
          ]
         ],
         "contours": {
          "coloring": "heatmap",
          "end": 0.25835505016760063,
          "labelfont": {
           "color": "white",
           "size": 12
          },
          "showlabels": true,
          "size": 0.05,
          "start": -0.2862218420725304
         },
         "line": {
          "smoothing": 1.3
         },
         "type": "contour",
         "z": {
          "bdata": "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",
          "dtype": "f8",
          "shape": "100, 100"
         }
        }
       ],
       "layout": {
        "autosize": false,
        "height": 700,
        "margin": {
         "b": 100,
         "l": 50,
         "pad": 4,
         "r": 50,
         "t": 50
        },
        "paper_bgcolor": "LightSteelBlue",
        "template": {
         "data": {
          "bar": [
           {
            "error_x": {
             "color": "#2a3f5f"
            },
            "error_y": {
             "color": "#2a3f5f"
            },
            "marker": {
             "line": {
              "color": "#E5ECF6",
              "width": 0.5
             },
             "pattern": {
              "fillmode": "overlay",
              "size": 10,
              "solidity": 0.2
             }
            },
            "type": "bar"
           }
          ],
          "barpolar": [
           {
            "marker": {
             "line": {
              "color": "#E5ECF6",
              "width": 0.5
             },
             "pattern": {
              "fillmode": "overlay",
              "size": 10,
              "solidity": 0.2
             }
            },
            "type": "barpolar"
           }
          ],
          "carpet": [
           {
            "aaxis": {
             "endlinecolor": "#2a3f5f",
             "gridcolor": "white",
             "linecolor": "white",
             "minorgridcolor": "white",
             "startlinecolor": "#2a3f5f"
            },
            "baxis": {
             "endlinecolor": "#2a3f5f",
             "gridcolor": "white",
             "linecolor": "white",
             "minorgridcolor": "white",
             "startlinecolor": "#2a3f5f"
            },
            "type": "carpet"
           }
          ],
          "choropleth": [
           {
            "colorbar": {
             "outlinewidth": 0,
             "ticks": ""
            },
            "type": "choropleth"
           }
          ],
          "contour": [
           {
            "colorbar": {
             "outlinewidth": 0,
             "ticks": ""
            },
            "colorscale": [
             [
              0,
              "#0d0887"
             ],
             [
              0.1111111111111111,
              "#46039f"
             ],
             [
              0.2222222222222222,
              "#7201a8"
             ],
             [
              0.3333333333333333,
              "#9c179e"
             ],
             [
              0.4444444444444444,
              "#bd3786"
             ],
             [
              0.5555555555555556,
              "#d8576b"
             ],
             [
              0.6666666666666666,
              "#ed7953"
             ],
             [
              0.7777777777777778,
              "#fb9f3a"
             ],
             [
              0.8888888888888888,
              "#fdca26"
             ],
             [
              1,
              "#f0f921"
             ]
            ],
            "type": "contour"
           }
          ],
          "contourcarpet": [
           {
            "colorbar": {
             "outlinewidth": 0,
             "ticks": ""
            },
            "type": "contourcarpet"
           }
          ],
          "heatmap": [
           {
            "colorbar": {
             "outlinewidth": 0,
             "ticks": ""
            },
            "colorscale": [
             [
              0,
              "#0d0887"
             ],
             [
              0.1111111111111111,
              "#46039f"
             ],
             [
              0.2222222222222222,
              "#7201a8"
             ],
             [
              0.3333333333333333,
              "#9c179e"
             ],
             [
              0.4444444444444444,
              "#bd3786"
             ],
             [
              0.5555555555555556,
              "#d8576b"
             ],
             [
              0.6666666666666666,
              "#ed7953"
             ],
             [
              0.7777777777777778,
              "#fb9f3a"
             ],
             [
              0.8888888888888888,
              "#fdca26"
             ],
             [
              1,
              "#f0f921"
             ]
            ],
            "type": "heatmap"
           }
          ],
          "histogram": [
           {
            "marker": {
             "pattern": {
              "fillmode": "overlay",
              "size": 10,
              "solidity": 0.2
             }
            },
            "type": "histogram"
           }
          ],
          "histogram2d": [
           {
            "colorbar": {
             "outlinewidth": 0,
             "ticks": ""
            },
            "colorscale": [
             [
              0,
              "#0d0887"
             ],
             [
              0.1111111111111111,
              "#46039f"
             ],
             [
              0.2222222222222222,
              "#7201a8"
             ],
             [
              0.3333333333333333,
              "#9c179e"
             ],
             [
              0.4444444444444444,
              "#bd3786"
             ],
             [
              0.5555555555555556,
              "#d8576b"
             ],
             [
              0.6666666666666666,
              "#ed7953"
             ],
             [
              0.7777777777777778,
              "#fb9f3a"
             ],
             [
              0.8888888888888888,
              "#fdca26"
             ],
             [
              1,
              "#f0f921"
             ]
            ],
            "type": "histogram2d"
           }
          ],
          "histogram2dcontour": [
           {
            "colorbar": {
             "outlinewidth": 0,
             "ticks": ""
            },
            "colorscale": [
             [
              0,
              "#0d0887"
             ],
             [
              0.1111111111111111,
              "#46039f"
             ],
             [
              0.2222222222222222,
              "#7201a8"
             ],
             [
              0.3333333333333333,
              "#9c179e"
             ],
             [
              0.4444444444444444,
              "#bd3786"
             ],
             [
              0.5555555555555556,
              "#d8576b"
             ],
             [
              0.6666666666666666,
              "#ed7953"
             ],
             [
              0.7777777777777778,
              "#fb9f3a"
             ],
             [
              0.8888888888888888,
              "#fdca26"
             ],
             [
              1,
              "#f0f921"
             ]
            ],
            "type": "histogram2dcontour"
           }
          ],
          "mesh3d": [
           {
            "colorbar": {
             "outlinewidth": 0,
             "ticks": ""
            },
            "type": "mesh3d"
           }
          ],
          "parcoords": [
           {
            "line": {
             "colorbar": {
              "outlinewidth": 0,
              "ticks": ""
             }
            },
            "type": "parcoords"
           }
          ],
          "pie": [
           {
            "automargin": true,
            "type": "pie"
           }
          ],
          "scatter": [
           {
            "fillpattern": {
             "fillmode": "overlay",
             "size": 10,
             "solidity": 0.2
            },
            "type": "scatter"
           }
          ],
          "scatter3d": [
           {
            "line": {
             "colorbar": {
              "outlinewidth": 0,
              "ticks": ""
             }
            },
            "marker": {
             "colorbar": {
              "outlinewidth": 0,
              "ticks": ""
             }
            },
            "type": "scatter3d"
           }
          ],
          "scattercarpet": [
           {
            "marker": {
             "colorbar": {
              "outlinewidth": 0,
              "ticks": ""
             }
            },
            "type": "scattercarpet"
           }
          ],
          "scattergeo": [
           {
            "marker": {
             "colorbar": {
              "outlinewidth": 0,
              "ticks": ""
             }
            },
            "type": "scattergeo"
           }
          ],
          "scattergl": [
           {
            "marker": {
             "colorbar": {
              "outlinewidth": 0,
              "ticks": ""
             }
            },
            "type": "scattergl"
           }
          ],
          "scattermap": [
           {
            "marker": {
             "colorbar": {
              "outlinewidth": 0,
              "ticks": ""
             }
            },
            "type": "scattermap"
           }
          ],
          "scattermapbox": [
           {
            "marker": {
             "colorbar": {
              "outlinewidth": 0,
              "ticks": ""
             }
            },
            "type": "scattermapbox"
           }
          ],
          "scatterpolar": [
           {
            "marker": {
             "colorbar": {
              "outlinewidth": 0,
              "ticks": ""
             }
            },
            "type": "scatterpolar"
           }
          ],
          "scatterpolargl": [
           {
            "marker": {
             "colorbar": {
              "outlinewidth": 0,
              "ticks": ""
             }
            },
            "type": "scatterpolargl"
           }
          ],
          "scatterternary": [
           {
            "marker": {
             "colorbar": {
              "outlinewidth": 0,
              "ticks": ""
             }
            },
            "type": "scatterternary"
           }
          ],
          "surface": [
           {
            "colorbar": {
             "outlinewidth": 0,
             "ticks": ""
            },
            "colorscale": [
             [
              0,
              "#0d0887"
             ],
             [
              0.1111111111111111,
              "#46039f"
             ],
             [
              0.2222222222222222,
              "#7201a8"
             ],
             [
              0.3333333333333333,
              "#9c179e"
             ],
             [
              0.4444444444444444,
              "#bd3786"
             ],
             [
              0.5555555555555556,
              "#d8576b"
             ],
             [
              0.6666666666666666,
              "#ed7953"
             ],
             [
              0.7777777777777778,
              "#fb9f3a"
             ],
             [
              0.8888888888888888,
              "#fdca26"
             ],
             [
              1,
              "#f0f921"
             ]
            ],
            "type": "surface"
           }
          ],
          "table": [
           {
            "cells": {
             "fill": {
              "color": "#EBF0F8"
             },
             "line": {
              "color": "white"
             }
            },
            "header": {
             "fill": {
              "color": "#C8D4E3"
             },
             "line": {
              "color": "white"
             }
            },
            "type": "table"
           }
          ]
         },
         "layout": {
          "annotationdefaults": {
           "arrowcolor": "#2a3f5f",
           "arrowhead": 0,
           "arrowwidth": 1
          },
          "autotypenumbers": "strict",
          "coloraxis": {
           "colorbar": {
            "outlinewidth": 0,
            "ticks": ""
           }
          },
          "colorscale": {
           "diverging": [
            [
             0,
             "#8e0152"
            ],
            [
             0.1,
             "#c51b7d"
            ],
            [
             0.2,
             "#de77ae"
            ],
            [
             0.3,
             "#f1b6da"
            ],
            [
             0.4,
             "#fde0ef"
            ],
            [
             0.5,
             "#f7f7f7"
            ],
            [
             0.6,
             "#e6f5d0"
            ],
            [
             0.7,
             "#b8e186"
            ],
            [
             0.8,
             "#7fbc41"
            ],
            [
             0.9,
             "#4d9221"
            ],
            [
             1,
             "#276419"
            ]
           ],
           "sequential": [
            [
             0,
             "#0d0887"
            ],
            [
             0.1111111111111111,
             "#46039f"
            ],
            [
             0.2222222222222222,
             "#7201a8"
            ],
            [
             0.3333333333333333,
             "#9c179e"
            ],
            [
             0.4444444444444444,
             "#bd3786"
            ],
            [
             0.5555555555555556,
             "#d8576b"
            ],
            [
             0.6666666666666666,
             "#ed7953"
            ],
            [
             0.7777777777777778,
             "#fb9f3a"
            ],
            [
             0.8888888888888888,
             "#fdca26"
            ],
            [
             1,
             "#f0f921"
            ]
           ],
           "sequentialminus": [
            [
             0,
             "#0d0887"
            ],
            [
             0.1111111111111111,
             "#46039f"
            ],
            [
             0.2222222222222222,
             "#7201a8"
            ],
            [
             0.3333333333333333,
             "#9c179e"
            ],
            [
             0.4444444444444444,
             "#bd3786"
            ],
            [
             0.5555555555555556,
             "#d8576b"
            ],
            [
             0.6666666666666666,
             "#ed7953"
            ],
            [
             0.7777777777777778,
             "#fb9f3a"
            ],
            [
             0.8888888888888888,
             "#fdca26"
            ],
            [
             1,
             "#f0f921"
            ]
           ]
          },
          "colorway": [
           "#636efa",
           "#EF553B",
           "#00cc96",
           "#ab63fa",
           "#FFA15A",
           "#19d3f3",
           "#FF6692",
           "#B6E880",
           "#FF97FF",
           "#FECB52"
          ],
          "font": {
           "color": "#2a3f5f"
          },
          "geo": {
           "bgcolor": "white",
           "lakecolor": "white",
           "landcolor": "#E5ECF6",
           "showlakes": true,
           "showland": true,
           "subunitcolor": "white"
          },
          "hoverlabel": {
           "align": "left"
          },
          "hovermode": "closest",
          "mapbox": {
           "style": "light"
          },
          "paper_bgcolor": "white",
          "plot_bgcolor": "#E5ECF6",
          "polar": {
           "angularaxis": {
            "gridcolor": "white",
            "linecolor": "white",
            "ticks": ""
           },
           "bgcolor": "#E5ECF6",
           "radialaxis": {
            "gridcolor": "white",
            "linecolor": "white",
            "ticks": ""
           }
          },
          "scene": {
           "xaxis": {
            "backgroundcolor": "#E5ECF6",
            "gridcolor": "white",
            "gridwidth": 2,
            "linecolor": "white",
            "showbackground": true,
            "ticks": "",
            "zerolinecolor": "white"
           },
           "yaxis": {
            "backgroundcolor": "#E5ECF6",
            "gridcolor": "white",
            "gridwidth": 2,
            "linecolor": "white",
            "showbackground": true,
            "ticks": "",
            "zerolinecolor": "white"
           },
           "zaxis": {
            "backgroundcolor": "#E5ECF6",
            "gridcolor": "white",
            "gridwidth": 2,
            "linecolor": "white",
            "showbackground": true,
            "ticks": "",
            "zerolinecolor": "white"
           }
          },
          "shapedefaults": {
           "line": {
            "color": "#2a3f5f"
           }
          },
          "ternary": {
           "aaxis": {
            "gridcolor": "white",
            "linecolor": "white",
            "ticks": ""
           },
           "baxis": {
            "gridcolor": "white",
            "linecolor": "white",
            "ticks": ""
           },
           "bgcolor": "#E5ECF6",
           "caxis": {
            "gridcolor": "white",
            "linecolor": "white",
            "ticks": ""
           }
          },
          "title": {
           "x": 0.05
          },
          "xaxis": {
           "automargin": true,
           "gridcolor": "white",
           "linecolor": "white",
           "ticks": "",
           "title": {
            "standoff": 15
           },
           "zerolinecolor": "white",
           "zerolinewidth": 2
          },
          "yaxis": {
           "automargin": true,
           "gridcolor": "white",
           "linecolor": "white",
           "ticks": "",
           "title": {
            "standoff": 15
           },
           "zerolinecolor": "white",
           "zerolinewidth": 2
          }
         }
        },
        "width": 700
       }
      }
     },
     "metadata": {},
     "output_type": "display_data"
    }
   ],
   "source": [
    "import plotly.graph_objects as go\n",
    "\n",
    "fig = go.Figure(data =\n",
    "    go.Contour(\n",
    "        z=grid_z0,\n",
    "        # contours_coloring='lines',\n",
    "        colorscale='Hot',\n",
    "        contours=dict(\n",
    "            start=coefs.min(),\n",
    "            end=coefs.max(),\n",
    "            size=0.05,\n",
    "            coloring ='heatmap',\n",
    "            showlabels = True, # show labels on contours\n",
    "            labelfont = dict( # label font properties\n",
    "                size = 12,\n",
    "                color = 'white',\n",
    "            )\n",
    "        ),\n",
    "        line_smoothing=1.3\n",
    "    ),\n",
    "    )\n",
    "\n",
    "fig.update_layout(\n",
    "    autosize=False,\n",
    "    width=700,\n",
    "    height=700,\n",
    "    margin=dict(\n",
    "        l=50,\n",
    "        r=50,\n",
    "        b=100,\n",
    "        t=50,\n",
    "        pad=4\n",
    "    ),\n",
    "    paper_bgcolor=\"LightSteelBlue\",\n",
    ")\n",
    "fig.show()"
   ]
  }
 ],
 "metadata": {
  "kernelspec": {
   "display_name": "experiments",
   "language": "python",
   "name": "python3"
  },
  "language_info": {
   "codemirror_mode": {
    "name": "ipython",
    "version": 3
   },
   "file_extension": ".py",
   "mimetype": "text/x-python",
   "name": "python",
   "nbconvert_exporter": "python",
   "pygments_lexer": "ipython3",
   "version": "3.9.18"
  }
 },
 "nbformat": 4,
 "nbformat_minor": 5
}
