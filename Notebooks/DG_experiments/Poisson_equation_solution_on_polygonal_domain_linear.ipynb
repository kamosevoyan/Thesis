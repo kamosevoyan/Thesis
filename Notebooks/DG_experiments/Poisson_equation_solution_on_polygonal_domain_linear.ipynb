{
 "cells": [
  {
   "cell_type": "code",
   "execution_count": 3,
   "id": "d77dd589",
   "metadata": {},
   "outputs": [],
   "source": [
    "import matplotlib.pyplot as plt\n",
    "import dill\n",
    "import sympy\n",
    "from tqdm import tqdm\n",
    "from scipy.sparse import lil_matrix, csc_matrix, csr_matrix\n",
    "from scipy.sparse.linalg import spsolve\n",
    "import pypardiso\n",
    "import plotly"
   ]
  },
  {
   "cell_type": "markdown",
   "id": "69ae7294",
   "metadata": {},
   "source": [
    "### Load precomputed integrals"
   ]
  },
  {
   "cell_type": "code",
   "execution_count": 5,
   "id": "e0ed5cdf",
   "metadata": {},
   "outputs": [],
   "source": [
    "lagrange_linear_poisson_matrix = dill.load(\n",
    "    open(\"../calculations/lagrange_linear_poisson_matrix\", \"rb\")\n",
    ")\n",
    "lagrange_linear_poisson_right_values = dill.load(\n",
    "    open(\"../calculations/lagrange_linear_poisson_right_values\", \"rb\")\n",
    ")\n",
    "consistency_lambdified = dill.load(\n",
    "    open(\"../calculations/lagrange_linear_poisson_dg_consistency\", \"rb\")\n",
    ")\n",
    "consistency_boundary_lambdified = dill.load(\n",
    "    open(\"../calculations/lagrange_linear_poisson_dg_consistency_boundary\", \"rb\")\n",
    ")\n",
    "symmetricity_lambdified = dill.load(\n",
    "    open(\"../calculations/lagrange_linear_poisson_dg_symmetricity\", \"rb\")\n",
    ")\n",
    "symmetricity_boundary_lambdified = dill.load(\n",
    "    open(\"../calculations/lagrange_linear_poisson_dg_symmetricity_boundary\", \"rb\")\n",
    ")\n",
    "penalty_lambdified = dill.load(\n",
    "    open(\"../calculations/lagrange_linear_poisson_dg_penalty\", \"rb\")\n",
    ")\n",
    "penalty_boundary_lambdified = dill.load(\n",
    "    open(\"../calculations/lagrange_linear_poisson_dg_penalty_boundary\", \"rb\")\n",
    ")\n",
    "\n",
    "bc_dirichlet_lambdified = dill.load(open(\"../calculations/lagrange_linear_poisson_dg_bc_dirichlet\", \"rb\"))\n",
    "bc_neumann_lambdified = dill.load(open(\"../calculations/lagrange_linear_poisson_dg_bc_neumann\", \"rb\"))"
   ]
  },
  {
   "cell_type": "markdown",
   "id": "6688870c",
   "metadata": {},
   "source": [
    "### Initialize the domain"
   ]
  },
  {
   "cell_type": "code",
   "execution_count": 6,
   "id": "f91988b0",
   "metadata": {},
   "outputs": [],
   "source": [
    "import gmsh\n",
    "import numpy as np\n",
    "import matplotlib.pyplot as plt\n",
    "\n",
    "\n",
    "gmsh.initialize()\n",
    "gmsh.model.add(\"tri_mesh\")\n",
    "\n",
    "ms = 0.25\n",
    "# Define points\n",
    "point_1 = gmsh.model.geo.addPoint(0, 0, 0, ms)\n",
    "point_2 = gmsh.model.geo.addPoint(1, 0, 0, ms)\n",
    "point_3 = gmsh.model.geo.addPoint(0, 1, 0, ms)\n",
    "point_4 = gmsh.model.geo.addPoint(-1, 0, 0, ms)\n",
    "point_5 = gmsh.model.geo.addPoint(0, -1, 0, ms)\n",
    "\n",
    "# Define circles\n",
    "arc_1 = gmsh.model.geo.addCircleArc(point_2, point_1, point_3)\n",
    "arc_2 = gmsh.model.geo.addCircleArc(point_3, point_1, point_4)\n",
    "arc_3 = gmsh.model.geo.addCircleArc(point_4, point_1, point_5)\n",
    "arc_4 = gmsh.model.geo.addCircleArc(point_5, point_1, point_2)\n",
    "\n",
    "# Define line loop\n",
    "circle = gmsh.model.geo.addCurveLoop([arc_1, arc_2, arc_3, arc_4])\n",
    "\n",
    "# Define plane surface\n",
    "plane = gmsh.model.geo.addPlaneSurface([circle])\n",
    "\n",
    "gmsh.model.geo.synchronize()\n",
    "\n",
    "ms = 33\n",
    "gmsh.model.mesh.setTransfiniteCurve(arc_1, ms)\n",
    "gmsh.model.mesh.setTransfiniteCurve(arc_2, ms)\n",
    "gmsh.model.mesh.setTransfiniteCurve(arc_3, ms)\n",
    "gmsh.model.mesh.setTransfiniteCurve(arc_4, ms)\n",
    "gmsh.model.mesh.setTransfiniteSurface(plane)\n",
    "\n",
    "neumann_tag = gmsh.model.addPhysicalGroup(1, [arc_1], name=\"Neuman\")\n",
    "neumann_tag = gmsh.model.addPhysicalGroup(1, [arc_2, arc_3, arc_4], name=\"Dirichlet\")\n",
    "\n",
    "physical_group_curves_tag = gmsh.model.addPhysicalGroup(1, [arc_1, arc_2, arc_3, arc_4], name=\"Boundary curves\")\n",
    "physical_group_surface_tag = gmsh.model.addPhysicalGroup(2, [plane], name=\"Surface\")\n",
    "\n",
    "\n",
    "point_tag_1 = gmsh.model.geo.addPoint(np.sqrt(1/2), np.sqrt(1/2), 0, 1)\n",
    "point_tag_2 = gmsh.model.geo.addPoint(-np.sqrt(1/2), -np.sqrt(1/2), 0, 1)\n",
    "\n",
    "gmsh.model.geo.synchronize()\n",
    "\n",
    "\n",
    "gmsh.model.mesh.generate(2)\n",
    "gmsh.fltk.run()"
   ]
  },
  {
   "cell_type": "code",
   "execution_count": 11,
   "id": "2633f299",
   "metadata": {},
   "outputs": [],
   "source": [
    "edge_entities = gmsh.model.getEntitiesForPhysicalGroup(dim=1, tag=neumann_tag)\n",
    "\n",
    "edge_elemTags, edge_nodeTags = [], []\n",
    "for e in edge_entities:\n",
    "    _, elemTags, nodeTags = gmsh.model.mesh.getElements(0, e)\n",
    "    edge_elemTags.extend(np.hstack(elemTags))\n",
    "    edge_nodeTags.extend(np.hstack(nodeTags))"
   ]
  },
  {
   "cell_type": "code",
   "execution_count": 12,
   "metadata": {},
   "outputs": [
    {
     "data": {
      "text/plain": [
       "(3, 3)"
      ]
     },
     "execution_count": 12,
     "metadata": {},
     "output_type": "execute_result"
    }
   ],
   "source": [
    "len(edge_nodeTags), len(edge_elemTags)"
   ]
  },
  {
   "cell_type": "markdown",
   "id": "8142e2fd",
   "metadata": {},
   "source": [
    "# Triangles"
   ]
  },
  {
   "cell_type": "code",
   "execution_count": 166,
   "id": "d830b13b",
   "metadata": {},
   "outputs": [],
   "source": [
    "boundary_node_tags, _ = gmsh.model.mesh.getNodesForPhysicalGroup(1, physical_group_curves_tag)\n",
    "surface_node_tags, points = gmsh.model.mesh.getNodesForPhysicalGroup(2, physical_group_surface_tag)\n",
    "points = points.reshape(-1, 3)[:, :-1]\n",
    "boundary_node_tags = boundary_node_tags - 1"
   ]
  },
  {
   "cell_type": "code",
   "execution_count": 167,
   "id": "83ecb291",
   "metadata": {},
   "outputs": [],
   "source": [
    "tri_tags, tri_nodes = gmsh.model.mesh.getElementsByType(2)"
   ]
  },
  {
   "cell_type": "code",
   "execution_count": 168,
   "id": "cbc2ca82",
   "metadata": {},
   "outputs": [],
   "source": [
    "# get triangles to edges\n",
    "edge_nodes = gmsh.model.mesh.getElementEdgeNodes(2)\n",
    "# (nTriangles * nEdgesPerTriangle * nNodesPerEdge)\n",
    "# edge_nodes.reshape(-1, 3, 2)"
   ]
  },
  {
   "cell_type": "code",
   "execution_count": 169,
   "id": "64102e33",
   "metadata": {},
   "outputs": [
    {
     "data": {
      "text/plain": [
       "array([35, 94, 61, 94, 93, 61, 88, 29, 15, 88, 39, 88, 37, 85, 84, 27, 28,\n",
       "       84, 83, 11, 30, 82, 17, 86, 26, 82, 81,  4, 23, 81, 80,  1, 79, 35,\n",
       "       25, 79,  5, 80, 84, 38, 89, 56, 41, 42, 91, 65, 70, 91, 32, 85, 13,\n",
       "       87, 56, 78, 63, 75, 41,  6, 91, 83, 83, 40, 72, 71, 77, 61, 75, 91,\n",
       "       63, 71, 73, 59, 43, 33, 33, 42, 64, 72, 43, 42, 94, 79, 69, 60, 54,\n",
       "       77, 45, 43, 79, 24, 65, 75, 45, 46, 46, 47, 47, 44, 46, 48, 50, 48,\n",
       "       14, 87, 85, 21, 49, 50, 49, 52, 68, 54, 54, 52, 52, 53, 57, 56, 56,\n",
       "       53, 39, 16, 20, 78,  3, 39, 38, 28, 30, 26, 21, 32, 70, 65, 40, 12,\n",
       "       24, 35, 82, 25, 33,  5,  6, 33, 13, 40, 55, 68, 64, 66, 51, 66, 50,\n",
       "       51, 52, 50, 27, 30, 74, 10, 30, 84, 86,  3, 31,  9,  4, 37, 89, 18,\n",
       "       15, 16, 35, 23, 64, 67, 40, 87,  7,  8, 55, 53,  9, 74, 91, 40, 71,\n",
       "       64,  8,  9,  6,  7, 37, 22,  2, 11, 23, 24, 68, 37, 34, 17, 54, 61,\n",
       "       16,  3, 19, 89, 71, 75, 37, 81, 36, 70, 48, 62, 73, 70,  8, 31, 20,\n",
       "       21, 15, 29, 74, 31, 59, 65, 87, 71, 60, 45, 77, 68, 86, 34, 69, 45,\n",
       "       67, 72, 47, 59, 58, 76, 61, 69, 50, 66, 32, 55, 89, 34, 29, 72, 57,\n",
       "       67, 47, 58, 76, 73, 67, 86, 74,  2, 80, 33, 11, 12, 85, 92, 11, 36,\n",
       "       28,  1, 62, 51, 76,  7, 89, 57, 81, 77,  2, 36, 46, 44, 31, 76, 75,\n",
       "       87, 21, 22, 73, 58, 22, 85, 79, 82, 62, 63,  4, 23, 62, 59,  9, 10,\n",
       "       18, 19, 25, 26, 83, 36,  3, 17, 12, 83, 26, 27, 17, 18, 36, 91, 19,\n",
       "       78, 14, 15,  5,  6, 19, 20, 22,  4, 68, 81, 45, 44, 31, 73, 13, 14,\n",
       "       24, 25, 34, 57, 55, 56, 92, 37, 88, 16, 63, 64, 49, 48, 68, 52, 56,\n",
       "       32, 78, 89, 69, 84, 34, 67, 84, 90,  8, 76, 12, 13, 27, 28, 92, 55,\n",
       "       49, 54, 46, 49, 90, 69, 69, 30, 67, 39, 29, 14, 82, 93, 80, 43, 45,\n",
       "       90, 41,  7, 51, 48, 76, 41,  1,  5, 48, 47, 70, 74, 77, 94, 34, 18,\n",
       "       52, 55, 29, 71, 35, 77, 75, 40, 10,  2, 81, 35, 93, 30, 61, 60, 43,\n",
       "       38, 33, 41, 38, 80, 58, 59, 32, 20, 57, 53, 32, 92, 58, 42, 43, 90,\n",
       "       53, 50, 90, 38, 36, 74, 57, 66, 87, 29, 42, 76, 74, 73, 66, 67, 43,\n",
       "       44, 72, 39, 93, 94, 94, 82, 39, 86, 68, 92, 44, 42, 93, 69,  1, 38,\n",
       "       54, 60, 58, 44, 60, 49, 60, 46, 65, 62, 63, 51, 78, 32, 59, 70, 47,\n",
       "       62, 64, 51, 88, 72, 66, 53, 65, 63], dtype=uint64)"
      ]
     },
     "execution_count": 169,
     "metadata": {},
     "output_type": "execute_result"
    }
   ],
   "source": [
    "gmsh.model.mesh.createEdges()  # forces Gmsh to assign unique tags to edges\n",
    "edge_tags, edge_node_pairs = gmsh.model.mesh.getAllEdges() \n",
    "edge_node_pairs"
   ]
  },
  {
   "cell_type": "code",
   "execution_count": 170,
   "id": "7db59f46",
   "metadata": {},
   "outputs": [
    {
     "data": {
      "text/plain": [
       "(2, array([31,  9, 74], dtype=uint64), 2, 1)"
      ]
     },
     "execution_count": 170,
     "metadata": {},
     "output_type": "execute_result"
    }
   ],
   "source": [
    "element_types, element_tags, element_node_tags = gmsh.model.mesh.getElements()\n",
    "\n",
    "gmsh.model.mesh.getElement(element_tags[1][10])"
   ]
  },
  {
   "cell_type": "code",
   "execution_count": 171,
   "id": "33c2ba12",
   "metadata": {},
   "outputs": [],
   "source": [
    "element_types, element_tags, element_node_tags = gmsh.model.mesh.getElements()\n",
    "triangles = [nodes for elem_type, nodes in zip(element_types, element_node_tags) if elem_type == 2][0]\n",
    "triangles = triangles.reshape(-1, 3)\n",
    "triangles = triangles - 1\n",
    "\n",
    "def orient_batch(arg):\n",
    "    indices = np.argsort(arg, axis=-1)\n",
    "    res = np.take_along_axis(arg, indices, axis=-1)\n",
    "\n",
    "    return res\n",
    "\n",
    "triangles = orient_batch(triangles)"
   ]
  },
  {
   "cell_type": "code",
   "execution_count": 172,
   "id": "30ed611f",
   "metadata": {},
   "outputs": [],
   "source": [
    "vertex_marker_is_boundary = np.zeros(surface_node_tags.shape[0])\n",
    "vertex_marker_is_boundary[boundary_node_tags] = 1"
   ]
  },
  {
   "cell_type": "code",
   "execution_count": 173,
   "id": "b2e1dae9",
   "metadata": {},
   "outputs": [],
   "source": [
    "all_edges = triangles[:, [[1, 2], [0, 2], [0, 1]]].reshape(-1, 2)\n",
    "all_edges = np.sort(all_edges, axis=-1)\n",
    "all_edges, _, indices, counts = np.unique(all_edges, axis=0, return_counts=True, return_inverse=True, return_index=True)\n",
    "edge_marker_is_boundary = (counts == 1).astype(int)[:, None]"
   ]
  },
  {
   "cell_type": "markdown",
   "id": "a951e3d3",
   "metadata": {},
   "source": [
    "## Triangles to edges"
   ]
  },
  {
   "cell_type": "code",
   "execution_count": 174,
   "id": "997e8a21",
   "metadata": {},
   "outputs": [],
   "source": [
    "triangles_to_edges = indices.reshape(-1, 3)"
   ]
  },
  {
   "cell_type": "markdown",
   "id": "f09f3c5b",
   "metadata": {},
   "source": [
    "## Vertices to edges"
   ]
  },
  {
   "cell_type": "code",
   "execution_count": 175,
   "id": "4b6d772d",
   "metadata": {},
   "outputs": [],
   "source": [
    "vertices_to_edges = []\n",
    "\n",
    "for test_idx in range(points.shape[0]):\n",
    "    vertices_to_edges.append([])\n",
    "\n",
    "for e_idx, edge in enumerate(all_edges):\n",
    "    for pidx in edge:\n",
    "        vertices_to_edges[pidx].append(e_idx)"
   ]
  },
  {
   "cell_type": "markdown",
   "id": "ba7d021f",
   "metadata": {},
   "source": [
    "## Edges to edges"
   ]
  },
  {
   "cell_type": "code",
   "execution_count": 176,
   "id": "db433d5a",
   "metadata": {},
   "outputs": [],
   "source": [
    "edges_to_edges = []\n",
    "\n",
    "for test_idx in range(all_edges.shape[0]):\n",
    "    edges_to_edges.append([])\n",
    "\n",
    "for e_idx, edge in enumerate(all_edges):\n",
    "    \n",
    "    edges_to_edges[e_idx].extend(vertices_to_edges[edge[0]])\n",
    "    edges_to_edges[e_idx].extend(vertices_to_edges[edge[1]])\n",
    "    edges_to_edges[e_idx] = list(set(edges_to_edges[e_idx]))\n",
    "    edges_to_edges[e_idx].remove(e_idx)"
   ]
  },
  {
   "cell_type": "markdown",
   "id": "568290e5",
   "metadata": {},
   "source": [
    "## Edges to triangles"
   ]
  },
  {
   "cell_type": "code",
   "execution_count": 177,
   "id": "38a9565d",
   "metadata": {},
   "outputs": [],
   "source": [
    "edges_to_triangles = []\n",
    "\n",
    "for test_idx in range(all_edges.shape[0]):\n",
    "    edges_to_triangles.append([])\n",
    "\n",
    "for t_idx, edge in enumerate(triangles_to_edges):\n",
    "    \n",
    "    for e_idx in edge:\n",
    "        edges_to_triangles[e_idx].append(t_idx)\n",
    "\n",
    "for t_idx, v in enumerate(edges_to_triangles):\n",
    "    if len(v) == 1:\n",
    "        edges_to_triangles[t_idx].append(-1)\n",
    "\n",
    "edges_to_triangles = np.array(edges_to_triangles)"
   ]
  },
  {
   "cell_type": "markdown",
   "id": "af967789",
   "metadata": {},
   "source": [
    "# Vertices to triangles"
   ]
  },
  {
   "cell_type": "code",
   "execution_count": 178,
   "id": "9e8f5003",
   "metadata": {},
   "outputs": [],
   "source": [
    "vertices_to_triangles = []\n",
    "\n",
    "for i in range(points.shape[0]):\n",
    "    vertices_to_triangles.append([])\n",
    "\n",
    "for cidx, cell in enumerate(triangles):\n",
    "    for pidx in cell:\n",
    "        vertices_to_triangles[pidx].append(cidx)"
   ]
  },
  {
   "cell_type": "code",
   "execution_count": 179,
   "id": "c9e1b80a",
   "metadata": {},
   "outputs": [],
   "source": [
    "def get_adjaset_triangles(edge: int) -> np.ndarray:\n",
    "    \"\"\"Returns the idx of the triangles that share the edge.\n",
    "\n",
    "    Args:\n",
    "        edge (int): edge index\n",
    "\n",
    "    Returns:\n",
    "        np.ndarray: triangle indices\n",
    "    \"\"\"\n",
    "    triangle_idx = edges_to_triangles[edge]\n",
    "\n",
    "    if triangle_idx[1] == -1:\n",
    "        triangle_idx = triangle_idx[:1]\n",
    "\n",
    "    triangle_idx.sort(axis=-1)\n",
    "\n",
    "    return triangle_idx"
   ]
  },
  {
   "cell_type": "code",
   "execution_count": 180,
   "id": "7794c76e-c6a7-4bd4-8a99-a66f4a712d02",
   "metadata": {},
   "outputs": [],
   "source": [
    "x, y = sympy.symbols(\"x y\")"
   ]
  },
  {
   "cell_type": "code",
   "execution_count": 181,
   "id": "11f78ac7-0cac-4255-9db2-d685fb9c10d3",
   "metadata": {},
   "outputs": [],
   "source": [
    "F = sympy.Float(0)\n",
    "right_vals = np.zeros((points.shape[0]))\n",
    "right_vals[:] = sympy.lambdify((x, y), F)(*points.T)\n",
    "\n",
    "D = x**2\n",
    "bc_dirichlet = np.zeros((points.shape[0]))\n",
    "bc_dirichlet[:] = sympy.lambdify((x, y), D)(*points.T)\n",
    "\n",
    "N = sympy.Float(0)\n",
    "bc_neumann = np.zeros((points.shape[0]))\n",
    "bc_neumann[:] = sympy.lambdify((x, y), N)(*points.T)"
   ]
  },
  {
   "cell_type": "code",
   "execution_count": 204,
   "id": "a20516c7",
   "metadata": {},
   "outputs": [
    {
     "name": "stderr",
     "output_type": "stream",
     "text": [
      "100%|██████████| 158/158 [00:00<00:00, 15281.56it/s]\n",
      "100%|██████████| 251/251 [00:00<00:00, 1197.31it/s]\n"
     ]
    }
   ],
   "source": [
    "num_unknowns = triangles.shape[0] * 3\n",
    "stiffness_matrix = lil_matrix((num_unknowns, num_unknowns), dtype=np.float64)\n",
    "b = np.zeros((num_unknowns), dtype=np.float64)\n",
    "\n",
    "for t_idx, element in enumerate(tqdm(triangles)):\n",
    "    x1, x2, x3 = points[element[0], 0], points[element[1], 0], points[element[2], 0]\n",
    "    y1, y2, y3 = points[element[0], 1], points[element[1], 1], points[element[2], 1]\n",
    "\n",
    "    FF = lagrange_linear_poisson_matrix(x1, y1, x2, y2, x3, y3)\n",
    "    ff = lagrange_linear_poisson_right_values(x1, y1, x2, y2, x3, y3, right_vals[element[0]], right_vals[element[1]], right_vals[element[2]])\n",
    "\n",
    "    for test_idx in range(3):\n",
    "        for trial_idx in range(3): \n",
    "            stiffness_matrix[3*t_idx + trial_idx, 3*t_idx + test_idx] += FF[trial_idx, test_idx]\n",
    "        b[3*t_idx + test_idx] -= ff[test_idx, 0]\n",
    "\n",
    "\n",
    "P = 20\n",
    "for e_idx, _ in enumerate(tqdm(all_edges)):\n",
    "\n",
    "    nt_idx = get_adjaset_triangles(e_idx)\n",
    "    triangles_points = triangles[nt_idx]\n",
    "    triangle_point_coords = points[triangles_points]    \n",
    "    re_idx = np.where(triangles_to_edges[nt_idx] == e_idx)[-1]\n",
    "    \n",
    "    if edge_marker_is_boundary[e_idx] == 0:\n",
    "        cons = consistency_lambdified(*triangle_point_coords.flatten())\n",
    "        symm = symmetricity_lambdified(*triangle_point_coords.flatten())\n",
    "        penalty = penalty_lambdified(*triangle_point_coords.flatten(), P)\n",
    "        \n",
    "        for test_idx in range(3):\n",
    "            for trial_idx in range(3):\n",
    "                for p_idx in range(2):\n",
    "                    for n_idx in range(2):\n",
    "                        stiffness_matrix[3*nt_idx[p_idx] + trial_idx, 3*nt_idx[n_idx] + test_idx] -= cons[p_idx][n_idx][re_idx[0]][re_idx[1]][trial_idx][test_idx]\n",
    "                        stiffness_matrix[3*nt_idx[p_idx] + trial_idx, 3*nt_idx[n_idx] + test_idx] -= symm[p_idx][n_idx][re_idx[0]][re_idx[1]][trial_idx][test_idx]\n",
    "                        stiffness_matrix[3*nt_idx[p_idx] + trial_idx, 3*nt_idx[n_idx] + test_idx] += penalty[p_idx][n_idx][re_idx[0]][re_idx[1]][trial_idx][test_idx]\n",
    "    else:\n",
    "                        \n",
    "        cons_b = consistency_boundary_lambdified(*triangle_point_coords.flatten())\n",
    "        symm_b = symmetricity_boundary_lambdified(*triangle_point_coords.flatten())\n",
    "        penalty_b = penalty_boundary_lambdified(*triangle_point_coords.flatten(), P)\n",
    "        bc_d = bc_dirichlet_lambdified(*triangle_point_coords.flatten(), P)\n",
    "        bc_n = bc_neumann_lambdified(*triangle_point_coords.flatten())\n",
    "    \n",
    "\n",
    "        # SIP\n",
    "        for test_idx in range(3):     \n",
    "            for trial_idx in range(3):                    \n",
    "                stiffness_matrix[3*nt_idx[0] + trial_idx, 3*nt_idx[0] + test_idx] -=      cons_b[re_idx[0]][trial_idx][test_idx] \n",
    "                stiffness_matrix[3*nt_idx[0] + trial_idx, 3*nt_idx[0] + test_idx] -=      symm_b[re_idx[0]][trial_idx][test_idx] \n",
    "                stiffness_matrix[3*nt_idx[0] + trial_idx, 3*nt_idx[0] + test_idx] += penalty_b[re_idx[0]][trial_idx][test_idx]\n",
    "                \n",
    "\n",
    "        for test_idx in range(3):\n",
    "            # Dirichlet\n",
    "            for trial_idx in range(3):                                                    \n",
    "                b[3*nt_idx[0] + trial_idx] += bc_dirichlet[triangles_points[0]][test_idx] * bc_d[re_idx[0]][test_idx][trial_idx]\n"
   ]
  },
  {
   "cell_type": "code",
   "execution_count": 205,
   "id": "8e780f0c",
   "metadata": {},
   "outputs": [],
   "source": [
    "coefs = pypardiso.spsolve(stiffness_matrix.tocsr(), b).reshape(-1, 3)"
   ]
  },
  {
   "cell_type": "code",
   "execution_count": 206,
   "id": "076700a8",
   "metadata": {},
   "outputs": [],
   "source": [
    "param = np.linspace(0, 1, 3)\n",
    "gridx, gridy = np.meshgrid(param, param, indexing=\"ij\")\n",
    "\n",
    "mask = (gridy <= 1 - gridx)\n",
    "\n",
    "gridx = gridx[mask]\n",
    "gridy = gridy[mask]"
   ]
  },
  {
   "cell_type": "code",
   "execution_count": 207,
   "id": "8e659ebb",
   "metadata": {},
   "outputs": [],
   "source": [
    "mapping_function_lambdified = dill.load(\n",
    "    open(\"../calculations/lagrange_linear_mapping_x\", \"rb\")\n",
    ")\n",
    "interpolation_function_lambdified = dill.load(\n",
    "    open(\"../calculations/lagrange_linear_interpolation_x\", \"rb\")\n",
    ")"
   ]
  },
  {
   "cell_type": "code",
   "execution_count": 208,
   "id": "81ee76e7",
   "metadata": {},
   "outputs": [],
   "source": [
    "global_x, global_y, global_z = [], [], []\n",
    "\n",
    "for t_idx, element in enumerate(triangles):\n",
    "    \n",
    "    x0, x1, x2 = points[element[0], 0], points[element[1], 0], points[element[2], 0]\n",
    "    y0, y1, y2 = points[element[0], 1], points[element[1], 1], points[element[2], 1]\n",
    "    \n",
    "    physical_x, physical_y = mapping_function_lambdified(gridx, gridy, x0, y0, x1, y1, x2, y2).squeeze()\n",
    "    \n",
    "    physical_z = interpolation_function_lambdified(\n",
    "                                        gridx, gridy,\n",
    "                                        coefs[t_idx, 0], \n",
    "                                        coefs[t_idx, 1], \n",
    "                                        coefs[t_idx, 2],\n",
    "                                        ).squeeze()\n",
    "    \n",
    "    global_x.append(physical_x)\n",
    "    global_y.append(physical_y)\n",
    "    global_z.append(physical_z)\n",
    "    \n",
    "global_x = np.concatenate(global_x)\n",
    "global_y = np.concatenate(global_y)\n",
    "global_z = np.concatenate(global_z)"
   ]
  },
  {
   "cell_type": "code",
   "execution_count": 209,
   "id": "114315a1",
   "metadata": {},
   "outputs": [
    {
     "data": {
      "application/vnd.plotly.v1+json": {
       "config": {
        "plotlyServerURL": "https://plot.ly"
       },
       "data": [
        {
         "type": "mesh3d",
         "x": {
          "bdata": "7MYc+yko6L+QHIEDCVbpvzVy5Qvog+q/x6j8kyri5b9s/mCcCRDnv6KK3CwrnOO/",
          "dtype": "f8"
         },
         "y": {
          "bdata": "Am+vet3n0L+qmvWAqTbGv6KuGBkwO7W/HdMJBxvFwr8NP4JKJrCsv6tBpsXY052/",
          "dtype": "f8"
         },
         "z": {
          "bdata": "GdejwTQE6D/GjCDhR2rpP3RCnQBb0Oo/xC4EPYsB5z9y5IBcnmfoP3CGZLjh/uU/",
          "dtype": "f8"
         }
        },
        {
         "type": "mesh3d",
         "x": {
          "bdata": "7MYc+yko6L/HqPyTKuLlv6KK3CwrnOO/rCqOCQE05L+IDG6iAe7hv22O/xfYP+C/",
          "dtype": "f8"
         },
         "y": {
          "bdata": "Am+vet3n0L8d0wkHG8XCv6tBpsXY052/0ALJljYp0L+5+jw/zUfBvz0txWUf1c6/",
          "dtype": "f8"
         },
         "z": {
          "bdata": "pRn6UVz/5z+37STgVQDnP8nBT25PAeY/hJU03kaf5T+WaV9sQKDkP2MRb2oxP+M/",
          "dtype": "f8"
         }
        },
        {
         "type": "mesh3d",
         "x": {
          "bdata": "udqAOrKbmr+eHUXOBVShP0xU5Vzy+rc/UUeSwL8dtD9nhiqbV7fBP6hi4gc2ccc/",
          "dtype": "f8"
         },
         "y": {
          "bdata": "3a9w4ZSY4r+aIiwBydXlv1iV5yD9Eum/iL2uI1ae4r9GMGpDitvlvzPL7GUXpOK/",
          "dtype": "f8"
         },
         "z": {
          "bdata": "Qji3SOss1T+kCSFmjfXQPwq2FQdffMk/VKaa08em1T+2dwTxaW/RP2cUfl6kINY/",
          "dtype": "f8"
         }
        },
        {
         "type": "mesh3d",
         "x": {
          "bdata": "AAAAAAAAAADHVH4wJfC3P8dUfjAl8Mc/oqoMHJTspr/s/u9EtvOoP6KqDByU7La/",
          "dtype": "f8"
         },
         "y": {
          "bdata": "AAAAAAAA8D+MO9E3zl/sPxh3om+cv+g/zOOmM1G37D9YH3hrHxfpP5jHTWeibuk/",
          "dtype": "f8"
         },
         "z": {
          "bdata": "lRjPRk4icD/GZeAswWm8PwHtqbqu6Ms/X6oQ/A5VuD9OD0KiVd7JP5ox2on808c/",
          "dtype": "f8"
         }
        },
        {
         "type": "mesh3d",
         "x": {
          "bdata": "GxFddMME6T9m+WqBLe3kP7LheI6X1eA/yvsNKzJ85j8V5Bs4nGTiP3jmvuGg8+M/",
          "dtype": "f8"
         },
         "y": {
          "bdata": "cZlf46Dz4z+3moPEgEfiP/2bp6Vgm+A/gHyELDJ85j/GfagNEtDkP49fqXXDBOk/",
          "dtype": "f8"
         },
         "z": {
          "bdata": "WUflkOV54z9xaf1nL8HhP4mLFT95COA/zWljtHj13z/9rZNiDITcP+hE/EYm99g/",
          "dtype": "f8"
         }
        },
        {
         "type": "mesh3d",
         "x": {
          "bdata": "PYNZAtzZ3r/6DkDTE8Pgv1VcU6U5GeK/fFFIJtn92b8y7G7KJKrcv7ofN0rWIdW/",
          "dtype": "f8"
         },
         "y": {
          "bdata": "5vAH8z9l1z+/MtS6XRPeP0w6UMG9YOI/vBshhAsP3D/KrvallF7hP0kjnYprXOA/",
          "dtype": "f8"
         },
         "z": {
          "bdata": "slHM7JWK4T+c19rI16jgPwy70kkzjt8/7ndResIW3z/Cg24yRlPdP3dMChtZGNs/",
          "dtype": "f8"
         }
        },
        {
         "type": "mesh3d",
         "x": {
          "bdata": "nJLPNI/1uL8Aykf9mlNfv0xU5Vzy+rc/Sslvw3ucr7+eHUXOBVShP7nagDqym5q/",
          "dtype": "f8"
         },
         "y": {
          "bdata": "1E8hk1aV6b+WcgTaKVTpv1iV5yD9Eum/2P9IuvUW5r+aIiwBydXlv92vcOGUmOK/",
          "dtype": "f8"
         },
         "z": {
          "bdata": "0vynDL0SyD+plypWxrnIP4AyrZ/PYMk/yN31lQWi0D80K7c6ivXQPyi9l6WsOtU/",
          "dtype": "f8"
         }
        },
        {
         "type": "mesh3d",
         "x": {
          "bdata": "c4Rltxs42r+OHgaBRzXfv1VcU6U5GeK/FlLOAPms178y7G7KJKrcv7ofN0rWIdW/",
          "dtype": "f8"
         },
         "y": {
          "bdata": "PP5yRatI5j9EnGGDtFTkP0w6UMG9YOI/whAIaItS4z/KrvallF7hP0kjnYprXOA/",
          "dtype": "f8"
         },
         "z": {
          "bdata": "ji0fxbDy1T++dEUvF8HaP++7a5l9j98/jGhaXWqI2D+8r4DH0FbdP4qjlfUjHts/",
          "dtype": "f8"
         }
        },
        {
         "type": "mesh3d",
         "x": {
          "bdata": "HUN/qbzU7L/y9P7Pv/vov8imfvbCIuW/HCruDsDs6r/y2201wxPnvxsRXXTDBOm/",
          "dtype": "f8"
         },
         "y": {
          "bdata": "jLatTsDE279ffdxz66LbvzJEC5kWgdu/XDpbhQDr4L/FnfIXFtrgv3GZX+Og8+O/",
          "dtype": "f8"
         },
         "z": {
          "bdata": "IP88u//s6T+oeooBK/jmPy/210dWA+Q/IM2MIjPA5j+oSNpoXsvjPyGb3Ilmk+M/",
          "dtype": "f8"
         }
        },
        {
         "type": "mesh3d",
         "x": {
          "bdata": "PuBSGy5S1T/RUSKcrn7bP7LheI6X1eA/w6t0g9It0z9WHUQEU1rZP0h3lut2CdE/",
          "dtype": "f8"
         },
         "y": {
          "bdata": "jhvMrO0Z1z/EqQ18VyjcP/2bp6Vgm+A/vOeKWpl33T/5OuaUAUPhP/XZJISi6uE/",
          "dtype": "f8"
         },
         "z": {
          "bdata": "Z06nTDN53z+G3vZtX9vfP1M3o8fFHuA/fAcajOjl2z+cl2mtFEjcP5LAjMudUtg/",
          "dtype": "f8"
         }
        },
        {
         "type": "mesh3d",
         "x": {
          "bdata": "L/EZTMDE2z/JjSxyad7TP8dUfjAl8Mc/PEOFEy492z/X35c511bTP0qV8Nqbtdo/",
          "dtype": "f8"
         },
         "y": {
          "bdata": "ayAeqrzU7D/CS+CMLMrqPxh3om+cv+g/kJjuAqtu6T/nw7DlGmTnP7YQv1uZCOY/",
          "dtype": "f8"
         },
         "z": {
          "bdata": "Vi5JR/70xz8tCnk8m9PJPwTmqDE4sss/n706giQX0T+Kq9L8cgbSPxPk0ODJM9Y/",
          "dtype": "f8"
         }
        },
        {
         "type": "mesh3d",
         "x": {
          "bdata": "AAAAAAAAAADHVH4wJfC3P8dUfjAl8Mc/AyJ94ZB7vD9lu/0I2zXKPwMifeGQe8w/",
          "dtype": "f8"
         },
         "y": {
          "bdata": "AAAAAAAA8D+MO9E3zl/sPxh3om+cv+g/5I63Ak6Z7z9wyog6HPnrP8kdbwWcMu8/",
          "dtype": "f8"
         },
         "z": {
          "bdata": "KLipSAXqZj8OZMij2uq7Py29pY4yj8s/cC1IooHomz/UkApx1RbBP+6RvU3heao/",
          "dtype": "f8"
         }
        },
        {
         "type": "mesh3d",
         "x": {
          "bdata": "eOa+4aDz4z8V5Bs4nGTiP7LheI6X1eA/jpibZzen4D9XLPF7ZTDeP0qV8Nqbtdo/",
          "dtype": "f8"
         },
         "y": {
          "bdata": "j1+pdcME6T/GfagNEtDkP/2bp6Vgm+A/Iji0aK6G5z9aVrMA/VHjP7YQv1uZCOY/",
          "dtype": "f8"
         },
         "z": {
          "bdata": "0+3ytRjq2D/IftrWE4XcP98H4XsHEOA/+Ta1786d1z/ux5wQyjjbPx+AdymFUdY/",
          "dtype": "f8"
         }
        },
        {
         "type": "mesh3d",
         "x": {
          "bdata": "SpXw2pu12j9XLPF7ZTDeP7LheI6X1eA/SYZDY4nf1T9WHUQEU1rZP0h3lut2CdE/",
          "dtype": "f8"
         },
         "y": {
          "bdata": "thC/W5kI5j9aVrMA/VHjP/2bp6Vgm+A/VvXx75354z/5OuaUAUPhP/XZJISi6uE/",
          "dtype": "f8"
         },
         "z": {
          "bdata": "gCjtUUNV1j9u6vJ1cjnbPy5W/MzQDuA/B30x4S9B1z/1PjcFXyXcP47RdXAcLdg/",
          "dtype": "f8"
         }
        },
        {
         "type": "mesh3d",
         "x": {
          "bdata": "ecbFz6uF2b+CNWi/BO/av4ykCq9dWNy/nbf2+/NO1L+mJpnrTLjVv4FRT1B4MM6/",
          "dtype": "f8"
         },
         "y": {
          "bdata": "4FIJbSY15b+CcN/NSJbhv0Yca13W7tu/Vrt/RQZg4r/vsatMUYLdv5hH7DvMFd+/",
          "dtype": "f8"
         },
         "z": {
          "bdata": "0w9LshEt1z/yx/az66LbPwhA0dpiDOA/oKIUqkek2D++WsCrIRrdP2013qF9G9o/",
          "dtype": "f8"
         }
        },
        {
         "type": "mesh3d",
         "x": {
          "bdata": "PGB3nsni4D8Y6kCfyFfiP/RzCqDHzOM/5xR6rgZ05D/DnkOvBenlP5LJfL5DBeg/",
          "dtype": "f8"
         },
         "y": {
          "bdata": "4D4KMqRd0r+ei86bPq7Kv32ZiNM0ocC/qPI2w/q50b8u8ye+62bJv3CmY1RRFtG/",
          "dtype": "f8"
         },
         "z": {
          "bdata": "45qKLgAt4z/sMzuclIjkP/XM6wkp5OU/29uvzK1+5T/kdGA6QtrmP9Mc1Wpb0Oc/",
          "dtype": "f8"
         }
        },
        {
         "type": "mesh3d",
         "x": {
          "bdata": "2dJEzsbj5T82zmBGhfTmP5LJfL5DBeg/ihleNkhj4z/nFHquBnTkPzxgd57J4uA/",
          "dtype": "f8"
         },
         "y": {
          "bdata": "SWqBQoZh3L9ciHLL67vWv3CmY1RRFtG/lNRFOpVf17+o8jbD+rnRv+A+CjKkXdK/",
          "dtype": "f8"
         },
         "z": {
          "bdata": "txhGKWNZ5D8qElajhhTmP50LZh2qz+c/kgS7GNrC4z8F/sqS/X3lP23wLwhRLOM/",
          "dtype": "f8"
         }
        },
        {
         "type": "mesh3d",
         "x": {
          "bdata": "Ztw6Dpec6b9OJxCNPxDqvzVy5Qvog+q/hLOLHWGc5r9s/mCcCRDnv6KK3CwrnOO/",
          "dtype": "f8"
         },
         "y": {
          "bdata": "qXMiZ53juT8cFCc4taGCP6KuGBkwO7W/PuO4Naduoj8NP4JKJrCsv6tBpsXY052/",
          "dtype": "f8"
         },
         "z": {
          "bdata": "PisY0df86T+gd2rEEGjqPwHEvLdJ0+o/LttIMm395z+QJ5slpmjoPx+LeZMC/uU/",
          "dtype": "f8"
         }
        },
        {
         "type": "mesh3d",
         "x": {
          "bdata": "L/EZTMDE2z/JjSxyad7TP8dUfjAl8Mc/GEFsXkQB1T9lu/0I2zXKPwMifeGQe8w/",
          "dtype": "f8"
         },
         "y": {
          "bdata": "ayAeqrzU7D/CS+CMLMrqPxh3om+cv+g/Gp/GV6wD7j9wyog6HPnrP8kdbwWcMu8/",
          "dtype": "f8"
         },
         "z": {
          "bdata": "RPXZFSHtxz9esc7IHtnJP3ltw3scxcs/H96RMKOKvj8qqz1LTzHBP2uj32oIdqo/",
          "dtype": "f8"
         }
        },
        {
         "type": "mesh3d",
         "x": {
          "bdata": "GxFddMME6T9m+WqBLe3kP7LheI6X1eA/vCwPVtvZ5z8IFR1jRcLjP15IwTfzruY/",
          "dtype": "f8"
         },
         "y": {
          "bdata": "cZlf46Dz4z+3moPEgEfiP/2bp6Vgm+A/TD9zacIH4T8jgS6VRLfeP0zKDd/HN9w/",
          "dtype": "f8"
         },
         "z": {
          "bdata": "EIwmXxaN4z9aeZfljdnhP6VmCGwFJuA/b0M/z0A/5D+6MLBVuIviP876Vz9r8eQ/",
          "dtype": "f8"
         }
        },
        {
         "type": "mesh3d",
         "x": {
          "bdata": "oqoMHJTstr/s/u9EtvOoP8dUfjAl8Mc/dveRfoQPoL9drjv/rF67P7LM6nU+dJs/",
          "dtype": "f8"
         },
         "y": {
          "bdata": "mMdNZ6Ju6T9YH3hrHxfpPxh3om+cv+g/+TxN4Pl75j+5lHfkdiTmP1qyTFlRieM/",
          "dtype": "f8"
         },
         "z": {
          "bdata": "EQPkvkTixz9eo5N0kOTJP6pDQyrc5ss/zkNO4BH8zz8N8v7KLv/QP0VC3IDvCtQ/",
          "dtype": "f8"
         }
        },
        {
         "type": "mesh3d",
         "x": {
          "bdata": "HUN/qbzU7L/y9P7Pv/vov8imfvbCIuW/BAVOUnN+6r/ats14dqXmv+zGHPspKOi/",
          "dtype": "f8"
         },
         "y": {
          "bdata": "jLatTsDE279ffdxz66LbvzJEC5kWgdu/x5Ku5E5W1r+aWd0JejTWvwJvr3rd59C/",
          "dtype": "f8"
         },
         "z": {
          "bdata": "u0Mv46Pv6T/44q/DKQXnPzaCMKSvGuQ/oHA+QDz76D/eD78gwhDmP4adTZ3UBug/",
          "dtype": "f8"
         }
        },
        {
         "type": "mesh3d",
         "x": {
          "bdata": "GxFddMME6b/y2201wxPnv8imfvbCIuW/+n5rGdKz5b/RSXza0cLjv9rseb7gYuK/",
          "dtype": "f8"
         },
         "y": {
          "bdata": "cZlf46Dz47/FnfIXFtrgvzJEC5kWgdu/MTAm7yBA47+FNLkjlibgv/HG7PqgjOK/",
          "dtype": "f8"
         },
         "z": {
          "bdata": "WIhuP6SP4z8dRF+LQsnjP+L/T9fgAuQ/zu9/3zjA4T+Sq3Ar1/nhP4auIv+a4d8/",
          "dtype": "f8"
         }
        },
        {
         "type": "mesh3d",
         "x": {
          "bdata": "VxslBifp0T9qcF6d4+fHP0xU5Vzy+rc/q0wWCsKhzT9nhiqbV7fBP6hi4gc2ccc/",
          "dtype": "f8"
         },
         "y": {
          "bdata": "GKin5U9t6L+4nkeDJsDov1iV5yD9Eum/pjnKpbOI5b9GMGpDitvlvzPL7GUXpOK/",
          "dtype": "f8"
         },
         "z": {
          "bdata": "YRm77E7Bzz+GkogjXpTMP6wLVlptZ8k/IGCL0JoA0z+yHPJrImrRP48zuSqOINY/",
          "dtype": "f8"
         }
        },
        {
         "type": "mesh3d",
         "x": {
          "bdata": "NNSYuuWE6T+fAtYj9g7qPwoxE40Gmeo/mhB+YC3R5j8FP7vJPVvnPwBNYwZ1HeQ/",
          "dtype": "f8"
         },
         "y": {
          "bdata": "Jrq1fGnOtb+ggkgemZN1P3rKfqDcgLg/IMDShUSScL9OFj3Gfh62PyJi++sgvLM/",
          "dtype": "f8"
         },
         "z": {
          "bdata": "O92HveMH6j8+9ALyM3vqP0ALfiaE7uo/JFnPNokq6D8ncEpr2Z3oPw7VFrAuTeY/",
          "dtype": "f8"
         }
        },
        {
         "type": "mesh3d",
         "x": {
          "bdata": "ecbFz6uF2b838IrBTifTv+ozoGbjkcm/nbf2+/NO1L+2wnfbLeHLv4FRT1B4MM6/",
          "dtype": "f8"
         },
         "y": {
          "bdata": "4FIJbSY15b+Ob4L/LDPlvz2M+5EzMeW/Vrt/RQZg4r8E2PjXDF7iv5hH7DvMFd+/",
          "dtype": "f8"
         },
         "z": {
          "bdata": "6nj/zkAd1z9jiobDvjHVP9ybDbg8RtM/oMy7XKGh2D8Y3kJRH7bWP1UgeOoBJto/",
          "dtype": "f8"
         }
        },
        {
         "type": "mesh3d",
         "x": {
          "bdata": "NNSYuuWE6T8UpFGt1qjmP/RzCqDHzOM/mhB+YC3R5j964DZTHvXjPwBNYwZ1HeQ/",
          "dtype": "f8"
         },
         "y": {
          "bdata": "Jrq1fGnOtb+QduORaYi7v32ZiNM0ocC/IMDShUSScL+woSt2kQybvyJi++sgvLM/",
          "dtype": "f8"
         },
         "z": {
          "bdata": "2aGbPOf16T/VBCU8k+jnP9Fnrjs/2+U/8gZ1SJgb6D/uaf5HRA7mPwpsTlRJQeY/",
          "dtype": "f8"
         }
        },
        {
         "type": "mesh3d",
         "x": {
          "bdata": "cDJWU/465r9ix1T8Gyrkv1VcU6U5GeK/B3pBKvbT4r/6DkDTE8Pgvz2DWQLc2d6/",
          "dtype": "f8"
         },
         "y": {
          "bdata": "ZbPfX9Wr2j/+E0BxqLbfP0w6UMG9YOI/JtJzqYoI2T+/MtS6XRPeP+bwB/M/Zdc/",
          "dtype": "f8"
         },
         "z": {
          "bdata": "H7isOnXj5D/7E7H8GV7iP6/fan19sd8/HO/K5iBB4z/4Ss+oxbvgPxgm6ZLMnuE/",
          "dtype": "f8"
         }
        },
        {
         "type": "mesh3d",
         "x": {
          "bdata": "SpXw2pu12j/X35c511bTP8dUfjAl8Mc/SYZDY4nf1T+sodWDiQHNP0h3lut2CdE/",
          "dtype": "f8"
         },
         "y": {
          "bdata": "thC/W5kI5j/nw7DlGmTnPxh3om+cv+g/VvXx75354z+GqON5H1XlP/XZJISi6uE/",
          "dtype": "f8"
         },
         "z": {
          "bdata": "aDBDPYNV1j+Eh1NeZyrSPz69x/6W/ss/0F2dZI9A1z/stK2FcxXTPzmL94ubK9g/",
          "dtype": "f8"
         }
        },
        {
         "type": "mesh3d",
         "x": {
          "bdata": "Ztw6Dpec6b9tub9oLOLmv3SWRMPBJ+S/hLOLHWGc5r+LkBB49uHjv6KK3CwrnOO/",
          "dtype": "f8"
         },
         "y": {
          "bdata": "qXMiZ53juT/JSDrFfhXEP71X49YuOcs/PuO4Naduoj+Ijy6+s363P6tBpsXY052/",
          "dtype": "f8"
         },
         "z": {
          "bdata": "++WJhULq6T/6qvcmjMPnP/hvZcjVnOU/9JjJXQbx5z/yXTf/T8rlP+xLCTbK9+U/",
          "dtype": "f8"
         }
        },
        {
         "type": "mesh3d",
         "x": {
          "bdata": "akK8mAUj4j9YLcZPhAHeP9zVE279vNc/Nuo+pkDm4D/wfMtq+ofbPwQkg2f3Ut8/",
          "dtype": "f8"
         },
         "y": {
          "bdata": "9z8gRLZY478hMA6nMDLjv0sg/AmrC+O/Uo8rYbcx4b98fxnEMQvhv1i9bfxwFd6/",
          "dtype": "f8"
         },
         "z": {
          "bdata": "D4npKbxx3j8efqRex7fbPy5zX5PS/dg/2J1Yc0lz3z/okhOoVLncP1HZY15rOuA/",
          "dtype": "f8"
         }
        },
        {
         "type": "mesh3d",
         "x": {
          "bdata": "nJLPNI/1uL+c/oOAVQbDv+ozoGbjkcm/Sslvw3ucr79BT/CtWeW8v7nagDqym5q/",
          "dtype": "f8"
         },
         "y": {
          "bdata": "1E8hk1aV6b8Ibo4SRWPnvz2M+5EzMeW/2P9IuvUW5r8NHrY55OTjv92vcOGUmOK/",
          "dtype": "f8"
         },
         "z": {
          "bdata": "02vCiK1CyD8YNLefnHDPPy/+VdtFT9M/Af4L4R+10D8kYoZsF0zUPxjGtv3oSNU/",
          "dtype": "f8"
         }
        },
        {
         "type": "mesh3d",
         "x": {
          "bdata": "9jMT426p4T/UCsY4gz/hP7LheI6X1eA/FaS88IVS3D/RUSKcrn7bPz7gUhsuUtU/",
          "dtype": "f8"
         },
         "y": {
          "bdata": "dX8a4ImP0z+427SVJWPaP/2bp6Vgm+A/gk1zxrtU1T/EqQ18VyjcP44bzKztGdc/",
          "dtype": "f8"
         },
         "z": {
          "bdata": "du3jAVhk4z/2K/MSksXhP3ZqAiTMJuA/5Dix7T+N4T/I7oD989zfP6UI/bJPbN8/",
          "dtype": "f8"
         }
        },
        {
         "type": "mesh3d",
         "x": {
          "bdata": "9jMT426p4T8VpLzwhVLcPz7gUhsuUtU/BqjeTldF3j8v5HR5/0TXPyDoltfQN9k/",
          "dtype": "f8"
         },
         "y": {
          "bdata": "dX8a4ImP0z+CTXPGu1TVP44bzKztGdc/ZknXNF4DzT+/csQA4UbQP+GTeamo58I/",
          "dtype": "f8"
         },
         "z": {
          "bdata": "KuqNMchi4z+3H0LghpHhP4iq7B2LgN8/+ESK/AS+4j+Fej6rw+zgP8afhsdBGeI/",
          "dtype": "f8"
         }
        },
        {
         "type": "mesh3d",
         "x": {
          "bdata": "1k40a+s6tD/OZLvXGvrHPxhR7vxf69I/tUwPgbawuz+946hiALXLP0oldctAk8E/",
          "dtype": "f8"
         },
         "y": {
          "bdata": "Jap9dWXOxb9KkA6s3S3Jv3B2n+JVjcy/a6ik7B6p0b9+G+0H21jTv8R7ih4La9i/",
          "dtype": "f8"
         },
         "z": {
          "bdata": "nF+1P6Yu3z8CjqG2xArgPzVsaE02fuA/HU9VrCOO3T+EC+PZBnXeP54+9Rih7ds/",
          "dtype": "f8"
         }
        },
        {
         "type": "mesh3d",
         "x": {
          "bdata": "SiV1y0CTwT8Y0TZIG+/NP3M+fOJ6JdU/veOoYgC1yz/GR7VvbQjUPxhR7vxf69I/",
          "dtype": "f8"
         },
         "y": {
          "bdata": "xHuKHgtr2L+Lz9YZcZfZv1IjIxXXw9q/fhvtB9tY079FbzkDQYXUv3B2n+JVjcy/",
          "dtype": "f8"
         },
         "z": {
          "bdata": "qqGl3Bjh2z/62QJ8wNHcP0oSYBtowt0/+mThjShz3j9KnT4t0GPfPyWUjh+cguA/",
          "dtype": "f8"
         }
        },
        {
         "type": "mesh3d",
         "x": {
          "bdata": "YSDkxrMNzj+kMDDwHPnQPxhR7vxf69I/5iM/vpQVxD/OZLvXGvrHP9ZONGvrOrQ/",
          "dtype": "f8"
         },
         "y": {
          "bdata": "EvfL07SBg7/hNdwvccW9v3B2n+JVjcy/lmm6woAGt79KkA6s3S3JvyWqfXVlzsW/",
          "dtype": "f8"
         },
         "z": {
          "bdata": "7ScTK//Z4D8upHeL0bDgP3Ag3Oujh+A/0PYi+Lk64D8Sc4dYjBHgP2aLZYrpNt8/",
          "dtype": "f8"
         }
        },
        {
         "type": "mesh3d",
         "x": {
          "bdata": "YMkqjWJbuz8AjX9jgQsjv+1Ijg5ubru/UM3/x/cjnz/Sldxb6puzv3DFVVLNkqe/",
          "dtype": "f8"
         },
         "y": {
          "bdata": "Yhp4+VK42j81IJCkkhncPwgmqE/Set0/k910Brem1T9m44yx9gfXP8SgcRMbldA/",
          "dtype": "f8"
         },
         "z": {
          "bdata": "sEtsZNbH2j+4FEz9dSLaP8DdK5YVfdk/3wXajBhM3D/nzrkluKbbPw7AR7Va0N0/",
          "dtype": "f8"
         }
        },
        {
         "type": "mesh3d",
         "x": {
          "bdata": "W4A4yFD/kD+FCnPcSSaOv3DFVVLNkqe/Z8KETuGWt7/OQyG8fpu/v3LSi2fLtsm/",
          "dtype": "f8"
         },
         "y": {
          "bdata": "ZKO/VO7tpj8wlQne2HLDP8SgcRMbldA/4b80991Tsj9IDHRETOHGPxCuCcTEMLk/",
          "dtype": "f8"
         },
         "z": {
          "bdata": "A5qgHyng3z9uJr60EN/eP9qy20n43d0/ULQxIfQw4D8M9YDXz2DfP58bk7LTceA/",
          "dtype": "f8"
         }
        },
        {
         "type": "mesh3d",
         "x": {
          "bdata": "ctKLZ8u2yb/wtszon2/Nv7fNBjU6lNC/zkMhvH6bv79lhlHfk4bDv3DFVVLNkqe/",
          "dtype": "f8"
         },
         "y": {
          "bdata": "EK4JxMQwuT/3ZSA/eRfKP3P6HQ5Iy9M/SAx0REzhxj+czceQMTDSP8SgcRMbldA/",
          "dtype": "f8"
         },
         "z": {
          "bdata": "TPyvKgBy4D9JxAMrKO7fP/qPpwBQ+N4/gSAVGoRd3z8y7Ljvq2feP2pIyt4H190/",
          "dtype": "f8"
         }
        },
        {
         "type": "mesh3d",
         "x": {
          "bdata": "uIFHKIsXxj9cELLT1zKwP3DFVVLNkqe/w5FOQXU3uD+FCnPcSSaOv1uAOMhQ/5A/",
          "dtype": "f8"
         },
         "y": {
          "bdata": "jVummj9Kyj+KzsTgOrrNP8SgcRMbldA/MyLrl90CwD8wlQne2HLDP2Sjv1Tu7aY/",
          "dtype": "f8"
         },
         "z": {
          "bdata": "9fIXkfGJ3z+AoR58irLePwtQJWcj290/Ig24jD223z+uu7531t7eP1AnWIiJ4t8/",
          "dtype": "f8"
         }
        },
        {
         "type": "mesh3d",
         "x": {
          "bdata": "qD3v2nG7wb9xOclgRJHPv52aUXOLs9a/IXLKgCSpy7/1NlKDe7/Uv03TUpNry9K/",
          "dtype": "f8"
         },
         "y": {
          "bdata": "buz2vAbgvb//Lea04WO3v5Bv1ay857C/6q2zlNZFyb+zTqsQxAfGv8/ydeXUzdG/",
          "dtype": "f8"
         },
         "z": {
          "bdata": "8Qk9g4gS4D/o9Qj+nf/gP9/h1Hiz7OE/K++cm70Z4D8i22gW0wbhP2XU/LPyIOA/",
          "dtype": "f8"
         }
        },
        {
         "type": "mesh3d",
         "x": {
          "bdata": "bY7/F9g/4L+IDG6iAe7hv6KK3CwrnOO/vFuo0Z2Z27/wV4Xm8PXev52aUXOLs9a/",
          "dtype": "f8"
         },
         "y": {
          "bdata": "PS3FZR/Vzr+5+jw/zUfBv6tBpsXY052/gvIX3n6kw7/7/z7eslyov5Bv1ay857C/",
          "dtype": "f8"
         },
         "z": {
          "bdata": "VD2TXMU/4z/a47DWGp7kP2GKzlBw/OU/HK83VpiW4j+iVVXQ7fTjP+Qg3E9r7eE/",
          "dtype": "f8"
         }
        },
        {
         "type": "mesh3d",
         "x": {
          "bdata": "ctKLZ8u2yb9+7P/hm6zTv8LvORDSfdq/8LbM6J9vzb+8XqAiBonVv7fNBjU6lNC/",
          "dtype": "f8"
         },
         "y": {
          "bdata": "EK4JxMQwuT9C4iD3m+K/PzoLHJU5SsM/92UgP3kXyj8QAKzYZHDNP3P6HQ5Iy9M/",
          "dtype": "f8"
         },
         "z": {
          "bdata": "BlyjftV34D/WdpYRL2fhP6WRiaSIVuI/8szAoxH83z9JgdNkYu3gP9nhOkp4CN8/",
          "dtype": "f8"
         }
        },
        {
         "type": "mesh3d",
         "x": {
          "bdata": "cMVVUs2Sp7/Sldxb6puzv+1Ijg5ubru/ZYZR35OGw7/yX6q41W/Hv7fNBjU6lNC/",
          "dtype": "f8"
         },
         "y": {
          "bdata": "xKBxExuV0D9m44yx9gfXPwgmqE/Set0/nM3HkDEw0j8+EOMuDaPYP3P6HQ5Iy9M/",
          "dtype": "f8"
         },
         "z": {
          "bdata": "25jLJUHX3T8yZm5BsrDbP4ozEV0jitk/kYhwXghp3j/oVRN6eULcP0d4FZfP+t4/",
          "dtype": "f8"
         }
        },
        {
         "type": "mesh3d",
         "x": {
          "bdata": "TdNSk2vL0r/1NlKDe7/Uv52aUXOLs9a/FPio4Y2l2b+8W6jRnZnbv22O/xfYP+C/",
          "dtype": "f8"
         },
         "y": {
          "bdata": "z/J15dTN0b+zTqsQxAfGv5Bv1ay857C/t0QsTDKc0L+C8hfefqTDvz0txWUf1c6/",
          "dtype": "f8"
         },
         "z": {
          "bdata": "ocSCsKIo4D8yGnp+sw7hP8RvcUzE9OE/IGxC0hmw4T+ywTmgKpbiP58TAvSQN+M/",
          "dtype": "f8"
         }
        },
        {
         "type": "mesh3d",
         "x": {
          "bdata": "qD3v2nG7wb9xOclgRJHPv52aUXOLs9a/DYg9oR65xb/rwYuTeMfRv3LSi2fLtsm/",
          "dtype": "f8"
         },
         "y": {
          "bdata": "buz2vAbgvb//Lea04WO3v5Bv1ay857C/ePm04we9gr8AfWguEJKQPxCuCcTEMLk/",
          "dtype": "f8"
         },
         "z": {
          "bdata": "/MWu1QgS4D9PvkMnff/gP6K22Hjx7OE/5JtcrpRG4D83lPH/CDThP8xxCocge+A/",
          "dtype": "f8"
         }
        },
        {
         "type": "mesh3d",
         "x": {
          "bdata": "ctKLZ8u2yb/rwYuTeMfRv52aUXOLs9a/fuz/4Zus078wxcXBrpjYv8LvORDSfdq/",
          "dtype": "f8"
         },
         "y": {
          "bdata": "EK4JxMQwuT8AfWguEJKQP5Bv1ay857C/QuIg95vivz/kpmJ9tqylPzoLHJU5SsM/",
          "dtype": "f8"
         },
         "z": {
          "bdata": "kixRX1N54D/QnhAg0DThPw0R0OBM8OE/jguCtcts4T/LfUF2SCjiP4nqsgtEYOI/",
          "dtype": "f8"
         }
        },
        {
         "type": "mesh3d",
         "x": {
          "bdata": "wu85ENJ92r9CwXwaim3gv6KK3CwrnOO/MMXFwa6Y2L/wV4Xm8PXev52aUXOLs9a/",
          "dtype": "f8"
         },
         "y": {
          "bdata": "OgsclTlKwz8Jhs74fB+vP6tBpsXY052/5KZifbaspT/7/z7eslyov5Bv1ay857C/",
          "dtype": "f8"
         },
         "z": {
          "bdata": "+Fd+leZi4j+kscdYDS7kP1ELERw0+eU/YLtXXsgo4j8MFaEh7/PjP8ceMSeq7uE/",
          "dtype": "f8"
         }
        },
        {
         "type": "mesh3d",
         "x": {
          "bdata": "yajC59aBs79332J2wyiqv7nagDqym5q/81IY4rH4w79sts9L98HAv4FRT1B4MM6/",
          "dtype": "f8"
         },
         "y": {
          "bdata": "kPf6Srg71b+lK+4GcTbdv92vcOGUmOK/lJ9zQ8Io2r/UabN/vRHhv5hH7DvMFd+/",
          "dtype": "f8"
         },
         "z": {
          "bdata": "VxBsjXif3D8xDBz7NvvYPwsIzGj1VtU/Ciwf7kla2z/kJ89bCLbXP7xH0k4bFdo/",
          "dtype": "f8"
         }
        },
        {
         "type": "mesh3d",
         "x": {
          "bdata": "AAAAAAAAAACiqgwclOymv6KqDByU7La/MUg75JB7vL/BziB57fjDvzFIO+SQe8y/",
          "dtype": "f8"
         },
         "y": {
          "bdata": "AAAAAAAA8D/M46YzUbfsP5jHTWeibuk/ioajAk6Z7z9Wako2n1DsPxUNRwWcMu8/",
          "dtype": "f8"
         },
         "z": {
          "bdata": "lHv6Rp9aXj/3X80EiSm4PwBrP8bT7Mc/uO5pzooPmj+38Us7ATS+P9saMtS1HKk/",
          "dtype": "f8"
         }
        },
        {
         "type": "mesh3d",
         "x": {
          "bdata": "FQ1HBZwy7z8A6jEAY63rP+zGHPspKOg/GShjV6wD7j8EBU5Sc37qPx1Df6m81Ow/",
          "dtype": "f8"
         },
         "y": {
          "bdata": "MUg75JB7zD8aE83spSXPPwJvr3rd59A/Uq1lYEQB1T/Hkq7kTlbWP4y2rU7AxNs/",
          "dtype": "f8"
         },
         "z": {
          "bdata": "FOXMh9lm7j+UbtrPNjjrPxP45xeUCeg/Yiap7U8x7D/hr7Y1rQLpP69nhVPG++k/",
          "dtype": "f8"
         }
        },
        {
         "type": "mesh3d",
         "x": {
          "bdata": "MUg75JB7zD+4XyG8dxPQP1cbJQYn6dE/Uq1lYEQB1T/yaGmq89bWP4y2rU7AxNs/",
          "dtype": "f8"
         },
         "y": {
          "bdata": "FQ1HBZwy77+WWnf19c/rvxiop+VPbei/GShjV6wD7r+adZNHBqHqvx1Df6m81Oy/",
          "dtype": "f8"
         },
         "z": {
          "bdata": "Y509reKRqT9Wg7MdPvHCP1OfF5ADfs8/6mKwPx13vj9yTTwSVMjLP5H7YJSkEsg/",
          "dtype": "f8"
         }
        },
        {
         "type": "mesh3d",
         "x": {
          "bdata": "FQ1HBZwy778A6jEAY63rv+zGHPspKOi/GShjV6wD7r8EBU5Sc37qvx1Df6m81Oy/",
          "dtype": "f8"
         },
         "y": {
          "bdata": "MUg75JB7zL8aE83spSXPvwJvr3rd59C/Uq1lYEQB1b/Hkq7kTlbWv4y2rU7AxNu/",
          "dtype": "f8"
         },
         "z": {
          "bdata": "MB/BCQ5j7j98yrRSlz/rP8d1qJsgHOg/T+wIRz4z7D+al/yPxw/pP265UIRuA+o/",
          "dtype": "f8"
         }
        },
        {
         "type": "mesh3d",
         "x": {
          "bdata": "jLatTsDE27+AnQkDbv7av3OEZbcbONq/XDpbhQDr4L/VLYlf14fgv3GZX+Og8+O/",
          "dtype": "f8"
         },
         "y": {
          "bdata": "HUN/qbzU7D+sIHn3s47pPzz+ckWrSOY/HCruDsDs6j+sB+hct6bnPxsRXXTDBOk/",
          "dtype": "f8"
         },
         "z": {
          "bdata": "Tifmp6AtyD9eNxJDPvnQPxZbMTKs29U/eqMqfcF60j8yx0lsL13XP04zYqay3tg/",
          "dtype": "f8"
         }
        },
        {
         "type": "mesh3d",
         "x": {
          "bdata": "eOa+4aDz4z+OmJtnN6fgP0qV8Nqbtdo/iO/lgwDr4D88Q4UTLj3bPy/xGUzAxNs/",
          "dtype": "f8"
         },
         "y": {
          "bdata": "j1+pdcME6T8iOLRorobnP7YQv1uZCOY//b/jD8Ds6j+QmO4Cq27pP2sgHqq81Ow/",
          "dtype": "f8"
         },
         "z": {
          "bdata": "iI/lRI3f2D9MhfmjVpvXPxF7DQMgV9Y/JMpyurZ60j/ov4YZgDbRP4AJAGDAK8g/",
          "dtype": "f8"
         }
        },
        {
         "type": "mesh3d",
         "x": {
          "bdata": "eOa+4aDz47/a5NBkO1vgv3nGxc+rhdm/iO/lgwDr4L/U2+8NNqXavy/xGUzAxNu/",
          "dtype": "f8"
         },
         "y": {
          "bdata": "j1+pdcME6b84WVnx9Bznv+BSCW0mNeW//b/jD8Ds6r+muZOL8QTpv2sgHqq81Oy/",
          "dtype": "f8"
         },
         "z": {
          "bdata": "r5UrWC3G2D8UAPmY0ubXP3hqxtl3B9c/8i5YinN20j9WmSXLGJfRP2iQCXlzTcg/",
          "dtype": "f8"
         }
        },
        {
         "type": "mesh3d",
         "x": {
          "bdata": "j1+pdcME6T80GfchRXTnP9nSRM7G4+U//b/jD8Ds6j+ieTG8QVzpP2sgHqq81Ow/",
          "dtype": "f8"
         },
         "y": {
          "bdata": "eOa+4aDz47/OzX8BMhLhv0lqgUKGYdy/iO/lgwDr4L+8rU1HIxPcvy/xGUzAxNu/",
          "dtype": "f8"
         },
         "z": {
          "bdata": "H/SXa5eY4z/OAsNEv/fjP3wR7h3nVuQ/dxG0FBnE5j8mIN/tQCPnP88u0L2a7+k/",
          "dtype": "f8"
         }
        },
        {
         "type": "mesh3d",
         "x": {
          "bdata": "AAAAAAAA8D8aakzdcsLsPzTUmLrlhOk/5I63Ak6Z7z/++APgwFvsP8kdbwWcMu8/",
          "dtype": "f8"
         },
         "y": {
          "bdata": "AAAAAAAAAAAmurV8ac6lvya6tXxpzrW/AyJ94ZB7vL+L/+vPYrHDvwMifeGQe8y/",
          "dtype": "f8"
         },
         "z": {
          "bdata": "8kdHL/fj7z+2CJL72PnsP3vJ3Me6D+o/QC6o9dUe7z8F7/LBtzTsP48UCby0We4/",
          "dtype": "f8"
         }
        },
        {
         "type": "mesh3d",
         "x": {
          "bdata": "AAAAAAAAAACcks80j/Wov5ySzzSP9bi/AyJ94ZB7vL+odfI9LHvEvwMifeGQe8y/",
          "dtype": "f8"
         },
         "y": {
          "bdata": "AAAAAAAA8L/qp5BJq8rsv9RPIZNWlem/5I63Ak6Z77/ONkhM+WPsv8kdbwWcMu+/",
          "dtype": "f8"
         },
         "z": {
          "bdata": "o6bIFat6bD/voIUvNGq4P1R+LoNJ+Mc/SgJH8VQdnD9MHCkTtI2+P+B36j+qVao/",
          "dtype": "f8"
         }
        },
        {
         "type": "mesh3d",
         "x": {
          "bdata": "AAAAAAAA8L8zbh2HS87sv2bcOg6XnOm/5I63Ak6Z778Y/dSJmWfsv8kdbwWcMu+/",
          "dtype": "f8"
         },
         "y": {
          "bdata": "AAAAAAAAAACpcyJnneOpP6lzImed47k/AyJ94ZB7vD/sLYfKr7bEPwMifeGQe8w/",
          "dtype": "f8"
         },
         "z": {
          "bdata": "ujR2P0vk7z9UDHcthvLsP+7jdxvBAOo/bOC8QEEf7z8GuL0ufC3sPx2MA0I3Wu4/",
          "dtype": "f8"
         }
        },
        {
         "type": "mesh3d",
         "x": {
          "bdata": "j1+pdcME6b8AyX/k4J/nv3AyVlP+Oua//b/jD8Ds6r9uKbp+3Yfpv2sgHqq81Oy/",
          "dtype": "f8"
         },
         "y": {
          "bdata": "eOa+4aDz4z8VYNfIxaTgP2Wz31/Vq9o/iO/lgwDr4D9K0vzVSjjbPy/xGUzAxNs/",
          "dtype": "f8"
         },
         "z": {
          "bdata": "A4CogCyX4z9s+GaKNEvkP9RwJZQ8/+Q/9kcAvzbG5j9ewL7IPnrnP+kPWP1A9ek/",
          "dtype": "f8"
         }
        },
        {
         "type": "mesh3d",
         "x": {
          "bdata": "TdNSk2vL0r8U+KjhjaXZv22O/xfYP+C/7LsuoeSR17+z4ITvBmzev4ykCq9dWNy/",
          "dtype": "f8"
         },
         "y": {
          "bdata": "z/J15dTN0b+3RCxMMpzQvz0txWUf1c6/iodwoVXe1r9y2SYIs6zVv0Yca13W7tu/",
          "dtype": "f8"
         },
         "z": {
          "bdata": "lGPO6Ngk4D9NY7P4xKnhPwZjmAixLuM/yv9edrkf4D+C/0OGpaThP/+b7wOaGuA/",
          "dtype": "f8"
         }
        },
        {
         "type": "mesh3d",
         "x": {
          "bdata": "TdNSk2vL0r/suy6h5JHXv4ykCq9dWNy/Bz693dPx0L+mJpnrTLjVv4FRT1B4MM6/",
          "dtype": "f8"
         },
         "y": {
          "bdata": "z/J15dTN0b+Kh3ChVd7Wv0Yca13W7tu/NB2xkNBx2L/vsatMUYLdv5hH7DvMFd+/",
          "dtype": "f8"
         },
         "z": {
          "bdata": "5048JZoZ4D9Y1+9rpRHgP8lfo7KwCeA/s/sifYYp3T+VDIoKnRndP5hZza/YH9o/",
          "dtype": "f8"
         }
        },
        {
         "type": "mesh3d",
         "x": {
          "bdata": "yajC59aBs7/zUhjisfjDv4FRT1B4MM6/f31DTeGrx78HPr3d0/HQv03TUpNry9K/",
          "dtype": "f8"
         },
         "y": {
          "bdata": "kPf6Srg71b+Un3NDwijav5hH7DvMFd+/MHU4mMaE0780HbGQ0HHYv8/ydeXUzdG/",
          "dtype": "f8"
         },
         "z": {
          "bdata": "zU1rCQad3D9E6IxmU1vbP7yCrsOgGdo//njANj1j3j92E+KTiiHdPxjSCjK6FOA/",
          "dtype": "f8"
         }
        },
        {
         "type": "mesh3d",
         "x": {
          "bdata": "yajC59aBs79332J2wyiqv7nagDqym5q/lkNPXlVJnz/mE0oIlX+sP0oldctAk8E/",
          "dtype": "f8"
         },
         "y": {
          "bdata": "kPf6Srg71b+lK+4GcTbdv92vcOGUmOK/qrnCtGHT1r+/7bVwGs7ev8R7ih4La9i/",
          "dtype": "f8"
         },
         "z": {
          "bdata": "TaSTgaaX3D8toEf4r/3YPw2c+265Y9U/gdrerPQ43D9h1pIj/p7YP7UQKthC2ts/",
          "dtype": "f8"
         }
        },
        {
         "type": "mesh3d",
         "x": {
          "bdata": "1k40a+s6tD+1TA+BtrC7P0oldctAk8E/oME0bpAiVz+WQ09eVUmfP8mowufWgbO/",
          "dtype": "f8"
         },
         "y": {
          "bdata": "Jap9dWXOxb9rqKTsHqnRv8R7ih4La9i/UebcgnUR0L+qucK0YdPWv5D3+kq4O9W/",
          "dtype": "f8"
         },
         "z": {
          "bdata": "JjsE5b4w3z/fhyQjipDdP5jURGFV8Ns/8v71QC7t3T+qSxZ/+UzcP73C55ydqdw/",
          "dtype": "f8"
         }
        },
        {
         "type": "mesh3d",
         "x": {
          "bdata": "qD3v2nG7wb8hcsqAJKnLv03TUpNry9K/DJLQTl18u79/fUNN4avHv8mowufWgbO/",
          "dtype": "f8"
         },
         "y": {
          "bdata": "buz2vAbgvb/qrbOU1kXJv8/ydeXUzdG/rLI4+rmzzL8wdTiYxoTTv5D3+kq4O9W/",
          "dtype": "f8"
         },
         "z": {
          "bdata": "eSf+VzMP4D/aWLhKHxHgPzyKcj0LE+A/uifwjTRh3j99imRzDGXeP4IA5GsCpNw/",
          "dtype": "f8"
         }
        },
        {
         "type": "mesh3d",
         "x": {
          "bdata": "1k40a+s6tD+gwTRukCJXP8mowufWgbO/9FhUlfB3nr8MktBOXXy7v6g979pxu8G/",
          "dtype": "f8"
         },
         "y": {
          "bdata": "Jap9dWXOxb9R5tyCdRHQv5D3+kq4O9W/LpD8aTRfwr+ssjj6ubPMv27s9rwG4L2/",
          "dtype": "f8"
         },
         "z": {
          "bdata": "YdYF6SIv3z+sDxqcP+zdP/dILk9cqdw/6rbKb/Wj3z808N4iEmHeP7nLR/tjDOA/",
          "dtype": "f8"
         }
        },
        {
         "type": "mesh3d",
         "x": {
          "bdata": "W4A4yFD/kD9nwoRO4Za3v3LSi2fLtsm/OVvQgw83r78NiD2hHrnFv6g979pxu8G/",
          "dtype": "f8"
         },
         "y": {
          "bdata": "ZKO/VO7tpj/hvzT33VOyPxCuCcTEMLk/vBqXkg9por94+bTjB72Cv27s9rwG4L2/",
          "dtype": "f8"
         },
         "z": {
          "bdata": "vP8XE4Dh3z90IShvYzTgPwpDxNQGeOA/3GAL9AcC4D9ygqdZq0XgP9vBit5PE+A/",
          "dtype": "f8"
         }
        },
        {
         "type": "mesh3d",
         "x": {
          "bdata": "W4A4yFD/kD85W9CDDzevv6g979pxu8G/7W5Cnb96qD/0WFSV8Heev9ZONGvrOrQ/",
          "dtype": "f8"
         },
         "y": {
          "bdata": "ZKO/VO7tpj+8GpeSD2miv27s9rwG4L2/TMFN4OkSsL8ukPxpNF/CvyWqfXVlzsW/",
          "dtype": "f8"
         },
         "z": {
          "bdata": "0BKzeZvm3z+pg4ucRf/fP0H6sd/3C+A/lMvgY52M3z9uPLmGR6XfP1mEDk6fMt8/",
          "dtype": "f8"
         }
        },
        {
         "type": "mesh3d",
         "x": {
          "bdata": "uIFHKIsXxj9cELLT1zKwP3DFVVLNkqe/NHNuN57iwT9Qzf/H9yOfP2DJKo1iW7s/",
          "dtype": "f8"
         },
         "y": {
          "bdata": "jVummj9Kyj+KzsTgOrrNP8SgcRMbldA/FKRlY7nu0z+T3XQGt6bVP2IaePlSuNo/",
          "dtype": "f8"
         },
         "z": {
          "bdata": "61kBeUSO3z9wQiwf5bLeP/QqV8WF190/cipwC9E23T/2EpuxcVvcP/n63p1d39o/",
          "dtype": "f8"
         }
        },
        {
         "type": "mesh3d",
         "x": {
          "bdata": "YSDkxrMNzj/mIz++lBXEP9ZONGvrOrQ/Npj1784WwD/tbkKdv3qoP1uAOMhQ/5A/",
          "dtype": "f8"
         },
         "y": {
          "bdata": "EvfL07SBg7+WabrCgAa3vyWqfXVlzsW/oKXMH4ENkj9MwU3g6RKwv2Sjv1Tu7aY/",
          "dtype": "f8"
         },
         "z": {
          "bdata": "7KuwXCnX4D+TnA7cdDrgP3Ua2baAO98/fF8VBlBl4D9HoOYKN5HfPxkm9F7t5t8/",
          "dtype": "f8"
         }
        },
        {
         "type": "mesh3d",
         "x": {
          "bdata": "uIFHKIsXxj80c243nuLBP2DJKo1iW7s/jVC71/ku0D+Wkp2+BinMPz7gUhsuUtU/",
          "dtype": "f8"
         },
         "y": {
          "bdata": "jVummj9Kyj8UpGVjue7TP2IaePlSuNo/qqQPvYYf0j/4GiJTIOnYP44bzKztGdc/",
          "dtype": "f8"
         },
         "z": {
          "bdata": "sh74cHWR3z/oiD1VpTfdPx/zgjnV3do/gUPylNt83z+4rTd5CyPdP1Bo7LhBaN8/",
          "dtype": "f8"
         }
        },
        {
         "type": "mesh3d",
         "x": {
          "bdata": "IOiW19A32T8v5HR5/0TXPz7gUhsuUtU/flTdNcsh0j+NULvX+S7QP7iBRyiLF8Y/",
          "dtype": "f8"
         },
         "y": {
          "bdata": "4ZN5qajnwj+/csQA4UbQP44bzKztGdc/t/cPIvSYxj+qpA+9hh/SP41bppo/Sso/",
          "dtype": "f8"
         },
         "z": {
          "bdata": "3C7RO/AP4j/CVXUIHeTgP1H5MqqTcN8/LlSUhKLq4D8q9nCinn3fPwLzrpqpit8/",
          "dtype": "f8"
         }
        },
        {
         "type": "mesh3d",
         "x": {
          "bdata": "YSDkxrMNzj82mPXvzhbAP1uAOMhQ/5A/DNGVd58Syj/DkU5BdTe4P7iBRyiLF8Y/",
          "dtype": "f8"
         },
         "y": {
          "bdata": "EvfL07SBg7+gpcwfgQ2SP2Sjv1Tu7aY/HJxpTSQSuT8zIuuX3QLAP41bppo/Sso/",
          "dtype": "f8"
         },
         "z": {
          "bdata": "Y9U9vXzY4D9DpWyycGXgP0fqNk/J5N8/KwXrXIpS4D8XqjOk/L7fP+dpMPkvmd8/",
          "dtype": "f8"
         }
        },
        {
         "type": "mesh3d",
         "x": {
          "bdata": "sGimoEfj3D/kXMrOU+fXPxhR7vxf69I/cDwMwhD11T+kMDDwHPnQP2Eg5MazDc4/",
          "dtype": "f8"
         },
         "y": {
          "bdata": "mDdhfNXQr78r4tugxUDCv3B2n+JVjcy/rhqqWKFYor/hNdwvccW9vxL3y9O0gYO/",
          "dtype": "f8"
         },
         "z": {
          "bdata": "p8p4HpEv4z8jTVMZ5uDhP5/PLRQ7kuA/WlYyIiMI4j/W2AwdeLngPw3i6yW14OA/",
          "dtype": "f8"
         }
        },
        {
         "type": "mesh3d",
         "x": {
          "bdata": "IOiW19A32T9+VN01yyHSP7iBRyiLF8Y/KHyEXVUf1D8M0ZV3nxLKP2Eg5MazDc4/",
          "dtype": "f8"
         },
         "y": {
          "bdata": "4ZN5qajnwj+39w8i9JjGP41bppo/Sso/cNQ8XI2vsT8cnGlNJBK5PxL3y9O0gYO/",
          "dtype": "f8"
         },
         "z": {
          "bdata": "PmP4ljoR4j/JyhIytu3gP6hkWppjlN8/mZU+kuB14T8k/VgtXFLgP/THhI2G2uA/",
          "dtype": "f8"
         }
        },
        {
         "type": "mesh3d",
         "x": {
          "bdata": "IOiW19A32T8ofIRdVR/UP2Eg5MazDc4/aKgePIwN2z9wPAzCEPXVP7BopqBH49w/",
          "dtype": "f8"
         },
         "y": {
          "bdata": "4ZN5qajnwj9w1Dxcja+xPxL3y9O0gYO/9ovClObmpT+uGqpYoViiv5g3YXzV0K+/",
          "dtype": "f8"
         },
         "z": {
          "bdata": "kuJtYRMd4j/khtutHX7hPzYrSfon3+A/HHNlJRGn4j9uF9NxGwjiP6UDXekOMeM/",
          "dtype": "f8"
         }
        },
        {
         "type": "mesh3d",
         "x": {
          "bdata": "AE1jBnUd5D+sQFtrjEfhP7BopqBH49w/iGAXua5c4D9oqB48jA3bPyDoltfQN9k/",
          "dtype": "f8"
         },
         "y": {
          "bdata": "ImL76yC8sz+wMlZusZ1+P5g3YXzV0K+/8kR3H7nFvD/2i8KU5ualP+GTeamo58I/",
          "dtype": "f8"
         },
         "z": {
          "bdata": "QqS+7hct5j/1Wptx17XkP6gRePSWPuM/C2GZIC4q5D++F3aj7bLiP9QddFJEJ+I/",
          "dtype": "f8"
         }
        },
        {
         "type": "mesh3d",
         "x": {
          "bdata": "GFHu/F/r0j/IiO6ceVjaPzxgd57J4uA/xke1b20I1D92f7UPh3XbP3M+fOJ6JdU/",
          "dtype": "f8"
         },
         "y": {
          "bdata": "cHaf4lWNzL8M/ayRJ1LQv+A+CjKkXdK/RW85A0GF1L8ZsZajvZDWv1IjIxXXw9q/",
          "dtype": "f8"
         },
         "z": {
          "bdata": "cJ5bLduK4D+av8IHJ8rhP8PgKeJyCeM/dZFIzjB33z/kaYtB5PrgPwrm2UGr2N0/",
          "dtype": "f8"
         }
        },
        {
         "type": "mesh3d",
         "x": {
          "bdata": "h1CSQzwR3T8yE9PYHGfaP9zVE279vNc/V7VC3dFV4D9YLcZPhAHeP2pCvJgFI+I/",
          "dtype": "f8"
         },
         "y": {
          "bdata": "HKSIGYZJ5780YsKRmCrlv0sg/AmrC+O/CnLULh5R5b8hMA6nMDLjv/c/IES2WOO/",
          "dtype": "f8"
         },
         "z": {
          "bdata": "fVFQ092Z1T9ckzRAHkXXPzrVGK1e8Ng/8iCGsPf02T/QYmodOKDbP2bwu40RUN4/",
          "dtype": "f8"
         }
        },
        {
         "type": "mesh3d",
         "x": {
          "bdata": "sGimoEfj3D+UlMpubVTfPzxgd57J4uA/5FzKzlPn1z/IiO6ceVjaPxhR7vxf69I/",
          "dtype": "f8"
         },
         "y": {
          "bdata": "mDdhfNXQr7/TZZbhvlfGv+A+CjKkXdK/K+LboMVAwr8M/ayRJ1LQv3B2n+JVjcy/",
          "dtype": "f8"
         },
         "z": {
          "bdata": "foe9h/A34z83R0dyOibjP/AG0VyEFOM/OnG5c+rl4T/0MENeNNThP/datV/kk+A/",
          "dtype": "f8"
         }
        },
        {
         "type": "mesh3d",
         "x": {
          "bdata": "9jMT426p4T8GqN5OV0XePyDoltfQN9k/e0C79HHj4j+IYBe5rlzgPwBNYwZ1HeQ/",
          "dtype": "f8"
         },
         "y": {
          "bdata": "dX8a4ImP0z9mSdc0XgPNP+GTeamo58I//lcZG5J+yD/yRHcfucW8PyJi++sgvLM/",
          "dtype": "f8"
         },
         "z": {
          "bdata": "xGjLsUdu4z+Y2zTG2sriP2tOntptJ+I/1p0KcvPM5D+qEHSGhinkP+nSSTKfK+Y/",
          "dtype": "f8"
         }
        },
        {
         "type": "mesh3d",
         "x": {
          "bdata": "wu85ENJ92r8qx7BlVbPgv3SWRMPBJ+S/QsF8Gopt4L+LkBB49uHjv6KK3CwrnOO/",
          "dtype": "f8"
         },
         "y": {
          "bdata": "OgsclTlKwz98sf81tEHHP71X49YuOcs/CYbO+Hwfrz+Ijy6+s363P6tBpsXY052/",
          "dtype": "f8"
         },
         "z": {
          "bdata": "XYpr0qRh4j+mRH9JL/7jP+7+ksC5muU/28AixCAu5D8kezY7q8rlP1n32bWc+uU/",
          "dtype": "f8"
         }
        },
        {
         "type": "mesh3d",
         "x": {
          "bdata": "7MYc+yko6D/2CcCAzyLmPwBNYwZ1HeQ/cf0Xb8zo5D97QLv0cePiP/YzE+NuqeE/",
          "dtype": "f8"
         },
         "y": {
          "bdata": "Am+vet3n0D+KR6615dbFPyJi++sgvLM/PPdkrbM70j/+Vxkbkn7IP3V/GuCJj9M/",
          "dtype": "f8"
         },
         "z": {
          "bdata": "/APevNT25z/bg/YVIBrnP7oDD29rPeY/TDOLhdu25T8rs6PeJtrkP5xiOE7iduM/",
          "dtype": "f8"
         }
        },
        {
         "type": "mesh3d",
         "x": {
          "bdata": "PuBSGy5S1T/Dq3SD0i3TP0h3lut2CdE/lpKdvgYpzD+gKeGOT+DHP2DJKo1iW7s/",
          "dtype": "f8"
         },
         "y": {
          "bdata": "jhvMrO0Z1z+854pamXfdP/XZJISi6uE/+BoiUyDp2D8m5+AAzEbfP2IaePlSuNo/",
          "dtype": "f8"
         },
         "z": {
          "bdata": "x/r/yoVo3z9WxqxnoN/bP+SRWQS7Vtg/xopjQ2kj3T9UVhDgg5rZP8Qax7tM3to/",
          "dtype": "f8"
         }
        },
        {
         "type": "mesh3d",
         "x": {
          "bdata": "YMkqjWJbuz9GvlIVORyxP7LM6nU+dJs/AI1/Y4ELI7/AlRNxXpGkv+1Ijg5ubru/",
          "dtype": "f8"
         },
         "y": {
          "bdata": "Yhp4+VK42j/GXwRrvXLgP1qyTFlRieM/NSCQpJIZ3D+vYpBAXSPhPwgmqE/Set0/",
          "dtype": "f8"
         },
         "z": {
          "bdata": "nftzFdnH2j9adyzz8nLXPxbz5NAMHtQ/n0SMTxgi2j9cwEQtMs3WP6GNpIlXfNk/",
          "dtype": "f8"
         }
        },
        {
         "type": "mesh3d",
         "x": {
          "bdata": "7MYc+yko6L/ats14dqXmv8imfvbCIuW/rCqOCQE05L+aGj+HTbHiv22O/xfYP+C/",
          "dtype": "f8"
         },
         "y": {
          "bdata": "Am+vet3n0L+aWd0JejTWvzJEC5kWgdu/0ALJljYp0L9o7fYl03XVvz0txWUf1c6/",
          "dtype": "f8"
         },
         "z": {
          "bdata": "qIpbSYj45z/c0wCdzwbmPxEdpvAWFeQ/DLaoUkCf5T9A/02mh63jP2/h9Vv4ReM/",
          "dtype": "f8"
         }
        },
        {
         "type": "mesh3d",
         "x": {
          "bdata": "t80GNTqU0L96KLAbC7fXvz2DWQLc2d6/vF6gIgaJ1b+AuUkJ16vcv8LvORDSfdq/",
          "dtype": "f8"
         },
         "y": {
          "bdata": "c/odDkjL0z+s9ZIARJjVP+bwB/M/Zdc/EACs2GRwzT9C+8peLoXQPzoLHJU5SsM/",
          "dtype": "f8"
         },
         "z": {
          "bdata": "pGy6vCz+3j/SWc5RiIPgP1J9P0X6h+E/YNMy2Urs4D/g9qPMvPDhP29wCFR/WeI/",
          "dtype": "f8"
         }
        },
        {
         "type": "mesh3d",
         "x": {
          "bdata": "c4Rltxs42r8keVlfcxXTv6nbmg6W5ce/FlLOAPms17/HRsKoUIrQv7ofN0rWIdW/",
          "dtype": "f8"
         },
         "y": {
          "bdata": "PP5yRatI5j+Ln2d/pmnlP9pAXLmhiuQ/whAIaItS4z8SsvyhhnPiP0kjnYprXOA/",
          "dtype": "f8"
         },
         "z": {
          "bdata": "901ExDfV1T+w8fzDwODUP2mVtcNJ7NM/+C9KXi9t2D+w0wJeuHjXP/gRUPgmBds/",
          "dtype": "f8"
         }
        },
        {
         "type": "mesh3d",
         "x": {
          "bdata": "SiV1y0CTwT/5w6tpO4LEP6hi4gc2ccc/GNE2SBvvzT/ktzbzCm/QP3M+fOJ6JdU/",
          "dtype": "f8"
         },
         "y": {
          "bdata": "xHuKHgtr2L8VCTL1nNnevzPL7GUXpOK/i8/WGXGX2b9uLj94AQPgv1IjIxXXw9q/",
          "dtype": "f8"
         },
         "z": {
          "bdata": "O47lyc7c2z+40u53kAnZPzQX+CVSNtY/ZSuutu3P3D/ib7dkr/zZP4/IdqMMw90/",
          "dtype": "f8"
         }
        },
        {
         "type": "mesh3d",
         "x": {
          "bdata": "cDJWU/465r9yZE0LYDHlv3SWRMPBJ+S/B3pBKvbT4r8JrDjiV8rhvz2DWQLc2d6/",
          "dtype": "f8"
         },
         "y": {
          "bdata": "ZbPfX9Wr2j+ir6hlNiTUP71X49YuOcs/JtJzqYoI2T9izjyv64DSP+bwB/M/Zdc/",
          "dtype": "f8"
         },
         "z": {
          "bdata": "GH4WGE/o5D/GxMX04EPlP3MLddFyn+U/mAxR5CJC4z9GUwDBtJ3jPxmbi7D2m+E/",
          "dtype": "f8"
         }
        },
        {
         "type": "mesh3d",
         "x": {
          "bdata": "7MYc+yko6D/7+xdEmGDpPwoxE40Gmeo/9gnAgM8i5j8FP7vJPVvnPwBNYwZ1HeQ/",
          "dtype": "f8"
         },
         "y": {
          "bdata": "Am+vet3n0D+gIc+iFAjHP3rKfqDcgLg/ikeuteXWxT9OFj3Gfh62PyJi++sgvLM/",
          "dtype": "f8"
         },
         "z": {
          "bdata": "S/sbpYwJ6D8TlU3ZD3jpP9sufw2T5uo/qtdF688r5z9ycXcfU5roPwq0bzETTuY/",
          "dtype": "f8"
         }
        },
        {
         "type": "mesh3d",
         "x": {
          "bdata": "c4Rltxs42r8keVlfcxXTv6nbmg6W5ce/pbIFfGSq1b+sTvNHeA/Nv9fgpUCtHNG/",
          "dtype": "f8"
         },
         "y": {
          "bdata": "PP5yRatI5j+Ln2d/pmnlP9pAXLmhiuQ/YJAVhqL25z+wMQrAnRfnP4UiuMaZpOk/",
          "dtype": "f8"
         },
         "z": {
          "bdata": "cvU8bguy1T/f4RIOsr7UP0zO6K1Yy9M/1bjlR9e60T9CpbvnfcfQP3H4HENGh8s/",
          "dtype": "f8"
         }
        },
        {
         "type": "mesh3d",
         "x": {
          "bdata": "t80GNTqU0L+49p4/CNvSv7ofN0rWIdW/eiiwGwu31798UUgm2f3Zvz2DWQLc2d6/",
          "dtype": "f8"
         },
         "y": {
          "bdata": "c/odDkjL0z+CIKyRD0LaP0kjnYprXOA/rPWSAESY1T+8GyGECw/cP+bwB/M/Zdc/",
          "dtype": "f8"
         },
         "z": {
          "bdata": "lewwc+773j/swloYmArdP0KZhL1BGds/0qWzARGD4D/6IZGoyxTfP1nVzskqiOE/",
          "dtype": "f8"
         }
        },
        {
         "type": "mesh3d",
         "x": {
          "bdata": "AE1jBnUd5D964DZTHvXjP/RzCqDHzOM/rEBba4xH4T8m1C64NR/hP7BopqBH49w/",
          "dtype": "f8"
         },
         "y": {
          "bdata": "ImL76yC8sz+woSt2kQybv32ZiNM0ocC/sDJWbrGdfj9j56AyapW4v5g3YXzV0K+/",
          "dtype": "f8"
         },
         "z": {
          "bdata": "CLHSE+g95j9pgHOrBw3mP8pPFEMn3OU/+p3y1NrA5D9bbZNs+o/kP+yKEpbNQ+M/",
          "dtype": "f8"
         }
        },
        {
         "type": "mesh3d",
         "x": {
          "bdata": "ecbFz6uF2b8W0FymtiXfv9rseb7gYuK/gjVovwTv2r+Qn//Kh0fgv4ykCq9dWNy/",
          "dtype": "f8"
         },
         "y": {
          "bdata": "4FIJbSY15b/oDPuz4+Djv/HG7PqgjOK/gnDfzUiW4b+KKtEUBkLgv0Yca13W7tu/",
          "dtype": "f8"
         },
         "z": {
          "bdata": "LmWodo9G1z8AMtvX6JnbP9H+DTlC7d8/+YjsQie52z/lqg9SQAbgP2JWmIffFeA/",
          "dtype": "f8"
         }
        },
        {
         "type": "mesh3d",
         "x": {
          "bdata": "wu85ENJ92r8qx7BlVbPgv3SWRMPBJ+S/gLlJCder3L8JrDjiV8rhvz2DWQLc2d6/",
          "dtype": "f8"
         },
         "y": {
          "bdata": "OgsclTlKwz98sf81tEHHP71X49YuOcs/QvvKXi6F0D9izjyv64DSP+bwB/M/Zdc/",
          "dtype": "f8"
         },
         "z": {
          "bdata": "BC0U+7dl4j99B4HZgv7jP/bh7bdNl+U/sPQ4iqj/4T8pz6Voc5jjP1y8XRmZmeE/",
          "dtype": "f8"
         }
        },
        {
         "type": "mesh3d",
         "x": {
          "bdata": "GxFddMME6b/6fmsZ0rPlv9rseb7gYuK/yvsNKzJ85r+paRzQQCvjv3jmvuGg8+O/",
          "dtype": "f8"
         },
         "y": {
          "bdata": "cZlf46Dz478xMCbvIEDjv/HG7PqgjOK/gHyELDJ85r9AE0s4ssjlv49fqXXDBOm/",
          "dtype": "f8"
         },
         "z": {
          "bdata": "udB3AwKM4z9uUNE0PL/hP0WgVczs5N8/cIXEjl0C4D9KCjyAL2vcP090IjRy8dg/",
          "dtype": "f8"
         }
        },
        {
         "type": "mesh3d",
         "x": {
          "bdata": "eOa+4aDz47+paRzQQCvjv9rseb7gYuK/2uTQZDtb4L8W0FymtiXfv3nGxc+rhdm/",
          "dtype": "f8"
         },
         "y": {
          "bdata": "j1+pdcME6b9AE0s4ssjlv/HG7PqgjOK/OFlZ8fQc57/oDPuz4+Djv+BSCW0mNeW/",
          "dtype": "f8"
         },
         "z": {
          "bdata": "ObODVzP92D8fL6EcC27cPwWrvuHi3t8/JiZoAPca2D8MooXFzovbPxKZTKm6ONc/",
          "dtype": "f8"
         }
        },
        {
         "type": "mesh3d",
         "x": {
          "bdata": "ecbFz6uF2b838IrBTifTv+ozoGbjkcm/UiCWf+J71b8flLbiCjvOvyp6Zi8ZctG/",
          "dtype": "f8"
         },
         "y": {
          "bdata": "4FIJbSY15b+Ob4L/LDPlvz2M+5EzMeW/3kJgXfpZ57+MX9nvAFjnv9syt03Ofum/",
          "dtype": "f8"
         },
         "z": {
          "bdata": "bFIKLhwX1z+U4pi34y3VP7xyJ0GrRNM/beBOSbOh0j+VcN3SerjQP9zcJsmUWMw/",
          "dtype": "f8"
         }
        },
        {
         "type": "mesh3d",
         "x": {
          "bdata": "t80GNTqU0L+49p4/CNvSv7ofN0rWIdW/8l+quNVvx7/1sdrNcf3Lv+1Ijg5ubru/",
          "dtype": "f8"
         },
         "y": {
          "bdata": "c/odDkjL0z+CIKyRD0LaP0kjnYprXOA/PhDjLg2j2D9NNnGy1BnfPwgmqE/Set0/",
          "dtype": "f8"
         },
         "z": {
          "bdata": "vGGj2SP+3j9C2rVl5gfdP8dSyPGoEds/tk/z95E73D87yAWEVEXaP689QxYAedk/",
          "dtype": "f8"
         }
        },
        {
         "type": "mesh3d",
         "x": {
          "bdata": "7UiODm5uu78QAPGKZs7Cv6nbmg6W5ce/wJUTcV6RpL8Tgt0/Dne0v7LM6nU+dJs/",
          "dtype": "f8"
         },
         "y": {
          "bdata": "CCaoT9J63T/vKZhwBaThP9pAXLmhiuQ/r2KQQF0j4T+aeVSJ+QnkP1qyTFlRieM/",
          "dtype": "f8"
         },
         "z": {
          "bdata": "AEFNg3py2T8S71F1U53WPySdVmcsyNM/GDRYvGW61j8q4lyuPuXTPzAnY/VQAtQ/",
          "dtype": "f8"
         }
        },
        {
         "type": "mesh3d",
         "x": {
          "bdata": "oqoMHJTstr99mFAO8K3Bv6nbmg6W5ce/dveRfoQPoL8Tgt0/Dne0v7LM6nU+dJs/",
          "dtype": "f8"
         },
         "y": {
          "bdata": "mMdNZ6Ju6T85BFUQovzmP9pAXLmhiuQ/+TxN4Pl75j+aeVSJ+QnkP1qyTFlRieM/",
          "dtype": "f8"
         },
         "z": {
          "bdata": "UUMuXDX/xz/gdc8NvsDPPzhUuF8jwdM/zfTchf0B0D8Vjq3eweLTP/LHol1gBNQ/",
          "dtype": "f8"
         }
        },
        {
         "type": "mesh3d",
         "x": {
          "bdata": "YMkqjWJbuz+gKeGOT+DHP0h3lut2CdE/Rr5SFTkcsT8TJPXSusDCP7LM6nU+dJs/",
          "dtype": "f8"
         },
         "y": {
          "bdata": "Yhp4+VK42j8m5+AAzEbfP/XZJISi6uE/xl8Ea71y4D8oxrju+bniP1qyTFlRieM/",
          "dtype": "f8"
         },
         "z": {
          "bdata": "gTh4eL7H2j9y7c+SMoHZP2SiJ62mOtg/kQqADRpz1z+Cv9cnjizWP6Hch6J1HtQ/",
          "dtype": "f8"
         }
        },
        {
         "type": "mesh3d",
         "x": {
          "bdata": "7MYc+yko6D9x/RdvzOjkP/YzE+NuqeE/pQdvmY5r5z8qPmoNMSzkP15IwTfzruY/",
          "dtype": "f8"
         },
         "y": {
          "bdata": "Am+vet3n0D8892StszvSP3V/GuCJj9M/p5zerNKP1j/gJJTfqOPXP0zKDd/HN9w/",
          "dtype": "f8"
         },
         "z": {
          "bdata": "QXsgNgcC6D+eLqcTbLblP/zhLfHQauM/zE8VF9WC5j8pA5z0OTfkP1YkCviiA+U/",
          "dtype": "f8"
         }
        },
        {
         "type": "mesh3d",
         "x": {
          "bdata": "SiV1y0CTwT/5w6tpO4LEP6hi4gc2ccc/5hNKCJV/rD9RR5LAvx20P7nagDqym5q/",
          "dtype": "f8"
         },
         "y": {
          "bdata": "xHuKHgtr2L8VCTL1nNnevzPL7GUXpOK/v+21cBrO3r+Iva4jVp7iv92vcOGUmOK/",
          "dtype": "f8"
         },
         "z": {
          "bdata": "ZzT5jE3V2z+nt8CHlAnZP+c6iILbPdY/gERhXEmR2D/AxyhXkMXVP5pUyStFTdU/",
          "dtype": "f8"
         }
        },
        {
         "type": "mesh3d",
         "x": {
          "bdata": "jKQKr11Y3L+H/AHneKfhv8imfvbCIuW/s+CE7wZs3r+aGj+HTbHiv22O/xfYP+C/",
          "dtype": "f8"
         },
         "y": {
          "bdata": "RhxrXdbu2788MDt79rfbvzJEC5kWgdu/ctkmCLOs1b9o7fYl03XVvz0txWUf1c6/",
          "dtype": "f8"
         },
         "z": {
          "bdata": "/Dtopl8j4D+bcF7uKBLiPzqlVDbyAOQ/no3TXPGs4T89wsmkupvjP0DfPhODNuM/",
          "dtype": "f8"
         }
        },
        {
         "type": "mesh3d",
         "x": {
          "bdata": "sszqdT50mz9drjv/rF67P8dUfjAl8Mc/EyT10rrAwj+sodWDiQHNP0h3lut2CdE/",
          "dtype": "f8"
         },
         "y": {
          "bdata": "WrJMWVGJ4z+5lHfkdiTmPxh3om+cv+g/KMa47vm54j+GqON5H1XlP/XZJISi6uE/",
          "dtype": "f8"
         },
         "z": {
          "bdata": "T6Sqn1n80z+jT9YR3//QP+/1AwjJBsw/uhVgiHoP1j8OwYv6/xLTPySHFXGbItg/",
          "dtype": "f8"
         }
        },
        {
         "type": "mesh3d",
         "x": {
          "bdata": "NNSYuuWE6T8UpFGt1qjmP/RzCqDHzOM/486KvBTF6D/DnkOvBenlP5LJfL5DBeg/",
          "dtype": "f8"
         },
         "y": {
          "bdata": "Jrq1fGnOtb+QduORaYi7v32ZiNM0ocC/+hSRs+uJxr8u8ye+62bJv3CmY1RRFtG/",
          "dtype": "f8"
         },
         "z": {
          "bdata": "Ny83DRDz6T+4MOfRVOnnPzoyl5aZ3+U/K2SX12Lk6D+sZUecp9rmPx+Z96G11ec/",
          "dtype": "f8"
         }
        },
        {
         "type": "mesh3d",
         "x": {
          "bdata": "XkjBN/Ou5j8IFR1jRcLjP7LheI6X1eA/Kj5qDTEs5D/UCsY4gz/hP/YzE+NuqeE/",
          "dtype": "f8"
         },
         "y": {
          "bdata": "TMoN38c33D8jgS6VRLfeP/2bp6Vgm+A/4CSU36jj1z+427SVJWPaP3V/GuCJj9M/",
          "dtype": "f8"
         },
         "z": {
          "bdata": "BAMfYGX95D+eitQRrZHiPzkSisP0JeA/+FTuBCI05D+S3KO2acjhP+ymvaneauM/",
          "dtype": "f8"
         }
        },
        {
         "type": "mesh3d",
         "x": {
          "bdata": "HUN/qbzU7D++RaDw18HpP15IwTfzruY/HCruDsDs6j+8LA9W29nnPxsRXXTDBOk/",
          "dtype": "f8"
         },
         "y": {
          "bdata": "jLatTsDE2z9swN0WRP7bP0zKDd/HN9w/XDpbhQDr4D9MP3NpwgfhP3GZX+Og8+M/",
          "dtype": "f8"
         },
         "z": {
          "bdata": "1+j7Fxfw6T/Ab2DqcHrnP6j2xLzKBOU/s6KnBKjG5j+cKQzXAVHkP49cU/E4neM/",
          "dtype": "f8"
         }
        },
        {
         "type": "mesh3d",
         "x": {
          "bdata": "jLatTsDE2z+KAyBJ/mrcP4dQkkM8Ed0/XDpbhQDr4D/aYJSCHz7hP3GZX+Og8+M/",
          "dtype": "f8"
         },
         "y": {
          "bdata": "HUN/qbzU7L+c84NhIQ/qvxykiBmGSee/HCruDsDs6r+c2vLGJCfovxsRXXTDBOm/",
          "dtype": "f8"
         },
         "z": {
          "bdata": "QozzO1oryD+w08sIIs7QPz7hnfOWhtU/25E5W1p20j9qnwtGzy7XP5VdeZgH19g/",
          "dtype": "f8"
         }
        },
        {
         "type": "mesh3d",
         "x": {
          "bdata": "HUN/qbzU7D++RaDw18HpP15IwTfzruY/BAVOUnN+6j+lB2+ZjmvnP+zGHPspKOg/",
          "dtype": "f8"
         },
         "y": {
          "bdata": "jLatTsDE2z9swN0WRP7bP0zKDd/HN9w/x5Ku5E5W1j+nnN6s0o/WPwJvr3rd59A/",
          "dtype": "f8"
         },
         "z": {
          "bdata": "rRMVaGP96T/ZW1b1kILnPwWkl4K+B+U/Cm/DYX0B6T82twTvqobmP2jKcVuXBeg/",
          "dtype": "f8"
         }
        },
        {
         "type": "mesh3d",
         "x": {
          "bdata": "jLatTsDE2z+KAyBJ/mrcP4dQkkM8Ed0/8mhpqvPW1j/vtdukMX3XP1cbJQYn6dE/",
          "dtype": "f8"
         },
         "y": {
          "bdata": "HUN/qbzU7L+c84NhIQ/qvxykiBmGSee/mnWTRwah6r8aJpj/atvnvxiop+VPbei/",
          "dtype": "f8"
         },
         "z": {
          "bdata": "Jwom/PkXyD8BfwK3BbzQP+/48W8ObNU/ZLSzRsDHyz8gVEnc6JPSP6FeQZGGd88/",
          "dtype": "f8"
         }
        },
        {
         "type": "mesh3d",
         "x": {
          "bdata": "AAAAAAAA8D+FmIlGg0ztPwoxE40Gmeo/ioajAk6Z7z8QHy1J0eXsPxUNRwWcMu8/",
          "dtype": "f8"
         },
         "y": {
          "bdata": "AAAAAAAAAAB6yn6g3ICoP3rKfqDcgLg/MUg75JB7vD+3Vj2a/13EPzFIO+SQe8w/",
          "dtype": "f8"
         },
         "z": {
          "bdata": "gWeb5dj57z82V4Fn+XftP+xGZ+kZ9uo/3qOnLHwy7z+Uk42unLDsPzvgs3Mfa+4/",
          "dtype": "f8"
         }
        },
        {
         "type": "mesh3d",
         "x": {
          "bdata": "AAAAAAAAAABMVOVc8vqnP0xU5Vzy+rc/MUg75JB7vD8s+VYJhTzEPzFIO+SQe8w/",
          "dtype": "f8"
         },
         "y": {
          "bdata": "AAAAAAAA8L+synOQfonsv1iV5yD9Eum/ioajAk6Z7782UReTzCLsvxUNRwWcMu+/",
          "dtype": "f8"
         },
         "z": {
          "bdata": "FesFLvC9UD/7zh7rml65PyXDwgofPck/Ucc4JXjImT8j6bQzwY2/P/iXyKOIQqk/",
          "dtype": "f8"
         }
        },
        {
         "type": "mesh3d",
         "x": {
          "bdata": "FQ1HBZwy7z8QHy1J0eXsPwoxE40Gmeo/AOoxAGOt6z/7+xdEmGDpP+zGHPspKOg/",
          "dtype": "f8"
         },
         "y": {
          "bdata": "MUg75JB7zD+3Vj2a/13EP3rKfqDcgLg/GhPN7KUlzz+gIc+iFAjHPwJvr3rd59A/",
          "dtype": "f8"
         },
         "z": {
          "bdata": "me93Aj9m7j9oewRreLDsPzcHkdOx+uo/FIhiQp886z/kE++q2IbpP5AgTYL/Eug/",
          "dtype": "f8"
         }
        },
        {
         "type": "mesh3d",
         "x": {
          "bdata": "cZlf46Dz4z/u7Q0+UwvjP2pCvJgFI+I/gHyELDJ85j/80DKH5JPlP49fqXXDBOk/",
          "dtype": "f8"
         },
         "y": {
          "bdata": "GxFddMME6b+JqD7cvC7mv/c/IES2WOO/yvsNKzJ85r84k++SK6bjv3jmvuGg8+O/",
          "dtype": "f8"
         },
         "z": {
          "bdata": "Gz9onkHz2D8SVAsYALbbPwhprpG+eN4/cPWcAxr/3z8zBaA+7GDhP+LVaDR5heM/",
          "dtype": "f8"
         }
        },
        {
         "type": "mesh3d",
         "x": {
          "bdata": "MUg75JB7zD8s+VYJhTzEP0xU5Vzy+rc/uF8hvHcT0D9qcF6d4+fHP1cbJQYn6dE/",
          "dtype": "f8"
         },
         "y": {
          "bdata": "FQ1HBZwy7782UReTzCLsv1iV5yD9Eum/llp39fXP67+4nkeDJsDovxiop+VPbei/",
          "dtype": "f8"
         },
         "z": {
          "bdata": "DWvKh7SYqT+orEXdGYm/P+URU7vsIsk/Dwo0iszswj+gReRWLEvMP1p5dfJrc88/",
          "dtype": "f8"
         }
        },
        {
         "type": "mesh3d",
         "x": {
          "bdata": "AAAAAAAA8L8aufIF9EHtvzVy5Qvog+q/ioajAk6Z77+lP5YIQtvsvxUNRwWcMu+/",
          "dtype": "f8"
         },
         "y": {
          "bdata": "AAAAAAAAAACirhgZMDulv6KuGBkwO7W/MUg75JB7vL/Bz2N4lIzDvzFIO+SQe8y/",
          "dtype": "f8"
         },
         "z": {
          "bdata": "goAwSPT47z+ewP7S7WrtP7kAzV3n3Oo/TcX7dWky7z9oBcoAY6TsPxgKx6Pea+4/",
          "dtype": "f8"
         }
        },
        {
         "type": "mesh3d",
         "x": {
          "bdata": "FQ1HBZwy77+lP5YIQtvsvzVy5Qvog+q/AOoxAGOt67+QHIEDCVbpv+zGHPspKOi/",
          "dtype": "f8"
         },
         "y": {
          "bdata": "MUg75JB7zL/Bz2N4lIzDv6KuGBkwO7W/GhPN7KUlz7+qmvWAqTbGvwJvr3rd59C/",
          "dtype": "f8"
         },
         "z": {
          "bdata": "pWxT2/xm7j82lrrhgaTsP8a/IegG4uo/EcArODZB6z+i6ZI+u37pP30TBJVvG+g/",
          "dtype": "f8"
         }
        },
        {
         "type": "mesh3d",
         "x": {
          "bdata": "j1+pdcME6T/80DKH5JPlP2pCvJgFI+I/NBn3IUV05z+iioAzZgPkP9nSRM7G4+U/",
          "dtype": "f8"
         },
         "y": {
          "bdata": "eOa+4aDz4784k++SK6bjv/c/IES2WOO/zs1/ATIS4b+OerCyvMTgv0lqgUKGYdy/",
          "dtype": "f8"
         },
         "z": {
          "bdata": "YZDxjRmC4z/ZaBIj/l7hP6GCZnDFd94/6XTAyuvf4z9hTeFf0LzhP3FZjwe+PeQ/",
          "dtype": "f8"
         }
        },
        {
         "type": "mesh3d",
         "x": {
          "bdata": "cZlf46Dz47/jellEbQbjv1VcU6U5GeK/1S2JX9eH4L+OHgaBRzXfv3OEZbcbONq/",
          "dtype": "f8"
         },
         "y": {
          "bdata": "GxFddMME6T+0pdaawLLlP0w6UMG9YOI/rAfoXLem5z9EnGGDtFTkPzz+ckWrSOY/",
          "dtype": "f8"
         },
         "z": {
          "bdata": "3xWoYprj2D+EOOOhaEPcPyhbHuE2o98/Ol4wHSBh1z/egGtc7sDaP5SmuNel3tU/",
          "dtype": "f8"
         }
        },
        {
         "type": "mesh3d",
         "x": {
          "bdata": "MUg75JB7zL/whMOydVrPv9fgpUCtHNG/Uq1lYEQB1b+yy6nHtnDWv4y2rU7AxNu/",
          "dtype": "f8"
         },
         "y": {
          "bdata": "FQ1HBZwy7z/Nl//lmmvsP4UiuMaZpOk/GShjV6wD7j/Rshs4qzzrPx1Df6m81Ow/",
          "dtype": "f8"
         },
         "z": {
          "bdata": "kNVLI5h8qT9PTZKrgsbAPzqlUU7fLcs/yCGI+8huvj/PaIMgwZ7JP2QstfKiD8g/",
          "dtype": "f8"
         }
        },
        {
         "type": "mesh3d",
         "x": {
          "bdata": "L/EZTMDE27+sNcC9bJvWvyp6Zi8ZctG/GEFsXkQB1b8sCyWg4a/PvwMifeGQe8y/",
          "dtype": "f8"
         },
         "y": {
          "bdata": "ayAeqrzU7L+jqep7xSnrv9syt03Ofum/Gp/GV6wD7r9SKJMptVjsv8kdbwWcMu+/",
          "dtype": "f8"
         },
         "z": {
          "bdata": "f70JS9z0xz/uIAEsuRDKP12E+AyWLMw/7s3hHeGFvj9mSuhvzV7BP7xBYEsTRKo/",
          "dtype": "f8"
         }
        },
        {
         "type": "mesh3d",
         "x": {
          "bdata": "ayAeqrzU7D/+dE00AG3qP5LJfL5DBeg/Gp/GV6wD7j+u8/Xh75vrP8kdbwWcMu8/",
          "dtype": "f8"
         },
         "y": {
          "bdata": "L/EZTMDE27/Qyz7QiG3Wv3CmY1RRFtG/GEFsXkQB1b9yNyLFGVTPvwMifeGQe8y/",
          "dtype": "f8"
         },
         "z": {
          "bdata": "ln2yI8YE6j+ok0CGzPToP7mpzujS5Oc/B1ouO7wu7D8YcLydwh7rP3g2qlKyWO4/",
          "dtype": "f8"
         }
        },
        {
         "type": "mesh3d",
         "x": {
          "bdata": "L/EZTMDE27+sNcC9bJvWvyp6Zi8ZctG/1NvvDTal2r9SIJZ/4nvVv3nGxc+rhdm/",
          "dtype": "f8"
         },
         "y": {
          "bdata": "ayAeqrzU7L+jqep7xSnrv9syt03Ofum/prmTi/EE6b/eQmBd+lnnv+BSCW0mNeW/",
          "dtype": "f8"
         },
         "z": {
          "bdata": "D/hd9/lRyD8UGFcb5F7KPxo4UD/Oa8w/fhGX3Xuc0T+AoZPv8KLSP/Qmf7/6D9c/",
          "dtype": "f8"
         }
        },
        {
         "type": "mesh3d",
         "x": {
          "bdata": "ayAeqrzU7D/+dE00AG3qP5LJfL5DBeg/onkxvEFc6T82zmBGhfTmP9nSRM7G4+U/",
          "dtype": "f8"
         },
         "y": {
          "bdata": "L/EZTMDE27/Qyz7QiG3Wv3CmY1RRFtG/vK1NRyMT3L9ciHLL67vWv0lqgUKGYdy/",
          "dtype": "f8"
         },
         "z": {
          "bdata": "YrYpJiDr6T/bunkwCN3oP1S/yTrwzuc/+j5oifMh5z9zQ7iT2xPmP5LHpuzGWOQ/",
          "dtype": "f8"
         }
        },
        {
         "type": "mesh3d",
         "x": {
          "bdata": "jLatTsDE27+yy6nHtnDWv9fgpUCtHNG/gJ0JA27+2r+lsgV8ZKrVv3OEZbcbONq/",
          "dtype": "f8"
         },
         "y": {
          "bdata": "HUN/qbzU7D/Rshs4qzzrP4UiuMaZpOk/rCB597OO6T9gkBWGovbnPzz+ckWrSOY/",
          "dtype": "f8"
         },
         "z": {
          "bdata": "1dkulZEFyD90XI7yMKHJPxTf7U/QPMs/5goX9evZ0D82zMaju6fRP+Golh8PsdU/",
          "dtype": "f8"
         }
        },
        {
         "type": "mesh3d",
         "x": {
          "bdata": "cZlf46Dz47/jellEbQbjv1VcU6U5GeK/gHyELDJ85r/yXX6N/o7lv49fqXXDBOm/",
          "dtype": "f8"
         },
         "y": {
          "bdata": "GxFddMME6T+0pdaawLLlP0w6UMG9YOI/yvsNKzJ85j9ikIdRLyrjP3jmvuGg8+M/",
          "dtype": "f8"
         },
         "z": {
          "bdata": "ZUtVyono2D/AuX6zzUbcPxooqJwRpd8/egJ4dCn73z9quNCutqzhP8hcTY/khuM/",
          "dtype": "f8"
         }
        },
        {
         "type": "mesh3d",
         "x": {
          "bdata": "AAAAAAAA8D+FmIlGg0ztPwoxE40Gmeo/GmpM3XLC7D+fAtYj9g7qPzTUmLrlhOk/",
          "dtype": "f8"
         },
         "y": {
          "bdata": "AAAAAAAAAAB6yn6g3ICoP3rKfqDcgLg/Jrq1fGnOpb+ggkgemZN1Pya6tXxpzrW/",
          "dtype": "f8"
         },
         "z": {
          "bdata": "XB4p8kjp7z/IFTFPGWztPzUNOazp7uo/t5QzTOD57D8kjDupsHzqPxILPqZ3Cuo/",
          "dtype": "f8"
         }
        },
        {
         "type": "mesh3d",
         "x": {
          "bdata": "AAAAAAAAAABMVOVc8vqnP0xU5Vzy+rc/nJLPNI/1qL8Aykf9mlNfv5ySzzSP9bi/",
          "dtype": "f8"
         },
         "y": {
          "bdata": "AAAAAAAA8L+synOQfonsv1iV5yD9Eum/6qeQSavK7L+WcgTaKVTpv9RPIZNWlem/",
          "dtype": "f8"
         },
         "z": {
          "bdata": "X/JXEetHaD9pnUCfEb65P6A9+/LxXMk/lHZYgw5puD82KgdlcLLIP8sWE9fuB8g/",
          "dtype": "f8"
         }
        },
        {
         "type": "mesh3d",
         "x": {
          "bdata": "MUg75JB7zL/whMOydVrPv9fgpUCtHNG/wc4gee34w7+AC6lH0tfGv6KqDByU7La/",
          "dtype": "f8"
         },
         "y": {
          "bdata": "FQ1HBZwy7z/Nl//lmmvsP4UiuMaZpOk/VmpKNp9Q7D8O9QIXnonpP5jHTWeibuk/",
          "dtype": "f8"
         },
         "z": {
          "bdata": "JwpFyXeHqT//MGg0zbzAP3Uff3a8F8s/wP/74osvvj9W7pQztXLJPza9qvCtzcc/",
          "dtype": "f8"
         }
        },
        {
         "type": "mesh3d",
         "x": {
          "bdata": "yR1vBZwy7z+u8/Xh75vrP5LJfL5DBeg//vgD4MBb7D/jzoq8FMXoPzTUmLrlhOk/",
          "dtype": "f8"
         },
         "y": {
          "bdata": "AyJ94ZB7zL9yNyLFGVTPv3CmY1RRFtG/i//rz2Kxw7/6FJGz64nGvya6tXxpzrW/",
          "dtype": "f8"
         },
         "z": {
          "bdata": "tLsXSc5M7j+Mx3yz9RrrP2PT4R0d6ec/qOkfY9Yl7D9/9YTN/fPoP5sXKH3e/uk/",
          "dtype": "f8"
         }
        },
        {
         "type": "mesh3d",
         "x": {
          "bdata": "AyJ94ZB7zL8sCyWg4a/Pvyp6Zi8ZctG/qHXyPSx7xL/RXpr8fK/Hv5ySzzSP9bi/",
          "dtype": "f8"
         },
         "y": {
          "bdata": "yR1vBZwy779SKJMptVjsv9syt03Ofum/zjZITPlj7L9YQWxwEorpv9RPIZNWlem/",
          "dtype": "f8"
         },
         "z": {
          "bdata": "OzlD1v/6qj/GT1LmrHLBPz7RE9eZJsw//cTxmDoAvz/2Yzo9CjTKP672YKN6Qcg/",
          "dtype": "f8"
         }
        },
        {
         "type": "mesh3d",
         "x": {
          "bdata": "AAAAAAAA8L8aufIF9EHtvzVy5Qvog+q/M24dh0vO7L9OJxCNPxDqv2bcOg6XnOm/",
          "dtype": "f8"
         },
         "y": {
          "bdata": "AAAAAAAAAACirhgZMDulv6KuGBkwO7W/qXMiZ53jqT8cFCc4taGCP6lzImed47k/",
          "dtype": "f8"
         },
         "z": {
          "bdata": "IGNP9fno7z8ikX38aF/tPyO/qwPY1eo/EAuwVSzz7D8ROd5cm2nqP/+yELZe/ek/",
          "dtype": "f8"
         }
        },
        {
         "type": "mesh3d",
         "x": {
          "bdata": "j1+pdcME6b/yXX6N/o7lv1VcU6U5GeK/AMl/5OCf579ix1T8Gyrkv3AyVlP+Oua/",
          "dtype": "f8"
         },
         "y": {
          "bdata": "eOa+4aDz4z9ikIdRLyrjP0w6UMG9YOI/FWDXyMWk4D/+E0BxqLbfP2Wz31/Vq9o/",
          "dtype": "f8"
         },
         "z": {
          "bdata": "bGKEIt9/4z/qE1NvDqzhP9CKQ3h7sN8/PFWjGnk05D+6BnJnqGDiPw1IwhIT6eQ/",
          "dtype": "f8"
         }
        },
        {
         "type": "mesh3d",
         "x": {
          "bdata": "yR1vBZwy778LDFv+xWbsv036Rvfvmum/GP3UiZln7L9a68CCw5vpv2bcOg6XnOm/",
          "dtype": "f8"
         },
         "y": {
          "bdata": "AyJ94ZB7zD9Iqog3jv7PP0cZysbFwNE/7C2Hyq+2xD8xtpIgrTnIP6lzImed47k/",
          "dtype": "f8"
         },
         "z": {
          "bdata": "B9GkslVQ7j/kaCpF5KXrP8IAsNdy++g/hOD7czEf7D9ieIEGwHTpPwHwUjUN7uk/",
          "dtype": "f8"
         }
        },
        {
         "type": "mesh3d",
         "x": {
          "bdata": "ayAeqrzU7L9cjbJQ1jfrv036Rvfvmum/bim6ft2H6b9elk4l9+rnv3AyVlP+Oua/",
          "dtype": "f8"
         },
         "y": {
          "bdata": "L/EZTMDE2z87BXIJw8LWP0cZysbFwNE/StL81Uo42z9W5lSTTTbWP2Wz31/Vq9o/",
          "dtype": "f8"
         },
         "z": {
          "bdata": "wwNKOc356T92x3zfj3jpPymLr4VS9+g/+WQbTYp55z+sKE7zTPjmPy/G7GBH+eQ/",
          "dtype": "f8"
         }
        },
        {
         "type": "mesh3d",
         "x": {
          "bdata": "ayAeqrzU7L9cjbJQ1jfrv036Rvfvmum/Gp/GV6wD7r8LDFv+xWbsv8kdbwWcMu+/",
          "dtype": "f8"
         },
         "y": {
          "bdata": "L/EZTMDE2z87BXIJw8LWP0cZysbFwNE/GEFsXkQB1T9Iqog3jv7PPwMifeGQe8w/",
          "dtype": "f8"
         },
         "z": {
          "bdata": "o8T80vb96T/w2hhLZnnpPzzxNMPV9Og/dpBEwR0u7D/CpmA5janrP0hcjK9EXu4/",
          "dtype": "f8"
         }
        },
        {
         "type": "mesh3d",
         "x": {
          "bdata": "cDJWU/465r9elk4l9+rnv036Rvfvmum/cmRNC2Ax5b9gyEXdWOHmv3SWRMPBJ+S/",
          "dtype": "f8"
         },
         "y": {
          "bdata": "ZbPfX9Wr2j9W5lSTTTbWP0cZysbFwNE/oq+oZTYk1D8mxTsyXV3PP71X49YuOcs/",
          "dtype": "f8"
         },
         "z": {
          "bdata": "BLiHcEru5D+lgeAY3+3mP0ZLOcFz7eg/gAL5+r9E5T8hzFGjVETnP/xMaoU1m+U/",
          "dtype": "f8"
         }
        },
        {
         "type": "mesh3d",
         "x": {
          "bdata": "gVFPUHgwzr+2wnfbLeHLv+ozoGbjkcm/bLbPS/fBwL9BT/CtWeW8v7nagDqym5q/",
          "dtype": "f8"
         },
         "y": {
          "bdata": "mEfsO8wV378E2PjXDF7ivz2M+5EzMeW/1Gmzf70R4b8NHrY55OTjv92vcOGUmOK/",
          "dtype": "f8"
         },
         "z": {
          "bdata": "CC/rWxcc2j+aQ7v8NrPWPy1Yi51WStM/9b/vV/mz1z+I1L/4GEvUP+JQ9FPbS9U/",
          "dtype": "f8"
         }
        },
        {
         "type": "mesh3d",
         "x": {
          "bdata": "cz584nol1T8oCkgoPHHWP9zVE279vNc/PLH/JDk82j/wfMtq+ofbPwQkg2f3Ut8/",
          "dtype": "f8"
         },
         "y": {
          "bdata": "UiMjFdfD2r/62EZKyzbgv0sg/AmrC+O/VXDICKRs3L98fxnEMQvhv1i9bfxwFd6/",
          "dtype": "f8"
         },
         "z": {
          "bdata": "HghCcP673T9mqSTl+1rbP65KB1r5+dg/0sY2ZMUW3z8aaBnZwrXcP8PCFSzGOOA/",
          "dtype": "f8"
         }
        },
        {
         "type": "mesh3d",
         "x": {
          "bdata": "sGimoEfj3D8m1C64NR/hP/RzCqDHzOM/lJTKbm1U3z8Y6kCfyFfiPzxgd57J4uA/",
          "dtype": "f8"
         },
         "y": {
          "bdata": "mDdhfNXQr79j56AyapW4v32ZiNM0ocC/02WW4b5Xxr+ei86bPq7Kv+A+CjKkXdK/",
          "dtype": "f8"
         },
         "z": {
          "bdata": "GUcC3O5G4z+u27uu8o/kP0NwdYH22OU/W+R/t1c24z/weDmKW3/kP52B/ZLAJeM/",
          "dtype": "f8"
         }
        },
        {
         "type": "mesh3d",
         "x": {
          "bdata": "Ztw6Dpec6b9a68CCw5vpv036Rvfvmum/bbm/aCzi5r9gyEXdWOHmv3SWRMPBJ+S/",
          "dtype": "f8"
         },
         "y": {
          "bdata": "qXMiZ53juT8xtpIgrTnIP0cZysbFwNE/yUg6xX4VxD8mxTsyXV3PP71X49YuOcs/",
          "dtype": "f8"
         },
         "z": {
          "bdata": "Tp/+60bx6T8w47bmrnXpPxInb+EW+ug/zCqPbOjK5z+ubkdnUE/nP0m2H+2JpOU/",
          "dtype": "f8"
         }
        },
        {
         "type": "mesh3d",
         "x": {
          "bdata": "cz584nol1T8oCkgoPHHWP9zVE279vNc/5Lc28wpv0D+YgwI5zLrRP6hi4gc2ccc/",
          "dtype": "f8"
         },
         "y": {
          "bdata": "UiMjFdfD2r/62EZKyzbgv0sg/AmrC+O/bi4/eAED4L+/dfQ34dfivzPL7GUXpOK/",
          "dtype": "f8"
         },
         "z": {
          "bdata": "GIBEfSHD3T95QDBjoljbP9oAHEkj7tg/8mrxFHPz2T9UK93684jXP81VnqzEI9Y/",
          "dtype": "f8"
         }
        },
        {
         "type": "mesh3d",
         "x": {
          "bdata": "cz584nol1T88sf8kOTzaPwQkg2f3Ut8/dn+1D4d12z8feRypIkbgPzxgd57J4uA/",
          "dtype": "f8"
         },
         "y": {
          "bdata": "UiMjFdfD2r9VcMgIpGzcv1i9bfxwFd6/GbGWo72Q1r8c/juXijnYv+A+CjKkXdK/",
          "dtype": "f8"
         },
         "z": {
          "bdata": "BR32eQXT3T9MOooLLSzfP8orj06qQuA/NeFf5Y/74D/Y7ymuI6jhP+ezxA2dDeM/",
          "dtype": "f8"
         }
        },
        {
         "type": "mesh3d",
         "x": {
          "bdata": "2dJEzsbj5T9uMgNBocbiPwQkg2f3Ut8/ihleNkhj4z8feRypIkbgPzxgd57J4uA/",
          "dtype": "f8"
         },
         "y": {
          "bdata": "SWqBQoZh3L/Qk3efezvdv1i9bfxwFd6/lNRFOpVf178c/juXijnYv+A+CjKkXdK/",
          "dtype": "f8"
         },
         "z": {
          "bdata": "Q/Tyn4FE5D+2B7mv/UXiPygbf795R+A/TgDbAcGv4z/BE6ERPbHhP1oMw2MAG+M/",
          "dtype": "f8"
         }
        },
        {
         "type": "mesh3d",
         "x": {
          "bdata": "7UiODm5uu78QAPGKZs7Cv6nbmg6W5ce/9bHazXH9y7/HRsKoUIrQv7ofN0rWIdW/",
          "dtype": "f8"
         },
         "y": {
          "bdata": "CCaoT9J63T/vKZhwBaThP9pAXLmhiuQ/TTZxstQZ3z8SsvyhhnPiP0kjnYprXOA/",
          "dtype": "f8"
         },
         "z": {
          "bdata": "6GjA+s592T/J4VdTYLLWP6pa76vx5tM/ff/ctMFD2j9eeHQNU3jXPxKW+W60Cds/",
          "dtype": "f8"
         }
        },
        {
         "type": "mesh3d",
         "x": {
          "bdata": "cZlf46Dz4z/u7Q0+UwvjP2pCvJgFI+I/2mCUgh8+4T9XtULd0VXgP4dQkkM8Ed0/",
          "dtype": "f8"
         },
         "y": {
          "bdata": "GxFddMME6b+JqD7cvC7mv/c/IES2WOO/nNryxiQn6L8KctQuHlHlvxykiBmGSee/",
          "dtype": "f8"
         },
         "z": {
          "bdata": "F58LAVXN2D92uswtVpDbP9TVjVpXU94//+bQaiov1z9eApKXK/LZP+cultT/kNU/",
          "dtype": "f8"
         }
        },
        {
         "type": "mesh3d",
         "x": {
          "bdata": "jKQKr11Y3L+H/AHneKfhv8imfvbCIuW/kJ//yodH4L/RSXza0cLjv9rseb7gYuK/",
          "dtype": "f8"
         },
         "y": {
          "bdata": "RhxrXdbu2788MDt79rfbvzJEC5kWgdu/iirRFAZC4L+FNLkjlibgv/HG7PqgjOK/",
          "dtype": "f8"
         },
         "z": {
          "bdata": "fXgvZjEU4D+APOHrRgfiP4MAk3Fc+uM/uZgFzoMF4D+8XLdTmfjhP+txt2us7d8/",
          "dtype": "f8"
         }
        },
        {
         "type": "mesh3d",
         "x": {
          "bdata": "oqoMHJTstr99mFAO8K3Bv6nbmg6W5ce/gAupR9LXxr+sTvNHeA/Nv9fgpUCtHNG/",
          "dtype": "f8"
         },
         "y": {
          "bdata": "mMdNZ6Ju6T85BFUQovzmP9pAXLmhiuQ/DvUCF56J6T+wMQrAnRfnP4UiuMaZpOk/",
          "dtype": "f8"
         },
         "z": {
          "bdata": "7t/LTxEQyD+JOHg6VsHPP5JIkpJNudM/khJjtnO0yT+WtYdQ3LLQPzZF+hzWWMs/",
          "dtype": "f8"
         }
        },
        {
         "type": "mesh3d",
         "x": {
          "bdata": "VxslBifp0T+aeBw6EtPUP9zVE279vNc/q0wWCsKhzT+YgwI5zLrRP6hi4gc2ccc/",
          "dtype": "f8"
         },
         "y": {
          "bdata": "GKin5U9t6L8y5NF3fbzlv0sg/AmrC+O/pjnKpbOI5b+/dfQ34dfivzPL7GUXpOK/",
          "dtype": "f8"
         },
         "z": {
          "bdata": "V1LRWc+/zz/Ubp0IyGLUP300UmSo5dg/7igi5a4B0z+X7tZAj4TXP7GoWx12I9Y/",
          "dtype": "f8"
         }
        },
        {
         "type": "mesh3d",
         "x": {
          "bdata": "nJLPNI/1uL+c/oOAVQbDv+ozoGbjkcm/0V6a/Hyvx78flLbiCjvOvyp6Zi8ZctG/",
          "dtype": "f8"
         },
         "y": {
          "bdata": "1E8hk1aV6b8Ibo4SRWPnvz2M+5EzMeW/WEFscBKK6b+MX9nvAFjnv9syt03Ofum/",
          "dtype": "f8"
         },
         "z": {
          "bdata": "q/8DPD4nyD9cbEF4vFrPP4ZsP1odR9M/Kq+BYzc1yj/tjd/PWrTQP6he/4owQ8w/",
          "dtype": "f8"
         }
        },
        {
         "type": "mesh3d",
         "x": {
          "bdata": "VxslBifp0T+aeBw6EtPUP9zVE279vNc/77XbpDF91z8yE9PYHGfaP4dQkkM8Ed0/",
          "dtype": "f8"
         },
         "y": {
          "bdata": "GKin5U9t6L8y5NF3fbzlv0sg/AmrC+O/GiaY/2rb5780YsKRmCrlvxykiBmGSee/",
          "dtype": "f8"
         },
         "z": {
          "bdata": "MpXZXErAzz+sjFlpYV/UP8BORqSd3tg/NL47nwGv0j9IgCjaPS7XP8+xChDefdU/",
          "dtype": "f8"
         }
        },
        {
         "type": "mesh3d",
         "x": {
          "bdata": "2dJEzsbj5T9uMgNBocbiPwQkg2f3Ut8/ooqAM2YD5D826j6mQObgP2pCvJgFI+I/",
          "dtype": "f8"
         },
         "y": {
          "bdata": "SWqBQoZh3L/Qk3efezvdv1i9bfxwFd6/jnqwsrzE4L9SjythtzHhv/c/IES2WOO/",
          "dtype": "f8"
         },
         "z": {
          "bdata": "aAom18s85D8snCKJqDviP/AtHzuFOuA/68PTFy284T9eq6CTE3bfP9z6ArEcd94/",
          "dtype": "f8"
         }
        }
       ],
       "layout": {
        "template": {
         "data": {
          "bar": [
           {
            "error_x": {
             "color": "#2a3f5f"
            },
            "error_y": {
             "color": "#2a3f5f"
            },
            "marker": {
             "line": {
              "color": "#E5ECF6",
              "width": 0.5
             },
             "pattern": {
              "fillmode": "overlay",
              "size": 10,
              "solidity": 0.2
             }
            },
            "type": "bar"
           }
          ],
          "barpolar": [
           {
            "marker": {
             "line": {
              "color": "#E5ECF6",
              "width": 0.5
             },
             "pattern": {
              "fillmode": "overlay",
              "size": 10,
              "solidity": 0.2
             }
            },
            "type": "barpolar"
           }
          ],
          "carpet": [
           {
            "aaxis": {
             "endlinecolor": "#2a3f5f",
             "gridcolor": "white",
             "linecolor": "white",
             "minorgridcolor": "white",
             "startlinecolor": "#2a3f5f"
            },
            "baxis": {
             "endlinecolor": "#2a3f5f",
             "gridcolor": "white",
             "linecolor": "white",
             "minorgridcolor": "white",
             "startlinecolor": "#2a3f5f"
            },
            "type": "carpet"
           }
          ],
          "choropleth": [
           {
            "colorbar": {
             "outlinewidth": 0,
             "ticks": ""
            },
            "type": "choropleth"
           }
          ],
          "contour": [
           {
            "colorbar": {
             "outlinewidth": 0,
             "ticks": ""
            },
            "colorscale": [
             [
              0,
              "#0d0887"
             ],
             [
              0.1111111111111111,
              "#46039f"
             ],
             [
              0.2222222222222222,
              "#7201a8"
             ],
             [
              0.3333333333333333,
              "#9c179e"
             ],
             [
              0.4444444444444444,
              "#bd3786"
             ],
             [
              0.5555555555555556,
              "#d8576b"
             ],
             [
              0.6666666666666666,
              "#ed7953"
             ],
             [
              0.7777777777777778,
              "#fb9f3a"
             ],
             [
              0.8888888888888888,
              "#fdca26"
             ],
             [
              1,
              "#f0f921"
             ]
            ],
            "type": "contour"
           }
          ],
          "contourcarpet": [
           {
            "colorbar": {
             "outlinewidth": 0,
             "ticks": ""
            },
            "type": "contourcarpet"
           }
          ],
          "heatmap": [
           {
            "colorbar": {
             "outlinewidth": 0,
             "ticks": ""
            },
            "colorscale": [
             [
              0,
              "#0d0887"
             ],
             [
              0.1111111111111111,
              "#46039f"
             ],
             [
              0.2222222222222222,
              "#7201a8"
             ],
             [
              0.3333333333333333,
              "#9c179e"
             ],
             [
              0.4444444444444444,
              "#bd3786"
             ],
             [
              0.5555555555555556,
              "#d8576b"
             ],
             [
              0.6666666666666666,
              "#ed7953"
             ],
             [
              0.7777777777777778,
              "#fb9f3a"
             ],
             [
              0.8888888888888888,
              "#fdca26"
             ],
             [
              1,
              "#f0f921"
             ]
            ],
            "type": "heatmap"
           }
          ],
          "histogram": [
           {
            "marker": {
             "pattern": {
              "fillmode": "overlay",
              "size": 10,
              "solidity": 0.2
             }
            },
            "type": "histogram"
           }
          ],
          "histogram2d": [
           {
            "colorbar": {
             "outlinewidth": 0,
             "ticks": ""
            },
            "colorscale": [
             [
              0,
              "#0d0887"
             ],
             [
              0.1111111111111111,
              "#46039f"
             ],
             [
              0.2222222222222222,
              "#7201a8"
             ],
             [
              0.3333333333333333,
              "#9c179e"
             ],
             [
              0.4444444444444444,
              "#bd3786"
             ],
             [
              0.5555555555555556,
              "#d8576b"
             ],
             [
              0.6666666666666666,
              "#ed7953"
             ],
             [
              0.7777777777777778,
              "#fb9f3a"
             ],
             [
              0.8888888888888888,
              "#fdca26"
             ],
             [
              1,
              "#f0f921"
             ]
            ],
            "type": "histogram2d"
           }
          ],
          "histogram2dcontour": [
           {
            "colorbar": {
             "outlinewidth": 0,
             "ticks": ""
            },
            "colorscale": [
             [
              0,
              "#0d0887"
             ],
             [
              0.1111111111111111,
              "#46039f"
             ],
             [
              0.2222222222222222,
              "#7201a8"
             ],
             [
              0.3333333333333333,
              "#9c179e"
             ],
             [
              0.4444444444444444,
              "#bd3786"
             ],
             [
              0.5555555555555556,
              "#d8576b"
             ],
             [
              0.6666666666666666,
              "#ed7953"
             ],
             [
              0.7777777777777778,
              "#fb9f3a"
             ],
             [
              0.8888888888888888,
              "#fdca26"
             ],
             [
              1,
              "#f0f921"
             ]
            ],
            "type": "histogram2dcontour"
           }
          ],
          "mesh3d": [
           {
            "colorbar": {
             "outlinewidth": 0,
             "ticks": ""
            },
            "type": "mesh3d"
           }
          ],
          "parcoords": [
           {
            "line": {
             "colorbar": {
              "outlinewidth": 0,
              "ticks": ""
             }
            },
            "type": "parcoords"
           }
          ],
          "pie": [
           {
            "automargin": true,
            "type": "pie"
           }
          ],
          "scatter": [
           {
            "fillpattern": {
             "fillmode": "overlay",
             "size": 10,
             "solidity": 0.2
            },
            "type": "scatter"
           }
          ],
          "scatter3d": [
           {
            "line": {
             "colorbar": {
              "outlinewidth": 0,
              "ticks": ""
             }
            },
            "marker": {
             "colorbar": {
              "outlinewidth": 0,
              "ticks": ""
             }
            },
            "type": "scatter3d"
           }
          ],
          "scattercarpet": [
           {
            "marker": {
             "colorbar": {
              "outlinewidth": 0,
              "ticks": ""
             }
            },
            "type": "scattercarpet"
           }
          ],
          "scattergeo": [
           {
            "marker": {
             "colorbar": {
              "outlinewidth": 0,
              "ticks": ""
             }
            },
            "type": "scattergeo"
           }
          ],
          "scattergl": [
           {
            "marker": {
             "colorbar": {
              "outlinewidth": 0,
              "ticks": ""
             }
            },
            "type": "scattergl"
           }
          ],
          "scattermap": [
           {
            "marker": {
             "colorbar": {
              "outlinewidth": 0,
              "ticks": ""
             }
            },
            "type": "scattermap"
           }
          ],
          "scattermapbox": [
           {
            "marker": {
             "colorbar": {
              "outlinewidth": 0,
              "ticks": ""
             }
            },
            "type": "scattermapbox"
           }
          ],
          "scatterpolar": [
           {
            "marker": {
             "colorbar": {
              "outlinewidth": 0,
              "ticks": ""
             }
            },
            "type": "scatterpolar"
           }
          ],
          "scatterpolargl": [
           {
            "marker": {
             "colorbar": {
              "outlinewidth": 0,
              "ticks": ""
             }
            },
            "type": "scatterpolargl"
           }
          ],
          "scatterternary": [
           {
            "marker": {
             "colorbar": {
              "outlinewidth": 0,
              "ticks": ""
             }
            },
            "type": "scatterternary"
           }
          ],
          "surface": [
           {
            "colorbar": {
             "outlinewidth": 0,
             "ticks": ""
            },
            "colorscale": [
             [
              0,
              "#0d0887"
             ],
             [
              0.1111111111111111,
              "#46039f"
             ],
             [
              0.2222222222222222,
              "#7201a8"
             ],
             [
              0.3333333333333333,
              "#9c179e"
             ],
             [
              0.4444444444444444,
              "#bd3786"
             ],
             [
              0.5555555555555556,
              "#d8576b"
             ],
             [
              0.6666666666666666,
              "#ed7953"
             ],
             [
              0.7777777777777778,
              "#fb9f3a"
             ],
             [
              0.8888888888888888,
              "#fdca26"
             ],
             [
              1,
              "#f0f921"
             ]
            ],
            "type": "surface"
           }
          ],
          "table": [
           {
            "cells": {
             "fill": {
              "color": "#EBF0F8"
             },
             "line": {
              "color": "white"
             }
            },
            "header": {
             "fill": {
              "color": "#C8D4E3"
             },
             "line": {
              "color": "white"
             }
            },
            "type": "table"
           }
          ]
         },
         "layout": {
          "annotationdefaults": {
           "arrowcolor": "#2a3f5f",
           "arrowhead": 0,
           "arrowwidth": 1
          },
          "autotypenumbers": "strict",
          "coloraxis": {
           "colorbar": {
            "outlinewidth": 0,
            "ticks": ""
           }
          },
          "colorscale": {
           "diverging": [
            [
             0,
             "#8e0152"
            ],
            [
             0.1,
             "#c51b7d"
            ],
            [
             0.2,
             "#de77ae"
            ],
            [
             0.3,
             "#f1b6da"
            ],
            [
             0.4,
             "#fde0ef"
            ],
            [
             0.5,
             "#f7f7f7"
            ],
            [
             0.6,
             "#e6f5d0"
            ],
            [
             0.7,
             "#b8e186"
            ],
            [
             0.8,
             "#7fbc41"
            ],
            [
             0.9,
             "#4d9221"
            ],
            [
             1,
             "#276419"
            ]
           ],
           "sequential": [
            [
             0,
             "#0d0887"
            ],
            [
             0.1111111111111111,
             "#46039f"
            ],
            [
             0.2222222222222222,
             "#7201a8"
            ],
            [
             0.3333333333333333,
             "#9c179e"
            ],
            [
             0.4444444444444444,
             "#bd3786"
            ],
            [
             0.5555555555555556,
             "#d8576b"
            ],
            [
             0.6666666666666666,
             "#ed7953"
            ],
            [
             0.7777777777777778,
             "#fb9f3a"
            ],
            [
             0.8888888888888888,
             "#fdca26"
            ],
            [
             1,
             "#f0f921"
            ]
           ],
           "sequentialminus": [
            [
             0,
             "#0d0887"
            ],
            [
             0.1111111111111111,
             "#46039f"
            ],
            [
             0.2222222222222222,
             "#7201a8"
            ],
            [
             0.3333333333333333,
             "#9c179e"
            ],
            [
             0.4444444444444444,
             "#bd3786"
            ],
            [
             0.5555555555555556,
             "#d8576b"
            ],
            [
             0.6666666666666666,
             "#ed7953"
            ],
            [
             0.7777777777777778,
             "#fb9f3a"
            ],
            [
             0.8888888888888888,
             "#fdca26"
            ],
            [
             1,
             "#f0f921"
            ]
           ]
          },
          "colorway": [
           "#636efa",
           "#EF553B",
           "#00cc96",
           "#ab63fa",
           "#FFA15A",
           "#19d3f3",
           "#FF6692",
           "#B6E880",
           "#FF97FF",
           "#FECB52"
          ],
          "font": {
           "color": "#2a3f5f"
          },
          "geo": {
           "bgcolor": "white",
           "lakecolor": "white",
           "landcolor": "#E5ECF6",
           "showlakes": true,
           "showland": true,
           "subunitcolor": "white"
          },
          "hoverlabel": {
           "align": "left"
          },
          "hovermode": "closest",
          "mapbox": {
           "style": "light"
          },
          "paper_bgcolor": "white",
          "plot_bgcolor": "#E5ECF6",
          "polar": {
           "angularaxis": {
            "gridcolor": "white",
            "linecolor": "white",
            "ticks": ""
           },
           "bgcolor": "#E5ECF6",
           "radialaxis": {
            "gridcolor": "white",
            "linecolor": "white",
            "ticks": ""
           }
          },
          "scene": {
           "xaxis": {
            "backgroundcolor": "#E5ECF6",
            "gridcolor": "white",
            "gridwidth": 2,
            "linecolor": "white",
            "showbackground": true,
            "ticks": "",
            "zerolinecolor": "white"
           },
           "yaxis": {
            "backgroundcolor": "#E5ECF6",
            "gridcolor": "white",
            "gridwidth": 2,
            "linecolor": "white",
            "showbackground": true,
            "ticks": "",
            "zerolinecolor": "white"
           },
           "zaxis": {
            "backgroundcolor": "#E5ECF6",
            "gridcolor": "white",
            "gridwidth": 2,
            "linecolor": "white",
            "showbackground": true,
            "ticks": "",
            "zerolinecolor": "white"
           }
          },
          "shapedefaults": {
           "line": {
            "color": "#2a3f5f"
           }
          },
          "ternary": {
           "aaxis": {
            "gridcolor": "white",
            "linecolor": "white",
            "ticks": ""
           },
           "baxis": {
            "gridcolor": "white",
            "linecolor": "white",
            "ticks": ""
           },
           "bgcolor": "#E5ECF6",
           "caxis": {
            "gridcolor": "white",
            "linecolor": "white",
            "ticks": ""
           }
          },
          "title": {
           "x": 0.05
          },
          "xaxis": {
           "automargin": true,
           "gridcolor": "white",
           "linecolor": "white",
           "ticks": "",
           "title": {
            "standoff": 15
           },
           "zerolinecolor": "white",
           "zerolinewidth": 2
          },
          "yaxis": {
           "automargin": true,
           "gridcolor": "white",
           "linecolor": "white",
           "ticks": "",
           "title": {
            "standoff": 15
           },
           "zerolinecolor": "white",
           "zerolinewidth": 2
          }
         }
        }
       }
      }
     },
     "metadata": {},
     "output_type": "display_data"
    }
   ],
   "source": [
    "# EXTENSIVE\n",
    "plot_data = [\n",
    "    plotly.graph_objects.Mesh3d(\n",
    "                                x=gx, \n",
    "                                y=gy,\n",
    "                                z=gz, \n",
    "                                )\n",
    "        for gx, gy, gz in zip(\n",
    "                                global_x.reshape(-1, gridx.shape[0]), \n",
    "                                global_y.reshape(-1, gridx.shape[0]), \n",
    "                                global_z.reshape(-1, gridx.shape[0])\n",
    "                              )\n",
    "    ]\n",
    "fig = plotly.graph_objects.Figure(data=plot_data)\n",
    "fig.update_layout()"
   ]
  },
  {
   "cell_type": "code",
   "execution_count": 210,
   "id": "09175e25",
   "metadata": {},
   "outputs": [
    {
     "data": {
      "application/vnd.plotly.v1+json": {
       "config": {
        "plotlyServerURL": "https://plot.ly"
       },
       "data": [
        {
         "intensity": {
          "bdata": "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",
          "dtype": "f8"
         },
         "type": "mesh3d",
         "x": {
          "bdata": "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",
          "dtype": "f8"
         },
         "y": {
          "bdata": "Am+vet3n0L+qmvWAqTbGv6KuGBkwO7W/HdMJBxvFwr8NP4JKJrCsv6tBpsXY052/Am+vet3n0L8d0wkHG8XCv6tBpsXY052/0ALJljYp0L+5+jw/zUfBvz0txWUf1c6/3a9w4ZSY4r+aIiwBydXlv1iV5yD9Eum/iL2uI1ae4r9GMGpDitvlvzPL7GUXpOK/AAAAAAAA8D+MO9E3zl/sPxh3om+cv+g/zOOmM1G37D9YH3hrHxfpP5jHTWeibuk/cZlf46Dz4z+3moPEgEfiP/2bp6Vgm+A/gHyELDJ85j/GfagNEtDkP49fqXXDBOk/5vAH8z9l1z+/MtS6XRPeP0w6UMG9YOI/vBshhAsP3D/KrvallF7hP0kjnYprXOA/1E8hk1aV6b+WcgTaKVTpv1iV5yD9Eum/2P9IuvUW5r+aIiwBydXlv92vcOGUmOK/PP5yRatI5j9EnGGDtFTkP0w6UMG9YOI/whAIaItS4z/KrvallF7hP0kjnYprXOA/jLatTsDE279ffdxz66LbvzJEC5kWgdu/XDpbhQDr4L/FnfIXFtrgv3GZX+Og8+O/jhvMrO0Z1z/EqQ18VyjcP/2bp6Vgm+A/vOeKWpl33T/5OuaUAUPhP/XZJISi6uE/ayAeqrzU7D/CS+CMLMrqPxh3om+cv+g/kJjuAqtu6T/nw7DlGmTnP7YQv1uZCOY/AAAAAAAA8D+MO9E3zl/sPxh3om+cv+g/5I63Ak6Z7z9wyog6HPnrP8kdbwWcMu8/j1+pdcME6T/GfagNEtDkP/2bp6Vgm+A/Iji0aK6G5z9aVrMA/VHjP7YQv1uZCOY/thC/W5kI5j9aVrMA/VHjP/2bp6Vgm+A/VvXx75354z/5OuaUAUPhP/XZJISi6uE/4FIJbSY15b+CcN/NSJbhv0Yca13W7tu/Vrt/RQZg4r/vsatMUYLdv5hH7DvMFd+/4D4KMqRd0r+ei86bPq7Kv32ZiNM0ocC/qPI2w/q50b8u8ye+62bJv3CmY1RRFtG/SWqBQoZh3L9ciHLL67vWv3CmY1RRFtG/lNRFOpVf17+o8jbD+rnRv+A+CjKkXdK/qXMiZ53juT8cFCc4taGCP6KuGBkwO7W/PuO4Naduoj8NP4JKJrCsv6tBpsXY052/ayAeqrzU7D/CS+CMLMrqPxh3om+cv+g/Gp/GV6wD7j9wyog6HPnrP8kdbwWcMu8/cZlf46Dz4z+3moPEgEfiP/2bp6Vgm+A/TD9zacIH4T8jgS6VRLfeP0zKDd/HN9w/mMdNZ6Ju6T9YH3hrHxfpPxh3om+cv+g/+TxN4Pl75j+5lHfkdiTmP1qyTFlRieM/jLatTsDE279ffdxz66LbvzJEC5kWgdu/x5Ku5E5W1r+aWd0JejTWvwJvr3rd59C/cZlf46Dz47/FnfIXFtrgvzJEC5kWgdu/MTAm7yBA47+FNLkjlibgv/HG7PqgjOK/GKin5U9t6L+4nkeDJsDov1iV5yD9Eum/pjnKpbOI5b9GMGpDitvlvzPL7GUXpOK/Jrq1fGnOtb+ggkgemZN1P3rKfqDcgLg/IMDShUSScL9OFj3Gfh62PyJi++sgvLM/4FIJbSY15b+Ob4L/LDPlvz2M+5EzMeW/Vrt/RQZg4r8E2PjXDF7iv5hH7DvMFd+/Jrq1fGnOtb+QduORaYi7v32ZiNM0ocC/IMDShUSScL+woSt2kQybvyJi++sgvLM/ZbPfX9Wr2j/+E0BxqLbfP0w6UMG9YOI/JtJzqYoI2T+/MtS6XRPeP+bwB/M/Zdc/thC/W5kI5j/nw7DlGmTnPxh3om+cv+g/VvXx75354z+GqON5H1XlP/XZJISi6uE/qXMiZ53juT/JSDrFfhXEP71X49YuOcs/PuO4Naduoj+Ijy6+s363P6tBpsXY052/9z8gRLZY478hMA6nMDLjv0sg/AmrC+O/Uo8rYbcx4b98fxnEMQvhv1i9bfxwFd6/1E8hk1aV6b8Ibo4SRWPnvz2M+5EzMeW/2P9IuvUW5r8NHrY55OTjv92vcOGUmOK/dX8a4ImP0z+427SVJWPaP/2bp6Vgm+A/gk1zxrtU1T/EqQ18VyjcP44bzKztGdc/dX8a4ImP0z+CTXPGu1TVP44bzKztGdc/ZknXNF4DzT+/csQA4UbQP+GTeamo58I/Jap9dWXOxb9KkA6s3S3Jv3B2n+JVjcy/a6ik7B6p0b9+G+0H21jTv8R7ih4La9i/xHuKHgtr2L+Lz9YZcZfZv1IjIxXXw9q/fhvtB9tY079FbzkDQYXUv3B2n+JVjcy/EvfL07SBg7/hNdwvccW9v3B2n+JVjcy/lmm6woAGt79KkA6s3S3JvyWqfXVlzsW/Yhp4+VK42j81IJCkkhncPwgmqE/Set0/k910Brem1T9m44yx9gfXP8SgcRMbldA/ZKO/VO7tpj8wlQne2HLDP8SgcRMbldA/4b80991Tsj9IDHRETOHGPxCuCcTEMLk/EK4JxMQwuT/3ZSA/eRfKP3P6HQ5Iy9M/SAx0REzhxj+czceQMTDSP8SgcRMbldA/jVummj9Kyj+KzsTgOrrNP8SgcRMbldA/MyLrl90CwD8wlQne2HLDP2Sjv1Tu7aY/buz2vAbgvb//Lea04WO3v5Bv1ay857C/6q2zlNZFyb+zTqsQxAfGv8/ydeXUzdG/PS3FZR/Vzr+5+jw/zUfBv6tBpsXY052/gvIX3n6kw7/7/z7eslyov5Bv1ay857C/EK4JxMQwuT9C4iD3m+K/PzoLHJU5SsM/92UgP3kXyj8QAKzYZHDNP3P6HQ5Iy9M/xKBxExuV0D9m44yx9gfXPwgmqE/Set0/nM3HkDEw0j8+EOMuDaPYP3P6HQ5Iy9M/z/J15dTN0b+zTqsQxAfGv5Bv1ay857C/t0QsTDKc0L+C8hfefqTDvz0txWUf1c6/buz2vAbgvb//Lea04WO3v5Bv1ay857C/ePm04we9gr8AfWguEJKQPxCuCcTEMLk/EK4JxMQwuT8AfWguEJKQP5Bv1ay857C/QuIg95vivz/kpmJ9tqylPzoLHJU5SsM/OgsclTlKwz8Jhs74fB+vP6tBpsXY052/5KZifbaspT/7/z7eslyov5Bv1ay857C/kPf6Srg71b+lK+4GcTbdv92vcOGUmOK/lJ9zQ8Io2r/UabN/vRHhv5hH7DvMFd+/AAAAAAAA8D/M46YzUbfsP5jHTWeibuk/ioajAk6Z7z9Wako2n1DsPxUNRwWcMu8/MUg75JB7zD8aE83spSXPPwJvr3rd59A/Uq1lYEQB1T/Hkq7kTlbWP4y2rU7AxNs/FQ1HBZwy77+WWnf19c/rvxiop+VPbei/GShjV6wD7r+adZNHBqHqvx1Df6m81Oy/MUg75JB7zL8aE83spSXPvwJvr3rd59C/Uq1lYEQB1b/Hkq7kTlbWv4y2rU7AxNu/HUN/qbzU7D+sIHn3s47pPzz+ckWrSOY/HCruDsDs6j+sB+hct6bnPxsRXXTDBOk/j1+pdcME6T8iOLRorobnP7YQv1uZCOY//b/jD8Ds6j+QmO4Cq27pP2sgHqq81Ow/j1+pdcME6b84WVnx9Bznv+BSCW0mNeW//b/jD8Ds6r+muZOL8QTpv2sgHqq81Oy/eOa+4aDz47/OzX8BMhLhv0lqgUKGYdy/iO/lgwDr4L+8rU1HIxPcvy/xGUzAxNu/AAAAAAAAAAAmurV8ac6lvya6tXxpzrW/AyJ94ZB7vL+L/+vPYrHDvwMifeGQe8y/AAAAAAAA8L/qp5BJq8rsv9RPIZNWlem/5I63Ak6Z77/ONkhM+WPsv8kdbwWcMu+/AAAAAAAAAACpcyJnneOpP6lzImed47k/AyJ94ZB7vD/sLYfKr7bEPwMifeGQe8w/eOa+4aDz4z8VYNfIxaTgP2Wz31/Vq9o/iO/lgwDr4D9K0vzVSjjbPy/xGUzAxNs/z/J15dTN0b+3RCxMMpzQvz0txWUf1c6/iodwoVXe1r9y2SYIs6zVv0Yca13W7tu/z/J15dTN0b+Kh3ChVd7Wv0Yca13W7tu/NB2xkNBx2L/vsatMUYLdv5hH7DvMFd+/kPf6Srg71b+Un3NDwijav5hH7DvMFd+/MHU4mMaE0780HbGQ0HHYv8/ydeXUzdG/kPf6Srg71b+lK+4GcTbdv92vcOGUmOK/qrnCtGHT1r+/7bVwGs7ev8R7ih4La9i/Jap9dWXOxb9rqKTsHqnRv8R7ih4La9i/UebcgnUR0L+qucK0YdPWv5D3+kq4O9W/buz2vAbgvb/qrbOU1kXJv8/ydeXUzdG/rLI4+rmzzL8wdTiYxoTTv5D3+kq4O9W/Jap9dWXOxb9R5tyCdRHQv5D3+kq4O9W/LpD8aTRfwr+ssjj6ubPMv27s9rwG4L2/ZKO/VO7tpj/hvzT33VOyPxCuCcTEMLk/vBqXkg9por94+bTjB72Cv27s9rwG4L2/ZKO/VO7tpj+8GpeSD2miv27s9rwG4L2/TMFN4OkSsL8ukPxpNF/CvyWqfXVlzsW/jVummj9Kyj+KzsTgOrrNP8SgcRMbldA/FKRlY7nu0z+T3XQGt6bVP2IaePlSuNo/EvfL07SBg7+WabrCgAa3vyWqfXVlzsW/oKXMH4ENkj9MwU3g6RKwv2Sjv1Tu7aY/jVummj9Kyj8UpGVjue7TP2IaePlSuNo/qqQPvYYf0j/4GiJTIOnYP44bzKztGdc/4ZN5qajnwj+/csQA4UbQP44bzKztGdc/t/cPIvSYxj+qpA+9hh/SP41bppo/Sso/EvfL07SBg7+gpcwfgQ2SP2Sjv1Tu7aY/HJxpTSQSuT8zIuuX3QLAP41bppo/Sso/mDdhfNXQr78r4tugxUDCv3B2n+JVjcy/rhqqWKFYor/hNdwvccW9vxL3y9O0gYO/4ZN5qajnwj+39w8i9JjGP41bppo/Sso/cNQ8XI2vsT8cnGlNJBK5PxL3y9O0gYO/4ZN5qajnwj9w1Dxcja+xPxL3y9O0gYO/9ovClObmpT+uGqpYoViiv5g3YXzV0K+/ImL76yC8sz+wMlZusZ1+P5g3YXzV0K+/8kR3H7nFvD/2i8KU5ualP+GTeamo58I/cHaf4lWNzL8M/ayRJ1LQv+A+CjKkXdK/RW85A0GF1L8ZsZajvZDWv1IjIxXXw9q/HKSIGYZJ5780YsKRmCrlv0sg/AmrC+O/CnLULh5R5b8hMA6nMDLjv/c/IES2WOO/mDdhfNXQr7/TZZbhvlfGv+A+CjKkXdK/K+LboMVAwr8M/ayRJ1LQv3B2n+JVjcy/dX8a4ImP0z9mSdc0XgPNP+GTeamo58I//lcZG5J+yD/yRHcfucW8PyJi++sgvLM/OgsclTlKwz98sf81tEHHP71X49YuOcs/CYbO+Hwfrz+Ijy6+s363P6tBpsXY052/Am+vet3n0D+KR6615dbFPyJi++sgvLM/PPdkrbM70j/+Vxkbkn7IP3V/GuCJj9M/jhvMrO0Z1z+854pamXfdP/XZJISi6uE/+BoiUyDp2D8m5+AAzEbfP2IaePlSuNo/Yhp4+VK42j/GXwRrvXLgP1qyTFlRieM/NSCQpJIZ3D+vYpBAXSPhPwgmqE/Set0/Am+vet3n0L+aWd0JejTWvzJEC5kWgdu/0ALJljYp0L9o7fYl03XVvz0txWUf1c6/c/odDkjL0z+s9ZIARJjVP+bwB/M/Zdc/EACs2GRwzT9C+8peLoXQPzoLHJU5SsM/PP5yRatI5j+Ln2d/pmnlP9pAXLmhiuQ/whAIaItS4z8SsvyhhnPiP0kjnYprXOA/xHuKHgtr2L8VCTL1nNnevzPL7GUXpOK/i8/WGXGX2b9uLj94AQPgv1IjIxXXw9q/ZbPfX9Wr2j+ir6hlNiTUP71X49YuOcs/JtJzqYoI2T9izjyv64DSP+bwB/M/Zdc/Am+vet3n0D+gIc+iFAjHP3rKfqDcgLg/ikeuteXWxT9OFj3Gfh62PyJi++sgvLM/PP5yRatI5j+Ln2d/pmnlP9pAXLmhiuQ/YJAVhqL25z+wMQrAnRfnP4UiuMaZpOk/c/odDkjL0z+CIKyRD0LaP0kjnYprXOA/rPWSAESY1T+8GyGECw/cP+bwB/M/Zdc/ImL76yC8sz+woSt2kQybv32ZiNM0ocC/sDJWbrGdfj9j56AyapW4v5g3YXzV0K+/4FIJbSY15b/oDPuz4+Djv/HG7PqgjOK/gnDfzUiW4b+KKtEUBkLgv0Yca13W7tu/OgsclTlKwz98sf81tEHHP71X49YuOcs/QvvKXi6F0D9izjyv64DSP+bwB/M/Zdc/cZlf46Dz478xMCbvIEDjv/HG7PqgjOK/gHyELDJ85r9AE0s4ssjlv49fqXXDBOm/j1+pdcME6b9AE0s4ssjlv/HG7PqgjOK/OFlZ8fQc57/oDPuz4+Djv+BSCW0mNeW/4FIJbSY15b+Ob4L/LDPlvz2M+5EzMeW/3kJgXfpZ57+MX9nvAFjnv9syt03Ofum/c/odDkjL0z+CIKyRD0LaP0kjnYprXOA/PhDjLg2j2D9NNnGy1BnfPwgmqE/Set0/CCaoT9J63T/vKZhwBaThP9pAXLmhiuQ/r2KQQF0j4T+aeVSJ+QnkP1qyTFlRieM/mMdNZ6Ju6T85BFUQovzmP9pAXLmhiuQ/+TxN4Pl75j+aeVSJ+QnkP1qyTFlRieM/Yhp4+VK42j8m5+AAzEbfP/XZJISi6uE/xl8Ea71y4D8oxrju+bniP1qyTFlRieM/Am+vet3n0D8892StszvSP3V/GuCJj9M/p5zerNKP1j/gJJTfqOPXP0zKDd/HN9w/xHuKHgtr2L8VCTL1nNnevzPL7GUXpOK/v+21cBrO3r+Iva4jVp7iv92vcOGUmOK/RhxrXdbu2788MDt79rfbvzJEC5kWgdu/ctkmCLOs1b9o7fYl03XVvz0txWUf1c6/WrJMWVGJ4z+5lHfkdiTmPxh3om+cv+g/KMa47vm54j+GqON5H1XlP/XZJISi6uE/Jrq1fGnOtb+QduORaYi7v32ZiNM0ocC/+hSRs+uJxr8u8ye+62bJv3CmY1RRFtG/TMoN38c33D8jgS6VRLfeP/2bp6Vgm+A/4CSU36jj1z+427SVJWPaP3V/GuCJj9M/jLatTsDE2z9swN0WRP7bP0zKDd/HN9w/XDpbhQDr4D9MP3NpwgfhP3GZX+Og8+M/HUN/qbzU7L+c84NhIQ/qvxykiBmGSee/HCruDsDs6r+c2vLGJCfovxsRXXTDBOm/jLatTsDE2z9swN0WRP7bP0zKDd/HN9w/x5Ku5E5W1j+nnN6s0o/WPwJvr3rd59A/HUN/qbzU7L+c84NhIQ/qvxykiBmGSee/mnWTRwah6r8aJpj/atvnvxiop+VPbei/AAAAAAAAAAB6yn6g3ICoP3rKfqDcgLg/MUg75JB7vD+3Vj2a/13EPzFIO+SQe8w/AAAAAAAA8L+synOQfonsv1iV5yD9Eum/ioajAk6Z7782UReTzCLsvxUNRwWcMu+/MUg75JB7zD+3Vj2a/13EP3rKfqDcgLg/GhPN7KUlzz+gIc+iFAjHPwJvr3rd59A/GxFddMME6b+JqD7cvC7mv/c/IES2WOO/yvsNKzJ85r84k++SK6bjv3jmvuGg8+O/FQ1HBZwy7782UReTzCLsv1iV5yD9Eum/llp39fXP67+4nkeDJsDovxiop+VPbei/AAAAAAAAAACirhgZMDulv6KuGBkwO7W/MUg75JB7vL/Bz2N4lIzDvzFIO+SQe8y/MUg75JB7zL/Bz2N4lIzDv6KuGBkwO7W/GhPN7KUlz7+qmvWAqTbGvwJvr3rd59C/eOa+4aDz4784k++SK6bjv/c/IES2WOO/zs1/ATIS4b+OerCyvMTgv0lqgUKGYdy/GxFddMME6T+0pdaawLLlP0w6UMG9YOI/rAfoXLem5z9EnGGDtFTkPzz+ckWrSOY/FQ1HBZwy7z/Nl//lmmvsP4UiuMaZpOk/GShjV6wD7j/Rshs4qzzrPx1Df6m81Ow/ayAeqrzU7L+jqep7xSnrv9syt03Ofum/Gp/GV6wD7r9SKJMptVjsv8kdbwWcMu+/L/EZTMDE27/Qyz7QiG3Wv3CmY1RRFtG/GEFsXkQB1b9yNyLFGVTPvwMifeGQe8y/ayAeqrzU7L+jqep7xSnrv9syt03Ofum/prmTi/EE6b/eQmBd+lnnv+BSCW0mNeW/L/EZTMDE27/Qyz7QiG3Wv3CmY1RRFtG/vK1NRyMT3L9ciHLL67vWv0lqgUKGYdy/HUN/qbzU7D/Rshs4qzzrP4UiuMaZpOk/rCB597OO6T9gkBWGovbnPzz+ckWrSOY/GxFddMME6T+0pdaawLLlP0w6UMG9YOI/yvsNKzJ85j9ikIdRLyrjP3jmvuGg8+M/AAAAAAAAAAB6yn6g3ICoP3rKfqDcgLg/Jrq1fGnOpb+ggkgemZN1Pya6tXxpzrW/AAAAAAAA8L+synOQfonsv1iV5yD9Eum/6qeQSavK7L+WcgTaKVTpv9RPIZNWlem/FQ1HBZwy7z/Nl//lmmvsP4UiuMaZpOk/VmpKNp9Q7D8O9QIXnonpP5jHTWeibuk/AyJ94ZB7zL9yNyLFGVTPv3CmY1RRFtG/i//rz2Kxw7/6FJGz64nGvya6tXxpzrW/yR1vBZwy779SKJMptVjsv9syt03Ofum/zjZITPlj7L9YQWxwEorpv9RPIZNWlem/AAAAAAAAAACirhgZMDulv6KuGBkwO7W/qXMiZ53jqT8cFCc4taGCP6lzImed47k/eOa+4aDz4z9ikIdRLyrjP0w6UMG9YOI/FWDXyMWk4D/+E0BxqLbfP2Wz31/Vq9o/AyJ94ZB7zD9Iqog3jv7PP0cZysbFwNE/7C2Hyq+2xD8xtpIgrTnIP6lzImed47k/L/EZTMDE2z87BXIJw8LWP0cZysbFwNE/StL81Uo42z9W5lSTTTbWP2Wz31/Vq9o/L/EZTMDE2z87BXIJw8LWP0cZysbFwNE/GEFsXkQB1T9Iqog3jv7PPwMifeGQe8w/ZbPfX9Wr2j9W5lSTTTbWP0cZysbFwNE/oq+oZTYk1D8mxTsyXV3PP71X49YuOcs/mEfsO8wV378E2PjXDF7ivz2M+5EzMeW/1Gmzf70R4b8NHrY55OTjv92vcOGUmOK/UiMjFdfD2r/62EZKyzbgv0sg/AmrC+O/VXDICKRs3L98fxnEMQvhv1i9bfxwFd6/mDdhfNXQr79j56AyapW4v32ZiNM0ocC/02WW4b5Xxr+ei86bPq7Kv+A+CjKkXdK/qXMiZ53juT8xtpIgrTnIP0cZysbFwNE/yUg6xX4VxD8mxTsyXV3PP71X49YuOcs/UiMjFdfD2r/62EZKyzbgv0sg/AmrC+O/bi4/eAED4L+/dfQ34dfivzPL7GUXpOK/UiMjFdfD2r9VcMgIpGzcv1i9bfxwFd6/GbGWo72Q1r8c/juXijnYv+A+CjKkXdK/SWqBQoZh3L/Qk3efezvdv1i9bfxwFd6/lNRFOpVf178c/juXijnYv+A+CjKkXdK/CCaoT9J63T/vKZhwBaThP9pAXLmhiuQ/TTZxstQZ3z8SsvyhhnPiP0kjnYprXOA/GxFddMME6b+JqD7cvC7mv/c/IES2WOO/nNryxiQn6L8KctQuHlHlvxykiBmGSee/RhxrXdbu2788MDt79rfbvzJEC5kWgdu/iirRFAZC4L+FNLkjlibgv/HG7PqgjOK/mMdNZ6Ju6T85BFUQovzmP9pAXLmhiuQ/DvUCF56J6T+wMQrAnRfnP4UiuMaZpOk/GKin5U9t6L8y5NF3fbzlv0sg/AmrC+O/pjnKpbOI5b+/dfQ34dfivzPL7GUXpOK/1E8hk1aV6b8Ibo4SRWPnvz2M+5EzMeW/WEFscBKK6b+MX9nvAFjnv9syt03Ofum/GKin5U9t6L8y5NF3fbzlv0sg/AmrC+O/GiaY/2rb5780YsKRmCrlvxykiBmGSee/SWqBQoZh3L/Qk3efezvdv1i9bfxwFd6/jnqwsrzE4L9SjythtzHhv/c/IES2WOO/",
          "dtype": "f8"
         },
         "z": {
          "bdata": "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",
          "dtype": "f8"
         }
        }
       ],
       "layout": {
        "template": {
         "data": {
          "bar": [
           {
            "error_x": {
             "color": "#2a3f5f"
            },
            "error_y": {
             "color": "#2a3f5f"
            },
            "marker": {
             "line": {
              "color": "#E5ECF6",
              "width": 0.5
             },
             "pattern": {
              "fillmode": "overlay",
              "size": 10,
              "solidity": 0.2
             }
            },
            "type": "bar"
           }
          ],
          "barpolar": [
           {
            "marker": {
             "line": {
              "color": "#E5ECF6",
              "width": 0.5
             },
             "pattern": {
              "fillmode": "overlay",
              "size": 10,
              "solidity": 0.2
             }
            },
            "type": "barpolar"
           }
          ],
          "carpet": [
           {
            "aaxis": {
             "endlinecolor": "#2a3f5f",
             "gridcolor": "white",
             "linecolor": "white",
             "minorgridcolor": "white",
             "startlinecolor": "#2a3f5f"
            },
            "baxis": {
             "endlinecolor": "#2a3f5f",
             "gridcolor": "white",
             "linecolor": "white",
             "minorgridcolor": "white",
             "startlinecolor": "#2a3f5f"
            },
            "type": "carpet"
           }
          ],
          "choropleth": [
           {
            "colorbar": {
             "outlinewidth": 0,
             "ticks": ""
            },
            "type": "choropleth"
           }
          ],
          "contour": [
           {
            "colorbar": {
             "outlinewidth": 0,
             "ticks": ""
            },
            "colorscale": [
             [
              0,
              "#0d0887"
             ],
             [
              0.1111111111111111,
              "#46039f"
             ],
             [
              0.2222222222222222,
              "#7201a8"
             ],
             [
              0.3333333333333333,
              "#9c179e"
             ],
             [
              0.4444444444444444,
              "#bd3786"
             ],
             [
              0.5555555555555556,
              "#d8576b"
             ],
             [
              0.6666666666666666,
              "#ed7953"
             ],
             [
              0.7777777777777778,
              "#fb9f3a"
             ],
             [
              0.8888888888888888,
              "#fdca26"
             ],
             [
              1,
              "#f0f921"
             ]
            ],
            "type": "contour"
           }
          ],
          "contourcarpet": [
           {
            "colorbar": {
             "outlinewidth": 0,
             "ticks": ""
            },
            "type": "contourcarpet"
           }
          ],
          "heatmap": [
           {
            "colorbar": {
             "outlinewidth": 0,
             "ticks": ""
            },
            "colorscale": [
             [
              0,
              "#0d0887"
             ],
             [
              0.1111111111111111,
              "#46039f"
             ],
             [
              0.2222222222222222,
              "#7201a8"
             ],
             [
              0.3333333333333333,
              "#9c179e"
             ],
             [
              0.4444444444444444,
              "#bd3786"
             ],
             [
              0.5555555555555556,
              "#d8576b"
             ],
             [
              0.6666666666666666,
              "#ed7953"
             ],
             [
              0.7777777777777778,
              "#fb9f3a"
             ],
             [
              0.8888888888888888,
              "#fdca26"
             ],
             [
              1,
              "#f0f921"
             ]
            ],
            "type": "heatmap"
           }
          ],
          "histogram": [
           {
            "marker": {
             "pattern": {
              "fillmode": "overlay",
              "size": 10,
              "solidity": 0.2
             }
            },
            "type": "histogram"
           }
          ],
          "histogram2d": [
           {
            "colorbar": {
             "outlinewidth": 0,
             "ticks": ""
            },
            "colorscale": [
             [
              0,
              "#0d0887"
             ],
             [
              0.1111111111111111,
              "#46039f"
             ],
             [
              0.2222222222222222,
              "#7201a8"
             ],
             [
              0.3333333333333333,
              "#9c179e"
             ],
             [
              0.4444444444444444,
              "#bd3786"
             ],
             [
              0.5555555555555556,
              "#d8576b"
             ],
             [
              0.6666666666666666,
              "#ed7953"
             ],
             [
              0.7777777777777778,
              "#fb9f3a"
             ],
             [
              0.8888888888888888,
              "#fdca26"
             ],
             [
              1,
              "#f0f921"
             ]
            ],
            "type": "histogram2d"
           }
          ],
          "histogram2dcontour": [
           {
            "colorbar": {
             "outlinewidth": 0,
             "ticks": ""
            },
            "colorscale": [
             [
              0,
              "#0d0887"
             ],
             [
              0.1111111111111111,
              "#46039f"
             ],
             [
              0.2222222222222222,
              "#7201a8"
             ],
             [
              0.3333333333333333,
              "#9c179e"
             ],
             [
              0.4444444444444444,
              "#bd3786"
             ],
             [
              0.5555555555555556,
              "#d8576b"
             ],
             [
              0.6666666666666666,
              "#ed7953"
             ],
             [
              0.7777777777777778,
              "#fb9f3a"
             ],
             [
              0.8888888888888888,
              "#fdca26"
             ],
             [
              1,
              "#f0f921"
             ]
            ],
            "type": "histogram2dcontour"
           }
          ],
          "mesh3d": [
           {
            "colorbar": {
             "outlinewidth": 0,
             "ticks": ""
            },
            "type": "mesh3d"
           }
          ],
          "parcoords": [
           {
            "line": {
             "colorbar": {
              "outlinewidth": 0,
              "ticks": ""
             }
            },
            "type": "parcoords"
           }
          ],
          "pie": [
           {
            "automargin": true,
            "type": "pie"
           }
          ],
          "scatter": [
           {
            "fillpattern": {
             "fillmode": "overlay",
             "size": 10,
             "solidity": 0.2
            },
            "type": "scatter"
           }
          ],
          "scatter3d": [
           {
            "line": {
             "colorbar": {
              "outlinewidth": 0,
              "ticks": ""
             }
            },
            "marker": {
             "colorbar": {
              "outlinewidth": 0,
              "ticks": ""
             }
            },
            "type": "scatter3d"
           }
          ],
          "scattercarpet": [
           {
            "marker": {
             "colorbar": {
              "outlinewidth": 0,
              "ticks": ""
             }
            },
            "type": "scattercarpet"
           }
          ],
          "scattergeo": [
           {
            "marker": {
             "colorbar": {
              "outlinewidth": 0,
              "ticks": ""
             }
            },
            "type": "scattergeo"
           }
          ],
          "scattergl": [
           {
            "marker": {
             "colorbar": {
              "outlinewidth": 0,
              "ticks": ""
             }
            },
            "type": "scattergl"
           }
          ],
          "scattermap": [
           {
            "marker": {
             "colorbar": {
              "outlinewidth": 0,
              "ticks": ""
             }
            },
            "type": "scattermap"
           }
          ],
          "scattermapbox": [
           {
            "marker": {
             "colorbar": {
              "outlinewidth": 0,
              "ticks": ""
             }
            },
            "type": "scattermapbox"
           }
          ],
          "scatterpolar": [
           {
            "marker": {
             "colorbar": {
              "outlinewidth": 0,
              "ticks": ""
             }
            },
            "type": "scatterpolar"
           }
          ],
          "scatterpolargl": [
           {
            "marker": {
             "colorbar": {
              "outlinewidth": 0,
              "ticks": ""
             }
            },
            "type": "scatterpolargl"
           }
          ],
          "scatterternary": [
           {
            "marker": {
             "colorbar": {
              "outlinewidth": 0,
              "ticks": ""
             }
            },
            "type": "scatterternary"
           }
          ],
          "surface": [
           {
            "colorbar": {
             "outlinewidth": 0,
             "ticks": ""
            },
            "colorscale": [
             [
              0,
              "#0d0887"
             ],
             [
              0.1111111111111111,
              "#46039f"
             ],
             [
              0.2222222222222222,
              "#7201a8"
             ],
             [
              0.3333333333333333,
              "#9c179e"
             ],
             [
              0.4444444444444444,
              "#bd3786"
             ],
             [
              0.5555555555555556,
              "#d8576b"
             ],
             [
              0.6666666666666666,
              "#ed7953"
             ],
             [
              0.7777777777777778,
              "#fb9f3a"
             ],
             [
              0.8888888888888888,
              "#fdca26"
             ],
             [
              1,
              "#f0f921"
             ]
            ],
            "type": "surface"
           }
          ],
          "table": [
           {
            "cells": {
             "fill": {
              "color": "#EBF0F8"
             },
             "line": {
              "color": "white"
             }
            },
            "header": {
             "fill": {
              "color": "#C8D4E3"
             },
             "line": {
              "color": "white"
             }
            },
            "type": "table"
           }
          ]
         },
         "layout": {
          "annotationdefaults": {
           "arrowcolor": "#2a3f5f",
           "arrowhead": 0,
           "arrowwidth": 1
          },
          "autotypenumbers": "strict",
          "coloraxis": {
           "colorbar": {
            "outlinewidth": 0,
            "ticks": ""
           }
          },
          "colorscale": {
           "diverging": [
            [
             0,
             "#8e0152"
            ],
            [
             0.1,
             "#c51b7d"
            ],
            [
             0.2,
             "#de77ae"
            ],
            [
             0.3,
             "#f1b6da"
            ],
            [
             0.4,
             "#fde0ef"
            ],
            [
             0.5,
             "#f7f7f7"
            ],
            [
             0.6,
             "#e6f5d0"
            ],
            [
             0.7,
             "#b8e186"
            ],
            [
             0.8,
             "#7fbc41"
            ],
            [
             0.9,
             "#4d9221"
            ],
            [
             1,
             "#276419"
            ]
           ],
           "sequential": [
            [
             0,
             "#0d0887"
            ],
            [
             0.1111111111111111,
             "#46039f"
            ],
            [
             0.2222222222222222,
             "#7201a8"
            ],
            [
             0.3333333333333333,
             "#9c179e"
            ],
            [
             0.4444444444444444,
             "#bd3786"
            ],
            [
             0.5555555555555556,
             "#d8576b"
            ],
            [
             0.6666666666666666,
             "#ed7953"
            ],
            [
             0.7777777777777778,
             "#fb9f3a"
            ],
            [
             0.8888888888888888,
             "#fdca26"
            ],
            [
             1,
             "#f0f921"
            ]
           ],
           "sequentialminus": [
            [
             0,
             "#0d0887"
            ],
            [
             0.1111111111111111,
             "#46039f"
            ],
            [
             0.2222222222222222,
             "#7201a8"
            ],
            [
             0.3333333333333333,
             "#9c179e"
            ],
            [
             0.4444444444444444,
             "#bd3786"
            ],
            [
             0.5555555555555556,
             "#d8576b"
            ],
            [
             0.6666666666666666,
             "#ed7953"
            ],
            [
             0.7777777777777778,
             "#fb9f3a"
            ],
            [
             0.8888888888888888,
             "#fdca26"
            ],
            [
             1,
             "#f0f921"
            ]
           ]
          },
          "colorway": [
           "#636efa",
           "#EF553B",
           "#00cc96",
           "#ab63fa",
           "#FFA15A",
           "#19d3f3",
           "#FF6692",
           "#B6E880",
           "#FF97FF",
           "#FECB52"
          ],
          "font": {
           "color": "#2a3f5f"
          },
          "geo": {
           "bgcolor": "white",
           "lakecolor": "white",
           "landcolor": "#E5ECF6",
           "showlakes": true,
           "showland": true,
           "subunitcolor": "white"
          },
          "hoverlabel": {
           "align": "left"
          },
          "hovermode": "closest",
          "mapbox": {
           "style": "light"
          },
          "paper_bgcolor": "white",
          "plot_bgcolor": "#E5ECF6",
          "polar": {
           "angularaxis": {
            "gridcolor": "white",
            "linecolor": "white",
            "ticks": ""
           },
           "bgcolor": "#E5ECF6",
           "radialaxis": {
            "gridcolor": "white",
            "linecolor": "white",
            "ticks": ""
           }
          },
          "scene": {
           "xaxis": {
            "backgroundcolor": "#E5ECF6",
            "gridcolor": "white",
            "gridwidth": 2,
            "linecolor": "white",
            "showbackground": true,
            "ticks": "",
            "zerolinecolor": "white"
           },
           "yaxis": {
            "backgroundcolor": "#E5ECF6",
            "gridcolor": "white",
            "gridwidth": 2,
            "linecolor": "white",
            "showbackground": true,
            "ticks": "",
            "zerolinecolor": "white"
           },
           "zaxis": {
            "backgroundcolor": "#E5ECF6",
            "gridcolor": "white",
            "gridwidth": 2,
            "linecolor": "white",
            "showbackground": true,
            "ticks": "",
            "zerolinecolor": "white"
           }
          },
          "shapedefaults": {
           "line": {
            "color": "#2a3f5f"
           }
          },
          "ternary": {
           "aaxis": {
            "gridcolor": "white",
            "linecolor": "white",
            "ticks": ""
           },
           "baxis": {
            "gridcolor": "white",
            "linecolor": "white",
            "ticks": ""
           },
           "bgcolor": "#E5ECF6",
           "caxis": {
            "gridcolor": "white",
            "linecolor": "white",
            "ticks": ""
           }
          },
          "title": {
           "x": 0.05
          },
          "xaxis": {
           "automargin": true,
           "gridcolor": "white",
           "linecolor": "white",
           "ticks": "",
           "title": {
            "standoff": 15
           },
           "zerolinecolor": "white",
           "zerolinewidth": 2
          },
          "yaxis": {
           "automargin": true,
           "gridcolor": "white",
           "linecolor": "white",
           "ticks": "",
           "title": {
            "standoff": 15
           },
           "zerolinecolor": "white",
           "zerolinewidth": 2
          }
         }
        }
       }
      }
     },
     "metadata": {},
     "output_type": "display_data"
    }
   ],
   "source": [
    "plot_data = [\n",
    "    plotly.graph_objects.Mesh3d(\n",
    "                                x=global_x, \n",
    "                                y=global_y,\n",
    "                                z=global_z,\n",
    "                                intensity=global_z\n",
    "                                )        \n",
    "    ]\n",
    "fig = plotly.graph_objects.Figure(data=plot_data)\n",
    "fig.update_layout()"
   ]
  },
  {
   "cell_type": "code",
   "execution_count": null,
   "metadata": {},
   "outputs": [],
   "source": []
  },
  {
   "cell_type": "code",
   "execution_count": null,
   "metadata": {},
   "outputs": [],
   "source": []
  },
  {
   "cell_type": "code",
   "execution_count": null,
   "metadata": {},
   "outputs": [],
   "source": []
  }
 ],
 "metadata": {
  "kernelspec": {
   "display_name": "experiments",
   "language": "python",
   "name": "python3"
  },
  "language_info": {
   "codemirror_mode": {
    "name": "ipython",
    "version": 3
   },
   "file_extension": ".py",
   "mimetype": "text/x-python",
   "name": "python",
   "nbconvert_exporter": "python",
   "pygments_lexer": "ipython3",
   "version": "3.9.21"
  }
 },
 "nbformat": 4,
 "nbformat_minor": 5
}
