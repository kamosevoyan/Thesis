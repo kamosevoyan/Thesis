{
 "cells": [
  {
   "cell_type": "code",
   "execution_count": null,
   "id": "0ab90f0d-06db-469d-a123-83d50d6d03fd",
   "metadata": {},
   "outputs": [],
   "source": [
    "import numpy as np\n",
    "import matplotlib.pyplot as plt\n",
    "from triangle import triangulate, plot as tplot, convex_hull, show_data, get_data\n",
    "import matplotlib.colors as mcolors\n",
    "from random import sample\n",
    "import symfem, sympy"
   ]
  },
  {
   "cell_type": "code",
   "execution_count": null,
   "id": "c00c31ec-b37c-418e-a486-ecd52df574ea",
   "metadata": {},
   "outputs": [],
   "source": [
    "x, y, p1, p2, p3 = sympy.symbols(\"x, y, p1, p2, p3\")\n",
    "x1, x2, x3, y1, y2, y3 = sympy.symbols(\"x1:4 y1:4\")\n",
    "triangle_sym = np.array(\n",
    "    [\n",
    "        [x1, y1],\n",
    "        [x2, y2],\n",
    "        [x3, y3],\n",
    "    ]\n",
    ")\n",
    "BASIS = symfem.create_element(\"triangle\", \"Lagrange\", 1)\n",
    "MAP = BASIS.reference.get_map_to(triangle_sym)\n",
    "INV_MAP = BASIS.reference.get_inverse_map_to(triangle_sym)"
   ]
  },
  {
   "cell_type": "code",
   "execution_count": null,
   "id": "13c0c09b-e3c0-44d9-a16d-24a66ef1a8ba",
   "metadata": {},
   "outputs": [],
   "source": [
    "t = np.linspace(0, 2 * np.pi, 10, endpoint=False)\n",
    "points = np.stack((np.cos(t), np.sin(t))).T\n",
    "seg = np.array(\n",
    "    [[j, j + 1] for j in range(points.shape[0] - 1)] + [[points.shape[0] - 1, 0]]\n",
    ")"
   ]
  },
  {
   "cell_type": "code",
   "execution_count": null,
   "id": "22fbe743-c28c-4d36-98c8-5c8c0a75ee42",
   "metadata": {},
   "outputs": [],
   "source": [
    "cndt = triangulate({\"vertices\": points, \"segments\": seg}, opts=\"pq30a0.3ne\")\n",
    "points = cndt[\"vertices\"]\n",
    "triangles = cndt[\"triangles\"]\n",
    "neighbours = cndt[\"neighbors\"]\n",
    "triangles_s = points[triangles]"
   ]
  },
  {
   "cell_type": "code",
   "execution_count": null,
   "id": "f04c6c89-07fe-4de4-a4f1-212f7761bf34",
   "metadata": {},
   "outputs": [],
   "source": [
    "tx = np.linspace(-1, 1, 1000)\n",
    "ty = np.linspace(-1, 1, 1000)\n",
    "xx, yy = np.meshgrid(tx, ty, indexing=\"xy\")\n",
    "points_ = np.stack((xx, yy)).transpose(1, 2, 0)\n",
    "\n",
    "a = triangles_s[:, 0] - triangles_s[:, 1]\n",
    "b = triangles_s[:, 0] - triangles_s[:, 2]\n",
    "areas = np.abs(a[:, 0] * b[:, 1] - a[:, 1] * b[:, 0])"
   ]
  },
  {
   "cell_type": "code",
   "execution_count": null,
   "id": "97484b83-019b-4ad0-a82e-910f15c90761",
   "metadata": {},
   "outputs": [],
   "source": [
    "a = points_[...,] - triangles_s[:, 0, None, None]\n",
    "b = points_[...,] - triangles_s[:, 1, None, None]\n",
    "c = points_[...,] - triangles_s[:, 2, None, None]\n",
    "\n",
    "area1 = np.abs(a[..., 0] * b[..., 1] - a[..., 1] * b[..., 0])\n",
    "area2 = np.abs(a[..., 0] * c[..., 1] - a[..., 1] * c[..., 0])\n",
    "area3 = np.abs(b[..., 0] * c[..., 1] - b[..., 1] * c[..., 0])\n",
    "\n",
    "indices = np.where(\n",
    "    np.isclose((area1 + area2 + area3).transpose(1, 2, 0), areas[None, None, ...])\n",
    ")"
   ]
  },
  {
   "cell_type": "code",
   "execution_count": null,
   "id": "8fa96835-b30a-44e8-a80e-3a9273d1d4e3",
   "metadata": {},
   "outputs": [],
   "source": [
    "all_colors = (\n",
    "    list(mcolors.CSS4_COLORS.keys())\n",
    "    + list(mcolors.XKCD_COLORS.keys())\n",
    "    + list(mcolors.BASE_COLORS.keys())\n",
    ")\n",
    "colors = sample(all_colors, triangles_s.shape[0])\n",
    "\n",
    "%matplotlib inline\n",
    "fig, ax = plt.subplots(figsize=(6, 6))\n",
    "ax.axis(\"equal\")\n",
    "\n",
    "for index, triangle in enumerate(triangles_s[:]):\n",
    "    t1 = plt.Polygon(triangle[:3], color=colors[index])\n",
    "    fig.gca().add_patch(t1)\n",
    "    plt.scatter(triangle[..., 0], triangle[..., 1], color=\"black\")\n",
    "\n",
    "ax.set_xlim([points[:, 0].min() - 1, points[:, 0].max() + 1])\n",
    "ax.set_ylim([points[:, 1].min() - 1, points[:, 1].max() + 1])\n",
    "\n",
    "fig.tight_layout()\n",
    "plt.tight_layout()\n",
    "\n",
    "plt.show()"
   ]
  },
  {
   "cell_type": "markdown",
   "id": "9670c700-638a-4bcd-86ae-a91e5e256a46",
   "metadata": {
    "tags": []
   },
   "source": [
    "# Linear case"
   ]
  },
  {
   "cell_type": "code",
   "execution_count": null,
   "id": "498bb063-2064-4b58-a409-7465dc23700e",
   "metadata": {},
   "outputs": [],
   "source": [
    "b1 = p1\n",
    "b2 = p2\n",
    "b3 = 1 - p1 - p2"
   ]
  },
  {
   "cell_type": "code",
   "execution_count": null,
   "id": "2ec8075c-7ebc-4fd9-a5ab-a37eee07bb2e",
   "metadata": {},
   "outputs": [],
   "source": [
    "fn_values = np.zeros((points.shape[0], 1))\n",
    "fn_values[-1] = 1"
   ]
  },
  {
   "cell_type": "code",
   "execution_count": null,
   "id": "1c132d18-ac12-4eee-8275-2424b08343bb",
   "metadata": {},
   "outputs": [],
   "source": [
    "tx = np.linspace(-1.5, 1.5, 1000)\n",
    "ty = np.linspace(-1.5, 1.5, 1000)\n",
    "mx, my = np.meshgrid(tx, ty, indexing=\"ij\")\n",
    "mz = np.zeros_like(mx)\n",
    "points_ = np.stack((mx, my)).transpose(1, 2, 0)\n",
    "\n",
    "for idx, (p_idx, t_points) in enumerate(zip(triangles, triangles_s)):\n",
    "    this_triangle = t_points.copy()\n",
    "\n",
    "    a = this_triangle[0] - this_triangle[1]\n",
    "    b = this_triangle[0] - this_triangle[2]\n",
    "    areas = np.abs(a[0] * b[1] - a[1] * b[0])\n",
    "    a = points_[...,] - this_triangle[0, None, None]\n",
    "    b = points_[...,] - this_triangle[1, None, None]\n",
    "    c = points_[...,] - this_triangle[2, None, None]\n",
    "    area1 = np.abs(a[..., 0] * b[..., 1] - a[..., 1] * b[..., 0])\n",
    "    area2 = np.abs(a[..., 0] * c[..., 1] - a[..., 1] * c[..., 0])\n",
    "    area3 = np.abs(b[..., 0] * c[..., 1] - b[..., 1] * c[..., 0])\n",
    "    indices = np.where(np.isclose((area1 + area2 + area3), areas))\n",
    "\n",
    "    resulting_fn = (\n",
    "        fn_values[p_idx[1]][0] * b1.subs({p1: INV_MAP[0], p2: INV_MAP[1]})\n",
    "        + fn_values[p_idx[2]][0] * b2.subs({p1: INV_MAP[0], p2: INV_MAP[1]})\n",
    "        + fn_values[p_idx[0]][0] * b3.subs({p1: INV_MAP[0], p2: INV_MAP[1]})\n",
    "    )\n",
    "\n",
    "    resulting_fn = resulting_fn.subs(\n",
    "        {\n",
    "            x1: this_triangle[0, 0],\n",
    "            x2: this_triangle[1, 0],\n",
    "            x3: this_triangle[2, 0],\n",
    "            y1: this_triangle[0, 1],\n",
    "            y2: this_triangle[1, 1],\n",
    "            y3: this_triangle[2, 1],\n",
    "        }\n",
    "    )\n",
    "\n",
    "    vals = sympy.lambdify((x, y), resulting_fn)(mx, my)\n",
    "\n",
    "    if isinstance(vals, (int, float)):\n",
    "        vals = np.ones_like(mz) * vals\n",
    "\n",
    "    mz[indices] = vals[indices]"
   ]
  },
  {
   "cell_type": "code",
   "execution_count": null,
   "id": "255b1dd7-efa7-4e29-9775-ca6efd85975c",
   "metadata": {},
   "outputs": [],
   "source": [
    "%matplotlib widget\n",
    "fig = plt.figure(figsize=(10, 10))\n",
    "ax = plt.axes(projection=\"3d\")\n",
    "ax.plot_surface(mx, my, mz, cmap=\"magma\")\n",
    "ax.set_box_aspect((np.ptp(mx), np.ptp(my), 2 * np.ptp(mz)))\n",
    "plt.show()"
   ]
  },
  {
   "cell_type": "markdown",
   "id": "b3f4d22a-c8dd-4902-8890-1f3303330c25",
   "metadata": {},
   "source": [
    "# Quadratic case"
   ]
  },
  {
   "cell_type": "code",
   "execution_count": null,
   "id": "7f0de079-b2e2-4280-836d-4c79c936d689",
   "metadata": {},
   "outputs": [],
   "source": [
    "t = np.linspace(0, 2 * np.pi, 3, endpoint=False)\n",
    "points = np.stack((np.cos(t), np.sin(t))).T\n",
    "seg = np.array(\n",
    "    [[j, j + 1] for j in range(points.shape[0] - 1)] + [[points.shape[0] - 1, 0]]\n",
    ")"
   ]
  },
  {
   "cell_type": "code",
   "execution_count": null,
   "id": "266e1531-21a9-4111-bd13-181b4c6d3417",
   "metadata": {},
   "outputs": [],
   "source": [
    "cndt = triangulate({\"vertices\": points, \"segments\": seg}, opts=\"pq30a0.5neo2\")\n",
    "points = cndt[\"vertices\"]\n",
    "triangles = cndt[\"triangles\"]\n",
    "neighbours = cndt[\"neighbors\"]\n",
    "triangles_s = points[triangles]\n",
    "\n",
    "tx = np.linspace(-1, 1, 1000)\n",
    "ty = np.linspace(-1, 1, 1000)\n",
    "xx, yy = np.meshgrid(tx, ty, indexing=\"xy\")\n",
    "points_ = np.stack((xx, yy)).transpose(1, 2, 0)\n",
    "\n",
    "a = triangles_s[:, 0] - triangles_s[:, 1]\n",
    "b = triangles_s[:, 0] - triangles_s[:, 2]\n",
    "areas = np.abs(a[:, 0] * b[:, 1] - a[:, 1] * b[:, 0])\n",
    "\n",
    "a = points_[...,] - triangles_s[:, 0, None, None]\n",
    "b = points_[...,] - triangles_s[:, 1, None, None]\n",
    "c = points_[...,] - triangles_s[:, 2, None, None]\n",
    "\n",
    "area1 = np.abs(a[..., 0] * b[..., 1] - a[..., 1] * b[..., 0])\n",
    "area2 = np.abs(a[..., 0] * c[..., 1] - a[..., 1] * c[..., 0])\n",
    "area3 = np.abs(b[..., 0] * c[..., 1] - b[..., 1] * c[..., 0])\n",
    "\n",
    "indices = np.where(\n",
    "    np.isclose((area1 + area2 + area3).transpose(1, 2, 0), areas[None, None, ...])\n",
    ")"
   ]
  },
  {
   "cell_type": "code",
   "execution_count": null,
   "id": "5aea7931-772c-421c-81e3-8421945c22bf",
   "metadata": {},
   "outputs": [],
   "source": [
    "fn_values = np.zeros((points.shape[0], 1))\n",
    "fn_values[-4] = 1"
   ]
  },
  {
   "cell_type": "code",
   "execution_count": null,
   "id": "d25f3389-a9c6-42d1-a468-222b33b2e1f9",
   "metadata": {},
   "outputs": [],
   "source": [
    "b1 = p1 * (2 * p1 - 1)\n",
    "b2 = p2 * (2 * p2 - 1)\n",
    "b3 = p3 * (2 * p3 - 1)\n",
    "b4 = 4 * p1 * p2\n",
    "b5 = 4 * p2 * p3\n",
    "b6 = 4 * p1 * p3\n",
    "\n",
    "b1 = b1.subs(p3, 1 - p1 - p2)\n",
    "b2 = b2.subs(p3, 1 - p1 - p2)\n",
    "b3 = b3.subs(p3, 1 - p1 - p2)\n",
    "b4 = b4.subs(p3, 1 - p1 - p2)\n",
    "b5 = b5.subs(p3, 1 - p1 - p2)\n",
    "b6 = b6.subs(p3, 1 - p1 - p2)"
   ]
  },
  {
   "cell_type": "code",
   "execution_count": null,
   "id": "bf14a5e1-6117-4086-afe3-63239eed7315",
   "metadata": {},
   "outputs": [],
   "source": [
    "tx = np.linspace(-1.5, 1.5, 100)\n",
    "ty = np.linspace(-1.5, 1.5, 100)\n",
    "mx, my = np.meshgrid(tx, ty, indexing=\"ij\")\n",
    "mz = np.zeros_like(mx)\n",
    "points_ = np.stack((mx, my)).transpose(1, 2, 0)\n",
    "\n",
    "for idx, (p_idx, t_points) in enumerate(zip(triangles, triangles_s)):\n",
    "    this_triangle = t_points.copy()\n",
    "\n",
    "    a = this_triangle[0] - this_triangle[1]\n",
    "    b = this_triangle[0] - this_triangle[2]\n",
    "    areas = np.abs(a[0] * b[1] - a[1] * b[0])\n",
    "    a = points_[...,] - this_triangle[0, None, None]\n",
    "    b = points_[...,] - this_triangle[1, None, None]\n",
    "    c = points_[...,] - this_triangle[2, None, None]\n",
    "    area1 = np.abs(a[..., 0] * b[..., 1] - a[..., 1] * b[..., 0])\n",
    "    area2 = np.abs(a[..., 0] * c[..., 1] - a[..., 1] * c[..., 0])\n",
    "    area3 = np.abs(b[..., 0] * c[..., 1] - b[..., 1] * c[..., 0])\n",
    "    indices = np.where(np.isclose((area1 + area2 + area3), areas))\n",
    "\n",
    "    # This for global points\n",
    "    resulting_fn = (\n",
    "        fn_values[p_idx[1]][0] * b1.subs({p1: INV_MAP[0], p2: INV_MAP[1]})\n",
    "        + fn_values[p_idx[2]][0] * b2.subs({p1: INV_MAP[0], p2: INV_MAP[1]})\n",
    "        + fn_values[p_idx[0]][0] * b3.subs({p1: INV_MAP[0], p2: INV_MAP[1]})\n",
    "    )\n",
    "\n",
    "    # This for midpoints\n",
    "    resulting_fn = (\n",
    "        fn_values[p_idx[3]][0] * b4.subs({p1: INV_MAP[0], p2: INV_MAP[1]})\n",
    "        + fn_values[p_idx[4]][0] * b5.subs({p1: INV_MAP[0], p2: INV_MAP[1]})\n",
    "        + fn_values[p_idx[5]][0] * b6.subs({p1: INV_MAP[0], p2: INV_MAP[1]})\n",
    "    )\n",
    "\n",
    "    #     resulting_fn = resulting_fn.subs({x1:this_triangle[0, 0], x2:this_triangle[1, 0], x3:this_triangle[2, 0],\n",
    "    #                                       y1:this_triangle[0, 1], y2:this_triangle[1, 1], y3:this_triangle[2, 1],})\n",
    "\n",
    "    vals = sympy.lambdify((x, y), resulting_fn)(mx, my)\n",
    "\n",
    "    if isinstance(vals, (int, float)):\n",
    "        vals = np.ones_like(mz) * vals\n",
    "\n",
    "    mz[indices] = vals[indices]"
   ]
  },
  {
   "cell_type": "code",
   "execution_count": null,
   "id": "ffd7b89d-f749-4b0a-866b-283c10fd608b",
   "metadata": {},
   "outputs": [],
   "source": [
    "%matplotlib widget\n",
    "fig = plt.figure(figsize=(10, 10))\n",
    "ax = plt.axes(projection=\"3d\")\n",
    "ax.plot_surface(mx, my, mz, color=\"red\")\n",
    "ax.set_box_aspect((np.ptp(mx), np.ptp(my), np.ptp(mz)))\n",
    "ax.scatter3D(*points.T, fn_values[:, 0], s=100, color=\"black\")\n",
    "plt.show()"
   ]
  },
  {
   "cell_type": "markdown",
   "id": "d1e7a676-ce71-491e-aeee-47b1ec3cd292",
   "metadata": {},
   "source": [
    "# Qubic interpolation"
   ]
  }
 ],
 "metadata": {
  "kernelspec": {
   "display_name": "Python 3 (ipykernel)",
   "language": "python",
   "name": "python3"
  },
  "language_info": {
   "codemirror_mode": {
    "name": "ipython",
    "version": 3
   },
   "file_extension": ".py",
   "mimetype": "text/x-python",
   "name": "python",
   "nbconvert_exporter": "python",
   "pygments_lexer": "ipython3",
   "version": "3.9.12"
  }
 },
 "nbformat": 4,
 "nbformat_minor": 5
}
