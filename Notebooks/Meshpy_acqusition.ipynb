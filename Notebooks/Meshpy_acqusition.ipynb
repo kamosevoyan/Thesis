{
 "cells": [
  {
   "cell_type": "code",
   "execution_count": null,
   "id": "077144e0",
   "metadata": {},
   "outputs": [],
   "source": [
    "from meshpy.tet import MeshInfo, build\n",
    "import matplotlib.pyplot as plt\n",
    "import numpy as np\n",
    "import meshpy"
   ]
  },
  {
   "cell_type": "code",
   "execution_count": null,
   "id": "7deab755",
   "metadata": {},
   "outputs": [],
   "source": [
    "mesh_info = MeshInfo()\n",
    "mesh_info.set_points(\n",
    "    [\n",
    "        (0, 0, 0),\n",
    "        (2, 0, 0),\n",
    "        (2, 2, 0),\n",
    "        (0, 2, 0),\n",
    "        (0, 0, 2),\n",
    "        (2, 0, 2),\n",
    "        (2, 2, 2),\n",
    "        (0, 2, 3),\n",
    "    ]\n",
    ")\n",
    "\n",
    "mesh_info.set_facets(\n",
    "    [\n",
    "        [0, 1, 2, 3],\n",
    "        [4, 5, 6, 7],\n",
    "        [0, 4, 5, 1],\n",
    "        [1, 5, 6, 2],\n",
    "        [2, 6, 7, 3],\n",
    "        [3, 7, 4, 0],\n",
    "    ]\n",
    ")"
   ]
  },
  {
   "cell_type": "code",
   "execution_count": null,
   "id": "a11d785d",
   "metadata": {},
   "outputs": [],
   "source": [
    "mesh = build(mesh_info, max_volume=1, options=meshpy.tet.Options(\"\"))"
   ]
  },
  {
   "cell_type": "code",
   "execution_count": null,
   "id": "816ff164",
   "metadata": {},
   "outputs": [],
   "source": [
    "POINTS = np.array(mesh.points)\n",
    "ELEMETNS = np.array(mesh.elements)"
   ]
  },
  {
   "cell_type": "code",
   "execution_count": null,
   "id": "b53894ce",
   "metadata": {},
   "outputs": [],
   "source": [
    "%matplotlib widget\n",
    "fig = plt.figure(figsize=(10, 10))\n",
    "ax = plt.axes(projection=\"3d\")\n",
    "\n",
    "ax.scatter3D(POINTS[:, 0], POINTS[:, 1], POINTS[:, 2], cmap=\"magma\")\n",
    "\n",
    "for elem in mesh.elements:\n",
    "    ax.plot(\n",
    "        [POINTS[elem[0]][0], POINTS[elem[1]][0]],\n",
    "        [POINTS[elem[0]][1], POINTS[elem[1]][1]],\n",
    "        [POINTS[elem[0]][2], POINTS[elem[1]][2]],\n",
    "    )\n",
    "    ax.plot(\n",
    "        [POINTS[elem[0]][0], POINTS[elem[2]][0]],\n",
    "        [POINTS[elem[0]][1], POINTS[elem[2]][1]],\n",
    "        [POINTS[elem[0]][2], POINTS[elem[2]][2]],\n",
    "    )\n",
    "    ax.plot(\n",
    "        [POINTS[elem[0]][0], POINTS[elem[3]][0]],\n",
    "        [POINTS[elem[0]][1], POINTS[elem[3]][1]],\n",
    "        [POINTS[elem[0]][2], POINTS[elem[3]][2]],\n",
    "    )\n",
    "    ax.plot(\n",
    "        [POINTS[elem[1]][0], POINTS[elem[2]][0]],\n",
    "        [POINTS[elem[1]][1], POINTS[elem[2]][1]],\n",
    "        [POINTS[elem[1]][2], POINTS[elem[2]][2]],\n",
    "    )\n",
    "    ax.plot(\n",
    "        [POINTS[elem[1]][0], POINTS[elem[3]][0]],\n",
    "        [POINTS[elem[1]][1], POINTS[elem[3]][1]],\n",
    "        [POINTS[elem[1]][2], POINTS[elem[3]][2]],\n",
    "    )\n",
    "    ax.plot(\n",
    "        [POINTS[elem[2]][0], POINTS[elem[3]][0]],\n",
    "        [POINTS[elem[2]][1], POINTS[elem[3]][1]],\n",
    "        [POINTS[elem[2]][2], POINTS[elem[3]][2]],\n",
    "    )\n",
    "\n",
    "from meshpy.tet import MeshInfo, build\n",
    "\n",
    "plt.show()"
   ]
  },
  {
   "cell_type": "code",
   "execution_count": null,
   "id": "38adbbfd",
   "metadata": {},
   "outputs": [],
   "source": [
    "import numpy as np\n",
    "from meshpy.triangle import MeshInfo, build\n",
    "\n",
    "mesh_info = MeshInfo()\n",
    "mesh_info.set_points([(0, 0), (1, 0), (0, 1), (1, 1)])\n",
    "mesh_info.set_facets([(0, 1), (1, 2), (2, 3), (3, 1)])\n",
    "mesh = build(mesh_info, verbose=False, min_angle=30, max_volume=0.01, mesh_order=3)"
   ]
  },
  {
   "cell_type": "code",
   "execution_count": null,
   "id": "45a8c09b",
   "metadata": {},
   "outputs": [],
   "source": [
    "# print(np.array(mesh.neighbors))\n",
    "# print(np.array(mesh.facets))\n",
    "# print(np.array(mesh.elements))\n",
    "# print(np.array(mesh.points))\n",
    "# all return []"
   ]
  }
 ],
 "metadata": {
  "kernelspec": {
   "display_name": "Python 3 (ipykernel)",
   "language": "python",
   "name": "python3"
  },
  "language_info": {
   "codemirror_mode": {
    "name": "ipython",
    "version": 3
   },
   "file_extension": ".py",
   "mimetype": "text/x-python",
   "name": "python",
   "nbconvert_exporter": "python",
   "pygments_lexer": "ipython3",
   "version": "3.9.12"
  }
 },
 "nbformat": 4,
 "nbformat_minor": 5
}
