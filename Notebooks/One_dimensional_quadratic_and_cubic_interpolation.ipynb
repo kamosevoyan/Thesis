{
 "cells": [
  {
   "cell_type": "code",
   "execution_count": null,
   "id": "d5484b4f",
   "metadata": {},
   "outputs": [],
   "source": [
    "import numpy as np\n",
    "import matplotlib.pyplot as plt\n",
    "import cv2"
   ]
  },
  {
   "cell_type": "code",
   "execution_count": null,
   "id": "84bade3e",
   "metadata": {},
   "outputs": [],
   "source": [
    "X, h = np.linspace(0, 4, 10, retstep=True)\n",
    "Y = np.sin(X**2)"
   ]
  },
  {
   "cell_type": "code",
   "execution_count": null,
   "id": "9e6d7b9f",
   "metadata": {},
   "outputs": [],
   "source": [
    "matrix_2 = np.eye(X.shape[0] - 1) + np.eye(X.shape[0] - 1, k=-1)\n",
    "b_2 = np.append(0, 1 / h**2 * (Y[2:] - 2 * Y[1:-1] + Y[:-2]))\n",
    "c_2 = np.linalg.solve(matrix_2, b_2)"
   ]
  },
  {
   "cell_type": "code",
   "execution_count": null,
   "id": "999cfbd7",
   "metadata": {},
   "outputs": [],
   "source": [
    "matrix_3 = 4 * np.eye(X.shape[0]) + np.eye(X.shape[0], k=-1) + np.eye(X.shape[0], k=1)\n",
    "matrix_3[0] = 0\n",
    "matrix_3[0, 0] = 1\n",
    "matrix_3[-1] = 0\n",
    "matrix_3[-1, -1] = 1\n",
    "\n",
    "b_3 = np.append(0, 6 / h**2 * (Y[2:] - 2 * Y[1:-1] + Y[:-2]))\n",
    "b_3 = np.append(b_3, 0)\n",
    "c_3 = np.linalg.solve(matrix_3, b_3)"
   ]
  },
  {
   "cell_type": "code",
   "execution_count": null,
   "id": "7047f48a",
   "metadata": {},
   "outputs": [],
   "source": [
    "result_x = []\n",
    "result_y_2 = []\n",
    "result_y_3 = []\n",
    "\n",
    "for i in range(X.shape[0] - 1):\n",
    "    x = np.linspace(X[i], X[i + 1], 1000)\n",
    "    S_2 = (\n",
    "        Y[i]\n",
    "        + ((Y[i + 1] - Y[i]) / (X[i + 1] - X[i])) * (x - X[i])\n",
    "        + c_2[i] * (x - X[i]) * (x - X[i + 1])\n",
    "    )\n",
    "\n",
    "    S_3 = (\n",
    "        c_3[i] / (6 * h) * (X[i + 1] - x) ** 3\n",
    "        + c_3[i + 1] / (6 * h) * (x - X[i]) ** 3\n",
    "        + (Y[i] / h - h * c_3[i] / 6) * (X[i + 1] - x)\n",
    "        + (Y[i + 1] / h - h * c_3[i + 1] / 6) * (x - X[i])\n",
    "    )\n",
    "\n",
    "    result_x.append(x)\n",
    "    result_y_2.append(S_2)\n",
    "    result_y_3.append(S_3)\n",
    "\n",
    "result_y_2 = np.concatenate(result_y_2)\n",
    "result_y_3 = np.concatenate(result_y_3)\n",
    "result_x = np.concatenate(result_x)"
   ]
  },
  {
   "cell_type": "code",
   "execution_count": null,
   "id": "f9173636",
   "metadata": {},
   "outputs": [],
   "source": [
    "fig, ax = plt.subplots(figsize=(20, 10))\n",
    "ax.plot(result_x, result_y_2, color='red', ls='--')\n",
    "ax.plot(result_x, result_y_3, color='green', ls='-')\n",
    "\n",
    "ax.scatter(X, X*0, color='red, s=100)\n",
    "ax.scatter(X, Y, color='brown', s=100)\n",
    "\n",
    "ax.axes.xaxis.set_visible(False)\n",
    "ax.axes.yaxis.set_visible(False)\n",
    "\n",
    "for j, _ in enumerate(X):\n",
    "    ax.axvline(x=X[j], color='gray')\n",
    "\n",
    "ax.axhline(y=0, color='black')\n",
    "\n",
    "ax.text(0.03, 0.3, '$x_{0}$', horizontalalignment='center',\n",
    "     verticalalignment='center', transform=ax.transAxes, fontsize=19)\n",
    "\n",
    "ax.text(0.57, 0.3, '$x_{i+1}$', horizontalalignment='center',\n",
    "     verticalalignment='center', transform=ax.transAxes, fontsize=19)\n",
    "\n",
    "ax.text(0.4, 0.3, '$x_{i}$', horizontalalignment='center',\n",
    "     verticalalignment='center', transform=ax.transAxes, fontsize=19)\n",
    "\n",
    "ax.text(0.97, 0.3, '$x_{N}$', horizontalalignment='center',\n",
    "     verticalalignment='center', transform=ax.transAxes, fontsize=19)\n",
    "\n",
    "ax.legend(['Քառակուսային', 'Խորանարդային'], fontsize=20)\n",
    "fig.tight_layout()\n",
    "plt.show()"
   ]
  },
  {
   "cell_type": "code",
   "execution_count": null,
   "id": "f8adcddf",
   "metadata": {},
   "outputs": [],
   "source": [
    "# fig.savefig('../images/quadratic_and_cubic_interploation')"
   ]
  }
 ],
 "metadata": {
  "kernelspec": {
   "display_name": "Python 3 (ipykernel)",
   "language": "python",
   "name": "python3"
  },
  "language_info": {
   "codemirror_mode": {
    "name": "ipython",
    "version": 3
   },
   "file_extension": ".py",
   "mimetype": "text/x-python",
   "name": "python",
   "nbconvert_exporter": "python",
   "pygments_lexer": "ipython3",
   "version": "3.9.12"
  }
 },
 "nbformat": 4,
 "nbformat_minor": 5
}
