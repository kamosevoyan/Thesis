{
 "cells": [
  {
   "cell_type": "code",
   "execution_count": null,
   "id": "4de96ed3",
   "metadata": {},
   "outputs": [],
   "source": [
    "import numpy\n",
    "import torch\n",
    "import matplotlib.pyplot as plt\n",
    "from tqdm import tqdm"
   ]
  },
  {
   "cell_type": "markdown",
   "id": "4f8fd34d",
   "metadata": {},
   "source": [
    "# $f(x,y)=cos(x)+sin(y)$"
   ]
  },
  {
   "cell_type": "code",
   "execution_count": null,
   "id": "90e3c48c",
   "metadata": {},
   "outputs": [],
   "source": [
    "def f(x, y):\n",
    "    return torch.cos(x) + torch.sin(y)"
   ]
  },
  {
   "cell_type": "markdown",
   "id": "beae1176",
   "metadata": {},
   "source": [
    "# Preprocessing part"
   ]
  },
  {
   "cell_type": "code",
   "execution_count": null,
   "id": "986544ba",
   "metadata": {},
   "outputs": [],
   "source": [
    "y_steps, x_steps = 4, 4\n",
    "y_start, y_end = -10, 10\n",
    "x_start, x_end = -10, 10"
   ]
  },
  {
   "cell_type": "code",
   "execution_count": null,
   "id": "5c741498",
   "metadata": {},
   "outputs": [],
   "source": [
    "rectangle = torch.tensor([[x_start, y_start]]) + torch.tensor(\n",
    "    [[0, 0], [1, 0], [1, 1], [0, 1]]\n",
    ") * torch.tensor([[(x_end - x_start) / x_steps, (y_end - y_start) / y_steps]])\n",
    "h_1 = (x_end - x_start) / x_steps\n",
    "h_2 = (y_end - y_start) / y_steps"
   ]
  },
  {
   "cell_type": "code",
   "execution_count": null,
   "id": "c7015f72",
   "metadata": {},
   "outputs": [],
   "source": [
    "rectangles = []\n",
    "for stepy in range(y_steps):\n",
    "    for stepx in range(x_steps):\n",
    "        shift = torch.tensor(\n",
    "            [(x_end - x_start) / x_steps * stepx, (y_end - y_start) / y_steps * stepy]\n",
    "        )\n",
    "        rectangles.append(rectangle + shift)\n",
    "\n",
    "rectangles_s = torch.stack(rectangles)\n",
    "rectangles_c = torch.cat(rectangles)"
   ]
  },
  {
   "cell_type": "code",
   "execution_count": null,
   "id": "0a0083b2",
   "metadata": {},
   "outputs": [],
   "source": [
    "colors = [\"red\", \"blue\", \"green\", \"yellow\", \"cyan\", \"pink\", \"black\", \"purple\"]\n",
    "l = len(colors)\n",
    "\n",
    "fig, ax = plt.subplots(figsize=(3, 3))\n",
    "ax.axis(\"equal\")\n",
    "\n",
    "ax.scatter(rectangles_c[:, 0], rectangles_c[:, 1])\n",
    "ax.scatter(rectangles_s[0, :, 0], rectangles_s[0, :, 1])\n",
    "\n",
    "for index, rectangle in enumerate(rectangles_s, 1):\n",
    "    t1 = plt.Polygon(rectangle, color=colors[index % l])\n",
    "    plt.gca().add_patch(t1)\n",
    "plt.show()"
   ]
  },
  {
   "cell_type": "code",
   "execution_count": null,
   "id": "c2e1b888",
   "metadata": {},
   "outputs": [],
   "source": [
    "y_steps, x_steps = 5, 5\n",
    "y_start, y_end = -10, 10\n",
    "x_start, x_end = -10, 10"
   ]
  },
  {
   "cell_type": "code",
   "execution_count": null,
   "id": "fdf81c1d",
   "metadata": {},
   "outputs": [],
   "source": [
    "X = torch.linspace(x_start, x_end, x_steps)\n",
    "Y = torch.linspace(y_start, y_end, y_steps)"
   ]
  },
  {
   "cell_type": "code",
   "execution_count": null,
   "id": "2248bb49",
   "metadata": {},
   "outputs": [],
   "source": [
    "tx = torch.linspace(-10, 10, 50)\n",
    "ty = torch.linspace(-10, 10, 50)\n",
    "xx, yy = torch.meshgrid(tx, ty, indexing=\"xy\")\n",
    "points = torch.stack((xx, yy)).permute(1, 2, 0)"
   ]
  },
  {
   "cell_type": "code",
   "execution_count": null,
   "id": "308100b7",
   "metadata": {},
   "outputs": [],
   "source": [
    "x_index = torch.where(\n",
    "    (points[:, :, 0][..., None] >= X[:-1]) & (points[:, :, 0][..., None] <= X[1:])\n",
    ")\n",
    "y_index = torch.where(\n",
    "    (points[:, :, 1][..., None] >= Y[:-1]) & (points[:, :, 1][..., None] <= Y[1:])\n",
    ")\n",
    "h_1 = X.diff()[0]\n",
    "h_2 = Y.diff()[0]"
   ]
  },
  {
   "cell_type": "code",
   "execution_count": null,
   "id": "a8cce6f3",
   "metadata": {},
   "outputs": [],
   "source": [
    "zz = torch.zeros(xx.shape)"
   ]
  },
  {
   "cell_type": "code",
   "execution_count": null,
   "id": "4476cb07",
   "metadata": {},
   "outputs": [],
   "source": [
    "zz[x_index[:-1]] = (\n",
    "    (\n",
    "        (\n",
    "            (X[x_index[-1] + 1] - xx[x_index[:-1]])\n",
    "            * (Y[y_index[-1] + 1] - yy[y_index[:-1]])\n",
    "        )\n",
    "        * f(X[x_index[-1]], Y[y_index[-1]])\n",
    "        + (xx[x_index[:-1]] - X[x_index[-1]])\n",
    "        * (Y[y_index[-1] + 1] - yy[y_index[:-1]])\n",
    "        * f(X[x_index[-1] + 1], Y[y_index[-1]])\n",
    "        + (X[x_index[-1] + 1] - xx[x_index[:-1]])\n",
    "        * (yy[y_index[:-1]] - Y[y_index[-1]])\n",
    "        * f(X[x_index[-1]], Y[y_index[-1] + 1])\n",
    "        + (xx[x_index[:-1]] - X[x_index[-1]])\n",
    "        * (yy[y_index[:-1]] - Y[y_index[-1]])\n",
    "        * f(X[x_index[-1] + 1], Y[y_index[-1] + 1])\n",
    "    )\n",
    "    / h_1\n",
    "    / h_2\n",
    ")"
   ]
  },
  {
   "cell_type": "markdown",
   "id": "cfc647b0",
   "metadata": {},
   "source": [
    "# $C^{0}$ linear interpolation\n",
    "\n",
    "$$p_1^{(i,j)} = \\frac{1}{h_1h_2}(x_{i+1}-x)(y_{i+1}-y)f_{i,j} + \\frac{1}{h_1h_2}(x-x_i)(y_{i+1}-y)f_{i+1,j}+\\frac{1}{h_1h_2}(x_{i+1}-x)(y-y_i)f_{i,j+1}+\\frac{1}{h_1h_2}(x-x_i)(y-y_i)f_{i+1,j+1}$$ "
   ]
  },
  {
   "cell_type": "code",
   "execution_count": null,
   "id": "d78983d4",
   "metadata": {},
   "outputs": [],
   "source": [
    "XX, YY = torch.meshgrid(X, Y, indexing=\"xy\")"
   ]
  },
  {
   "cell_type": "code",
   "execution_count": null,
   "id": "9d120ade",
   "metadata": {},
   "outputs": [],
   "source": [
    "%matplotlib widget\n",
    "fig = plt.figure(figsize=(8, 8))\n",
    "ax = plt.axes(projection=\"3d\")\n",
    "ax.plot_surface(xx, yy, zz, color=\"blue\")\n",
    "ax.scatter(XX, YY, f(XX, YY), color=\"red\", s=100)"
   ]
  },
  {
   "cell_type": "markdown",
   "id": "8cfa9a73",
   "metadata": {},
   "source": [
    "# Interpolating with basis functions"
   ]
  },
  {
   "cell_type": "code",
   "execution_count": null,
   "id": "c33152f4",
   "metadata": {},
   "outputs": [],
   "source": [
    "y_steps, x_steps = 5, 20\n",
    "y_start, y_end = -10, 10\n",
    "x_start, x_end = -10, 10"
   ]
  },
  {
   "cell_type": "code",
   "execution_count": null,
   "id": "fd502913",
   "metadata": {},
   "outputs": [],
   "source": [
    "X = torch.linspace(x_start, x_end, x_steps)\n",
    "Y = torch.linspace(y_start, y_end, y_steps)\n",
    "h_1 = X.diff()[0]\n",
    "h_2 = Y.diff()[0]"
   ]
  },
  {
   "cell_type": "code",
   "execution_count": null,
   "id": "4fedafe5",
   "metadata": {},
   "outputs": [],
   "source": [
    "def phi(X, Y, h1, h2, i, j, n_x, n_y):\n",
    "    tx = torch.linspace(X.min(), X.max(), n_x)\n",
    "    ty = torch.linspace(Y.min(), Y.max(), n_y)\n",
    "\n",
    "    xx, yy = torch.meshgrid(tx, ty, indexing=\"xy\")\n",
    "    xx = xx - xx.min()\n",
    "    yy = yy - yy.min()\n",
    "\n",
    "    tmp = torch.zeros(xx.shape)\n",
    "\n",
    "    idx1 = (i - 1 <= xx / h1) & (xx / h1 <= i) & (j - 1 <= yy / h2) & (yy / h2 <= j)\n",
    "    tmp[idx1] = ((xx / h1 - i + 1) * (yy / h2 - j + 1))[idx1]\n",
    "\n",
    "    idx2 = (i - 1 <= xx / h1) & (xx / h1 <= i) & (j <= yy / h2) & (yy / h2 <= j + 1)\n",
    "    tmp[idx2] = ((xx / h1 - i + 1) * (j + 1 - yy / h2))[idx2]\n",
    "\n",
    "    idx3 = (i <= xx / h1) & (xx / h1 <= i + 1) & (j - 1 <= yy / h2) & (yy / h2 <= j)\n",
    "    tmp[idx3] = ((i + 1 - xx / h1) * (yy / h2 - j + 1))[idx3]\n",
    "\n",
    "    idx4 = (i <= xx / h1) & (xx / h1 <= i + 1) & (j <= yy / h2) & (yy / h2 <= j + 1)\n",
    "    tmp[idx4] = ((i + 1 - xx / h1) * (j + 1 - yy / h2))[idx4]\n",
    "\n",
    "    return tmp"
   ]
  },
  {
   "cell_type": "code",
   "execution_count": null,
   "id": "9b3549a8",
   "metadata": {},
   "outputs": [],
   "source": [
    "n_x, n_y = 50, 50\n",
    "tx = torch.linspace(-10, 10, n_x)\n",
    "ty = torch.linspace(-10, 10, n_y)\n",
    "xx, yy = torch.meshgrid(tx, ty, indexing=\"xy\")\n",
    "zz = torch.zeros(n_y, n_x)\n",
    "\n",
    "for i in range(x_steps):\n",
    "    for j in range(y_steps):\n",
    "        zz += phi(X, Y, h_1, h_2, i, j, n_x, n_y) * f(X[i], Y[j])"
   ]
  },
  {
   "cell_type": "code",
   "execution_count": null,
   "id": "291531fe",
   "metadata": {},
   "outputs": [],
   "source": [
    "XX, YY = torch.meshgrid(X, Y, indexing=\"xy\")"
   ]
  },
  {
   "cell_type": "code",
   "execution_count": null,
   "id": "471ddf8d",
   "metadata": {},
   "outputs": [],
   "source": [
    "%matplotlib widget\n",
    "fig = plt.figure(figsize=(8, 8))\n",
    "ax = plt.axes(projection=\"3d\")\n",
    "ax.plot_surface(xx, yy, zz, color=\"blue\")\n",
    "ax.scatter(XX, YY, f(XX, YY), color=\"red\", s=100)"
   ]
  },
  {
   "cell_type": "markdown",
   "id": "5886af84",
   "metadata": {},
   "source": [
    "# Single basis\n",
    "$$\\phi_{i,j}(x,y)=\n",
    "\\begin{cases}\n",
    "\\left[\\frac{x}{h}-(i-1)\\right]\\left[\\frac{y}{h}-(j-1)\\right] \\\\\n",
    "\\left[\\frac{x}{h}-(i-1)\\right]\\left[(j+1)-\\frac{y}{h}\\right] \\\\\n",
    "\\left[(i+1)-\\frac{x}{h}\\right]\\left[\\frac{y}{h}-(j-1)\\right] \\\\\n",
    "\\left[(i+1)-\\frac{x}{h}\\right]\\left[(j+1)-\\frac{y}{h}\\right]\n",
    "\\end{cases} \n",
    "$$"
   ]
  },
  {
   "cell_type": "code",
   "execution_count": null,
   "id": "05cb48aa",
   "metadata": {},
   "outputs": [],
   "source": [
    "%matplotlib widget\n",
    "fig = plt.figure(figsize=(8, 8))\n",
    "ax = plt.axes(projection=\"3d\")\n",
    "ax.plot_surface(xx, yy, phi(X, Y, h_1, h_2, 2, 2, n_x, n_y), cmap=\"magma\")\n",
    "plt.show()"
   ]
  },
  {
   "cell_type": "markdown",
   "id": "350e41a1",
   "metadata": {},
   "source": [
    "# Single rectangular element"
   ]
  },
  {
   "cell_type": "code",
   "execution_count": null,
   "id": "e7cb753f",
   "metadata": {},
   "outputs": [],
   "source": [
    "X = torch.tensor([0, 1])\n",
    "Y = torch.tensor([0, 1])\n",
    "t = torch.linspace(0, 1, 10)\n",
    "xx, yy = torch.meshgrid(t, t, indexing=\"xy\")"
   ]
  },
  {
   "cell_type": "code",
   "execution_count": null,
   "id": "70dc14b7",
   "metadata": {},
   "outputs": [],
   "source": [
    "alpha = (X[1] - xx) * (Y[1] - yy)\n",
    "betta = (xx - X[0]) * (Y[1] - yy)\n",
    "gamma = (X[1] - xx) * (yy - Y[0])\n",
    "delta = (xx - X[0]) * (yy - Y[0])"
   ]
  },
  {
   "cell_type": "code",
   "execution_count": null,
   "id": "ce3ec7f7",
   "metadata": {},
   "outputs": [],
   "source": [
    "zz = alpha * 2 + betta * -1 + gamma * -1 + delta * 2"
   ]
  },
  {
   "cell_type": "code",
   "execution_count": null,
   "id": "deee5a8e",
   "metadata": {},
   "outputs": [],
   "source": [
    "XX, YY = torch.meshgrid(X, Y, indexing=\"xy\")"
   ]
  },
  {
   "cell_type": "code",
   "execution_count": null,
   "id": "f8ab0896",
   "metadata": {},
   "outputs": [],
   "source": [
    "%matplotlib widget\n",
    "fig = plt.figure(figsize=(8, 8))\n",
    "ax = plt.axes(projection=\"3d\")\n",
    "ax.plot_surface(xx, yy, zz, color=\"green\")\n",
    "ax.scatter(XX, YY, [2, -1, -1, 2], color=\"red\", s=100)"
   ]
  },
  {
   "cell_type": "markdown",
   "id": "6d722bff",
   "metadata": {},
   "source": [
    "# Hermite interpolation basis functions"
   ]
  },
  {
   "cell_type": "code",
   "execution_count": null,
   "id": "ee56ca5b",
   "metadata": {},
   "outputs": [],
   "source": [
    "import numpy as np"
   ]
  },
  {
   "cell_type": "code",
   "execution_count": null,
   "id": "84d3f769",
   "metadata": {},
   "outputs": [],
   "source": [
    "def phi_0(t, t_0, h, t_N, j):\n",
    "    F = np.zeros_like(t)\n",
    "\n",
    "    f1 = (1 + (t - t_0) / h - j) ** 2 * (1 - 2 * (t - t_0) / h + 2 * j)\n",
    "    f2 = (1 - (t - t_0) / h + j) ** 2 * (1 + 2 * (t - t_0) / h - 2 * j)\n",
    "\n",
    "    F[(-1 + j <= (t - t_0) / h) & ((t - t_0) / h <= 0 + j)] = f1[\n",
    "        (-1 + j <= (t - t_0) / h) & ((t - t_0) / h <= 0 + j)\n",
    "    ]\n",
    "    F[(+0 + j <= (t - t_0) / h) & ((t - t_0) / h <= 1 + j)] = f2[\n",
    "        (+0 + j <= (t - t_0) / h) & ((t - t_0) / h <= 1 + j)\n",
    "    ]\n",
    "\n",
    "    return F"
   ]
  },
  {
   "cell_type": "code",
   "execution_count": null,
   "id": "208be19a",
   "metadata": {},
   "outputs": [],
   "source": [
    "def phi_1(t, t_0, h, t_N, j):\n",
    "    F = np.zeros_like(t)\n",
    "\n",
    "    f1 = (1 - (t - t_0) / h + j) ** 2 * ((t - t_0) / h - j)\n",
    "    f2 = (1 + (t - t_0) / h - j) ** 2 * ((t - t_0) / h - j)\n",
    "\n",
    "    F[(+0 + j <= (t - t_0) / h) & ((t - t_0) / h <= 1 + j)] = f1[\n",
    "        (+0 + j <= (t - t_0) / h) & ((t - t_0) / h <= 1 + j)\n",
    "    ]\n",
    "    F[(-1 + j <= (t - t_0) / h) & ((t - t_0) / h <= 0 + j)] = f2[\n",
    "        (-1 + j <= (t - t_0) / h) & ((t - t_0) / h <= 0 + j)\n",
    "    ]\n",
    "\n",
    "    return F"
   ]
  },
  {
   "cell_type": "code",
   "execution_count": null,
   "id": "a83eb85b",
   "metadata": {},
   "outputs": [],
   "source": [
    "x, y = np.linspace(-2, 2, 1000), np.linspace(-2, 2, 1000)\n",
    "(X, h1), (Y, h2) = np.linspace(-2, 2, 5, retstep=True), np.linspace(\n",
    "    -2, 2, 5, retstep=True\n",
    ")\n",
    "xx, yy = np.meshgrid(x, y, indexing=\"ij\")"
   ]
  },
  {
   "cell_type": "code",
   "execution_count": null,
   "id": "937a9709",
   "metadata": {},
   "outputs": [],
   "source": [
    "# XX, YY = np.meshgrid(X, Y, indexing='ij')\n",
    "# ZZ = 1 / (1+ XX**2+YY**2)\n",
    "\n",
    "# zz = np.zeros_like(xx)\n",
    "\n",
    "# for i in range(10):\n",
    "#     for j in range(10):\n",
    "#         zz += ZZ[i][j] * np.outer(phi_0(x, X[0], h1, X[-1], j), phi_0(y, Y[0], h2, Y[-1], i))\n",
    "#         zz += ZZ[i][j] * np.outer(phi_1(x, X[0], h1, X[-1], j), phi_1(y, Y[0], h2, Y[-1], i))"
   ]
  },
  {
   "cell_type": "code",
   "execution_count": null,
   "id": "ef4d226a",
   "metadata": {},
   "outputs": [],
   "source": [
    "YYY_1 = np.outer(phi_0(x, X[0], h1, X[-1], 2), phi_0(y, Y[0], h2, Y[-1], 2))\n",
    "YYY_2 = np.outer(phi_0(x, X[0], h1, X[-1], 2), phi_1(y, Y[0], h2, Y[-1], 2))\n",
    "YYY_3 = np.outer(phi_1(x, X[0], h1, X[-1], 2), phi_0(y, Y[0], h2, Y[-1], 2))\n",
    "YYY_4 = np.outer(phi_1(x, X[0], h1, X[-1], 2), phi_1(y, Y[0], h2, Y[-1], 2))"
   ]
  },
  {
   "cell_type": "code",
   "execution_count": null,
   "id": "fbde3282",
   "metadata": {},
   "outputs": [],
   "source": [
    "%matplotlib widget\n",
    "fig = plt.figure(figsize=(10, 10))\n",
    "ax = plt.axes(projection=\"3d\")\n",
    "ax.plot_surface(xx, yy, YYY_2, cmap=\"magma\")\n",
    "# fig.savefig('../images/two_dimensional_ermite_4')\n",
    "plt.show()"
   ]
  }
 ],
 "metadata": {
  "kernelspec": {
   "display_name": "Python 3 (ipykernel)",
   "language": "python",
   "name": "python3"
  },
  "language_info": {
   "codemirror_mode": {
    "name": "ipython",
    "version": 3
   },
   "file_extension": ".py",
   "mimetype": "text/x-python",
   "name": "python",
   "nbconvert_exporter": "python",
   "pygments_lexer": "ipython3",
   "version": "3.9.12"
  }
 },
 "nbformat": 4,
 "nbformat_minor": 5
}
