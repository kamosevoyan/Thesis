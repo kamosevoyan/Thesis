{
 "cells": [
  {
   "cell_type": "code",
   "execution_count": null,
   "id": "d77dd589",
   "metadata": {},
   "outputs": [],
   "source": [
    "import sympy\n",
    "import numpy as np\n",
    "import matplotlib.pyplot as plt\n",
    "import matplotlib.colors as mcolors\n",
    "import dill\n",
    "from tqdm import tqdm\n",
    "from triangle import triangulate\n",
    "from utils import (\n",
    "    get_middle_indices,\n",
    "    fill_stiffness_matrix,\n",
    ")\n",
    "from matplotlib import cm\n",
    "\n",
    "dill.settings[\"recurse\"] = True"
   ]
  },
  {
   "cell_type": "markdown",
   "id": "bf7377a7-31a4-41f0-a34d-752afcf973f2",
   "metadata": {
    "tags": []
   },
   "source": [
    "### Get precomputed integrals"
   ]
  },
  {
   "cell_type": "code",
   "execution_count": null,
   "id": "41befacc",
   "metadata": {},
   "outputs": [],
   "source": [
    "biharmonic_functional = dill.load(\n",
    "    open(\n",
    "        \"../calculations/argyris_quintic_biharmonic_matrix_with_mixed_simplified\", \"rb\"\n",
    "    )\n",
    ")\n",
    "basis_integral_values = dill.load(\n",
    "    open(\n",
    "        \"../calculations/argyris_quintic_biharmonic_matrix_right_values_simplified\",\n",
    "        \"rb\",\n",
    "    )\n",
    ")"
   ]
  },
  {
   "cell_type": "markdown",
   "id": "0b85ea3c-eb13-4f02-9b82-34e00b1072b4",
   "metadata": {},
   "source": [
    "### Initialize the domain"
   ]
  },
  {
   "cell_type": "code",
   "execution_count": null,
   "id": "4519e43b",
   "metadata": {},
   "outputs": [],
   "source": [
    "t = np.linspace(0, 1, 50, endpoint=False)\n",
    "points = np.stack((np.cos(2 * np.pi * t), np.sin(2 * np.pi * t))).T\n",
    "\n",
    "seg = np.array(\n",
    "    [[j, j + 1] for j in range(points.shape[0] - 1)] + [[points.shape[0] - 1, 0]]\n",
    ")"
   ]
  },
  {
   "cell_type": "markdown",
   "id": "fc7ec289-118b-44b8-8af1-d94868deadc4",
   "metadata": {},
   "source": [
    "### Run triangulation"
   ]
  },
  {
   "cell_type": "code",
   "execution_count": null,
   "id": "c5092c6f",
   "metadata": {},
   "outputs": [],
   "source": [
    "cndt = triangulate({\"vertices\": points, \"segments\": seg}, opts=\"pq30a0.01neo2s\")\n",
    "points = cndt[\"vertices\"]\n",
    "triangles = cndt[\"triangles\"]\n",
    "neighbours = cndt[\"neighbors\"]\n",
    "edges = cndt[\"edges\"]\n",
    "vertex_marker_is_boundary = cndt[\"vertex_markers\"]\n",
    "edge_marker_is_boundary = cndt[\"edge_markers\"]\n",
    "print(\n",
    "    f\"Total number of points:\\t\\t{points.shape[0]}\\nTotal number of elements:\\t{triangles.shape[0]}\"\n",
    ")"
   ]
  },
  {
   "cell_type": "markdown",
   "id": "e44dde11",
   "metadata": {},
   "source": [
    "### Separate middles"
   ]
  },
  {
   "cell_type": "code",
   "execution_count": null,
   "id": "b72df636",
   "metadata": {},
   "outputs": [],
   "source": [
    "is_middle = get_middle_indices(points.shape[0], triangles)"
   ]
  },
  {
   "cell_type": "markdown",
   "id": "1414f2ea-2215-47df-887e-110d49096527",
   "metadata": {},
   "source": [
    "### Visualize triangulation"
   ]
  },
  {
   "cell_type": "code",
   "execution_count": null,
   "id": "8dbd905e",
   "metadata": {},
   "outputs": [],
   "source": [
    "%matplotlib inline\n",
    "fig, ax = plt.subplots(figsize=(7, 7))\n",
    "ax.axis(\"equal\")\n",
    "\n",
    "cl = [\"black\", \"brown\"]\n",
    "\n",
    "for eidx, edge in enumerate(edges):\n",
    "    ax.plot(\n",
    "        points[edge][:, 0],\n",
    "        points[edge][:, 1],\n",
    "        color=cl[edge_marker_is_boundary[eidx][0]],\n",
    "    )\n",
    "\n",
    "ax.set_xlim([points[:, 0].min() - 1 / 2, points[:, 0].max() + 1 / 2])\n",
    "ax.set_ylim([points[:, 1].min() - 1 / 2, points[:, 1].max() + 1 / 2])\n",
    "\n",
    "fig.tight_layout()\n",
    "plt.tight_layout()\n",
    "\n",
    "plt.show()"
   ]
  },
  {
   "cell_type": "markdown",
   "id": "2557abc1-3bea-4686-ac69-a98028560a66",
   "metadata": {},
   "source": [
    "### Initialize variables"
   ]
  },
  {
   "cell_type": "code",
   "execution_count": null,
   "id": "181c06c6",
   "metadata": {},
   "outputs": [],
   "source": [
    "total_points = points.shape[0]\n",
    "num_midpoints = is_middle.sum()\n",
    "num_nodes = total_points - num_midpoints\n",
    "NUM = 6 * num_nodes + num_midpoints"
   ]
  },
  {
   "cell_type": "code",
   "execution_count": null,
   "id": "a37b1e23",
   "metadata": {},
   "outputs": [],
   "source": [
    "x, y = sympy.symbols(\"x y\", real=True)"
   ]
  },
  {
   "cell_type": "markdown",
   "id": "37da1738-ae8f-4d98-9e1f-2a991760bf06",
   "metadata": {},
   "source": [
    "### Define the right part of the equation"
   ]
  },
  {
   "cell_type": "code",
   "execution_count": null,
   "id": "0efdbd90",
   "metadata": {},
   "outputs": [],
   "source": [
    "F = sympy.Float(1)\n",
    "F_x = F.diff(x)\n",
    "F_y = F.diff(y)\n",
    "F_xx = F_x.diff(x)\n",
    "F_xy = F_x.diff(y)\n",
    "F_yy = F_y.diff(y)"
   ]
  },
  {
   "cell_type": "code",
   "execution_count": null,
   "id": "f150685e",
   "metadata": {},
   "outputs": [],
   "source": [
    "right_part_values = np.zeros((total_points, 6))\n",
    "right_part_values[:, 0] = sympy.lambdify((x, y), F)(*points.T)\n",
    "right_part_values[:, 1] = sympy.lambdify((x, y), F_x)(*points.T)\n",
    "right_part_values[:, 2] = sympy.lambdify((x, y), F_y)(*points.T)\n",
    "right_part_values[:, 3] = sympy.lambdify((x, y), F_xx)(*points.T)\n",
    "right_part_values[:, 4] = sympy.lambdify((x, y), F_xy)(*points.T)\n",
    "right_part_values[:, 5] = sympy.lambdify((x, y), F_yy)(*points.T)"
   ]
  },
  {
   "cell_type": "markdown",
   "id": "06600d1d",
   "metadata": {},
   "source": [
    "### Stiffnes matrix assembling"
   ]
  },
  {
   "cell_type": "code",
   "execution_count": null,
   "id": "9a7bd91a",
   "metadata": {},
   "outputs": [],
   "source": [
    "def orient_batch(arg):\n",
    "    indices = np.argsort(arg[:, :3], axis=-1)\n",
    "    vertices = np.take_along_axis(arg[:, :3], indices, axis=-1)\n",
    "    middle_points = np.take_along_axis(arg[:, 3:], indices, axis=-1)\n",
    "    oriented = np.concatenate([vertices, middle_points], axis=-1)\n",
    "\n",
    "    return oriented"
   ]
  },
  {
   "cell_type": "code",
   "execution_count": null,
   "metadata": {},
   "outputs": [],
   "source": [
    "triangles = orient_batch(triangles)\n",
    "pts = points[triangles[:, :3]]"
   ]
  },
  {
   "cell_type": "code",
   "execution_count": null,
   "id": "781b8ef1",
   "metadata": {},
   "outputs": [],
   "source": [
    "x1 = right_part_values[triangles[:, 0]]\n",
    "x2 = right_part_values[triangles[:, 1]]\n",
    "x3 = right_part_values[triangles[:, 2]]"
   ]
  },
  {
   "cell_type": "code",
   "execution_count": null,
   "id": "3cac74a0",
   "metadata": {},
   "outputs": [],
   "source": [
    "n1 = right_part_values[triangles[:, 3], 1:3]\n",
    "n2 = right_part_values[triangles[:, 4], 1:3]\n",
    "n3 = right_part_values[triangles[:, 5], 1:3]"
   ]
  },
  {
   "cell_type": "code",
   "execution_count": null,
   "id": "639c2e0d",
   "metadata": {},
   "outputs": [],
   "source": [
    "bilinear_form_ = biharmonic_functional(\n",
    "    pts[:, 0, 0], pts[:, 0, 1], pts[:, 1, 0], pts[:, 1, 1], pts[:, 2, 0], pts[:, 2, 1]\n",
    ").transpose(2, 0, 1)\n",
    "\n",
    "right_part_ = basis_integral_values(\n",
    "    pts[:, 0, 0],\n",
    "    pts[:, 0, 1],\n",
    "    pts[:, 1, 0],\n",
    "    pts[:, 1, 1],\n",
    "    pts[:, 2, 0],\n",
    "    pts[:, 2, 1],\n",
    "    *x1.T,\n",
    "    *x2.T,\n",
    "    *x3.T,\n",
    "    *n1.T,\n",
    "    *n1.T,\n",
    "    *n3.T\n",
    ")[:, 0].T\n",
    "\n",
    "matrix = np.zeros((NUM, NUM), dtype=np.float32)\n",
    "b = np.zeros((NUM), dtype=np.float32)\n",
    "\n",
    "for bilinear_form, right_part, element in tqdm(\n",
    "    zip(bilinear_form_, right_part_, triangles), total=len(triangles)\n",
    "):\n",
    "    fill_stiffness_matrix(\n",
    "        matrix,\n",
    "        b,\n",
    "        bilinear_form,\n",
    "        right_part,\n",
    "        element,\n",
    "        vertex_marker_is_boundary,\n",
    "        num_nodes,\n",
    "    )"
   ]
  },
  {
   "cell_type": "markdown",
   "id": "eb763228-e506-4685-a023-1d1353c3d5b2",
   "metadata": {},
   "source": [
    "### Visualize stiffness matrix"
   ]
  },
  {
   "cell_type": "code",
   "execution_count": null,
   "id": "cb7aa1be",
   "metadata": {},
   "outputs": [],
   "source": [
    "%matplotlib inline\n",
    "fig, ax = plt.subplots(figsize=(6, 6))\n",
    "ax.imshow(matrix != 0, cmap=\"gray\")\n",
    "plt.show()"
   ]
  },
  {
   "cell_type": "markdown",
   "id": "f94799da-8cc9-4c6a-b6d9-c346b0b095fd",
   "metadata": {},
   "source": [
    "### Solve the system"
   ]
  },
  {
   "cell_type": "code",
   "execution_count": null,
   "id": "523fcc1a",
   "metadata": {},
   "outputs": [],
   "source": [
    "c = np.linalg.solve(matrix, b)"
   ]
  },
  {
   "cell_type": "markdown",
   "id": "3ccefbbc",
   "metadata": {},
   "source": [
    "### Get values"
   ]
  },
  {
   "cell_type": "code",
   "execution_count": null,
   "id": "fe5eb05c",
   "metadata": {},
   "outputs": [],
   "source": [
    "U = (1 - x**2 - y**2) ** 2 / 64\n",
    "U_x = sympy.lambdify((x, y), U.diff(x))(*points.T[:, :num_nodes])\n",
    "U_y = sympy.lambdify((x, y), U.diff(y))(*points.T[:, :num_nodes])\n",
    "U_xx = sympy.lambdify((x, y), U.diff(x, x))(*points.T[:, :num_nodes])\n",
    "U_xy = sympy.lambdify((x, y), U.diff(x, y))(*points.T[:, :num_nodes])\n",
    "U_yy = sympy.lambdify((x, y), U.diff(y, y))(*points.T[:, :num_nodes])\n",
    "U = sympy.lambdify((x, y), U)(*points.T[:, :num_nodes])\n",
    "_x_ = points[:num_nodes, 0]\n",
    "_y_ = points[:num_nodes, 1]\n",
    "F = c[0 : (6 * num_nodes) : 6]\n",
    "Fx = c[1 : (6 * num_nodes) : 6]\n",
    "Fy = c[2 : (6 * num_nodes) : 6]\n",
    "Fxx = c[3 : (6 * num_nodes) : 6]\n",
    "Fxy = c[4 : (6 * num_nodes) : 6]\n",
    "Fyy = c[5 : (6 * num_nodes) : 6]"
   ]
  },
  {
   "cell_type": "code",
   "execution_count": null,
   "id": "e8cd14a8",
   "metadata": {},
   "outputs": [],
   "source": [
    "%matplotlib widget\n",
    "fig, ax = plt.subplots(2, 3, figsize=(10, 10), subplot_kw=dict(projection=\"3d\"))\n",
    "plot_1 = ax[0, 0].plot_trisurf(_x_, _y_, F, triangles=triangles[:, :3], cmap=cm.magma)\n",
    "ax[0, 0].set_title(r\"$F\\left(x, y\\right)$\")\n",
    "plot_2 = ax[0, 1].plot_trisurf(_x_, _y_, Fx, triangles=triangles[:, :3], cmap=cm.magma)\n",
    "ax[0, 1].set_title(r\"$\\dfrac{\\partial}{\\partial x}F\\left(x, y\\right)$\")\n",
    "plot_3 = ax[0, 2].plot_trisurf(_x_, _y_, Fy, triangles=triangles[:, :3], cmap=cm.magma)\n",
    "ax[0, 2].set_title(r\"$\\dfrac{\\partial}{\\partial y}F\\left(x, y\\right)$\")\n",
    "plot_4 = ax[1, 0].plot_trisurf(_x_, _y_, Fxx, triangles=triangles[:, :3], cmap=cm.magma)\n",
    "ax[1, 0].set_title(r\"$\\dfrac{\\partial^{2}}{\\partial x^{2}}F\\left(x, y\\right)$\")\n",
    "plot_5 = ax[1, 1].plot_trisurf(_x_, _y_, Fxy, triangles=triangles[:, :3], cmap=cm.magma)\n",
    "ax[1, 1].set_title(r\"$\\dfrac{\\partial}{\\partial x \\partial y}F\\left(x, y\\right)$\")\n",
    "plot_6 = ax[1, 2].plot_trisurf(_x_, _y_, Fyy, triangles=triangles[:, :3], cmap=cm.magma)\n",
    "ax[1, 2].set_title(r\"$\\dfrac{\\partial}{\\partial y^{2}}F\\left(x, y\\right)$\")\n",
    "plt.show()"
   ]
  },
  {
   "cell_type": "markdown",
   "id": "c9e0f8a6",
   "metadata": {},
   "source": [
    "### Error"
   ]
  },
  {
   "cell_type": "markdown",
   "id": "a812b096",
   "metadata": {},
   "source": [
    "### $ \\lVert F - \\hat{F} \\rVert_{\\infty}$"
   ]
  },
  {
   "cell_type": "code",
   "execution_count": null,
   "id": "67d92542",
   "metadata": {
    "scrolled": true
   },
   "outputs": [],
   "source": [
    "abs(U - F).max()"
   ]
  },
  {
   "cell_type": "markdown",
   "id": "3d0864be",
   "metadata": {},
   "source": [
    "### $ \\lVert F_{x} - \\hat{F}_{x} \\rVert_{\\infty}$"
   ]
  },
  {
   "cell_type": "code",
   "execution_count": null,
   "id": "96443e65",
   "metadata": {},
   "outputs": [],
   "source": [
    "abs(U_x - Fx).max()"
   ]
  },
  {
   "cell_type": "markdown",
   "id": "2fb3ec7a",
   "metadata": {},
   "source": [
    "### $ \\lVert F_{y} - \\hat{F}_{y} \\rVert_{\\infty}$"
   ]
  },
  {
   "cell_type": "code",
   "execution_count": null,
   "id": "4c9dcc6e",
   "metadata": {
    "scrolled": true
   },
   "outputs": [],
   "source": [
    "abs(U_y - Fy).max()"
   ]
  },
  {
   "cell_type": "markdown",
   "id": "f223d629",
   "metadata": {},
   "source": [
    "### $ \\lVert F_{xx} - \\hat{F}_{xx} \\rVert_{\\infty}$"
   ]
  },
  {
   "cell_type": "code",
   "execution_count": null,
   "id": "e0504f0e",
   "metadata": {},
   "outputs": [],
   "source": [
    "abs(U_xx - Fxx).max()"
   ]
  },
  {
   "cell_type": "markdown",
   "id": "bdfd1919",
   "metadata": {},
   "source": [
    "### $ \\lVert F_{xy} - \\hat{F}_{xy} \\rVert_{\\infty}$"
   ]
  },
  {
   "cell_type": "code",
   "execution_count": null,
   "id": "b877c65f",
   "metadata": {
    "scrolled": true
   },
   "outputs": [],
   "source": [
    "abs(U_xy - Fxy).max()"
   ]
  },
  {
   "cell_type": "markdown",
   "id": "261d60c5",
   "metadata": {},
   "source": [
    "### $ \\lVert F_{yy} - \\hat{F}_{yy} \\rVert_{\\infty}$"
   ]
  },
  {
   "cell_type": "code",
   "execution_count": null,
   "id": "dceccb4d",
   "metadata": {},
   "outputs": [],
   "source": [
    "abs(U_yy - Fyy).max()"
   ]
  }
 ],
 "metadata": {
  "kernelspec": {
   "display_name": "Python 3 (ipykernel)",
   "language": "python",
   "name": "python3"
  },
  "language_info": {
   "codemirror_mode": {
    "name": "ipython",
    "version": 3
   },
   "file_extension": ".py",
   "mimetype": "text/x-python",
   "name": "python",
   "nbconvert_exporter": "python",
   "pygments_lexer": "ipython3",
   "version": "3.9.12"
  },
  "vscode": {
   "interpreter": {
    "hash": "6947a4b5a0ae6e24fd3646cdd9aef182ef077bcd4bc00eed2962db1fa1d6b308"
   }
  }
 },
 "nbformat": 4,
 "nbformat_minor": 5
}
