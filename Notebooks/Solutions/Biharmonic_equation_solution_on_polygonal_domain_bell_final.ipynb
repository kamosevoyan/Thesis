{
 "cells": [
  {
   "cell_type": "code",
   "execution_count": null,
   "id": "d77dd589",
   "metadata": {},
   "outputs": [],
   "source": [
    "import sympy\n",
    "import numpy as np\n",
    "import matplotlib.pyplot as plt\n",
    "import matplotlib.colors as mcolors\n",
    "import dill\n",
    "from tqdm import tqdm\n",
    "from triangle import triangulate\n",
    "from utils import (\n",
    "    fill_stiffness_matrix_bell_preconditioned,\n",
    "    orient_batch,\n",
    "    get_precondition_terms,\n",
    ")\n",
    "from matplotlib import cm\n",
    "\n",
    "dill.settings[\"recurse\"] = True"
   ]
  },
  {
   "cell_type": "markdown",
   "id": "bf7377a7-31a4-41f0-a34d-752afcf973f2",
   "metadata": {
    "tags": []
   },
   "source": [
    "### Get precomputed integrals"
   ]
  },
  {
   "cell_type": "code",
   "execution_count": null,
   "id": "41befacc",
   "metadata": {},
   "outputs": [],
   "source": [
    "biharmonic_functional = dill.load(\n",
    "    open(\n",
    "        \"../calculations/bell_quintic_biharmonic_matrix_without_mixed_simplified\", \"rb\"\n",
    "    )\n",
    ")\n",
    "basis_integral_values = dill.load(\n",
    "    open(\"../calculations/bell_quintic_biharmonic_matrix_right_values_simplified\", \"rb\")\n",
    ")\n",
    "\n",
    "basis = dill.load(open(\"../calculations/bell_quintic_basis_transformed\", \"rb\"))"
   ]
  },
  {
   "cell_type": "markdown",
   "id": "0b85ea3c-eb13-4f02-9b82-34e00b1072b4",
   "metadata": {},
   "source": [
    "### Initialize the domain"
   ]
  },
  {
   "cell_type": "code",
   "execution_count": null,
   "id": "4519e43b",
   "metadata": {},
   "outputs": [],
   "source": [
    "t = np.linspace(0, 1, 50, endpoint=False)\n",
    "points = np.stack((np.cos(2 * np.pi * t), np.sin(2 * np.pi * t))).T\n",
    "\n",
    "seg = np.array(\n",
    "    [[j, j + 1] for j in range(points.shape[0] - 1)] + [[points.shape[0] - 1, 0]]\n",
    ")"
   ]
  },
  {
   "cell_type": "markdown",
   "id": "fc7ec289-118b-44b8-8af1-d94868deadc4",
   "metadata": {},
   "source": [
    "### Run triangulation"
   ]
  },
  {
   "cell_type": "code",
   "execution_count": null,
   "id": "c5092c6f",
   "metadata": {},
   "outputs": [],
   "source": [
    "# S{n} - number of added steiner points\n",
    "\n",
    "max_area = 0.009\n",
    "min_angle = 30\n",
    "order = 1\n",
    "\n",
    "opts = f\"pq{min_angle}a{max_area}o{order}en\"\n",
    "\n",
    "cndt = triangulate({\"vertices\": points, \"segments\": seg}, opts=opts)\n",
    "points = cndt[\"vertices\"]\n",
    "triangles = cndt[\"triangles\"]\n",
    "edges = cndt[\"edges\"]\n",
    "neighbours = cndt[\"neighbors\"]\n",
    "vertex_marker_is_boundary = cndt[\"vertex_markers\"]\n",
    "edge_marker_is_boundary = cndt[\"edge_markers\"]\n",
    "print(\n",
    "    f\"Total number of points:\\t\\t{points.shape[0]}\\nTotal number of elements:\\t{triangles.shape[0]}\"\n",
    ")"
   ]
  },
  {
   "cell_type": "markdown",
   "id": "1414f2ea-2215-47df-887e-110d49096527",
   "metadata": {},
   "source": [
    "### Visualize triangulation"
   ]
  },
  {
   "cell_type": "code",
   "execution_count": null,
   "id": "8dbd905e",
   "metadata": {},
   "outputs": [],
   "source": [
    "%matplotlib inline\n",
    "fig, ax = plt.subplots(figsize=(7, 7))\n",
    "ax.axis(\"equal\")\n",
    "\n",
    "cl = [\"black\", \"brown\"]\n",
    "\n",
    "for eidx, edge in enumerate(edges):\n",
    "    ax.plot(\n",
    "        points[edge][:, 0],\n",
    "        points[edge][:, 1],\n",
    "        color=cl[edge_marker_is_boundary[eidx][0]],\n",
    "    )\n",
    "\n",
    "ax.scatter(*points.T, c=vertex_marker_is_boundary)\n",
    "\n",
    "xmn = points[:, 0].min()\n",
    "xmx = points[:, 0].max()\n",
    "ymn = points[:, 1].min()\n",
    "ymx = points[:, 1].max()\n",
    "\n",
    "\n",
    "ax.set_xlim([xmn, xmx])\n",
    "ax.set_ylim([ymn, ymx])\n",
    "\n",
    "PLOT_TRIANGLE_NUMBER = False\n",
    "PLOT_VERTEX_NUMBER = False\n",
    "\n",
    "for index, triangle in enumerate(tqdm(points[triangles])):\n",
    "    if PLOT_TRIANGLE_NUMBER is True:\n",
    "        ax.text(triangle[:, 0].mean(), triangle[:, 1].mean(), f\"{index}\")\n",
    "\n",
    "if PLOT_VERTEX_NUMBER is True:\n",
    "    eps = 1e-2\n",
    "    for p_index, point in enumerate(points):\n",
    "        ax.text(point[0] + eps, point[1] + eps, f\"{p_index}\", fontsize=15)\n",
    "\n",
    "fig.tight_layout()\n",
    "\n",
    "plt.show()"
   ]
  },
  {
   "cell_type": "markdown",
   "id": "2557abc1-3bea-4686-ac69-a98028560a66",
   "metadata": {},
   "source": [
    "### Initialize variables"
   ]
  },
  {
   "cell_type": "code",
   "execution_count": null,
   "id": "181c06c6",
   "metadata": {},
   "outputs": [],
   "source": [
    "total_points = points.shape[0]\n",
    "NUM = 6 * total_points"
   ]
  },
  {
   "cell_type": "code",
   "execution_count": null,
   "id": "a37b1e23",
   "metadata": {},
   "outputs": [],
   "source": [
    "x, y = sympy.symbols(\"x y\")"
   ]
  },
  {
   "cell_type": "markdown",
   "id": "37da1738-ae8f-4d98-9e1f-2a991760bf06",
   "metadata": {},
   "source": [
    "### Define the right part of the equation"
   ]
  },
  {
   "cell_type": "code",
   "execution_count": null,
   "id": "0efdbd90",
   "metadata": {},
   "outputs": [],
   "source": [
    "F = sympy.Float(1)\n",
    "F_x = F.diff(x)\n",
    "F_y = F.diff(y)\n",
    "F_xx = F_x.diff(x)\n",
    "F_xy = F_x.diff(y)\n",
    "F_yy = F_y.diff(y)"
   ]
  },
  {
   "cell_type": "code",
   "execution_count": null,
   "id": "f150685e",
   "metadata": {},
   "outputs": [],
   "source": [
    "right_part_values = np.zeros((total_points, 6))\n",
    "right_part_values[:, 0] = sympy.lambdify((x, y), F)(*points.T)\n",
    "right_part_values[:, 1] = sympy.lambdify((x, y), F_x)(*points.T)\n",
    "right_part_values[:, 2] = sympy.lambdify((x, y), F_y)(*points.T)\n",
    "right_part_values[:, 3] = sympy.lambdify((x, y), F_xx)(*points.T)\n",
    "right_part_values[:, 4] = sympy.lambdify((x, y), F_xy)(*points.T)\n",
    "right_part_values[:, 5] = sympy.lambdify((x, y), F_yy)(*points.T)"
   ]
  },
  {
   "cell_type": "markdown",
   "id": "06600d1d",
   "metadata": {},
   "source": [
    "### Stiffnes matrix assembling"
   ]
  },
  {
   "cell_type": "code",
   "execution_count": null,
   "id": "446aa692",
   "metadata": {},
   "outputs": [],
   "source": [
    "triangles = orient_batch(triangles)\n",
    "pts = points[triangles]"
   ]
  },
  {
   "cell_type": "code",
   "execution_count": null,
   "id": "781b8ef1",
   "metadata": {},
   "outputs": [],
   "source": [
    "x1 = right_part_values[triangles[:, 0]]\n",
    "x2 = right_part_values[triangles[:, 1]]\n",
    "x3 = right_part_values[triangles[:, 2]]"
   ]
  },
  {
   "cell_type": "code",
   "execution_count": null,
   "id": "d17184ab",
   "metadata": {},
   "outputs": [],
   "source": [
    "cond = get_precondition_terms(points, triangles) "
   ]
  },
  {
   "cell_type": "code",
   "execution_count": null,
   "id": "2bfe421b",
   "metadata": {},
   "outputs": [],
   "source": [
    "bilinear_form_ = biharmonic_functional(\n",
    "    pts[:, 0, 0], pts[:, 0, 1], pts[:, 1, 0], pts[:, 1, 1], pts[:, 2, 0], pts[:, 2, 1]\n",
    ").transpose(2, 0, 1)\n",
    "\n",
    "right_part_ = basis_integral_values(\n",
    "    pts[:, 0, 0],\n",
    "    pts[:, 0, 1],\n",
    "    pts[:, 1, 0],\n",
    "    pts[:, 1, 1],\n",
    "    pts[:, 2, 0],\n",
    "    pts[:, 2, 1],\n",
    "    *x1.T,\n",
    "    *x2.T,\n",
    "    *x3.T\n",
    ")[:, 0].T"
   ]
  },
  {
   "cell_type": "code",
   "execution_count": null,
   "id": "639c2e0d",
   "metadata": {},
   "outputs": [],
   "source": [
    "bilinear_form_ = biharmonic_functional(\n",
    "    pts[:, 0, 0], pts[:, 0, 1], pts[:, 1, 0], pts[:, 1, 1], pts[:, 2, 0], pts[:, 2, 1]\n",
    ").transpose(2, 0, 1)\n",
    "\n",
    "right_part_ = basis_integral_values(\n",
    "    pts[:, 0, 0],\n",
    "    pts[:, 0, 1],\n",
    "    pts[:, 1, 0],\n",
    "    pts[:, 1, 1],\n",
    "    pts[:, 2, 0],\n",
    "    pts[:, 2, 1],\n",
    "    *x1.T,\n",
    "    *x2.T,\n",
    "    *x3.T\n",
    ")[:, 0].T\n",
    "\n",
    "matrix = np.zeros((NUM, NUM), dtype=np.float64)\n",
    "b = np.zeros((NUM), dtype=np.float64)\n",
    "\n",
    "for bilinear_form, right_part, element in tqdm(\n",
    "    zip(bilinear_form_, right_part_, triangles), total=len(triangles)\n",
    "):\n",
    "    fill_stiffness_matrix_bell_preconditioned(\n",
    "        matrix, b, bilinear_form, right_part, element, vertex_marker_is_boundary, cond,\n",
    "        edges, points, edge_marker_is_boundary\n",
    "    )"
   ]
  },
  {
   "cell_type": "markdown",
   "id": "eb763228-e506-4685-a023-1d1353c3d5b2",
   "metadata": {},
   "source": [
    "### Visualize stiffness matrix"
   ]
  },
  {
   "cell_type": "code",
   "execution_count": null,
   "id": "cb7aa1be",
   "metadata": {},
   "outputs": [],
   "source": [
    "%matplotlib inline\n",
    "fig, ax = plt.subplots(figsize=(6, 6))\n",
    "ax.imshow(matrix != 0, cmap=\"gray\")\n",
    "plt.show()"
   ]
  },
  {
   "cell_type": "markdown",
   "id": "f94799da-8cc9-4c6a-b6d9-c346b0b095fd",
   "metadata": {},
   "source": [
    "### Solve the system"
   ]
  },
  {
   "cell_type": "code",
   "execution_count": null,
   "id": "523fcc1a",
   "metadata": {},
   "outputs": [],
   "source": [
    "c = np.linalg.solve(matrix.astype(np.float32), b.astype(np.float32))"
   ]
  },
  {
   "cell_type": "markdown",
   "id": "3ccefbbc",
   "metadata": {},
   "source": [
    "### Get values"
   ]
  },
  {
   "cell_type": "code",
   "execution_count": null,
   "id": "fe5eb05c",
   "metadata": {},
   "outputs": [],
   "source": [
    "_x_ = points[:, 0]\n",
    "_y_ = points[:, 1]\n",
    "\n",
    "U = (1 - x**2 - y**2) ** 2 / 64\n",
    "U_x = sympy.lambdify((x, y), U.diff(x))(_x_, _y_)\n",
    "U_y = sympy.lambdify((x, y), U.diff(y))(_x_, _y_)\n",
    "U_xx = sympy.lambdify((x, y), U.diff(x, x))(_x_, _y_)\n",
    "U_xy = sympy.lambdify((x, y), U.diff(x, y))(_x_, _y_)\n",
    "U_yy = sympy.lambdify((x, y), U.diff(y, y))(_x_, _y_)\n",
    "U = sympy.lambdify((x, y), U)(_x_, _y_)\n",
    "\n",
    "F = c[0::6]\n",
    "Fx = c[1::6] / cond\n",
    "Fy = c[2::6] / cond\n",
    "Fxx = c[3::6] / cond**2\n",
    "Fxy = c[4::6] / cond**2\n",
    "Fyy = c[5::6] / cond**2"
   ]
  },
  {
   "cell_type": "code",
   "execution_count": null,
   "id": "e8cd14a8",
   "metadata": {},
   "outputs": [],
   "source": [
    "param = np.linspace(0, 1, 20)\n",
    "tx, ty = np.meshgrid(param, param, indexing=\"ij\")\n",
    "mask = ty <= 1 - tx\n",
    "tx = tx[mask]\n",
    "ty = ty[mask]"
   ]
  },
  {
   "cell_type": "code",
   "execution_count": null,
   "metadata": {},
   "outputs": [],
   "source": [
    "from utils import orient_batch"
   ]
  },
  {
   "cell_type": "code",
   "execution_count": null,
   "id": "2cc34206-46a5-450b-bd85-8274f5c6b7bf",
   "metadata": {},
   "outputs": [],
   "source": [
    "X, Y, Z, Z_true = [], [], [], []\n",
    "U = (1 - x**2 - y**2) ** 2 / 64\n",
    "\n",
    "for element in triangles:\n",
    "    x1, x2, x3 = points[element[0], 0], points[element[1], 0], points[element[2], 0]\n",
    "    y1, y2, y3 = points[element[0], 1], points[element[1], 1], points[element[2], 1]\n",
    "\n",
    "    ptx = x1 + tx * (x2 - x1) + ty * (x3 - x1)\n",
    "    pty = y1 + tx * (y2 - y1) + ty * (y3 - y1)\n",
    "\n",
    "    ptz = basis(\n",
    "        x1,\n",
    "        y1,\n",
    "        x2,\n",
    "        y2,\n",
    "        x3,\n",
    "        y3,\n",
    "        \n",
    "        F[element[0]],\n",
    "        Fx[element[0]],\n",
    "        Fy[element[0]],\n",
    "        Fxx[element[0]],\n",
    "        Fxy[element[0]],\n",
    "        Fyy[element[0]],\n",
    "           \n",
    "        F[element[1]],\n",
    "        Fx[element[1]],\n",
    "        Fy[element[1]],\n",
    "        Fxx[element[1]],\n",
    "        Fxy[element[1]],\n",
    "        Fyy[element[1]],\n",
    "           \n",
    "        F[element[2]],\n",
    "        Fx[element[2]],\n",
    "        Fy[element[2]],\n",
    "        Fxx[element[2]],\n",
    "        Fxy[element[2]],\n",
    "        Fyy[element[2]],\n",
    "           \n",
    "        tx,\n",
    "        ty,\n",
    "    )\n",
    "\n",
    "    X.append(ptx)\n",
    "    Y.append(pty)\n",
    "    Z.append(ptz)\n",
    "    Z_true.append(sympy.lambdify((x, y), U)(ptx, pty))\n",
    "\n",
    "X = np.concatenate(X)\n",
    "Y = np.concatenate(Y)\n",
    "Z = np.concatenate(Z)\n",
    "Z_true = np.concatenate(Z_true)"
   ]
  },
  {
   "cell_type": "markdown",
   "metadata": {},
   "source": [
    "## Surface plot"
   ]
  },
  {
   "cell_type": "code",
   "execution_count": null,
   "metadata": {},
   "outputs": [],
   "source": [
    "from scipy.ndimage import map_coordinates\n",
    "from scipy.interpolate import griddata\n",
    "import plotly.graph_objs as go\n",
    "\n",
    "x_values = np.linspace(-1.3, 1.3, 100)\n",
    "y_values = np.linspace(-1.3, 1.3, 100)\n",
    "XX, YY = np.meshgrid(x_values, y_values)\n",
    "ZZ = griddata((X, Y), Z, (XX, YY), method='cubic', fill_value=0.0)\n",
    "\n",
    "# fig = go.Figure(data=[go.Surface(z=ZZ, x=XX, y=YY)])\n",
    "\n",
    "# # Customize the layout if needed\n",
    "# fig.update_layout(\n",
    "#     title='Surface Plot',\n",
    "#     scene=dict(\n",
    "#         xaxis_title='X Axis',\n",
    "#         yaxis_title='Y Axis',\n",
    "#         zaxis_title='Z Axis',\n",
    "#     )\n",
    "# )\n",
    "\n",
    "# # Show the plot\n",
    "# fig.show()"
   ]
  },
  {
   "cell_type": "code",
   "execution_count": null,
   "metadata": {},
   "outputs": [],
   "source": [
    "plt.figure(figsize=(13, 13))\n",
    "plt.contour(XX, YY, ZZ, levels=np.linspace(ZZ.min()*1.5, Z.max()*1.5, 40))"
   ]
  },
  {
   "cell_type": "markdown",
   "metadata": {},
   "source": [
    "## Mesh plot"
   ]
  },
  {
   "cell_type": "code",
   "execution_count": null,
   "id": "140902e2-69fd-4f0a-9a9c-29b17f393f4c",
   "metadata": {},
   "outputs": [],
   "source": [
    "import plotly.graph_objs as go\n",
    "\n",
    "fig = go.Figure(data=[go.Mesh3d(x=X, y=Y, z=Z, intensity=Z)])\n",
    "\n",
    "\n",
    "# Add layout options if needed\n",
    "fig.update_layout(scene=dict(aspectmode=\"cube\",),\n",
    "                  width=900,\n",
    "                  height=900)\n",
    "\n",
    "# Show the plot\n",
    "fig.show()"
   ]
  }
 ],
 "metadata": {
  "kernelspec": {
   "display_name": "Python 3 (ipykernel)",
   "language": "python",
   "name": "python3"
  },
  "language_info": {
   "codemirror_mode": {
    "name": "ipython",
    "version": 3
   },
   "file_extension": ".py",
   "mimetype": "text/x-python",
   "name": "python",
   "nbconvert_exporter": "python",
   "pygments_lexer": "ipython3",
   "version": "3.9.7"
  },
  "vscode": {
   "interpreter": {
    "hash": "6947a4b5a0ae6e24fd3646cdd9aef182ef077bcd4bc00eed2962db1fa1d6b308"
   }
  }
 },
 "nbformat": 4,
 "nbformat_minor": 5
}
