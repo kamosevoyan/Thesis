{
 "cells": [
  {
   "cell_type": "code",
   "execution_count": null,
   "metadata": {},
   "outputs": [],
   "source": [
    "import sympy\n",
    "import numpy as np\n",
    "import matplotlib.pyplot as plt\n",
    "import dill\n",
    "dill.settings[\"recurse\"] = True\n",
    "from tqdm.notebook import tqdm\n",
    "import plotly\n",
    "from triangle import triangulate\n",
    "\n",
    "from utils import (\n",
    "    get_middle_indices\n",
    ")\n",
    "\n",
    "from scipy.sparse import lil_matrix\n",
    "from scipy.sparse.linalg import spsolve"
   ]
  },
  {
   "cell_type": "code",
   "execution_count": null,
   "metadata": {},
   "outputs": [],
   "source": [
    "weak_form_functional_lambdified = dill.load(open(\"../calculations/macro_cubic_hct_weak_form_functional_xyxy_symbolic\", \"rb\"))\n",
    "weak_form_right_part_lambdified = dill.load(open(\"../calculations/macro_cubic_hct_weak_form_right_part_symbolic\", \"rb\"))\n",
    "interpolation_function =          dill.load(open(\"../calculations/macro_cubic_hct_basis_symbolic\", \"rb\"))\n",
    "interpolation_function_normal =   dill.load(open(\"../calculations/macro_cubic_hct_basis_normal_symbolic\", \"rb\"))\n",
    "mapping_function_lambdified =     dill.load(open(\"../calculations/macro_cubic_hct_mapping_function_symbolic\", \"rb\"))"
   ]
  },
  {
   "cell_type": "markdown",
   "metadata": {},
   "source": [
    "## Get mesh"
   ]
  },
  {
   "cell_type": "code",
   "execution_count": null,
   "metadata": {},
   "outputs": [],
   "source": [
    "t = np.linspace(0 + np.pi/4, 2*np.pi + np.pi/4, 10, endpoint=False)\n",
    "points = np.stack((np.cos(t), np.sin(t))).T\n",
    "\n",
    "seg = np.array(\n",
    "    [[j, j + 1] for j in range(points.shape[0] - 1)] + [[points.shape[0] - 1, 0]]\n",
    ")"
   ]
  },
  {
   "cell_type": "code",
   "execution_count": null,
   "metadata": {},
   "outputs": [],
   "source": [
    "cndt = triangulate({\"vertices\": points, \"segments\": seg}, opts=\"pq30a0.2neo2s\")\n",
    "points = cndt[\"vertices\"]\n",
    "triangles = cndt[\"triangles\"]\n",
    "neighbours = cndt[\"neighbors\"]\n",
    "edges = cndt[\"edges\"]\n",
    "vertex_marker_is_boundary = cndt[\"vertex_markers\"].squeeze()\n",
    "edge_marker_is_boundary = cndt[\"edge_markers\"].squeeze()\n",
    "print(\n",
    "    f\"Total number of points:\\t\\t{points.shape[0]}\\nTotal number of elements:\\t{triangles.shape[0]}\"\n",
    ")"
   ]
  },
  {
   "cell_type": "code",
   "execution_count": null,
   "metadata": {},
   "outputs": [],
   "source": [
    "is_middle = get_middle_indices(points.shape[0], triangles)"
   ]
  },
  {
   "cell_type": "code",
   "execution_count": null,
   "metadata": {},
   "outputs": [],
   "source": [
    "%matplotlib inline\n",
    "fig, ax = plt.subplots(figsize=(7, 7))\n",
    "ax.axis(\"equal\")\n",
    "\n",
    "cl = [\"black\", \"brown\"]\n",
    "\n",
    "for eidx, edge in enumerate(edges):\n",
    "    ax.plot(\n",
    "        points[edge][:, 0],\n",
    "        points[edge][:, 1],\n",
    "        color=cl[edge_marker_is_boundary[eidx]],\n",
    "    )\n",
    "\n",
    "ax.set_xlim([points[:, 0].min() - 1 / 2, points[:, 0].max() + 1 / 2])\n",
    "ax.set_ylim([points[:, 1].min() - 1 / 2, points[:, 1].max() + 1 / 2])\n",
    "\n",
    "fig.tight_layout()\n",
    "plt.tight_layout()\n",
    "\n",
    "plt.show()"
   ]
  },
  {
   "cell_type": "code",
   "execution_count": null,
   "metadata": {},
   "outputs": [],
   "source": [
    "total_points = points.shape[0]\n",
    "num_midpoints = is_middle.sum()\n",
    "num_nodes = total_points - num_midpoints\n",
    "NUM = 3*num_nodes + num_midpoints"
   ]
  },
  {
   "cell_type": "code",
   "execution_count": null,
   "metadata": {},
   "outputs": [],
   "source": [
    "x, y = sympy.symbols(\"x y\")"
   ]
  },
  {
   "cell_type": "code",
   "execution_count": null,
   "metadata": {},
   "outputs": [],
   "source": [
    "F = sympy.Float(1)\n",
    "F_x = F.diff(x)\n",
    "F_y = F.diff(y)"
   ]
  },
  {
   "cell_type": "code",
   "execution_count": null,
   "metadata": {},
   "outputs": [],
   "source": [
    "right_part_values = np.zeros((total_points, 3))\n",
    "right_part_values[:, 0] = sympy.lambdify((x, y), F)(*points.T)\n",
    "right_part_values[:, 1] = sympy.lambdify((x, y), F_x)(*points.T)\n",
    "right_part_values[:, 2] = sympy.lambdify((x, y), F_y)(*points.T)"
   ]
  },
  {
   "cell_type": "code",
   "execution_count": null,
   "metadata": {},
   "outputs": [],
   "source": [
    "def orient_batch(arg):\n",
    "    indices = np.argsort(arg[:, :3], axis=-1)\n",
    "    vertices = np.take_along_axis(arg[:, :3], indices, axis=-1)\n",
    "    middle_points = np.take_along_axis(arg[:, 3:], indices, axis=-1)\n",
    "    oriented = np.concatenate([vertices, middle_points], axis=-1)\n",
    "\n",
    "    return oriented"
   ]
  },
  {
   "cell_type": "code",
   "execution_count": null,
   "metadata": {},
   "outputs": [],
   "source": [
    "triangles = orient_batch(triangles)"
   ]
  },
  {
   "cell_type": "code",
   "execution_count": null,
   "metadata": {},
   "outputs": [],
   "source": [
    "matrix = lil_matrix((NUM, NUM))\n",
    "b = np.zeros(NUM)\n",
    "\n",
    "for tidx, element in enumerate(tqdm(triangles)):\n",
    "    \n",
    "    x0, x1, x2 = points[element[0], 0], points[element[1], 0], points[element[2], 0]\n",
    "    y0, y1, y2 = points[element[0], 1], points[element[1], 1], points[element[2], 1]\n",
    "    \n",
    "    wff = weak_form_functional_lambdified(0, 0, x0, y0, x1, y1, x2, y2)\n",
    "    \n",
    "    wfrp = weak_form_right_part_lambdified(0, 0,\n",
    "                                            x0, y0, x1, y1, x2, y2,\n",
    "                                            \n",
    "                                            right_part_values[element[0], 0],\n",
    "                                            right_part_values[element[0], 1],\n",
    "                                            right_part_values[element[0], 2],\n",
    "                                            \n",
    "                                            right_part_values[element[1], 0],\n",
    "                                            right_part_values[element[1], 1],\n",
    "                                            right_part_values[element[1], 2],\n",
    "                                            \n",
    "                                            right_part_values[element[2], 0],\n",
    "                                            right_part_values[element[2], 1],\n",
    "                                            right_part_values[element[2], 2],                                            \n",
    "                                                                                        \n",
    "                                            right_part_values[element[3], 1],\n",
    "                                            right_part_values[element[3], 2],\n",
    "                                            \n",
    "                                            right_part_values[element[4], 1],\n",
    "                                            right_part_values[element[4], 2],\n",
    "                                            \n",
    "                                            right_part_values[element[5], 1],\n",
    "                                            right_part_values[element[5], 2],                                            \n",
    "                                           )\n",
    "    \n",
    "    for trial_vertex_idx in range(3):\n",
    "        \n",
    "        if vertex_marker_is_boundary[element[trial_vertex_idx]] == 1:\n",
    "            \n",
    "            for trial_dof_idx in range(3):      \n",
    "                     \n",
    "                matrix[3*element[trial_vertex_idx] + trial_dof_idx, 3*element[trial_vertex_idx] + trial_dof_idx] = 1                \n",
    "                b[3*element[trial_vertex_idx] + trial_dof_idx] = 0\n",
    "                    \n",
    "        else:   \n",
    "            for trial_dof_idx in range(3):\n",
    "                for test_vertex_idx in range(3):\n",
    "                    for test_dof_idx in range(3):\n",
    "                        matrix[3*element[trial_vertex_idx] + trial_dof_idx, 3*element[test_vertex_idx] + test_dof_idx] += \\\n",
    "                        wff[3*trial_vertex_idx + trial_dof_idx, 3*test_vertex_idx + test_dof_idx]\n",
    "                        \n",
    "                for test_edge_idx in range(3, 6):\n",
    "                    matrix[3*element[trial_vertex_idx] + trial_dof_idx, 3*num_nodes + (element[test_edge_idx] - num_nodes)] += \\\n",
    "                    wff[3*trial_vertex_idx + trial_dof_idx, 9 + (test_edge_idx - 3)]\n",
    "                \n",
    "                b[3*element[trial_vertex_idx] + trial_dof_idx] += wfrp[3*trial_vertex_idx + trial_dof_idx, 0]\n",
    "                                    \n",
    "                        \n",
    "    for trial_edge_idx in range(3, 6):\n",
    "        if vertex_marker_is_boundary[element[trial_edge_idx]] == 1:\n",
    "        \n",
    "            matrix[3*num_nodes + (element[trial_edge_idx] - num_nodes), 3*num_nodes + (element[trial_edge_idx] - num_nodes)] = 1\n",
    "            \n",
    "            b[3*num_nodes + (element[trial_edge_idx] - num_nodes)] = 0\n",
    "        else:            \n",
    "            for test_vertex_idx in range(3):\n",
    "                for test_dof_idx in range(3):\n",
    "                    matrix[3*num_nodes + (element[trial_edge_idx] - num_nodes), 3*element[test_vertex_idx] + test_dof_idx] += \\\n",
    "                    wff[9 + (trial_edge_idx - 3), 3*test_vertex_idx + test_dof_idx]\n",
    "                    \n",
    "            for test_edge_idx in range(3, 6):\n",
    "                matrix[3*num_nodes + (element[trial_edge_idx] - num_nodes), 3*num_nodes + (element[test_edge_idx] - num_nodes)] += \\\n",
    "                wff[9 + (trial_edge_idx - 3), 9 + (test_edge_idx - 3)]\n",
    "            \n",
    "            b[3*num_nodes + (element[trial_edge_idx] - num_nodes)] += wfrp[9 + (trial_edge_idx - 3), 0]                                "
   ]
  },
  {
   "cell_type": "code",
   "execution_count": null,
   "metadata": {},
   "outputs": [],
   "source": [
    "c = spsolve(matrix.tocsc(), b)"
   ]
  },
  {
   "cell_type": "code",
   "execution_count": null,
   "metadata": {},
   "outputs": [],
   "source": [
    "F =  c[0 : (3 * num_nodes) : 3]\n",
    "Fx = c[1 : (3 * num_nodes) : 3]\n",
    "Fy = c[2 : (3 * num_nodes) : 3]\n",
    "Fn = c[3*num_nodes :]"
   ]
  },
  {
   "cell_type": "code",
   "execution_count": null,
   "metadata": {},
   "outputs": [],
   "source": [
    "param = np.linspace(0, 1, 40)\n",
    "gridx, gridy = np.meshgrid(param, param, indexing=\"ij\")\n",
    "\n",
    "mask = (gridy <= 1 - gridx)\n",
    "\n",
    "gridx = gridx[mask]\n",
    "gridy = gridy[mask]"
   ]
  },
  {
   "cell_type": "code",
   "execution_count": null,
   "metadata": {},
   "outputs": [],
   "source": [
    "global_x, global_y, global_z = [], [], []\n",
    "\n",
    "for element in triangles:\n",
    "    \n",
    "    x0, x1, x2 = points[element[0], 0], points[element[1], 0], points[element[2], 0]\n",
    "    y0, y1, y2 = points[element[0], 1], points[element[1], 1], points[element[2], 1]\n",
    "    \n",
    "    physical_x, physical_y = mapping_function_lambdified(gridx, gridy, x0, y0, x1, y1, x2, y2).squeeze()\n",
    "    \n",
    "    physical_z = interpolation_function_normal(\n",
    "                                        gridx, gridy,\n",
    "                                        \n",
    "                                        x0, y0, \n",
    "                                        x1, y1, \n",
    "                                        x2, y2,\n",
    "                                        \n",
    "                                        F[element[0]], \n",
    "                                        Fx[element[0]], \n",
    "                                        Fy[element[0]],\n",
    "                                        \n",
    "                                        F[element[1]], \n",
    "                                        Fx[element[1]], \n",
    "                                        Fy[element[1]],\n",
    "                                        \n",
    "                                        F[element[2]], \n",
    "                                        Fx[element[2]], \n",
    "                                        Fy[element[2]],\n",
    "                                                                                \n",
    "                                        Fn[element[3] - num_nodes],\n",
    "                                        Fn[element[4] - num_nodes],                                                                      \n",
    "                                        Fn[element[5] - num_nodes],\n",
    "                                        \"f_x\"\n",
    "                                        ).squeeze()\n",
    "    \n",
    "    global_x.append(physical_x)\n",
    "    global_y.append(physical_y)\n",
    "    global_z.append(physical_z)\n",
    "    \n",
    "global_x = np.concatenate(global_x)\n",
    "global_y = np.concatenate(global_y)\n",
    "global_z = np.concatenate(global_z)"
   ]
  },
  {
   "cell_type": "markdown",
   "metadata": {},
   "source": [
    "# Plot"
   ]
  },
  {
   "cell_type": "code",
   "execution_count": null,
   "metadata": {},
   "outputs": [],
   "source": [
    "# plot_data = [\n",
    "#     plotly.graph_objects.Mesh3d(\n",
    "#                                 x=global_x, \n",
    "#                                 y=global_y,\n",
    "#                                 z=global_z,\n",
    "#                                 intensity=global_z\n",
    "#                                 )        \n",
    "#     ]\n",
    "# fig = plotly.graph_objects.Figure(data=plot_data)\n",
    "# fig.update_layout()"
   ]
  },
  {
   "cell_type": "markdown",
   "metadata": {},
   "source": [
    "# Elementwise plot"
   ]
  },
  {
   "cell_type": "code",
   "execution_count": null,
   "metadata": {},
   "outputs": [],
   "source": [
    "plot_data = [\n",
    "    plotly.graph_objects.Mesh3d(\n",
    "                                x=gx, \n",
    "                                y=gy,\n",
    "                                z=gz, \n",
    "                                )\n",
    "        for gx, gy, gz in zip(\n",
    "                                global_x.reshape(-1, gridx.shape[0]), \n",
    "                                global_y.reshape(-1, gridx.shape[0]), \n",
    "                                global_z.reshape(-1, gridx.shape[0])\n",
    "                              )\n",
    "    ]\n",
    "fig = plotly.graph_objects.Figure(data=plot_data)\n",
    "fig.update_layout()"
   ]
  }
 ],
 "metadata": {
  "kernelspec": {
   "display_name": "base",
   "language": "python",
   "name": "python3"
  },
  "language_info": {
   "codemirror_mode": {
    "name": "ipython",
    "version": 3
   },
   "file_extension": ".py",
   "mimetype": "text/x-python",
   "name": "python",
   "nbconvert_exporter": "python",
   "pygments_lexer": "ipython3",
   "version": "3.9.7"
  }
 },
 "nbformat": 4,
 "nbformat_minor": 2
}
