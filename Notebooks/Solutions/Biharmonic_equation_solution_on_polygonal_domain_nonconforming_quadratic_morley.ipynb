{
 "cells": [
  {
   "cell_type": "code",
   "execution_count": null,
   "metadata": {},
   "outputs": [],
   "source": [
    "import sympy\n",
    "import numpy as np\n",
    "import matplotlib.pyplot as plt\n",
    "import dill\n",
    "dill.settings[\"recurse\"] = True\n",
    "from tqdm.notebook import tqdm\n",
    "import plotly\n",
    "from triangle import triangulate\n",
    "\n",
    "from utils import (\n",
    "    get_middle_indices\n",
    ")"
   ]
  },
  {
   "cell_type": "code",
   "execution_count": null,
   "metadata": {},
   "outputs": [],
   "source": [
    "weak_form_functional_lambdified =   dill.load(open(\"../calculations/nonconforming_quadratic_morley_weak_form_functional_xxyy\", \"rb\"))\n",
    "weak_form_right_part_lambdified =   dill.load(open(\"../calculations/nonconforming_quadratic_morley_weak_form_right_part\", \"rb\"))\n",
    "interpolation_function =            dill.load(open(\"../calculations/nonconforming_quadratic_morley_basis\", \"rb\"))\n",
    "interpolation_function_normal =     dill.load(open(\"../calculations/nonconforming_quadratic_morley_basis_normal\", \"rb\"))\n",
    "mapping_function_lambdified =       dill.load(open(\"../calculations/nonconforming_quadratic_morley_mapping_function\", \"rb\"))"
   ]
  },
  {
   "cell_type": "code",
   "execution_count": null,
   "metadata": {},
   "outputs": [],
   "source": [
    "t = np.linspace(0, 1, 32, endpoint=False)\n",
    "points = np.stack((np.cos(2 * np.pi * t), np.sin(2 * np.pi * t))).T\n",
    "\n",
    "seg = np.array(\n",
    "    [[j, j + 1] for j in range(points.shape[0] - 1)] + [[points.shape[0] - 1, 0]]\n",
    ")"
   ]
  },
  {
   "cell_type": "code",
   "execution_count": null,
   "metadata": {},
   "outputs": [],
   "source": [
    "cndt = triangulate({\"vertices\": points, \"segments\": seg}, opts=\"pq30a0.1neo2s\")\n",
    "points = cndt[\"vertices\"]\n",
    "triangles = cndt[\"triangles\"]\n",
    "neighbours = cndt[\"neighbors\"]\n",
    "edges = cndt[\"edges\"]\n",
    "vertex_marker_is_boundary = cndt[\"vertex_markers\"].squeeze()\n",
    "edge_marker_is_boundary = cndt[\"edge_markers\"].squeeze()\n",
    "print(\n",
    "    f\"Total number of points:\\t\\t{points.shape[0]}\\nTotal number of elements:\\t{triangles.shape[0]}\"\n",
    ")"
   ]
  },
  {
   "cell_type": "code",
   "execution_count": null,
   "metadata": {},
   "outputs": [],
   "source": [
    "is_middle = get_middle_indices(points.shape[0], triangles)"
   ]
  },
  {
   "cell_type": "code",
   "execution_count": null,
   "metadata": {},
   "outputs": [],
   "source": [
    "# %matplotlib inline\n",
    "# fig, ax = plt.subplots(figsize=(7, 7))\n",
    "# ax.axis(\"equal\")\n",
    "\n",
    "# cl = [\"black\", \"brown\"]\n",
    "\n",
    "# for eidx, edge in enumerate(edges):\n",
    "#     ax.plot(\n",
    "#         points[edge][:, 0],\n",
    "#         points[edge][:, 1],\n",
    "#         color=cl[edge_marker_is_boundary[eidx]],\n",
    "#     )\n",
    "\n",
    "\n",
    "# ax.set_xlim([points[:, 0].min() - 1 / 2, points[:, 0].max() + 1 / 2])\n",
    "# ax.set_ylim([points[:, 1].min() - 1 / 2, points[:, 1].max() + 1 / 2])\n",
    "\n",
    "# fig.tight_layout()\n",
    "# plt.tight_layout()\n",
    "\n",
    "# plt.show()"
   ]
  },
  {
   "cell_type": "code",
   "execution_count": null,
   "metadata": {},
   "outputs": [],
   "source": [
    "total_points = points.shape[0]\n",
    "num_midpoints = is_middle.sum()\n",
    "num_nodes = total_points - num_midpoints\n",
    "NUM = num_nodes + num_midpoints"
   ]
  },
  {
   "cell_type": "code",
   "execution_count": null,
   "metadata": {},
   "outputs": [],
   "source": [
    "x, y = sympy.symbols(\"x y\")"
   ]
  },
  {
   "cell_type": "code",
   "execution_count": null,
   "metadata": {},
   "outputs": [],
   "source": [
    "F = sympy.Float(1)\n",
    "F_x = F.diff(x)\n",
    "F_y = F.diff(y)"
   ]
  },
  {
   "cell_type": "code",
   "execution_count": null,
   "metadata": {},
   "outputs": [],
   "source": [
    "right_part_values = np.zeros((total_points, 3))\n",
    "right_part_values[:, 0] = sympy.lambdify((x, y), F)(*points.T)\n",
    "right_part_values[:, 1] = sympy.lambdify((x, y), F_x)(*points.T)\n",
    "right_part_values[:, 2] = sympy.lambdify((x, y), F_y)(*points.T)"
   ]
  },
  {
   "cell_type": "code",
   "execution_count": null,
   "metadata": {},
   "outputs": [],
   "source": [
    "def orient_batch(arg):\n",
    "    indices = np.argsort(arg[:, :3], axis=-1)\n",
    "    vertices = np.take_along_axis(arg[:, :3], indices, axis=-1)\n",
    "    middle_points = np.take_along_axis(arg[:, 3:], indices, axis=-1)\n",
    "    oriented = np.concatenate([vertices, middle_points], axis=-1)\n",
    "\n",
    "    return oriented"
   ]
  },
  {
   "cell_type": "code",
   "execution_count": null,
   "metadata": {},
   "outputs": [],
   "source": [
    "triangles = orient_batch(triangles)"
   ]
  },
  {
   "cell_type": "code",
   "execution_count": null,
   "metadata": {},
   "outputs": [],
   "source": [
    "matrix = np.zeros((NUM, NUM))\n",
    "b = np.zeros(NUM)\n",
    "\n",
    "for tidx, element in enumerate(tqdm(triangles)):\n",
    "    \n",
    "    x0, x1, x2 = points[element[0], 0], points[element[1], 0], points[element[2], 0]\n",
    "    y0, y1, y2 = points[element[0], 1], points[element[1], 1], points[element[2], 1]\n",
    "    \n",
    "    wff = weak_form_functional_lambdified(x0, y0, x1, y1, x2, y2)\n",
    "    \n",
    "    wfrp = weak_form_right_part_lambdified(\n",
    "                                            x0, y0, \n",
    "                                            x1, y1, \n",
    "                                            x2, y2,\n",
    "                                            \n",
    "                                            right_part_values[element[0], 0], \n",
    "                                            right_part_values[element[1], 0], \n",
    "                                            right_part_values[element[2], 0],\n",
    "                                            \n",
    "                                            right_part_values[element[3], 1],\n",
    "                                            right_part_values[element[3], 2],\n",
    "                                            \n",
    "                                            right_part_values[element[4], 1],\n",
    "                                            right_part_values[element[4], 2],\n",
    "                                            \n",
    "                                            right_part_values[element[5], 1],\n",
    "                                            right_part_values[element[5], 2],                                            \n",
    "                                           )\n",
    "    \n",
    "    for trial_dof_idx in range(6):\n",
    "        \n",
    "        if vertex_marker_is_boundary[element[trial_dof_idx]] == 1:\n",
    "            \n",
    "            matrix[element[trial_dof_idx], element[trial_dof_idx]] = 1\n",
    "            b[element[trial_dof_idx]] = 0\n",
    "            \n",
    "        else:\n",
    "            for test_dof_idx in range(6):                \n",
    "                matrix[element[trial_dof_idx], element[test_dof_idx]] += wff[trial_dof_idx, test_dof_idx]\n",
    "                \n",
    "            b[element[trial_dof_idx]] += wfrp[trial_dof_idx, 0]\n",
    "                        "
   ]
  },
  {
   "cell_type": "markdown",
   "metadata": {},
   "source": [
    "# Թուդու՝ հանել ապուշ երկուսները։"
   ]
  },
  {
   "cell_type": "code",
   "execution_count": null,
   "metadata": {},
   "outputs": [],
   "source": [
    "c = np.linalg.solve(matrix, b)"
   ]
  },
  {
   "cell_type": "code",
   "execution_count": null,
   "metadata": {},
   "outputs": [],
   "source": [
    "# plt.imshow(matrix != 0, cmap=\"gray\")"
   ]
  },
  {
   "cell_type": "code",
   "execution_count": null,
   "metadata": {},
   "outputs": [],
   "source": [
    "param = np.linspace(0, 1, 10)\n",
    "gridx, gridy = np.meshgrid(param, param, indexing=\"ij\")\n",
    "\n",
    "mask = (gridy <= 1 - gridx)\n",
    "\n",
    "gridx = gridx[mask]\n",
    "gridy = gridy[mask]"
   ]
  },
  {
   "cell_type": "code",
   "execution_count": null,
   "metadata": {},
   "outputs": [],
   "source": [
    "F = c[:num_nodes]\n",
    "F_n = c[num_nodes:]"
   ]
  },
  {
   "cell_type": "code",
   "execution_count": null,
   "metadata": {},
   "outputs": [],
   "source": [
    "global_x, global_y, global_z = [], [], []\n",
    "\n",
    "for element in triangles:\n",
    "    \n",
    "    x0, x1, x2 = points[element[0], 0], points[element[1], 0], points[element[2], 0]\n",
    "    y0, y1, y2 = points[element[0], 1], points[element[1], 1], points[element[2], 1]\n",
    "    \n",
    "    physical_x, physical_y = mapping_function_lambdified(x0, y0, x1, y1, x2, y2, gridx, gridy)[:, 0]\n",
    "    \n",
    "    physical_z = interpolation_function_normal(\n",
    "                                        x0, y0, \n",
    "                                        x1, y1, \n",
    "                                        x2, y2,\n",
    "                                        F[element[0]], \n",
    "                                        F[element[1]], \n",
    "                                        F[element[2]],\n",
    "                                        F_n[element[3]-num_nodes],\n",
    "                                        F_n[element[4]-num_nodes],\n",
    "                                        F_n[element[5]-num_nodes],\n",
    "                                        gridx, gridy\n",
    "                                        )\n",
    "    \n",
    "    global_x.append(physical_x)\n",
    "    global_y.append(physical_y)\n",
    "    global_z.append(physical_z)\n",
    "    \n",
    "# global_x = np.concatenate(global_x)\n",
    "# global_y = np.concatenate(global_y)\n",
    "# global_z = np.concatenate(global_z)"
   ]
  },
  {
   "cell_type": "code",
   "execution_count": null,
   "metadata": {},
   "outputs": [],
   "source": [
    "# plot_data = [\n",
    "#     plotly.graph_objects.Mesh3d(\n",
    "#                                 x=global_x, \n",
    "#                                 y=global_y,\n",
    "#                                 z=global_z,\n",
    "#                                 intensity=global_z\n",
    "#                                 )        \n",
    "#     ]\n",
    "# fig = plotly.graph_objects.Figure(data=plot_data)\n",
    "# fig.update_layout()"
   ]
  },
  {
   "cell_type": "code",
   "execution_count": null,
   "metadata": {},
   "outputs": [],
   "source": [
    "plot_data = [\n",
    "    plotly.graph_objects.Mesh3d(\n",
    "                                x=gx, \n",
    "                                y=gy,\n",
    "                                z=gz, \n",
    "                                )\n",
    "        for gx, gy, gz in zip(global_x, global_y, global_z)\n",
    "    ]\n",
    "fig = plotly.graph_objects.Figure(data=plot_data)\n",
    "fig.update_layout()"
   ]
  }
 ],
 "metadata": {
  "kernelspec": {
   "display_name": "base",
   "language": "python",
   "name": "python3"
  },
  "language_info": {
   "codemirror_mode": {
    "name": "ipython",
    "version": 3
   },
   "file_extension": ".py",
   "mimetype": "text/x-python",
   "name": "python",
   "nbconvert_exporter": "python",
   "pygments_lexer": "ipython3",
   "version": "3.9.18"
  }
 },
 "nbformat": 4,
 "nbformat_minor": 2
}
