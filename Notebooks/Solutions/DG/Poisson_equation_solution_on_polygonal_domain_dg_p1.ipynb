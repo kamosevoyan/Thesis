{
 "cells": [
  {
   "cell_type": "code",
   "execution_count": null,
   "id": "d77dd589",
   "metadata": {},
   "outputs": [],
   "source": [
    "import matplotlib.pyplot as plt\n",
    "import dill\n",
    "import sympy\n",
    "from tqdm import tqdm\n",
    "from scipy.sparse import lil_matrix, csc_matrix, csr_matrix\n",
    "from scipy.sparse.linalg import spsolve\n",
    "import pypardiso\n",
    "import plotly"
   ]
  },
  {
   "cell_type": "markdown",
   "id": "69ae7294",
   "metadata": {},
   "source": [
    "### Load precomputed integrals"
   ]
  },
  {
   "cell_type": "code",
   "execution_count": null,
   "id": "e0ed5cdf",
   "metadata": {},
   "outputs": [],
   "source": [
    "lagrange_linear_poisson_matrix = dill.load(\n",
    "    open(\"../../calculations/lagrange_linear_poisson_matrix\", \"rb\")\n",
    ")\n",
    "lagrange_linear_poisson_right_values = dill.load(\n",
    "    open(\"../../calculations/lagrange_linear_poisson_right_values\", \"rb\")\n",
    ")\n",
    "consistency_lambdified = dill.load(\n",
    "    open(\"../../calculations/lagrange_linear_poisson_dg_consistency\", \"rb\")\n",
    ")\n",
    "consistency_boundary_lambdified = dill.load(\n",
    "    open(\"../../calculations/lagrange_linear_poisson_dg_consistency_boundary\", \"rb\")\n",
    ")\n",
    "symmetricity_lambdified = dill.load(\n",
    "    open(\"../../calculations/lagrange_linear_poisson_dg_symmetricity\", \"rb\")\n",
    ")\n",
    "symmetricity_boundary_lambdified = dill.load(\n",
    "    open(\"../../calculations/lagrange_linear_poisson_dg_symmetricity_boundary\", \"rb\")\n",
    ")\n",
    "penalty_lambdified = dill.load(\n",
    "    open(\"../../calculations/lagrange_linear_poisson_dg_penalty\", \"rb\")\n",
    ")\n",
    "penalty_boundary_lambdified = dill.load(\n",
    "    open(\"../../calculations/lagrange_linear_poisson_dg_penalty_boundary\", \"rb\")\n",
    ")\n",
    "\n",
    "bc_dirichlet_lambdified = dill.load(open(\"../../calculations/lagrange_linear_poisson_dg_bc_dirichlet\", \"rb\"))\n",
    "bc_neumann_lambdified = dill.load(open(\"../../calculations/lagrange_linear_poisson_dg_bc_neumann\", \"rb\"))"
   ]
  },
  {
   "cell_type": "markdown",
   "id": "6688870c",
   "metadata": {},
   "source": [
    "### Initialize the domain"
   ]
  },
  {
   "cell_type": "code",
   "execution_count": null,
   "id": "f91988b0",
   "metadata": {},
   "outputs": [],
   "source": [
    "import gmsh\n",
    "import numpy as np\n",
    "import matplotlib.pyplot as plt\n",
    "\n",
    "\n",
    "gmsh.initialize()\n",
    "gmsh.model.add(\"tri_mesh\")\n",
    "\n",
    "ms = 0.25\n",
    "# Define points\n",
    "point_1 = gmsh.model.geo.addPoint(0, 0, 0, ms)\n",
    "point_2 = gmsh.model.geo.addPoint(1, 0, 0, ms)\n",
    "point_3 = gmsh.model.geo.addPoint(0, 1, 0, ms)\n",
    "point_4 = gmsh.model.geo.addPoint(-1, 0, 0, ms)\n",
    "point_5 = gmsh.model.geo.addPoint(0, -1, 0, ms)\n",
    "\n",
    "# Define circles\n",
    "arc_1 = gmsh.model.geo.addCircleArc(point_2, point_1, point_3)\n",
    "arc_2 = gmsh.model.geo.addCircleArc(point_3, point_1, point_4)\n",
    "arc_3 = gmsh.model.geo.addCircleArc(point_4, point_1, point_5)\n",
    "arc_4 = gmsh.model.geo.addCircleArc(point_5, point_1, point_2)\n",
    "\n",
    "# Define line loop\n",
    "circle = gmsh.model.geo.addCurveLoop([arc_1, arc_2, arc_3, arc_4])\n",
    "\n",
    "# Define plane surface\n",
    "plane = gmsh.model.geo.addPlaneSurface([circle])\n",
    "\n",
    "gmsh.model.geo.synchronize()\n",
    "\n",
    "# ms = 33\n",
    "# gmsh.model.mesh.setTransfiniteCurve(arc_1, ms)\n",
    "# gmsh.model.mesh.setTransfiniteCurve(arc_2, ms)\n",
    "# gmsh.model.mesh.setTransfiniteCurve(arc_3, ms)\n",
    "# gmsh.model.mesh.setTransfiniteCurve(arc_4, ms)\n",
    "# gmsh.model.mesh.setTransfiniteSurface(plane)\n",
    "\n",
    "neumann_tag = gmsh.model.addPhysicalGroup(1, [arc_1], name=\"Neuman\")\n",
    "neumann_tag = gmsh.model.addPhysicalGroup(1, [arc_2, arc_3, arc_4], name=\"Dirichlet\")\n",
    "\n",
    "physical_group_curves_tag = gmsh.model.addPhysicalGroup(1, [arc_1, arc_2, arc_3, arc_4], name=\"Boundary curves\")\n",
    "physical_group_surface_tag = gmsh.model.addPhysicalGroup(2, [plane], name=\"Surface\")\n",
    "\n",
    "\n",
    "point_tag_1 = gmsh.model.geo.addPoint(np.sqrt(1/2), np.sqrt(1/2), 0, 1)\n",
    "point_tag_2 = gmsh.model.geo.addPoint(-np.sqrt(1/2), -np.sqrt(1/2), 0, 1)\n",
    "\n",
    "gmsh.model.geo.synchronize()\n",
    "\n",
    "# Define the Attractor field\n",
    "attractor_field = gmsh.model.mesh.field.add(\"Attractor\")\n",
    "gmsh.model.mesh.field.setNumbers(attractor_field, \"NodesList\", [point_tag_1, point_tag_2])\n",
    "\n",
    "# Define the Threshold field\n",
    "threshold_field = gmsh.model.mesh.field.add(\"Threshold\")\n",
    "gmsh.model.mesh.field.setNumber(threshold_field, \"IField\", attractor_field)\n",
    "gmsh.model.mesh.field.setNumber(threshold_field, \"LcMin\", 0.001)\n",
    "gmsh.model.mesh.field.setNumber(threshold_field, \"LcMax\", 0.1)\n",
    "gmsh.model.mesh.field.setNumber(threshold_field, \"DistMin\", 0.01)\n",
    "gmsh.model.mesh.field.setNumber(threshold_field, \"DistMax\", 0.5)\n",
    "\n",
    "# Set the Threshold field as the background field\n",
    "gmsh.model.mesh.field.setAsBackgroundMesh(threshold_field)\n",
    "\n",
    "\n",
    "gmsh.model.mesh.generate(2)\n",
    "gmsh.fltk.run()"
   ]
  },
  {
   "cell_type": "code",
   "execution_count": null,
   "id": "2633f299",
   "metadata": {},
   "outputs": [],
   "source": [
    "edge_entities = gmsh.model.getEntitiesForPhysicalGroup(dim=1, tag=neumann_tag)\n",
    "\n",
    "edge_elemTags, edge_nodeTags = [], []\n",
    "for e in edge_entities:\n",
    "    _, elemTags, nodeTags = gmsh.model.mesh.getElements(1, e)\n",
    "    edge_elemTags.extend(np.hstack(elemTags))\n",
    "    edge_nodeTags.extend(np.hstack(nodeTags))"
   ]
  },
  {
   "cell_type": "markdown",
   "id": "8142e2fd",
   "metadata": {},
   "source": [
    "# Triangles"
   ]
  },
  {
   "cell_type": "code",
   "execution_count": null,
   "id": "d830b13b",
   "metadata": {},
   "outputs": [],
   "source": [
    "boundary_node_tags, _ = gmsh.model.mesh.getNodesForPhysicalGroup(1, physical_group_curves_tag)\n",
    "surface_node_tags, points = gmsh.model.mesh.getNodesForPhysicalGroup(2, physical_group_surface_tag)\n",
    "points = points.reshape(-1, 3)[:, :-1]\n",
    "boundary_node_tags = boundary_node_tags - 1"
   ]
  },
  {
   "cell_type": "code",
   "execution_count": null,
   "id": "83ecb291",
   "metadata": {},
   "outputs": [],
   "source": [
    "tri_tags, tri_nodes = gmsh.model.mesh.getElementsByType(2)"
   ]
  },
  {
   "cell_type": "code",
   "execution_count": null,
   "id": "cbc2ca82",
   "metadata": {},
   "outputs": [],
   "source": [
    "# get triangles to edges\n",
    "edge_nodes = gmsh.model.mesh.getElementEdgeNodes(2)\n",
    "# (nTriangles * nEdgesPerTriangle * nNodesPerEdge)\n",
    "# edge_nodes.reshape(-1, 3, 2)"
   ]
  },
  {
   "cell_type": "code",
   "execution_count": null,
   "id": "64102e33",
   "metadata": {},
   "outputs": [],
   "source": [
    "gmsh.model.mesh.createEdges()  # forces Gmsh to assign unique tags to edges\n",
    "edge_tags, edge_node_pairs = gmsh.model.mesh.getAllEdges() \n",
    "edge_node_pairs"
   ]
  },
  {
   "cell_type": "code",
   "execution_count": null,
   "id": "7db59f46",
   "metadata": {},
   "outputs": [],
   "source": [
    "element_types, element_tags, element_node_tags = gmsh.model.mesh.getElements()\n",
    "\n",
    "gmsh.model.mesh.getElement(element_tags[1][10])"
   ]
  },
  {
   "cell_type": "code",
   "execution_count": null,
   "id": "33c2ba12",
   "metadata": {},
   "outputs": [],
   "source": [
    "element_types, element_tags, element_node_tags = gmsh.model.mesh.getElements()\n",
    "triangles = [nodes for elem_type, nodes in zip(element_types, element_node_tags) if elem_type == 2][0]\n",
    "triangles = triangles.reshape(-1, 3)\n",
    "triangles = triangles - 1\n",
    "\n",
    "def orient_batch(arg):\n",
    "    indices = np.argsort(arg, axis=-1)\n",
    "    res = np.take_along_axis(arg, indices, axis=-1)\n",
    "\n",
    "    return res\n",
    "\n",
    "triangles = orient_batch(triangles)"
   ]
  },
  {
   "cell_type": "code",
   "execution_count": null,
   "id": "30ed611f",
   "metadata": {},
   "outputs": [],
   "source": [
    "vertex_marker_is_boundary = np.zeros(surface_node_tags.shape[0])\n",
    "vertex_marker_is_boundary[boundary_node_tags] = 1"
   ]
  },
  {
   "cell_type": "code",
   "execution_count": null,
   "id": "b2e1dae9",
   "metadata": {},
   "outputs": [],
   "source": [
    "all_edges = triangles[:, [[1, 2], [0, 2], [0, 1]]].reshape(-1, 2)\n",
    "all_edges = np.sort(all_edges, axis=-1)\n",
    "all_edges, _, indices, counts = np.unique(all_edges, axis=0, return_counts=True, return_inverse=True, return_index=True)\n",
    "edge_marker_is_boundary = (counts == 1).astype(int)[:, None]"
   ]
  },
  {
   "cell_type": "markdown",
   "id": "a951e3d3",
   "metadata": {},
   "source": [
    "## Triangles to edges"
   ]
  },
  {
   "cell_type": "code",
   "execution_count": null,
   "id": "997e8a21",
   "metadata": {},
   "outputs": [],
   "source": [
    "triangles_to_edges = indices.reshape(-1, 3)"
   ]
  },
  {
   "cell_type": "markdown",
   "id": "f09f3c5b",
   "metadata": {},
   "source": [
    "## Vertices to edges"
   ]
  },
  {
   "cell_type": "code",
   "execution_count": null,
   "id": "4b6d772d",
   "metadata": {},
   "outputs": [],
   "source": [
    "vertices_to_edges = []\n",
    "\n",
    "for test_idx in range(points.shape[0]):\n",
    "    vertices_to_edges.append([])\n",
    "\n",
    "for e_idx, edge in enumerate(all_edges):\n",
    "    for pidx in edge:\n",
    "        vertices_to_edges[pidx].append(e_idx)"
   ]
  },
  {
   "cell_type": "markdown",
   "id": "ba7d021f",
   "metadata": {},
   "source": [
    "## Edges to edges"
   ]
  },
  {
   "cell_type": "code",
   "execution_count": null,
   "id": "db433d5a",
   "metadata": {},
   "outputs": [],
   "source": [
    "edges_to_edges = []\n",
    "\n",
    "for test_idx in range(all_edges.shape[0]):\n",
    "    edges_to_edges.append([])\n",
    "\n",
    "for e_idx, edge in enumerate(all_edges):\n",
    "    \n",
    "    edges_to_edges[e_idx].extend(vertices_to_edges[edge[0]])\n",
    "    edges_to_edges[e_idx].extend(vertices_to_edges[edge[1]])\n",
    "    edges_to_edges[e_idx] = list(set(edges_to_edges[e_idx]))\n",
    "    edges_to_edges[e_idx].remove(e_idx)"
   ]
  },
  {
   "cell_type": "markdown",
   "id": "568290e5",
   "metadata": {},
   "source": [
    "## Edges to triangles"
   ]
  },
  {
   "cell_type": "code",
   "execution_count": null,
   "id": "38a9565d",
   "metadata": {},
   "outputs": [],
   "source": [
    "edges_to_triangles = []\n",
    "\n",
    "for test_idx in range(all_edges.shape[0]):\n",
    "    edges_to_triangles.append([])\n",
    "\n",
    "for t_idx, edge in enumerate(triangles_to_edges):\n",
    "    \n",
    "    for e_idx in edge:\n",
    "        edges_to_triangles[e_idx].append(t_idx)\n",
    "\n",
    "for t_idx, v in enumerate(edges_to_triangles):\n",
    "    if len(v) == 1:\n",
    "        edges_to_triangles[t_idx].append(-1)\n",
    "\n",
    "edges_to_triangles = np.array(edges_to_triangles)"
   ]
  },
  {
   "cell_type": "markdown",
   "id": "af967789",
   "metadata": {},
   "source": [
    "# Vertices to triangles"
   ]
  },
  {
   "cell_type": "code",
   "execution_count": null,
   "id": "9e8f5003",
   "metadata": {},
   "outputs": [],
   "source": [
    "vertices_to_triangles = []\n",
    "\n",
    "for i in range(points.shape[0]):\n",
    "    vertices_to_triangles.append([])\n",
    "\n",
    "for cidx, cell in enumerate(triangles):\n",
    "    for pidx in cell:\n",
    "        vertices_to_triangles[pidx].append(cidx)"
   ]
  },
  {
   "cell_type": "code",
   "execution_count": null,
   "id": "c9e1b80a",
   "metadata": {},
   "outputs": [],
   "source": [
    "def get_adjaset_triangles(edge: int) -> np.ndarray:\n",
    "    \"\"\"Returns the idx of the triangles that share the edge.\n",
    "\n",
    "    Args:\n",
    "        edge (int): edge index\n",
    "\n",
    "    Returns:\n",
    "        np.ndarray: triangle indices\n",
    "    \"\"\"\n",
    "    triangle_idx = edges_to_triangles[edge]\n",
    "\n",
    "    if triangle_idx[1] == -1:\n",
    "        triangle_idx = triangle_idx[:1]\n",
    "\n",
    "    triangle_idx.sort(axis=-1)\n",
    "\n",
    "    return triangle_idx"
   ]
  },
  {
   "cell_type": "code",
   "execution_count": null,
   "id": "7794c76e-c6a7-4bd4-8a99-a66f4a712d02",
   "metadata": {},
   "outputs": [],
   "source": [
    "x, y = sympy.symbols(\"x y\")"
   ]
  },
  {
   "cell_type": "code",
   "execution_count": null,
   "id": "11f78ac7-0cac-4255-9db2-d685fb9c10d3",
   "metadata": {},
   "outputs": [],
   "source": [
    "F = sympy.Float(0)\n",
    "right_vals = np.zeros((points.shape[0]))\n",
    "right_vals[:] = sympy.lambdify((x, y), F)(*points.T)\n",
    "\n",
    "D = sympy.Float(0)\n",
    "bc_dirichlet = np.zeros((points.shape[0]))\n",
    "bc_dirichlet[:] = sympy.lambdify((x, y), D)(*points.T)\n",
    "\n",
    "N = sympy.Float(100)\n",
    "bc_neumann = np.zeros((points.shape[0]))\n",
    "bc_neumann[:] = sympy.lambdify((x, y), N)(*points.T)"
   ]
  },
  {
   "cell_type": "code",
   "execution_count": null,
   "id": "a20516c7",
   "metadata": {},
   "outputs": [],
   "source": [
    "num_unknowns = triangles.shape[0] * 3\n",
    "stiffness_matrix = lil_matrix((num_unknowns, num_unknowns), dtype=np.float64)\n",
    "b = np.zeros((num_unknowns), dtype=np.float64)\n",
    "\n",
    "for t_idx, element in enumerate(tqdm(triangles)):\n",
    "    x1, x2, x3 = points[element[0], 0], points[element[1], 0], points[element[2], 0]\n",
    "    y1, y2, y3 = points[element[0], 1], points[element[1], 1], points[element[2], 1]\n",
    "\n",
    "    FF = lagrange_linear_poisson_matrix(x1, y1, x2, y2, x3, y3)\n",
    "    ff = lagrange_linear_poisson_right_values(x1, y1, x2, y2, x3, y3, right_vals[element[0]], right_vals[element[1]], right_vals[element[2]])\n",
    "\n",
    "    for test_idx in range(3):\n",
    "        for trial_idx in range(3): \n",
    "            stiffness_matrix[3*t_idx + trial_idx, 3*t_idx + test_idx] += FF[trial_idx, test_idx]\n",
    "        b[3*t_idx + test_idx] -= ff[test_idx, 0]\n",
    "\n",
    "\n",
    "P = 20\n",
    "for e_idx, _ in enumerate(tqdm(all_edges)):\n",
    "\n",
    "    nt_idx = get_adjaset_triangles(e_idx)\n",
    "    triangles_points = triangles[nt_idx]\n",
    "    triangle_point_coords = points[triangles_points]    \n",
    "    re_idx = np.where(triangles_to_edges[nt_idx] == e_idx)[-1]\n",
    "    \n",
    "    if edge_marker_is_boundary[e_idx] == 0:\n",
    "        cons = consistency_lambdified(*triangle_point_coords.flatten())\n",
    "        symm = symmetricity_lambdified(*triangle_point_coords.flatten())\n",
    "        penalty = penalty_lambdified(*triangle_point_coords.flatten(), P)\n",
    "        \n",
    "        for test_idx in range(3):\n",
    "            for trial_idx in range(3):\n",
    "                for p_idx in range(2):\n",
    "                    for n_idx in range(2):\n",
    "                        stiffness_matrix[3*nt_idx[p_idx] + trial_idx, 3*nt_idx[n_idx] + test_idx] -= cons[p_idx][n_idx][re_idx[0]][re_idx[1]][trial_idx][test_idx]\n",
    "                        stiffness_matrix[3*nt_idx[p_idx] + trial_idx, 3*nt_idx[n_idx] + test_idx] -= symm[p_idx][n_idx][re_idx[0]][re_idx[1]][trial_idx][test_idx]\n",
    "                        stiffness_matrix[3*nt_idx[p_idx] + trial_idx, 3*nt_idx[n_idx] + test_idx] += penalty[p_idx][n_idx][re_idx[0]][re_idx[1]][trial_idx][test_idx]\n",
    "    else:\n",
    "                        \n",
    "        cons_b = consistency_boundary_lambdified(*triangle_point_coords.flatten())\n",
    "        symm_b = symmetricity_boundary_lambdified(*triangle_point_coords.flatten())\n",
    "        penalty_b = penalty_boundary_lambdified(*triangle_point_coords.flatten(), P)\n",
    "        bc_d = bc_dirichlet_lambdified(*triangle_point_coords.flatten(), P)\n",
    "        bc_n = bc_neumann_lambdified(*triangle_point_coords.flatten())\n",
    "    \n",
    "\n",
    "        # SIP\n",
    "        for test_idx in range(3):     \n",
    "            for trial_idx in range(3):                \n",
    "                if True or (triangle_point_coords[0, trial_idx, 0] > 0) and (triangle_point_coords[0, trial_idx, 1] > 0):\n",
    "                    continue\n",
    "                    \n",
    "                stiffness_matrix[3*nt_idx[0] + trial_idx, 3*nt_idx[0] + test_idx] -=      cons_b[re_idx[0]][trial_idx][test_idx] \n",
    "                stiffness_matrix[3*nt_idx[0] + trial_idx, 3*nt_idx[0] + test_idx] -=      symm_b[re_idx[0]][trial_idx][test_idx] \n",
    "                stiffness_matrix[3*nt_idx[0] + trial_idx, 3*nt_idx[0] + test_idx] += penalty_b[re_idx[0]][trial_idx][test_idx]\n",
    "                \n",
    "\n",
    "        for test_idx in range(3):\n",
    "            if True or (triangle_point_coords[0, test_idx, 0] > 0) and (triangle_point_coords[0, test_idx, 1] > 0):\n",
    "                for trial_idx in range(3):           \n",
    "                    x = triangle_point_coords[0, test_idx, 0]\n",
    "                    y = triangle_point_coords[0, test_idx, 1]                    \n",
    "                    phi = np.arctan2(y, x)\n",
    "                    \n",
    "                    \n",
    "                    b[3*nt_idx[0] + test_idx] = 1 if np.isclose(phi, np.pi / 4) else -1 if np.isclose(phi, -3*np.pi / 4) else bc_n[re_idx[0]][trial_idx][test_idx]\n",
    "                    # b[3*nt_idx[0] + test_idx] += bc_neumann[triangles_points[0]][test_idx] * bc_n[re_idx[0]][trial_idx][test_idx]\n",
    "                    \n",
    "                continue\n",
    "            \n",
    "            # Dirichlet\n",
    "            for trial_idx in range(3):                                                    \n",
    "                b[3*nt_idx[0] + test_idx] += bc_dirichlet[triangles_points[0]][test_idx] * bc_d[re_idx[0]][trial_idx][test_idx]\n"
   ]
  },
  {
   "cell_type": "code",
   "execution_count": null,
   "id": "6086d0ed",
   "metadata": {},
   "outputs": [],
   "source": [
    "M = np.random.rand(stiffness_matrix.shape[0], 1)"
   ]
  },
  {
   "cell_type": "code",
   "execution_count": null,
   "metadata": {},
   "outputs": [],
   "source": [
    "A = np.block([\n",
    "                            [stiffness_matrix.toarray(),   M],\n",
    "                            [M.T,     np.zeros((1, 1))]\n",
    "                         \n",
    "                         ])\n"
   ]
  },
  {
   "cell_type": "code",
   "execution_count": null,
   "metadata": {},
   "outputs": [],
   "source": [
    "A = csr_matrix(A)"
   ]
  },
  {
   "cell_type": "code",
   "execution_count": null,
   "id": "8e780f0c",
   "metadata": {},
   "outputs": [],
   "source": [
    "coefs = pypardiso.spsolve(A.tocsr(), np.r_[b, 0.])[:-1].reshape(-1, 3)"
   ]
  },
  {
   "cell_type": "code",
   "execution_count": null,
   "id": "076700a8",
   "metadata": {},
   "outputs": [],
   "source": [
    "param = np.linspace(0, 1, 3)\n",
    "gridx, gridy = np.meshgrid(param, param, indexing=\"ij\")\n",
    "\n",
    "mask = (gridy <= 1 - gridx)\n",
    "\n",
    "gridx = gridx[mask]\n",
    "gridy = gridy[mask]"
   ]
  },
  {
   "cell_type": "code",
   "execution_count": null,
   "id": "8e659ebb",
   "metadata": {},
   "outputs": [],
   "source": [
    "mapping_function_lambdified = dill.load(\n",
    "    open(\"../../calculations/lagrange_linear_mapping_x\", \"rb\")\n",
    ")\n",
    "interpolation_function_lambdified = dill.load(\n",
    "    open(\"../../calculations/lagrange_linear_interpolation_x\", \"rb\")\n",
    ")"
   ]
  },
  {
   "cell_type": "code",
   "execution_count": null,
   "id": "81ee76e7",
   "metadata": {},
   "outputs": [],
   "source": [
    "global_x, global_y, global_z = [], [], []\n",
    "\n",
    "for t_idx, element in enumerate(triangles):\n",
    "    \n",
    "    x0, x1, x2 = points[element[0], 0], points[element[1], 0], points[element[2], 0]\n",
    "    y0, y1, y2 = points[element[0], 1], points[element[1], 1], points[element[2], 1]\n",
    "    \n",
    "    physical_x, physical_y = mapping_function_lambdified(gridx, gridy, x0, y0, x1, y1, x2, y2).squeeze()\n",
    "    \n",
    "    physical_z = interpolation_function_lambdified(\n",
    "                                        gridx, gridy,\n",
    "                                        coefs[t_idx, 0], \n",
    "                                        coefs[t_idx, 1], \n",
    "                                        coefs[t_idx, 2],\n",
    "                                        ).squeeze()\n",
    "    \n",
    "    global_x.append(physical_x)\n",
    "    global_y.append(physical_y)\n",
    "    global_z.append(physical_z)\n",
    "    \n",
    "global_x = np.concatenate(global_x)\n",
    "global_y = np.concatenate(global_y)\n",
    "global_z = np.concatenate(global_z)"
   ]
  },
  {
   "cell_type": "code",
   "execution_count": null,
   "id": "114315a1",
   "metadata": {},
   "outputs": [],
   "source": [
    "# EXTENSIVE\n",
    "# plot_data = [\n",
    "#     plotly.graph_objects.Mesh3d(\n",
    "#                                 x=gx, \n",
    "#                                 y=gy,\n",
    "#                                 z=gz, \n",
    "#                                 )\n",
    "#         for gx, gy, gz in zip(\n",
    "#                                 global_x.reshape(-1, gridx.shape[0]), \n",
    "#                                 global_y.reshape(-1, gridx.shape[0]), \n",
    "#                                 global_z.reshape(-1, gridx.shape[0])\n",
    "#                               )\n",
    "#     ]\n",
    "# fig = plotly.graph_objects.Figure(data=plot_data)\n",
    "# fig.update_layout()"
   ]
  },
  {
   "cell_type": "code",
   "execution_count": null,
   "id": "09175e25",
   "metadata": {},
   "outputs": [],
   "source": [
    "plot_data = [\n",
    "    plotly.graph_objects.Mesh3d(\n",
    "                                x=global_x, \n",
    "                                y=global_y,\n",
    "                                z=global_z,\n",
    "                                intensity=global_z\n",
    "                                )        \n",
    "    ]\n",
    "fig = plotly.graph_objects.Figure(data=plot_data)\n",
    "fig.update_layout()"
   ]
  },
  {
   "cell_type": "code",
   "execution_count": null,
   "id": "f7fb3231",
   "metadata": {},
   "outputs": [],
   "source": [
    "grid_x, grid_y = np.mgrid[-1:+1:500j, -1:+1:500j]"
   ]
  },
  {
   "cell_type": "code",
   "execution_count": null,
   "id": "fce9a156",
   "metadata": {},
   "outputs": [],
   "source": [
    "points = np.stack([global_x, global_y], axis=-1)"
   ]
  },
  {
   "cell_type": "code",
   "execution_count": null,
   "id": "fe153ed2",
   "metadata": {},
   "outputs": [],
   "source": [
    "from scipy.interpolate import griddata\n",
    "grid_z0 = griddata(points, global_z, (grid_x, grid_y), method='nearest')\n",
    "grid_z1 = griddata(points, global_z, (grid_x, grid_y), method='linear')\n",
    "grid_z2 = griddata(points, global_z, (grid_x, grid_y), method='cubic', rescale=True, fill_value=np.inf)"
   ]
  },
  {
   "cell_type": "code",
   "execution_count": null,
   "id": "ad6289ad",
   "metadata": {},
   "outputs": [],
   "source": [
    "plt.imshow(grid_z2[::-1], cmap=\"viridis\")"
   ]
  },
  {
   "cell_type": "code",
   "execution_count": null,
   "id": "5a0fa904",
   "metadata": {},
   "outputs": [],
   "source": [
    "import plotly.graph_objects as go\n",
    "\n",
    "fig = go.Figure(data =\n",
    "    go.Contour(\n",
    "        z=grid_z2,\n",
    "        # contours_coloring='lines',\n",
    "        colorscale='Hot',\n",
    "        contours=dict(\n",
    "            start=-5,\n",
    "            end=5,\n",
    "            size=0.5,\n",
    "            coloring ='heatmap',\n",
    "            showlabels = True, # show labels on contours\n",
    "            labelfont = dict( # label font properties\n",
    "                size = 12,\n",
    "                color = 'white',\n",
    "            )\n",
    "        ),\n",
    "        line_smoothing=1.3\n",
    "    ),\n",
    "    )\n",
    "\n",
    "fig.update_layout(\n",
    "    autosize=False,\n",
    "    width=700,\n",
    "    height=700,\n",
    "    margin=dict(\n",
    "        l=50,\n",
    "        r=50,\n",
    "        b=100,\n",
    "        t=50,\n",
    "        pad=4\n",
    "    ),\n",
    "    paper_bgcolor=\"LightSteelBlue\",\n",
    ")\n",
    "fig.show()"
   ]
  },
  {
   "cell_type": "code",
   "execution_count": null,
   "id": "b6f5ee60",
   "metadata": {},
   "outputs": [],
   "source": []
  }
 ],
 "metadata": {
  "kernelspec": {
   "display_name": "experiments",
   "language": "python",
   "name": "python3"
  },
  "language_info": {
   "codemirror_mode": {
    "name": "ipython",
    "version": 3
   },
   "file_extension": ".py",
   "mimetype": "text/x-python",
   "name": "python",
   "nbconvert_exporter": "python",
   "pygments_lexer": "ipython3",
   "version": "3.9.21"
  }
 },
 "nbformat": 4,
 "nbformat_minor": 5
}
