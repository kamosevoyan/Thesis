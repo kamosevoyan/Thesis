{
 "cells": [
  {
   "cell_type": "code",
   "execution_count": 92,
   "id": "d77dd589",
   "metadata": {},
   "outputs": [],
   "source": [
    "import matplotlib.pyplot as plt\n",
    "import dill\n",
    "import sympy\n",
    "from tqdm import tqdm\n",
    "from scipy.sparse import lil_matrix, csc_matrix, csr_matrix\n",
    "from scipy.sparse.linalg import spsolve\n",
    "import pypardiso\n",
    "import plotly"
   ]
  },
  {
   "cell_type": "markdown",
   "id": "69ae7294",
   "metadata": {},
   "source": [
    "### Load precomputed integrals"
   ]
  },
  {
   "cell_type": "code",
   "execution_count": 93,
   "id": "e0ed5cdf",
   "metadata": {},
   "outputs": [],
   "source": [
    "lagrange_linear_poisson_matrix = dill.load(\n",
    "    open(\"../../calculations/lagrange_linear_poisson_matrix\", \"rb\")\n",
    ")\n",
    "lagrange_linear_poisson_right_values = dill.load(\n",
    "    open(\"../../calculations/lagrange_linear_poisson_right_values\", \"rb\")\n",
    ")\n",
    "consistency_lambdified = dill.load(\n",
    "    open(\"../../calculations/lagrange_linear_poisson_dg_consistency\", \"rb\")\n",
    ")\n",
    "consistency_boundary_lambdified = dill.load(\n",
    "    open(\"../../calculations/lagrange_linear_poisson_dg_consistency_boundary\", \"rb\")\n",
    ")\n",
    "symmetricity_lambdified = dill.load(\n",
    "    open(\"../../calculations/lagrange_linear_poisson_dg_symmetricity\", \"rb\")\n",
    ")\n",
    "symmetricity_boundary_lambdified = dill.load(\n",
    "    open(\"../../calculations/lagrange_linear_poisson_dg_symmetricity_boundary\", \"rb\")\n",
    ")\n",
    "penalty_lambdified = dill.load(\n",
    "    open(\"../../calculations/lagrange_linear_poisson_dg_penalty\", \"rb\")\n",
    ")\n",
    "penalty_boundary_lambdified = dill.load(\n",
    "    open(\"../../calculations/lagrange_linear_poisson_dg_penalty_boundary\", \"rb\")\n",
    ")\n",
    "\n",
    "bc_dirichlet_lambdified = dill.load(open(\"../../calculations/lagrange_linear_poisson_dg_bc_dirichlet\", \"rb\"))\n",
    "bc_neumann_lambdified = dill.load(open(\"../../calculations/lagrange_linear_poisson_dg_bc_neumann\", \"rb\"))"
   ]
  },
  {
   "cell_type": "markdown",
   "id": "6688870c",
   "metadata": {},
   "source": [
    "### Initialize the domain"
   ]
  },
  {
   "cell_type": "code",
   "execution_count": 133,
   "id": "f91988b0",
   "metadata": {},
   "outputs": [],
   "source": [
    "import gmsh\n",
    "import numpy as np\n",
    "import matplotlib.pyplot as plt\n",
    "\n",
    "\n",
    "gmsh.initialize()\n",
    "gmsh.model.add(\"tri mesh\")\n",
    "\n",
    "ms = 0.25\n",
    "point_1 = gmsh.model.geo.addPoint(0, 0, 0, ms)\n",
    "point_2 = gmsh.model.geo.addPoint(1, 0, 0, ms)\n",
    "point_3 = gmsh.model.geo.addPoint(0, 1, 0, ms)\n",
    "point_4 = gmsh.model.geo.addPoint(-1, 0, 0, ms)\n",
    "point_5 = gmsh.model.geo.addPoint(0, -1, 0, ms)\n",
    "\n",
    "\n",
    "arc_1 = gmsh.model.geo.addCircleArc(point_2, point_1, point_3)\n",
    "arc_2 = gmsh.model.geo.addCircleArc(point_3, point_1, point_4)\n",
    "arc_3 = gmsh.model.geo.addCircleArc(point_4, point_1, point_5)\n",
    "arc_4 = gmsh.model.geo.addCircleArc(point_5, point_1, point_2)\n",
    "\n",
    "\n",
    "circle = gmsh.model.geo.addCurveLoop([arc_1, arc_2, arc_3, arc_4])\n",
    "plane = gmsh.model.geo.addPlaneSurface([circle])\n",
    "\n",
    "gmsh.model.geo.synchronize()\n",
    "\n",
    "ms = 11\n",
    "gmsh.model.mesh.setTransfiniteSurface(plane)\n",
    "gmsh.model.mesh.setTransfiniteCurve(arc_1, ms)\n",
    "gmsh.model.mesh.setTransfiniteCurve(arc_2, ms)\n",
    "gmsh.model.mesh.setTransfiniteCurve(arc_3, ms)\n",
    "gmsh.model.mesh.setTransfiniteCurve(arc_4, ms)\n",
    "\n",
    "neumann_tag = gmsh.model.addPhysicalGroup(1, [arc_1], name=\"Neuman\")\n",
    "dirichlet_tag = gmsh.model.addPhysicalGroup(1, [arc_2, arc_3, arc_4], name=\"Dirichlet\")\n",
    "\n",
    "physical_group_curves_tag = gmsh.model.addPhysicalGroup(1, [arc_1, arc_2, arc_3, arc_4], name=\"Boundary curves\")\n",
    "physical_group_surface_tag = gmsh.model.addPhysicalGroup(2, [plane], name=\"Surface\")\n",
    "\n",
    "gmsh.model.mesh.generate(2)\n",
    "gmsh.fltk.run()"
   ]
  },
  {
   "cell_type": "code",
   "execution_count": 134,
   "id": "2633f299",
   "metadata": {},
   "outputs": [],
   "source": [
    "edge_entities = gmsh.model.getEntitiesForPhysicalGroup(dim=1, tag=neumann_tag)\n",
    "\n",
    "edge_elemTags, edge_nodeTags = [], []\n",
    "for e in edge_entities:\n",
    "    _, elemTags, nodeTags = gmsh.model.mesh.getElements(1, e)\n",
    "    edge_elemTags.extend(np.hstack(elemTags))\n",
    "    edge_nodeTags.extend(np.hstack(nodeTags))"
   ]
  },
  {
   "cell_type": "markdown",
   "id": "8142e2fd",
   "metadata": {},
   "source": [
    "# Triangles"
   ]
  },
  {
   "cell_type": "code",
   "execution_count": 193,
   "metadata": {},
   "outputs": [],
   "source": [
    "dirichlet_node_tags, _ = gmsh.model.mesh.getNodesForPhysicalGroup(1, dirichlet_tag)\n",
    "dirichlet_node_tags -= 1\n",
    "neumann_node_tags, _ = gmsh.model.mesh.getNodesForPhysicalGroup(1, neumann_tag)\n",
    "neumann_node_tags -= 1"
   ]
  },
  {
   "cell_type": "code",
   "execution_count": 194,
   "id": "d830b13b",
   "metadata": {},
   "outputs": [],
   "source": [
    "boundary_node_tags, _ = gmsh.model.mesh.getNodesForPhysicalGroup(1, physical_group_curves_tag)\n",
    "surface_node_tags, points = gmsh.model.mesh.getNodesForPhysicalGroup(2, physical_group_surface_tag)\n",
    "points = points.reshape(-1, 3)[:, :-1]\n",
    "boundary_node_tags = boundary_node_tags - 1"
   ]
  },
  {
   "cell_type": "code",
   "execution_count": 195,
   "id": "33c2ba12",
   "metadata": {},
   "outputs": [],
   "source": [
    "element_types, element_tags, element_node_tags = gmsh.model.mesh.getElements()\n",
    "triangles = [nodes for elem_type, nodes in zip(element_types, element_node_tags) if elem_type == 2][0]\n",
    "triangles = triangles.reshape(-1, 3)\n",
    "triangles = triangles - 1\n",
    "\n",
    "def orient_batch(arg):\n",
    "    indices = np.argsort(arg, axis=-1)\n",
    "    res = np.take_along_axis(arg, indices, axis=-1)\n",
    "\n",
    "    return res\n",
    "\n",
    "triangles = orient_batch(triangles)"
   ]
  },
  {
   "cell_type": "code",
   "execution_count": 196,
   "id": "30ed611f",
   "metadata": {},
   "outputs": [],
   "source": [
    "vertex_marker_is_boundary = np.zeros(surface_node_tags.shape[0])\n",
    "vertex_marker_is_boundary[boundary_node_tags] = 1"
   ]
  },
  {
   "cell_type": "code",
   "execution_count": 197,
   "id": "b2e1dae9",
   "metadata": {},
   "outputs": [],
   "source": [
    "all_edges = triangles[:, [[1, 2], [0, 2], [0, 1]]].reshape(-1, 2)\n",
    "all_edges = np.sort(all_edges, axis=-1)\n",
    "all_edges, _, indices, counts = np.unique(all_edges, axis=0, return_counts=True, return_inverse=True, return_index=True)\n",
    "edge_marker_is_boundary = (counts == 1).astype(int)[:, None]"
   ]
  },
  {
   "cell_type": "code",
   "execution_count": 198,
   "metadata": {},
   "outputs": [],
   "source": [
    "dirichlet_edges = np.where(all_edges[..., None] == dirichlet_node_tags)[0]\n",
    "neumann_edges = np.where(all_edges[..., None] == neumann_node_tags)[0]"
   ]
  },
  {
   "cell_type": "markdown",
   "id": "a951e3d3",
   "metadata": {},
   "source": [
    "## Triangles to edges"
   ]
  },
  {
   "cell_type": "code",
   "execution_count": 199,
   "id": "997e8a21",
   "metadata": {},
   "outputs": [],
   "source": [
    "triangles_to_edges = indices.reshape(-1, 3)"
   ]
  },
  {
   "cell_type": "markdown",
   "id": "568290e5",
   "metadata": {},
   "source": [
    "## Edges to triangles"
   ]
  },
  {
   "cell_type": "code",
   "execution_count": 200,
   "id": "38a9565d",
   "metadata": {},
   "outputs": [],
   "source": [
    "edges_to_triangles = []\n",
    "\n",
    "for test_idx in range(all_edges.shape[0]):\n",
    "    edges_to_triangles.append([])\n",
    "\n",
    "for t_idx, edge in enumerate(triangles_to_edges):\n",
    "    \n",
    "    for e_idx in edge:\n",
    "        edges_to_triangles[e_idx].append(t_idx)\n",
    "\n",
    "for t_idx, v in enumerate(edges_to_triangles):\n",
    "    if len(v) == 1:\n",
    "        edges_to_triangles[t_idx].append(-1)\n",
    "\n",
    "edges_to_triangles = np.array(edges_to_triangles)"
   ]
  },
  {
   "cell_type": "code",
   "execution_count": 251,
   "id": "c9e1b80a",
   "metadata": {},
   "outputs": [],
   "source": [
    "def get_adjaset_triangles(edge: int) -> np.ndarray:\n",
    "    \"\"\"Returns the idx of the triangles that share the edge.\n",
    "\n",
    "    Args:\n",
    "        edge (int): edge index\n",
    "\n",
    "    Returns:\n",
    "        np.ndarray: triangle indices\n",
    "    \"\"\"\n",
    "    triangle_idx = edges_to_triangles[edge]\n",
    "\n",
    "    if triangle_idx[1] == -1:\n",
    "        triangle_idx = triangle_idx[:1]\n",
    "\n",
    "    triangle_idx.sort(axis=-1)\n",
    "\n",
    "    return triangle_idx"
   ]
  },
  {
   "cell_type": "code",
   "execution_count": 252,
   "id": "7794c76e-c6a7-4bd4-8a99-a66f4a712d02",
   "metadata": {},
   "outputs": [],
   "source": [
    "x, y = sympy.symbols(\"x y\")"
   ]
  },
  {
   "cell_type": "code",
   "execution_count": 254,
   "id": "11f78ac7-0cac-4255-9db2-d685fb9c10d3",
   "metadata": {},
   "outputs": [],
   "source": [
    "F = sympy.Float(0)\n",
    "right_vals = np.zeros((points.shape[0]))\n",
    "right_vals[:] = sympy.lambdify((x, y), F)(*points.T)\n",
    "\n",
    "D = sympy.Float(0)\n",
    "bc_dirichlet = np.zeros((points.shape[0]))\n",
    "bc_dirichlet[:] = sympy.lambdify((x, y), D)(*points.T)\n",
    "\n",
    "N = sympy.Float(1)*x*(1/4 - x)\n",
    "bc_neumann = np.zeros((points.shape[0]))\n",
    "bc_neumann[:] = sympy.lambdify((x, y), N)(*points.T)"
   ]
  },
  {
   "cell_type": "code",
   "execution_count": 255,
   "id": "a20516c7",
   "metadata": {},
   "outputs": [
    {
     "name": "stderr",
     "output_type": "stream",
     "text": [
      "100%|██████████| 200/200 [00:00<00:00, 10000.25it/s]\n",
      "  0%|          | 0/320 [00:00<?, ?it/s]"
     ]
    },
    {
     "name": "stderr",
     "output_type": "stream",
     "text": [
      "100%|██████████| 320/320 [00:00<00:00, 647.83it/s]\n"
     ]
    }
   ],
   "source": [
    "num_unknowns = triangles.shape[0] * 3\n",
    "stiffness_matrix = lil_matrix((num_unknowns, num_unknowns), dtype=np.float64)\n",
    "b = np.zeros((num_unknowns), dtype=np.float64)\n",
    "\n",
    "for t_idx, element in enumerate(tqdm(triangles)):\n",
    "    x1, x2, x3 = points[element[0], 0], points[element[1], 0], points[element[2], 0]\n",
    "    y1, y2, y3 = points[element[0], 1], points[element[1], 1], points[element[2], 1]\n",
    "\n",
    "    FF = lagrange_linear_poisson_matrix(x1, y1, x2, y2, x3, y3)\n",
    "    ff = lagrange_linear_poisson_right_values(x1, y1, x2, y2, x3, y3, right_vals[element[0]], right_vals[element[1]], right_vals[element[2]])\n",
    "\n",
    "    for test_idx in range(3):\n",
    "        for trial_idx in range(3): \n",
    "            stiffness_matrix[3*t_idx + trial_idx, 3*t_idx + test_idx] += FF[trial_idx, test_idx]\n",
    "        b[3*t_idx + test_idx] -= ff[test_idx, 0]\n",
    "\n",
    "\n",
    "P = 20\n",
    "for e_idx, _ in enumerate(tqdm(all_edges)):\n",
    "\n",
    "    nt_idx = get_adjaset_triangles(e_idx)\n",
    "    triangles_points = triangles[nt_idx]\n",
    "    triangle_point_coords = points[triangles_points]    \n",
    "    re_idx = np.where(triangles_to_edges[nt_idx] == e_idx)[-1]\n",
    "    \n",
    "    if edge_marker_is_boundary[e_idx] == False:\n",
    "        cons = consistency_lambdified(*triangle_point_coords.flatten())\n",
    "        symm = symmetricity_lambdified(*triangle_point_coords.flatten())\n",
    "        penalty = penalty_lambdified(*triangle_point_coords.flatten(), P)\n",
    "        \n",
    "        for test_idx in range(3):\n",
    "            for trial_idx in range(3):\n",
    "                for p_idx in range(2):\n",
    "                    for n_idx in range(2):\n",
    "                        stiffness_matrix[3*nt_idx[p_idx] + trial_idx, 3*nt_idx[n_idx] + test_idx] -= cons[p_idx][n_idx][re_idx[0]][re_idx[1]][trial_idx][test_idx]\n",
    "                        stiffness_matrix[3*nt_idx[p_idx] + trial_idx, 3*nt_idx[n_idx] + test_idx] -= symm[p_idx][n_idx][re_idx[0]][re_idx[1]][trial_idx][test_idx]\n",
    "                        stiffness_matrix[3*nt_idx[p_idx] + trial_idx, 3*nt_idx[n_idx] + test_idx] += penalty[p_idx][n_idx][re_idx[0]][re_idx[1]][trial_idx][test_idx]\n",
    "    else:\n",
    "                        \n",
    "        cons_b = consistency_boundary_lambdified(*triangle_point_coords.flatten())\n",
    "        symm_b = symmetricity_boundary_lambdified(*triangle_point_coords.flatten())\n",
    "        penalty_b = penalty_boundary_lambdified(*triangle_point_coords.flatten(), P)\n",
    "        bc_d = bc_dirichlet_lambdified(*triangle_point_coords.flatten(), P)\n",
    "        bc_n = bc_neumann_lambdified(*triangle_point_coords.flatten())\n",
    "    \n",
    "        # SIP\n",
    "        for test_idx in range(3):     \n",
    "            for trial_idx in range(3):                \n",
    "                if np.isin(e_idx, dirichlet_edges):\n",
    "                    stiffness_matrix[3*nt_idx[0] + trial_idx, 3*nt_idx[0] + test_idx] -=      cons_b[re_idx[0]][trial_idx][test_idx] \n",
    "                    stiffness_matrix[3*nt_idx[0] + trial_idx, 3*nt_idx[0] + test_idx] -=      symm_b[re_idx[0]][trial_idx][test_idx] \n",
    "                    stiffness_matrix[3*nt_idx[0] + trial_idx, 3*nt_idx[0] + test_idx] += penalty_b[re_idx[0]][trial_idx][test_idx]\n",
    "                    \n",
    "\n",
    "        for test_idx in range(3):\n",
    "            # Dirichlet\n",
    "            for trial_idx in range(3):      \n",
    "                if np.isin(e_idx, dirichlet_edges):\n",
    "                    b[3*nt_idx[0] + trial_idx] += bc_dirichlet[triangles_points[0]][test_idx] * bc_d[re_idx[0]][test_idx][trial_idx]\n",
    "                elif np.isin(e_idx, neumann_edges):                    \n",
    "                    b[3*nt_idx[0] + trial_idx] += bc_neumann[triangles_points[0]][test_idx] * bc_n[re_idx[0]][test_idx][trial_idx]\n",
    "                else:\n",
    "                    raise ValueError()\n",
    "\n"
   ]
  },
  {
   "cell_type": "code",
   "execution_count": 256,
   "id": "8e780f0c",
   "metadata": {},
   "outputs": [],
   "source": [
    "coefs = pypardiso.spsolve(stiffness_matrix.tocsr(), b).reshape(-1, 3)"
   ]
  },
  {
   "cell_type": "code",
   "execution_count": 257,
   "id": "076700a8",
   "metadata": {},
   "outputs": [],
   "source": [
    "param = np.linspace(0, 1, 3)\n",
    "gridx, gridy = np.meshgrid(param, param, indexing=\"ij\")\n",
    "\n",
    "mask = (gridy <= 1 - gridx)\n",
    "\n",
    "gridx = gridx[mask]\n",
    "gridy = gridy[mask]"
   ]
  },
  {
   "cell_type": "code",
   "execution_count": 258,
   "id": "8e659ebb",
   "metadata": {},
   "outputs": [],
   "source": [
    "mapping_function_lambdified = dill.load(\n",
    "    open(\"../../calculations/lagrange_linear_mapping_x\", \"rb\")\n",
    ")\n",
    "interpolation_function_lambdified = dill.load(\n",
    "    open(\"../../calculations/lagrange_linear_interpolation_x\", \"rb\")\n",
    ")"
   ]
  },
  {
   "cell_type": "code",
   "execution_count": 259,
   "id": "81ee76e7",
   "metadata": {},
   "outputs": [],
   "source": [
    "global_x, global_y, global_z = [], [], []\n",
    "\n",
    "for t_idx, element in enumerate(triangles):\n",
    "    \n",
    "    x0, x1, x2 = points[element[0], 0], points[element[1], 0], points[element[2], 0]\n",
    "    y0, y1, y2 = points[element[0], 1], points[element[1], 1], points[element[2], 1]\n",
    "    \n",
    "    physical_x, physical_y = mapping_function_lambdified(gridx, gridy, x0, y0, x1, y1, x2, y2).squeeze()\n",
    "    \n",
    "    physical_z = interpolation_function_lambdified(\n",
    "                                        gridx, gridy,\n",
    "                                        coefs[t_idx, 0], \n",
    "                                        coefs[t_idx, 1], \n",
    "                                        coefs[t_idx, 2],\n",
    "                                        ).squeeze()\n",
    "    \n",
    "    global_x.append(physical_x)\n",
    "    global_y.append(physical_y)\n",
    "    global_z.append(physical_z)\n",
    "    \n",
    "global_x = np.concatenate(global_x)\n",
    "global_y = np.concatenate(global_y)\n",
    "global_z = np.concatenate(global_z)"
   ]
  },
  {
   "cell_type": "code",
   "execution_count": 260,
   "id": "114315a1",
   "metadata": {},
   "outputs": [],
   "source": [
    "# # EXTENSIVE\n",
    "# plot_data = [\n",
    "#     plotly.graph_objects.Mesh3d(\n",
    "#                                 x=gx, \n",
    "#                                 y=gy,\n",
    "#                                 z=gz, \n",
    "#                                 )\n",
    "#         for gx, gy, gz in zip(\n",
    "#                                 global_x.reshape(-1, gridx.shape[0]), \n",
    "#                                 global_y.reshape(-1, gridx.shape[0]), \n",
    "#                                 global_z.reshape(-1, gridx.shape[0])\n",
    "#                               )\n",
    "#     ]\n",
    "# fig = plotly.graph_objects.Figure(data=plot_data)\n",
    "# fig.update_layout()"
   ]
  },
  {
   "cell_type": "code",
   "execution_count": 261,
   "id": "09175e25",
   "metadata": {},
   "outputs": [
    {
     "data": {
      "application/vnd.plotly.v1+json": {
       "config": {
        "plotlyServerURL": "https://plot.ly"
       },
       "data": [
        {
         "intensity": {
          "bdata": "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",
          "dtype": "f8"
         },
         "type": "mesh3d",
         "x": {
          "bdata": "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",
          "dtype": "f8"
         },
         "y": {
          "bdata": "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",
          "dtype": "f8"
         },
         "z": {
          "bdata": "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",
          "dtype": "f8"
         }
        }
       ],
       "layout": {
        "template": {
         "data": {
          "bar": [
           {
            "error_x": {
             "color": "#2a3f5f"
            },
            "error_y": {
             "color": "#2a3f5f"
            },
            "marker": {
             "line": {
              "color": "#E5ECF6",
              "width": 0.5
             },
             "pattern": {
              "fillmode": "overlay",
              "size": 10,
              "solidity": 0.2
             }
            },
            "type": "bar"
           }
          ],
          "barpolar": [
           {
            "marker": {
             "line": {
              "color": "#E5ECF6",
              "width": 0.5
             },
             "pattern": {
              "fillmode": "overlay",
              "size": 10,
              "solidity": 0.2
             }
            },
            "type": "barpolar"
           }
          ],
          "carpet": [
           {
            "aaxis": {
             "endlinecolor": "#2a3f5f",
             "gridcolor": "white",
             "linecolor": "white",
             "minorgridcolor": "white",
             "startlinecolor": "#2a3f5f"
            },
            "baxis": {
             "endlinecolor": "#2a3f5f",
             "gridcolor": "white",
             "linecolor": "white",
             "minorgridcolor": "white",
             "startlinecolor": "#2a3f5f"
            },
            "type": "carpet"
           }
          ],
          "choropleth": [
           {
            "colorbar": {
             "outlinewidth": 0,
             "ticks": ""
            },
            "type": "choropleth"
           }
          ],
          "contour": [
           {
            "colorbar": {
             "outlinewidth": 0,
             "ticks": ""
            },
            "colorscale": [
             [
              0,
              "#0d0887"
             ],
             [
              0.1111111111111111,
              "#46039f"
             ],
             [
              0.2222222222222222,
              "#7201a8"
             ],
             [
              0.3333333333333333,
              "#9c179e"
             ],
             [
              0.4444444444444444,
              "#bd3786"
             ],
             [
              0.5555555555555556,
              "#d8576b"
             ],
             [
              0.6666666666666666,
              "#ed7953"
             ],
             [
              0.7777777777777778,
              "#fb9f3a"
             ],
             [
              0.8888888888888888,
              "#fdca26"
             ],
             [
              1,
              "#f0f921"
             ]
            ],
            "type": "contour"
           }
          ],
          "contourcarpet": [
           {
            "colorbar": {
             "outlinewidth": 0,
             "ticks": ""
            },
            "type": "contourcarpet"
           }
          ],
          "heatmap": [
           {
            "colorbar": {
             "outlinewidth": 0,
             "ticks": ""
            },
            "colorscale": [
             [
              0,
              "#0d0887"
             ],
             [
              0.1111111111111111,
              "#46039f"
             ],
             [
              0.2222222222222222,
              "#7201a8"
             ],
             [
              0.3333333333333333,
              "#9c179e"
             ],
             [
              0.4444444444444444,
              "#bd3786"
             ],
             [
              0.5555555555555556,
              "#d8576b"
             ],
             [
              0.6666666666666666,
              "#ed7953"
             ],
             [
              0.7777777777777778,
              "#fb9f3a"
             ],
             [
              0.8888888888888888,
              "#fdca26"
             ],
             [
              1,
              "#f0f921"
             ]
            ],
            "type": "heatmap"
           }
          ],
          "histogram": [
           {
            "marker": {
             "pattern": {
              "fillmode": "overlay",
              "size": 10,
              "solidity": 0.2
             }
            },
            "type": "histogram"
           }
          ],
          "histogram2d": [
           {
            "colorbar": {
             "outlinewidth": 0,
             "ticks": ""
            },
            "colorscale": [
             [
              0,
              "#0d0887"
             ],
             [
              0.1111111111111111,
              "#46039f"
             ],
             [
              0.2222222222222222,
              "#7201a8"
             ],
             [
              0.3333333333333333,
              "#9c179e"
             ],
             [
              0.4444444444444444,
              "#bd3786"
             ],
             [
              0.5555555555555556,
              "#d8576b"
             ],
             [
              0.6666666666666666,
              "#ed7953"
             ],
             [
              0.7777777777777778,
              "#fb9f3a"
             ],
             [
              0.8888888888888888,
              "#fdca26"
             ],
             [
              1,
              "#f0f921"
             ]
            ],
            "type": "histogram2d"
           }
          ],
          "histogram2dcontour": [
           {
            "colorbar": {
             "outlinewidth": 0,
             "ticks": ""
            },
            "colorscale": [
             [
              0,
              "#0d0887"
             ],
             [
              0.1111111111111111,
              "#46039f"
             ],
             [
              0.2222222222222222,
              "#7201a8"
             ],
             [
              0.3333333333333333,
              "#9c179e"
             ],
             [
              0.4444444444444444,
              "#bd3786"
             ],
             [
              0.5555555555555556,
              "#d8576b"
             ],
             [
              0.6666666666666666,
              "#ed7953"
             ],
             [
              0.7777777777777778,
              "#fb9f3a"
             ],
             [
              0.8888888888888888,
              "#fdca26"
             ],
             [
              1,
              "#f0f921"
             ]
            ],
            "type": "histogram2dcontour"
           }
          ],
          "mesh3d": [
           {
            "colorbar": {
             "outlinewidth": 0,
             "ticks": ""
            },
            "type": "mesh3d"
           }
          ],
          "parcoords": [
           {
            "line": {
             "colorbar": {
              "outlinewidth": 0,
              "ticks": ""
             }
            },
            "type": "parcoords"
           }
          ],
          "pie": [
           {
            "automargin": true,
            "type": "pie"
           }
          ],
          "scatter": [
           {
            "fillpattern": {
             "fillmode": "overlay",
             "size": 10,
             "solidity": 0.2
            },
            "type": "scatter"
           }
          ],
          "scatter3d": [
           {
            "line": {
             "colorbar": {
              "outlinewidth": 0,
              "ticks": ""
             }
            },
            "marker": {
             "colorbar": {
              "outlinewidth": 0,
              "ticks": ""
             }
            },
            "type": "scatter3d"
           }
          ],
          "scattercarpet": [
           {
            "marker": {
             "colorbar": {
              "outlinewidth": 0,
              "ticks": ""
             }
            },
            "type": "scattercarpet"
           }
          ],
          "scattergeo": [
           {
            "marker": {
             "colorbar": {
              "outlinewidth": 0,
              "ticks": ""
             }
            },
            "type": "scattergeo"
           }
          ],
          "scattergl": [
           {
            "marker": {
             "colorbar": {
              "outlinewidth": 0,
              "ticks": ""
             }
            },
            "type": "scattergl"
           }
          ],
          "scattermap": [
           {
            "marker": {
             "colorbar": {
              "outlinewidth": 0,
              "ticks": ""
             }
            },
            "type": "scattermap"
           }
          ],
          "scattermapbox": [
           {
            "marker": {
             "colorbar": {
              "outlinewidth": 0,
              "ticks": ""
             }
            },
            "type": "scattermapbox"
           }
          ],
          "scatterpolar": [
           {
            "marker": {
             "colorbar": {
              "outlinewidth": 0,
              "ticks": ""
             }
            },
            "type": "scatterpolar"
           }
          ],
          "scatterpolargl": [
           {
            "marker": {
             "colorbar": {
              "outlinewidth": 0,
              "ticks": ""
             }
            },
            "type": "scatterpolargl"
           }
          ],
          "scatterternary": [
           {
            "marker": {
             "colorbar": {
              "outlinewidth": 0,
              "ticks": ""
             }
            },
            "type": "scatterternary"
           }
          ],
          "surface": [
           {
            "colorbar": {
             "outlinewidth": 0,
             "ticks": ""
            },
            "colorscale": [
             [
              0,
              "#0d0887"
             ],
             [
              0.1111111111111111,
              "#46039f"
             ],
             [
              0.2222222222222222,
              "#7201a8"
             ],
             [
              0.3333333333333333,
              "#9c179e"
             ],
             [
              0.4444444444444444,
              "#bd3786"
             ],
             [
              0.5555555555555556,
              "#d8576b"
             ],
             [
              0.6666666666666666,
              "#ed7953"
             ],
             [
              0.7777777777777778,
              "#fb9f3a"
             ],
             [
              0.8888888888888888,
              "#fdca26"
             ],
             [
              1,
              "#f0f921"
             ]
            ],
            "type": "surface"
           }
          ],
          "table": [
           {
            "cells": {
             "fill": {
              "color": "#EBF0F8"
             },
             "line": {
              "color": "white"
             }
            },
            "header": {
             "fill": {
              "color": "#C8D4E3"
             },
             "line": {
              "color": "white"
             }
            },
            "type": "table"
           }
          ]
         },
         "layout": {
          "annotationdefaults": {
           "arrowcolor": "#2a3f5f",
           "arrowhead": 0,
           "arrowwidth": 1
          },
          "autotypenumbers": "strict",
          "coloraxis": {
           "colorbar": {
            "outlinewidth": 0,
            "ticks": ""
           }
          },
          "colorscale": {
           "diverging": [
            [
             0,
             "#8e0152"
            ],
            [
             0.1,
             "#c51b7d"
            ],
            [
             0.2,
             "#de77ae"
            ],
            [
             0.3,
             "#f1b6da"
            ],
            [
             0.4,
             "#fde0ef"
            ],
            [
             0.5,
             "#f7f7f7"
            ],
            [
             0.6,
             "#e6f5d0"
            ],
            [
             0.7,
             "#b8e186"
            ],
            [
             0.8,
             "#7fbc41"
            ],
            [
             0.9,
             "#4d9221"
            ],
            [
             1,
             "#276419"
            ]
           ],
           "sequential": [
            [
             0,
             "#0d0887"
            ],
            [
             0.1111111111111111,
             "#46039f"
            ],
            [
             0.2222222222222222,
             "#7201a8"
            ],
            [
             0.3333333333333333,
             "#9c179e"
            ],
            [
             0.4444444444444444,
             "#bd3786"
            ],
            [
             0.5555555555555556,
             "#d8576b"
            ],
            [
             0.6666666666666666,
             "#ed7953"
            ],
            [
             0.7777777777777778,
             "#fb9f3a"
            ],
            [
             0.8888888888888888,
             "#fdca26"
            ],
            [
             1,
             "#f0f921"
            ]
           ],
           "sequentialminus": [
            [
             0,
             "#0d0887"
            ],
            [
             0.1111111111111111,
             "#46039f"
            ],
            [
             0.2222222222222222,
             "#7201a8"
            ],
            [
             0.3333333333333333,
             "#9c179e"
            ],
            [
             0.4444444444444444,
             "#bd3786"
            ],
            [
             0.5555555555555556,
             "#d8576b"
            ],
            [
             0.6666666666666666,
             "#ed7953"
            ],
            [
             0.7777777777777778,
             "#fb9f3a"
            ],
            [
             0.8888888888888888,
             "#fdca26"
            ],
            [
             1,
             "#f0f921"
            ]
           ]
          },
          "colorway": [
           "#636efa",
           "#EF553B",
           "#00cc96",
           "#ab63fa",
           "#FFA15A",
           "#19d3f3",
           "#FF6692",
           "#B6E880",
           "#FF97FF",
           "#FECB52"
          ],
          "font": {
           "color": "#2a3f5f"
          },
          "geo": {
           "bgcolor": "white",
           "lakecolor": "white",
           "landcolor": "#E5ECF6",
           "showlakes": true,
           "showland": true,
           "subunitcolor": "white"
          },
          "hoverlabel": {
           "align": "left"
          },
          "hovermode": "closest",
          "mapbox": {
           "style": "light"
          },
          "paper_bgcolor": "white",
          "plot_bgcolor": "#E5ECF6",
          "polar": {
           "angularaxis": {
            "gridcolor": "white",
            "linecolor": "white",
            "ticks": ""
           },
           "bgcolor": "#E5ECF6",
           "radialaxis": {
            "gridcolor": "white",
            "linecolor": "white",
            "ticks": ""
           }
          },
          "scene": {
           "xaxis": {
            "backgroundcolor": "#E5ECF6",
            "gridcolor": "white",
            "gridwidth": 2,
            "linecolor": "white",
            "showbackground": true,
            "ticks": "",
            "zerolinecolor": "white"
           },
           "yaxis": {
            "backgroundcolor": "#E5ECF6",
            "gridcolor": "white",
            "gridwidth": 2,
            "linecolor": "white",
            "showbackground": true,
            "ticks": "",
            "zerolinecolor": "white"
           },
           "zaxis": {
            "backgroundcolor": "#E5ECF6",
            "gridcolor": "white",
            "gridwidth": 2,
            "linecolor": "white",
            "showbackground": true,
            "ticks": "",
            "zerolinecolor": "white"
           }
          },
          "shapedefaults": {
           "line": {
            "color": "#2a3f5f"
           }
          },
          "ternary": {
           "aaxis": {
            "gridcolor": "white",
            "linecolor": "white",
            "ticks": ""
           },
           "baxis": {
            "gridcolor": "white",
            "linecolor": "white",
            "ticks": ""
           },
           "bgcolor": "#E5ECF6",
           "caxis": {
            "gridcolor": "white",
            "linecolor": "white",
            "ticks": ""
           }
          },
          "title": {
           "x": 0.05
          },
          "xaxis": {
           "automargin": true,
           "gridcolor": "white",
           "linecolor": "white",
           "ticks": "",
           "title": {
            "standoff": 15
           },
           "zerolinecolor": "white",
           "zerolinewidth": 2
          },
          "yaxis": {
           "automargin": true,
           "gridcolor": "white",
           "linecolor": "white",
           "ticks": "",
           "title": {
            "standoff": 15
           },
           "zerolinecolor": "white",
           "zerolinewidth": 2
          }
         }
        }
       }
      }
     },
     "metadata": {},
     "output_type": "display_data"
    }
   ],
   "source": [
    "plot_data = [\n",
    "    plotly.graph_objects.Mesh3d(\n",
    "                                x=global_x, \n",
    "                                y=global_y,\n",
    "                                z=global_z,\n",
    "                                intensity=global_z\n",
    "                                )        \n",
    "    ]\n",
    "fig = plotly.graph_objects.Figure(data=plot_data)\n",
    "fig.update_layout()"
   ]
  }
 ],
 "metadata": {
  "kernelspec": {
   "display_name": "experiments",
   "language": "python",
   "name": "python3"
  },
  "language_info": {
   "codemirror_mode": {
    "name": "ipython",
    "version": 3
   },
   "file_extension": ".py",
   "mimetype": "text/x-python",
   "name": "python",
   "nbconvert_exporter": "python",
   "pygments_lexer": "ipython3",
   "version": "3.9.18"
  }
 },
 "nbformat": 4,
 "nbformat_minor": 5
}
