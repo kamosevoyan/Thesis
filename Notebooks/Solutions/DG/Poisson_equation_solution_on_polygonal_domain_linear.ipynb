{
 "cells": [
  {
   "cell_type": "code",
   "execution_count": 158,
   "id": "d77dd589",
   "metadata": {},
   "outputs": [],
   "source": [
    "import matplotlib.pyplot as plt\n",
    "import dill\n",
    "import sympy\n",
    "from tqdm import tqdm\n",
    "from scipy.sparse import lil_matrix, csc_matrix, csr_matrix\n",
    "from scipy.sparse.linalg import spsolve\n",
    "import pypardiso\n",
    "import plotly"
   ]
  },
  {
   "cell_type": "markdown",
   "id": "69ae7294",
   "metadata": {},
   "source": [
    "### Load precomputed integrals"
   ]
  },
  {
   "cell_type": "code",
   "execution_count": 159,
   "id": "e0ed5cdf",
   "metadata": {},
   "outputs": [],
   "source": [
    "lagrange_linear_poisson_matrix = dill.load(\n",
    "    open(\"../../calculations/lagrange_linear_poisson_matrix\", \"rb\")\n",
    ")\n",
    "lagrange_linear_poisson_right_values = dill.load(\n",
    "    open(\"../../calculations/lagrange_linear_poisson_right_values\", \"rb\")\n",
    ")\n",
    "consistency_lambdified = dill.load(\n",
    "    open(\"../../calculations/lagrange_linear_poisson_dg_consistency\", \"rb\")\n",
    ")\n",
    "consistency_boundary_lambdified = dill.load(\n",
    "    open(\"../../calculations/lagrange_linear_poisson_dg_consistency_boundary\", \"rb\")\n",
    ")\n",
    "symmetricity_lambdified = dill.load(\n",
    "    open(\"../../calculations/lagrange_linear_poisson_dg_symmetricity\", \"rb\")\n",
    ")\n",
    "symmetricity_boundary_lambdified = dill.load(\n",
    "    open(\"../../calculations/lagrange_linear_poisson_dg_symmetricity_boundary\", \"rb\")\n",
    ")\n",
    "penalty_lambdified = dill.load(\n",
    "    open(\"../../calculations/lagrange_linear_poisson_dg_penalty\", \"rb\")\n",
    ")\n",
    "penalty_boundary_lambdified = dill.load(\n",
    "    open(\"../../calculations/lagrange_linear_poisson_dg_penalty_boundary\", \"rb\")\n",
    ")\n",
    "\n",
    "bc_dirichlet_lambdified = dill.load(open(\"../../calculations/lagrange_linear_poisson_dg_bc_dirichlet\", \"rb\"))\n",
    "bc_neumann_lambdified = dill.load(open(\"../../calculations/lagrange_linear_poisson_dg_bc_neumann\", \"rb\"))"
   ]
  },
  {
   "cell_type": "markdown",
   "id": "6688870c",
   "metadata": {},
   "source": [
    "### Initialize the domain"
   ]
  },
  {
   "cell_type": "code",
   "execution_count": 160,
   "id": "f91988b0",
   "metadata": {},
   "outputs": [],
   "source": [
    "import gmsh\n",
    "import numpy as np\n",
    "import matplotlib.pyplot as plt\n",
    "\n",
    "\n",
    "gmsh.initialize()\n",
    "gmsh.model.add(\"tri_mesh\")\n",
    "\n",
    "ms = 0.25\n",
    "# Define points\n",
    "point_1 = gmsh.model.geo.addPoint(0, 0, 0, ms)\n",
    "point_2 = gmsh.model.geo.addPoint(1, 0, 0, ms)\n",
    "point_3 = gmsh.model.geo.addPoint(0, 1, 0, ms)\n",
    "point_4 = gmsh.model.geo.addPoint(-1, 0, 0, ms)\n",
    "point_5 = gmsh.model.geo.addPoint(0, -1, 0, ms)\n",
    "\n",
    "# Define circles\n",
    "arc_1 = gmsh.model.geo.addCircleArc(point_2, point_1, point_3)\n",
    "arc_2 = gmsh.model.geo.addCircleArc(point_3, point_1, point_4)\n",
    "arc_3 = gmsh.model.geo.addCircleArc(point_4, point_1, point_5)\n",
    "arc_4 = gmsh.model.geo.addCircleArc(point_5, point_1, point_2)\n",
    "\n",
    "# Define line loop\n",
    "circle = gmsh.model.geo.addCurveLoop([arc_1, arc_2, arc_3, arc_4])\n",
    "\n",
    "# Define plane surface\n",
    "plane = gmsh.model.geo.addPlaneSurface([circle])\n",
    "\n",
    "gmsh.model.geo.synchronize()\n",
    "\n",
    "ms = 33\n",
    "gmsh.model.mesh.setTransfiniteCurve(arc_1, ms)\n",
    "gmsh.model.mesh.setTransfiniteCurve(arc_2, ms)\n",
    "gmsh.model.mesh.setTransfiniteCurve(arc_3, ms)\n",
    "gmsh.model.mesh.setTransfiniteCurve(arc_4, ms)\n",
    "gmsh.model.mesh.setTransfiniteSurface(plane)\n",
    "\n",
    "neumann_tag = gmsh.model.addPhysicalGroup(1, [arc_1], name=\"Neuman\")\n",
    "dirichlet_tag = gmsh.model.addPhysicalGroup(1, [arc_2, arc_3, arc_4], name=\"Dirichlet\")\n",
    "\n",
    "physical_group_curves_tag = gmsh.model.addPhysicalGroup(1, [arc_1, arc_2, arc_3, arc_4], name=\"Boundary curves\")\n",
    "physical_group_surface_tag = gmsh.model.addPhysicalGroup(2, [plane], name=\"Surface\")\n",
    "\n",
    "\n",
    "point_tag_1 = gmsh.model.geo.addPoint(np.sqrt(1/2), np.sqrt(1/2), 0, 1)\n",
    "point_tag_2 = gmsh.model.geo.addPoint(-np.sqrt(1/2), -np.sqrt(1/2), 0, 1)\n",
    "\n",
    "gmsh.model.geo.synchronize()\n",
    "\n",
    "\n",
    "gmsh.model.mesh.generate(2)\n",
    "gmsh.fltk.run()"
   ]
  },
  {
   "cell_type": "code",
   "execution_count": 161,
   "id": "2633f299",
   "metadata": {},
   "outputs": [],
   "source": [
    "edge_entities = gmsh.model.getEntitiesForPhysicalGroup(dim=1, tag=neumann_tag)\n",
    "\n",
    "edge_elemTags, edge_nodeTags = [], []\n",
    "for e in edge_entities:\n",
    "    _, elemTags, nodeTags = gmsh.model.mesh.getElements(1, e)\n",
    "    edge_elemTags.extend(np.hstack(elemTags))\n",
    "    edge_nodeTags.extend(np.hstack(nodeTags))"
   ]
  },
  {
   "cell_type": "markdown",
   "id": "8142e2fd",
   "metadata": {},
   "source": [
    "# Triangles"
   ]
  },
  {
   "cell_type": "code",
   "execution_count": 162,
   "id": "d830b13b",
   "metadata": {},
   "outputs": [],
   "source": [
    "boundary_node_tags, _ = gmsh.model.mesh.getNodesForPhysicalGroup(1, physical_group_curves_tag)\n",
    "surface_node_tags, points = gmsh.model.mesh.getNodesForPhysicalGroup(2, physical_group_surface_tag)\n",
    "points = points.reshape(-1, 3)[:, :-1]\n",
    "boundary_node_tags = boundary_node_tags - 1"
   ]
  },
  {
   "cell_type": "code",
   "execution_count": 163,
   "id": "33c2ba12",
   "metadata": {},
   "outputs": [],
   "source": [
    "element_types, element_tags, element_node_tags = gmsh.model.mesh.getElements()\n",
    "triangles = [nodes for elem_type, nodes in zip(element_types, element_node_tags) if elem_type == 2][0]\n",
    "triangles = triangles.reshape(-1, 3)\n",
    "triangles = triangles - 1\n",
    "\n",
    "def orient_batch(arg):\n",
    "    indices = np.argsort(arg, axis=-1)\n",
    "    res = np.take_along_axis(arg, indices, axis=-1)\n",
    "\n",
    "    return res\n",
    "\n",
    "triangles = orient_batch(triangles)"
   ]
  },
  {
   "cell_type": "code",
   "execution_count": 164,
   "id": "30ed611f",
   "metadata": {},
   "outputs": [],
   "source": [
    "vertex_marker_is_boundary = np.zeros(surface_node_tags.shape[0])\n",
    "vertex_marker_is_boundary[boundary_node_tags] = 1"
   ]
  },
  {
   "cell_type": "code",
   "execution_count": 165,
   "id": "b2e1dae9",
   "metadata": {},
   "outputs": [],
   "source": [
    "all_edges = triangles[:, [[1, 2], [0, 2], [0, 1]]].reshape(-1, 2)\n",
    "all_edges = np.sort(all_edges, axis=-1)\n",
    "all_edges, _, indices, counts = np.unique(all_edges, axis=0, return_counts=True, return_inverse=True, return_index=True)\n",
    "edge_marker_is_boundary = (counts == 1).astype(int)[:, None]"
   ]
  },
  {
   "cell_type": "markdown",
   "id": "a951e3d3",
   "metadata": {},
   "source": [
    "## Triangles to edges"
   ]
  },
  {
   "cell_type": "code",
   "execution_count": 166,
   "id": "997e8a21",
   "metadata": {},
   "outputs": [],
   "source": [
    "triangles_to_edges = indices.reshape(-1, 3)"
   ]
  },
  {
   "cell_type": "markdown",
   "id": "568290e5",
   "metadata": {},
   "source": [
    "## Edges to triangles"
   ]
  },
  {
   "cell_type": "code",
   "execution_count": 167,
   "id": "38a9565d",
   "metadata": {},
   "outputs": [],
   "source": [
    "edges_to_triangles = []\n",
    "\n",
    "for test_idx in range(all_edges.shape[0]):\n",
    "    edges_to_triangles.append([])\n",
    "\n",
    "for t_idx, edge in enumerate(triangles_to_edges):\n",
    "    \n",
    "    for e_idx in edge:\n",
    "        edges_to_triangles[e_idx].append(t_idx)\n",
    "\n",
    "for t_idx, v in enumerate(edges_to_triangles):\n",
    "    if len(v) == 1:\n",
    "        edges_to_triangles[t_idx].append(-1)\n",
    "\n",
    "edges_to_triangles = np.array(edges_to_triangles)"
   ]
  },
  {
   "cell_type": "code",
   "execution_count": 168,
   "id": "c9e1b80a",
   "metadata": {},
   "outputs": [],
   "source": [
    "def get_adjaset_triangles(edge: int) -> np.ndarray:\n",
    "    \"\"\"Returns the idx of the triangles that share the edge.\n",
    "\n",
    "    Args:\n",
    "        edge (int): edge index\n",
    "\n",
    "    Returns:\n",
    "        np.ndarray: triangle indices\n",
    "    \"\"\"\n",
    "    triangle_idx = edges_to_triangles[edge]\n",
    "\n",
    "    if triangle_idx[1] == -1:\n",
    "        triangle_idx = triangle_idx[:1]\n",
    "\n",
    "    triangle_idx.sort(axis=-1)\n",
    "\n",
    "    return triangle_idx"
   ]
  },
  {
   "cell_type": "code",
   "execution_count": 169,
   "id": "7794c76e-c6a7-4bd4-8a99-a66f4a712d02",
   "metadata": {},
   "outputs": [],
   "source": [
    "x, y = sympy.symbols(\"x y\")"
   ]
  },
  {
   "cell_type": "code",
   "execution_count": 170,
   "id": "11f78ac7-0cac-4255-9db2-d685fb9c10d3",
   "metadata": {},
   "outputs": [],
   "source": [
    "F = 20*y\n",
    "right_vals = np.zeros((points.shape[0]))\n",
    "right_vals[:] = sympy.lambdify((x, y), F)(*points.T)\n",
    "\n",
    "D = x\n",
    "bc_dirichlet = np.zeros((points.shape[0]))\n",
    "bc_dirichlet[:] = sympy.lambdify((x, y), D)(*points.T)\n",
    "\n",
    "N = sympy.Float(0)\n",
    "bc_neumann = np.zeros((points.shape[0]))\n",
    "bc_neumann[:] = sympy.lambdify((x, y), N)(*points.T)"
   ]
  },
  {
   "cell_type": "code",
   "execution_count": 171,
   "id": "a20516c7",
   "metadata": {},
   "outputs": [
    {
     "name": "stderr",
     "output_type": "stream",
     "text": [
      "100%|██████████| 158/158 [00:00<00:00, 9625.97it/s]\n",
      "100%|██████████| 251/251 [00:00<00:00, 507.88it/s]\n"
     ]
    }
   ],
   "source": [
    "num_unknowns = triangles.shape[0] * 3\n",
    "stiffness_matrix = lil_matrix((num_unknowns, num_unknowns), dtype=np.float64)\n",
    "b = np.zeros((num_unknowns), dtype=np.float64)\n",
    "\n",
    "for t_idx, element in enumerate(tqdm(triangles)):\n",
    "    x1, x2, x3 = points[element[0], 0], points[element[1], 0], points[element[2], 0]\n",
    "    y1, y2, y3 = points[element[0], 1], points[element[1], 1], points[element[2], 1]\n",
    "\n",
    "    FF = lagrange_linear_poisson_matrix(x1, y1, x2, y2, x3, y3)\n",
    "    ff = lagrange_linear_poisson_right_values(x1, y1, x2, y2, x3, y3, right_vals[element[0]], right_vals[element[1]], right_vals[element[2]])\n",
    "\n",
    "    for test_idx in range(3):\n",
    "        for trial_idx in range(3): \n",
    "            stiffness_matrix[3*t_idx + trial_idx, 3*t_idx + test_idx] += FF[trial_idx, test_idx]\n",
    "        b[3*t_idx + test_idx] -= ff[test_idx, 0]\n",
    "\n",
    "\n",
    "P = 20\n",
    "for e_idx, _ in enumerate(tqdm(all_edges)):\n",
    "\n",
    "    nt_idx = get_adjaset_triangles(e_idx)\n",
    "    triangles_points = triangles[nt_idx]\n",
    "    triangle_point_coords = points[triangles_points]    \n",
    "    re_idx = np.where(triangles_to_edges[nt_idx] == e_idx)[-1]\n",
    "    \n",
    "    if edge_marker_is_boundary[e_idx] == 0:\n",
    "        cons = consistency_lambdified(*triangle_point_coords.flatten())\n",
    "        symm = symmetricity_lambdified(*triangle_point_coords.flatten())\n",
    "        penalty = penalty_lambdified(*triangle_point_coords.flatten(), P)\n",
    "        \n",
    "        for test_idx in range(3):\n",
    "            for trial_idx in range(3):\n",
    "                for p_idx in range(2):\n",
    "                    for n_idx in range(2):\n",
    "                        stiffness_matrix[3*nt_idx[p_idx] + trial_idx, 3*nt_idx[n_idx] + test_idx] -= cons[p_idx][n_idx][re_idx[0]][re_idx[1]][trial_idx][test_idx]\n",
    "                        stiffness_matrix[3*nt_idx[p_idx] + trial_idx, 3*nt_idx[n_idx] + test_idx] -= symm[p_idx][n_idx][re_idx[0]][re_idx[1]][trial_idx][test_idx]\n",
    "                        stiffness_matrix[3*nt_idx[p_idx] + trial_idx, 3*nt_idx[n_idx] + test_idx] += penalty[p_idx][n_idx][re_idx[0]][re_idx[1]][trial_idx][test_idx]\n",
    "    else:\n",
    "                        \n",
    "        cons_b = consistency_boundary_lambdified(*triangle_point_coords.flatten())\n",
    "        symm_b = symmetricity_boundary_lambdified(*triangle_point_coords.flatten())\n",
    "        penalty_b = penalty_boundary_lambdified(*triangle_point_coords.flatten(), P)\n",
    "        bc_d = bc_dirichlet_lambdified(*triangle_point_coords.flatten(), P)\n",
    "        bc_n = bc_neumann_lambdified(*triangle_point_coords.flatten())\n",
    "    \n",
    "        # SIP\n",
    "        for test_idx in range(3):     \n",
    "            for trial_idx in range(3):                                                                            \n",
    "                stiffness_matrix[3*nt_idx[0] + trial_idx, 3*nt_idx[0] + test_idx] -=      cons_b[re_idx[0]][trial_idx][test_idx] \n",
    "                stiffness_matrix[3*nt_idx[0] + trial_idx, 3*nt_idx[0] + test_idx] -=      symm_b[re_idx[0]][trial_idx][test_idx] \n",
    "                stiffness_matrix[3*nt_idx[0] + trial_idx, 3*nt_idx[0] + test_idx] += penalty_b[re_idx[0]][trial_idx][test_idx]\n",
    "                \n",
    "\n",
    "        for test_idx in range(3):\n",
    "            # Dirichlet\n",
    "            for trial_idx in range(3):                                                    \n",
    "                b[3*nt_idx[0] + trial_idx] += bc_dirichlet[triangles_points[0]][test_idx] * bc_d[re_idx[0]][test_idx][trial_idx]\n",
    "                \n",
    "                # b[3*nt_idx[0] + test_idx] = bc_neumann[triangles_points[0]][test_idx] * bc_n[re_idx[0]][trial_idx][test_idx]\n",
    "\n"
   ]
  },
  {
   "cell_type": "code",
   "execution_count": 172,
   "id": "8e780f0c",
   "metadata": {},
   "outputs": [],
   "source": [
    "coefs = pypardiso.spsolve(stiffness_matrix.tocsr(), b).reshape(-1, 3)"
   ]
  },
  {
   "cell_type": "code",
   "execution_count": 173,
   "id": "076700a8",
   "metadata": {},
   "outputs": [],
   "source": [
    "param = np.linspace(0, 1, 3)\n",
    "gridx, gridy = np.meshgrid(param, param, indexing=\"ij\")\n",
    "\n",
    "mask = (gridy <= 1 - gridx)\n",
    "\n",
    "gridx = gridx[mask]\n",
    "gridy = gridy[mask]"
   ]
  },
  {
   "cell_type": "code",
   "execution_count": 174,
   "id": "8e659ebb",
   "metadata": {},
   "outputs": [],
   "source": [
    "mapping_function_lambdified = dill.load(\n",
    "    open(\"../../calculations/lagrange_linear_mapping_x\", \"rb\")\n",
    ")\n",
    "interpolation_function_lambdified = dill.load(\n",
    "    open(\"../../calculations/lagrange_linear_interpolation_x\", \"rb\")\n",
    ")"
   ]
  },
  {
   "cell_type": "code",
   "execution_count": 175,
   "id": "81ee76e7",
   "metadata": {},
   "outputs": [],
   "source": [
    "global_x, global_y, global_z = [], [], []\n",
    "\n",
    "for t_idx, element in enumerate(triangles):\n",
    "    \n",
    "    x0, x1, x2 = points[element[0], 0], points[element[1], 0], points[element[2], 0]\n",
    "    y0, y1, y2 = points[element[0], 1], points[element[1], 1], points[element[2], 1]\n",
    "    \n",
    "    physical_x, physical_y = mapping_function_lambdified(gridx, gridy, x0, y0, x1, y1, x2, y2).squeeze()\n",
    "    \n",
    "    physical_z = interpolation_function_lambdified(\n",
    "                                        gridx, gridy,\n",
    "                                        coefs[t_idx, 0], \n",
    "                                        coefs[t_idx, 1], \n",
    "                                        coefs[t_idx, 2],\n",
    "                                        ).squeeze()\n",
    "    \n",
    "    global_x.append(physical_x)\n",
    "    global_y.append(physical_y)\n",
    "    global_z.append(physical_z)\n",
    "    \n",
    "global_x = np.concatenate(global_x)\n",
    "global_y = np.concatenate(global_y)\n",
    "global_z = np.concatenate(global_z)"
   ]
  },
  {
   "cell_type": "code",
   "execution_count": 176,
   "id": "114315a1",
   "metadata": {},
   "outputs": [
    {
     "data": {
      "application/vnd.plotly.v1+json": {
       "config": {
        "plotlyServerURL": "https://plot.ly"
       },
       "data": [
        {
         "type": "mesh3d",
         "x": {
          "bdata": "7MYc+yko6L+QHIEDCVbpvzVy5Qvog+q/x6j8kyri5b9s/mCcCRDnv6KK3CwrnOO/",
          "dtype": "f8"
         },
         "y": {
          "bdata": "Am+vet3n0L+qmvWAqTbGv6KuGBkwO7W/HdMJBxvFwr8NP4JKJrCsv6tBpsXY052/",
          "dtype": "f8"
         },
         "z": {
          "bdata": "3q+xup9Z4L8k2/2ZwXPkv2oGSnnjjei/VBpI+Ngm4b+aRZTX+kDlv8qE3jUS9OG/",
          "dtype": "f8"
         }
        },
        {
         "type": "mesh3d",
         "x": {
          "bdata": "7MYc+yko6L/HqPyTKuLlv6KK3CwrnOO/rCqOCQE05L+IDG6iAe7hv22O/xfYP+C/",
          "dtype": "f8"
         },
         "y": {
          "bdata": "Am+vet3n0L8d0wkHG8XCv6tBpsXY052/0ALJljYp0L+5+jw/zUfBvz0txWUf1c6/",
          "dtype": "f8"
         },
         "z": {
          "bdata": "lRpWYfNN4L8Ym6+JyyThv5obCbKj++G/7A4kP5V+07/xD9ePRSzVv7mib+4Ohbm/",
          "dtype": "f8"
         }
        },
        {
         "type": "mesh3d",
         "x": {
          "bdata": "udqAOrKbmr+eHUXOBVShP0xU5Vzy+rc/UUeSwL8dtD9nhiqbV7fBP6hi4gc2ccc/",
          "dtype": "f8"
         },
         "y": {
          "bdata": "3a9w4ZSY4r+aIiwBydXlv1iV5yD9Eum/iL2uI1ae4r9GMGpDitvlvzPL7GUXpOK/",
          "dtype": "f8"
         },
         "z": {
          "bdata": "firt2Hv97j9egZ1UWyftPz/YTdA6Ues/rIjEp+em8D86aDnLrnfvPxp8EmMRz/E/",
          "dtype": "f8"
         }
        },
        {
         "type": "mesh3d",
         "x": {
          "bdata": "AAAAAAAAAADHVH4wJfC3P8dUfjAl8Mc/oqoMHJTspr/s/u9EtvOoP6KqDByU7La/",
          "dtype": "f8"
         },
         "y": {
          "bdata": "AAAAAAAA8D+MO9E3zl/sPxh3om+cv+g/zOOmM1G37D9YH3hrHxfpP5jHTWeibuk/",
          "dtype": "f8"
         },
         "z": {
          "bdata": "wiapiLHQlr9TDuqqphLTvx3FpB4hXOK/TlvJqBHO2r+aa5Sd1jnmvxgShByMF+q/",
          "dtype": "f8"
         }
        },
        {
         "type": "mesh3d",
         "x": {
          "bdata": "GxFddMME6T9m+WqBLe3kP7LheI6X1eA/yvsNKzJ85j8V5Bs4nGTiP3jmvuGg8+M/",
          "dtype": "f8"
         },
         "y": {
          "bdata": "cZlf46Dz4z+3moPEgEfiP/2bp6Vgm+A/gHyELDJ85j/GfagNEtDkP49fqXXDBOk/",
          "dtype": "f8"
         },
         "z": {
          "bdata": "/n+0aW3u6D/MFgKR5Q3WP5NJk8U+BLe/fLp15A1i5j/Hi4SGJvXQP/n0Nl+u1eM/",
          "dtype": "f8"
         }
        },
        {
         "type": "mesh3d",
         "x": {
          "bdata": "PYNZAtzZ3r/6DkDTE8Pgv1VcU6U5GeK/fFFIJtn92b8y7G7KJKrcv7ofN0rWIdW/",
          "dtype": "f8"
         },
         "y": {
          "bdata": "5vAH8z9l1z+/MtS6XRPeP0w6UMG9YOI/vBshhAsP3D/KrvallF7hP0kjnYprXOA/",
          "dtype": "f8"
         },
         "z": {
          "bdata": "VVibgqst8b8PyGIk0zXxv8k3Ksb6PfG/uque7FfJ8b90G2aOf9HxvyD/oVYEZfK/",
          "dtype": "f8"
         }
        },
        {
         "type": "mesh3d",
         "x": {
          "bdata": "nJLPNI/1uL8Aykf9mlNfv0xU5Vzy+rc/Sslvw3ucr7+eHUXOBVShP7nagDqym5q/",
          "dtype": "f8"
         },
         "y": {
          "bdata": "1E8hk1aV6b+WcgTaKVTpv1iV5yD9Eum/2P9IuvUW5r+aIiwBydXlv92vcOGUmOK/",
          "dtype": "f8"
         },
         "z": {
          "bdata": "PhxK5Pjv4z/PY4LurZjnP2CruvhiQes/uAp+ZKh76T9JUrZuXSTtPzL5seRXB+8/",
          "dtype": "f8"
         }
        },
        {
         "type": "mesh3d",
         "x": {
          "bdata": "c4Rltxs42r+OHgaBRzXfv1VcU6U5GeK/FlLOAPms178y7G7KJKrcv7ofN0rWIdW/",
          "dtype": "f8"
         },
         "y": {
          "bdata": "PP5yRatI5j9EnGGDtFTkP0w6UMG9YOI/whAIaItS4z/KrvallF7hP0kjnYprXOA/",
          "dtype": "f8"
         },
         "z": {
          "bdata": "RkDo4MxY8L9u8WhKI8fwv5Wi6bN5NfG/7lXXMHhi8b8WB1iaztDxv5ZrxoAjbPK/",
          "dtype": "f8"
         }
        },
        {
         "type": "mesh3d",
         "x": {
          "bdata": "HUN/qbzU7L/y9P7Pv/vov8imfvbCIuW/HCruDsDs6r/y2201wxPnvxsRXXTDBOm/",
          "dtype": "f8"
         },
         "y": {
          "bdata": "jLatTsDE279ffdxz66LbvzJEC5kWgdu/XDpbhQDr4L/FnfIXFtrgv3GZX+Og8+O/",
          "dtype": "f8"
         },
         "z": {
          "bdata": "sMt9Md/O7L8xXS4UEWriv2Tdve2FCtC/vREqAN7f6r8+o9riD3vgv8pX1s7c8Oi/",
          "dtype": "f8"
         }
        },
        {
         "type": "mesh3d",
         "x": {
          "bdata": "PuBSGy5S1T/RUSKcrn7bP7LheI6X1eA/w6t0g9It0z9WHUQEU1rZP0h3lut2CdE/",
          "dtype": "f8"
         },
         "y": {
          "bdata": "jhvMrO0Z1z/EqQ18VyjcP/2bp6Vgm+A/vOeKWpl33T/5OuaUAUPhP/XZJISi6uE/",
          "dtype": "f8"
         },
         "z": {
          "bdata": "PMVQ4Mra17+Se/L+q4fNv1jZhnqEs7a/+5rz6s2G37+IExwK2W/Wv104y3pomeO/",
          "dtype": "f8"
         }
        },
        {
         "type": "mesh3d",
         "x": {
          "bdata": "L/EZTMDE2z/JjSxyad7TP8dUfjAl8Mc/PEOFEy492z/X35c511bTP0qV8Nqbtdo/",
          "dtype": "f8"
         },
         "y": {
          "bdata": "ayAeqrzU7D/CS+CMLMrqPxh3om+cv+g/kJjuAqtu6T/nw7DlGmTnP7YQv1uZCOY/",
          "dtype": "f8"
         },
         "z": {
          "bdata": "MJOVi+s22z88c396pCewv2emauRepeG/KX72/3yhvz910DdqdVjXvzeoNBdazMa/",
          "dtype": "f8"
         }
        },
        {
         "type": "mesh3d",
         "x": {
          "bdata": "AAAAAAAAAADHVH4wJfC3P8dUfjAl8Mc/AyJ94ZB7vD9lu/0I2zXKPwMifeGQe8w/",
          "dtype": "f8"
         },
         "y": {
          "bdata": "AAAAAAAA8D+MO9E3zl/sPxh3om+cv+g/5I63Ak6Z7z9wyog6HPnrP8kdbwWcMu8/",
          "dtype": "f8"
         },
         "z": {
          "bdata": "zZdBjHP7ib+tCSWBFULSv04D9LIn2uG/Ja9JDLYruT9LImHDmE7Gv6LIDUVty8o/",
          "dtype": "f8"
         }
        },
        {
         "type": "mesh3d",
         "x": {
          "bdata": "eOa+4aDz4z8V5Bs4nGTiP7LheI6X1eA/jpibZzen4D9XLPF7ZTDeP0qV8Nqbtdo/",
          "dtype": "f8"
         },
         "y": {
          "bdata": "j1+pdcME6T/GfagNEtDkP/2bp6Vgm+A/Iji0aK6G5z9aVrMA/VHjP7YQv1uZCOY/",
          "dtype": "f8"
         },
         "z": {
          "bdata": "p2Pjn7LW4z9yqVLW7fPQP6bRhUwmFre/VKdDtSqIzD9jlKQdxOrAv/M/BhV1Ssa/",
          "dtype": "f8"
         }
        },
        {
         "type": "mesh3d",
         "x": {
          "bdata": "SpXw2pu12j9XLPF7ZTDeP7LheI6X1eA/SYZDY4nf1T9WHUQEU1rZP0h3lut2CdE/",
          "dtype": "f8"
         },
         "y": {
          "bdata": "thC/W5kI5j9aVrMA/VHjP/2bp6Vgm+A/VvXx75354z/5OuaUAUPhP/XZJISi6uE/",
          "dtype": "f8"
         },
         "z": {
          "bdata": "zUAIyWgRx7/q932qFQLBvwxe5xeF5bW/Kvrp5L5c2b+41aRVFVXWv/fpp7JkmOO/",
          "dtype": "f8"
         }
        },
        {
         "type": "mesh3d",
         "x": {
          "bdata": "ecbFz6uF2b+CNWi/BO/av4ykCq9dWNy/nbf2+/NO1L+mJpnrTLjVv4FRT1B4MM6/",
          "dtype": "f8"
         },
         "y": {
          "bdata": "4FIJbSY15b+CcN/NSJbhv0Yca13W7tu/Vrt/RQZg4r/vsatMUYLdv5hH7DvMFd+/",
          "dtype": "f8"
         },
         "z": {
          "bdata": "lYrhcUig0j8QGs2e9efQPxRTcZdFX84/sijUIxuX3T8suL9QyN7bP2dj4+r2RuQ/",
          "dtype": "f8"
         }
        },
        {
         "type": "mesh3d",
         "x": {
          "bdata": "PGB3nsni4D8Y6kCfyFfiP/RzCqDHzOM/5xR6rgZ05D/DnkOvBenlP5LJfL5DBeg/",
          "dtype": "f8"
         },
         "y": {
          "bdata": "4D4KMqRd0r+ei86bPq7Kv32ZiNM0ocC/qPI2w/q50b8u8ye+62bJv3CmY1RRFtG/",
          "dtype": "f8"
         },
         "z": {
          "bdata": "oqoylMrx7z9NghxZcRTtP/hZBh4YN+o/FomAXdPt7z/BYGoiehDtP4pnzibc6e8/",
          "dtype": "f8"
         }
        },
        {
         "type": "mesh3d",
         "x": {
          "bdata": "2dJEzsbj5T82zmBGhfTmP5LJfL5DBeg/ihleNkhj4z/nFHquBnTkPzxgd57J4uA/",
          "dtype": "f8"
         },
         "y": {
          "bdata": "SWqBQoZh3L9ciHLL67vWv3CmY1RRFtG/lNRFOpVf17+o8jbD+rnRv+A+CjKkXdK/",
          "dtype": "f8"
         },
         "z": {
          "bdata": "wDnY5Jr28D8wiq1j83TwPz+1BcWX5u8/huP9BsB58D/qZ6YLMfDvP5YaR1LK+e8/",
          "dtype": "f8"
         }
        },
        {
         "type": "mesh3d",
         "x": {
          "bdata": "Ztw6Dpec6b9OJxCNPxDqvzVy5Qvog+q/hLOLHWGc5r9s/mCcCRDnv6KK3CwrnOO/",
          "dtype": "f8"
         },
         "y": {
          "bdata": "qXMiZ53juT8cFCc4taGCP6KuGBkwO7W/PuO4Naduoj8NP4JKJrCsv6tBpsXY052/",
          "dtype": "f8"
         },
         "z": {
          "bdata": "js+nEdVm7L9y4kLn3njqv1f13bzoiui/FnX7tzs057/7h5aNRUblv58aT16iAeK/",
          "dtype": "f8"
         }
        },
        {
         "type": "mesh3d",
         "x": {
          "bdata": "L/EZTMDE2z/JjSxyad7TP8dUfjAl8Mc/GEFsXkQB1T9lu/0I2zXKPwMifeGQe8w/",
          "dtype": "f8"
         },
         "y": {
          "bdata": "ayAeqrzU7D/CS+CMLMrqPxh3om+cv+g/Gp/GV6wD7j9wyog6HPnrP8kdbwWcMu8/",
          "dtype": "f8"
         },
         "z": {
          "bdata": "rQbSWI+L2z/EfKDei+evv+8SPSi5wuG/+ozkzwPC1D+YEoMJ+ozFv40m7o3w8Ms/",
          "dtype": "f8"
         }
        },
        {
         "type": "mesh3d",
         "x": {
          "bdata": "GxFddMME6T9m+WqBLe3kP7LheI6X1eA/vCwPVtvZ5z8IFR1jRcLjP15IwTfzruY/",
          "dtype": "f8"
         },
         "y": {
          "bdata": "cZlf46Dz4z+3moPEgEfiP/2bp6Vgm+A/TD9zacIH4T8jgS6VRLfeP0zKDd/HN9w/",
          "dtype": "f8"
         },
         "z": {
          "bdata": "5rsUaubE6D8gY2QZzgTWPzHGgoXCALa/7226iOZ14j9kjl+tnM3CP/A/wE7NTdg/",
          "dtype": "f8"
         }
        },
        {
         "type": "mesh3d",
         "x": {
          "bdata": "oqoMHJTstr/s/u9EtvOoP8dUfjAl8Mc/dveRfoQPoL9drjv/rF67P7LM6nU+dJs/",
          "dtype": "f8"
         },
         "y": {
          "bdata": "mMdNZ6Ju6T9YH3hrHxfpPxh3om+cv+g/+TxN4Pl75j+5lHfkdiTmP1qyTFlRieM/",
          "dtype": "f8"
         },
         "z": {
          "bdata": "PoMoQpMq6r/Rf1aWLzjmv2R8hOrLReK/SgXieitm7L/cARDPx3Pov1WHm7PDoe6/",
          "dtype": "f8"
         }
        },
        {
         "type": "mesh3d",
         "x": {
          "bdata": "HUN/qbzU7L/y9P7Pv/vov8imfvbCIuW/BAVOUnN+6r/ats14dqXmv+zGHPspKOi/",
          "dtype": "f8"
         },
         "y": {
          "bdata": "jLatTsDE279ffdxz66LbvzJEC5kWgdu/x5Ku5E5W1r+aWd0JejTWvwJvr3rd59C/",
          "dtype": "f8"
         },
         "z": {
          "bdata": "luDdGsqe7L+Mk+7weF/ivwON/o1PQNC/RRX4ITGJ5r92kBHwv5PYv/RJEimYc+C/",
          "dtype": "f8"
         }
        },
        {
         "type": "mesh3d",
         "x": {
          "bdata": "GxFddMME6b/y2201wxPnv8imfvbCIuW/+n5rGdKz5b/RSXza0cLjv9rseb7gYuK/",
          "dtype": "f8"
         },
         "y": {
          "bdata": "cZlf46Dz47/FnfIXFtrgvzJEC5kWgdu/MTAm7yBA47+FNLkjlibgv/HG7PqgjOK/",
          "dtype": "f8"
         },
         "z": {
          "bdata": "qH0PzxP+6L+Pd50O+XTgv9jFrTh5r8+/39yVBo4/3L9aoWMLsVrGv7n5MrzRC7q/",
          "dtype": "f8"
         }
        },
        {
         "type": "mesh3d",
         "x": {
          "bdata": "VxslBifp0T9qcF6d4+fHP0xU5Vzy+rc/q0wWCsKhzT9nhiqbV7fBP6hi4gc2ccc/",
          "dtype": "f8"
         },
         "y": {
          "bdata": "GKin5U9t6L+4nkeDJsDov1iV5yD9Eum/pjnKpbOI5b9GMGpDitvlvzPL7GUXpOK/",
          "dtype": "f8"
         },
         "z": {
          "bdata": "/+dICDUI7j+nTCsPy6vsP0+xDRZhT+s/dAm0OHds8D+Qd0p4hHzvP+meQ+3T1PE/",
          "dtype": "f8"
         }
        },
        {
         "type": "mesh3d",
         "x": {
          "bdata": "NNSYuuWE6T+fAtYj9g7qPwoxE40Gmeo/mhB+YC3R5j8FP7vJPVvnPwBNYwZ1HeQ/",
          "dtype": "f8"
         },
         "y": {
          "bdata": "Jrq1fGnOtb+ggkgemZN1P3rKfqDcgLg/IMDShUSScL9OFj3Gfh62PyJi++sgvLM/",
          "dtype": "f8"
         },
         "z": {
          "bdata": "Rl9BnGMa7D8P0BWRCETqP9hA6oWtbeg/rNamFGJa5j91R3sJB4TkPxJODI1gmuA/",
          "dtype": "f8"
         }
        },
        {
         "type": "mesh3d",
         "x": {
          "bdata": "ecbFz6uF2b838IrBTifTv+ozoGbjkcm/nbf2+/NO1L+2wnfbLeHLv4FRT1B4MM6/",
          "dtype": "f8"
         },
         "y": {
          "bdata": "4FIJbSY15b+Ob4L/LDPlvz2M+5EzMeW/Vrt/RQZg4r8E2PjXDF7iv5hH7DvMFd+/",
          "dtype": "f8"
         },
         "z": {
          "bdata": "6+obNRZo0j9CNtGioR3eP81AQ4iW6eQ/PmBXZGOJ3T/KVQZpd5/kP8hqyUlYVeQ/",
          "dtype": "f8"
         }
        },
        {
         "type": "mesh3d",
         "x": {
          "bdata": "NNSYuuWE6T8UpFGt1qjmP/RzCqDHzOM/mhB+YC3R5j964DZTHvXjPwBNYwZ1HeQ/",
          "dtype": "f8"
         },
         "y": {
          "bdata": "Jrq1fGnOtb+QduORaYi7v32ZiNM0ocC/IMDShUSScL+woSt2kQybvyJi++sgvLM/",
          "dtype": "f8"
         },
         "z": {
          "bdata": "JFuqkC4c7D/bguP4/BPrP5KqHGHLC+o/eHZl73pa5j8wnp5XSVLlP82RIE7HmOA/",
          "dtype": "f8"
         }
        },
        {
         "type": "mesh3d",
         "x": {
          "bdata": "cDJWU/465r9ix1T8Gyrkv1VcU6U5GeK/B3pBKvbT4r/6DkDTE8Pgvz2DWQLc2d6/",
          "dtype": "f8"
         },
         "y": {
          "bdata": "ZbPfX9Wr2j/+E0BxqLbfP0w6UMG9YOI/JtJzqYoI2T+/MtS6XRPeP+bwB/M/Zdc/",
          "dtype": "f8"
         },
         "z": {
          "bdata": "Rzh50pT68L9w5/0ughrxv5qWgotvOvG/kkrOP3gT8b+8+VKcZTPxv95cI61bLPG/",
          "dtype": "f8"
         }
        },
        {
         "type": "mesh3d",
         "x": {
          "bdata": "SpXw2pu12j/X35c511bTP8dUfjAl8Mc/SYZDY4nf1T+sodWDiQHNP0h3lut2CdE/",
          "dtype": "f8"
         },
         "y": {
          "bdata": "thC/W5kI5j/nw7DlGmTnPxh3om+cv+g/VvXx75354z+GqON5H1XlP/XZJISi6uE/",
          "dtype": "f8"
         },
         "z": {
          "bdata": "MGA/NtB3x7/iVw86iurXv9Z/fyyWDOK/wWDA35542b9GBFh/oNPiv7WIMNKqmuO/",
          "dtype": "f8"
         }
        },
        {
         "type": "mesh3d",
         "x": {
          "bdata": "Ztw6Dpec6b9tub9oLOLmv3SWRMPBJ+S/hLOLHWGc5r+LkBB49uHjv6KK3CwrnOO/",
          "dtype": "f8"
         },
         "y": {
          "bdata": "qXMiZ53juT/JSDrFfhXEP71X49YuOcs/PuO4Naduoj+Ijy6+s363P6tBpsXY052/",
          "dtype": "f8"
         },
         "z": {
          "bdata": "INeiCK9n7L8SksnkBg/tvwRN8MBetu2/NBuWqvY+578m1ryGTubnv0hfiUw+FuK/",
          "dtype": "f8"
         }
        },
        {
         "type": "mesh3d",
         "x": {
          "bdata": "akK8mAUj4j9YLcZPhAHeP9zVE279vNc/Nuo+pkDm4D/wfMtq+ofbPwQkg2f3Ut8/",
          "dtype": "f8"
         },
         "y": {
          "bdata": "9z8gRLZY478hMA6nMDLjv0sg/AmrC+O/Uo8rYbcx4b98fxnEMQvhv1i9bfxwFd6/",
          "dtype": "f8"
         },
         "z": {
          "bdata": "8U6XW+mk8D+Rs/tNe2LxPzEYYEANIPI/HVys9l5P8T+9wBDp8AzyP0lpwZHU+fE/",
          "dtype": "f8"
         }
        },
        {
         "type": "mesh3d",
         "x": {
          "bdata": "nJLPNI/1uL+c/oOAVQbDv+ozoGbjkcm/Sslvw3ucr79BT/CtWeW8v7nagDqym5q/",
          "dtype": "f8"
         },
         "y": {
          "bdata": "1E8hk1aV6b8Ibo4SRWPnvz2M+5EzMeW/2P9IuvUW5r8NHrY55OTjv92vcOGUmOK/",
          "dtype": "f8"
         },
         "z": {
          "bdata": "vhklziLy4z/FEvRySInkP8wLwxduIOU/cjwByw9o6T94NdBvNf/pPyVf3cf83e4/",
          "dtype": "f8"
         }
        },
        {
         "type": "mesh3d",
         "x": {
          "bdata": "9jMT426p4T/UCsY4gz/hP7LheI6X1eA/FaS88IVS3D/RUSKcrn7bPz7gUhsuUtU/",
          "dtype": "f8"
         },
         "y": {
          "bdata": "dX8a4ImP0z+427SVJWPaP/2bp6Vgm+A/gk1zxrtU1T/EqQ18VyjcP44bzKztGdc/",
          "dtype": "f8"
         },
         "z": {
          "bdata": "PdiPrdxdtD9gYgmUZYt0v4kEEWBJ77a/QKG+JCnBwr9x2CaocpTNv0+XIlCg2Ne/",
          "dtype": "f8"
         }
        },
        {
         "type": "mesh3d",
         "x": {
          "bdata": "9jMT426p4T8VpLzwhVLcPz7gUhsuUtU/BqjeTldF3j8v5HR5/0TXPyDoltfQN9k/",
          "dtype": "f8"
         },
         "y": {
          "bdata": "dX8a4ImP0z+CTXPGu1TVP44bzKztGdc/ZknXNF4DzT+/csQA4UbQP+GTeamo58I/",
          "dtype": "f8"
         },
         "z": {
          "bdata": "akva42tetD8gCOv14Y3Cv/ua4e58pde/OK0DRErDsz86V9bFctvCvwYPLaQoKLM/",
          "dtype": "f8"
         }
        },
        {
         "type": "mesh3d",
         "x": {
          "bdata": "1k40a+s6tD/OZLvXGvrHPxhR7vxf69I/tUwPgbawuz+946hiALXLP0oldctAk8E/",
          "dtype": "f8"
         },
         "y": {
          "bdata": "Jap9dWXOxb9KkA6s3S3Jv3B2n+JVjcy/a6ik7B6p0b9+G+0H21jTv8R7ih4La9i/",
          "dtype": "f8"
         },
         "z": {
          "bdata": "nbC9o8QJ4D8Rh7uj75nkP4VduaMaKuk/xKEpDBU15z84eCcMQMXrP+qSlXRlYO4/",
          "dtype": "f8"
         }
        },
        {
         "type": "mesh3d",
         "x": {
          "bdata": "SiV1y0CTwT8Y0TZIG+/NP3M+fOJ6JdU/veOoYgC1yz/GR7VvbQjUPxhR7vxf69I/",
          "dtype": "f8"
         },
         "y": {
          "bdata": "xHuKHgtr2L+Lz9YZcZfZv1IjIxXXw9q/fhvtB9tY079FbzkDQYXUv3B2n+JVjcy/",
          "dtype": "f8"
         },
         "z": {
          "bdata": "M4CAh1ho7j8Vbi0vc07wPxCcmhq6aPE/eovWU0fL6z9w57Aq1f/tP8CWLCA2Luk/",
          "dtype": "f8"
         }
        },
        {
         "type": "mesh3d",
         "x": {
          "bdata": "YSDkxrMNzj+kMDDwHPnQPxhR7vxf69I/5iM/vpQVxD/OZLvXGvrHP9ZONGvrOrQ/",
          "dtype": "f8"
         },
         "y": {
          "bdata": "EvfL07SBg7/hNdwvccW9v3B2n+JVjcy/lmm6woAGt79KkA6s3S3JvyWqfXVlzsW/",
          "dtype": "f8"
         },
         "z": {
          "bdata": "QtlrU/9g0D/E763rko3gP+jypS2m6ug/jFl0cPsM2D/qLzL6kGPkP9bZfI33uN8/",
          "dtype": "f8"
         }
        },
        {
         "type": "mesh3d",
         "x": {
          "bdata": "YMkqjWJbuz8AjX9jgQsjv+1Ijg5ubru/UM3/x/cjnz/Sldxb6puzv3DFVVLNkqe/",
          "dtype": "f8"
         },
         "y": {
          "bdata": "Yhp4+VK42j81IJCkkhncPwgmqE/Set0/k910Brem1T9m44yx9gfXP8SgcRMbldA/",
          "dtype": "f8"
         },
         "z": {
          "bdata": "IfP//E6P6L9o0AkHopXsv9fWiYj6TfC/SIGgvoT/5r+OXqrI1wXrv24PQYC6b+W/",
          "dtype": "f8"
         }
        },
        {
         "type": "mesh3d",
         "x": {
          "bdata": "W4A4yFD/kD+FCnPcSSaOv3DFVVLNkqe/Z8KETuGWt7/OQyG8fpu/v3LSi2fLtsm/",
          "dtype": "f8"
         },
         "y": {
          "bdata": "ZKO/VO7tpj8wlQne2HLDP8SgcRMbldA/4b80991Tsj9IDHRETOHGPxCuCcTEMLk/",
          "dtype": "f8"
         },
         "z": {
          "bdata": "H5VhqU4gu7/7hwpYPJLYv1dV3oIyLuW/tsTzzgSc0b+081K+FrPhvyQkj/P1b9y/",
          "dtype": "f8"
         }
        },
        {
         "type": "mesh3d",
         "x": {
          "bdata": "ctKLZ8u2yb/wtszon2/Nv7fNBjU6lNC/zkMhvH6bv79lhlHfk4bDv3DFVVLNkqe/",
          "dtype": "f8"
         },
         "y": {
          "bdata": "EK4JxMQwuT/3ZSA/eRfKP3P6HQ5Iy9M/SAx0REzhxj+czceQMTDSP8SgcRMbldA/",
          "dtype": "f8"
         },
         "z": {
          "bdata": "PjW1jaDc3L9COStjuPnlv+TXe38ghe2/5L0UWXvw4b+GXGV143vpvynhTmumcuW/",
          "dtype": "f8"
         }
        },
        {
         "type": "mesh3d",
         "x": {
          "bdata": "uIFHKIsXxj9cELLT1zKwP3DFVVLNkqe/w5FOQXU3uD+FCnPcSSaOv1uAOMhQ/5A/",
          "dtype": "f8"
         },
         "y": {
          "bdata": "jVummj9Kyj+KzsTgOrrNP8SgcRMbldA/MyLrl90CwD8wlQne2HLDP2Sjv1Tu7aY/",
          "dtype": "f8"
         },
         "z": {
          "bdata": "Z1dGTVaI1L9+9I8UbHjfv8vI7O1ANOW/JRsyXZg3y7+qquL14YvYv/cOrz8Ivbq/",
          "dtype": "f8"
         }
        },
        {
         "type": "mesh3d",
         "x": {
          "bdata": "qD3v2nG7wb9xOclgRJHPv52aUXOLs9a/IXLKgCSpy7/1NlKDe7/Uv03TUpNry9K/",
          "dtype": "f8"
         },
         "y": {
          "bdata": "buz2vAbgvb//Lea04WO3v5Bv1ay857C/6q2zlNZFyb+zTqsQxAfGv8/ydeXUzdG/",
          "dtype": "f8"
         },
         "z": {
          "bdata": "kjPFsNaOwj+IUkMO8JShv9bc5rdOWcu/bf8SVrHtyz/k3POGeuajP6RlsP1FptI/",
          "dtype": "f8"
         }
        },
        {
         "type": "mesh3d",
         "x": {
          "bdata": "bY7/F9g/4L+IDG6iAe7hv6KK3CwrnOO/vFuo0Z2Z27/wV4Xm8PXev52aUXOLs9a/",
          "dtype": "f8"
         },
         "y": {
          "bdata": "PS3FZR/Vzr+5+jw/zUfBv6tBpsXY052/gvIX3n6kw7/7/z7eslyov5Bv1ay857C/",
          "dtype": "f8"
         },
         "z": {
          "bdata": "nnUg1+DZuL+xKSsH4SrVv/0aR+ykD+K/MhhMp//kw79iGAml6ObYv5T1B+MOXcu/",
          "dtype": "f8"
         }
        },
        {
         "type": "mesh3d",
         "x": {
          "bdata": "ctKLZ8u2yb9+7P/hm6zTv8LvORDSfdq/8LbM6J9vzb+8XqAiBonVv7fNBjU6lNC/",
          "dtype": "f8"
         },
         "y": {
          "bdata": "EK4JxMQwuT9C4iD3m+K/PzoLHJU5SsM/92UgP3kXyj8QAKzYZHDNP3P6HQ5Iy9M/",
          "dtype": "f8"
         },
         "z": {
          "bdata": "E4DwBfjJ3L8BNKylB8riv/gnYEgTL+e/RUaiqTb85b88OlZMQmHqv4FMTFBxk+2/",
          "dtype": "f8"
         }
        },
        {
         "type": "mesh3d",
         "x": {
          "bdata": "cMVVUs2Sp7/Sldxb6puzv+1Ijg5ubru/ZYZR35OGw7/yX6q41W/Hv7fNBjU6lNC/",
          "dtype": "f8"
         },
         "y": {
          "bdata": "xKBxExuV0D9m44yx9gfXPwgmqE/Set0/nM3HkDEw0j8+EOMuDaPYP3P6HQ5Iy9M/",
          "dtype": "f8"
         },
         "z": {
          "bdata": "ZzOdU5555b/CyrwH2Q/rvw8x7t0JU/C/t/j0SJJ76b8SkBT9zBHvvwe+TD6Gfe2/",
          "dtype": "f8"
         }
        },
        {
         "type": "mesh3d",
         "x": {
          "bdata": "TdNSk2vL0r/1NlKDe7/Uv52aUXOLs9a/FPio4Y2l2b+8W6jRnZnbv22O/xfYP+C/",
          "dtype": "f8"
         },
         "y": {
          "bdata": "z/J15dTN0b+zTqsQxAfGv5Bv1ay857C/t0QsTDKc0L+C8hfefqTDvz0txWUf1c6/",
          "dtype": "f8"
         },
         "z": {
          "bdata": "vL4lNfNh0j9Eq5fGjJOiP9an/wYgesu/AtT46BSMuD+mKCnE+NjDv+1SpQKjb7i/",
          "dtype": "f8"
         }
        },
        {
         "type": "mesh3d",
         "x": {
          "bdata": "qD3v2nG7wb9xOclgRJHPv52aUXOLs9a/DYg9oR65xb/rwYuTeMfRv3LSi2fLtsm/",
          "dtype": "f8"
         },
         "y": {
          "bdata": "buz2vAbgvb//Lea04WO3v5Bv1ay857C/ePm04we9gr8AfWguEJKQPxCuCcTEMLk/",
          "dtype": "f8"
         },
         "z": {
          "bdata": "mfdrZP2Mwj+yczB88qmhv3IxhKL2Ycu/gPo+y0vOwr+Ch1vn4uLUv0z2dH3KFNy/",
          "dtype": "f8"
         }
        },
        {
         "type": "mesh3d",
         "x": {
          "bdata": "ctKLZ8u2yb/rwYuTeMfRv52aUXOLs9a/fuz/4Zus078wxcXBrpjYv8LvORDSfdq/",
          "dtype": "f8"
         },
         "y": {
          "bdata": "EK4JxMQwuT8AfWguEJKQP5Bv1ay857C/QuIg95vivz/kpmJ9tqylPzoLHJU5SsM/",
          "dtype": "f8"
         },
         "z": {
          "bdata": "mmn04zQt3L+AA4u6K+3Uv8o6QyJFWsu/OcK+4faQ4r9YHhSa5OHdv6VPg1FTC+e/",
          "dtype": "f8"
         }
        },
        {
         "type": "mesh3d",
         "x": {
          "bdata": "wu85ENJ92r9CwXwaim3gv6KK3CwrnOO/MMXFwa6Y2L/wV4Xm8PXev52aUXOLs9a/",
          "dtype": "f8"
         },
         "y": {
          "bdata": "OgsclTlKwz8Jhs74fB+vP6tBpsXY052/5KZifbaspT/7/z7eslyov5Bv1ay857C/",
          "dtype": "f8"
         },
         "z": {
          "bdata": "iEmVPSQK578CmXFkIYrkv33oTYseCuK/PaygYenm3b8yS1mv4+bYv9OKLZAUc8u/",
          "dtype": "f8"
         }
        },
        {
         "type": "mesh3d",
         "x": {
          "bdata": "yajC59aBs79332J2wyiqv7nagDqym5q/81IY4rH4w79sts9L98HAv4FRT1B4MM6/",
          "dtype": "f8"
         },
         "y": {
          "bdata": "kPf6Srg71b+lK+4GcTbdv92vcOGUmOK/lJ9zQ8Io2r/UabN/vRHhv5hH7DvMFd+/",
          "dtype": "f8"
         },
         "z": {
          "bdata": "1GzFCwKX5T+0LGQqVDTqP5PsAkmm0e4/3DPAZIYB5T+8816D2J7pP+X6ur0KbOQ/",
          "dtype": "f8"
         }
        },
        {
         "type": "mesh3d",
         "x": {
          "bdata": "AAAAAAAAAACiqgwclOymv6KqDByU7La/MUg75JB7vL/BziB57fjDvzFIO+SQe8y/",
          "dtype": "f8"
         },
         "y": {
          "bdata": "AAAAAAAA8D/M46YzUbfsP5jHTWeibuk/ioajAk6Z7z9Wako2n1DsPxUNRwWcMu8/",
          "dtype": "f8"
         },
         "z": {
          "bdata": "7zQpY4hdhb/OVZiYLZTav/qwC3e3Puq/yrmiO2q8vb9M3TPyLazgv3smcLWRZsy/",
          "dtype": "f8"
         }
        },
        {
         "type": "mesh3d",
         "x": {
          "bdata": "FQ1HBZwy7z8A6jEAY63rP+zGHPspKOg/GShjV6wD7j8EBU5Sc37qPx1Df6m81Ow/",
          "dtype": "f8"
         },
         "y": {
          "bdata": "MUg75JB7zD8aE83spSXPPwJvr3rd59A/Uq1lYEQB1T/Hkq7kTlbWP4y2rU7AxNs/",
          "dtype": "f8"
         },
         "z": {
          "bdata": "4xA6CINA7z9CJegfnt3nP6E5lje5euA/PuqiHsH97T+e/lA23JrmP5rDCzX/uuw/",
          "dtype": "f8"
         }
        },
        {
         "type": "mesh3d",
         "x": {
          "bdata": "MUg75JB7zD+4XyG8dxPQP1cbJQYn6dE/Uq1lYEQB1T/yaGmq89bWP4y2rU7AxNs/",
          "dtype": "f8"
         },
         "y": {
          "bdata": "FQ1HBZwy77+WWnf19c/rvxiop+VPbei/GShjV6wD7r+adZNHBqHqvx1Df6m81Oy/",
          "dtype": "f8"
         },
         "z": {
          "bdata": "L62YsXKhzD8LOrM4t3biP8tIAMURxe0/rwbSgH4f1T8XErbMGd7lP8e216hD7ts/",
          "dtype": "f8"
         }
        },
        {
         "type": "mesh3d",
         "x": {
          "bdata": "FQ1HBZwy778A6jEAY63rv+zGHPspKOi/GShjV6wD7r8EBU5Sc37qvx1Df6m81Oy/",
          "dtype": "f8"
         },
         "y": {
          "bdata": "MUg75JB7zL8aE83spSXPvwJvr3rd59C/Uq1lYEQB1b/Hkq7kTlbWv4y2rU7AxNu/",
          "dtype": "f8"
         },
         "z": {
          "bdata": "JhGnDG03779o77Kjq+znv6nNvjrqoeC/rfXHyEgA7r/u09Nfh7XmvzTa6IQkyey/",
          "dtype": "f8"
         }
        },
        {
         "type": "mesh3d",
         "x": {
          "bdata": "jLatTsDE27+AnQkDbv7av3OEZbcbONq/XDpbhQDr4L/VLYlf14fgv3GZX+Og8+O/",
          "dtype": "f8"
         },
         "y": {
          "bdata": "HUN/qbzU7D+sIHn3s47pPzz+ckWrSOY/HCruDsDs6j+sB+hct6bnPxsRXXTDBOk/",
          "dtype": "f8"
         },
         "z": {
          "bdata": "Is2Bpb/d27/UT9qCVUbnv4zceZnlTvC/tNsuZWH34L/4REgV107qv9fQnPfi/+O/",
          "dtype": "f8"
         }
        },
        {
         "type": "mesh3d",
         "x": {
          "bdata": "eOa+4aDz4z+OmJtnN6fgP0qV8Nqbtdo/iO/lgwDr4D88Q4UTLj3bPy/xGUzAxNs/",
          "dtype": "f8"
         },
         "y": {
          "bdata": "j1+pdcME6T8iOLRorobnP7YQv1uZCOY//b/jD8Ds6j+QmO4Cq27pP2sgHqq81Ow/",
          "dtype": "f8"
         },
         "z": {
          "bdata": "d88YI23b4z++qdcFGLfMP1/qs4CE/8W/1jrqscrh4D88Vx1BjtDAP2tMd4FQ0Ns/",
          "dtype": "f8"
         }
        },
        {
         "type": "mesh3d",
         "x": {
          "bdata": "eOa+4aDz47/a5NBkO1vgv3nGxc+rhdm/iO/lgwDr4L/U2+8NNqXavy/xGUzAxNu/",
          "dtype": "f8"
         },
         "y": {
          "bdata": "j1+pdcME6b84WVnx9Bznv+BSCW0mNeW//b/jD8Ds6r+muZOL8QTpv2sgHqq81Oy/",
          "dtype": "f8"
         },
         "z": {
          "bdata": "G8VV89Py479iaobl/NvFv9QfJQGrCdI/EUGrczbY4L90tLjNDeOyvw56Aegxe9u/",
          "dtype": "f8"
         }
        },
        {
         "type": "mesh3d",
         "x": {
          "bdata": "j1+pdcME6T80GfchRXTnP9nSRM7G4+U//b/jD8Ds6j+ieTG8QVzpP2sgHqq81Ow/",
          "dtype": "f8"
         },
         "y": {
          "bdata": "eOa+4aDz47/OzX8BMhLhv0lqgUKGYdy/iO/lgwDr4L+8rU1HIxPcvy/xGUzAxNu/",
          "dtype": "f8"
         },
         "z": {
          "bdata": "G3evH6AS6T8ANDfjvX/tP3N4X9Nt9vA/bHZfH/j06j9SM+fiFWLvP751Dx9Q1+w/",
          "dtype": "f8"
         }
        },
        {
         "type": "mesh3d",
         "x": {
          "bdata": "AAAAAAAA8D8aakzdcsLsPzTUmLrlhOk/5I63Ak6Z7z/++APgwFvsP8kdbwWcMu8/",
          "dtype": "f8"
         },
         "y": {
          "bdata": "AAAAAAAAAAAmurV8ac6lvya6tXxpzrW/AyJ94ZB7vL+L/+vPYrHDvwMifeGQe8y/",
          "dtype": "f8"
         },
         "z": {
          "bdata": "L2vpQFPk7z9KwRs7yAfuP2YXTjU9K+w/ULI3p4eM7z9sCGqh/K/tP3L5hQ28NO8/",
          "dtype": "f8"
         }
        },
        {
         "type": "mesh3d",
         "x": {
          "bdata": "AAAAAAAAAACcks80j/Wov5ySzzSP9bi/AyJ94ZB7vL+odfI9LHvEvwMifeGQe8y/",
          "dtype": "f8"
         },
         "y": {
          "bdata": "AAAAAAAA8L/qp5BJq8rsv9RPIZNWlem/5I63Ak6Z77/ONkhM+WPsv8kdbwWcMu+/",
          "dtype": "f8"
         },
         "z": {
          "bdata": "UiHgKnYRkD/4d64U81PUP+12V2Nn0+M/P+ejMKLquL8m+K5LZjDKP2nr//XQ7Mq/",
          "dtype": "f8"
         }
        },
        {
         "type": "mesh3d",
         "x": {
          "bdata": "AAAAAAAA8L8zbh2HS87sv2bcOg6XnOm/5I63Ak6Z778Y/dSJmWfsv8kdbwWcMu+/",
          "dtype": "f8"
         },
         "y": {
          "bdata": "AAAAAAAAAACpcyJnneOpP6lzImed47k/AyJ94ZB7vD/sLYfKr7bEPwMifeGQe8w/",
          "dtype": "f8"
         },
         "z": {
          "bdata": "P+36vuLl77/W4tiX3ivuv23YtnDacey/YoAY+XqN77/5dfbRdtPtv4UTNjMTNe+/",
          "dtype": "f8"
         }
        },
        {
         "type": "mesh3d",
         "x": {
          "bdata": "j1+pdcME6b8AyX/k4J/nv3AyVlP+Oua//b/jD8Ds6r9uKbp+3Yfpv2sgHqq81Oy/",
          "dtype": "f8"
         },
         "y": {
          "bdata": "eOa+4aDz4z8VYNfIxaTgP2Wz31/Vq9o/iO/lgwDr4D9K0vzVSjjbPy/xGUzAxNs/",
          "dtype": "f8"
         },
         "z": {
          "bdata": "VLzFwegV6b/9ocplu33tv9PD5wTH8vC/BkTfL0r16r+wKeTTHF3vv7nL+J2r1Oy/",
          "dtype": "f8"
         }
        },
        {
         "type": "mesh3d",
         "x": {
          "bdata": "TdNSk2vL0r8U+KjhjaXZv22O/xfYP+C/7LsuoeSR17+z4ITvBmzev4ykCq9dWNy/",
          "dtype": "f8"
         },
         "y": {
          "bdata": "z/J15dTN0b+3RCxMMpzQvz0txWUf1c6/iodwoVXe1r9y2SYIs6zVv0Yca13W7tu/",
          "dtype": "f8"
         },
         "z": {
          "bdata": "Ul8A/Xmk0j+ex5X9HtC5Pwzu1fip8ba/G7xKOjW40D/COr/yCx+yP8gxKu/gl80/",
          "dtype": "f8"
         }
        },
        {
         "type": "mesh3d",
         "x": {
          "bdata": "TdNSk2vL0r/suy6h5JHXv4ykCq9dWNy/Bz693dPx0L+mJpnrTLjVv4FRT1B4MM6/",
          "dtype": "f8"
         },
         "y": {
          "bdata": "z/J15dTN0b+Kh3ChVd7Wv0Yca13W7tu/NB2xkNBx2L/vsatMUYLdv5hH7DvMFd+/",
          "dtype": "f8"
         },
         "z": {
          "bdata": "yt/8MEIY0z+yo4Uf8yTRPzXPHBxIY84/NQiRPR/S3T8dzBks0N7bP1CYEiX+ReQ/",
          "dtype": "f8"
         }
        },
        {
         "type": "mesh3d",
         "x": {
          "bdata": "yajC59aBs7/zUhjisfjDv4FRT1B4MM6/f31DTeGrx78HPr3d0/HQv03TUpNry9K/",
          "dtype": "f8"
         },
         "y": {
          "bdata": "kPf6Srg71b+Un3NDwijav5hH7DvMFd+/MHU4mMaE0780HbGQ0HHYv8/ydeXUzdG/",
          "dtype": "f8"
         },
         "z": {
          "bdata": "IBU7tIOJ5T/q2niC0P3kP7OgtlAdcuQ/4j3m9g4p3z90yWGTqBHeP4NRVoUWP9M/",
          "dtype": "f8"
         }
        },
        {
         "type": "mesh3d",
         "x": {
          "bdata": "yajC59aBs79332J2wyiqv7nagDqym5q/lkNPXlVJnz/mE0oIlX+sP0oldctAk8E/",
          "dtype": "f8"
         },
         "y": {
          "bdata": "kPf6Srg71b+lK+4GcTbdv92vcOGUmOK/qrnCtGHT1r+/7bVwGs7ev8R7ih4La9i/",
          "dtype": "f8"
         },
         "z": {
          "bdata": "jwVIXI+25T9oczcp6VDqP0LhJvZC6+4/R2lgWeAQ6j8g108mOqvuP//MeFYxa+4/",
          "dtype": "f8"
         }
        },
        {
         "type": "mesh3d",
         "x": {
          "bdata": "1k40a+s6tD+1TA+BtrC7P0oldctAk8E/oME0bpAiVz+WQ09eVUmfP8mowufWgbO/",
          "dtype": "f8"
         },
         "y": {
          "bdata": "Jap9dWXOxb9rqKTsHqnRv8R7ih4La9i/UebcgnUR0L+qucK0YdPWv5D3+kq4O9W/",
          "dtype": "f8"
         },
         "z": {
          "bdata": "xGYmidEH4D9SpyXDPC7nP+DnJP2nVO4/6K1PK8rG4j927k5lNe3pPwv1eM3CheU/",
          "dtype": "f8"
         }
        },
        {
         "type": "mesh3d",
         "x": {
          "bdata": "qD3v2nG7wb8hcsqAJKnLv03TUpNry9K/DJLQTl18u79/fUNN4avHv8mowufWgbO/",
          "dtype": "f8"
         },
         "y": {
          "bdata": "buz2vAbgvb/qrbOU1kXJv8/ydeXUzdG/rLI4+rmzzL8wdTiYxoTTv5D3+kq4O9W/",
          "dtype": "f8"
         },
         "z": {
          "bdata": "rn8kXHadwz/oxpnH1wbNPxGHh5kcONM/SBrffets2j/kvZkznCHfP1z61eaNheU/",
          "dtype": "f8"
         }
        },
        {
         "type": "mesh3d",
         "x": {
          "bdata": "1k40a+s6tD+gwTRukCJXP8mowufWgbO/9FhUlfB3nr8MktBOXXy7v6g979pxu8G/",
          "dtype": "f8"
         },
         "y": {
          "bdata": "Jap9dWXOxb9R5tyCdRHQv5D3+kq4O9W/LpD8aTRfwr+ssjj6ubPMv27s9rwG4L2/",
          "dtype": "f8"
         },
         "z": {
          "bdata": "xBDHDpvr3z+QJ4ics8TiP7/GrLGZk+U/GHNQ5B3p1D91sZkO6obaP9mqs3NBzcM/",
          "dtype": "f8"
         }
        },
        {
         "type": "mesh3d",
         "x": {
          "bdata": "W4A4yFD/kD9nwoRO4Za3v3LSi2fLtsm/OVvQgw83r78NiD2hHrnFv6g979pxu8G/",
          "dtype": "f8"
         },
         "y": {
          "bdata": "ZKO/VO7tpj/hvzT33VOyPxCuCcTEMLk/vBqXkg9por94+bTjB72Cv27s9rwG4L2/",
          "dtype": "f8"
         },
         "z": {
          "bdata": "l6lAkGhLub8zno6SsCrRvwASDQGHAty/Zpg5jPyBlz+OtHVLbb/Cv+W6LmszhsI/",
          "dtype": "f8"
         }
        },
        {
         "type": "mesh3d",
         "x": {
          "bdata": "W4A4yFD/kD85W9CDDzevv6g979pxu8G/7W5Cnb96qD/0WFSV8Heev9ZONGvrOrQ/",
          "dtype": "f8"
         },
         "y": {
          "bdata": "ZKO/VO7tpj+8GpeSD2miv27s9rwG4L2/TMFN4OkSsL8ukPxpNF/CvyWqfXVlzsW/",
          "dtype": "f8"
         },
         "z": {
          "bdata": "9hdEa/54t7+4tTRYXyugP9dmvOEu0sM/wrjDE7r4yT8WebmPCODUP8C+lK751t8/",
          "dtype": "f8"
         }
        },
        {
         "type": "mesh3d",
         "x": {
          "bdata": "uIFHKIsXxj9cELLT1zKwP3DFVVLNkqe/NHNuN57iwT9Qzf/H9yOfP2DJKo1iW7s/",
          "dtype": "f8"
         },
         "y": {
          "bdata": "jVummj9Kyj+KzsTgOrrNP8SgcRMbldA/FKRlY7nu0z+T3XQGt6bVP2IaePlSuNo/",
          "dtype": "f8"
         },
         "z": {
          "bdata": "2FGir0uG1L/0uQedCXjfvwiRNsXjNOW/hUKntHVR4b+T9lmrVMrmvx5cfZHFX+i/",
          "dtype": "f8"
         }
        },
        {
         "type": "mesh3d",
         "x": {
          "bdata": "YSDkxrMNzj/mIz++lBXEP9ZONGvrOrQ/Npj1784WwD/tbkKdv3qoP1uAOMhQ/5A/",
          "dtype": "f8"
         },
         "y": {
          "bdata": "EvfL07SBg7+WabrCgAa3vyWqfXVlzsW/oKXMH4ENkj9MwU3g6RKwv2Sjv1Tu7aY/",
          "dtype": "f8"
         },
         "z": {
          "bdata": "h+34aj880D9ilSjnBAzYPz49WGPK298/ir8EC5q2tD98r+H91/rJPwc32pXJg7e/",
          "dtype": "f8"
         }
        },
        {
         "type": "mesh3d",
         "x": {
          "bdata": "uIFHKIsXxj80c243nuLBP2DJKo1iW7s/jVC71/ku0D+Wkp2+BinMPz7gUhsuUtU/",
          "dtype": "f8"
         },
         "y": {
          "bdata": "jVummj9Kyj8UpGVjue7TP2IaePlSuNo/qqQPvYYf0j/4GiJTIOnYP44bzKztGdc/",
          "dtype": "f8"
         },
         "z": {
          "bdata": "9q5rAHuJ1L/ohJong1Hhv1Yy/85IXui/Pj2sL9FF1r8NzDo/ri/iv4fL7F4nAti/",
          "dtype": "f8"
         }
        },
        {
         "type": "mesh3d",
         "x": {
          "bdata": "IOiW19A32T8v5HR5/0TXPz7gUhsuUtU/flTdNcsh0j+NULvX+S7QP7iBRyiLF8Y/",
          "dtype": "f8"
         },
         "y": {
          "bdata": "4ZN5qajnwj+/csQA4UbQP44bzKztGdc/t/cPIvSYxj+qpA+9hh/SP41bppo/Sso/",
          "dtype": "f8"
         },
         "z": {
          "bdata": "rMFxFJtisj/7LuUbcmHDv2afAeEY+te/fPBJtcjRv78IhGEA0j3Wv6lowR+LgdS/",
          "dtype": "f8"
         }
        },
        {
         "type": "mesh3d",
         "x": {
          "bdata": "YSDkxrMNzj82mPXvzhbAP1uAOMhQ/5A/DNGVd58Syj/DkU5BdTe4P7iBRyiLF8Y/",
          "dtype": "f8"
         },
         "y": {
          "bdata": "EvfL07SBg7+gpcwfgQ2SP2Sjv1Tu7aY/HJxpTSQSuT8zIuuX3QLAP41bppo/Sso/",
          "dtype": "f8"
         },
         "z": {
          "bdata": "k5qiK0w30D/Wll6OTXu0P6E8zZGV5re/2FZH8yXUnr+W1H5OdgvKv26FC+rQEdS/",
          "dtype": "f8"
         }
        },
        {
         "type": "mesh3d",
         "x": {
          "bdata": "sGimoEfj3D/kXMrOU+fXPxhR7vxf69I/cDwMwhD11T+kMDDwHPnQP2Eg5MazDc4/",
          "dtype": "f8"
         },
         "y": {
          "bdata": "mDdhfNXQr78r4tugxUDCv3B2n+JVjcy/rhqqWKFYor/hNdwvccW9vxL3y9O0gYO/",
          "dtype": "f8"
         },
         "z": {
          "bdata": "yHynUulG4j9idWlBTJTlP/ttKzCv4eg/fCbkTmaO2j/XCzQWlpTgP2dTefj5jtA/",
          "dtype": "f8"
         }
        },
        {
         "type": "mesh3d",
         "x": {
          "bdata": "IOiW19A32T9+VN01yyHSP7iBRyiLF8Y/KHyEXVUf1D8M0ZV3nxLKP2Eg5MazDc4/",
          "dtype": "f8"
         },
         "y": {
          "bdata": "4ZN5qajnwj+39w8i9JjGP41bppo/Sso/cNQ8XI2vsT8cnGlNJBK5PxL3y9O0gYO/",
          "dtype": "f8"
         },
         "z": {
          "bdata": "iShlCsyWsz/i1fiyhkO+vxO1FVx2B9S/WqRkTD0BxT/Y1lKSYF+fvzhay0mKG9A/",
          "dtype": "f8"
         }
        },
        {
         "type": "mesh3d",
         "x": {
          "bdata": "IOiW19A32T8ofIRdVR/UP2Eg5MazDc4/aKgePIwN2z9wPAzCEPXVP7BopqBH49w/",
          "dtype": "f8"
         },
         "y": {
          "bdata": "4ZN5qajnwj9w1Dxcja+xPxL3y9O0gYO/9ovClObmpT+uGqpYoViiv5g3YXzV0K+/",
          "dtype": "f8"
         },
         "z": {
          "bdata": "vQiYkNS4tT8kmsPhfwnGP/WXnb1Km9A/XUHNm+X61D9ADIlocJHaP0VAugnLQ+I/",
          "dtype": "f8"
         }
        },
        {
         "type": "mesh3d",
         "x": {
          "bdata": "AE1jBnUd5D+sQFtrjEfhP7BopqBH49w/iGAXua5c4D9oqB48jA3bPyDoltfQN9k/",
          "dtype": "f8"
         },
         "y": {
          "bdata": "ImL76yC8sz+wMlZusZ1+P5g3YXzV0K+/8kR3H7nFvD/2i8KU5ualP+GTeamo58I/",
          "dtype": "f8"
         },
         "z": {
          "bdata": "NW7bwrk34D9FF48hu0LhP1XAQoC8TeI/leDUfP780j+1Mjw6ARPVP/6Sy88lKrY/",
          "dtype": "f8"
         }
        },
        {
         "type": "mesh3d",
         "x": {
          "bdata": "GFHu/F/r0j/IiO6ceVjaPzxgd57J4uA/xke1b20I1D92f7UPh3XbP3M+fOJ6JdU/",
          "dtype": "f8"
         },
         "y": {
          "bdata": "cHaf4lWNzL8M/ayRJ1LQv+A+CjKkXdK/RW85A0GF1L8ZsZajvZDWv1IjIxXXw9q/",
          "dtype": "f8"
         },
         "z": {
          "bdata": "FJKtVpE96T+NkLobraDsP4PHY3DkAfA/O3v0/OYG7j/avABhAbXwPzGynVEeaPE/",
          "dtype": "f8"
         }
        },
        {
         "type": "mesh3d",
         "x": {
          "bdata": "h1CSQzwR3T8yE9PYHGfaP9zVE279vNc/V7VC3dFV4D9YLcZPhAHeP2pCvJgFI+I/",
          "dtype": "f8"
         },
         "y": {
          "bdata": "HKSIGYZJ5780YsKRmCrlv0sg/AmrC+O/CnLULh5R5b8hMA6nMDLjv/c/IES2WOO/",
          "dtype": "f8"
         },
         "z": {
          "bdata": "ooGZaVej7T8W3dfO2nbwP1r54ugJHPI/8nV2ajFt7z8+V0bPx1vxPyG1qbWFm/A/",
          "dtype": "f8"
         }
        },
        {
         "type": "mesh3d",
         "x": {
          "bdata": "sGimoEfj3D+UlMpubVTfPzxgd57J4uA/5FzKzlPn1z/IiO6ceVjaPxhR7vxf69I/",
          "dtype": "f8"
         },
         "y": {
          "bdata": "mDdhfNXQr7/TZZbhvlfGv+A+CjKkXdK/K+LboMVAwr8M/ayRJ1LQv3B2n+JVjcy/",
          "dtype": "f8"
         },
         "z": {
          "bdata": "jGtZ27SG4j9+oOy90zPpP3DVf6Dy4O8/SGLg9JzL5T86l3PXu3jsPwVZZw6FEOk/",
          "dtype": "f8"
         }
        },
        {
         "type": "mesh3d",
         "x": {
          "bdata": "9jMT426p4T8GqN5OV0XePyDoltfQN9k/e0C79HHj4j+IYBe5rlzgPwBNYwZ1HeQ/",
          "dtype": "f8"
         },
         "y": {
          "bdata": "dX8a4ImP0z9mSdc0XgPNP+GTeamo58I//lcZG5J+yD/yRHcfucW8PyJi++sgvLM/",
          "dtype": "f8"
         },
         "z": {
          "bdata": "CQSNAWmFtT8kcRSf7bS1Pz7emzxy5LU/bF6ZFafl0j+zOfs8iPHSP+u9Z/X5NOA/",
          "dtype": "f8"
         }
        },
        {
         "type": "mesh3d",
         "x": {
          "bdata": "wu85ENJ92r8qx7BlVbPgv3SWRMPBJ+S/QsF8Gopt4L+LkBB49uHjv6KK3CwrnOO/",
          "dtype": "f8"
         },
         "y": {
          "bdata": "OgsclTlKwz98sf81tEHHP71X49YuOcs/CYbO+Hwfrz+Ijy6+s363P6tBpsXY052/",
          "dtype": "f8"
         },
         "z": {
          "bdata": "3B81wVcS57+ao129S2vqv1cnhrk/xO2/7aYjUDuN5L+qKkxML+bnv/4tEt8eCOK/",
          "dtype": "f8"
         }
        },
        {
         "type": "mesh3d",
         "x": {
          "bdata": "7MYc+yko6D/2CcCAzyLmPwBNYwZ1HeQ/cf0Xb8zo5D97QLv0cePiP/YzE+NuqeE/",
          "dtype": "f8"
         },
         "y": {
          "bdata": "Am+vet3n0D+KR6615dbFPyJi++sgvLM/PPdkrbM70j/+Vxkbkn7IP3V/GuCJj9M/",
          "dtype": "f8"
         },
         "z": {
          "bdata": "aEXy/UdI4D9G5qJfV0ngPyOHU8FmSuA/vmGV5fUY0z95o/aoFBvTP7PiGD1vhbY/",
          "dtype": "f8"
         }
        },
        {
         "type": "mesh3d",
         "x": {
          "bdata": "PuBSGy5S1T/Dq3SD0i3TP0h3lut2CdE/lpKdvgYpzD+gKeGOT+DHP2DJKo1iW7s/",
          "dtype": "f8"
         },
         "y": {
          "bdata": "jhvMrO0Z1z+854pamXfdP/XZJISi6uE/+BoiUyDp2D8m5+AAzEbfP2IaePlSuNo/",
          "dtype": "f8"
         },
         "z": {
          "bdata": "M9yBCGsU2L/KkYW+8tnfv7GjRDq9z+O/cu436y4z4r8+yTnG8hXmv8vuLlIoXOi/",
          "dtype": "f8"
         }
        },
        {
         "type": "mesh3d",
         "x": {
          "bdata": "YMkqjWJbuz9GvlIVORyxP7LM6nU+dJs/AI1/Y4ELI7/AlRNxXpGkv+1Ijg5ubru/",
          "dtype": "f8"
         },
         "y": {
          "bdata": "Yhp4+VK42j/GXwRrvXLgP1qyTFlRieM/NSCQpJIZ3D+vYpBAXSPhPwgmqE/Set0/",
          "dtype": "f8"
         },
         "z": {
          "bdata": "2T+zMi+Q6L9dF4FBTJDrv+HuTlBpkO6/0DSq7HqW7L9UDHj7l5bvv+SUUFNjTvC/",
          "dtype": "f8"
         }
        },
        {
         "type": "mesh3d",
         "x": {
          "bdata": "7MYc+yko6L/ats14dqXmv8imfvbCIuW/rCqOCQE05L+aGj+HTbHiv22O/xfYP+C/",
          "dtype": "f8"
         },
         "y": {
          "bdata": "Am+vet3n0L+aWd0JejTWvzJEC5kWgdu/0ALJljYp0L9o7fYl03XVvz0txWUf1c6/",
          "dtype": "f8"
         },
         "z": {
          "bdata": "Ur9rVTpM4L8hSED+nELYvzwjUqOK2c+/lWV7kvR8078jXsjLOU7GvxUyfejRhbm/",
          "dtype": "f8"
         }
        },
        {
         "type": "mesh3d",
         "x": {
          "bdata": "t80GNTqU0L96KLAbC7fXvz2DWQLc2d6/vF6gIgaJ1b+AuUkJ16vcv8LvORDSfdq/",
          "dtype": "f8"
         },
         "y": {
          "bdata": "c/odDkjL0z+s9ZIARJjVP+bwB/M/Zdc/EACs2GRwzT9C+8peLoXQPzoLHJU5SsM/",
          "dtype": "f8"
         },
         "z": {
          "bdata": "JE+wsnuX7b+veKslvPPvvx1RU0z+J/G/j5H5vAFh6r8au/QvQr3sv/rTQseHKue/",
          "dtype": "f8"
         }
        },
        {
         "type": "mesh3d",
         "x": {
          "bdata": "c4Rltxs42r8keVlfcxXTv6nbmg6W5ce/FlLOAPms17/HRsKoUIrQv7ofN0rWIdW/",
          "dtype": "f8"
         },
         "y": {
          "bdata": "PP5yRatI5j+Ln2d/pmnlP9pAXLmhiuQ/whAIaItS4z8SsvyhhnPiP0kjnYprXOA/",
          "dtype": "f8"
         },
         "z": {
          "bdata": "Qz/Lo4Zf8L+waL23lujwvxySr8umcfG/3Ufx4Fdj8b9KceP0Z+zxv3dQFx4pZ/K/",
          "dtype": "f8"
         }
        },
        {
         "type": "mesh3d",
         "x": {
          "bdata": "SiV1y0CTwT/5w6tpO4LEP6hi4gc2ccc/GNE2SBvvzT/ktzbzCm/QP3M+fOJ6JdU/",
          "dtype": "f8"
         },
         "y": {
          "bdata": "xHuKHgtr2L8VCTL1nNnevzPL7GUXpOK/i8/WGXGX2b9uLj94AQPgv1IjIxXXw9q/",
          "dtype": "f8"
         },
         "z": {
          "bdata": "5KI9VNR97j+sXMT1eIfwP+bnacEH0PE/mLiDC0VR8D/SQynX05nxP76f6OyfY/E/",
          "dtype": "f8"
         }
        },
        {
         "type": "mesh3d",
         "x": {
          "bdata": "cDJWU/465r9yZE0LYDHlv3SWRMPBJ+S/B3pBKvbT4r8JrDjiV8rhvz2DWQLc2d6/",
          "dtype": "f8"
         },
         "y": {
          "bdata": "ZbPfX9Wr2j+ir6hlNiTUP71X49YuOcs/JtJzqYoI2T9izjyv64DSP+bwB/M/Zdc/",
          "dtype": "f8"
         },
         "z": {
          "bdata": "nLLmZYr78L9a6jTir+vvv31vnPhK4O2/7OvWvtkS8b99rgpKJw3wvzslxxcpKvG/",
          "dtype": "f8"
         }
        },
        {
         "type": "mesh3d",
         "x": {
          "bdata": "7MYc+yko6D/7+xdEmGDpPwoxE40Gmeo/9gnAgM8i5j8FP7vJPVvnPwBNYwZ1HeQ/",
          "dtype": "f8"
         },
         "y": {
          "bdata": "Am+vet3n0D+gIc+iFAjHP3rKfqDcgLg/ikeuteXWxT9OFj3Gfh62PyJi++sgvLM/",
          "dtype": "f8"
         },
         "z": {
          "bdata": "xRep/R934D/N2y3a8mXkP9WfsrbFVOg/tjfqy+564D+++26owWnkP6dXK5q9fuA/",
          "dtype": "f8"
         }
        },
        {
         "type": "mesh3d",
         "x": {
          "bdata": "c4Rltxs42r8keVlfcxXTv6nbmg6W5ce/pbIFfGSq1b+sTvNHeA/Nv9fgpUCtHNG/",
          "dtype": "f8"
         },
         "y": {
          "bdata": "PP5yRatI5j+Ln2d/pmnlP9pAXLmhiuQ/YJAVhqL25z+wMQrAnRfnP4UiuMaZpOk/",
          "dtype": "f8"
         },
         "z": {
          "bdata": "B8OyZwZT8L/Q9AlIydzwv5omYSiMZvG/6flso5az7b98XRtkHMfuv8RtdHcgweq/",
          "dtype": "f8"
         }
        },
        {
         "type": "mesh3d",
         "x": {
          "bdata": "t80GNTqU0L+49p4/CNvSv7ofN0rWIdW/eiiwGwu31798UUgm2f3Zvz2DWQLc2d6/",
          "dtype": "f8"
         },
         "y": {
          "bdata": "c/odDkjL0z+CIKyRD0LaP0kjnYprXOA/rPWSAESY1T+8GyGECw/cP+bwB/M/Zdc/",
          "dtype": "f8"
         },
         "z": {
          "bdata": "zPQ2riqh7b/kdjE075zwv2NzRxFJafK/Cfnew/r2778DeQU/18fxv6N+w2xlJvG/",
          "dtype": "f8"
         }
        },
        {
         "type": "mesh3d",
         "x": {
          "bdata": "AE1jBnUd5D964DZTHvXjP/RzCqDHzOM/rEBba4xH4T8m1C64NR/hP7BopqBH49w/",
          "dtype": "f8"
         },
         "y": {
          "bdata": "ImL76yC8sz+woSt2kQybv32ZiNM0ocC/sDJWbrGdfj9j56AyapW4v5g3YXzV0K+/",
          "dtype": "f8"
         },
         "z": {
          "bdata": "M61r6/iB4D9qGkOU903lP6GHGj32Geo/oxxU5fuD4T/aiSuO+k/mPxOMPN/+heI/",
          "dtype": "f8"
         }
        },
        {
         "type": "mesh3d",
         "x": {
          "bdata": "ecbFz6uF2b8W0FymtiXfv9rseb7gYuK/gjVovwTv2r+Qn//Kh0fgv4ykCq9dWNy/",
          "dtype": "f8"
         },
         "y": {
          "bdata": "4FIJbSY15b/oDPuz4+Djv/HG7PqgjOK/gnDfzUiW4b+KKtEUBkLgv0Yca13W7tu/",
          "dtype": "f8"
         },
         "z": {
          "bdata": "PZTP+KU10j+TpE73j763P84HofR3Wbm/Gfgm8bpt0D8ENKzY456wP+u3/NKfS80/",
          "dtype": "f8"
         }
        },
        {
         "type": "mesh3d",
         "x": {
          "bdata": "wu85ENJ92r8qx7BlVbPgv3SWRMPBJ+S/gLlJCder3L8JrDjiV8rhvz2DWQLc2d6/",
          "dtype": "f8"
         },
         "y": {
          "bdata": "OgsclTlKwz98sf81tEHHP71X49YuOcs/QvvKXi6F0D9izjyv64DSP+bwB/M/Zdc/",
          "dtype": "f8"
         },
         "z": {
          "bdata": "/sZhx4Qm579SVl3L4XDqv6XlWM8+u+2/RcFJWEi37L9MqCKu0gDwv8bdmPQFJPG/",
          "dtype": "f8"
         }
        },
        {
         "type": "mesh3d",
         "x": {
          "bdata": "GxFddMME6b/6fmsZ0rPlv9rseb7gYuK/yvsNKzJ85r+paRzQQCvjv3jmvuGg8+O/",
          "dtype": "f8"
         },
         "y": {
          "bdata": "cZlf46Dz478xMCbvIEDjv/HG7PqgjOK/gHyELDJ85r9AE0s4ssjlv49fqXXDBOm/",
          "dtype": "f8"
         },
         "z": {
          "bdata": "pvbuVSoE6b+wNYy8yUfcv1H46TT7HLq/oAd6bjRv5r+kV6Lt3R3Xv5oYBYc+2uO/",
          "dtype": "f8"
         }
        },
        {
         "type": "mesh3d",
         "x": {
          "bdata": "eOa+4aDz47+paRzQQCvjv9rseb7gYuK/2uTQZDtb4L8W0FymtiXfv3nGxc+rhdm/",
          "dtype": "f8"
         },
         "y": {
          "bdata": "j1+pdcME6b9AE0s4ssjlv/HG7PqgjOK/OFlZ8fQc57/oDPuz4+Djv+BSCW0mNeW/",
          "dtype": "f8"
         },
         "z": {
          "bdata": "TG9BSMXI479cvOlKFiLXv4BoQhWIyrq/QlnkwGysxb9s1puU92S2P1aFns8d5dE/",
          "dtype": "f8"
         }
        },
        {
         "type": "mesh3d",
         "x": {
          "bdata": "ecbFz6uF2b838IrBTifTv+ozoGbjkcm/UiCWf+J71b8flLbiCjvOvyp6Zi8ZctG/",
          "dtype": "f8"
         },
         "y": {
          "bdata": "4FIJbSY15b+Ob4L/LDPlvz2M+5EzMeW/3kJgXfpZ57+MX9nvAFjnv9syt03Ofum/",
          "dtype": "f8"
         },
         "z": {
          "bdata": "0zDGHt060j+sNitOyw7eP0IeyL5c8eQ/SPgvxkdz0j8h/pT1NUfeP76/mW2yq9I/",
          "dtype": "f8"
         }
        },
        {
         "type": "mesh3d",
         "x": {
          "bdata": "t80GNTqU0L+49p4/CNvSv7ofN0rWIdW/8l+quNVvx7/1sdrNcf3Lv+1Ijg5ubru/",
          "dtype": "f8"
         },
         "y": {
          "bdata": "c/odDkjL0z+CIKyRD0LaP0kjnYprXOA/PhDjLg2j2D9NNnGy1BnfPwgmqE/Set0/",
          "dtype": "f8"
         },
         "z": {
          "bdata": "d/gZnMml7b97fwW9pp3wv7oC/qtoaPK/gs1Vu6k1778AaqPMlmXxv0fRSO3EYvC/",
          "dtype": "f8"
         }
        },
        {
         "type": "mesh3d",
         "x": {
          "bdata": "7UiODm5uu78QAPGKZs7Cv6nbmg6W5ce/wJUTcV6RpL8Tgt0/Dne0v7LM6nU+dJs/",
          "dtype": "f8"
         },
         "y": {
          "bdata": "CCaoT9J63T/vKZhwBaThP9pAXLmhiuQ/r2KQQF0j4T+aeVSJ+QnkP1qyTFlRieM/",
          "dtype": "f8"
         },
         "z": {
          "bdata": "vGO9cepg8L+F1zE49+Lwv05Lpv4DZfG/kDPhzUes77+RDWWtMFjwv6ifR7i6lu6/",
          "dtype": "f8"
         }
        },
        {
         "type": "mesh3d",
         "x": {
          "bdata": "oqoMHJTstr99mFAO8K3Bv6nbmg6W5ce/dveRfoQPoL8Tgt0/Dne0v7LM6nU+dJs/",
          "dtype": "f8"
         },
         "y": {
          "bdata": "mMdNZ6Ju6T85BFUQovzmP9pAXLmhiuQ/+TxN4Pl75j+aeVSJ+QnkP1qyTFlRieM/",
          "dtype": "f8"
         },
         "z": {
          "bdata": "jVw1zkk/6r8gWZWgU4Huv9mqermuYfG/Yr1Pjrpr7L/63Fcw4lbwvzYeak4rmO6/",
          "dtype": "f8"
         }
        },
        {
         "type": "mesh3d",
         "x": {
          "bdata": "YMkqjWJbuz+gKeGOT+DHP0h3lut2CdE/Rr5SFTkcsT8TJPXSusDCP7LM6nU+dJs/",
          "dtype": "f8"
         },
         "y": {
          "bdata": "Yhp4+VK42j8m5+AAzEbfP/XZJISi6uE/xl8Ea71y4D8oxrju+bniP1qyTFlRieM/",
          "dtype": "f8"
         },
         "z": {
          "bdata": "PSWdll+Q6L8+CHIadj3mvz7rRp6M6uO/WGL9uMeS679YRdI83j/pv3KfXdsvle6/",
          "dtype": "f8"
         }
        },
        {
         "type": "mesh3d",
         "x": {
          "bdata": "7MYc+yko6D9x/RdvzOjkP/YzE+NuqeE/pQdvmY5r5z8qPmoNMSzkP15IwTfzruY/",
          "dtype": "f8"
         },
         "y": {
          "bdata": "Am+vet3n0D8892StszvSP3V/GuCJj9M/p5zerNKP1j/gJJTfqOPXP0zKDd/HN9w/",
          "dtype": "f8"
         },
         "z": {
          "bdata": "ECkpXght4D/wjLBE/RTTP/4eOzSnP7U/7nVksMSI3D96YYVxYofNP7uZdqR4N9g/",
          "dtype": "f8"
         }
        },
        {
         "type": "mesh3d",
         "x": {
          "bdata": "SiV1y0CTwT/5w6tpO4LEP6hi4gc2ccc/5hNKCJV/rD9RR5LAvx20P7nagDqym5q/",
          "dtype": "f8"
         },
         "y": {
          "bdata": "xHuKHgtr2L8VCTL1nNnevzPL7GUXpOK/v+21cBrO3r+Iva4jVp7iv92vcOGUmOK/",
          "dtype": "f8"
         },
         "z": {
          "bdata": "EJUlcx6P7j+czH3IUYrwP7DOaFcUzfE/85AovbPM7j+OSn9tHKnwP9aMKwdJCu8/",
          "dtype": "f8"
         }
        },
        {
         "type": "mesh3d",
         "x": {
          "bdata": "jKQKr11Y3L+H/AHneKfhv8imfvbCIuW/s+CE7wZs3r+aGj+HTbHiv22O/xfYP+C/",
          "dtype": "f8"
         },
         "y": {
          "bdata": "RhxrXdbu2788MDt79rfbvzJEC5kWgdu/ctkmCLOs1b9o7fYl03XVvz0txWUf1c6/",
          "dtype": "f8"
         },
         "z": {
          "bdata": "WjbotX7DzD/Y99RHkp2Dv1XV4v4wN8+/I0G+Qjj+sD9GZQa5O37Fv27qU+aMire/",
          "dtype": "f8"
         }
        },
        {
         "type": "mesh3d",
         "x": {
          "bdata": "sszqdT50mz9drjv/rF67P8dUfjAl8Mc/EyT10rrAwj+sodWDiQHNP0h3lut2CdE/",
          "dtype": "f8"
         },
         "y": {
          "bdata": "WrJMWVGJ4z+5lHfkdiTmPxh3om+cv+g/KMa47vm54j+GqON5H1XlP/XZJISi6uE/",
          "dtype": "f8"
         },
         "z": {
          "bdata": "CYBv/leR7r9OEtkB9W/ov5OkQgWSTuK/aImKW+wy6b+sG/ReiRHjv8aSpbiA1OO/",
          "dtype": "f8"
         }
        },
        {
         "type": "mesh3d",
         "x": {
          "bdata": "NNSYuuWE6T8UpFGt1qjmP/RzCqDHzOM/486KvBTF6D/DnkOvBenlP5LJfL5DBeg/",
          "dtype": "f8"
         },
         "y": {
          "bdata": "Jrq1fGnOtb+QduORaYi7v32ZiNM0ocC/+hSRs+uJxr8u8ye+62bJv3CmY1RRFtG/",
          "dtype": "f8"
         },
         "z": {
          "bdata": "dCDr0vAs7D/4qj/DhDLrP3s1lLMYOOo/CBc0gMIJ7j+MoYhwVg/tP50NfS2U5u8/",
          "dtype": "f8"
         }
        },
        {
         "type": "mesh3d",
         "x": {
          "bdata": "XkjBN/Ou5j8IFR1jRcLjP7LheI6X1eA/Kj5qDTEs5D/UCsY4gz/hP/YzE+NuqeE/",
          "dtype": "f8"
         },
         "y": {
          "bdata": "TMoN38c33D8jgS6VRLfeP/2bp6Vgm+A/4CSU36jj1z+427SVJWPaP3V/GuCJj9M/",
          "dtype": "f8"
         },
         "z": {
          "bdata": "jqEtWPkq2D9bFwPyqmXCP8soqpg5Fbe/pTGg0fpczT94Q/+WnWlyv1xAyuUFyLQ/",
          "dtype": "f8"
         }
        },
        {
         "type": "mesh3d",
         "x": {
          "bdata": "HUN/qbzU7D++RaDw18HpP15IwTfzruY/HCruDsDs6j+8LA9W29nnPxsRXXTDBOk/",
          "dtype": "f8"
         },
         "y": {
          "bdata": "jLatTsDE2z9swN0WRP7bP0zKDd/HN9w/XDpbhQDr4D9MP3NpwgfhP3GZX+Og8+M/",
          "dtype": "f8"
         },
         "z": {
          "bdata": "Pwia6izS7D/yyVZESZPkP0oXJzzLqNg/VSKYW8Hp6j8I5FS13ariP2s8lsxVAek/",
          "dtype": "f8"
         }
        },
        {
         "type": "mesh3d",
         "x": {
          "bdata": "jLatTsDE2z+KAyBJ/mrcP4dQkkM8Ed0/XDpbhQDr4D/aYJSCHz7hP3GZX+Og8+M/",
          "dtype": "f8"
         },
         "y": {
          "bdata": "HUN/qbzU7L+c84NhIQ/qvxykiBmGSee/HCruDsDs6r+c2vLGJCfovxsRXXTDBOm/",
          "dtype": "f8"
         },
         "z": {
          "bdata": "RbDZuRjN2z9T1xoW17XlP4PWSM8hhe0/jvLYIrDy4D++8Qbc+sHoP/kMxejT/uM/",
          "dtype": "f8"
         }
        },
        {
         "type": "mesh3d",
         "x": {
          "bdata": "HUN/qbzU7D++RaDw18HpP15IwTfzruY/BAVOUnN+6j+lB2+ZjmvnP+zGHPspKOg/",
          "dtype": "f8"
         },
         "y": {
          "bdata": "jLatTsDE2z9swN0WRP7bP0zKDd/HN9w/x5Ku5E5W1j+nnN6s0o/WPwJvr3rd59A/",
          "dtype": "f8"
         },
         "z": {
          "bdata": "ClxzzVfE7D8PhW5b4nzkPylc09LZatg/vCpdNzqV5j+Ep7CKiZvcP2/5RqEcZuA/",
          "dtype": "f8"
         }
        },
        {
         "type": "mesh3d",
         "x": {
          "bdata": "jLatTsDE2z+KAyBJ/mrcP4dQkkM8Ed0/8mhpqvPW1j/vtdukMX3XP1cbJQYn6dE/",
          "dtype": "f8"
         },
         "y": {
          "bdata": "HUN/qbzU7L+c84NhIQ/qvxykiBmGSee/mnWTRwah6r8aJpj/atvnvxiop+VPbei/",
          "dtype": "f8"
         },
         "z": {
          "bdata": "dZllxq0L3D/o1Jt3RsjlPxXdBAy2iu0/Ugbaeqng5T+ADkMPGaPtP+o/gRJ8u+0/",
          "dtype": "f8"
         }
        },
        {
         "type": "mesh3d",
         "x": {
          "bdata": "AAAAAAAA8D+FmIlGg0ztPwoxE40Gmeo/ioajAk6Z7z8QHy1J0eXsPxUNRwWcMu8/",
          "dtype": "f8"
         },
         "y": {
          "bdata": "AAAAAAAAAAB6yn6g3ICoP3rKfqDcgLg/MUg75JB7vD+3Vj2a/13EPzFIO+SQe8w/",
          "dtype": "f8"
         },
         "z": {
          "bdata": "hCB2HUQD8D8mmY/mTz3sP0PxMpIXdOg/OjQ51mOW7z9YjNyBK83rP2wnhnE/Ju8/",
          "dtype": "f8"
         }
        },
        {
         "type": "mesh3d",
         "x": {
          "bdata": "AAAAAAAAAABMVOVc8vqnP0xU5Vzy+rc/MUg75JB7vD8s+VYJhTzEPzFIO+SQe8w/",
          "dtype": "f8"
         },
         "y": {
          "bdata": "AAAAAAAA8L+synOQfonsv1iV5yD9Eum/ioajAk6Z7782UReTzCLsvxUNRwWcMu+/",
          "dtype": "f8"
         },
         "z": {
          "bdata": "0PpgcqkDeD9ULlmWLWzbP15sdEMmPOs/SAL3mkJvvT99tabL9zPhP3L6Y08lr8w/",
          "dtype": "f8"
         }
        },
        {
         "type": "mesh3d",
         "x": {
          "bdata": "FQ1HBZwy7z8QHy1J0eXsPwoxE40Gmeo/AOoxAGOt6z/7+xdEmGDpP+zGHPspKOg/",
          "dtype": "f8"
         },
         "y": {
          "bdata": "MUg75JB7zD+3Vj2a/13EP3rKfqDcgLg/GhPN7KUlzz+gIc+iFAjHPwJvr3rd59A/",
          "dtype": "f8"
         },
         "z": {
          "bdata": "7d1HdWwn7z/+Q8oTIM3rPw+qTLLTcug/BhzfCRzb5z8WgmGoz4DkPx5adp7LjuA/",
          "dtype": "f8"
         }
        },
        {
         "type": "mesh3d",
         "x": {
          "bdata": "cZlf46Dz4z/u7Q0+UwvjP2pCvJgFI+I/gHyELDJ85j/80DKH5JPlP49fqXXDBOk/",
          "dtype": "f8"
         },
         "y": {
          "bdata": "GxFddMME6b+JqD7cvC7mv/c/IES2WOO/yvsNKzJ85r84k++SK6bjv3jmvuGg8+O/",
          "dtype": "f8"
         },
         "z": {
          "bdata": "jEhAotn84z/mRmEqp5/qP6AiQVk6ofA/u8wUFoCE5j8VyzWeTSftP+pQ6YkmDOk/",
          "dtype": "f8"
         }
        },
        {
         "type": "mesh3d",
         "x": {
          "bdata": "MUg75JB7zD8s+VYJhTzEP0xU5Vzy+rc/uF8hvHcT0D9qcF6d4+fHP1cbJQYn6dE/",
          "dtype": "f8"
         },
         "y": {
          "bdata": "FQ1HBZwy7782UReTzCLsv1iV5yD9Eum/llp39fXP67+4nkeDJsDovxiop+VPbei/",
          "dtype": "f8"
         },
         "z": {
          "bdata": "EGNu//ogzT9ZKHtUGTPhP+63GunzHes/e2m4eHyN4j8Q+VcNV3jsPzI6lTG60u0/",
          "dtype": "f8"
         }
        },
        {
         "type": "mesh3d",
         "x": {
          "bdata": "AAAAAAAA8L8aufIF9EHtvzVy5Qvog+q/ioajAk6Z77+lP5YIQtvsvxUNRwWcMu+/",
          "dtype": "f8"
         },
         "y": {
          "bdata": "AAAAAAAAAACirhgZMDulv6KuGBkwO7W/MUg75JB7vL/Bz2N4lIzDvzFIO+SQe8y/",
          "dtype": "f8"
         },
         "z": {
          "bdata": "9Qa1SR4C8L9r80COnk3sv+zYF4kAl+i/SOR5Kj+W77/KyVAlod/rv6e6icFBKO+/",
          "dtype": "f8"
         }
        },
        {
         "type": "mesh3d",
         "x": {
          "bdata": "FQ1HBZwy77+lP5YIQtvsvzVy5Qvog+q/AOoxAGOt67+QHIEDCVbpv+zGHPspKOi/",
          "dtype": "f8"
         },
         "y": {
          "bdata": "MUg75JB7zL/Bz2N4lIzDv6KuGBkwO7W/GhPN7KUlz7+qmvWAqTbGvwJvr3rd59C/",
          "dtype": "f8"
         },
         "z": {
          "bdata": "U0ql9pYp77/IIJjKbuHrvz73ip5Gmei/yn0+VfPh578/VDEpy5nkv0Cx17NPmuC/",
          "dtype": "f8"
         }
        },
        {
         "type": "mesh3d",
         "x": {
          "bdata": "j1+pdcME6T/80DKH5JPlP2pCvJgFI+I/NBn3IUV05z+iioAzZgPkP9nSRM7G4+U/",
          "dtype": "f8"
         },
         "y": {
          "bdata": "eOa+4aDz4784k++SK6bjv/c/IES2WOO/zs1/ATIS4b+OerCyvMTgv0lqgUKGYdy/",
          "dtype": "f8"
         },
         "z": {
          "bdata": "46+uFKMX6T8g5ex2lyntPy+NlezFnfA/IvqLi0GJ7T+wF+X2ms3wPzCiNAFw/fA/",
          "dtype": "f8"
         }
        },
        {
         "type": "mesh3d",
         "x": {
          "bdata": "cZlf46Dz47/jellEbQbjv1VcU6U5GeK/1S2JX9eH4L+OHgaBRzXfv3OEZbcbONq/",
          "dtype": "f8"
         },
         "y": {
          "bdata": "GxFddMME6T+0pdaawLLlP0w6UMG9YOI/rAfoXLem5z9EnGGDtFTkPzz+ckWrSOY/",
          "dtype": "f8"
         },
         "z": {
          "bdata": "OG/RHbkG5L+wtxe/Wj3rvxQALzD+OfG/Hse6/eRS6r/Lh4BPw8Twv4IP0m6IT/C/",
          "dtype": "f8"
         }
        },
        {
         "type": "mesh3d",
         "x": {
          "bdata": "MUg75JB7zL/whMOydVrPv9fgpUCtHNG/Uq1lYEQB1b+yy6nHtnDWv4y2rU7AxNu/",
          "dtype": "f8"
         },
         "y": {
          "bdata": "FQ1HBZwy7z/Nl//lmmvsP4UiuMaZpOk/GShjV6wD7j/Rshs4qzzrPx1Df6m81Ow/",
          "dtype": "f8"
         },
         "z": {
          "bdata": "az6o3VB/zL/U9L2VVsvgvw3aEfTYduq/o5jqeZ0U1b+LMUkb0TXkvxESAYWS6du/",
          "dtype": "f8"
         }
        },
        {
         "type": "mesh3d",
         "x": {
          "bdata": "L/EZTMDE27+sNcC9bJvWvyp6Zi8ZctG/GEFsXkQB1b8sCyWg4a/PvwMifeGQe8y/",
          "dtype": "f8"
         },
         "y": {
          "bdata": "ayAeqrzU7L+jqep7xSnrv9syt03Ofum/Gp/GV6wD7r9SKJMptVjsv8kdbwWcMu+/",
          "dtype": "f8"
         },
         "z": {
          "bdata": "ZPFOTVLa278UcHZd922yv1q5k55Wo9I/Y36Bd5LZ1L/it37zDyqjP8MWaEOlscu/",
          "dtype": "f8"
         }
        },
        {
         "type": "mesh3d",
         "x": {
          "bdata": "ayAeqrzU7D/+dE00AG3qP5LJfL5DBeg/Gp/GV6wD7j+u8/Xh75vrP8kdbwWcMu8/",
          "dtype": "f8"
         },
         "y": {
          "bdata": "L/EZTMDE27/Qyz7QiG3Wv3CmY1RRFtG/GEFsXkQB1b9yNyLFGVTPvwMifeGQe8y/",
          "dtype": "f8"
         },
         "z": {
          "bdata": "jkw9RlPn7D/erwDKRWvuPy4TxE047+8/UHDyIvsH7j+g07Wm7YvvPxKUp/+iKO8/",
          "dtype": "f8"
         }
        },
        {
         "type": "mesh3d",
         "x": {
          "bdata": "L/EZTMDE27+sNcC9bJvWvyp6Zi8ZctG/1NvvDTal2r9SIJZ/4nvVv3nGxc+rhdm/",
          "dtype": "f8"
         },
         "y": {
          "bdata": "ayAeqrzU7L+jqep7xSnrv9syt03Ofum/prmTi/EE6b/eQmBd+lnnv+BSCW0mNeW/",
          "dtype": "f8"
         },
         "z": {
          "bdata": "JpNTKbOB279GfG2mWoixvwPVHNaFvdI/aG2PfgWysr+6WBQgG3PSP3LcC2qwKNI/",
          "dtype": "f8"
         }
        },
        {
         "type": "mesh3d",
         "x": {
          "bdata": "ayAeqrzU7D/+dE00AG3qP5LJfL5DBeg/onkxvEFc6T82zmBGhfTmP9nSRM7G4+U/",
          "dtype": "f8"
         },
         "y": {
          "bdata": "L/EZTMDE27/Qyz7QiG3Wv3CmY1RRFtG/vK1NRyMT3L9ciHLL67vWv0lqgUKGYdy/",
          "dtype": "f8"
         },
         "z": {
          "bdata": "BIhBdfzn7D88kdhcR3DuP3Oab0SS+O8/0GlTvIFj7z+EOfVR5nXwP86lsoGD7/A/",
          "dtype": "f8"
         }
        },
        {
         "type": "mesh3d",
         "x": {
          "bdata": "jLatTsDE27+yy6nHtnDWv9fgpUCtHNG/gJ0JA27+2r+lsgV8ZKrVv3OEZbcbONq/",
          "dtype": "f8"
         },
         "y": {
          "bdata": "HUN/qbzU7D/Rshs4qzzrP4UiuMaZpOk/rCB597OO6T9gkBWGovbnPzz+ckWrSOY/",
          "dtype": "f8"
         },
         "z": {
          "bdata": "BEd0LeL927+za0r22jvkv+Sz2tXEeOq/Oemj4zxL579qMTTDJojtv3jXRljES/C/",
          "dtype": "f8"
         }
        },
        {
         "type": "mesh3d",
         "x": {
          "bdata": "cZlf46Dz47/jellEbQbjv1VcU6U5GeK/gHyELDJ85r/yXX6N/o7lv49fqXXDBOm/",
          "dtype": "f8"
         },
         "y": {
          "bdata": "GxFddMME6T+0pdaawLLlP0w6UMG9YOI/yvsNKzJ85j9ikIdRLyrjP3jmvuGg8+M/",
          "dtype": "f8"
         },
         "z": {
          "bdata": "CGlz6PsG5L86V1Ogczvrv7aiGaz1N/G/5Z2ADdeJ5r8XjGDFTr7tv8LSjTKyDOm/",
          "dtype": "f8"
         }
        },
        {
         "type": "mesh3d",
         "x": {
          "bdata": "AAAAAAAA8D+FmIlGg0ztPwoxE40Gmeo/GmpM3XLC7D+fAtYj9g7qPzTUmLrlhOk/",
          "dtype": "f8"
         },
         "y": {
          "bdata": "AAAAAAAAAAB6yn6g3ICoP3rKfqDcgLg/Jrq1fGnOpb+ggkgemZN1Pya6tXxpzrW/",
          "dtype": "f8"
         },
         "z": {
          "bdata": "cG5/yoz17z+eeheH8DTsP8yGr0NUdOg/OZMrccsF7j9nn8MtL0XqPwK41xcKFuw/",
          "dtype": "f8"
         }
        },
        {
         "type": "mesh3d",
         "x": {
          "bdata": "AAAAAAAAAABMVOVc8vqnP0xU5Vzy+rc/nJLPNI/1qL8Aykf9mlNfv5ySzzSP9bi/",
          "dtype": "f8"
         },
         "y": {
          "bdata": "AAAAAAAA8L+synOQfonsv1iV5yD9Eum/6qeQSavK7L+WcgTaKVTpv9RPIZNWlem/",
          "dtype": "f8"
         },
         "z": {
          "bdata": "nDxFHW60ij9eH1t0Nq3bP2wK5rtkQus/eNCYQoRO1D/54gSjC5PnP4a7I4qy4+M/",
          "dtype": "f8"
         }
        },
        {
         "type": "mesh3d",
         "x": {
          "bdata": "MUg75JB7zL/whMOydVrPv9fgpUCtHNG/wc4gee34w7+AC6lH0tfGv6KqDByU7La/",
          "dtype": "f8"
         },
         "y": {
          "bdata": "FQ1HBZwy7z/Nl//lmmvsP4UiuMaZpOk/VmpKNp9Q7D8O9QIXnonpP5jHTWeibuk/",
          "dtype": "f8"
         },
         "z": {
          "bdata": "569dcTvkzL/mxcLMNdvgv9MfLr1cfeq/rOPxDTmq4L+YPV3+X0zqv15bjD9jG+q/",
          "dtype": "f8"
         }
        },
        {
         "type": "mesh3d",
         "x": {
          "bdata": "yR1vBZwy7z+u8/Xh75vrP5LJfL5DBeg//vgD4MBb7D/jzoq8FMXoPzTUmLrlhOk/",
          "dtype": "f8"
         },
         "y": {
          "bdata": "AyJ94ZB7zL9yNyLFGVTPv3CmY1RRFtG/i//rz2Kxw7/6FJGz64nGvya6tXxpzrW/",
          "dtype": "f8"
         },
         "z": {
          "bdata": "6WFA9lAv7z92u77pr4vvPwMVPd0O6O8/24JYPxq17T9o3NYyeRHuP82jcIjjOuw/",
          "dtype": "f8"
         }
        },
        {
         "type": "mesh3d",
         "x": {
          "bdata": "AyJ94ZB7zL8sCyWg4a/Pvyp6Zi8ZctG/qHXyPSx7xL/RXpr8fK/Hv5ySzzSP9bi/",
          "dtype": "f8"
         },
         "y": {
          "bdata": "yR1vBZwy779SKJMptVjsv9syt03Ofum/zjZITPlj7L9YQWxwEorpv9RPIZNWlem/",
          "dtype": "f8"
         },
         "z": {
          "bdata": "8p6y8qv4yr/s40T4PACkP3SIajdlfNI/9WUdfW4+yj/xnvDWlBvdP7daOzti3eM/",
          "dtype": "f8"
         }
        },
        {
         "type": "mesh3d",
         "x": {
          "bdata": "AAAAAAAA8L8aufIF9EHtvzVy5Qvog+q/M24dh0vO7L9OJxCNPxDqv2bcOg6XnOm/",
          "dtype": "f8"
         },
         "y": {
          "bdata": "AAAAAAAAAACirhgZMDulv6KuGBkwO7W/qXMiZ53jqT8cFCc4taGCP6lzImed47k/",
          "dtype": "f8"
         },
         "z": {
          "bdata": "rp3AvE7177/QqlWVHUbsv/G36m3slui/euY27Wsq7r+b88vFOnvqv0UvrR2JX+y/",
          "dtype": "f8"
         }
        },
        {
         "type": "mesh3d",
         "x": {
          "bdata": "j1+pdcME6b/yXX6N/o7lv1VcU6U5GeK/AMl/5OCf579ix1T8Gyrkv3AyVlP+Oua/",
          "dtype": "f8"
         },
         "y": {
          "bdata": "eOa+4aDz4z9ikIdRLyrjP0w6UMG9YOI/FWDXyMWk4D/+E0BxqLbfP2Wz31/Vq9o/",
          "dtype": "f8"
         },
         "z": {
          "bdata": "nPrC9WUj6b+wnx8IPL7tv2IiPg2JLPG/i5n/CP2I7b9QH66N6RHxvz0cHg5K9/C/",
          "dtype": "f8"
         }
        },
        {
         "type": "mesh3d",
         "x": {
          "bdata": "yR1vBZwy778LDFv+xWbsv036Rvfvmum/GP3UiZln7L9a68CCw5vpv2bcOg6XnOm/",
          "dtype": "f8"
         },
         "y": {
          "bdata": "AyJ94ZB7zD9Iqog3jv7PP0cZysbFwNE/7C2Hyq+2xD8xtpIgrTnIP6lzImed47k/",
          "dtype": "f8"
         },
         "z": {
          "bdata": "ra2Fc84v778Kdog70nzvv2g+iwPWye+/MpWmWMLY7b+QXakgxiXuv7h8xz22gey/",
          "dtype": "f8"
         }
        },
        {
         "type": "mesh3d",
         "x": {
          "bdata": "ayAeqrzU7L9cjbJQ1jfrv036Rvfvmum/bim6ft2H6b9elk4l9+rnv3AyVlP+Oua/",
          "dtype": "f8"
         },
         "y": {
          "bdata": "L/EZTMDE2z87BXIJw8LWP0cZysbFwNE/StL81Uo42z9W5lSTTTbWP2Wz31/Vq9o/",
          "dtype": "f8"
         },
         "z": {
          "bdata": "pIxBGrre7L+caZnBDFruv5RG8Whf1e+/t7QY17Fd77/YSDg/gmzwv2Xu98lU7vC/",
          "dtype": "f8"
         }
        },
        {
         "type": "mesh3d",
         "x": {
          "bdata": "ayAeqrzU7L9cjbJQ1jfrv036Rvfvmum/Gp/GV6wD7r8LDFv+xWbsv8kdbwWcMu+/",
          "dtype": "f8"
         },
         "y": {
          "bdata": "L/EZTMDE2z87BXIJw8LWP0cZysbFwNE/GEFsXkQB1T9Iqog3jv7PPwMifeGQe8w/",
          "dtype": "f8"
         },
         "z": {
          "bdata": "SiN67+/h7L82RHh+71nuvyNldg3v0e+/UHkNupIG7r88mgtJkn7vv1bPoIQ1K++/",
          "dtype": "f8"
         }
        },
        {
         "type": "mesh3d",
         "x": {
          "bdata": "cDJWU/465r9elk4l9+rnv036Rvfvmum/cmRNC2Ax5b9gyEXdWOHmv3SWRMPBJ+S/",
          "dtype": "f8"
         },
         "y": {
          "bdata": "ZbPfX9Wr2j9W5lSTTTbWP0cZysbFwNE/oq+oZTYk1D8mxTsyXV3PP71X49YuOcs/",
          "dtype": "f8"
         },
         "z": {
          "bdata": "e2Yphzr18L8D8tkx627wvxb7FLk30e+/LC3lBzTr7788REZdld7uv2GNdwHz6+2/",
          "dtype": "f8"
         }
        },
        {
         "type": "mesh3d",
         "x": {
          "bdata": "gVFPUHgwzr+2wnfbLeHLv+ozoGbjkcm/bLbPS/fBwL9BT/CtWeW8v7nagDqym5q/",
          "dtype": "f8"
         },
         "y": {
          "bdata": "mEfsO8wV378E2PjXDF7ivz2M+5EzMeW/1Gmzf70R4b8NHrY55OTjv92vcOGUmOK/",
          "dtype": "f8"
         },
         "z": {
          "bdata": "zY8/FU5y5D/DtYWpIsvkP7nbyz33I+U/PoJCD0ah6T80qIijGvrpP690RQk+0O4/",
          "dtype": "f8"
         }
        },
        {
         "type": "mesh3d",
         "x": {
          "bdata": "cz584nol1T8oCkgoPHHWP9zVE279vNc/PLH/JDk82j/wfMtq+ofbPwQkg2f3Ut8/",
          "dtype": "f8"
         },
         "y": {
          "bdata": "UiMjFdfD2r/62EZKyzbgv0sg/AmrC+O/VXDICKRs3L98fxnEMQvhv1i9bfxwFd6/",
          "dtype": "f8"
         },
         "z": {
          "bdata": "70FCOlNu8T9uAH39m8bxP+2+t8DkHvI/KGd7pR608T+nJbZoZwzyP2GMtBDq+fE/",
          "dtype": "f8"
         }
        },
        {
         "type": "mesh3d",
         "x": {
          "bdata": "sGimoEfj3D8m1C64NR/hP/RzCqDHzOM/lJTKbm1U3z8Y6kCfyFfiPzxgd57J4uA/",
          "dtype": "f8"
         },
         "y": {
          "bdata": "mDdhfNXQr79j56AyapW4v32ZiNM0ocC/02WW4b5Xxr+ei86bPq7Kv+A+CjKkXdK/",
          "dtype": "f8"
         },
         "z": {
          "bdata": "efkJfjON4j9S8bMC4VHmPyvpXYeOFuo/gszkb1Q16T9bxI70AfrsP4ufv2F13e8/",
          "dtype": "f8"
         }
        },
        {
         "type": "mesh3d",
         "x": {
          "bdata": "Ztw6Dpec6b9a68CCw5vpv036Rvfvmum/bbm/aCzi5r9gyEXdWOHmv3SWRMPBJ+S/",
          "dtype": "f8"
         },
         "y": {
          "bdata": "qXMiZ53juT8xtpIgrTnIP0cZysbFwNE/yUg6xX4VxD8mxTsyXV3PP71X49YuOcs/",
          "dtype": "f8"
         },
         "z": {
          "bdata": "+CfyxrN/7L/93qV49iXuvwKWWSo5zO+/eG2CpFYs7b99JDZWmdLuv/iyEoL52O2/",
          "dtype": "f8"
         }
        },
        {
         "type": "mesh3d",
         "x": {
          "bdata": "cz584nol1T8oCkgoPHHWP9zVE279vNc/5Lc28wpv0D+YgwI5zLrRP6hi4gc2ccc/",
          "dtype": "f8"
         },
         "y": {
          "bdata": "UiMjFdfD2r/62EZKyzbgv0sg/AmrC+O/bi4/eAED4L+/dfQ34dfivzPL7GUXpOK/",
          "dtype": "f8"
         },
         "z": {
          "bdata": "1Rr2qqNv8T/kchmR1cXxP/TKPHcHHPI/KMiLNNag8T84IK8aCPfxP3x1Ib4I0vE/",
          "dtype": "f8"
         }
        },
        {
         "type": "mesh3d",
         "x": {
          "bdata": "cz584nol1T88sf8kOTzaPwQkg2f3Ut8/dn+1D4d12z8feRypIkbgPzxgd57J4uA/",
          "dtype": "f8"
         },
         "y": {
          "bdata": "UiMjFdfD2r9VcMgIpGzcv1i9bfxwFd6/GbGWo72Q1r8c/juXijnYv+A+CjKkXdK/",
          "dtype": "f8"
         },
         "z": {
          "bdata": "jcqw9tpm8T80EAIEi6/xP9tVUxE7+PE/3Ghnc5G08D+CrriAQf3wPyoHHvBHAvA/",
          "dtype": "f8"
         }
        },
        {
         "type": "mesh3d",
         "x": {
          "bdata": "2dJEzsbj5T9uMgNBocbiPwQkg2f3Ut8/ihleNkhj4z8feRypIkbgPzxgd57J4uA/",
          "dtype": "f8"
         },
         "y": {
          "bdata": "SWqBQoZh3L/Qk3efezvdv1i9bfxwFd6/lNRFOpVf178c/juXijnYv+A+CjKkXdK/",
          "dtype": "f8"
         },
         "z": {
          "bdata": "7ZKtJFb68D8UvJiEW3jxPzrlg+Rg9vE/dn7t/i2A8D+cp9heM/7wP/9pLdkFBvA/",
          "dtype": "f8"
         }
        },
        {
         "type": "mesh3d",
         "x": {
          "bdata": "7UiODm5uu78QAPGKZs7Cv6nbmg6W5ce/9bHazXH9y7/HRsKoUIrQv7ofN0rWIdW/",
          "dtype": "f8"
         },
         "y": {
          "bdata": "CCaoT9J63T/vKZhwBaThP9pAXLmhiuQ/TTZxstQZ3z8SsvyhhnPiP0kjnYprXOA/",
          "dtype": "f8"
         },
         "z": {
          "bdata": "FGA7HuBk8L/7CXPMg+rwv+KzqnoncPG//KXVVWNl8b/iTw0EB+vxv+Prb43mZfK/",
          "dtype": "f8"
         }
        },
        {
         "type": "mesh3d",
         "x": {
          "bdata": "cZlf46Dz4z/u7Q0+UwvjP2pCvJgFI+I/2mCUgh8+4T9XtULd0VXgP4dQkkM8Ed0/",
          "dtype": "f8"
         },
         "y": {
          "bdata": "GxFddMME6b+JqD7cvC7mv/c/IES2WOO/nNryxiQn6L8KctQuHlHlvxykiBmGSee/",
          "dtype": "f8"
         },
         "z": {
          "bdata": "4Ar5u7YE5D+1oNyAuKfqP0Ub4CJdpfA/TuwbEIvI6D8jgv/UjGvvP7zNPmRfjO0/",
          "dtype": "f8"
         }
        },
        {
         "type": "mesh3d",
         "x": {
          "bdata": "jKQKr11Y3L+H/AHneKfhv8imfvbCIuW/kJ//yodH4L/RSXza0cLjv9rseb7gYuK/",
          "dtype": "f8"
         },
         "y": {
          "bdata": "RhxrXdbu2788MDt79rfbvzJEC5kWgdu/iirRFAZC4L+FNLkjlibgv/HG7PqgjOK/",
          "dtype": "f8"
         },
         "z": {
          "bdata": "pIylY2E9zT+4z7M50A+Dv5sG3Gpbn8+/GsyUFfVrsD+SY3bcYzjGvxSBIZzYorm/",
          "dtype": "f8"
         }
        },
        {
         "type": "mesh3d",
         "x": {
          "bdata": "oqoMHJTstr99mFAO8K3Bv6nbmg6W5ce/gAupR9LXxr+sTvNHeA/Nv9fgpUCtHNG/",
          "dtype": "f8"
         },
         "y": {
          "bdata": "mMdNZ6Ju6T85BFUQovzmP9pAXLmhiuQ/DvUCF56J6T+wMQrAnRfnP4UiuMaZpOk/",
          "dtype": "f8"
         },
         "z": {
          "bdata": "B8lKsMtJ6r/SyjXuf4Puv05mEBaaXvG/qNMZ6Cp/6r9y1QQm37juv0ne6B+KtOq/",
          "dtype": "f8"
         }
        },
        {
         "type": "mesh3d",
         "x": {
          "bdata": "VxslBifp0T+aeBw6EtPUP9zVE279vNc/q0wWCsKhzT+YgwI5zLrRP6hi4gc2ccc/",
          "dtype": "f8"
         },
         "y": {
          "bdata": "GKin5U9t6L8y5NF3fbzlv0sg/AmrC+O/pjnKpbOI5b+/dfQ34dfivzPL7GUXpOK/",
          "dtype": "f8"
         },
         "z": {
          "bdata": "C6YqmM0F7j+RUWZkXI3wPxxQt/zRF/I/DgpNAc1r8D+aCJ6ZQvbxPxfBhDaz1PE/",
          "dtype": "f8"
         }
        },
        {
         "type": "mesh3d",
         "x": {
          "bdata": "nJLPNI/1uL+c/oOAVQbDv+ozoGbjkcm/0V6a/Hyvx78flLbiCjvOvyp6Zi8ZctG/",
          "dtype": "f8"
         },
         "y": {
          "bdata": "1E8hk1aV6b8Ibo4SRWPnvz2M+5EzMeW/WEFscBKK6b+MX9nvAFjnv9syt03Ofum/",
          "dtype": "f8"
         },
         "z": {
          "bdata": "djWIq2nE4z9IvFrpqlvkPxtDLSfs8uQ/7PMOeLYS3T+SAbTzOEHeP+18DZmZnNI/",
          "dtype": "f8"
         }
        },
        {
         "type": "mesh3d",
         "x": {
          "bdata": "VxslBifp0T+aeBw6EtPUP9zVE279vNc/77XbpDF91z8yE9PYHGfaP4dQkkM8Ed0/",
          "dtype": "f8"
         },
         "y": {
          "bdata": "GKin5U9t6L8y5NF3fbzlv0sg/AmrC+O/GiaY/2rb5780YsKRmCrlvxykiBmGSee/",
          "dtype": "f8"
         },
         "z": {
          "bdata": "gkWrzEv67T+EIGlxXYvwP0eefPyUGfI/dTdKYljQ7T9+mTi8Y3bwP2gp6fdkpu0/",
          "dtype": "f8"
         }
        },
        {
         "type": "mesh3d",
         "x": {
          "bdata": "2dJEzsbj5T9uMgNBocbiPwQkg2f3Ut8/ooqAM2YD5D826j6mQObgP2pCvJgFI+I/",
          "dtype": "f8"
         },
         "y": {
          "bdata": "SWqBQoZh3L/Qk3efezvdv1i9bfxwFd6/jnqwsrzE4L9SjythtzHhv/c/IES2WOO/",
          "dtype": "f8"
         },
         "z": {
          "bdata": "0lgWRND38D8D7pULx3jxPzSDFdO9+fE/+qcrxYXN8D8sPauMfE7xPyP3QEY7o/A/",
          "dtype": "f8"
         }
        }
       ],
       "layout": {
        "template": {
         "data": {
          "bar": [
           {
            "error_x": {
             "color": "#2a3f5f"
            },
            "error_y": {
             "color": "#2a3f5f"
            },
            "marker": {
             "line": {
              "color": "#E5ECF6",
              "width": 0.5
             },
             "pattern": {
              "fillmode": "overlay",
              "size": 10,
              "solidity": 0.2
             }
            },
            "type": "bar"
           }
          ],
          "barpolar": [
           {
            "marker": {
             "line": {
              "color": "#E5ECF6",
              "width": 0.5
             },
             "pattern": {
              "fillmode": "overlay",
              "size": 10,
              "solidity": 0.2
             }
            },
            "type": "barpolar"
           }
          ],
          "carpet": [
           {
            "aaxis": {
             "endlinecolor": "#2a3f5f",
             "gridcolor": "white",
             "linecolor": "white",
             "minorgridcolor": "white",
             "startlinecolor": "#2a3f5f"
            },
            "baxis": {
             "endlinecolor": "#2a3f5f",
             "gridcolor": "white",
             "linecolor": "white",
             "minorgridcolor": "white",
             "startlinecolor": "#2a3f5f"
            },
            "type": "carpet"
           }
          ],
          "choropleth": [
           {
            "colorbar": {
             "outlinewidth": 0,
             "ticks": ""
            },
            "type": "choropleth"
           }
          ],
          "contour": [
           {
            "colorbar": {
             "outlinewidth": 0,
             "ticks": ""
            },
            "colorscale": [
             [
              0,
              "#0d0887"
             ],
             [
              0.1111111111111111,
              "#46039f"
             ],
             [
              0.2222222222222222,
              "#7201a8"
             ],
             [
              0.3333333333333333,
              "#9c179e"
             ],
             [
              0.4444444444444444,
              "#bd3786"
             ],
             [
              0.5555555555555556,
              "#d8576b"
             ],
             [
              0.6666666666666666,
              "#ed7953"
             ],
             [
              0.7777777777777778,
              "#fb9f3a"
             ],
             [
              0.8888888888888888,
              "#fdca26"
             ],
             [
              1,
              "#f0f921"
             ]
            ],
            "type": "contour"
           }
          ],
          "contourcarpet": [
           {
            "colorbar": {
             "outlinewidth": 0,
             "ticks": ""
            },
            "type": "contourcarpet"
           }
          ],
          "heatmap": [
           {
            "colorbar": {
             "outlinewidth": 0,
             "ticks": ""
            },
            "colorscale": [
             [
              0,
              "#0d0887"
             ],
             [
              0.1111111111111111,
              "#46039f"
             ],
             [
              0.2222222222222222,
              "#7201a8"
             ],
             [
              0.3333333333333333,
              "#9c179e"
             ],
             [
              0.4444444444444444,
              "#bd3786"
             ],
             [
              0.5555555555555556,
              "#d8576b"
             ],
             [
              0.6666666666666666,
              "#ed7953"
             ],
             [
              0.7777777777777778,
              "#fb9f3a"
             ],
             [
              0.8888888888888888,
              "#fdca26"
             ],
             [
              1,
              "#f0f921"
             ]
            ],
            "type": "heatmap"
           }
          ],
          "histogram": [
           {
            "marker": {
             "pattern": {
              "fillmode": "overlay",
              "size": 10,
              "solidity": 0.2
             }
            },
            "type": "histogram"
           }
          ],
          "histogram2d": [
           {
            "colorbar": {
             "outlinewidth": 0,
             "ticks": ""
            },
            "colorscale": [
             [
              0,
              "#0d0887"
             ],
             [
              0.1111111111111111,
              "#46039f"
             ],
             [
              0.2222222222222222,
              "#7201a8"
             ],
             [
              0.3333333333333333,
              "#9c179e"
             ],
             [
              0.4444444444444444,
              "#bd3786"
             ],
             [
              0.5555555555555556,
              "#d8576b"
             ],
             [
              0.6666666666666666,
              "#ed7953"
             ],
             [
              0.7777777777777778,
              "#fb9f3a"
             ],
             [
              0.8888888888888888,
              "#fdca26"
             ],
             [
              1,
              "#f0f921"
             ]
            ],
            "type": "histogram2d"
           }
          ],
          "histogram2dcontour": [
           {
            "colorbar": {
             "outlinewidth": 0,
             "ticks": ""
            },
            "colorscale": [
             [
              0,
              "#0d0887"
             ],
             [
              0.1111111111111111,
              "#46039f"
             ],
             [
              0.2222222222222222,
              "#7201a8"
             ],
             [
              0.3333333333333333,
              "#9c179e"
             ],
             [
              0.4444444444444444,
              "#bd3786"
             ],
             [
              0.5555555555555556,
              "#d8576b"
             ],
             [
              0.6666666666666666,
              "#ed7953"
             ],
             [
              0.7777777777777778,
              "#fb9f3a"
             ],
             [
              0.8888888888888888,
              "#fdca26"
             ],
             [
              1,
              "#f0f921"
             ]
            ],
            "type": "histogram2dcontour"
           }
          ],
          "mesh3d": [
           {
            "colorbar": {
             "outlinewidth": 0,
             "ticks": ""
            },
            "type": "mesh3d"
           }
          ],
          "parcoords": [
           {
            "line": {
             "colorbar": {
              "outlinewidth": 0,
              "ticks": ""
             }
            },
            "type": "parcoords"
           }
          ],
          "pie": [
           {
            "automargin": true,
            "type": "pie"
           }
          ],
          "scatter": [
           {
            "fillpattern": {
             "fillmode": "overlay",
             "size": 10,
             "solidity": 0.2
            },
            "type": "scatter"
           }
          ],
          "scatter3d": [
           {
            "line": {
             "colorbar": {
              "outlinewidth": 0,
              "ticks": ""
             }
            },
            "marker": {
             "colorbar": {
              "outlinewidth": 0,
              "ticks": ""
             }
            },
            "type": "scatter3d"
           }
          ],
          "scattercarpet": [
           {
            "marker": {
             "colorbar": {
              "outlinewidth": 0,
              "ticks": ""
             }
            },
            "type": "scattercarpet"
           }
          ],
          "scattergeo": [
           {
            "marker": {
             "colorbar": {
              "outlinewidth": 0,
              "ticks": ""
             }
            },
            "type": "scattergeo"
           }
          ],
          "scattergl": [
           {
            "marker": {
             "colorbar": {
              "outlinewidth": 0,
              "ticks": ""
             }
            },
            "type": "scattergl"
           }
          ],
          "scattermap": [
           {
            "marker": {
             "colorbar": {
              "outlinewidth": 0,
              "ticks": ""
             }
            },
            "type": "scattermap"
           }
          ],
          "scattermapbox": [
           {
            "marker": {
             "colorbar": {
              "outlinewidth": 0,
              "ticks": ""
             }
            },
            "type": "scattermapbox"
           }
          ],
          "scatterpolar": [
           {
            "marker": {
             "colorbar": {
              "outlinewidth": 0,
              "ticks": ""
             }
            },
            "type": "scatterpolar"
           }
          ],
          "scatterpolargl": [
           {
            "marker": {
             "colorbar": {
              "outlinewidth": 0,
              "ticks": ""
             }
            },
            "type": "scatterpolargl"
           }
          ],
          "scatterternary": [
           {
            "marker": {
             "colorbar": {
              "outlinewidth": 0,
              "ticks": ""
             }
            },
            "type": "scatterternary"
           }
          ],
          "surface": [
           {
            "colorbar": {
             "outlinewidth": 0,
             "ticks": ""
            },
            "colorscale": [
             [
              0,
              "#0d0887"
             ],
             [
              0.1111111111111111,
              "#46039f"
             ],
             [
              0.2222222222222222,
              "#7201a8"
             ],
             [
              0.3333333333333333,
              "#9c179e"
             ],
             [
              0.4444444444444444,
              "#bd3786"
             ],
             [
              0.5555555555555556,
              "#d8576b"
             ],
             [
              0.6666666666666666,
              "#ed7953"
             ],
             [
              0.7777777777777778,
              "#fb9f3a"
             ],
             [
              0.8888888888888888,
              "#fdca26"
             ],
             [
              1,
              "#f0f921"
             ]
            ],
            "type": "surface"
           }
          ],
          "table": [
           {
            "cells": {
             "fill": {
              "color": "#EBF0F8"
             },
             "line": {
              "color": "white"
             }
            },
            "header": {
             "fill": {
              "color": "#C8D4E3"
             },
             "line": {
              "color": "white"
             }
            },
            "type": "table"
           }
          ]
         },
         "layout": {
          "annotationdefaults": {
           "arrowcolor": "#2a3f5f",
           "arrowhead": 0,
           "arrowwidth": 1
          },
          "autotypenumbers": "strict",
          "coloraxis": {
           "colorbar": {
            "outlinewidth": 0,
            "ticks": ""
           }
          },
          "colorscale": {
           "diverging": [
            [
             0,
             "#8e0152"
            ],
            [
             0.1,
             "#c51b7d"
            ],
            [
             0.2,
             "#de77ae"
            ],
            [
             0.3,
             "#f1b6da"
            ],
            [
             0.4,
             "#fde0ef"
            ],
            [
             0.5,
             "#f7f7f7"
            ],
            [
             0.6,
             "#e6f5d0"
            ],
            [
             0.7,
             "#b8e186"
            ],
            [
             0.8,
             "#7fbc41"
            ],
            [
             0.9,
             "#4d9221"
            ],
            [
             1,
             "#276419"
            ]
           ],
           "sequential": [
            [
             0,
             "#0d0887"
            ],
            [
             0.1111111111111111,
             "#46039f"
            ],
            [
             0.2222222222222222,
             "#7201a8"
            ],
            [
             0.3333333333333333,
             "#9c179e"
            ],
            [
             0.4444444444444444,
             "#bd3786"
            ],
            [
             0.5555555555555556,
             "#d8576b"
            ],
            [
             0.6666666666666666,
             "#ed7953"
            ],
            [
             0.7777777777777778,
             "#fb9f3a"
            ],
            [
             0.8888888888888888,
             "#fdca26"
            ],
            [
             1,
             "#f0f921"
            ]
           ],
           "sequentialminus": [
            [
             0,
             "#0d0887"
            ],
            [
             0.1111111111111111,
             "#46039f"
            ],
            [
             0.2222222222222222,
             "#7201a8"
            ],
            [
             0.3333333333333333,
             "#9c179e"
            ],
            [
             0.4444444444444444,
             "#bd3786"
            ],
            [
             0.5555555555555556,
             "#d8576b"
            ],
            [
             0.6666666666666666,
             "#ed7953"
            ],
            [
             0.7777777777777778,
             "#fb9f3a"
            ],
            [
             0.8888888888888888,
             "#fdca26"
            ],
            [
             1,
             "#f0f921"
            ]
           ]
          },
          "colorway": [
           "#636efa",
           "#EF553B",
           "#00cc96",
           "#ab63fa",
           "#FFA15A",
           "#19d3f3",
           "#FF6692",
           "#B6E880",
           "#FF97FF",
           "#FECB52"
          ],
          "font": {
           "color": "#2a3f5f"
          },
          "geo": {
           "bgcolor": "white",
           "lakecolor": "white",
           "landcolor": "#E5ECF6",
           "showlakes": true,
           "showland": true,
           "subunitcolor": "white"
          },
          "hoverlabel": {
           "align": "left"
          },
          "hovermode": "closest",
          "mapbox": {
           "style": "light"
          },
          "paper_bgcolor": "white",
          "plot_bgcolor": "#E5ECF6",
          "polar": {
           "angularaxis": {
            "gridcolor": "white",
            "linecolor": "white",
            "ticks": ""
           },
           "bgcolor": "#E5ECF6",
           "radialaxis": {
            "gridcolor": "white",
            "linecolor": "white",
            "ticks": ""
           }
          },
          "scene": {
           "xaxis": {
            "backgroundcolor": "#E5ECF6",
            "gridcolor": "white",
            "gridwidth": 2,
            "linecolor": "white",
            "showbackground": true,
            "ticks": "",
            "zerolinecolor": "white"
           },
           "yaxis": {
            "backgroundcolor": "#E5ECF6",
            "gridcolor": "white",
            "gridwidth": 2,
            "linecolor": "white",
            "showbackground": true,
            "ticks": "",
            "zerolinecolor": "white"
           },
           "zaxis": {
            "backgroundcolor": "#E5ECF6",
            "gridcolor": "white",
            "gridwidth": 2,
            "linecolor": "white",
            "showbackground": true,
            "ticks": "",
            "zerolinecolor": "white"
           }
          },
          "shapedefaults": {
           "line": {
            "color": "#2a3f5f"
           }
          },
          "ternary": {
           "aaxis": {
            "gridcolor": "white",
            "linecolor": "white",
            "ticks": ""
           },
           "baxis": {
            "gridcolor": "white",
            "linecolor": "white",
            "ticks": ""
           },
           "bgcolor": "#E5ECF6",
           "caxis": {
            "gridcolor": "white",
            "linecolor": "white",
            "ticks": ""
           }
          },
          "title": {
           "x": 0.05
          },
          "xaxis": {
           "automargin": true,
           "gridcolor": "white",
           "linecolor": "white",
           "ticks": "",
           "title": {
            "standoff": 15
           },
           "zerolinecolor": "white",
           "zerolinewidth": 2
          },
          "yaxis": {
           "automargin": true,
           "gridcolor": "white",
           "linecolor": "white",
           "ticks": "",
           "title": {
            "standoff": 15
           },
           "zerolinecolor": "white",
           "zerolinewidth": 2
          }
         }
        }
       }
      }
     },
     "metadata": {},
     "output_type": "display_data"
    }
   ],
   "source": [
    "# EXTENSIVE\n",
    "plot_data = [\n",
    "    plotly.graph_objects.Mesh3d(\n",
    "                                x=gx, \n",
    "                                y=gy,\n",
    "                                z=gz, \n",
    "                                )\n",
    "        for gx, gy, gz in zip(\n",
    "                                global_x.reshape(-1, gridx.shape[0]), \n",
    "                                global_y.reshape(-1, gridx.shape[0]), \n",
    "                                global_z.reshape(-1, gridx.shape[0])\n",
    "                              )\n",
    "    ]\n",
    "fig = plotly.graph_objects.Figure(data=plot_data)\n",
    "fig.update_layout()"
   ]
  },
  {
   "cell_type": "code",
   "execution_count": 177,
   "id": "09175e25",
   "metadata": {},
   "outputs": [
    {
     "data": {
      "application/vnd.plotly.v1+json": {
       "config": {
        "plotlyServerURL": "https://plot.ly"
       },
       "data": [
        {
         "intensity": {
          "bdata": "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",
          "dtype": "f8"
         },
         "type": "mesh3d",
         "x": {
          "bdata": "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",
          "dtype": "f8"
         },
         "y": {
          "bdata": "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",
          "dtype": "f8"
         },
         "z": {
          "bdata": "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",
          "dtype": "f8"
         }
        }
       ],
       "layout": {
        "template": {
         "data": {
          "bar": [
           {
            "error_x": {
             "color": "#2a3f5f"
            },
            "error_y": {
             "color": "#2a3f5f"
            },
            "marker": {
             "line": {
              "color": "#E5ECF6",
              "width": 0.5
             },
             "pattern": {
              "fillmode": "overlay",
              "size": 10,
              "solidity": 0.2
             }
            },
            "type": "bar"
           }
          ],
          "barpolar": [
           {
            "marker": {
             "line": {
              "color": "#E5ECF6",
              "width": 0.5
             },
             "pattern": {
              "fillmode": "overlay",
              "size": 10,
              "solidity": 0.2
             }
            },
            "type": "barpolar"
           }
          ],
          "carpet": [
           {
            "aaxis": {
             "endlinecolor": "#2a3f5f",
             "gridcolor": "white",
             "linecolor": "white",
             "minorgridcolor": "white",
             "startlinecolor": "#2a3f5f"
            },
            "baxis": {
             "endlinecolor": "#2a3f5f",
             "gridcolor": "white",
             "linecolor": "white",
             "minorgridcolor": "white",
             "startlinecolor": "#2a3f5f"
            },
            "type": "carpet"
           }
          ],
          "choropleth": [
           {
            "colorbar": {
             "outlinewidth": 0,
             "ticks": ""
            },
            "type": "choropleth"
           }
          ],
          "contour": [
           {
            "colorbar": {
             "outlinewidth": 0,
             "ticks": ""
            },
            "colorscale": [
             [
              0,
              "#0d0887"
             ],
             [
              0.1111111111111111,
              "#46039f"
             ],
             [
              0.2222222222222222,
              "#7201a8"
             ],
             [
              0.3333333333333333,
              "#9c179e"
             ],
             [
              0.4444444444444444,
              "#bd3786"
             ],
             [
              0.5555555555555556,
              "#d8576b"
             ],
             [
              0.6666666666666666,
              "#ed7953"
             ],
             [
              0.7777777777777778,
              "#fb9f3a"
             ],
             [
              0.8888888888888888,
              "#fdca26"
             ],
             [
              1,
              "#f0f921"
             ]
            ],
            "type": "contour"
           }
          ],
          "contourcarpet": [
           {
            "colorbar": {
             "outlinewidth": 0,
             "ticks": ""
            },
            "type": "contourcarpet"
           }
          ],
          "heatmap": [
           {
            "colorbar": {
             "outlinewidth": 0,
             "ticks": ""
            },
            "colorscale": [
             [
              0,
              "#0d0887"
             ],
             [
              0.1111111111111111,
              "#46039f"
             ],
             [
              0.2222222222222222,
              "#7201a8"
             ],
             [
              0.3333333333333333,
              "#9c179e"
             ],
             [
              0.4444444444444444,
              "#bd3786"
             ],
             [
              0.5555555555555556,
              "#d8576b"
             ],
             [
              0.6666666666666666,
              "#ed7953"
             ],
             [
              0.7777777777777778,
              "#fb9f3a"
             ],
             [
              0.8888888888888888,
              "#fdca26"
             ],
             [
              1,
              "#f0f921"
             ]
            ],
            "type": "heatmap"
           }
          ],
          "histogram": [
           {
            "marker": {
             "pattern": {
              "fillmode": "overlay",
              "size": 10,
              "solidity": 0.2
             }
            },
            "type": "histogram"
           }
          ],
          "histogram2d": [
           {
            "colorbar": {
             "outlinewidth": 0,
             "ticks": ""
            },
            "colorscale": [
             [
              0,
              "#0d0887"
             ],
             [
              0.1111111111111111,
              "#46039f"
             ],
             [
              0.2222222222222222,
              "#7201a8"
             ],
             [
              0.3333333333333333,
              "#9c179e"
             ],
             [
              0.4444444444444444,
              "#bd3786"
             ],
             [
              0.5555555555555556,
              "#d8576b"
             ],
             [
              0.6666666666666666,
              "#ed7953"
             ],
             [
              0.7777777777777778,
              "#fb9f3a"
             ],
             [
              0.8888888888888888,
              "#fdca26"
             ],
             [
              1,
              "#f0f921"
             ]
            ],
            "type": "histogram2d"
           }
          ],
          "histogram2dcontour": [
           {
            "colorbar": {
             "outlinewidth": 0,
             "ticks": ""
            },
            "colorscale": [
             [
              0,
              "#0d0887"
             ],
             [
              0.1111111111111111,
              "#46039f"
             ],
             [
              0.2222222222222222,
              "#7201a8"
             ],
             [
              0.3333333333333333,
              "#9c179e"
             ],
             [
              0.4444444444444444,
              "#bd3786"
             ],
             [
              0.5555555555555556,
              "#d8576b"
             ],
             [
              0.6666666666666666,
              "#ed7953"
             ],
             [
              0.7777777777777778,
              "#fb9f3a"
             ],
             [
              0.8888888888888888,
              "#fdca26"
             ],
             [
              1,
              "#f0f921"
             ]
            ],
            "type": "histogram2dcontour"
           }
          ],
          "mesh3d": [
           {
            "colorbar": {
             "outlinewidth": 0,
             "ticks": ""
            },
            "type": "mesh3d"
           }
          ],
          "parcoords": [
           {
            "line": {
             "colorbar": {
              "outlinewidth": 0,
              "ticks": ""
             }
            },
            "type": "parcoords"
           }
          ],
          "pie": [
           {
            "automargin": true,
            "type": "pie"
           }
          ],
          "scatter": [
           {
            "fillpattern": {
             "fillmode": "overlay",
             "size": 10,
             "solidity": 0.2
            },
            "type": "scatter"
           }
          ],
          "scatter3d": [
           {
            "line": {
             "colorbar": {
              "outlinewidth": 0,
              "ticks": ""
             }
            },
            "marker": {
             "colorbar": {
              "outlinewidth": 0,
              "ticks": ""
             }
            },
            "type": "scatter3d"
           }
          ],
          "scattercarpet": [
           {
            "marker": {
             "colorbar": {
              "outlinewidth": 0,
              "ticks": ""
             }
            },
            "type": "scattercarpet"
           }
          ],
          "scattergeo": [
           {
            "marker": {
             "colorbar": {
              "outlinewidth": 0,
              "ticks": ""
             }
            },
            "type": "scattergeo"
           }
          ],
          "scattergl": [
           {
            "marker": {
             "colorbar": {
              "outlinewidth": 0,
              "ticks": ""
             }
            },
            "type": "scattergl"
           }
          ],
          "scattermap": [
           {
            "marker": {
             "colorbar": {
              "outlinewidth": 0,
              "ticks": ""
             }
            },
            "type": "scattermap"
           }
          ],
          "scattermapbox": [
           {
            "marker": {
             "colorbar": {
              "outlinewidth": 0,
              "ticks": ""
             }
            },
            "type": "scattermapbox"
           }
          ],
          "scatterpolar": [
           {
            "marker": {
             "colorbar": {
              "outlinewidth": 0,
              "ticks": ""
             }
            },
            "type": "scatterpolar"
           }
          ],
          "scatterpolargl": [
           {
            "marker": {
             "colorbar": {
              "outlinewidth": 0,
              "ticks": ""
             }
            },
            "type": "scatterpolargl"
           }
          ],
          "scatterternary": [
           {
            "marker": {
             "colorbar": {
              "outlinewidth": 0,
              "ticks": ""
             }
            },
            "type": "scatterternary"
           }
          ],
          "surface": [
           {
            "colorbar": {
             "outlinewidth": 0,
             "ticks": ""
            },
            "colorscale": [
             [
              0,
              "#0d0887"
             ],
             [
              0.1111111111111111,
              "#46039f"
             ],
             [
              0.2222222222222222,
              "#7201a8"
             ],
             [
              0.3333333333333333,
              "#9c179e"
             ],
             [
              0.4444444444444444,
              "#bd3786"
             ],
             [
              0.5555555555555556,
              "#d8576b"
             ],
             [
              0.6666666666666666,
              "#ed7953"
             ],
             [
              0.7777777777777778,
              "#fb9f3a"
             ],
             [
              0.8888888888888888,
              "#fdca26"
             ],
             [
              1,
              "#f0f921"
             ]
            ],
            "type": "surface"
           }
          ],
          "table": [
           {
            "cells": {
             "fill": {
              "color": "#EBF0F8"
             },
             "line": {
              "color": "white"
             }
            },
            "header": {
             "fill": {
              "color": "#C8D4E3"
             },
             "line": {
              "color": "white"
             }
            },
            "type": "table"
           }
          ]
         },
         "layout": {
          "annotationdefaults": {
           "arrowcolor": "#2a3f5f",
           "arrowhead": 0,
           "arrowwidth": 1
          },
          "autotypenumbers": "strict",
          "coloraxis": {
           "colorbar": {
            "outlinewidth": 0,
            "ticks": ""
           }
          },
          "colorscale": {
           "diverging": [
            [
             0,
             "#8e0152"
            ],
            [
             0.1,
             "#c51b7d"
            ],
            [
             0.2,
             "#de77ae"
            ],
            [
             0.3,
             "#f1b6da"
            ],
            [
             0.4,
             "#fde0ef"
            ],
            [
             0.5,
             "#f7f7f7"
            ],
            [
             0.6,
             "#e6f5d0"
            ],
            [
             0.7,
             "#b8e186"
            ],
            [
             0.8,
             "#7fbc41"
            ],
            [
             0.9,
             "#4d9221"
            ],
            [
             1,
             "#276419"
            ]
           ],
           "sequential": [
            [
             0,
             "#0d0887"
            ],
            [
             0.1111111111111111,
             "#46039f"
            ],
            [
             0.2222222222222222,
             "#7201a8"
            ],
            [
             0.3333333333333333,
             "#9c179e"
            ],
            [
             0.4444444444444444,
             "#bd3786"
            ],
            [
             0.5555555555555556,
             "#d8576b"
            ],
            [
             0.6666666666666666,
             "#ed7953"
            ],
            [
             0.7777777777777778,
             "#fb9f3a"
            ],
            [
             0.8888888888888888,
             "#fdca26"
            ],
            [
             1,
             "#f0f921"
            ]
           ],
           "sequentialminus": [
            [
             0,
             "#0d0887"
            ],
            [
             0.1111111111111111,
             "#46039f"
            ],
            [
             0.2222222222222222,
             "#7201a8"
            ],
            [
             0.3333333333333333,
             "#9c179e"
            ],
            [
             0.4444444444444444,
             "#bd3786"
            ],
            [
             0.5555555555555556,
             "#d8576b"
            ],
            [
             0.6666666666666666,
             "#ed7953"
            ],
            [
             0.7777777777777778,
             "#fb9f3a"
            ],
            [
             0.8888888888888888,
             "#fdca26"
            ],
            [
             1,
             "#f0f921"
            ]
           ]
          },
          "colorway": [
           "#636efa",
           "#EF553B",
           "#00cc96",
           "#ab63fa",
           "#FFA15A",
           "#19d3f3",
           "#FF6692",
           "#B6E880",
           "#FF97FF",
           "#FECB52"
          ],
          "font": {
           "color": "#2a3f5f"
          },
          "geo": {
           "bgcolor": "white",
           "lakecolor": "white",
           "landcolor": "#E5ECF6",
           "showlakes": true,
           "showland": true,
           "subunitcolor": "white"
          },
          "hoverlabel": {
           "align": "left"
          },
          "hovermode": "closest",
          "mapbox": {
           "style": "light"
          },
          "paper_bgcolor": "white",
          "plot_bgcolor": "#E5ECF6",
          "polar": {
           "angularaxis": {
            "gridcolor": "white",
            "linecolor": "white",
            "ticks": ""
           },
           "bgcolor": "#E5ECF6",
           "radialaxis": {
            "gridcolor": "white",
            "linecolor": "white",
            "ticks": ""
           }
          },
          "scene": {
           "xaxis": {
            "backgroundcolor": "#E5ECF6",
            "gridcolor": "white",
            "gridwidth": 2,
            "linecolor": "white",
            "showbackground": true,
            "ticks": "",
            "zerolinecolor": "white"
           },
           "yaxis": {
            "backgroundcolor": "#E5ECF6",
            "gridcolor": "white",
            "gridwidth": 2,
            "linecolor": "white",
            "showbackground": true,
            "ticks": "",
            "zerolinecolor": "white"
           },
           "zaxis": {
            "backgroundcolor": "#E5ECF6",
            "gridcolor": "white",
            "gridwidth": 2,
            "linecolor": "white",
            "showbackground": true,
            "ticks": "",
            "zerolinecolor": "white"
           }
          },
          "shapedefaults": {
           "line": {
            "color": "#2a3f5f"
           }
          },
          "ternary": {
           "aaxis": {
            "gridcolor": "white",
            "linecolor": "white",
            "ticks": ""
           },
           "baxis": {
            "gridcolor": "white",
            "linecolor": "white",
            "ticks": ""
           },
           "bgcolor": "#E5ECF6",
           "caxis": {
            "gridcolor": "white",
            "linecolor": "white",
            "ticks": ""
           }
          },
          "title": {
           "x": 0.05
          },
          "xaxis": {
           "automargin": true,
           "gridcolor": "white",
           "linecolor": "white",
           "ticks": "",
           "title": {
            "standoff": 15
           },
           "zerolinecolor": "white",
           "zerolinewidth": 2
          },
          "yaxis": {
           "automargin": true,
           "gridcolor": "white",
           "linecolor": "white",
           "ticks": "",
           "title": {
            "standoff": 15
           },
           "zerolinecolor": "white",
           "zerolinewidth": 2
          }
         }
        }
       }
      }
     },
     "metadata": {},
     "output_type": "display_data"
    }
   ],
   "source": [
    "plot_data = [\n",
    "    plotly.graph_objects.Mesh3d(\n",
    "                                x=global_x, \n",
    "                                y=global_y,\n",
    "                                z=global_z,\n",
    "                                intensity=global_z\n",
    "                                )        \n",
    "    ]\n",
    "fig = plotly.graph_objects.Figure(data=plot_data)\n",
    "fig.update_layout()"
   ]
  }
 ],
 "metadata": {
  "kernelspec": {
   "display_name": "experiments",
   "language": "python",
   "name": "python3"
  },
  "language_info": {
   "codemirror_mode": {
    "name": "ipython",
    "version": 3
   },
   "file_extension": ".py",
   "mimetype": "text/x-python",
   "name": "python",
   "nbconvert_exporter": "python",
   "pygments_lexer": "ipython3",
   "version": "3.9.18"
  }
 },
 "nbformat": 4,
 "nbformat_minor": 5
}
