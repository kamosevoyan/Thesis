{
 "cells": [
  {
   "cell_type": "code",
   "execution_count": null,
   "id": "9661f33c",
   "metadata": {},
   "outputs": [],
   "source": [
    "import numpy\n",
    "import matplotlib.pyplot as plt\n",
    "from tqdm import tqdm"
   ]
  },
  {
   "cell_type": "markdown",
   "id": "684edd8a",
   "metadata": {},
   "source": [
    "# First order"
   ]
  },
  {
   "cell_type": "code",
   "execution_count": null,
   "id": "7b8756c7",
   "metadata": {},
   "outputs": [],
   "source": [
    "def euler_method(x_initial, y_initial, step, n_iter, f):\n",
    "    h = step\n",
    "    x = [x_initial]\n",
    "    y = [y_initial]\n",
    "\n",
    "    for it in tqdm(range(n_iter)):\n",
    "        y.append(y[-1] + h * f(x[-1], y[-1]))\n",
    "        x.append(x[-1] + h)\n",
    "\n",
    "    return x, y"
   ]
  },
  {
   "cell_type": "code",
   "execution_count": null,
   "id": "3120ae56",
   "metadata": {},
   "outputs": [],
   "source": [
    "def hadamard_original_method(x_initial, y_initial, step, n_iter, f, n_approx):\n",
    "    h = step\n",
    "    x = [x_initial]\n",
    "    y = [y_initial]\n",
    "    y_approxs = []\n",
    "\n",
    "    for it in tqdm(range(n_iter)):\n",
    "        y_approx = y[-1]\n",
    "        y_approxs.append([y_approx])\n",
    "\n",
    "        for _ in range(n_approx):\n",
    "            y_approx = y[-1] + (f(x[-1], y[-1]) + f(x[-1] + h, y_approx)) / 2 * h\n",
    "            y_approxs[-1].append(y_approx)\n",
    "\n",
    "        y.append(y_approx)\n",
    "\n",
    "        x.append(x[-1] + h)\n",
    "\n",
    "    return x, y, y_approxs"
   ]
  },
  {
   "cell_type": "code",
   "execution_count": null,
   "id": "b7874e56",
   "metadata": {},
   "outputs": [],
   "source": [
    "def hadamard_modified_method(x_initial, y_initial, step, n_iter, f):\n",
    "    h = step\n",
    "    x = [x_initial]\n",
    "    y = [y_initial]\n",
    "    y_approxs = []\n",
    "\n",
    "    for it in tqdm(range(n_iter)):\n",
    "        tmp = y[-1] + h * f(x[-1], y[-1])\n",
    "        y.append(y[-1] + h * (f(x[-1], y[-1]) + f(x[-1] + h, tmp)) / 2)\n",
    "        x.append(x[-1] + h)\n",
    "        y_approxs.append(tmp)\n",
    "\n",
    "    return x, y, y_approxs"
   ]
  },
  {
   "cell_type": "code",
   "execution_count": null,
   "id": "2545bed8",
   "metadata": {},
   "outputs": [],
   "source": [
    "fig, ax = plt.subplots(figsize=(10, 10))\n",
    "ax.axis(\"equal\")\n",
    "f = lambda x, y: x**3 + y**2\n",
    "x_initial = 0\n",
    "y_initial = 0.5\n",
    "step = 0.01\n",
    "n_iter = 120\n",
    "n_approx = 1\n",
    "\n",
    "x, y = euler_method(x_initial, y_initial, step, n_iter, f)\n",
    "plt.plot(x, y, \"--\", color=\"blue\")\n",
    "x, y, _ = hadamard_original_method(\n",
    "    x_initial, y_initial, step, n_iter, f, n_approx=n_approx\n",
    ")\n",
    "plt.plot(x, y, \"--\", color=\"green\")\n",
    "x, y, _ = hadamard_modified_method(x_initial, y_initial, step, n_iter, f)\n",
    "plt.plot(x, y, \"--\", color=\"red\")\n",
    "plt.legend([\"Euler\", f\"Hadamard n={n_approx}\", \"Hadamars modified\"])\n",
    "plt.show()"
   ]
  },
  {
   "cell_type": "markdown",
   "id": "4c3a4fbd",
   "metadata": {},
   "source": [
    "# Second order"
   ]
  },
  {
   "cell_type": "code",
   "execution_count": null,
   "id": "7053665a",
   "metadata": {},
   "outputs": [],
   "source": [
    "def euler_method_second(x_initial, y_initial, u_initial, step, n_iter, f):\n",
    "    h = step\n",
    "    x = [x_initial]\n",
    "    y = [y_initial]\n",
    "    u = [u_initial]\n",
    "\n",
    "    #     for it in tqdm(range(n_iter)):\n",
    "    for it in range(n_iter):\n",
    "        y.append(y[-1] + h * u[-1])\n",
    "        u.append(u[-1] + h * f(x[-1], y[-1], u[-1]))\n",
    "        x.append(x[-1] + h)\n",
    "\n",
    "    return x, y, u"
   ]
  },
  {
   "cell_type": "code",
   "execution_count": null,
   "id": "6e5261d7",
   "metadata": {},
   "outputs": [],
   "source": [
    "def hadamard_original_method_second(\n",
    "    x_initial, y_initial, u_initial, step, n_iter, f, n_approx\n",
    "):\n",
    "    h = step\n",
    "    x = [x_initial]\n",
    "    y = [y_initial]\n",
    "    u = [u_initial]\n",
    "\n",
    "    for it in tqdm(range(n_iter)):\n",
    "        y_approx = y[-1]\n",
    "        u_approx = u[-1]\n",
    "\n",
    "        for _ in range(n_approx):\n",
    "            y_approx = y[-1] + (u[-1] + u_approx) / 2 * h\n",
    "\n",
    "            u_approx = (\n",
    "                u[-1]\n",
    "                + (f(x[-1], y[-1], u[-1]) + f(x[-1] + h, y_approx, u_approx)) / 2 * h\n",
    "            )\n",
    "\n",
    "        y.append(y_approx)\n",
    "        u.append(u_approx)\n",
    "\n",
    "        x.append(x[-1] + h)\n",
    "\n",
    "    return x, y, u"
   ]
  },
  {
   "cell_type": "code",
   "execution_count": null,
   "id": "c6317487",
   "metadata": {
    "scrolled": false
   },
   "outputs": [],
   "source": [
    "fig, ax = plt.subplots(figsize=(4, 4))\n",
    "f = lambda x, y, u: (1 - u**2) / (1 + u**2)\n",
    "x_initial = 0\n",
    "y_initial = 0\n",
    "u_initial = 0\n",
    "step = 1 / 100\n",
    "n_iter = 100\n",
    "x_1, y_1, u_1 = euler_method_second(x_initial, y_initial, u_initial, step, n_iter, f)\n",
    "plt.plot(x_1, y_1, color=\"blue\")\n",
    "plt.show()"
   ]
  },
  {
   "cell_type": "code",
   "execution_count": null,
   "id": "190a3525",
   "metadata": {},
   "outputs": [],
   "source": [
    "%matplotlib widget\n",
    "ax = plt.axes(projection=\"3d\")\n",
    "ax.plot3D(x_1, y_1, u_1, \"gray\")\n",
    "plt.show()"
   ]
  },
  {
   "cell_type": "markdown",
   "id": "7f04a0a3",
   "metadata": {},
   "source": [
    "## Sturm-Liouville problem"
   ]
  },
  {
   "cell_type": "code",
   "execution_count": null,
   "id": "ebb6a114",
   "metadata": {},
   "outputs": [],
   "source": [
    "f = lambda x, y, u: 1 / (x**2 + y**2)\n",
    "f = lambda x, y, u: -numpy.sin(y) - u / 10"
   ]
  },
  {
   "cell_type": "code",
   "execution_count": null,
   "id": "9557d604",
   "metadata": {},
   "outputs": [],
   "source": [
    "fig, ax = plt.subplots(figsize=(10, 10))\n",
    "x_initial = 0\n",
    "y_initial = 1\n",
    "u_initial = 1\n",
    "step = 1 / 1000\n",
    "n_iter = 10000\n",
    "\n",
    "for u_initial in numpy.arange(-5, 5, 0.1):\n",
    "    x_1, y_1, u_1 = euler_method_second(\n",
    "        x_initial, y_initial, u_initial, step, n_iter, f\n",
    "    )\n",
    "    ax.plot(x_1, y_1, color=\"blue\")\n",
    "plt.show()"
   ]
  }
 ],
 "metadata": {
  "kernelspec": {
   "display_name": "Python 3 (ipykernel)",
   "language": "python",
   "name": "python3"
  },
  "language_info": {
   "codemirror_mode": {
    "name": "ipython",
    "version": 3
   },
   "file_extension": ".py",
   "mimetype": "text/x-python",
   "name": "python",
   "nbconvert_exporter": "python",
   "pygments_lexer": "ipython3",
   "version": "3.9.12"
  }
 },
 "nbformat": 4,
 "nbformat_minor": 5
}
