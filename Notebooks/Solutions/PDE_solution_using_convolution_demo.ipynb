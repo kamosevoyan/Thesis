{
 "cells": [
  {
   "cell_type": "code",
   "execution_count": null,
   "id": "dc8d2240",
   "metadata": {},
   "outputs": [],
   "source": [
    "import torch\n",
    "from tqdm import tqdm\n",
    "import matplotlib.pyplot as plt\n",
    "from scipy.ndimage import convolve, generate_binary_structure\n",
    "import numpy"
   ]
  },
  {
   "cell_type": "markdown",
   "id": "263d06b6",
   "metadata": {},
   "source": [
    "# Laplace equation"
   ]
  },
  {
   "cell_type": "code",
   "execution_count": null,
   "id": "e45bff36",
   "metadata": {},
   "outputs": [],
   "source": [
    "def apply_boundary(z):\n",
    "    z[:, +0] *= 0\n",
    "    z[:, -1] *= 0\n",
    "    z[+0, :] *= 0\n",
    "    z[-1, :] *= 0"
   ]
  },
  {
   "cell_type": "code",
   "execution_count": null,
   "id": "530fd656",
   "metadata": {},
   "outputs": [],
   "source": [
    "def f(x, y):\n",
    "    return torch.zeros_like(x)"
   ]
  },
  {
   "cell_type": "code",
   "execution_count": null,
   "id": "b1d370c6",
   "metadata": {},
   "outputs": [],
   "source": [
    "tx = torch.linspace(0, 3, 100)\n",
    "ty = torch.linspace(0, 3, 100)\n",
    "h = (tx[-1] - tx[0]) / (tx.numel() - 1)\n",
    "x, y = torch.meshgrid(tx, ty, indexing=\"ij\")"
   ]
  },
  {
   "cell_type": "code",
   "execution_count": null,
   "id": "10230814",
   "metadata": {},
   "outputs": [],
   "source": [
    "z = torch.zeros_like(x) - 1"
   ]
  },
  {
   "cell_type": "code",
   "execution_count": null,
   "id": "f3b33b13",
   "metadata": {},
   "outputs": [],
   "source": [
    "operator = torch.zeros(3, 3)\n",
    "operator[[0, 1, 1, 2], [1, 0, 2, 1]] = 1\n",
    "operator = operator.reshape(1, 1, 3, 3) / 4"
   ]
  },
  {
   "cell_type": "code",
   "execution_count": null,
   "id": "d008b193",
   "metadata": {},
   "outputs": [],
   "source": [
    "E = []"
   ]
  },
  {
   "cell_type": "code",
   "execution_count": null,
   "id": "6e3d79a8",
   "metadata": {},
   "outputs": [],
   "source": [
    "for j in range(100):\n",
    "    z_updated = torch.nn.functional.conv2d(\n",
    "        z[None, None, ...], weight=operator, stride=1, padding=1\n",
    "    )[0, 0]\n",
    "    z_updated -= h**2 * f(x, y)\n",
    "    apply_boundary(z_updated)\n",
    "\n",
    "    error = ((z - z_updated) ** 2).mean()\n",
    "    E.append(error.item())\n",
    "    z = z_updated"
   ]
  },
  {
   "cell_type": "code",
   "execution_count": null,
   "id": "95521bdb",
   "metadata": {},
   "outputs": [],
   "source": [
    "fig, ax = plt.subplots()\n",
    "ax.plot(E)\n",
    "plt.show()"
   ]
  },
  {
   "cell_type": "code",
   "execution_count": null,
   "id": "bcfa272e",
   "metadata": {},
   "outputs": [],
   "source": [
    "%matplotlib widget\n",
    "fig = plt.figure(figsize=(8, 8))\n",
    "ax = plt.axes(projection=\"3d\")\n",
    "ax.plot_surface(x, y, z, color=\"blue\")\n",
    "plt.show()"
   ]
  },
  {
   "cell_type": "markdown",
   "id": "34829750",
   "metadata": {},
   "source": [
    "# Biharmonic equation"
   ]
  },
  {
   "cell_type": "code",
   "execution_count": null,
   "id": "330c3f28",
   "metadata": {},
   "outputs": [],
   "source": [
    "def f(x, y):\n",
    "    return torch.ones_like(x)"
   ]
  },
  {
   "cell_type": "code",
   "execution_count": null,
   "id": "893b306c",
   "metadata": {},
   "outputs": [],
   "source": [
    "def apply_boundary(z):\n",
    "    z[:, +0] *= 0\n",
    "    z[:, -1] *= 0\n",
    "\n",
    "    z[+0, :] *= 0\n",
    "    z[-1, :] *= 0"
   ]
  },
  {
   "cell_type": "code",
   "execution_count": null,
   "id": "c5c1eb6d",
   "metadata": {},
   "outputs": [],
   "source": [
    "def apply_neuman_boundary(z):\n",
    "    z[:, +1] = z[:, +0]\n",
    "    z[:, -2] = z[:, -1]\n",
    "\n",
    "    z[+1, :] = z[+0, :]\n",
    "    z[-2, :] = z[-1, :]"
   ]
  },
  {
   "cell_type": "code",
   "execution_count": null,
   "id": "78e80fe4",
   "metadata": {},
   "outputs": [],
   "source": [
    "tx = torch.linspace(0, 3, 100)\n",
    "ty = torch.linspace(0, 3, 100)\n",
    "h = (tx[-1] - tx[0]) / (tx.numel() - 1)\n",
    "x, y = torch.meshgrid(tx, ty, indexing=\"ij\")"
   ]
  },
  {
   "cell_type": "code",
   "execution_count": null,
   "id": "ae16f1eb",
   "metadata": {},
   "outputs": [],
   "source": [
    "z = torch.zeros_like(x)"
   ]
  },
  {
   "cell_type": "code",
   "execution_count": null,
   "id": "fecb4ec5",
   "metadata": {},
   "outputs": [],
   "source": [
    "operator = torch.tensor(\n",
    "    [\n",
    "        [+0, +0, -1, +0, +0],\n",
    "        [+0, -2, +8, -2, +0],\n",
    "        [-1, +8, +0, +8, -1],\n",
    "        [+0, -2, +8, -2, +0],\n",
    "        [+0, +0, -1, +0, +0],\n",
    "    ]\n",
    ")"
   ]
  },
  {
   "cell_type": "code",
   "execution_count": null,
   "id": "a299efcc",
   "metadata": {},
   "outputs": [],
   "source": [
    "operator = operator.reshape(1, 1, 5, 5) / 20"
   ]
  },
  {
   "cell_type": "code",
   "execution_count": null,
   "id": "fadd10c5",
   "metadata": {},
   "outputs": [],
   "source": [
    "E = []"
   ]
  },
  {
   "cell_type": "code",
   "execution_count": null,
   "id": "7081e338",
   "metadata": {},
   "outputs": [],
   "source": [
    "for j in range(20):\n",
    "    z_updated = torch.nn.functional.conv2d(\n",
    "        z[None, None, ...],\n",
    "        weight=operator,\n",
    "        stride=1,\n",
    "        padding=\"same\",\n",
    "    )[0, 0]\n",
    "    z_updated -= h**4 * f(x, y)\n",
    "\n",
    "    apply_neuman_boundary(z_updated)\n",
    "    apply_boundary(z_updated)\n",
    "\n",
    "    error = ((z - z_updated) ** 2).max()\n",
    "    E.append(error.item())\n",
    "    z = z_updated"
   ]
  },
  {
   "cell_type": "code",
   "execution_count": null,
   "id": "eb835218",
   "metadata": {},
   "outputs": [],
   "source": [
    "fig, ax = plt.subplots()\n",
    "ax.imshow(z, cmap=\"gray\")\n",
    "plt.show()"
   ]
  },
  {
   "cell_type": "code",
   "execution_count": null,
   "id": "f9d65512",
   "metadata": {},
   "outputs": [],
   "source": [
    "fig, ax = plt.subplots()\n",
    "ax.plot(E)\n",
    "plt.show()"
   ]
  },
  {
   "cell_type": "code",
   "execution_count": null,
   "id": "c64d042f",
   "metadata": {},
   "outputs": [],
   "source": [
    "%matplotlib widget\n",
    "fig = plt.figure(figsize=(8, 8))\n",
    "ax = plt.axes(projection=\"3d\")\n",
    "ax.plot_surface(x, y, z, color=\"blue\")"
   ]
  }
 ],
 "metadata": {
  "kernelspec": {
   "display_name": "Python 3 (ipykernel)",
   "language": "python",
   "name": "python3"
  },
  "language_info": {
   "codemirror_mode": {
    "name": "ipython",
    "version": 3
   },
   "file_extension": ".py",
   "mimetype": "text/x-python",
   "name": "python",
   "nbconvert_exporter": "python",
   "pygments_lexer": "ipython3",
   "version": "3.9.12"
  }
 },
 "nbformat": 4,
 "nbformat_minor": 5
}
