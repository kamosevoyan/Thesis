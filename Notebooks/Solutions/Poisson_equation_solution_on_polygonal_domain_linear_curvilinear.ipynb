{
 "cells": [
  {
   "cell_type": "code",
   "execution_count": null,
   "id": "d77dd589",
   "metadata": {},
   "outputs": [],
   "source": [
    "import numpy as np\n",
    "import matplotlib.pyplot as plt\n",
    "import dill\n",
    "import sympy\n",
    "from tqdm import tqdm\n",
    "from triangle import triangulate\n",
    "from utils import is_extreme_boundary\n",
    "import plotly"
   ]
  },
  {
   "cell_type": "markdown",
   "id": "69ae7294",
   "metadata": {},
   "source": [
    "### Load precomputed integrals"
   ]
  },
  {
   "cell_type": "code",
   "execution_count": null,
   "id": "e0ed5cdf",
   "metadata": {},
   "outputs": [],
   "source": [
    "lagrange_linear_poisson_matrix = dill.load(\n",
    "    open(\"../calculations/lagrange_linear_poisson_matrix\", \"rb\")\n",
    ")\n",
    "lagrange_linear_poisson_right_values = dill.load(\n",
    "    open(\"../calculations/lagrange_linear_poisson_right_values\", \"rb\")\n",
    ")\n",
    "\n",
    "lagrange_linear_poisson_matrix_curvilinear = dill.load(\n",
    "    open(\"../calculations/lagrange_linear_weak_form_functional_cubic_hermite\", \"rb\")\n",
    ")\n",
    "lagrange_linear_poisson_right_values_curvilinear = dill.load(\n",
    "    open(\"../calculations/lagrange_linear_weak_form_right_part_cubic_hermite\", \"rb\")\n",
    ")\n",
    "\n",
    "mapping_function = dill.load(\n",
    "    open(\"../calculations/lagrange_linear_mapping_function\", \"rb\")\n",
    ")\n",
    "\n",
    "interpolation_function = dill.load(open(\"../calculations/lagrange_linear_basis\", \"rb\"))\n"
   ]
  },
  {
   "cell_type": "markdown",
   "id": "6688870c",
   "metadata": {},
   "source": [
    "### Initialize the domain"
   ]
  },
  {
   "cell_type": "markdown",
   "metadata": {},
   "source": [
    "### Parametri curve"
   ]
  },
  {
   "cell_type": "code",
   "execution_count": null,
   "metadata": {},
   "outputs": [],
   "source": [
    "t = sympy.symbols(\"t\")\n",
    "x = 1*sympy.cos(t)\n",
    "y = 1*sympy.sin(t)"
   ]
  },
  {
   "cell_type": "code",
   "execution_count": null,
   "id": "f91988b0",
   "metadata": {},
   "outputs": [],
   "source": [
    "t_param = np.linspace(0, 2 * np.pi, 4, endpoint=False)\n",
    "\n",
    "points = np.stack((sympy.lambdify(t, x)(t_param), sympy.lambdify(t, y)(t_param))).T\n",
    "\n",
    "seg = np.array(\n",
    "    [[j, j + 1] for j in range(points.shape[0] - 1)] + [[points.shape[0] - 1, 0]]\n",
    ")"
   ]
  },
  {
   "cell_type": "code",
   "execution_count": null,
   "metadata": {},
   "outputs": [],
   "source": [
    "directons = np.stack([sympy.lambdify(t, x.diff(t))(t_param), sympy.lambdify(t, y.diff(t))(t_param)]).T"
   ]
  },
  {
   "cell_type": "code",
   "execution_count": null,
   "metadata": {},
   "outputs": [],
   "source": [
    "t_param, dt = np.linspace(0, 2 * np.pi, 1000, endpoint=False, retstep=True)\n",
    "dense_x, dense_y = np.stack([sympy.lambdify(t, x)(t_param), sympy.lambdify(t, y)(t_param)])\n",
    "length = np.sqrt(np.diff(dense_x/dt)**2 + np.diff(dense_y/dt)**2).sum()*dt\n",
    "directons /= length/10"
   ]
  },
  {
   "cell_type": "markdown",
   "id": "929f3e2a",
   "metadata": {},
   "source": [
    "### Run triangulation"
   ]
  },
  {
   "cell_type": "code",
   "execution_count": null,
   "id": "c5092c6f",
   "metadata": {},
   "outputs": [],
   "source": [
    "cndt = triangulate({\"vertices\": points, \"segments\": seg}, opts=\"pq30a0.3594neo1s\")\n",
    "points = cndt[\"vertices\"]\n",
    "triangles = cndt[\"triangles\"]\n",
    "neighbours = cndt[\"neighbors\"]\n",
    "vertex_marker_is_boundary = cndt[\"vertex_markers\"]\n",
    "edges = cndt[\"edges\"]\n",
    "edge_marker_is_boundary = cndt[\"edge_markers\"]\n",
    "\n",
    "print(f\"Total number of points {points.shape[0]}\")"
   ]
  },
  {
   "cell_type": "markdown",
   "id": "ff699281",
   "metadata": {},
   "source": [
    "## Get boundary triangles"
   ]
  },
  {
   "cell_type": "code",
   "execution_count": null,
   "id": "09ba2148",
   "metadata": {},
   "outputs": [],
   "source": [
    "is_boundary_triangle = np.zeros(triangles.shape[0])\n",
    "for pidx in np.where(vertex_marker_is_boundary)[0]:\n",
    "    if not is_extreme_boundary(edges, points, edge_marker_is_boundary, pidx)[0]:\n",
    "        continue\n",
    "    mask = np.any(triangles == pidx, axis=-1)\n",
    "    is_boundary_triangle[mask] += 1\n",
    "\n",
    "is_boundary_triangle = (is_boundary_triangle >= 2)"
   ]
  },
  {
   "cell_type": "markdown",
   "id": "100947d6",
   "metadata": {},
   "source": [
    "### Visualize the triangulation"
   ]
  },
  {
   "cell_type": "code",
   "execution_count": null,
   "id": "f565dd32",
   "metadata": {},
   "outputs": [],
   "source": [
    "%matplotlib inline\n",
    "fig, ax = plt.subplots(figsize=(7, 7))\n",
    "ax.axis(\"equal\")\n",
    "\n",
    "\n",
    "for tidx, element in enumerate(triangles):\n",
    "    if is_boundary_triangle[tidx] == True:\n",
    "\n",
    "        while vertex_marker_is_boundary[element][0] != 0:\n",
    "            tmp = element[0]\n",
    "            element[:-1] = element[1:]\n",
    "            element[-1] = tmp\n",
    "\n",
    "        tt = np.linspace(0, 1, 100)\n",
    "        pts = points[element]\n",
    "                \n",
    "        a = directons[element[1]]\n",
    "        b = directons[element[2]]\n",
    "        \n",
    "        v_22_1 = a[0]\n",
    "        v_22_2 = a[1]\n",
    "        \n",
    "        v_32_1 = -b[0]\n",
    "        v_32_2 = -b[1]\n",
    "        \n",
    "\n",
    "        e1_x, e1_y = mapping_function(tt, 1-tt, pts[0, 0], pts[0, 1], pts[1, 0], pts[1, 1], pts[2, 0], pts[2, 1], v_22_1, v_22_2, v_32_1, v_32_2)[:, 0]\n",
    "        e2_x, e2_y = mapping_function(tt,    0, pts[0, 0], pts[0, 1], pts[1, 0], pts[1, 1], pts[2, 0], pts[2, 1], v_22_1, v_22_2, v_32_1, v_32_2)[:, 0]\n",
    "        e3_x, e3_y = mapping_function(0,    tt, pts[0, 0], pts[0, 1], pts[1, 0], pts[1, 1], pts[2, 0], pts[2, 1], v_22_1, v_22_2, v_32_1, v_32_2)[:, 0]\n",
    "\n",
    "        ax.plot(e1_x, e1_y, color=\"green\", ls=\"-.\")\n",
    "        ax.plot(e2_x, e2_y, color=\"black\")\n",
    "        ax.plot(e3_x, e3_y, color=\"blue\")\n",
    "        \n",
    "        # tmp = points[_]\n",
    "\n",
    "        # a1 = tmp[0] - tmp[1]\n",
    "        # a2 = tmp[0] - tmp[2]\n",
    "\n",
    "        # print(np.cross(a1, a2))\n",
    "                \n",
    "    else:\n",
    "        ax.plot(*points[element[[0, 1]]].T)\n",
    "        ax.plot(*points[element[[1, 2]]].T)\n",
    "        ax.plot(*points[element[[0, 2]]].T)\n",
    "    \n",
    "plt.show()"
   ]
  },
  {
   "cell_type": "code",
   "execution_count": null,
   "id": "7794c76e-c6a7-4bd4-8a99-a66f4a712d02",
   "metadata": {},
   "outputs": [],
   "source": [
    "x, y = sympy.symbols(\"x y\")"
   ]
  },
  {
   "cell_type": "code",
   "execution_count": null,
   "id": "11f78ac7-0cac-4255-9db2-d685fb9c10d3",
   "metadata": {},
   "outputs": [],
   "source": [
    "F = sympy.Float(1)\n",
    "right_vals = np.zeros((points.shape[0]))\n",
    "right_vals[:] = sympy.lambdify((x, y), F)(*points.T)"
   ]
  },
  {
   "cell_type": "code",
   "execution_count": null,
   "id": "021712b5",
   "metadata": {},
   "outputs": [],
   "source": [
    "matrix = np.zeros((points.shape[0], points.shape[0]))\n",
    "b = np.zeros(points.shape[0])\n",
    "\n",
    "for idx, element in enumerate(tqdm(triangles)):\n",
    "    x1, x2, x3 = points[element[0], 0], points[element[1], 0], points[element[2], 0]\n",
    "    y1, y2, y3 = points[element[0], 1], points[element[1], 1], points[element[2], 1]\n",
    "\n",
    "    if is_boundary_triangle[idx]:\n",
    "        while vertex_marker_is_boundary[element][0] != 0:\n",
    "            tmp = element[0]\n",
    "            element[:-1] = element[1:]\n",
    "            element[-1] = tmp\n",
    "            \n",
    "        pts = points[element]\n",
    "        \n",
    "        aa = directons[element[1]]\n",
    "        bb = directons[element[2]]        \n",
    "        \n",
    "        v_22_1 = aa[0]\n",
    "        v_22_2 = aa[1]\n",
    "        \n",
    "        v_32_1 = -bb[0]\n",
    "        v_32_2 = -bb[1]\n",
    "\n",
    "        FF = lagrange_linear_poisson_matrix_curvilinear(x1, y1, x2, y2, x3, y3, v_22_1, v_22_2, v_32_1, v_32_2)\n",
    "        ff = lagrange_linear_poisson_right_values_curvilinear(x1, y1, x2, y2, x3, y3, v_22_1, v_22_2, v_32_1, v_32_2, *right_vals[element])\n",
    "        \n",
    "\n",
    "        for local_point in range(3):\n",
    "            if vertex_marker_is_boundary[element[local_point]] == True:\n",
    "                matrix[element[local_point], element[local_point]] = 1\n",
    "                b[element[local_point]] *= 0\n",
    "            else:\n",
    "                for i in range(3):\n",
    "                    matrix[element[local_point], element[i]] += FF[local_point, i]\n",
    "\n",
    "                b[element[local_point]] -= ff[local_point]\n",
    "                \n",
    "    else:\n",
    "            \n",
    "        delta = x1 * y2 - x1 * y3 - x2 * y1 + x2 * y3 + x3 * y1 - x3 * y2\n",
    "\n",
    "        P_1_x = (-y1 + y3) / delta\n",
    "        P_1_y = (+x1 - x3) / delta\n",
    "\n",
    "        P_2_x = (+y1 - y2) / delta\n",
    "        P_2_y = (-x1 + x2) / delta\n",
    "\n",
    "        arg = [P_1_x, P_2_x, P_1_y, P_2_y, *right_vals[element]]\n",
    "\n",
    "        FF = lagrange_linear_poisson_matrix(x1, y1, x2, y2, x3, y3, )\n",
    "        ff = lagrange_linear_poisson_right_values(x1, y1, x2, y2, x3, y3, *right_vals[element])\n",
    "\n",
    "        for local_point in range(3):\n",
    "            if vertex_marker_is_boundary[element[local_point]] == True:\n",
    "                matrix[element[local_point], element[local_point]] = 1\n",
    "                b[element[local_point]] *= 0\n",
    "            else:\n",
    "                for i in range(3):\n",
    "                    matrix[element[local_point], element[i]] += FF[local_point, i]\n",
    "\n",
    "                b[element[local_point]] -=  ff[local_point]"
   ]
  },
  {
   "cell_type": "code",
   "execution_count": null,
   "id": "5b443da5",
   "metadata": {},
   "outputs": [],
   "source": [
    "F = np.linalg.solve(matrix, b)"
   ]
  },
  {
   "cell_type": "code",
   "execution_count": null,
   "id": "4be4da68",
   "metadata": {},
   "outputs": [],
   "source": [
    "param = np.linspace(0, 1, 10)\n",
    "tx, ty = np.meshgrid(param, param, indexing=\"ij\")\n",
    "mask = ty <= 1 - tx\n",
    "tx = tx[mask]\n",
    "ty = ty[mask]"
   ]
  },
  {
   "cell_type": "code",
   "execution_count": null,
   "id": "209235a3",
   "metadata": {},
   "outputs": [],
   "source": [
    "XX, YY, ZZ = [], [], []\n",
    "\n",
    "for idx, element in enumerate(triangles):\n",
    "    x1, x2, x3 = points[element[0], 0], points[element[1], 0], points[element[2], 0]\n",
    "    y1, y2, y3 = points[element[0], 1], points[element[1], 1], points[element[2], 1]\n",
    "\n",
    "\n",
    "    if is_boundary_triangle[idx]:\n",
    "        while vertex_marker_is_boundary[element][0] != 0:\n",
    "            tmp = element[0]\n",
    "            element[:-1] = element[1:]\n",
    "            element[-1] = tmp\n",
    "            \n",
    "        pts = points[element]\n",
    "        \n",
    "        \n",
    "        aa = directons[element[1]] \n",
    "        bb = directons[element[2]]\n",
    "        \n",
    "        \n",
    "        v_22_1 = aa[0]\n",
    "        v_22_2 = aa[1]\n",
    "        \n",
    "        v_32_1 = -bb[0]\n",
    "        v_32_2 = -bb[1]\n",
    "\n",
    "        e1_x, e1_y = mapping_function(tx, ty, \n",
    "                                      pts[0, 0], pts[0, 1], pts[1, 0], \n",
    "                                      pts[1, 1], pts[2, 0], pts[2, 1], \n",
    "                                      v_22_1, v_22_2, \n",
    "                                      v_32_1, v_32_2)[:, 0]\n",
    "\n",
    "\n",
    "        XX.append(e1_x)\n",
    "        YY.append(e1_y)\n",
    "        \n",
    "        ZZ.append(interpolation_function(tx, ty, \n",
    "                                         pts[0, 0], pts[0, 1], pts[1, 0], \n",
    "                                         pts[1, 1], pts[2, 0], pts[2, 1], \n",
    "                                         v_22_1, v_22_2, \n",
    "                                         v_32_1, v_32_2,\n",
    "                                         F[element[0]], F[element[1]], F[element[2]]))\n",
    "        \n",
    "    else:\n",
    "        XX.append(x1 + tx * (x2 - x1) + ty * (x3 - x1))\n",
    "        YY.append(y1 + tx * (y2 - y1) + ty * (y3 - y1))\n",
    "        ZZ.append(F[element[0]]*(1-tx-ty) + F[element[1]]*tx + F[element[2]]*ty)\n",
    "\n",
    "# XX = np.concatenate(XX)\n",
    "# YY = np.concatenate(YY)\n",
    "# ZZ = np.concatenate(ZZ)"
   ]
  },
  {
   "cell_type": "code",
   "execution_count": null,
   "id": "60f6c200",
   "metadata": {},
   "outputs": [],
   "source": [
    "plot_data = [\n",
    "    plotly.graph_objects.Mesh3d(\n",
    "                                x=xx,\n",
    "                                y=yy,\n",
    "                                z=zz,                                          \n",
    "                                )    \n",
    "    for xx, yy, zz in zip(XX, YY, ZZ) \n",
    "    ]\n",
    "fig = plotly.graph_objects.Figure(data=plot_data)\n",
    "fig.update_layout()\n"
   ]
  }
 ],
 "metadata": {
  "kernelspec": {
   "display_name": "Python 3 (ipykernel)",
   "language": "python",
   "name": "python3"
  },
  "language_info": {
   "codemirror_mode": {
    "name": "ipython",
    "version": 3
   },
   "file_extension": ".py",
   "mimetype": "text/x-python",
   "name": "python",
   "nbconvert_exporter": "python",
   "pygments_lexer": "ipython3",
   "version": "3.9.7"
  }
 },
 "nbformat": 4,
 "nbformat_minor": 5
}
