{
 "cells": [
  {
   "cell_type": "code",
   "execution_count": null,
   "id": "d77dd589",
   "metadata": {},
   "outputs": [],
   "source": [
    "import numpy as np\n",
    "import matplotlib.pyplot as plt\n",
    "import dill\n",
    "import sympy\n",
    "from tqdm import tqdm\n",
    "import gmsh\n",
    "import scipy\n",
    "import numpy as np"
   ]
  },
  {
   "cell_type": "markdown",
   "id": "69ae7294",
   "metadata": {},
   "source": [
    "### Load precomputed integrals"
   ]
  },
  {
   "cell_type": "code",
   "execution_count": null,
   "id": "e0ed5cdf",
   "metadata": {},
   "outputs": [],
   "source": [
    "lagrange_linear_poisson_matrix = dill.load(\n",
    "    open(\"../calculations/lagrange_linear_poisson_matrix\", \"rb\")\n",
    ")\n",
    "\n",
    "lagrange_linear_poisson_right_M_values = dill.load(\n",
    "    open(\"../calculations/lagrange_linear_poisson_right_M_values\", \"rb\")\n",
    ")"
   ]
  },
  {
   "cell_type": "markdown",
   "id": "929f3e2a",
   "metadata": {},
   "source": [
    "### Run triangulation"
   ]
  },
  {
   "cell_type": "code",
   "execution_count": null,
   "metadata": {},
   "outputs": [],
   "source": [
    "gmsh.initialize()\n",
    "gmsh.model.add(\"quad_mesh\")\n",
    "\n",
    "ms = 0.7\n",
    "# Define points\n",
    "point_1 = gmsh.model.geo.addPoint(0, 0, 0, ms)\n",
    "point_2 = gmsh.model.geo.addPoint(1, 1, 0, ms)\n",
    "point_3 = gmsh.model.geo.addPoint(-1, 1, 0, ms)\n",
    "point_4 = gmsh.model.geo.addPoint(-1, -1, 0, ms)\n",
    "point_5 = gmsh.model.geo.addPoint(1, -1, 0, ms)\n",
    "\n",
    "# Define circles\n",
    "arc_1 = gmsh.model.geo.addCircleArc(point_2, point_1, point_3)\n",
    "arc_2 = gmsh.model.geo.addCircleArc(point_3, point_1, point_4)\n",
    "arc_3 = gmsh.model.geo.addCircleArc(point_4, point_1, point_5)\n",
    "arc_4 = gmsh.model.geo.addCircleArc(point_5, point_1, point_2)\n",
    "\n",
    "# arc_1 = gmsh.model.geo.addLine(point_2, point_3)\n",
    "# arc_2 = gmsh.model.geo.addLine(point_3, point_4)\n",
    "# arc_3 = gmsh.model.geo.addLine(point_4, point_5)\n",
    "# arc_4 = gmsh.model.geo.addLine(point_5, point_2)\n",
    "\n",
    "\n",
    "# Define line loop\n",
    "circle = gmsh.model.geo.addCurveLoop([arc_1, arc_2, arc_3, arc_4])\n",
    "\n",
    "# Define plane surface\n",
    "plane = gmsh.model.geo.addPlaneSurface([circle])\n",
    "\n",
    "gmsh.model.geo.synchronize()\n",
    "\n",
    "ms = 6\n",
    "# gmsh.model.mesh.setTransfiniteCurve(arc_1, ms)\n",
    "# gmsh.model.mesh.setTransfiniteCurve(arc_2, ms)\n",
    "# gmsh.model.mesh.setTransfiniteCurve(arc_3, ms)\n",
    "# gmsh.model.mesh.setTransfiniteCurve(arc_4, ms)\n",
    "# gmsh.model.mesh.setTransfiniteSurface(plane)\n",
    "\n",
    "physical_group_curves_tag = gmsh.model.addPhysicalGroup(1, [arc_1, arc_2, arc_3, arc_4], name=\"Boundary curves\")\n",
    "physical_group_surface_tag = gmsh.model.addPhysicalGroup(2, [plane], name=\"Surface\")\n",
    "\n",
    "gmsh.option.setNumber(name=\"Mesh.Smoothing\", value=0)\n",
    "gmsh.model.mesh.generate(2)\n",
    "gmsh.fltk.run()"
   ]
  },
  {
   "cell_type": "code",
   "execution_count": null,
   "metadata": {},
   "outputs": [],
   "source": [
    "import gmsh\n",
    "\n",
    "gmsh.initialize()\n",
    "\n",
    "# Start a new model\n",
    "gmsh.model.add('polygon')\n",
    "\n",
    "# Define the vertices               ######\n",
    "vertices = [(0, 0), (2, 0), (2, 1), (1/8, 1/8), (1, 2), (0, 2)]\n",
    "points = [gmsh.model.geo.addPoint(x, y, 0, 0.1) for x, y in vertices]\n",
    "\n",
    "\n",
    "line_1 = gmsh.model.geo.addLine(points[0], points[1])\n",
    "line_2 = gmsh.model.geo.addLine(points[1], points[2])\n",
    "line_3 = gmsh.model.geo.addLine(points[2], points[3])\n",
    "line_4 = gmsh.model.geo.addLine(points[3], points[0])\n",
    "\n",
    "# Define the curve loops and surfaces\n",
    "curve_loop1 = gmsh.model.geo.addCurveLoop([\n",
    "        line_1,\n",
    "        line_2,\n",
    "        line_3,\n",
    "        line_4\n",
    "])\n",
    "\n",
    "surface1 = gmsh.model.geo.addPlaneSurface([curve_loop1])\n",
    "\n",
    "line_5 = gmsh.model.geo.addLine(points[3], points[4])\n",
    "line_6 = gmsh.model.geo.addLine(points[4], points[5])\n",
    "line_7 = gmsh.model.geo.addLine(points[5], points[0])\n",
    "\n",
    "curve_loop2 = gmsh.model.geo.addCurveLoop([\n",
    "        line_5,\n",
    "        line_6,\n",
    "        line_7,\n",
    "        -line_4,\n",
    "])\n",
    "\n",
    "surface2 = gmsh.model.geo.addPlaneSurface([curve_loop2])\n",
    "\n",
    "\n",
    "num_nodes = 30\n",
    "\n",
    "gmsh.model.geo.mesh.setTransfiniteCurve(line_1, num_nodes)\n",
    "gmsh.model.geo.mesh.setTransfiniteCurve(line_2, num_nodes)\n",
    "gmsh.model.geo.mesh.setTransfiniteCurve(line_3, num_nodes)\n",
    "gmsh.model.geo.mesh.setTransfiniteCurve(line_4, num_nodes)\n",
    "gmsh.model.geo.mesh.setTransfiniteCurve(line_5, num_nodes)\n",
    "gmsh.model.geo.mesh.setTransfiniteCurve(line_6, num_nodes)\n",
    "gmsh.model.geo.mesh.setTransfiniteCurve(line_7, num_nodes)\n",
    "\n",
    "\n",
    "# Set transfinite surfaces\n",
    "gmsh.model.geo.mesh.setTransfiniteSurface(surface1)\n",
    "gmsh.model.geo.mesh.setTransfiniteSurface(surface2)\n",
    "\n",
    "# Synchronize the model and generate 2D mesh\n",
    "gmsh.model.geo.synchronize()\n",
    "\n",
    "physical_group_curves_tag = gmsh.model.addPhysicalGroup(1, [line_1, line_2, line_3, line_5, line_6, line_7], name=\"Boundary curves\")\n",
    "physical_group_surface_tag = gmsh.model.addPhysicalGroup(2, [surface2, surface1], name=\"Surface\")\n",
    "\n",
    "gmsh.model.mesh.generate(2)\n",
    "\n",
    "gmsh.fltk.run()\n"
   ]
  },
  {
   "cell_type": "code",
   "execution_count": null,
   "metadata": {},
   "outputs": [],
   "source": [
    "boundary_node_tags, boundary_node_coords = gmsh.model.mesh.getNodesForPhysicalGroup(1, physical_group_curves_tag)\n",
    "surface_node_tags, points = gmsh.model.mesh.getNodesForPhysicalGroup(2, physical_group_surface_tag)\n",
    "points = points.reshape(-1, 3)[:, :-1]\n",
    "boundary_node_tags = boundary_node_tags - 1"
   ]
  },
  {
   "cell_type": "code",
   "execution_count": null,
   "metadata": {},
   "outputs": [],
   "source": [
    "element_types, element_tags, element_node_tags = gmsh.model.mesh.getElements()\n",
    "triangles = [nodes for elem_type, nodes in zip(element_types, element_node_tags) if elem_type == 2][0]\n",
    "triangles = triangles.reshape(-1, 3).astype(int)\n",
    "triangles = triangles - 1"
   ]
  },
  {
   "cell_type": "code",
   "execution_count": null,
   "metadata": {},
   "outputs": [],
   "source": [
    "edges = [nodes for elem_type, nodes in zip(element_types, element_node_tags) if elem_type == 1][0]\n",
    "edges = edges.reshape(-1, 2).astype(int)\n",
    "edges = edges - 1"
   ]
  },
  {
   "cell_type": "code",
   "execution_count": null,
   "metadata": {},
   "outputs": [],
   "source": [
    "vertex_marker_is_boundary = np.zeros(surface_node_tags.shape[0])\n",
    "vertex_marker_is_boundary[boundary_node_tags] = 1"
   ]
  },
  {
   "cell_type": "code",
   "execution_count": null,
   "id": "7794c76e-c6a7-4bd4-8a99-a66f4a712d02",
   "metadata": {},
   "outputs": [],
   "source": [
    "x, y = sympy.symbols(\"x y\")"
   ]
  },
  {
   "cell_type": "code",
   "execution_count": null,
   "id": "021712b5",
   "metadata": {},
   "outputs": [],
   "source": [
    "matrix = np.zeros((points.shape[0], points.shape[0]))\n",
    "matrix_M = np.zeros((points.shape[0], points.shape[0]))\n",
    "\n",
    "for idx, element in enumerate(tqdm(triangles)):\n",
    "    x1, x2, x3 = points[element[0], 0], points[element[1], 0], points[element[2], 0]\n",
    "    y1, y2, y3 = points[element[0], 1], points[element[1], 1], points[element[2], 1]\n",
    "\n",
    "    FF = lagrange_linear_poisson_matrix(x1, y1, x2, y2, x3, y3)\n",
    "    FF_M = lagrange_linear_poisson_right_M_values(x1, y1, x2, y2, x3, y3)\n",
    "\n",
    "    for local_point in range(3):        \n",
    "        for i in range(3):\n",
    "            matrix[element[local_point], element[i]] += FF[local_point, i]                \n",
    "            matrix_M[element[local_point], element[i]] += FF_M[local_point, i]\n",
    "                            \n",
    "for bidx in np.where(vertex_marker_is_boundary == 1)[0]:\n",
    "    matrix[bidx, :] *= 0\n",
    "    matrix[:, bidx] *= 0\n",
    "    matrix[bidx, bidx] = 1\n",
    "    \n",
    "    matrix_M[bidx, :] *= 0\n",
    "    matrix_M[:, bidx] *= 0\n",
    "    matrix_M[bidx, bidx] = 1"
   ]
  },
  {
   "cell_type": "code",
   "execution_count": null,
   "metadata": {},
   "outputs": [],
   "source": [
    "_x_ = points[:, 0]\n",
    "_y_ = points[:, 1]"
   ]
  },
  {
   "cell_type": "code",
   "execution_count": null,
   "metadata": {},
   "outputs": [],
   "source": [
    "eigenvalues, eigenvectors = scipy.sparse.linalg.eigsh(A=matrix, M=matrix_M, k=matrix.shape[0]-1, which=\"BE\")\n",
    "eigenvectors = eigenvectors.T"
   ]
  },
  {
   "cell_type": "code",
   "execution_count": null,
   "metadata": {},
   "outputs": [],
   "source": [
    "eigenvalues, eigenvectors = scipy.linalg.eigh(a=matrix, b=matrix_M)\n",
    "eigenvectors = eigenvectors.T"
   ]
  },
  {
   "cell_type": "code",
   "execution_count": null,
   "metadata": {},
   "outputs": [],
   "source": [
    "n_boundary = np.count_nonzero(vertex_marker_is_boundary)"
   ]
  },
  {
   "cell_type": "code",
   "execution_count": null,
   "metadata": {},
   "outputs": [],
   "source": [
    "# plt.scatter(_x_, _y_, c=eigenvectors[n_boundary+23], cmap=\"magma\")\n",
    "# plt.axis(\"equal\")\n",
    "# plt.show()"
   ]
  },
  {
   "cell_type": "code",
   "execution_count": null,
   "id": "de944f66",
   "metadata": {
    "scrolled": true,
    "tags": []
   },
   "outputs": [],
   "source": [
    "import plotly\n",
    "\n",
    "eidx = n_boundary+8\n",
    "plot_data = [\n",
    "    plotly.graph_objects.Mesh3d(\n",
    "                                x=_x_, \n",
    "                                y=_y_,\n",
    "                                z=eigenvectors[eidx],\n",
    "                                intensity=eigenvectors[eidx],\n",
    "                                i = triangles[:, 0],\n",
    "                                j = triangles[:, 1],\n",
    "                                k = triangles[:, 2],\n",
    "                                )\n",
    "    ]\n",
    "fig = plotly.graph_objects.Figure(data=plot_data)\n",
    "fig.update_layout()"
   ]
  },
  {
   "cell_type": "code",
   "execution_count": null,
   "metadata": {},
   "outputs": [],
   "source": []
  }
 ],
 "metadata": {
  "kernelspec": {
   "display_name": "Python 3 (ipykernel)",
   "language": "python",
   "name": "python3"
  },
  "language_info": {
   "codemirror_mode": {
    "name": "ipython",
    "version": 3
   },
   "file_extension": ".py",
   "mimetype": "text/x-python",
   "name": "python",
   "nbconvert_exporter": "python",
   "pygments_lexer": "ipython3",
   "version": "3.9.18"
  }
 },
 "nbformat": 4,
 "nbformat_minor": 5
}
