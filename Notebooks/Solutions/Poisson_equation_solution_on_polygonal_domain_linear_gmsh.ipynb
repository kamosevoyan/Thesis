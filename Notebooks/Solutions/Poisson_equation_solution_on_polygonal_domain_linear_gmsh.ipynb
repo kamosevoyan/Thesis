{
 "cells": [
  {
   "cell_type": "code",
   "execution_count": null,
   "id": "d77dd589",
   "metadata": {},
   "outputs": [],
   "source": [
    "import matplotlib.pyplot as plt\n",
    "import dill\n",
    "import sympy\n",
    "from tqdm import tqdm\n",
    "from scipy.sparse import lil_matrix, csc_matrix\n",
    "from scipy.sparse.linalg import spsolve"
   ]
  },
  {
   "cell_type": "markdown",
   "id": "69ae7294",
   "metadata": {},
   "source": [
    "### Load precomputed integrals"
   ]
  },
  {
   "cell_type": "code",
   "execution_count": null,
   "id": "e0ed5cdf",
   "metadata": {},
   "outputs": [],
   "source": [
    "lagrange_linear_poisson_matrix = dill.load(\n",
    "    open(\"../calculations/lagrange_linear_poisson_matrix\", \"rb\")\n",
    ")\n",
    "lagrange_linear_poisson_right_values = dill.load(\n",
    "    open(\"../calculations/lagrange_linear_poisson_right_values\", \"rb\")\n",
    ")"
   ]
  },
  {
   "cell_type": "markdown",
   "id": "6688870c",
   "metadata": {},
   "source": [
    "### Initialize the domain"
   ]
  },
  {
   "cell_type": "code",
   "execution_count": null,
   "id": "f91988b0",
   "metadata": {},
   "outputs": [],
   "source": [
    "import gmsh\n",
    "import numpy as np\n",
    "import matplotlib.pyplot as plt\n",
    "\n",
    "\n",
    "gmsh.initialize()\n",
    "gmsh.model.add(\"quad_mesh\")\n",
    "\n",
    "ms = 0.25\n",
    "# Define points\n",
    "point_1 = gmsh.model.geo.addPoint(0, 0, 0, ms)\n",
    "point_2 = gmsh.model.geo.addPoint(1, 0, 0, ms)\n",
    "point_3 = gmsh.model.geo.addPoint(0, 1, 0, ms)\n",
    "point_4 = gmsh.model.geo.addPoint(-1, 0, 0, ms)\n",
    "point_5 = gmsh.model.geo.addPoint(0, -1, 0, ms)\n",
    "\n",
    "# Define circles\n",
    "arc_1 = gmsh.model.geo.addCircleArc(point_2, point_1, point_3)\n",
    "arc_2 = gmsh.model.geo.addCircleArc(point_3, point_1, point_4)\n",
    "arc_3 = gmsh.model.geo.addCircleArc(point_4, point_1, point_5)\n",
    "arc_4 = gmsh.model.geo.addCircleArc(point_5, point_1, point_2)\n",
    "\n",
    "# Define line loop\n",
    "circle = gmsh.model.geo.addCurveLoop([arc_1, arc_2, arc_3, arc_4])\n",
    "\n",
    "# Define plane surface\n",
    "plane = gmsh.model.geo.addPlaneSurface([circle])\n",
    "\n",
    "gmsh.model.geo.synchronize()\n",
    "\n",
    "ms = 100\n",
    "gmsh.model.mesh.setTransfiniteCurve(arc_1, ms)\n",
    "gmsh.model.mesh.setTransfiniteCurve(arc_2, ms)\n",
    "gmsh.model.mesh.setTransfiniteCurve(arc_3, ms)\n",
    "gmsh.model.mesh.setTransfiniteCurve(arc_4, ms)\n",
    "gmsh.model.mesh.setTransfiniteSurface(plane)\n",
    "\n",
    "physical_group_curves_tag = gmsh.model.addPhysicalGroup(1, [arc_1, arc_2, arc_3, arc_4], name=\"Boundary curves\")\n",
    "physical_group_surface_tag = gmsh.model.addPhysicalGroup(2, [plane], name=\"Surface\")\n",
    "\n",
    "gmsh.option.setNumber(name=\"Mesh.Smoothing\", value=20)\n",
    "gmsh.model.mesh.generate(2)\n",
    "gmsh.fltk.run()"
   ]
  },
  {
   "cell_type": "markdown",
   "metadata": {},
   "source": [
    "# Triangles"
   ]
  },
  {
   "cell_type": "code",
   "execution_count": null,
   "metadata": {},
   "outputs": [],
   "source": [
    "boundary_node_tags, boundary_node_coords = gmsh.model.mesh.getNodesForPhysicalGroup(1, physical_group_curves_tag)\n",
    "surface_node_tags, points = gmsh.model.mesh.getNodesForPhysicalGroup(2, physical_group_surface_tag)\n",
    "points = points.reshape(-1, 3)[:, :-1]\n",
    "boundary_node_tags = boundary_node_tags - 1"
   ]
  },
  {
   "cell_type": "code",
   "execution_count": null,
   "metadata": {},
   "outputs": [],
   "source": [
    "element_types, element_tags, element_node_tags = gmsh.model.mesh.getElements()\n",
    "triangles = [nodes for elem_type, nodes in zip(element_types, element_node_tags) if elem_type == 2][0]\n",
    "triangles = triangles.reshape(-1, 3)\n",
    "triangles = triangles - 1"
   ]
  },
  {
   "cell_type": "code",
   "execution_count": null,
   "metadata": {},
   "outputs": [],
   "source": [
    "vertex_marker_is_boundary = np.zeros(surface_node_tags.shape[0])\n",
    "vertex_marker_is_boundary[boundary_node_tags] = 1"
   ]
  },
  {
   "cell_type": "code",
   "execution_count": null,
   "metadata": {},
   "outputs": [],
   "source": [
    "all_edges = triangles[:, [[0, 1], [1, 2], [0, 2]]].reshape(-1, 2)\n",
    "all_edges = np.sort(all_edges, axis=-1)\n",
    "all_edges, indices_1, indices, counts = np.unique(all_edges, axis=0, return_counts=True, return_inverse=True, return_index=True)\n",
    "edge_marker_is_boundary = (counts == 1).astype(int)[:, None]"
   ]
  },
  {
   "cell_type": "markdown",
   "metadata": {},
   "source": [
    "## Triangles to edges"
   ]
  },
  {
   "cell_type": "code",
   "execution_count": null,
   "metadata": {},
   "outputs": [],
   "source": [
    "triangles_to_edges = indices.reshape(-1, 3)"
   ]
  },
  {
   "cell_type": "markdown",
   "metadata": {},
   "source": [
    "## Vertices to edges"
   ]
  },
  {
   "cell_type": "code",
   "execution_count": null,
   "metadata": {},
   "outputs": [],
   "source": [
    "vertices_to_edges = []\n",
    "\n",
    "for i in range(points.shape[0]):\n",
    "    vertices_to_edges.append([])\n",
    "\n",
    "for eidx, edge in enumerate(all_edges):\n",
    "    for pidx in edge:\n",
    "        vertices_to_edges[pidx].append(eidx)"
   ]
  },
  {
   "cell_type": "markdown",
   "metadata": {},
   "source": [
    "## Edges to edges"
   ]
  },
  {
   "cell_type": "code",
   "execution_count": null,
   "metadata": {},
   "outputs": [],
   "source": [
    "edges_to_edges = []\n",
    "\n",
    "for i in range(all_edges.shape[0]):\n",
    "    edges_to_edges.append([])\n",
    "\n",
    "for eidx, edge in enumerate(all_edges):\n",
    "    \n",
    "    edges_to_edges[eidx].extend(vertices_to_edges[edge[0]])\n",
    "    edges_to_edges[eidx].extend(vertices_to_edges[edge[1]])\n",
    "    edges_to_edges[eidx] = list(set(edges_to_edges[eidx]))\n",
    "    edges_to_edges[eidx].remove(eidx)"
   ]
  },
  {
   "cell_type": "markdown",
   "metadata": {},
   "source": [
    "## Edges to triangles"
   ]
  },
  {
   "cell_type": "code",
   "execution_count": null,
   "metadata": {},
   "outputs": [],
   "source": [
    "edges_to_triangles = []\n",
    "\n",
    "for i in range(all_edges.shape[0]):\n",
    "    edges_to_triangles.append([])\n",
    "\n",
    "for cidx, edge in enumerate(triangles_to_edges):\n",
    "    \n",
    "    for eidx in edge:\n",
    "        edges_to_triangles[eidx].append(cidx)"
   ]
  },
  {
   "cell_type": "markdown",
   "metadata": {},
   "source": [
    "## Vertices to triangles"
   ]
  },
  {
   "cell_type": "code",
   "execution_count": null,
   "metadata": {},
   "outputs": [],
   "source": [
    "vertices_to_triangles = []\n",
    "\n",
    "for i in range(points.shape[0]):\n",
    "    vertices_to_triangles.append([])\n",
    "\n",
    "for cidx, cell in enumerate(triangles):\n",
    "    for pidx in cell:\n",
    "        vertices_to_triangles[pidx].append(cidx)"
   ]
  },
  {
   "cell_type": "markdown",
   "metadata": {},
   "source": [
    "## Triangles to triangles"
   ]
  },
  {
   "cell_type": "code",
   "execution_count": null,
   "metadata": {},
   "outputs": [],
   "source": [
    "triangles_to_triangles = []\n",
    "\n",
    "for i in range(triangles.shape[0]):\n",
    "    triangles_to_triangles.append([])\n",
    "    \n",
    "for e2t in edges_to_triangles:\n",
    "    \n",
    "    if len(e2t) == 1:        \n",
    "        triangles_to_triangles[e2t[0]].append(-1)\n",
    "    else:\n",
    "        triangles_to_triangles[e2t[0]].append(e2t[1])\n",
    "        triangles_to_triangles[e2t[1]].append(e2t[0])"
   ]
  },
  {
   "cell_type": "code",
   "execution_count": null,
   "id": "7794c76e-c6a7-4bd4-8a99-a66f4a712d02",
   "metadata": {},
   "outputs": [],
   "source": [
    "x, y = sympy.symbols(\"x y\")"
   ]
  },
  {
   "cell_type": "code",
   "execution_count": null,
   "id": "11f78ac7-0cac-4255-9db2-d685fb9c10d3",
   "metadata": {},
   "outputs": [],
   "source": [
    "F = sympy.Float(1)\n",
    "right_vals = np.zeros((points.shape[0]))\n",
    "right_vals[:] = sympy.lambdify((x, y), F)(*points.T)\n",
    "\n",
    "G = sympy.Float(0)\n",
    "right_vals_G = np.zeros((points.shape[0]))\n",
    "right_vals_G[:] = sympy.lambdify((x, y), G)(*points.T)"
   ]
  },
  {
   "cell_type": "code",
   "execution_count": null,
   "metadata": {},
   "outputs": [],
   "source": [
    "batched_triangles = points[triangles]"
   ]
  },
  {
   "cell_type": "code",
   "execution_count": null,
   "metadata": {},
   "outputs": [],
   "source": [
    "bilinear_from = lagrange_linear_poisson_matrix(batched_triangles[:, 0, 0],\n",
    "                                    batched_triangles[:, 0, 1],\n",
    "                                    batched_triangles[:, 1, 0],\n",
    "                                    batched_triangles[:, 1, 1],\n",
    "                                    batched_triangles[:, 2, 0],\n",
    "                                    batched_triangles[:, 2, 1],\n",
    "                                    ).transpose(2, 0, 1)\n",
    "\n",
    "righ_hand_side = lagrange_linear_poisson_right_values(batched_triangles[:, 0, 0],\n",
    "                                        batched_triangles[:, 0, 1],\n",
    "                                        batched_triangles[:, 1, 0],\n",
    "                                        batched_triangles[:, 1, 1],\n",
    "                                        batched_triangles[:, 2, 0],\n",
    "                                        batched_triangles[:, 2, 1],\n",
    "                                        right_vals[triangles[:, 0]],\n",
    "                                        right_vals[triangles[:, 1]],\n",
    "                                        right_vals[triangles[:, 2]],\n",
    "                                        ).squeeze().T"
   ]
  },
  {
   "cell_type": "code",
   "execution_count": null,
   "metadata": {},
   "outputs": [],
   "source": [
    "b = np.zeros((points.shape[0]), dtype=np.float64)\n",
    "\n",
    "idx, local_point, i = np.meshgrid(np.arange(triangles.shape[0]), np.arange(3), np.arange(3), indexing='ij')\n",
    "\n",
    "row_indices = triangles[idx, local_point].ravel()\n",
    "col_indices = triangles[idx, i].ravel()\n",
    "values = bilinear_from[idx, local_point, i].ravel()\n",
    "\n",
    "mask = (vertex_marker_is_boundary[triangles[idx, local_point]].ravel() == 0) & (vertex_marker_is_boundary[triangles[idx, i]].ravel() == 0)\n",
    "m_mask = vertex_marker_is_boundary[triangles[idx, local_point]].ravel() == 1\n",
    "\n",
    "np.subtract.at(b, col_indices[m_mask], right_vals_G[row_indices[m_mask]] * values[m_mask])\n",
    "\n",
    "V = np.concatenate([np.ones(int(vertex_marker_is_boundary.sum())), values[mask]])\n",
    "R = np.concatenate([np.where(vertex_marker_is_boundary == 1)[0], row_indices[mask]])\n",
    "C = np.concatenate([np.where(vertex_marker_is_boundary == 1)[0], col_indices[mask]])\n",
    "\n",
    "matrix = csc_matrix((V, (R, C)), shape=(points.shape[0], points.shape[0]), dtype=np.float64)\n",
    "\n",
    "\n",
    "idx, local_point = np.meshgrid(np.arange(triangles.shape[0]), np.arange(3), indexing='ij')\n",
    "\n",
    "row_indices = triangles[idx, local_point].ravel()\n",
    "values = righ_hand_side[idx, local_point].ravel()\n",
    "mask = vertex_marker_is_boundary[triangles[idx, local_point]].ravel() == 0\n",
    "v_mask = vertex_marker_is_boundary == 1\n",
    "\n",
    "np.subtract.at(b, row_indices[mask], values[mask])\n",
    "\n",
    "b[v_mask] = right_vals_G[v_mask]"
   ]
  },
  {
   "cell_type": "code",
   "execution_count": null,
   "id": "5b443da5",
   "metadata": {},
   "outputs": [],
   "source": [
    "F = spsolve(matrix, b)"
   ]
  },
  {
   "cell_type": "code",
   "execution_count": null,
   "id": "395d9cad",
   "metadata": {},
   "outputs": [],
   "source": [
    "_x_ = points[:, 0]\n",
    "_y_ = points[:, 1]"
   ]
  },
  {
   "cell_type": "code",
   "execution_count": null,
   "id": "de944f66",
   "metadata": {
    "scrolled": true,
    "tags": []
   },
   "outputs": [],
   "source": [
    "import plotly\n",
    "plot_data = [\n",
    "    plotly.graph_objects.Mesh3d(\n",
    "                                x=_x_, \n",
    "                                y=_y_,\n",
    "                                z=F,\n",
    "                                intensity=F\n",
    "                                ),\n",
    "    ]\n",
    "fig = plotly.graph_objects.Figure(data=plot_data)\n",
    "fig.update_layout()"
   ]
  },
  {
   "cell_type": "code",
   "execution_count": null,
   "metadata": {},
   "outputs": [],
   "source": [
    "import scipy"
   ]
  },
  {
   "cell_type": "code",
   "execution_count": null,
   "metadata": {},
   "outputs": [],
   "source": [
    "eigenvalues, eigenvectors = scipy.sparse.linalg.eigsh(A=matrix, k=1000)"
   ]
  },
  {
   "cell_type": "code",
   "execution_count": null,
   "metadata": {},
   "outputs": [],
   "source": [
    "eigenvectors = eigenvectors.T"
   ]
  },
  {
   "cell_type": "code",
   "execution_count": null,
   "metadata": {},
   "outputs": [],
   "source": [
    "import plotly\n",
    "\n",
    "eigh = eigenvectors[-411]\n",
    "plot_data = [\n",
    "    plotly.graph_objects.Mesh3d(\n",
    "                                x=_x_, \n",
    "                                y=_y_,\n",
    "                                z=eigh,\n",
    "                                intensity=eigh\n",
    "                                ),\n",
    "    ]\n",
    "fig = plotly.graph_objects.Figure(data=plot_data)\n",
    "fig.update_layout()"
   ]
  },
  {
   "cell_type": "code",
   "execution_count": null,
   "metadata": {},
   "outputs": [],
   "source": []
  }
 ],
 "metadata": {
  "kernelspec": {
   "display_name": "Python 3 (ipykernel)",
   "language": "python",
   "name": "python3"
  },
  "language_info": {
   "codemirror_mode": {
    "name": "ipython",
    "version": 3
   },
   "file_extension": ".py",
   "mimetype": "text/x-python",
   "name": "python",
   "nbconvert_exporter": "python",
   "pygments_lexer": "ipython3",
   "version": "3.9.18"
  }
 },
 "nbformat": 4,
 "nbformat_minor": 5
}
