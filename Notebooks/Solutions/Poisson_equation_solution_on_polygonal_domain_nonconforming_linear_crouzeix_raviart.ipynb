{
 "cells": [
  {
   "cell_type": "code",
   "execution_count": null,
   "metadata": {},
   "outputs": [],
   "source": [
    "import sympy\n",
    "import numpy as np\n",
    "import matplotlib.pyplot as plt\n",
    "from sympy import lambdify\n",
    "import dill\n",
    "dill.settings[\"recurse\"] = True\n",
    "from tqdm.notebook import tqdm\n",
    "import plotly\n",
    "from triangle import triangulate"
   ]
  },
  {
   "cell_type": "code",
   "execution_count": null,
   "metadata": {},
   "outputs": [],
   "source": [
    "weak_form_functional_lambdified = dill.load(open(\"../calculations/nonconforming_linear_crouzeix_raviart_weak_form_functional\", \"rb\"))\n",
    "weak_form_right_part_lambdified = dill.load(open(\"../calculations/nonconforming_linear_crouzeix_raviart_weak_form_right_part\", \"rb\"))\n",
    "interpolation_function = dill.load(open(\"../calculations/nonconforming_linear_crouzeix_raviart_basis\", \"rb\"))\n",
    "mapping_function_lambdified = dill.load(open(\"../calculations/nonconforming_linear_crouzeix_raviart_mapping_function\", \"rb\"))"
   ]
  },
  {
   "cell_type": "code",
   "execution_count": null,
   "metadata": {},
   "outputs": [],
   "source": [
    "t = np.linspace(0, 2 * np.pi, 100, endpoint=False)\n",
    "\n",
    "points = np.stack((np.cos(t), np.sin(t))).T\n",
    "\n",
    "seg = np.array(\n",
    "    [[j, j + 1] for j in range(points.shape[0] - 1)] + [[points.shape[0] - 1, 0]]\n",
    ")"
   ]
  },
  {
   "cell_type": "code",
   "execution_count": null,
   "metadata": {},
   "outputs": [],
   "source": [
    "cndt = triangulate({\"vertices\": points, \"segments\": seg}, opts=\"pq30a0.1neo1s\")\n",
    "points = cndt[\"vertices\"]\n",
    "triangles = cndt[\"triangles\"]\n",
    "neighbours = cndt[\"neighbors\"]\n",
    "vertex_marker_is_boundary = cndt[\"vertex_markers\"]\n",
    "edges = cndt[\"edges\"]\n",
    "edge_marker_is_boundary = cndt[\"edge_markers\"]\n",
    "\n",
    "print(f\"Total number of points {points.shape[0]}\")"
   ]
  },
  {
   "cell_type": "code",
   "execution_count": null,
   "metadata": {},
   "outputs": [],
   "source": [
    "%matplotlib inline\n",
    "fig, ax = plt.subplots(figsize=(7, 7))\n",
    "ax.axis(\"equal\")\n",
    "\n",
    "cl = [\"black\", \"brown\"]\n",
    "\n",
    "for eidx, edge in enumerate(edges):\n",
    "    ax.plot(\n",
    "        points[edge][:, 0],\n",
    "        points[edge][:, 1],\n",
    "        color=cl[edge_marker_is_boundary[eidx][0]],\n",
    "    )\n",
    "\n",
    "ax.scatter(*points.T, c=vertex_marker_is_boundary)\n",
    "\n",
    "ax.set_xlim([points[:, 0].min() - 1 / 2, points[:, 0].max() + 1 / 2])\n",
    "ax.set_ylim([points[:, 1].min() - 1 / 2, points[:, 1].max() + 1 / 2])\n",
    "\n",
    "fig.tight_layout()\n",
    "plt.tight_layout()\n",
    "\n",
    "plt.show()"
   ]
  },
  {
   "cell_type": "code",
   "execution_count": null,
   "metadata": {},
   "outputs": [],
   "source": [
    "x, y = sympy.symbols(\"x y\")"
   ]
  },
  {
   "cell_type": "code",
   "execution_count": null,
   "metadata": {},
   "outputs": [],
   "source": [
    "F = sympy.Float(1)\n",
    "right_vals = np.zeros((edges.shape[0]))\n",
    "right_vals[:] = sympy.lambdify((x, y), F)(*points[edges].mean(axis=-1).T)"
   ]
  },
  {
   "cell_type": "code",
   "execution_count": null,
   "metadata": {},
   "outputs": [],
   "source": [
    "def get_local_edges(points, triangle, sorted_edges):\n",
    "    result = []\n",
    "\n",
    "    for pair in triangle[np.array([[1, 2], [0, 2], [0, 1]])]:\n",
    "        pairs_sorted_idx = np.argsort(pair)\n",
    "        idx = np.where(np.all(pair[pairs_sorted_idx] == sorted_edges, axis=-1))[0][\n",
    "            0\n",
    "        ]\n",
    "        result.append(idx)\n",
    "\n",
    "    return result\n",
    "\n",
    "\n",
    "triangle_to_edge = np.zeros_like(triangles)\n",
    "edges_sorted_idx = np.argsort(edges, axis=-1)\n",
    "sorted_edges = np.take_along_axis(edges, edges_sorted_idx, axis=-1)\n",
    "\n",
    "# associate edges with triangles\n",
    "for tidx, triangle in enumerate(triangles):\n",
    "    result = get_local_edges(points, triangle, sorted_edges)\n",
    "    triangle_to_edge[tidx] = result\n",
    "    \n",
    "triangle_to_edge.sort(axis=-1)"
   ]
  },
  {
   "cell_type": "code",
   "execution_count": null,
   "metadata": {},
   "outputs": [],
   "source": [
    "edge_middpoints = points[edges].mean(axis=-2)"
   ]
  },
  {
   "cell_type": "code",
   "execution_count": null,
   "metadata": {},
   "outputs": [],
   "source": [
    "matrix = np.zeros((edges.shape[0], edges.shape[0]))\n",
    "b = np.zeros(edges.shape[0])\n",
    "\n",
    "for tidx, element in enumerate(tqdm(triangle_to_edge)):\n",
    "    \n",
    "    x1, x2, x3 = edge_middpoints[element[0], 0], edge_middpoints[element[1], 0], edge_middpoints[element[2], 0]\n",
    "    y1, y2, y3 = edge_middpoints[element[0], 1], edge_middpoints[element[1], 1], edge_middpoints[element[2], 1]\n",
    "    \n",
    "    wff = weak_form_functional_lambdified(x1, y1, x2, y2, x3, y3)\n",
    "    wfrp = weak_form_right_part_lambdified(\n",
    "                                            x1, y1, x2, y2, x3, y3,\n",
    "                                            right_vals[element[0]], right_vals[element[1]], right_vals[element[2]]\n",
    "                                           )\n",
    "    \n",
    "    for local_edge in range(3):\n",
    "        \n",
    "        if edge_marker_is_boundary[element[local_edge]] == True:\n",
    "            \n",
    "            matrix[element[local_edge], element[local_edge]] = 1\n",
    "            b[element[local_edge]] = 0                                            \n",
    "        else:\n",
    "            for dofidx in range(3):\n",
    "                \n",
    "                matrix[element[local_edge], element[dofidx]] += 2 * wff[local_edge, dofidx]                \n",
    "            b[element[local_edge]] -= 2 * wfrp[local_edge]"
   ]
  },
  {
   "cell_type": "code",
   "execution_count": null,
   "metadata": {},
   "outputs": [],
   "source": [
    "F = np.linalg.solve(matrix, b)"
   ]
  },
  {
   "cell_type": "code",
   "execution_count": null,
   "metadata": {},
   "outputs": [],
   "source": [
    "param = np.linspace(0, 1, 10)\n",
    "gridx, gridy = np.meshgrid(param, param, indexing=\"ij\")\n",
    "\n",
    "mask = (gridy <= 1 - gridx)\n",
    "\n",
    "gridx = gridx[mask]\n",
    "gridy = gridy[mask]"
   ]
  },
  {
   "cell_type": "code",
   "execution_count": null,
   "metadata": {},
   "outputs": [],
   "source": [
    "global_x, global_y, global_z = [], [], []\n",
    "\n",
    "for element in triangle_to_edge:\n",
    "    \n",
    "    x1, x2, x3 = edge_middpoints[element[0], 0], edge_middpoints[element[1], 0], edge_middpoints[element[2], 0]\n",
    "    y1, y2, y3 = edge_middpoints[element[0], 1], edge_middpoints[element[1], 1], edge_middpoints[element[2], 1]\n",
    "    \n",
    "    physical_x, physical_y = mapping_function_lambdified(x1, y1, x2, y2, x3, y3, gridx, gridy)[:, 0]\n",
    "    \n",
    "    physical_z = interpolation_function(\n",
    "                                        x1, y1, x2, y2, x3, y3,\n",
    "                                        F[element[0]], F[element[1]], F[element[2]],\n",
    "                                        gridx, gridy\n",
    "                                        )\n",
    "    \n",
    "    global_x.append(physical_x)\n",
    "    global_y.append(physical_y)\n",
    "    global_z.append(physical_z)\n",
    "    \n",
    "# global_x = np.concatenate(global_x)\n",
    "# global_y = np.concatenate(global_y)\n",
    "# global_z = np.concatenate(global_z)"
   ]
  },
  {
   "cell_type": "code",
   "execution_count": null,
   "metadata": {},
   "outputs": [],
   "source": [
    "# plot_data = [\n",
    "#     plotly.graph_objects.Mesh3d(\n",
    "#                                 x=global_x, \n",
    "#                                 y=global_y,\n",
    "#                                 z=global_z,\n",
    "#                                 intensity=global_z\n",
    "#                                 )        \n",
    "#     ]\n",
    "# fig = plotly.graph_objects.Figure(data=plot_data)\n",
    "# fig.update_layout()"
   ]
  },
  {
   "cell_type": "code",
   "execution_count": null,
   "metadata": {},
   "outputs": [],
   "source": [
    "plot_data = [\n",
    "    plotly.graph_objects.Mesh3d(\n",
    "                                x=gx, \n",
    "                                y=gy,\n",
    "                                z=gz, \n",
    "                                )\n",
    "        for gx, gy, gz in zip(global_x, global_y, global_z)\n",
    "    ]\n",
    "fig = plotly.graph_objects.Figure(data=plot_data)\n",
    "fig.update_layout()"
   ]
  },
  {
   "cell_type": "code",
   "execution_count": null,
   "metadata": {},
   "outputs": [],
   "source": [
    "true_solution = (global_x**2 + global_y**2 - 1)/4\n",
    "(global_z - true_solution).max()"
   ]
  }
 ],
 "metadata": {
  "kernelspec": {
   "display_name": "base",
   "language": "python",
   "name": "python3"
  },
  "language_info": {
   "codemirror_mode": {
    "name": "ipython",
    "version": 3
   },
   "file_extension": ".py",
   "mimetype": "text/x-python",
   "name": "python",
   "nbconvert_exporter": "python",
   "pygments_lexer": "ipython3",
   "version": "3.9.18"
  }
 },
 "nbformat": 4,
 "nbformat_minor": 2
}
