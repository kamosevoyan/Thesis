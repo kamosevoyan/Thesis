{
 "cells": [
  {
   "cell_type": "code",
   "execution_count": null,
   "id": "d77dd589",
   "metadata": {},
   "outputs": [],
   "source": [
    "import matplotlib.pyplot as plt\n",
    "import dill\n",
    "import sympy\n",
    "from tqdm import tqdm\n",
    "from scipy.sparse import lil_matrix\n",
    "from scipy.sparse.linalg import spsolve"
   ]
  },
  {
   "cell_type": "markdown",
   "id": "69ae7294",
   "metadata": {},
   "source": [
    "### Load precomputed integrals"
   ]
  },
  {
   "cell_type": "code",
   "execution_count": null,
   "id": "e0ed5cdf",
   "metadata": {},
   "outputs": [],
   "source": [
    "bilinear_form = dill.load(open(\"../calculations/lagrange_quadratic_weak_form_functional_cubic_hermite\", \"rb\"))\n",
    "right_hand_side = dill.load(open(\"../calculations/lagrange_quadratic_weak_form_right_part_cubic_hermite\", \"rb\"))\n",
    "interpolation_function = dill.load(open(\"../calculations/lagrange_quadratic_basis\", \"rb\"))\n",
    "mapping_function = dill.load(open(\"../calculations/lagrange_quadratic_mapping_function\", \"rb\"))"
   ]
  },
  {
   "cell_type": "markdown",
   "id": "6688870c",
   "metadata": {},
   "source": [
    "### Initialize the domain"
   ]
  },
  {
   "cell_type": "code",
   "execution_count": 124,
   "id": "f91988b0",
   "metadata": {},
   "outputs": [],
   "source": [
    "import gmsh\n",
    "import numpy as np\n",
    "import matplotlib.pyplot as plt\n",
    "\n",
    "\n",
    "gmsh.initialize()\n",
    "gmsh.model.add(\"tri_mesh\")\n",
    "\n",
    "ms = 0.5\n",
    "# Define points\n",
    "point_1 = gmsh.model.geo.addPoint(0, 0, 0, ms)\n",
    "point_2 = gmsh.model.geo.addPoint(1, 0, 0, ms)\n",
    "point_3 = gmsh.model.geo.addPoint(0, 1, 0, ms)\n",
    "point_4 = gmsh.model.geo.addPoint(-1, 0, 0, ms)\n",
    "point_5 = gmsh.model.geo.addPoint(0, -1, 0, ms)\n",
    "\n",
    "# Define circles\n",
    "arc_1 = gmsh.model.geo.addCircleArc(point_2, point_1, point_3)\n",
    "arc_2 = gmsh.model.geo.addCircleArc(point_3, point_1, point_4)\n",
    "arc_3 = gmsh.model.geo.addCircleArc(point_4, point_1, point_5)\n",
    "arc_4 = gmsh.model.geo.addCircleArc(point_5, point_1, point_2)\n",
    "\n",
    "# Define line loop\n",
    "circle = gmsh.model.geo.addCurveLoop([arc_1, arc_2, arc_3, arc_4])\n",
    "\n",
    "# Define plane surface\n",
    "plane = gmsh.model.geo.addPlaneSurface([circle])\n",
    "\n",
    "gmsh.model.geo.synchronize()\n",
    "\n",
    "ms = 20\n",
    "# gmsh.model.mesh.setTransfiniteCurve(arc_1, ms)\n",
    "# gmsh.model.mesh.setTransfiniteCurve(arc_2, ms)\n",
    "# gmsh.model.mesh.setTransfiniteCurve(arc_3, ms)\n",
    "# gmsh.model.mesh.setTransfiniteCurve(arc_4, ms)\n",
    "# gmsh.model.mesh.setTransfiniteSurface(plane)\n",
    "\n",
    "physical_group_curves_tag = gmsh.model.addPhysicalGroup(1, [arc_1, arc_2, arc_3, arc_4], name=\"Boundary curves\")\n",
    "physical_group_surface_tag = gmsh.model.addPhysicalGroup(2, [plane], name=\"Surface\")\n",
    "\n",
    "gmsh.option.setNumber(name=\"Mesh.SecondOrderLinear\", value=0)\n",
    "gmsh.model.mesh.generate(2)\n",
    "gmsh.model.mesh.optimize(\"UntangleMeshGeometry\")\n",
    "gmsh.model.mesh.setOrder(2)\n",
    "gmsh.fltk.run()"
   ]
  },
  {
   "cell_type": "markdown",
   "metadata": {},
   "source": [
    "# Triangles"
   ]
  },
  {
   "cell_type": "code",
   "execution_count": null,
   "metadata": {},
   "outputs": [],
   "source": [
    "boundary_node_tags, boundary_node_coords = gmsh.model.mesh.getNodesForPhysicalGroup(1, physical_group_curves_tag)\n",
    "surface_node_tags, points = gmsh.model.mesh.getNodesForPhysicalGroup(2, physical_group_surface_tag)\n",
    "points = points.reshape(-1, 3)[:, :-1]\n",
    "boundary_node_tags = boundary_node_tags - 1"
   ]
  },
  {
   "cell_type": "code",
   "execution_count": null,
   "metadata": {},
   "outputs": [],
   "source": [
    "element_types, element_tags, element_node_tags = gmsh.model.mesh.getElements()\n",
    "triangles = [nodes for elem_type, nodes in zip(element_types, element_node_tags) if elem_type == 9][0]\n",
    "triangles = triangles.reshape(-1, 6)\n",
    "triangles[:, 3:] = triangles[:, [4, 5, 3]]\n",
    "triangles = triangles - 1"
   ]
  },
  {
   "cell_type": "code",
   "execution_count": null,
   "metadata": {},
   "outputs": [],
   "source": [
    "vertex_marker_is_boundary = np.zeros(surface_node_tags.shape[0])\n",
    "vertex_marker_is_boundary[boundary_node_tags] = 1"
   ]
  },
  {
   "cell_type": "code",
   "execution_count": null,
   "id": "7794c76e-c6a7-4bd4-8a99-a66f4a712d02",
   "metadata": {},
   "outputs": [],
   "source": [
    "x, y = sympy.symbols(\"x y\")"
   ]
  },
  {
   "cell_type": "code",
   "execution_count": null,
   "id": "11f78ac7-0cac-4255-9db2-d685fb9c10d3",
   "metadata": {},
   "outputs": [],
   "source": [
    "F = sympy.Float(0)\n",
    "right_vals = np.zeros((points.shape[0]))\n",
    "right_vals[:] = sympy.lambdify((x, y), F)(*points.T)\n",
    "\n",
    "G = sympy.Piecewise((x, x<y), (0, True))\n",
    "right_vals_G = np.zeros((points.shape[0]))\n",
    "right_vals_G[:] = sympy.lambdify((x, y), G)(*points.T)"
   ]
  },
  {
   "cell_type": "code",
   "execution_count": null,
   "metadata": {},
   "outputs": [],
   "source": [
    "from scipy.sparse import csr_matrix, coo_matrix, csc_matrix"
   ]
  },
  {
   "cell_type": "code",
   "execution_count": null,
   "id": "021712b5",
   "metadata": {},
   "outputs": [],
   "source": [
    "matrix = lil_matrix((points.shape[0], points.shape[0]))\n",
    "b = np.zeros((points.shape[0]))\n",
    "\n",
    "for idx, element in enumerate(tqdm(triangles)):\n",
    "\n",
    "    args = (\n",
    "            points[element[0], 0], points[element[0], 1], \n",
    "            points[element[1], 0], points[element[1], 1], \n",
    "            points[element[2], 0], points[element[2], 1],\n",
    "            points[element[3], 0], points[element[3], 1],\n",
    "            points[element[4], 0], points[element[4], 1],\n",
    "            points[element[5], 0], points[element[5], 1],\n",
    "            )\n",
    "    \n",
    "    fargs = (right_vals[element[0]], right_vals[element[1]], right_vals[element[2]], \n",
    "             right_vals[element[3]], right_vals[element[4]], right_vals[element[5]])\n",
    "           \n",
    "    for local_point in range(6):\n",
    "        if vertex_marker_is_boundary[element[local_point]] == 1:\n",
    "            for i in range(6):\n",
    "                b[element[i]] -= right_vals_G[element[local_point]]*bilinear_form(*args)[local_point, i]\n",
    "                \n",
    "            b[element[local_point]] = right_vals_G[element[local_point]]\n",
    "        else:             \n",
    "            for i in range(6):\n",
    "                matrix[element[local_point], element[i]] += bilinear_form(*args)[local_point, i]\n",
    "            \n",
    "            b[element[local_point]] -= right_hand_side(*args, *fargs)[local_point]\n",
    "            \n",
    "            \n",
    "bv = np.where(vertex_marker_is_boundary)[0]\n",
    "for b_ in tqdm(bv):\n",
    "    matrix[b_, :] = 0\n",
    "    matrix[:, b_] = 0\n",
    "    matrix[b_, b_] = 1\n",
    "    b[b_] = right_vals_G[b_]"
   ]
  },
  {
   "cell_type": "code",
   "execution_count": null,
   "metadata": {},
   "outputs": [],
   "source": [
    "# plt.imshow(matrix.toarray() !=0 )"
   ]
  },
  {
   "cell_type": "code",
   "execution_count": null,
   "id": "5b443da5",
   "metadata": {},
   "outputs": [],
   "source": [
    "F = spsolve(matrix, b)"
   ]
  },
  {
   "cell_type": "code",
   "execution_count": null,
   "id": "395d9cad",
   "metadata": {},
   "outputs": [],
   "source": [
    "param = np.linspace(0, 1, 10)\n",
    "gridx, gridy = np.meshgrid(param, param, indexing=\"ij\")\n",
    "\n",
    "mask = (gridy <= 1 - gridx)\n",
    "\n",
    "gridx = gridx[mask]\n",
    "gridy = gridy[mask]"
   ]
  },
  {
   "cell_type": "code",
   "execution_count": null,
   "metadata": {},
   "outputs": [],
   "source": [
    "global_x, global_y, global_z = [], [], []\n",
    "\n",
    "for element in triangles:\n",
    "    \n",
    "    x0, x1, x2, x3, x4, x5 = (\n",
    "                                points[element[0], 0], points[element[1], 0], \n",
    "                                points[element[2], 0], points[element[3], 0], \n",
    "                                points[element[4], 0], points[element[5], 0]\n",
    "    )\n",
    "    y0, y1, y2, y3, y4, y5 = (\n",
    "                                points[element[0], 1], points[element[1], 1], \n",
    "                                points[element[2], 1], points[element[3], 1], \n",
    "                                points[element[4], 1], points[element[5], 1] \n",
    "    )\n",
    "    \n",
    "    physical_x, physical_y = mapping_function(\n",
    "                                                gridx, gridy, \n",
    "                                                x0, y0, \n",
    "                                                x1, y1, \n",
    "                                                x2, y2, \n",
    "                                                x3, y3, \n",
    "                                                x4, y4, \n",
    "                                                x5, y5\n",
    "                                ).squeeze()\n",
    "    \n",
    "    physical_z = interpolation_function(\n",
    "                                        gridx, gridy,\n",
    "                                        \n",
    "                                        x0, y0,                                         \n",
    "                                        x1, y1,                                        \n",
    "                                        x2, y2,                                                \n",
    "                                        x3, y3,                                        \n",
    "                                        x4, y4,                                        \n",
    "                                        x5, y5,\n",
    "                                        \n",
    "                                        F[element[0]],                                                                     \n",
    "                                        F[element[1]],                                         \n",
    "                                        F[element[2]],                                         \n",
    "                                        F[element[3]],                                         \n",
    "                                        F[element[4]],                                         \n",
    "                                        F[element[5]],   \n",
    "                                                                              \n",
    "                                        ).squeeze()\n",
    "    \n",
    "    global_x.append(physical_x)\n",
    "    global_y.append(physical_y)\n",
    "    global_z.append(physical_z)\n",
    "    \n",
    "global_x = np.concatenate(global_x)\n",
    "global_y = np.concatenate(global_y)\n",
    "global_z = np.concatenate(global_z)"
   ]
  },
  {
   "cell_type": "code",
   "execution_count": null,
   "id": "de944f66",
   "metadata": {
    "scrolled": true,
    "tags": []
   },
   "outputs": [],
   "source": [
    "import plotly\n",
    "plot_data = [\n",
    "    plotly.graph_objects.Mesh3d(\n",
    "                                x=global_x, \n",
    "                                y=global_y,\n",
    "                                z=global_z,\n",
    "                                intensity=global_z\n",
    "                                )\n",
    "    ]\n",
    "fig = plotly.graph_objects.Figure(data=plot_data)\n",
    "fig.update_layout()"
   ]
  }
 ],
 "metadata": {
  "kernelspec": {
   "display_name": "Python 3 (ipykernel)",
   "language": "python",
   "name": "python3"
  },
  "language_info": {
   "codemirror_mode": {
    "name": "ipython",
    "version": 3
   },
   "file_extension": ".py",
   "mimetype": "text/x-python",
   "name": "python",
   "nbconvert_exporter": "python",
   "pygments_lexer": "ipython3",
   "version": "3.9.18"
  }
 },
 "nbformat": 4,
 "nbformat_minor": 5
}
