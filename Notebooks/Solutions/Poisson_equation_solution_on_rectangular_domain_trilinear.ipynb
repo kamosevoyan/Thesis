{
 "cells": [
  {
   "cell_type": "code",
   "execution_count": null,
   "id": "6d8feb48",
   "metadata": {},
   "outputs": [],
   "source": [
    "import numpy as np\n",
    "from tqdm import tqdm\n",
    "import matplotlib.pyplot as plt\n",
    "import matplotlib\n",
    "from scipy.interpolate import RegularGridInterpolator"
   ]
  },
  {
   "cell_type": "code",
   "execution_count": null,
   "id": "d6ff5106",
   "metadata": {},
   "outputs": [],
   "source": [
    "def f(x, y, z):\n",
    "    return x * y * z"
   ]
  },
  {
   "cell_type": "markdown",
   "id": "ab29507f",
   "metadata": {},
   "source": [
    "# Number of points per coordinate"
   ]
  },
  {
   "cell_type": "code",
   "execution_count": null,
   "id": "659b8f68",
   "metadata": {},
   "outputs": [],
   "source": [
    "n_points_x = 10\n",
    "n_points_y = 10\n",
    "n_points_z = 10"
   ]
  },
  {
   "cell_type": "markdown",
   "id": "11a0bb56",
   "metadata": {},
   "source": [
    "# Construct the necessary matrices"
   ]
  },
  {
   "cell_type": "code",
   "execution_count": null,
   "id": "e2687be3",
   "metadata": {},
   "outputs": [],
   "source": [
    "(tx, h_1) = np.linspace(0, 1, n_points_x, retstep=True)\n",
    "(ty, h_2) = np.linspace(0, 1, n_points_y, retstep=True)\n",
    "(tz, h_3) = np.linspace(0, 1, n_points_z, retstep=True)\n",
    "grid_x, grid_y, grid_z = np.meshgrid(tx, ty, tz, indexing=\"ij\")"
   ]
  },
  {
   "cell_type": "code",
   "execution_count": null,
   "id": "c33bb114",
   "metadata": {},
   "outputs": [],
   "source": [
    "h1, h2, h3 = h_1, h_2, h_3"
   ]
  },
  {
   "cell_type": "code",
   "execution_count": null,
   "id": "c1348b2f",
   "metadata": {},
   "outputs": [],
   "source": [
    "b = np.zeros(n_points_x * n_points_y * n_points_z)\n",
    "matrix = np.zeros(\n",
    "    (n_points_x * n_points_y * n_points_z, n_points_x * n_points_y * n_points_z),\n",
    "    dtype=np.float32,\n",
    ")\n",
    "\n",
    "for i in range(n_points_x * n_points_y * n_points_z):\n",
    "    idx = np.unravel_index(i, (n_points_x, n_points_y, n_points_z))\n",
    "\n",
    "    if idx[0] == 0:\n",
    "        matrix[i] *= 0\n",
    "        matrix[i, i] = 1\n",
    "        b[i] = 0\n",
    "        continue\n",
    "    if idx[0] == n_points_x - 1:\n",
    "        matrix[i] *= 0\n",
    "        matrix[i, i] = 1\n",
    "        b[i] = 0\n",
    "        continue\n",
    "\n",
    "    if idx[1] == 0:\n",
    "        matrix[i] *= 0\n",
    "        matrix[i, i] = 1\n",
    "        b[i] = 0\n",
    "        continue\n",
    "    if idx[1] == n_points_y - 1:\n",
    "        matrix[i] *= 0\n",
    "        matrix[i, i] = 1\n",
    "        b[i] = 0\n",
    "        continue\n",
    "\n",
    "    if idx[2] == 0:\n",
    "        matrix[i] *= 0\n",
    "        matrix[i, i] = 1\n",
    "        b[i] = 0\n",
    "        continue\n",
    "    if idx[2] == n_points_z - 1:\n",
    "        matrix[i] *= 0\n",
    "        matrix[i, i] = 1\n",
    "        b[i] = 0\n",
    "        continue\n",
    "\n",
    "    matrix[i, i - n_points_y * n_points_z - n_points_z - 1] = (\n",
    "        -h1 * h2 / (36 * h3) - h1 * h3 / (36 * h2) - h2 * h3 / (36 * h1)\n",
    "    )\n",
    "    matrix[i, i - n_points_y * n_points_z - n_points_z] = (\n",
    "        h1 * h2 / (18 * h3) - h1 * h3 / (9 * h2) - h2 * h3 / (9 * h1)\n",
    "    )\n",
    "    matrix[i, i - n_points_y * n_points_z - n_points_z + 1] = (\n",
    "        -h1 * h2 / (36 * h3) - h1 * h3 / (36 * h2) - h2 * h3 / (36 * h1)\n",
    "    )\n",
    "\n",
    "    matrix[i, i - n_points_y * n_points_z - 1] = (\n",
    "        -h1 * h2 / (9 * h3) - h1 * h3 / (9 * h2) + h2 * h3 / (18 * h1)\n",
    "    )\n",
    "    matrix[i, i - n_points_y * n_points_z + 0] = (\n",
    "        2 * h1 * h2 / (9 * h3) - 4 * h1 * h3 / (9 * h2) + 2 * h2 * h3 / (9 * h1)\n",
    "    )\n",
    "    matrix[i, i - n_points_y * n_points_z + 1] = (\n",
    "        -h1 * h2 / (9 * h3) - h1 * h3 / (9 * h2) + h2 * h3 / (18 * h1)\n",
    "    )\n",
    "\n",
    "    matrix[i, i - n_points_y * n_points_z + n_points_z - 1] = (\n",
    "        -h1 * h2 / (36 * h3) - h1 * h3 / (36 * h2) - h2 * h3 / (36 * h1)\n",
    "    )\n",
    "    matrix[i, i - n_points_y * n_points_z + n_points_z + 0] = (\n",
    "        h1 * h2 / (18 * h3) - h1 * h3 / (9 * h2) - h2 * h3 / (9 * h1)\n",
    "    )\n",
    "    matrix[i, i - n_points_y * n_points_z + n_points_z + 1] = (\n",
    "        -h1 * h2 / (36 * h3) - h1 * h3 / (36 * h2) - h2 * h3 / (36 * h1)\n",
    "    )\n",
    "\n",
    "    matrix[i, i - n_points_z - 1] = (\n",
    "        -h1 * h2 / (9 * h3) + h1 * h3 / (18 * h2) - h2 * h3 / (9 * h1)\n",
    "    )\n",
    "    matrix[i, i - n_points_z - 0] = (\n",
    "        2 * h1 * h2 / (9 * h3) + 2 * h1 * h3 / (9 * h2) - 4 * h2 * h3 / (9 * h1)\n",
    "    )\n",
    "    matrix[i, i - n_points_z + 1] = (\n",
    "        -h1 * h2 / (9 * h3) + h1 * h3 / (18 * h2) - h2 * h3 / (9 * h1)\n",
    "    )\n",
    "\n",
    "    matrix[i, i - 1] = (\n",
    "        -4 * h1 * h2 / (9 * h3) + 2 * h1 * h3 / (9 * h2) + 2 * h2 * h3 / (9 * h1)\n",
    "    )\n",
    "    matrix[i, i + 0] = (\n",
    "        8 * h1 * h2 / (9 * h3) + 8 * h1 * h3 / (9 * h2) + 8 * h2 * h3 / (9 * h1)\n",
    "    )\n",
    "    matrix[i, i + 1] = (\n",
    "        -4 * h1 * h2 / (9 * h3) + 2 * h1 * h3 / (9 * h2) + 2 * h2 * h3 / (9 * h1)\n",
    "    )\n",
    "\n",
    "    matrix[i, i + n_points_z - 1] = (\n",
    "        -h1 * h2 / (9 * h3) + h1 * h3 / (18 * h2) - h2 * h3 / (9 * h1)\n",
    "    )\n",
    "    matrix[i, i + n_points_z + 0] = (\n",
    "        2 * h1 * h2 / (9 * h3) + 2 * h1 * h3 / (9 * h2) - 4 * h2 * h3 / (9 * h1)\n",
    "    )\n",
    "    matrix[i, i + n_points_z + 1] = (\n",
    "        -h1 * h2 / (9 * h3) + h1 * h3 / (18 * h2) - h2 * h3 / (9 * h1)\n",
    "    )\n",
    "\n",
    "    matrix[i, i + n_points_y * n_points_z - n_points_z - 1] = (\n",
    "        -h1 * h2 / (36 * h3) - h1 * h3 / (36 * h2) - h2 * h3 / (36 * h1)\n",
    "    )\n",
    "    matrix[i, i + n_points_y * n_points_z - n_points_z] = (\n",
    "        h1 * h2 / (18 * h3) - h1 * h3 / (9 * h2) - h2 * h3 / (9 * h1)\n",
    "    )\n",
    "    matrix[i, i + n_points_y * n_points_z - n_points_z + 1] = (\n",
    "        -h1 * h2 / (36 * h3) - h1 * h3 / (36 * h2) - h2 * h3 / (36 * h1)\n",
    "    )\n",
    "\n",
    "    matrix[i, i + n_points_y * n_points_z - 1] = (\n",
    "        -h1 * h2 / (9 * h3) - h1 * h3 / (9 * h2) + h2 * h3 / (18 * h1)\n",
    "    )\n",
    "    matrix[i, i + n_points_y * n_points_z + 0] = (\n",
    "        2 * h1 * h2 / (9 * h3) - 4 * h1 * h3 / (9 * h2) + 2 * h2 * h3 / (9 * h1)\n",
    "    )\n",
    "    matrix[i, i + n_points_y * n_points_z + 1] = (\n",
    "        -h1 * h2 / (9 * h3) - h1 * h3 / (9 * h2) + h2 * h3 / (18 * h1)\n",
    "    )\n",
    "\n",
    "    matrix[i, i + n_points_y * n_points_z + n_points_z - 1] = (\n",
    "        -h1 * h2 / (36 * h3) - h1 * h3 / (36 * h2) - h2 * h3 / (36 * h1)\n",
    "    )\n",
    "    matrix[i, i + n_points_y * n_points_z + n_points_z + 0] = (\n",
    "        h1 * h2 / (18 * h3) - h1 * h3 / (9 * h2) - h2 * h3 / (9 * h1)\n",
    "    )\n",
    "    matrix[i, i + n_points_y * n_points_z + n_points_z + 1] = (\n",
    "        -h1 * h2 / (36 * h3) - h1 * h3 / (36 * h2) - h2 * h3 / (36 * h1)\n",
    "    )\n",
    "\n",
    "    b[i] = -1 * f(grid_x[idx], grid_y[idx], grid_z[idx]) * h_1 * h_2 * h_3"
   ]
  },
  {
   "cell_type": "markdown",
   "id": "b09b79f7",
   "metadata": {},
   "source": [
    "# Solve the system of linear equations"
   ]
  },
  {
   "cell_type": "code",
   "execution_count": null,
   "id": "2e9380d0",
   "metadata": {},
   "outputs": [],
   "source": [
    "u_simpson = np.linalg.solve(matrix, b)\n",
    "u_simpson = u_simpson.reshape(n_points_x, n_points_y, n_points_z)"
   ]
  },
  {
   "cell_type": "code",
   "execution_count": null,
   "id": "c069d339-7cce-4177-b84f-e6d2a6b7d252",
   "metadata": {},
   "outputs": [],
   "source": [
    "TX = np.linspace(0, 1, 30)\n",
    "TY = np.linspace(0, 1, 30)\n",
    "TZ = np.linspace(0, 1, 30)"
   ]
  },
  {
   "cell_type": "code",
   "execution_count": null,
   "id": "27389a46-d2f3-479b-8967-efea1d61cbed",
   "metadata": {},
   "outputs": [],
   "source": [
    "X, Y, Z = np.meshgrid(TX, TY, TZ, indexing=\"ij\")\n",
    "arg = np.stack([X, Y, Z]).T\n",
    "func = RegularGridInterpolator((tx, ty, tz), u_simpson)(arg)"
   ]
  },
  {
   "cell_type": "code",
   "execution_count": null,
   "id": "1e0ac648-1705-408e-ae78-015f165d2e3b",
   "metadata": {},
   "outputs": [],
   "source": [
    "func *= -1\n",
    "size = (func - func.min(keepdims=True)) / (\n",
    "    func.max(keepdims=True) - func.min(keepdims=True)\n",
    ")"
   ]
  },
  {
   "cell_type": "code",
   "execution_count": null,
   "id": "203cdb5f",
   "metadata": {},
   "outputs": [],
   "source": [
    "%matplotlib widget\n",
    "fig = plt.figure(figsize=(5, 5))\n",
    "ax = plt.axes(projection=\"3d\")\n",
    "ax.scatter(X, Y, Z, c=size, alpha=size, s=size)\n",
    "plt.show()"
   ]
  },
  {
   "cell_type": "code",
   "execution_count": null,
   "id": "290c012e",
   "metadata": {},
   "outputs": [],
   "source": [
    "fig, ax = plt.subplots()\n",
    "ax.imshow(func[28, ...], cmap=\"gray\")\n",
    "plt.show()"
   ]
  }
 ],
 "metadata": {
  "kernelspec": {
   "display_name": "Python 3 (ipykernel)",
   "language": "python",
   "name": "python3"
  },
  "language_info": {
   "codemirror_mode": {
    "name": "ipython",
    "version": 3
   },
   "file_extension": ".py",
   "mimetype": "text/x-python",
   "name": "python",
   "nbconvert_exporter": "python",
   "pygments_lexer": "ipython3",
   "version": "3.9.12"
  }
 },
 "nbformat": 4,
 "nbformat_minor": 5
}
