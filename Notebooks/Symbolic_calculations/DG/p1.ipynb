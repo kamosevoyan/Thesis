{
 "cells": [
  {
   "cell_type": "code",
   "execution_count": 94,
   "id": "f08b13c7",
   "metadata": {},
   "outputs": [],
   "source": [
    "import sympy\n",
    "import numpy as np\n",
    "from tqdm import tqdm\n",
    "import dill\n",
    "dill.settings[\"recurse\"] = True\n",
    "from sympy import Rational as R\n",
    "from itertools import product"
   ]
  },
  {
   "cell_type": "code",
   "execution_count": 95,
   "id": "12b69267",
   "metadata": {},
   "outputs": [],
   "source": [
    "(\n",
    "    reference_x,\n",
    "    reference_y,\n",
    "    physical_x_0,\n",
    "    physical_y_0,\n",
    "    physical_x_1,\n",
    "    physical_y_1,\n",
    "    physical_x_2,\n",
    "    physical_y_2,\n",
    ") = sympy.symbols(\"x y x_0 y_0 x_1 y_1 x_2 y_2\")\n",
    "\n",
    "f_interpolation = sympy.Matrix(sympy.symbols(\"f_0:3\"))\n",
    "g_interpolation = sympy.Matrix(sympy.symbols(\"g_0:3\"))\n",
    "s = sympy.symbols(\"s\")"
   ]
  },
  {
   "cell_type": "code",
   "execution_count": 96,
   "metadata": {},
   "outputs": [],
   "source": [
    "v0 = {reference_x: 0, reference_y: 0}\n",
    "v1 = {reference_x: 1, reference_y: 0}\n",
    "v2 = {reference_x: 0, reference_y: 1}"
   ]
  },
  {
   "cell_type": "markdown",
   "metadata": {},
   "source": [
    "# Get basis functions"
   ]
  },
  {
   "cell_type": "code",
   "execution_count": 97,
   "id": "8f5424ef-f45c-4f03-8e35-bbee98d3dd49",
   "metadata": {},
   "outputs": [],
   "source": [
    "monomial_basis = sympy.Matrix(\n",
    "[\n",
    " 1,\n",
    " reference_x,\n",
    " reference_y,\n",
    "]\n",
    ")"
   ]
  },
  {
   "cell_type": "code",
   "execution_count": 98,
   "metadata": {},
   "outputs": [],
   "source": [
    "Vander = sympy.Matrix(np.zeros((3, 3)))\n",
    "\n",
    "for p_e_idx, basis in enumerate(monomial_basis):\n",
    "    \n",
    "    Vander[p_e_idx, 0] = basis.subs(v0)\n",
    "    Vander[p_e_idx, 1] = basis.subs(v1)\n",
    "    Vander[p_e_idx, 2] = basis.subs(v2)"
   ]
  },
  {
   "cell_type": "code",
   "execution_count": 99,
   "metadata": {},
   "outputs": [],
   "source": [
    "lagrange_p1_basis = Vander.inv()@monomial_basis"
   ]
  },
  {
   "cell_type": "code",
   "execution_count": 100,
   "metadata": {},
   "outputs": [],
   "source": [
    "(    \n",
    "    physical_x_0_first,\n",
    "    physical_y_0_first,\n",
    "    physical_x_1_first,\n",
    "    physical_y_1_first,\n",
    "    physical_x_2_first,\n",
    "    physical_y_2_first,\n",
    "    physical_x_0_second,\n",
    "    physical_y_0_second,\n",
    "    physical_x_1_second,\n",
    "    physical_y_1_second,\n",
    "    physical_x_2_second,\n",
    "    physical_y_2_second,\n",
    ") = sympy.symbols(r\"x_0^{first} y_0^{first} x_1^{first} y_1^{first} x_2^{first} y_2^{first} x_0^{second} y_0^{second} x_1^{second} y_1^{second} x_2^{second} y_2^{second}\")\n"
   ]
  },
  {
   "cell_type": "code",
   "execution_count": 101,
   "id": "4017dc8f",
   "metadata": {},
   "outputs": [],
   "source": [
    "rotation_matrix = sympy.Matrix(\n",
    "    [\n",
    "        [+R(0), +R(1)],\n",
    "        [-R(1), +R(0)]\n",
    "    ]\n",
    ")\n",
    "\n",
    "l0_p = ((physical_x_2_first - physical_x_1_first) ** 2 + (physical_y_2_first - physical_y_1_first) ** 2) ** R(1, 2)\n",
    "l1_p = ((physical_x_2_first - physical_x_0_first) ** 2 + (physical_y_2_first - physical_y_0_first) ** 2) ** R(1, 2)\n",
    "l2_p = ((physical_x_1_first - physical_x_0_first) ** 2 + (physical_y_1_first - physical_y_0_first) ** 2) ** R(1, 2)\n",
    "\n",
    "t0_p = sympy.Matrix([physical_x_2_first - physical_x_1_first, physical_y_2_first - physical_y_1_first]) / l0_p\n",
    "t1_p = sympy.Matrix([physical_x_2_first - physical_x_0_first, physical_y_2_first - physical_y_0_first]) / l1_p\n",
    "t2_p = sympy.Matrix([physical_x_1_first - physical_x_0_first, physical_y_1_first - physical_y_0_first]) / l2_p\n",
    "\n",
    "n0_p = rotation_matrix @ t0_p\n",
    "n1_p = rotation_matrix @ t1_p\n",
    "n2_p = rotation_matrix @ t2_p\n",
    "\n",
    "l0_n = ((physical_x_2_second - physical_x_1_second) ** 2 + (physical_y_2_second - physical_y_1_second) ** 2) ** R(1, 2)\n",
    "l1_n = ((physical_x_2_second - physical_x_0_second) ** 2 + (physical_y_2_second - physical_y_0_second) ** 2) ** R(1, 2)\n",
    "l2_n = ((physical_x_1_second - physical_x_0_second) ** 2 + (physical_y_1_second - physical_y_0_second) ** 2) ** R(1, 2)\n",
    "\n",
    "t0_n = sympy.Matrix([physical_x_2_second - physical_x_1_second, physical_y_2_second - physical_y_1_second]) / l0_n\n",
    "t1_n = sympy.Matrix([physical_x_2_second - physical_x_0_second, physical_y_2_second - physical_y_0_second]) / l1_n\n",
    "t2_n = sympy.Matrix([physical_x_1_second - physical_x_0_second, physical_y_1_second - physical_y_0_second]) / l2_n\n",
    "\n",
    "n0_n = rotation_matrix @ t0_n\n",
    "n1_n = rotation_matrix @ t1_n\n",
    "n2_n = rotation_matrix @ t2_n"
   ]
  },
  {
   "cell_type": "code",
   "execution_count": 102,
   "id": "535fc9f5",
   "metadata": {},
   "outputs": [],
   "source": [
    "S = R(1, 2)*(l0_p + l1_p + l2_p)\n",
    "r = sympy.sqrt((S - l0_p) * (S - l1_p) * (S - l2_p))"
   ]
  },
  {
   "cell_type": "code",
   "execution_count": 103,
   "id": "41aa8157",
   "metadata": {},
   "outputs": [],
   "source": [
    "mapping_basis = Vander.inv() @ monomial_basis\n",
    "\n",
    "global_x_first = (\n",
    "      mapping_basis[0] * physical_x_0_first\n",
    "    + mapping_basis[1] * physical_x_1_first\n",
    "    + mapping_basis[2] * physical_x_2_first\n",
    ")\n",
    "global_y_first = (\n",
    "      mapping_basis[0] * physical_y_0_first\n",
    "    + mapping_basis[1] * physical_y_1_first\n",
    "    + mapping_basis[2] * physical_y_2_first\n",
    ")\n",
    "mapping_function_first = sympy.Matrix([global_x_first, global_y_first])\n",
    "J_cofactor_T_first = mapping_function_first.jacobian([reference_x, reference_y]).cofactor_matrix().T\n",
    "J_p = J_cofactor_T_first / J_cofactor_T_first.det()\n",
    "J_inv_first = J_p.inv()\n",
    "\n",
    "\n",
    "global_x_second = (\n",
    "      mapping_basis[0] * physical_x_0_second\n",
    "    + mapping_basis[1] * physical_x_1_second\n",
    "    + mapping_basis[2] * physical_x_2_second\n",
    ")\n",
    "global_y_second = (\n",
    "      mapping_basis[0] * physical_y_0_second\n",
    "    + mapping_basis[1] * physical_y_1_second\n",
    "    + mapping_basis[2] * physical_y_2_second\n",
    ")\n",
    "mapping_function_second = sympy.Matrix([global_x_second, global_y_second])\n",
    "J_cofactor_T_second = mapping_function_second.jacobian([reference_x, reference_y]).cofactor_matrix().T\n",
    "J_n = J_cofactor_T_second / J_cofactor_T_second.det()\n",
    "J_inv_second = J_n.inv()"
   ]
  },
  {
   "cell_type": "code",
   "execution_count": 104,
   "id": "51abb938",
   "metadata": {},
   "outputs": [
    {
     "name": "stderr",
     "output_type": "stream",
     "text": [
      "100%|██████████| 81/81 [03:35<00:00,  2.66s/it]\n"
     ]
    }
   ],
   "source": [
    "N = len(lagrange_p1_basis)\n",
    "\n",
    "consistency =   np.zeros((2, 2, N, N, 3, 3), dtype=object)\n",
    "symmetricity =  np.zeros((2, 2, N, N, 3, 3), dtype=object)\n",
    "penalty =       np.zeros((2, 2, N, N, 3, 3), dtype=object)\n",
    "\n",
    "consistency_boundary =  np.zeros((N, N, 3), dtype=object)\n",
    "symmetricity_boundary = np.zeros((N, N, 3), dtype=object)\n",
    "penalty_boundary =      np.zeros((N, N, 3), dtype=object)\n",
    "\n",
    "e0 = {reference_x: 1-s, reference_y: s}\n",
    "e1 = {reference_x: 0, reference_y: s}\n",
    "e2 = {reference_x: s, reference_y: 0}\n",
    "\n",
    "integration_edges = [e0, e1, e2]\n",
    "lengths_p = [l0_p, l1_p, l2_p]\n",
    "lengths_n = [l0_n, l1_n, l2_n]\n",
    "\n",
    "normals_p = [n0_p, n1_p, n2_p]\n",
    "normals_n = [n0_n, n1_n, n2_n]\n",
    "\n",
    "\n",
    "for trial_idx, test_idx, p_e_idx, n_e_idx in tqdm(product(range(N), range(N), range(3), range(3)), total=3*3*N*N):\n",
    "        \n",
    "    # Penalty\n",
    "    u_p = lagrange_p1_basis[trial_idx].subs(integration_edges[p_e_idx])\n",
    "    v_p = lagrange_p1_basis[test_idx].subs(integration_edges[p_e_idx])\n",
    "    u_n = lagrange_p1_basis[trial_idx].subs(integration_edges[n_e_idx])\n",
    "    v_n = lagrange_p1_basis[test_idx].subs(integration_edges[n_e_idx])\n",
    "    \n",
    "    u_p_grad_ = ((sympy.Matrix([lagrange_p1_basis[trial_idx]]).jacobian([reference_x, reference_y])@J_p)@normals_p[p_e_idx]).subs(integration_edges[p_e_idx])\n",
    "    u_n_grad_ = ((sympy.Matrix([lagrange_p1_basis[trial_idx]]).jacobian([reference_x, reference_y])@J_n)@normals_n[n_e_idx]).subs(integration_edges[n_e_idx])\n",
    "\n",
    "    v_p_grad_ = ((sympy.Matrix([lagrange_p1_basis[test_idx]]).jacobian([reference_x, reference_y])@J_p)@normals_p[p_e_idx]).subs(integration_edges[p_e_idx])\n",
    "    v_n_grad_ = ((sympy.Matrix([lagrange_p1_basis[test_idx]]).jacobian([reference_x, reference_y])@J_n)@normals_n[n_e_idx]).subs(integration_edges[n_e_idx])\n",
    "\n",
    "\n",
    "    # Consistency\n",
    "    consistency[0, 0][p_e_idx, n_e_idx][trial_idx, test_idx] = +R(1, 2) * (sympy.integrate(u_p_grad_*v_p, (s, 0, 1)) * lengths_p[p_e_idx])[0, 0]\n",
    "    consistency[0, 1][p_e_idx, n_e_idx][trial_idx, test_idx] = -R(1, 2) * (sympy.integrate(u_p_grad_*v_n, (s, 0, 1)) * lengths_p[p_e_idx])[0, 0]\n",
    "    consistency[1, 0][p_e_idx, n_e_idx][trial_idx, test_idx] = +R(1, 2) * (sympy.integrate(u_n_grad_*v_p, (s, 0, 1)) * lengths_n[n_e_idx])[0, 0]\n",
    "    consistency[1, 1][p_e_idx, n_e_idx][trial_idx, test_idx] = -R(1, 2) * (sympy.integrate(u_n_grad_*v_n, (s, 0, 1)) * lengths_n[n_e_idx])[0, 0]\n",
    "\n",
    "\n",
    "    # Symmetricity\n",
    "    symmetricity[0, 0][p_e_idx, n_e_idx][trial_idx, test_idx] = +R(1, 2) * (sympy.integrate(u_p*v_p_grad_, (s, 0, 1)) * lengths_p[p_e_idx])[0, 0]\n",
    "    symmetricity[0, 1][p_e_idx, n_e_idx][trial_idx, test_idx] = +R(1, 2) * (sympy.integrate(u_p*v_n_grad_, (s, 0, 1)) * lengths_p[p_e_idx])[0, 0]\n",
    "    symmetricity[1, 0][p_e_idx, n_e_idx][trial_idx, test_idx] = -R(1, 2) * (sympy.integrate(u_n*v_p_grad_, (s, 0, 1)) * lengths_n[n_e_idx])[0, 0]\n",
    "    symmetricity[1, 1][p_e_idx, n_e_idx][trial_idx, test_idx] = -R(1, 2) * (sympy.integrate(u_n*v_n_grad_, (s, 0, 1)) * lengths_n[n_e_idx])[0, 0]\n",
    "\n",
    "\n",
    "    # Penalty    \n",
    "    penalty[0, 0][p_e_idx, n_e_idx][trial_idx, test_idx] = + sympy.integrate(u_p*v_p, (s, 0, 1)) * lengths_p[p_e_idx] / r\n",
    "    penalty[0, 1][p_e_idx, n_e_idx][trial_idx, test_idx] = - sympy.integrate(u_p*v_n, (s, 0, 1)) * lengths_p[p_e_idx] / r\n",
    "    penalty[1, 0][p_e_idx, n_e_idx][trial_idx, test_idx] = - sympy.integrate(u_n*v_p, (s, 0, 1)) * lengths_n[n_e_idx] / r\n",
    "    penalty[1, 1][p_e_idx, n_e_idx][trial_idx, test_idx] = + sympy.integrate(u_n*v_n, (s, 0, 1)) * lengths_n[n_e_idx] / r\n",
    "\n",
    "\n",
    "    consistency_boundary[p_e_idx][trial_idx][test_idx] =     (sympy.integrate(u_p_grad_*v_p, (s, 0, 1)) * lengths_p[p_e_idx])[0, 0]\n",
    "    symmetricity_boundary[p_e_idx][trial_idx][test_idx] =    (sympy.integrate(u_p*v_p_grad_, (s, 0, 1)) * lengths_p[p_e_idx])[0, 0]\n",
    "    penalty_boundary[p_e_idx][trial_idx][test_idx] =         sympy.integrate(u_p*v_p, (s, 0, 1)) * lengths_p[p_e_idx] / r\n",
    "    \n",
    "                    \n",
    "consistency = sympy.tensor.Array(consistency)\n",
    "consistency_boundary = sympy.tensor.Array(consistency_boundary)\n",
    "symmetricity = sympy.tensor.Array(symmetricity)\n",
    "symmetricity_boundary = sympy.tensor.Array(symmetricity_boundary)\n",
    "penalty = sympy.tensor.Array(penalty)\n",
    "penalty_boundary = sympy.tensor.Array(penalty_boundary)"
   ]
  },
  {
   "cell_type": "markdown",
   "id": "31ad5fbd",
   "metadata": {},
   "source": [
    "# SIP"
   ]
  },
  {
   "cell_type": "code",
   "execution_count": 105,
   "id": "5279019f",
   "metadata": {},
   "outputs": [],
   "source": [
    "lambdify_symbols = [    \n",
    "    reference_x,\n",
    "    reference_y,\n",
    "    physical_x_0,\n",
    "    physical_y_0,\n",
    "    physical_x_1,\n",
    "    physical_y_1,\n",
    "    physical_x_2,\n",
    "    physical_y_2\n",
    "]"
   ]
  },
  {
   "cell_type": "code",
   "execution_count": 106,
   "id": "54b746bf",
   "metadata": {},
   "outputs": [],
   "source": [
    "lambdify_symbols = (\n",
    "    reference_x,\n",
    "    reference_y,\n",
    "    physical_x_0_first,\n",
    "    physical_y_0_first,\n",
    "    physical_x_1_first,\n",
    "    physical_y_1_first,\n",
    "    physical_x_2_first,\n",
    "    physical_y_2_first,\n",
    ")"
   ]
  },
  {
   "cell_type": "code",
   "execution_count": 107,
   "id": "90221dfc",
   "metadata": {},
   "outputs": [],
   "source": [
    "interpolation_function = (lagrange_p1_basis.T @ f_interpolation)[0, 0]\n",
    "\n",
    "interpolation_function_lambdified = sympy.lambdify(\n",
    "    [reference_x, reference_y, *f_interpolation],\n",
    "    interpolation_function,\n",
    "    cse=True,\n",
    ")\n",
    "\n",
    "mapping_function_lambdified = sympy.lambdify(\n",
    "    lambdify_symbols, mapping_function_first[:, 0], cse=True\n",
    ")"
   ]
  },
  {
   "cell_type": "code",
   "execution_count": 108,
   "id": "c90987a3",
   "metadata": {},
   "outputs": [],
   "source": [
    "dill.dump(interpolation_function_lambdified, open(\"../../calculations/lagrange_linear_interpolation_x\", \"wb\"))\n",
    "dill.dump(mapping_function_lambdified, open(\"../../calculations/lagrange_linear_mapping_x\", \"wb\"))"
   ]
  },
  {
   "cell_type": "code",
   "execution_count": 109,
   "id": "dc73f209",
   "metadata": {},
   "outputs": [],
   "source": [
    "lambdify_symbols = (    \n",
    "    physical_x_0_first,\n",
    "    physical_y_0_first,\n",
    "    physical_x_1_first,\n",
    "    physical_y_1_first,\n",
    "    physical_x_2_first,\n",
    "    physical_y_2_first,\n",
    "    physical_x_0_second,\n",
    "    physical_y_0_second,\n",
    "    physical_x_1_second,\n",
    "    physical_y_1_second,\n",
    "    physical_x_2_second,\n",
    "    physical_y_2_second,\n",
    ")"
   ]
  },
  {
   "cell_type": "code",
   "execution_count": 110,
   "id": "f3ee2351",
   "metadata": {},
   "outputs": [],
   "source": [
    "consistency_lambdified = sympy.lambdify(lambdify_symbols, consistency, cse=True)\n",
    "symmetricity_lambdified = sympy.lambdify(lambdify_symbols, symmetricity, cse=True)\n",
    "penalty_lambdified = sympy.lambdify(lambdify_symbols, penalty, cse=True)"
   ]
  },
  {
   "cell_type": "code",
   "execution_count": 111,
   "id": "21d6f67e",
   "metadata": {},
   "outputs": [],
   "source": [
    "dill.dump(consistency_lambdified, open(\"../../calculations/lagrange_linear_poisson_dg_consistency\", \"wb\"))\n",
    "dill.dump(symmetricity_lambdified, open(\"../../calculations/lagrange_linear_poisson_dg_symmetricity\", \"wb\"))\n",
    "dill.dump(penalty_lambdified, open(\"../../calculations/lagrange_linear_poisson_dg_penalty\", \"wb\"))"
   ]
  },
  {
   "cell_type": "code",
   "execution_count": 112,
   "id": "122f73a3",
   "metadata": {},
   "outputs": [],
   "source": [
    "lambdify_symbols = (    \n",
    "    physical_x_0_first,\n",
    "    physical_y_0_first,\n",
    "    physical_x_1_first,\n",
    "    physical_y_1_first,\n",
    "    physical_x_2_first,\n",
    "    physical_y_2_first,\n",
    ")"
   ]
  },
  {
   "cell_type": "code",
   "execution_count": 113,
   "id": "59260415",
   "metadata": {},
   "outputs": [],
   "source": [
    "consistency_boundary_lambdified = sympy.lambdify(lambdify_symbols, consistency_boundary, cse=True)\n",
    "symmetricity_boundary_lambdified = sympy.lambdify(lambdify_symbols, symmetricity_boundary, cse=True)\n",
    "penalty_boundary_lambdified = sympy.lambdify(lambdify_symbols, penalty_boundary, cse=True)"
   ]
  },
  {
   "cell_type": "code",
   "execution_count": 114,
   "id": "d6da0196",
   "metadata": {},
   "outputs": [],
   "source": [
    "dill.dump(consistency_boundary_lambdified, open(\"../../calculations/lagrange_linear_poisson_dg_consistency_boundary\", \"wb\"))\n",
    "dill.dump(symmetricity_boundary_lambdified, open(\"../../calculations/lagrange_linear_poisson_dg_symmetricity_boundary\", \"wb\"))\n",
    "dill.dump(penalty_boundary_lambdified, open(\"../../calculations/lagrange_linear_poisson_dg_penalty_boundary\", \"wb\"))"
   ]
  },
  {
   "cell_type": "code",
   "execution_count": null,
   "metadata": {},
   "outputs": [],
   "source": []
  }
 ],
 "metadata": {
  "kernelspec": {
   "display_name": "experiments",
   "language": "python",
   "name": "python3"
  },
  "language_info": {
   "codemirror_mode": {
    "name": "ipython",
    "version": 3
   },
   "file_extension": ".py",
   "mimetype": "text/x-python",
   "name": "python",
   "nbconvert_exporter": "python",
   "pygments_lexer": "ipython3",
   "version": "3.9.18"
  }
 },
 "nbformat": 4,
 "nbformat_minor": 5
}
