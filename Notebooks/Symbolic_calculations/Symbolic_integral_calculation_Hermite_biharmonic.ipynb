{
 "cells": [
  {
   "cell_type": "code",
   "execution_count": null,
   "id": "f08b13c7",
   "metadata": {},
   "outputs": [],
   "source": [
    "import sympy\n",
    "import matplotlib.pyplot as plt\n",
    "import numpy as np\n",
    "from tqdm import tqdm"
   ]
  },
  {
   "cell_type": "code",
   "execution_count": null,
   "id": "d2b65333",
   "metadata": {},
   "outputs": [],
   "source": [
    "t, h1, h2 = sympy.symbols(\"t h1 h2\", real=True)"
   ]
  },
  {
   "cell_type": "code",
   "execution_count": null,
   "id": "9b543f6e",
   "metadata": {},
   "outputs": [],
   "source": [
    "phi_0 = sympy.Piecewise(\n",
    "    ((1 + t) ** 2 * (1 - 2 * t), (t >= -1) & (t <= 0)),\n",
    "    ((1 - t) ** 2 * (1 + 2 * t), (t >= 0) & (t <= 1)),\n",
    "    (0, True),\n",
    ")\n",
    "\n",
    "phi_1 = sympy.Piecewise(\n",
    "    ((1 + t) ** 2 * t, (t >= -1) & (t <= 0)),\n",
    "    ((1 - t) ** 2 * t, (t >= 0) & (t <= 1)),\n",
    "    (0, True),\n",
    ")"
   ]
  },
  {
   "cell_type": "code",
   "execution_count": null,
   "id": "17b42f0a",
   "metadata": {},
   "outputs": [],
   "source": [
    "choices = [phi_0, phi_1]"
   ]
  },
  {
   "cell_type": "code",
   "execution_count": null,
   "id": "6782ff51",
   "metadata": {},
   "outputs": [],
   "source": [
    "result = {}\n",
    "for idx, A in enumerate(tqdm(choices)):\n",
    "    for jdx, B in enumerate(choices):\n",
    "        for i in range(-1, 2):\n",
    "            for j in range(-1, 2):\n",
    "                for kdx, a in enumerate(choices):\n",
    "                    for ldx, b in enumerate(choices):\n",
    "                        A_tt = sympy.diff(A, t, t) / h1**2\n",
    "                        B_tt = sympy.diff(A, t, t) / h2**2\n",
    "                        A_t = sympy.diff(A, t) / h1\n",
    "                        B_t = sympy.diff(B, t) / h2\n",
    "\n",
    "                        a = a.subs(t, t - i)\n",
    "                        b = b.subs(t, t - j)\n",
    "\n",
    "                        a_tt = sympy.diff(a, t, t) / h1**2\n",
    "                        b_tt = sympy.diff(b, t, t) / h2**2\n",
    "                        a_t = sympy.diff(a, t) / h1\n",
    "                        b_t = sympy.diff(b, t) / h2\n",
    "\n",
    "                        INT = (\n",
    "                            (\n",
    "                                sympy.integrate(A_tt * a_tt, (t, -1, 1))\n",
    "                                * sympy.integrate(B * b, (t, -1, 1))\n",
    "                                + 2\n",
    "                                * sympy.integrate(A_t * a_t, (t, -1, 1))\n",
    "                                * sympy.integrate(B_t * b_t, (t, -1, 1))\n",
    "                                + sympy.integrate(A * a, (t, -1, 1))\n",
    "                                * sympy.integrate(B_tt * b_tt, (t, -1, 1))\n",
    "                            )\n",
    "                            * h1\n",
    "                            * h2\n",
    "                        )\n",
    "\n",
    "                        result[f\"{idx}_{jdx}_{kdx}_{ldx}_{i}_{j}\"] = sympy.lambdify(\n",
    "                            (h1, h2), INT\n",
    "                        )"
   ]
  },
  {
   "cell_type": "code",
   "execution_count": null,
   "id": "a3cf5d88",
   "metadata": {},
   "outputs": [],
   "source": [
    "for idx, A in enumerate(choices):\n",
    "    for jdx, B in enumerate(choices):\n",
    "        sym_int = (\n",
    "            sympy.integrate(A, (t, -1, 1)) * sympy.integrate(B, (t, -1, 1)) * h1 * h2\n",
    "        )\n",
    "\n",
    "        result[f\"{idx}_{jdx}\"] = sympy.lambdify((h1, h2), sym_int)"
   ]
  },
  {
   "cell_type": "code",
   "execution_count": null,
   "id": "82c1c940",
   "metadata": {},
   "outputs": [],
   "source": [
    "import dill\n",
    "\n",
    "dill.settings[\"recurse\"] = True\n",
    "dill.dump(result, open(\"biharminic_hermite\", \"wb\"))"
   ]
  }
 ],
 "metadata": {
  "kernelspec": {
   "display_name": "Python 3 (ipykernel)",
   "language": "python",
   "name": "python3"
  },
  "language_info": {
   "codemirror_mode": {
    "name": "ipython",
    "version": 3
   },
   "file_extension": ".py",
   "mimetype": "text/x-python",
   "name": "python",
   "nbconvert_exporter": "python",
   "pygments_lexer": "ipython3",
   "version": "3.9.12"
  }
 },
 "nbformat": 4,
 "nbformat_minor": 5
}
