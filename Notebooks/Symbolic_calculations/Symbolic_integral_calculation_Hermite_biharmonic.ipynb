{
 "cells": [
  {
   "cell_type": "code",
   "execution_count": null,
   "id": "f08b13c7",
   "metadata": {},
   "outputs": [],
   "source": [
    "import sympy\n",
    "import matplotlib.pyplot as plt\n",
    "import numpy as np\n",
    "from tqdm import tqdm\n",
    "import dill"
   ]
  },
  {
   "cell_type": "code",
   "execution_count": null,
   "id": "d2b65333",
   "metadata": {},
   "outputs": [],
   "source": [
    "t, x, y, h1, h2 = sympy.symbols(\"t x y h1 h2\", real=True)"
   ]
  },
  {
   "cell_type": "code",
   "execution_count": null,
   "id": "9b543f6e",
   "metadata": {},
   "outputs": [],
   "source": [
    "phi_0 = sympy.Piecewise(\n",
    "    ((1 + t) ** 2 * (1 - 2 * t), (t >= -1) & (t <= 0)),\n",
    "    ((1 - t) ** 2 * (1 + 2 * t), (t >= 0) & (t <= 1)),\n",
    "    (0, True),\n",
    ")\n",
    "\n",
    "phi_1 = sympy.Piecewise(\n",
    "    ((1 + t) ** 2 * t, (t >= -1) & (t <= 0)),\n",
    "    ((1 - t) ** 2 * t, (t >= 0) & (t <= 1)),\n",
    "    (0, True),\n",
    ")"
   ]
  },
  {
   "cell_type": "code",
   "execution_count": null,
   "id": "fde496de",
   "metadata": {},
   "outputs": [],
   "source": [
    "origin_choices = [\n",
    "                    [phi_0, phi_0, 1, 1], \n",
    "                    [phi_1, phi_0, h1, 1], \n",
    "                    [phi_0, phi_1, 1, h2], \n",
    "                    [phi_1, phi_1, h1, h2],\n",
    "                ]\n",
    "choices = [\n",
    "                    [phi_0, phi_0, 1, 1], \n",
    "                    [phi_1, phi_0, h1, 1], \n",
    "                    [phi_0, phi_1, 1, h2], \n",
    "                    [phi_1, phi_1, h1, h2]\n",
    "            ]\n",
    "\n",
    "matrix = np.zeros((4, 4, 3, 3)).tolist()\n",
    "right_part = np.zeros((4, 4, 3, 3)).tolist()\n",
    "\n",
    "for i, [origin_base_X, origin_base_Y, origin_Jx, origin_Jy] in enumerate(origin_choices):\n",
    "    for j, [base_X, base_Y, Jx, Jy] in enumerate(choices):\n",
    "        for k, y_offset in enumerate([-1, +0, +1]):\n",
    "            for l, x_offset in enumerate([-1, +0, +1]):\n",
    "\n",
    "                xx_x = origin_base_X.diff(t, t) * base_X.subs(t, t-x_offset).diff(t, t) / h1**4 * origin_Jx * Jx\n",
    "                xx_y = origin_base_Y * base_Y.subs(t, t-y_offset) * origin_Jy * Jy\n",
    "\n",
    "                xy_x = origin_base_X.diff(t) * base_X.subs(t, t-x_offset).diff(t) / h1**2 * origin_Jx * Jx\n",
    "                xy_y = origin_base_Y.diff(t) * base_Y.subs(t, t-y_offset).diff(t) / h2**2 * origin_Jy * Jy\n",
    "\n",
    "                yy_x = origin_base_X * base_X.subs(t, t-x_offset) * origin_Jx * Jx\n",
    "                yy_y = origin_base_Y.diff(t, t) * base_Y.subs(t, t-y_offset).diff(t, t) / h2**4 * origin_Jy * Jy\n",
    "\n",
    "                a = sympy.integrate(xx_x, (t, -1, +1)) * sympy.integrate(xx_y, (t, -1, +1)) * h1*h2\n",
    "                b = sympy.integrate(xy_x, (t, -1, +1)) * sympy.integrate(xy_y, (t, -1, +1)) * h1*h2\n",
    "                c = sympy.integrate(yy_x, (t, -1, +1)) * sympy.integrate(yy_y, (t, -1, +1)) * h1*h2\n",
    "                \n",
    "                \n",
    "                d_x = origin_base_X * base_X.subs(t, t-x_offset) * origin_Jx * Jx\n",
    "                d_y = origin_base_Y * base_Y.subs(t, t-y_offset) * origin_Jy * Jy\n",
    "                \n",
    "                d = sympy.integrate(d_x, (t, -1, +1)) * sympy.integrate(d_y, (t, -1, +1)) * h1*h2\n",
    "                \n",
    "                \n",
    "                matrix[i][j][k][l] = a+2*b+c\n",
    "                right_part[i][j][k][l] = d"
   ]
  },
  {
   "cell_type": "code",
   "execution_count": null,
   "id": "82c1c940",
   "metadata": {},
   "outputs": [],
   "source": [
    "dill.settings[\"recurse\"] = True\n",
    "dill.dump(sympy.lambdify([h1, h2], sympy.Array(np.array(matrix))), open(\"../calculations/hermite_cubic_biharmonic_matrix_integral_values\", \"wb\"))\n",
    "dill.dump(sympy.lambdify([h1, h2], sympy.Array(np.array(right_part))), open(\"../calculations/hermite_cubic_biharmonic_matrix_right_values\", \"wb\"))"
   ]
  }
 ],
 "metadata": {
  "kernelspec": {
   "display_name": "Python 3 (ipykernel)",
   "language": "python",
   "name": "python3"
  },
  "language_info": {
   "codemirror_mode": {
    "name": "ipython",
    "version": 3
   },
   "file_extension": ".py",
   "mimetype": "text/x-python",
   "name": "python",
   "nbconvert_exporter": "python",
   "pygments_lexer": "ipython3",
   "version": "3.9.12"
  }
 },
 "nbformat": 4,
 "nbformat_minor": 5
}
