{
 "cells": [
  {
   "cell_type": "code",
   "execution_count": 117,
   "id": "f08b13c7",
   "metadata": {},
   "outputs": [],
   "source": [
    "import sympy\n",
    "import numpy as np\n",
    "from tqdm import tqdm\n",
    "import dill\n",
    "\n",
    "dill.settings[\"recurse\"] = True\n",
    "from sympy import Rational as R"
   ]
  },
  {
   "cell_type": "code",
   "execution_count": 118,
   "id": "102f5975",
   "metadata": {},
   "outputs": [],
   "source": [
    "(\n",
    "    reference_x,\n",
    "    reference_y,\n",
    "    reference_x_1,\n",
    "    reference_y_1,\n",
    "    reference_x_2,\n",
    "    reference_y_2,\n",
    "    reference_x_3,\n",
    "    reference_y_3,\n",
    ") = sympy.symbols(\"x y x_1 y_1 x_2 y_2 x_3 y_3\")\n",
    "\n",
    "rotation_matrix = sympy.Matrix([[+R(0), +R(1)], [-R(1), +R(0)]])\n",
    "\n",
    "t1_hat = sympy.Matrix([-R(1), +R(1)]) / sympy.sqrt(2)\n",
    "t2_hat = sympy.Matrix([+R(0), +R(1)])\n",
    "t3_hat = sympy.Matrix([+R(1), +R(0)])\n",
    "\n",
    "n1_hat = rotation_matrix @ t1_hat\n",
    "n2_hat = rotation_matrix @ t2_hat\n",
    "n3_hat = rotation_matrix @ t3_hat"
   ]
  },
  {
   "cell_type": "markdown",
   "id": "5eaaf6dd",
   "metadata": {},
   "source": [
    "### Get basis functions"
   ]
  },
  {
   "cell_type": "code",
   "execution_count": 119,
   "id": "a25db112",
   "metadata": {},
   "outputs": [],
   "source": [
    "monomial_basis = sympy.Matrix(\n",
    "    [\n",
    "        1,\n",
    "        reference_x,\n",
    "        reference_y,\n",
    "        reference_x**2,\n",
    "        reference_x * reference_y,\n",
    "        reference_y**2,\n",
    "    ]\n",
    ")"
   ]
  },
  {
   "cell_type": "code",
   "execution_count": 120,
   "id": "bfe4655c",
   "metadata": {},
   "outputs": [],
   "source": [
    "Vander = sympy.Matrix(np.zeros((6, 6)))\n",
    "\n",
    "for i, basis in enumerate(monomial_basis):\n",
    "\n",
    "    v1 = {reference_x: 0, reference_y: 0}\n",
    "    Vander[i, 0] = basis.subs(v1)\n",
    "\n",
    "    v2 = {reference_x: 1, reference_y: 0}\n",
    "    Vander[i, 1] = basis.subs(v2)\n",
    "\n",
    "    v3 = {reference_x: 0, reference_y: 1}\n",
    "    Vander[i, 2] = basis.subs(v3)\n",
    "\n",
    "    e1 = {reference_x: R(1, 2), reference_y: R(1, 2)}\n",
    "    dn1 = n1_hat[0] * basis.diff(reference_x) + n1_hat[1] * basis.diff(reference_y)\n",
    "    Vander[i, 3] = dn1.subs(e1)\n",
    "\n",
    "    e2 = {reference_x: 0, reference_y: R(1, 2)}\n",
    "    dn2 = n2_hat[0] * basis.diff(reference_x) + n2_hat[1] * basis.diff(reference_y)\n",
    "    Vander[i, 4] = dn2.subs(e2)\n",
    "\n",
    "    e3 = {reference_x: R(1, 2), reference_y: 0}\n",
    "    dn3 = n3_hat[0] * basis.diff(reference_x) + n3_hat[1] * basis.diff(reference_y)\n",
    "    Vander[i, 5] = dn3.subs(e3)"
   ]
  },
  {
   "cell_type": "code",
   "execution_count": 127,
   "id": "5d1881ea",
   "metadata": {},
   "outputs": [],
   "source": [
    "morley_basis = Vander.inv() @ monomial_basis"
   ]
  },
  {
   "cell_type": "markdown",
   "metadata": {},
   "source": [
    "### Get mapping functions"
   ]
  },
  {
   "cell_type": "code",
   "execution_count": 143,
   "metadata": {},
   "outputs": [],
   "source": [
    "monomial_basis = sympy.Matrix(\n",
    "    [\n",
    "        1,\n",
    "        reference_x,\n",
    "        reference_y,\n",
    "    ]\n",
    ")\n",
    "\n",
    "V = sympy.zeros(3, 3)\n",
    "\n",
    "for dofidx, basis in enumerate(monomial_basis):\n",
    "\n",
    "    V[dofidx, 0] = basis.subs({reference_x: 0, reference_y: 0})\n",
    "    V[dofidx, 1] = basis.subs({reference_x: 1, reference_y: 0})\n",
    "    V[dofidx, 2] = basis.subs({reference_x: 0, reference_y: 1})\n",
    "\n",
    "mapping_basis = V.inv() @ monomial_basis\n",
    "\n",
    "global_x = (\n",
    "      mapping_basis[0] * reference_x_1\n",
    "    + mapping_basis[1] * reference_x_2\n",
    "    + mapping_basis[2] * reference_x_3\n",
    ")\n",
    "global_y = (\n",
    "      mapping_basis[0] * reference_y_1\n",
    "    + mapping_basis[1] * reference_y_2\n",
    "    + mapping_basis[2] * reference_y_3\n",
    ")\n",
    "\n",
    "mapping_function = sympy.Matrix([global_x, global_y])"
   ]
  },
  {
   "cell_type": "code",
   "execution_count": 144,
   "metadata": {},
   "outputs": [],
   "source": [
    "J = mapping_function.jacobian([reference_x, reference_y]).inv()"
   ]
  },
  {
   "cell_type": "code",
   "execution_count": 145,
   "metadata": {},
   "outputs": [],
   "source": [
    "J_cofactor_T = mapping_function.jacobian([reference_x, reference_y]).cofactor_matrix().T"
   ]
  },
  {
   "cell_type": "markdown",
   "id": "8cac3db9",
   "metadata": {},
   "source": [
    "# Necessary symbols"
   ]
  },
  {
   "cell_type": "code",
   "execution_count": 146,
   "id": "ec0f31c1",
   "metadata": {},
   "outputs": [],
   "source": [
    "G1_hat = n1_hat.row_join(t1_hat).T\n",
    "G2_hat = n2_hat.row_join(t2_hat).T\n",
    "G3_hat = n3_hat.row_join(t3_hat).T\n",
    "\n",
    "l1 = ((reference_x_3 - reference_x_2) ** 2 + (reference_y_3 - reference_y_2) ** 2) ** R(\n",
    "    1, 2\n",
    ")\n",
    "l2 = ((reference_x_3 - reference_x_1) ** 2 + (reference_y_3 - reference_y_1) ** 2) ** R(\n",
    "    1, 2\n",
    ")\n",
    "l3 = ((reference_x_2 - reference_x_1) ** 2 + (reference_y_2 - reference_y_1) ** 2) ** R(\n",
    "    1, 2\n",
    ")\n",
    "\n",
    "t1 = sympy.Matrix([reference_x_3 - reference_x_2, reference_y_3 - reference_y_2]) / l1\n",
    "t2 = sympy.Matrix([reference_x_3 - reference_x_1, reference_y_3 - reference_y_1]) / l2\n",
    "t3 = sympy.Matrix([reference_x_2 - reference_x_1, reference_y_2 - reference_y_1]) / l3\n",
    "\n",
    "n1 = rotation_matrix @ t1\n",
    "n2 = rotation_matrix @ t2\n",
    "n3 = rotation_matrix @ t3\n",
    "\n",
    "G1 = n1.row_join(t1).T\n",
    "G2 = n2.row_join(t2).T\n",
    "G3 = n3.row_join(t3).T\n",
    "\n",
    "B1 = G1_hat @ J.inv().T @ G1.T\n",
    "B2 = G2_hat @ J.inv().T @ G2.T\n",
    "B3 = G3_hat @ J.inv().T @ G3.T\n",
    "\n",
    "f_interpolation_extended = sympy.Matrix(sympy.symbols(\"f_1:10\"))\n",
    "\n",
    "f_interpolation = sympy.Matrix(f_interpolation_extended[:6])\n",
    "\n",
    "f_interpolation[3] = (\n",
    "    n1[0] * f_interpolation_extended[3] + n1[1] * f_interpolation_extended[4]\n",
    ")\n",
    "f_interpolation[4] = (\n",
    "    n2[0] * f_interpolation_extended[5] + n2[1] * f_interpolation_extended[6]\n",
    ")\n",
    "f_interpolation[5] = (\n",
    "    n3[0] * f_interpolation_extended[7] + n3[1] * f_interpolation_extended[8]\n",
    ")"
   ]
  },
  {
   "cell_type": "markdown",
   "id": "a8ebacd3",
   "metadata": {},
   "source": [
    "### Calculate bilinear form and right values for forward pushed reference element"
   ]
  },
  {
   "cell_type": "code",
   "execution_count": 147,
   "id": "085190dc",
   "metadata": {},
   "outputs": [
    {
     "name": "stderr",
     "output_type": "stream",
     "text": [
      "  0%|          | 0/36 [00:00<?, ?it/s]"
     ]
    },
    {
     "name": "stderr",
     "output_type": "stream",
     "text": [
      "100%|██████████| 36/36 [01:20<00:00,  2.24s/it]\n"
     ]
    }
   ],
   "source": [
    "N = len(morley_basis)\n",
    "\n",
    "weak_form_functional_xxyy = [[0 for i in range(N)] for j in range(N)]\n",
    "weak_form_functional_xyxy = [[0 for i in range(N)] for j in range(N)]\n",
    "weak_form_right_part =      [[0 for i in range(N)] for j in range(N)]\n",
    "\n",
    "for idx, jdx in tqdm([(idx, jdx) for idx in range(N) for jdx in range(N)]):\n",
    "    \n",
    "    first = morley_basis[idx]\n",
    "    second = morley_basis[jdx]\n",
    "\n",
    "    # -----------------------U------------------------------------------------------------------------------\n",
    "    u_x = first.diff(reference_x) * J_cofactor_T.row(0)[0] + first.diff(reference_y) * J_cofactor_T.row(1)[0]\n",
    "    u_y = first.diff(reference_x) * J_cofactor_T.row(0)[1] + first.diff(reference_y) * J_cofactor_T.row(1)[1]\n",
    "\n",
    "    u_xx = u_x.diff(reference_x) * J_cofactor_T.row(0)[0] + u_x.diff(reference_y) * J_cofactor_T.row(1)[0]\n",
    "    u_xy = u_x.diff(reference_x) * J_cofactor_T.row(0)[1] + u_x.diff(reference_y) * J_cofactor_T.row(1)[1]\n",
    "\n",
    "    u_yy = u_y.diff(reference_x) * J_cofactor_T.row(0)[1] + u_y.diff(reference_y) * J_cofactor_T.row(1)[1]\n",
    "    # ------------------------------------------------------------------------------------------------------\n",
    "\n",
    "    # -----------------------V------------------------------------------------------------------------------\n",
    "    v_x = second.diff(reference_x) * J_cofactor_T.row(0)[0] + second.diff(reference_y) * J_cofactor_T.row(1)[0]    \n",
    "    v_y = second.diff(reference_x) * J_cofactor_T.row(0)[1] + second.diff(reference_y) * J_cofactor_T.row(1)[1]\n",
    "\n",
    "    v_xx = v_x.diff(reference_x) * J_cofactor_T.row(0)[0] + v_x.diff(reference_y) * J_cofactor_T.row(1)[0]\n",
    "    v_xy = v_x.diff(reference_x) * J_cofactor_T.row(0)[1] + v_x.diff(reference_y) * J_cofactor_T.row(1)[1]\n",
    "\n",
    "    v_yy = v_y.diff(reference_x) * J_cofactor_T.row(0)[1] + v_y.diff(reference_y) * J_cofactor_T.row(1)[1]\n",
    "    # ------------------------------------------------------------------------------------------------------\n",
    "\n",
    "    # -----------------------bilinear-form------------------------------------------------------------------\n",
    "    A = u_xx * v_xx\n",
    "    B = u_xy * v_xy\n",
    "    b = u_xx * v_yy\n",
    "    C = u_yy * v_yy\n",
    "    # ------------------------------------------------------------------------------------------------------\n",
    "\n",
    "    # -----------------------integrals----------------------------------------------------------------------\n",
    "    sym_int_B = sympy.integrate(\n",
    "        A + 2 * B + C, (reference_y, 0, 1 - reference_x), (reference_x, 0, 1)\n",
    "    )\n",
    "    sym_int_b = sympy.integrate(\n",
    "        A + 2 * b + C, (reference_y, 0, 1 - reference_x), (reference_x, 0, 1)\n",
    "    )\n",
    "    sym_int_A = sympy.integrate(\n",
    "        first * second, (reference_y, 0, 1 - reference_x), (reference_x, 0, 1)\n",
    "    )\n",
    "\n",
    "    weak_form_functional_xyxy[idx][jdx] = sym_int_B\n",
    "    weak_form_functional_xxyy[idx][jdx] = sym_int_b\n",
    "    weak_form_right_part[idx][jdx] = sym_int_A\n",
    "# -----------------------------------------------------------------------------------------------------\n",
    "\n",
    "weak_form_functional_xxyy = sympy.Matrix(weak_form_functional_xxyy)\n",
    "weak_form_functional_xyxy = sympy.Matrix(weak_form_functional_xyxy)\n",
    "weak_form_right_part = sympy.Matrix(weak_form_right_part)\n",
    "\n",
    "# The determinant of the Jacobian does not depend on (x, y) so we can take it outside to make the symbolic integration faster\n",
    "weak_form_functional_xxyy = weak_form_functional_xxyy * abs(J_cofactor_T.det()) / J_cofactor_T.det()**4 # J_inv.det() == J_cofactor_T.det()\n",
    "weak_form_functional_xyxy = weak_form_functional_xyxy * abs(J_cofactor_T.det()) / J_cofactor_T.det()**4\n",
    "weak_form_right_part = weak_form_right_part * abs(J_cofactor_T.det())"
   ]
  },
  {
   "cell_type": "markdown",
   "id": "a8c92cab",
   "metadata": {},
   "source": [
    "# Define transformation matrices"
   ]
  },
  {
   "cell_type": "markdown",
   "id": "7266a9e6",
   "metadata": {},
   "source": [
    "### $V^{c}$"
   ]
  },
  {
   "cell_type": "code",
   "execution_count": 148,
   "id": "d049ac56",
   "metadata": {},
   "outputs": [],
   "source": [
    "V_c = sympy.diag(\n",
    "    1,\n",
    "    1,\n",
    "    1,\n",
    "    B1,\n",
    "    B2,\n",
    "    B3,\n",
    ")"
   ]
  },
  {
   "cell_type": "markdown",
   "id": "1aa1c18f",
   "metadata": {},
   "source": [
    "### $E$"
   ]
  },
  {
   "cell_type": "code",
   "execution_count": 149,
   "id": "c99d6b34",
   "metadata": {},
   "outputs": [],
   "source": [
    "E = [\n",
    "    [1, 0, 0, 0, 0, 0, 0, 0, 0],\n",
    "    [0, 1, 0, 0, 0, 0, 0, 0, 0],\n",
    "    [0, 0, 1, 0, 0, 0, 0, 0, 0],\n",
    "    [0, 0, 0, 1, 0, 0, 0, 0, 0],\n",
    "    [0, 0, 0, 0, 0, 1, 0, 0, 0],\n",
    "    [0, 0, 0, 0, 0, 0, 0, 1, 0],\n",
    "]\n",
    "E = sympy.Matrix(E)"
   ]
  },
  {
   "cell_type": "markdown",
   "id": "9c50044a",
   "metadata": {},
   "source": [
    "### $D$"
   ]
  },
  {
   "cell_type": "code",
   "execution_count": 150,
   "id": "81d94b78",
   "metadata": {},
   "outputs": [],
   "source": [
    "D = sympy.Matrix(\n",
    "    [\n",
    "        [1, 0, 0, 0, 0, 0],\n",
    "        [0, 1, 0, 0, 0, 0],\n",
    "        [0, 0, 1, 0, 0, 0],\n",
    "        [0, 0, 0, 1, 0, 0],\n",
    "        [0, -1 / l1, 1 / l1, 0, 0, 0],\n",
    "        [0, 0, 0, 0, 1, 0],\n",
    "        [-1 / l2, 0, 1 / l2, 0, 0, 0],\n",
    "        [0, 0, 0, 0, 0, 1],\n",
    "        [-1 / l3, 1 / l3, 0, 0, 0, 0],\n",
    "    ]\n",
    ")"
   ]
  },
  {
   "cell_type": "markdown",
   "id": "91406bd6",
   "metadata": {},
   "source": [
    "### $M$"
   ]
  },
  {
   "cell_type": "code",
   "execution_count": 151,
   "id": "44fbc566",
   "metadata": {},
   "outputs": [],
   "source": [
    "V = E @ V_c @ D\n",
    "M = V.T"
   ]
  },
  {
   "cell_type": "markdown",
   "id": "641e03f5",
   "metadata": {},
   "source": [
    "### Apply transformations"
   ]
  },
  {
   "cell_type": "code",
   "execution_count": 152,
   "id": "edcaa6a9",
   "metadata": {},
   "outputs": [],
   "source": [
    "weak_form_functional_xxyy = M @ weak_form_functional_xxyy @ M.T"
   ]
  },
  {
   "cell_type": "code",
   "execution_count": 153,
   "id": "bbc0b280",
   "metadata": {},
   "outputs": [],
   "source": [
    "weak_form_functional_xyxy = M @ weak_form_functional_xyxy @ M.T"
   ]
  },
  {
   "cell_type": "code",
   "execution_count": 154,
   "id": "a1347ec4",
   "metadata": {},
   "outputs": [],
   "source": [
    "weak_form_right_part = M @ weak_form_right_part @ M.T @ f_interpolation"
   ]
  },
  {
   "cell_type": "code",
   "execution_count": 155,
   "id": "07c5d814",
   "metadata": {},
   "outputs": [],
   "source": [
    "lambdify_symbols = [\n",
    "    reference_x_1,\n",
    "    reference_y_1,\n",
    "    reference_x_2,\n",
    "    reference_y_2,\n",
    "    reference_x_3,\n",
    "    reference_y_3,\n",
    "]"
   ]
  },
  {
   "cell_type": "code",
   "execution_count": 156,
   "id": "d9c94cc4",
   "metadata": {},
   "outputs": [],
   "source": [
    "weak_form_functional_xxyy_lambdified = sympy.lambdify(\n",
    "    lambdify_symbols, weak_form_functional_xxyy, cse=True\n",
    ")"
   ]
  },
  {
   "cell_type": "code",
   "execution_count": 157,
   "id": "87910873",
   "metadata": {},
   "outputs": [],
   "source": [
    "weak_form_functional_xyxy_lambdified = sympy.lambdify(\n",
    "    lambdify_symbols, weak_form_functional_xyxy, cse=True\n",
    ")"
   ]
  },
  {
   "cell_type": "code",
   "execution_count": 158,
   "id": "c37e389c",
   "metadata": {},
   "outputs": [],
   "source": [
    "weak_form_right_part_lambdified = sympy.lambdify(\n",
    "    [*lambdify_symbols, *f_interpolation_extended], weak_form_right_part, cse=True\n",
    ")"
   ]
  },
  {
   "cell_type": "code",
   "execution_count": 159,
   "metadata": {},
   "outputs": [],
   "source": [
    "interpolation_function = ((M@morley_basis).T @ f_interpolation)[0, 0]\n",
    "\n",
    "interpolation_function_lambdified = sympy.lambdify(\n",
    "    [*lambdify_symbols, *f_interpolation_extended, reference_x, reference_y],\n",
    "    interpolation_function,\n",
    "    cse=True,\n",
    ")"
   ]
  },
  {
   "cell_type": "code",
   "execution_count": 160,
   "metadata": {},
   "outputs": [],
   "source": [
    "f_interpolation_normal = sympy.Matrix(sympy.symbols(\"f_1:7\"))\n",
    "\n",
    "interpolation_function_normal = ((M@morley_basis).T @ f_interpolation_normal)[0, 0]\n",
    "\n",
    "interpolation_function_normal_lambdified = sympy.lambdify(\n",
    "    [*lambdify_symbols, *f_interpolation_normal, reference_x, reference_y],\n",
    "    interpolation_function_normal,\n",
    "    cse=True,\n",
    ")"
   ]
  },
  {
   "cell_type": "code",
   "execution_count": 161,
   "metadata": {},
   "outputs": [],
   "source": [
    "mapping_function_lambdified = sympy.lambdify(\n",
    "    [*lambdify_symbols, reference_x, reference_y], mapping_function[:, 0], cse=True\n",
    ")"
   ]
  },
  {
   "cell_type": "markdown",
   "id": "29463af6",
   "metadata": {},
   "source": [
    "### Save the results"
   ]
  },
  {
   "cell_type": "code",
   "execution_count": 162,
   "id": "c59c521b",
   "metadata": {},
   "outputs": [],
   "source": [
    "dill.dump(\n",
    "    weak_form_functional_xxyy_lambdified,\n",
    "    open(\n",
    "        \"../calculations/nonconforming_quadratic_morley_weak_form_functional_xxyy\", \"wb\"\n",
    "    ),\n",
    ")\n",
    "dill.dump(\n",
    "    weak_form_functional_xyxy_lambdified,\n",
    "    open(\n",
    "        \"../calculations/nonconforming_quadratic_morley_weak_form_functional_xyxy\", \"wb\"\n",
    "    ),\n",
    ")\n",
    "dill.dump(\n",
    "    weak_form_right_part_lambdified,\n",
    "    open(\"../calculations/nonconforming_quadratic_morley_weak_form_right_part\", \"wb\"),\n",
    ")\n",
    "\n",
    "dill.dump(\n",
    "    interpolation_function_lambdified,\n",
    "    open(\"../calculations/nonconforming_quadratic_morley_basis\", \"wb\"),\n",
    ")\n",
    "\n",
    "dill.dump(\n",
    "    interpolation_function_normal_lambdified,\n",
    "    open(\"../calculations/nonconforming_quadratic_morley_basis_normal\", \"wb\"),\n",
    ")\n",
    "\n",
    "\n",
    "dill.dump(\n",
    "    mapping_function_lambdified,\n",
    "    open(\"../calculations/nonconforming_quadratic_morley_mapping_function\", \"wb\"),\n",
    ")"
   ]
  }
 ],
 "metadata": {
  "kernelspec": {
   "display_name": "Python 3 (ipykernel)",
   "language": "python",
   "name": "python3"
  },
  "language_info": {
   "codemirror_mode": {
    "name": "ipython",
    "version": 3
   },
   "file_extension": ".py",
   "mimetype": "text/x-python",
   "name": "python",
   "nbconvert_exporter": "python",
   "pygments_lexer": "ipython3",
   "version": "3.9.18"
  }
 },
 "nbformat": 4,
 "nbformat_minor": 5
}
