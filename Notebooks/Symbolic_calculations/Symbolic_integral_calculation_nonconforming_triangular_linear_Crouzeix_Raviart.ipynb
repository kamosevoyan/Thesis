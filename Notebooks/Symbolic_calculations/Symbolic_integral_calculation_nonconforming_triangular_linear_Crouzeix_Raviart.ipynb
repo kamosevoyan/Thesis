{
 "cells": [
  {
   "cell_type": "code",
   "execution_count": null,
   "metadata": {},
   "outputs": [],
   "source": [
    "import sympy\n",
    "from sympy import lambdify\n",
    "import dill\n",
    "dill.settings[\"recurse\"] = True\n",
    "from sympy import Rational as R\n",
    "from tqdm.notebook import tqdm"
   ]
  },
  {
   "cell_type": "code",
   "execution_count": null,
   "metadata": {},
   "outputs": [],
   "source": [
    "reference_x, reference_y = sympy.symbols(\"x y\")\n",
    "reference_x_1, reference_x_2, reference_x_3 = sympy.symbols(\"x_1:4\")\n",
    "reference_y_1, reference_y_2, reference_y_3 = sympy.symbols(\"y_1:4\")\n",
    "f_interpolation = sympy.Matrix(sympy.symbols(\"f_1:4\"))"
   ]
  },
  {
   "cell_type": "code",
   "execution_count": null,
   "metadata": {},
   "outputs": [],
   "source": [
    "monomial_basis = sympy.Matrix([\n",
    "    1,\n",
    "    reference_x,\n",
    "    reference_y,\n",
    "])\n",
    "\n",
    "V = sympy.zeros(3, 3)\n",
    "\n",
    "for dofidx, basis in enumerate(monomial_basis):\n",
    "    \n",
    "    V[dofidx, 0] = basis.subs({reference_x: R(1,2), reference_y: R(1,2)})\n",
    "    V[dofidx, 1] = basis.subs({reference_x: 0, reference_y: R(1,2)})\n",
    "    V[dofidx, 2] = basis.subs({reference_x: R(1,2), reference_y: 0})\n",
    "    \n",
    "crouzeix_raviart_basis = V.inv() @ monomial_basis"
   ]
  },
  {
   "cell_type": "code",
   "execution_count": null,
   "metadata": {},
   "outputs": [],
   "source": [
    "global_x = crouzeix_raviart_basis[0]*reference_x_1 + crouzeix_raviart_basis[1]*reference_x_2 + crouzeix_raviart_basis[2]*reference_x_3\n",
    "global_y = crouzeix_raviart_basis[0]*reference_y_1 + crouzeix_raviart_basis[1]*reference_y_2 + crouzeix_raviart_basis[2]*reference_y_3\n",
    "\n",
    "J = sympy.Matrix([global_x, global_y]).jacobian([reference_x, reference_y]).inv()"
   ]
  },
  {
   "cell_type": "code",
   "execution_count": null,
   "metadata": {},
   "outputs": [],
   "source": [
    "u = sympy.Matrix([sympy.Function(\"u\")(reference_x, reference_y)])\n",
    "v = sympy.Matrix([sympy.Function(\"v\")(reference_x, reference_y)])"
   ]
  },
  {
   "cell_type": "code",
   "execution_count": null,
   "metadata": {},
   "outputs": [],
   "source": [
    "grad_u = u.jacobian([reference_x, reference_y])@J\n",
    "grad_v = v.jacobian([reference_x, reference_y])@J\n",
    "\n",
    "weak_form = grad_u@grad_v.T"
   ]
  },
  {
   "cell_type": "code",
   "execution_count": null,
   "metadata": {},
   "outputs": [],
   "source": [
    "N = len(crouzeix_raviart_basis)\n",
    "\n",
    "weak_form_functional = [[0 for i in range(N)] for j in range(N)]\n",
    "weak_form_right_part = [[0 for i in range(N)] for j in range(N)]\n",
    "\n",
    "for idx, jdx in tqdm([(idx, jdx) for idx in range(N) for jdx in range(N)]):\n",
    "    first = crouzeix_raviart_basis[idx]\n",
    "    second = crouzeix_raviart_basis[jdx]\n",
    "\n",
    "    A = weak_form.subs({u[0]:first, v[0]:second})\n",
    "    A = sympy.simplify(A)\n",
    "    B = first * second\n",
    "    B = sympy.simplify(B)\n",
    "\n",
    "    if not A.has(reference_x, reference_y):\n",
    "        sym_int_A = R(1, 2) * A\n",
    "    else:\n",
    "        sym_int_A = sympy.integrate(A, (reference_y, 0, R(1) - reference_x), (reference_x, 0, R(1)))\n",
    "    sym_int_B = sympy.integrate(B, (reference_y, 0, R(1) - reference_x), (reference_x, 0, R(1)))\n",
    "\n",
    "    weak_form_functional[idx][jdx] = sym_int_A\n",
    "    weak_form_right_part[idx][jdx] = sym_int_B\n",
    "\n",
    "weak_form_functional = sympy.Matrix(weak_form_functional)\n",
    "weak_form_right_part = sympy.Matrix(weak_form_right_part)\n",
    "\n",
    "weak_form_functional = weak_form_functional * abs(J.inv().det())\n",
    "weak_form_right_part = weak_form_right_part * abs(J.inv().det())"
   ]
  },
  {
   "cell_type": "code",
   "execution_count": null,
   "metadata": {},
   "outputs": [],
   "source": [
    "weak_form_functional = sympy.Matrix(sympy.simplify(weak_form_functional))\n",
    "weak_form_right_part = sympy.Matrix(sympy.simplify(weak_form_right_part))\n",
    "f_interpolation = sympy.Matrix(f_interpolation)"
   ]
  },
  {
   "cell_type": "code",
   "execution_count": null,
   "metadata": {},
   "outputs": [],
   "source": [
    "lambdify_symbols = [reference_x_1, reference_y_1, reference_x_2, reference_y_2, reference_x_3, reference_y_3]"
   ]
  },
  {
   "cell_type": "code",
   "execution_count": null,
   "metadata": {},
   "outputs": [],
   "source": [
    "weak_form_functional_lambdified = sympy.lambdify(lambdify_symbols, weak_form_functional, cse=True)"
   ]
  },
  {
   "cell_type": "code",
   "execution_count": null,
   "metadata": {},
   "outputs": [],
   "source": [
    "weak_form_right_part_lambdified = sympy.lambdify([*lambdify_symbols, *f_interpolation], weak_form_right_part@f_interpolation, cse=True)"
   ]
  },
  {
   "cell_type": "code",
   "execution_count": null,
   "metadata": {},
   "outputs": [],
   "source": [
    "interpolation_function = sympy.lambdify([*lambdify_symbols, *f_interpolation, reference_x, reference_y], (crouzeix_raviart_basis.T@f_interpolation)[0, 0], cse=True)"
   ]
  },
  {
   "cell_type": "code",
   "execution_count": null,
   "metadata": {},
   "outputs": [],
   "source": [
    "mapping_function = sympy.Matrix([global_x, global_y])\n",
    "mapping_function_lambdified = sympy.lambdify([*lambdify_symbols, reference_x, reference_y], mapping_function[:, 0], cse=True)"
   ]
  },
  {
   "cell_type": "code",
   "execution_count": null,
   "metadata": {},
   "outputs": [],
   "source": [
    "dill.dump(weak_form_functional_lambdified, open(\"../calculations/nonconforming_linear_crouzeix_raviart_weak_form_functional\", \"wb\"))\n",
    "dill.dump(weak_form_right_part_lambdified, open(\"../calculations/nonconforming_linear_crouzeix_raviart_weak_form_right_part\", \"wb\"))\n",
    "dill.dump(interpolation_function, open(\"../calculations/nonconforming_linear_crouzeix_raviart_basis\", \"wb\"))\n",
    "dill.dump(mapping_function_lambdified, open(\"../calculations/nonconforming_linear_crouzeix_raviart_mapping_function\", \"wb\"))"
   ]
  }
 ],
 "metadata": {
  "kernelspec": {
   "display_name": "base",
   "language": "python",
   "name": "python3"
  },
  "language_info": {
   "codemirror_mode": {
    "name": "ipython",
    "version": 3
   },
   "file_extension": ".py",
   "mimetype": "text/x-python",
   "name": "python",
   "nbconvert_exporter": "python",
   "pygments_lexer": "ipython3",
   "version": "3.9.7"
  }
 },
 "nbformat": 4,
 "nbformat_minor": 2
}
