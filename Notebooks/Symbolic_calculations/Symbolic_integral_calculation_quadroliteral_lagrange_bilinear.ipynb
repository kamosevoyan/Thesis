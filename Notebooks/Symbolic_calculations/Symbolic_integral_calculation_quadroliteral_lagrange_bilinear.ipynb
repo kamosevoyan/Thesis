{
 "cells": [
  {
   "cell_type": "code",
   "execution_count": 14,
   "id": "f08b13c7",
   "metadata": {},
   "outputs": [],
   "source": [
    "import sympy\n",
    "import numpy as np\n",
    "from tqdm import tqdm\n",
    "import dill\n",
    "dill.settings[\"recurse\"] = True\n",
    "from sympy import Rational as R"
   ]
  },
  {
   "cell_type": "code",
   "execution_count": 2,
   "id": "102f5975",
   "metadata": {},
   "outputs": [],
   "source": [
    "(\n",
    "    reference_x,\n",
    "    reference_y,\n",
    "    reference_x_1,\n",
    "    reference_y_1,\n",
    "    reference_x_2,\n",
    "    reference_y_2,\n",
    "    reference_x_3,\n",
    "    reference_y_3,\n",
    "    reference_x_4,\n",
    "    reference_y_4,\n",
    ") = sympy.symbols(\"x y x_1 y_1 x_2 y_2 x_3 y_3 x_4 y_4\")\n",
    "\n",
    "f_interpolation = sympy.Matrix(sympy.symbols(\"f_1:5\"))\n"
   ]
  },
  {
   "cell_type": "markdown",
   "id": "5eaaf6dd",
   "metadata": {},
   "source": [
    "# Get basis functions"
   ]
  },
  {
   "cell_type": "code",
   "execution_count": 3,
   "id": "a25db112",
   "metadata": {},
   "outputs": [],
   "source": [
    "monomial_basis = sympy.Matrix(\n",
    "[\n",
    "    1,\n",
    "    reference_x,\n",
    "    reference_y,\n",
    "    reference_x*reference_y\n",
    " ]\n",
    ")"
   ]
  },
  {
   "cell_type": "code",
   "execution_count": 4,
   "id": "bfe4655c",
   "metadata": {},
   "outputs": [],
   "source": [
    "Vander = sympy.Matrix(np.zeros((4, 4)))\n",
    "\n",
    "for i, basis in enumerate(monomial_basis):\n",
    "\n",
    "    v1 = {reference_x: 0, reference_y: 0}\n",
    "    Vander[i, 0] = basis.subs(v1)\n",
    "\n",
    "    v2 = {reference_x: 1, reference_y: 0}\n",
    "    Vander[i, 1] = basis.subs(v2)\n",
    "\n",
    "    v3 = {reference_x: 1, reference_y: 1}\n",
    "    Vander[i, 2] = basis.subs(v3)\n",
    "    \n",
    "    v4 = {reference_x: 0, reference_y: 1}\n",
    "    Vander[i, 3] = basis.subs(v4)"
   ]
  },
  {
   "cell_type": "code",
   "execution_count": 5,
   "id": "5d1881ea",
   "metadata": {},
   "outputs": [],
   "source": [
    "lagrange_bilinear_basis = Vander.inv() @ monomial_basis"
   ]
  },
  {
   "cell_type": "markdown",
   "id": "8cac3db9",
   "metadata": {},
   "source": [
    "# Get mapping function"
   ]
  },
  {
   "cell_type": "code",
   "execution_count": 6,
   "id": "865cd2af",
   "metadata": {},
   "outputs": [],
   "source": [
    "monomial_basis = sympy.Matrix(\n",
    "[\n",
    "    1,\n",
    "    reference_x,\n",
    "    reference_y,\n",
    "    reference_x*reference_y\n",
    " ]\n",
    ")\n",
    "\n",
    "V = sympy.zeros(4, 4)\n",
    "\n",
    "for dofidx, basis in enumerate(monomial_basis):\n",
    "\n",
    "    V[dofidx, 0] = basis.subs({reference_x: 0, reference_y: 0})\n",
    "    V[dofidx, 1] = basis.subs({reference_x: 1, reference_y: 0})\n",
    "    V[dofidx, 2] = basis.subs({reference_x: 1, reference_y: 1})\n",
    "    V[dofidx, 3] = basis.subs({reference_x: 0, reference_y: 1})\n",
    "    \n",
    "\n",
    "mapping_basis = V.inv() @ monomial_basis\n",
    "\n",
    "global_x = (\n",
    "      mapping_basis[0] * reference_x_1\n",
    "    + mapping_basis[1] * reference_x_2\n",
    "    + mapping_basis[2] * reference_x_3\n",
    "    + mapping_basis[3] * reference_x_4\n",
    ")\n",
    "global_y = (\n",
    "      mapping_basis[0] * reference_y_1\n",
    "    + mapping_basis[1] * reference_y_2\n",
    "    + mapping_basis[2] * reference_y_3\n",
    "    + mapping_basis[3] * reference_y_4\n",
    ")\n",
    "\n",
    "mapping_function = sympy.Matrix([global_x, global_y])"
   ]
  },
  {
   "cell_type": "code",
   "execution_count": 7,
   "metadata": {},
   "outputs": [],
   "source": [
    "J = mapping_function.jacobian([reference_x, reference_y]).inv()"
   ]
  },
  {
   "cell_type": "code",
   "execution_count": 8,
   "metadata": {},
   "outputs": [],
   "source": [
    "J_cofactor_T = mapping_function.jacobian([reference_x, reference_y]).cofactor_matrix().T"
   ]
  },
  {
   "cell_type": "code",
   "execution_count": 31,
   "metadata": {},
   "outputs": [],
   "source": [
    "u = sympy.Matrix([sympy.Function(\"u\")(reference_x, reference_y)])\n",
    "v = sympy.Matrix([sympy.Function(\"v\")(reference_x, reference_y)])\n",
    "\n",
    "grad_u = u.jacobian([reference_x, reference_y])@J_cofactor_T\n",
    "grad_v = v.jacobian([reference_x, reference_y])@J_cofactor_T\n",
    "\n",
    "weak_form = grad_u@grad_v.T"
   ]
  },
  {
   "cell_type": "markdown",
   "metadata": {},
   "source": [
    "### Calculate bilinear form and right values for forward pushed reference element"
   ]
  },
  {
   "cell_type": "code",
   "execution_count": 32,
   "metadata": {},
   "outputs": [
    {
     "name": "stderr",
     "output_type": "stream",
     "text": [
      "100%|██████████| 16/16 [00:00<00:00, 150.53it/s]\n"
     ]
    }
   ],
   "source": [
    "N = len(lagrange_bilinear_basis)\n",
    "\n",
    "weak_form_functional = [[0 for i in range(N)] for j in range(N)]\n",
    "weak_form_right_part = [[0 for i in range(N)] for j in range(N)]\n",
    "\n",
    "for idx, jdx in tqdm([(idx, jdx) for idx in range(N) for jdx in range(N)]):\n",
    "    first = lagrange_bilinear_basis[idx]\n",
    "    second = lagrange_bilinear_basis[jdx]\n",
    "\n",
    "    weak_form_functional[idx][jdx] = weak_form.subs({u[0]:first, v[0]:second}).doit()\n",
    "    weak_form_right_part[idx][jdx] = first * second\n",
    "\n",
    "weak_form_functional = sympy.Matrix(weak_form_functional)\n",
    "weak_form_right_part = sympy.Matrix(weak_form_right_part)\n",
    "\n",
    "weak_form_functional = weak_form_functional / J_cofactor_T.det()**2 * abs(J_cofactor_T.det())\n",
    "weak_form_right_part = weak_form_right_part * abs(J_cofactor_T.det())"
   ]
  },
  {
   "cell_type": "code",
   "execution_count": 16,
   "metadata": {},
   "outputs": [],
   "source": [
    "lambdify_symbols = [\n",
    "    reference_x, reference_y,\n",
    "    reference_x_1,\n",
    "    reference_y_1,\n",
    "    reference_x_2,\n",
    "    reference_y_2,\n",
    "    reference_x_3,\n",
    "    reference_y_3,\n",
    "    reference_x_4,\n",
    "    reference_y_4,    \n",
    "]"
   ]
  },
  {
   "cell_type": "code",
   "execution_count": 35,
   "metadata": {},
   "outputs": [],
   "source": [
    "weak_form_right_part = weak_form_right_part @ f_interpolation\n",
    "weak_form_right_part_lambdified = sympy.lambdify([*lambdify_symbols, *f_interpolation], weak_form_right_part, cse=True)"
   ]
  },
  {
   "cell_type": "code",
   "execution_count": 36,
   "metadata": {},
   "outputs": [],
   "source": [
    "weak_form_functional_lambdified = sympy.lambdify(lambdify_symbols, weak_form_functional, cse=True)"
   ]
  },
  {
   "cell_type": "code",
   "execution_count": 37,
   "metadata": {},
   "outputs": [],
   "source": [
    "quadrature_weights = np.array([\n",
    "0.09754131164361921,\n",
    "0.2117163509105210,\n",
    "0.2255355359769118,\n",
    "0.09730415294011353,\n",
    "0.2255978016857150,\n",
    "0.3510531956811132,\n",
    "0.3511314245095946,\n",
    "0.2118525411926204,\n",
    "0.2116201646536030,\n",
    "0.3511857026570127,\n",
    "0.3512637749060175,\n",
    "0.2256542961958117,\n",
    "0.09746993474514315,\n",
    "0.2257166005443878,\n",
    "0.2117562971146869,\n",
    "0.09723199711654983,\n",
    "0.06609123516265450,\n",
    "0.06607427278802323,\n",
    "0.06606825552658292,\n",
    "0.06605163800172888,\n",
    "0.04798054519241257,\n",
    "0.04797022666161702,\n",
    "0.04807168904439760,\n",
    "0.04806105514916250,\n",
    "])\n",
    "\n",
    "quadrature_weights /= quadrature_weights.sum()\n",
    "\n",
    "quadrature_points = np.array([\n",
    "[-0.1886381798247768, -0.9534228278198672],\n",
    "[0.3158243867065065, -0.8124679583416120],\n",
    "[0.7122535487614264, -0.5253420828029804],\n",
    "[0.9536499381198605, -0.1884848209339622],\n",
    "[-0.5255140441450369, -0.7118387124823607],\n",
    "[-0.04156622116123301, -0.4250108457039333],\n",
    "[0.4249386754351080, -0.04191684210258181],\n",
    "[0.8124112175549880, 0.3156521043607226],\n",
    "[-0.8126297846315392, -0.3155908346134177],\n",
    "[-0.4247553230472783, 0.04140201954870253],\n",
    "[0.04175248769766685, 0.4246831988441449],\n",
    "[0.5251289118559497, 0.7121637731013759],\n",
    "[-0.9534285320988584, 0.1886914057472521],\n",
    "[-0.7117485896157119, 0.5253016177503731],\n",
    "[-0.3154177460532097, 0.8125735341734832],\n",
    "[0.1885390832384737, 0.9536564551709946],\n",
    "[-0.8257630699887589, -0.9394679906605139],\n",
    "[0.9394356990536500, -0.8259480185291852],\n",
    "[-0.9395368212945202, 0.8256048988564928],\n",
    "[0.8257904012838660, 0.9395040010720435],\n",
    "[-0.9827093489403464, -0.6980866624366492],\n",
    "[0.6978195696956143, -0.9827223639208844],\n",
    "[-0.6983291127406627, 0.9825558709397986],\n",
    "[0.9825693832248631, 0.6980615873134067],\n",
    "])\n",
    "\n",
    "quadrature_points[:, 0] = quadrature_points[:, 0] / 2 + 0.5\n",
    "quadrature_points[:, 1] = quadrature_points[:, 1] / 2 + 0.5"
   ]
  },
  {
   "cell_type": "code",
   "execution_count": 38,
   "metadata": {},
   "outputs": [],
   "source": [
    "def weak_form_functional_lambdified_quadrature(x_1, y_1, x_2, y_2, x_3, y_3, x_4, y_4):\n",
    "    \n",
    "    return weak_form_functional_lambdified(*quadrature_points.T, x_1, y_1, x_2, y_2, x_3, y_3, x_4, y_4)@quadrature_weights"
   ]
  },
  {
   "cell_type": "code",
   "execution_count": 39,
   "metadata": {},
   "outputs": [],
   "source": [
    "def weak_form_right_part_lambdified_quadrature(x_1, y_1, x_2, y_2, x_3, y_3, x_4, y_4, f_1, f_2, f_3, f_4):\n",
    "    \n",
    "    return weak_form_right_part_lambdified(*quadrature_points.T, x_1, y_1, x_2, y_2, x_3, y_3, x_4, y_4, f_1, f_2, f_3, f_4)@quadrature_weights"
   ]
  },
  {
   "cell_type": "code",
   "execution_count": 40,
   "metadata": {},
   "outputs": [],
   "source": [
    "interpolation_function = (lagrange_bilinear_basis.T @ f_interpolation)[0, 0]\n",
    "\n",
    "interpolation_function_lambdified = sympy.lambdify(\n",
    "    [*lambdify_symbols, *f_interpolation],\n",
    "    interpolation_function,\n",
    "    cse=True,\n",
    ")"
   ]
  },
  {
   "cell_type": "code",
   "execution_count": 41,
   "metadata": {},
   "outputs": [],
   "source": [
    "mapping_function_lambdified = sympy.lambdify(\n",
    "    [*lambdify_symbols], mapping_function[:, 0], cse=True\n",
    ")"
   ]
  },
  {
   "cell_type": "markdown",
   "id": "29463af6",
   "metadata": {},
   "source": [
    "### Save the results"
   ]
  },
  {
   "cell_type": "code",
   "execution_count": 44,
   "id": "c59c521b",
   "metadata": {},
   "outputs": [],
   "source": [
    "dill.dump(\n",
    "    weak_form_functional_lambdified_quadrature,\n",
    "    open(\n",
    "        \"../calculations/bilinear_lagrange_weak_form_functional\", \"wb\"\n",
    "    ),\n",
    ")\n",
    "\n",
    "dill.dump(\n",
    "    weak_form_right_part_lambdified_quadrature,\n",
    "    open(\"../calculations/bilinear_lagrange_weak_form_right_part\", \"wb\"),\n",
    ")\n",
    "\n",
    "dill.dump(\n",
    "    interpolation_function_lambdified,\n",
    "    open(\"../calculations/bilinear_lagrange_basis\", \"wb\"),\n",
    ")\n",
    "\n",
    "dill.dump(\n",
    "    mapping_function_lambdified,\n",
    "    open(\"../calculations/bilinear_lagrange_mapping_function\", \"wb\"),\n",
    ")"
   ]
  }
 ],
 "metadata": {
  "kernelspec": {
   "display_name": "Python 3 (ipykernel)",
   "language": "python",
   "name": "python3"
  },
  "language_info": {
   "codemirror_mode": {
    "name": "ipython",
    "version": 3
   },
   "file_extension": ".py",
   "mimetype": "text/x-python",
   "name": "python",
   "nbconvert_exporter": "python",
   "pygments_lexer": "ipython3",
   "version": "3.9.7"
  }
 },
 "nbformat": 4,
 "nbformat_minor": 5
}
