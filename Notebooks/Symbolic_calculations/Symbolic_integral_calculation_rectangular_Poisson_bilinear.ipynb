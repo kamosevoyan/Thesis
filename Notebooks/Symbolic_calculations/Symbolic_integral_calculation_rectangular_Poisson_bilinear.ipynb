{
 "cells": [
  {
   "cell_type": "code",
   "execution_count": null,
   "id": "43c2f520",
   "metadata": {},
   "outputs": [],
   "source": [
    "import sympy\n",
    "from sympy import Rational as R\n",
    "import matplotlib.pyplot as plt\n",
    "import numpy as np"
   ]
  },
  {
   "cell_type": "code",
   "execution_count": null,
   "id": "894ffca3",
   "metadata": {},
   "outputs": [],
   "source": [
    "x, y, xi, yi = sympy.symbols(\"x y xi yi\")\n",
    "h1, h2 = sympy.symbols(\"h1 h2\", positive=True)"
   ]
  },
  {
   "cell_type": "code",
   "execution_count": null,
   "id": "966621ac",
   "metadata": {},
   "outputs": [],
   "source": [
    "phix = sympy.Piecewise(\n",
    "    (1 / h1 * (x + h1), (-h1 <= x) & (x <= 0)),\n",
    "    (1 / h1 * (h1 - x), (0 <= x) & (x <= h1)),\n",
    "    (0, True),\n",
    ")\n",
    "\n",
    "phiy = sympy.Piecewise(\n",
    "    (1 / h2 * (y + h2), (-h2 <= y) & (y <= 0)),\n",
    "    (1 / h2 * (h2 - y), (0 <= y) & (y <= h2)),\n",
    "    (0, True),\n",
    ")"
   ]
  },
  {
   "cell_type": "code",
   "execution_count": null,
   "id": "7a1f6aa3",
   "metadata": {},
   "outputs": [],
   "source": [
    "A = phiy\n",
    "B = phix\n",
    "\n",
    "for i in range(-1, 2):\n",
    "    for j in range(-1, 2):\n",
    "        a = phiy.subs(y, y - i * h2)\n",
    "        b = phix.subs(x, x - j * h1)\n",
    "\n",
    "        integrant_y = sympy.diff(a, y) * sympy.diff(A, y)\n",
    "        integrant_x = sympy.diff(b, x) * sympy.diff(B, x)\n",
    "\n",
    "        integrant_Y = a * A\n",
    "        integrant_X = b * B\n",
    "\n",
    "        xx = sympy.integrate(integrant_x, (x, -h1, h1))\n",
    "        yy = sympy.integrate(integrant_y, (y, -h2, h2))\n",
    "\n",
    "        XX = sympy.integrate(integrant_X, (x, -h1, h1))\n",
    "        YY = sympy.integrate(integrant_Y, (y, -h2, h2))"
   ]
  },
  {
   "cell_type": "code",
   "execution_count": null,
   "id": "89ddb1b0",
   "metadata": {},
   "outputs": [],
   "source": [
    "for y_offset in [-1, +0, +1]:\n",
    "    for x_offset in [-1, +0, +1]:\n",
    "        \n",
    "        integral_x = sympy.integrate(phix.subs(h1, 1)*phix.subs(h1, 1).subs(x, x-x_offset), (x, -1, +1))\n",
    "        integral_y = sympy.integrate(phiy.subs(h2, 1)*phiy.subs(h2, 1).subs(y, y-y_offset), (y, -1, +1))\n",
    "        \n",
    "        print(integral_x * integral_y)"
   ]
  }
 ],
 "metadata": {
  "kernelspec": {
   "display_name": "Python 3 (ipykernel)",
   "language": "python",
   "name": "python3"
  },
  "language_info": {
   "codemirror_mode": {
    "name": "ipython",
    "version": 3
   },
   "file_extension": ".py",
   "mimetype": "text/x-python",
   "name": "python",
   "nbconvert_exporter": "python",
   "pygments_lexer": "ipython3",
   "version": "3.9.12"
  }
 },
 "nbformat": 4,
 "nbformat_minor": 5
}
