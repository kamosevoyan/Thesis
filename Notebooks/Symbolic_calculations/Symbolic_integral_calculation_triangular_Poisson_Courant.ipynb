{
 "cells": [
  {
   "cell_type": "code",
   "execution_count": null,
   "id": "14c4e75a",
   "metadata": {},
   "outputs": [],
   "source": [
    "import sympy\n",
    "import numpy as np\n",
    "import matplotlib.pyplot as plt"
   ]
  },
  {
   "cell_type": "code",
   "execution_count": null,
   "id": "2cfea54d",
   "metadata": {},
   "outputs": [],
   "source": [
    "x, y = sympy.symbols(\"x y\")"
   ]
  },
  {
   "cell_type": "code",
   "execution_count": null,
   "id": "6e2d0822",
   "metadata": {},
   "outputs": [],
   "source": [
    "f1 = 1-y\n",
    "f2 = 1+x-y\n",
    "f3 = 1+x\n",
    "f4 = 1+y\n",
    "f5 = 1-x+y\n",
    "f6 = 1-x\n",
    "\n",
    "F = sympy.Piecewise(\n",
    "                    (f1, (+0 < x) & (x < +1) & (+x < y) & (y < 1)),\n",
    "                    (f2, (-1 < x) & (x < +0) & (+0 < y) & (y < 1+x)),\n",
    "                    (f3, (-1 < x) & (x < +0) & (+x < y) & (y < +0)),\n",
    "                    (f4, (-1 < x) & (x < +0) & (-1 < y) & (y < x)),\n",
    "                    (f5, (+0 < x) & (x < +1) & (x-1 < y) & (y < +0)),\n",
    "                    (f6, (+0 < x) & (x < +1) & (+0 < y) & (y < x)),\n",
    "                    (0, True)\n",
    "                )"
   ]
  },
  {
   "cell_type": "code",
   "execution_count": null,
   "id": "04f3aa14",
   "metadata": {},
   "outputs": [],
   "source": [
    "for y_offset in [-1, +0, +1]:\n",
    "    for x_offset in [-1, +0, +1]:\n",
    "        res = 0\n",
    "        for x_lims in [(x, -1, +0), (x, +0, +1)]:\n",
    "            for y_lims in [(y, -1, +0), (y, +0, +1)]:\n",
    "                integral_x = sympy.integrate(F*F.subs(x, x-x_offset).subs(y, y-y_offset), x_lims)\n",
    "                integral_y = sympy.integrate(integral_x, y_lims)\n",
    "\n",
    "                res += integral_y\n",
    "        print(res)"
   ]
  }
 ],
 "metadata": {
  "kernelspec": {
   "display_name": "Python 3 (ipykernel)",
   "language": "python",
   "name": "python3"
  },
  "language_info": {
   "codemirror_mode": {
    "name": "ipython",
    "version": 3
   },
   "file_extension": ".py",
   "mimetype": "text/x-python",
   "name": "python",
   "nbconvert_exporter": "python",
   "pygments_lexer": "ipython3",
   "version": "3.9.12"
  }
 },
 "nbformat": 4,
 "nbformat_minor": 5
}
