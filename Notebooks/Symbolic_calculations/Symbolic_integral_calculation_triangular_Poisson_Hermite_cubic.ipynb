{
 "cells": [
  {
   "cell_type": "code",
   "execution_count": 39,
   "id": "f08b13c7",
   "metadata": {},
   "outputs": [],
   "source": [
    "import sympy\n",
    "import matplotlib.pyplot as plt\n",
    "import numpy as np\n",
    "from tqdm import tqdm\n",
    "import symfem\n",
    "from sympy import Rational\n",
    "import dill\n",
    "\n",
    "dill.settings[\"recurse\"] = True\n",
    "from sympy import Rational as R"
   ]
  },
  {
   "cell_type": "markdown",
   "id": "8cac3db9",
   "metadata": {},
   "source": [
    "# Necessary symbols"
   ]
  },
  {
   "cell_type": "code",
   "execution_count": 59,
   "id": "ec0f31c1",
   "metadata": {},
   "outputs": [],
   "source": [
    "x, y, x_1, y_1, x_2, y_2, x_3, y_3 = sympy.symbols(\"x y x_1 y_1 x_2 y_2 x_3 y_3\")\n",
    "p1, p2, p3 = sympy.symbols(\"p1:4\")\n",
    "right_vals = sympy.Matrix(sympy.symbols(\"f_1:10\"))"
   ]
  },
  {
   "cell_type": "code",
   "execution_count": 41,
   "id": "8c5ae4a2",
   "metadata": {},
   "outputs": [],
   "source": [
    "q1 = p1**2 * (R(3) - R(2) * p1) + R(2) * p1 * p2 * p3\n",
    "q1 = q1.subs(p3, R(1) - p1 - p2)\n",
    "\n",
    "q2 = p2**2 * (R(3) - R(2) * p2) + R(2) * p1 * p2 * p3\n",
    "q2 = q2.subs(p3, R(1) - p1 - p2)\n",
    "\n",
    "q3 = p3**2 * (R(3) - R(2) * p3) + R(2) * p1 * p2 * p3\n",
    "q3 = q3.subs(p3, R(1) - p1 - p2)\n",
    "\n",
    "r1 = p1**2 * (p1 - R(1)) - p1 * p2 * p3\n",
    "r1 = r1.subs(p3, R(1) - p1 - p2)\n",
    "\n",
    "r2 = p2**2 * p1 + R(1, 2) * p1 * p2 * p3\n",
    "r2 = r2.subs(p3, R(1) - p1 - p2)\n",
    "\n",
    "r3 = p3**2 * p1 + R(1, 2) * p1 * p2 * p3\n",
    "r3 = r3.subs(p3, R(1) - p1 - p2)\n",
    "\n",
    "s1 = p1**2 * p2 + R(1, 2) * p1 * p2 * p3\n",
    "s1 = s1.subs(p3, R(1) - p1 - p2)\n",
    "\n",
    "s2 = p2**2 * (p2 - R(1)) - p1 * p2 * p3\n",
    "s2 = s2.subs(p3, R(1) - p1 - p2)\n",
    "\n",
    "s3 = p3**2 * p2 + R(1, 2) * p1 * p2 * p3\n",
    "s3 = s3.subs(p3, R(1) - p1 - p2)\n",
    "\n",
    "hermit_basis = [q3, r3, s3, q1, r1, s1, q2, r2, s2]\n",
    "\n",
    "hermit_basis = sympy.Matrix([itm.subs(p1, x).subs(p2, y) for itm in hermit_basis])"
   ]
  },
  {
   "cell_type": "code",
   "execution_count": 42,
   "id": "9fe42ad1",
   "metadata": {},
   "outputs": [],
   "source": [
    "delta = x_1 * y_2 - x_1 * y_3 - x_2 * y_1 + x_2 * y_3 + x_3 * y_1 - x_3 * y_2\n",
    "\n",
    "P_1_x = (-y_1 + y_3) / delta\n",
    "P_1_y = (+x_1 - x_3) / delta\n",
    "\n",
    "P_2_x = (+y_1 - y_2) / delta\n",
    "P_2_y = (-x_1 + x_2) / delta\n",
    "\n",
    "J = sympy.Matrix(\n",
    "    [\n",
    "        [P_1_x, P_1_y],\n",
    "        [P_2_x, P_2_y],\n",
    "    ]\n",
    ")"
   ]
  },
  {
   "cell_type": "code",
   "execution_count": 43,
   "id": "1a7d2f3d",
   "metadata": {},
   "outputs": [],
   "source": [
    "final_parameters = [x_1, y_1, x_2, y_2, x_3, y_3]"
   ]
  },
  {
   "cell_type": "code",
   "execution_count": 44,
   "id": "a8695abb",
   "metadata": {},
   "outputs": [],
   "source": [
    "N = len(hermit_basis)"
   ]
  },
  {
   "cell_type": "code",
   "execution_count": 47,
   "id": "5662e8fe",
   "metadata": {},
   "outputs": [
    {
     "name": "stderr",
     "output_type": "stream",
     "text": [
      "100%|██████████| 81/81 [01:20<00:00,  1.01it/s]\n"
     ]
    }
   ],
   "source": [
    "J11, J12, J21, J22 = sympy.symbols(\"J11, J12, J21, J22\")\n",
    "J_simp = sympy.Matrix([\n",
    "    [J11, J12],\n",
    "    [J21, J22]\n",
    "])\n",
    "\n",
    "result_A = [[0 for i in range(N)] for j in range(N)]\n",
    "result_B = [[0 for i in range(N)] for j in range(N)]\n",
    "\n",
    "for idx, jdx in tqdm([(idx, jdx) for idx in range(N) for jdx in range(N)]):\n",
    "    first = hermit_basis[idx]\n",
    "    second = hermit_basis[jdx]\n",
    "\n",
    "    # -----------------------U------------------------------------------------------------------------------\n",
    "    u_x = first.diff(x) * J_simp.row(0)[0] + first.diff(y) * J_simp.row(1)[0]\n",
    "    u_y = first.diff(x) * J_simp.row(0)[1] + first.diff(y) * J_simp.row(1)[1]\n",
    "    # ------------------------------------------------------------------------------------------------------\n",
    "    # -----------------------V------------------------------------------------------------------------------\n",
    "    v_x = second.diff(x) * J_simp.row(0)[0] + second.diff(y) * J_simp.row(1)[0]\n",
    "    v_y = second.diff(x) * J_simp.row(0)[1] + second.diff(y) * J_simp.row(1)[1]\n",
    "    # ------------------------------------------------------------------------------------------------------\n",
    "\n",
    "    A = u_x * v_x + u_y * v_y\n",
    "    B = first * second\n",
    "\n",
    "    sym_int_A = sympy.integrate(A, (y, 0, R(1) - x), (x, 0, R(1)))\n",
    "    sym_int_B = sympy.integrate(B, (y, 0, R(1) - x), (x, 0, R(1)))\n",
    "\n",
    "    result_A[idx][jdx] = sym_int_A\n",
    "    result_B[idx][jdx] = sym_int_B\n",
    "\n",
    "result_A = sympy.Matrix(result_A)\n",
    "result_B = sympy.Matrix(result_B)\n",
    "\n",
    "result_A = result_A * J.inv().det()\n",
    "result_B = result_B * J.inv().det()"
   ]
  },
  {
   "cell_type": "code",
   "execution_count": null,
   "id": "116880c0",
   "metadata": {},
   "outputs": [],
   "source": [
    "result_A = sympy.Matrix(result_A)\n",
    "result_B = sympy.Matrix(result_B)\n",
    "right_vals = sympy.Matrix(right_vals)"
   ]
  },
  {
   "cell_type": "code",
   "execution_count": 48,
   "id": "bea2a13f",
   "metadata": {},
   "outputs": [],
   "source": [
    "result_A = result_A.subs({\n",
    "        J11: J[0, 0],\n",
    "        J12: J[0, 1],\n",
    "        J21: J[1, 0],\n",
    "        J22: J[1, 1]\n",
    "})\n",
    "\n",
    "result_B = result_B.subs({\n",
    "        J11: J[0, 0],\n",
    "        J12: J[0, 1],\n",
    "        J21: J[1, 0],\n",
    "        J22: J[1, 1]\n",
    "})"
   ]
  },
  {
   "cell_type": "code",
   "execution_count": 50,
   "id": "924ac348",
   "metadata": {},
   "outputs": [],
   "source": [
    "M = sympy.diag(R(1), J.T, R(1), J.T, R(1), J.T).inv().T"
   ]
  },
  {
   "cell_type": "code",
   "execution_count": 53,
   "id": "ffcdf220-3909-4d93-9f02-f450b22c3468",
   "metadata": {},
   "outputs": [],
   "source": [
    "FUNC_A = sympy.lambdify(final_parameters, M @ result_A @ M.T)"
   ]
  },
  {
   "cell_type": "code",
   "execution_count": 60,
   "id": "c37e389c",
   "metadata": {},
   "outputs": [],
   "source": [
    "FUNC_B = sympy.lambdify([*final_parameters, *right_vals], M @ result_B @ M.T @ right_vals)"
   ]
  },
  {
   "cell_type": "code",
   "execution_count": 70,
   "id": "c59c521b",
   "metadata": {},
   "outputs": [],
   "source": [
    "dill.dump(FUNC_A, open(\"../calculations/hermite_cubic_matrix\", \"wb\"))\n",
    "dill.dump(FUNC_B, open(\"../calculations/hermite_cubic_right\", \"wb\"))"
   ]
  }
 ],
 "metadata": {
  "kernelspec": {
   "display_name": "Python 3 (ipykernel)",
   "language": "python",
   "name": "python3"
  },
  "language_info": {
   "codemirror_mode": {
    "name": "ipython",
    "version": 3
   },
   "file_extension": ".py",
   "mimetype": "text/x-python",
   "name": "python",
   "nbconvert_exporter": "python",
   "pygments_lexer": "ipython3",
   "version": "3.9.12"
  }
 },
 "nbformat": 4,
 "nbformat_minor": 5
}
