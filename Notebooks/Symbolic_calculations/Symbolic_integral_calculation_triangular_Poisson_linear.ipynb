{
 "cells": [
  {
   "cell_type": "code",
   "execution_count": null,
   "id": "f08b13c7",
   "metadata": {},
   "outputs": [],
   "source": [
    "import sympy\n",
    "import matplotlib.pyplot as plt\n",
    "import numpy as np\n",
    "from tqdm import tqdm\n",
    "import symfem"
   ]
  },
  {
   "cell_type": "code",
   "execution_count": null,
   "id": "12b69267",
   "metadata": {},
   "outputs": [],
   "source": [
    "p_1, p_2 = sympy.symbols(\"p_1 p_2\")\n",
    "p_1_x, p_2_x, p_1_y, p_2_y = sympy.symbols(\"p_1_x p_2_x p_1_y p_2_y\")\n",
    "right_vals = sympy.symbols(\"f_1:4\")\n",
    "x, y = sympy.symbols(\"x, y\")"
   ]
  },
  {
   "cell_type": "code",
   "execution_count": null,
   "id": "8f5424ef-f45c-4f03-8e35-bbee98d3dd49",
   "metadata": {},
   "outputs": [],
   "source": [
    "all_basis = symfem.create_element(\"triangle\", \"Lagrange\", 1).get_basis_functions()\n",
    "all_basis = [itm.subs(x, p_1).subs(y, p_2) for itm in all_basis]"
   ]
  },
  {
   "cell_type": "code",
   "execution_count": null,
   "id": "6817dbba-079a-4419-82ad-a5289fa8fc04",
   "metadata": {},
   "outputs": [],
   "source": [
    "N = len(all_basis)"
   ]
  },
  {
   "cell_type": "code",
   "execution_count": null,
   "id": "51abb938",
   "metadata": {},
   "outputs": [],
   "source": [
    "result = {}\n",
    "args = [p_1_x, p_2_x, p_1_y, p_2_y]\n",
    "\n",
    "J_inv_det = sympy.Matrix(args).reshape(2, 2).inv().det()\n",
    "\n",
    "result_A = [[0 for i in range(N)] for j in range(N)]\n",
    "result_B = [[0 for i in range(N)] for j in range(N)]\n",
    "\n",
    "\n",
    "for i in tqdm(range(N)):\n",
    "    for j in range(N):\n",
    "        first = all_basis[i]\n",
    "        second = all_basis[j]\n",
    "\n",
    "        u_x = first.diff(p_1) * p_1_x + first.diff(p_2) * p_2_x\n",
    "        u_y = first.diff(p_1) * p_1_y + first.diff(p_2) * p_2_y\n",
    "\n",
    "        v_x = second.diff(p_1) * p_1_x + second.diff(p_2) * p_2_x\n",
    "        v_y = second.diff(p_1) * p_1_y + second.diff(p_2) * p_2_y\n",
    "\n",
    "        integral_A = (\n",
    "            sympy.integrate(u_x * v_x + u_y * v_y, (p_2, 0, 1 - p_1), (p_1, 0, 1))\n",
    "            * J_inv_det\n",
    "        )\n",
    "        integral_B = (\n",
    "            sympy.integrate(first * second, (p_2, 0, 1 - p_1), (p_1, 0, 1)) * J_inv_det\n",
    "        )\n",
    "\n",
    "        result_A[i][j] = integral_A\n",
    "        result_B[i][j] = integral_B"
   ]
  },
  {
   "cell_type": "code",
   "execution_count": null,
   "id": "6c846096",
   "metadata": {},
   "outputs": [],
   "source": [
    "result_A = sympy.Matrix(result_A)\n",
    "result_B = sympy.Matrix(result_B)\n",
    "right_vals = sympy.Matrix(right_vals)"
   ]
  },
  {
   "cell_type": "code",
   "execution_count": null,
   "id": "c5b4b441-70f3-4ebe-82d6-8fa117778cfc",
   "metadata": {},
   "outputs": [],
   "source": [
    "syms = [*args, *right_vals]"
   ]
  },
  {
   "cell_type": "code",
   "execution_count": null,
   "id": "714b7b05-7924-4f44-a048-3095918835a4",
   "metadata": {},
   "outputs": [],
   "source": [
    "FUNC_A = sympy.lambdify(syms, result_A)"
   ]
  },
  {
   "cell_type": "code",
   "execution_count": null,
   "id": "b89a849e-0305-49f8-8359-80f89d339d0f",
   "metadata": {},
   "outputs": [],
   "source": [
    "FUNC_B = sympy.lambdify(syms, result_B @ right_vals)"
   ]
  },
  {
   "cell_type": "code",
   "execution_count": null,
   "id": "b6e4716c",
   "metadata": {},
   "outputs": [],
   "source": [
    "import dill\n",
    "\n",
    "dill.settings[\"recurse\"] = True\n",
    "dill.dump(FUNC_A, open(\"../calculations/lagrange_linear_poisson_matrix\", \"wb\"))\n",
    "dill.dump(FUNC_B, open(\"../calculations/lagrange_linear_poisson_right_values\", \"wb\"))"
   ]
  }
 ],
 "metadata": {
  "kernelspec": {
   "display_name": "Python 3 (ipykernel)",
   "language": "python",
   "name": "python3"
  },
  "language_info": {
   "codemirror_mode": {
    "name": "ipython",
    "version": 3
   },
   "file_extension": ".py",
   "mimetype": "text/x-python",
   "name": "python",
   "nbconvert_exporter": "python",
   "pygments_lexer": "ipython3",
   "version": "3.9.12"
  }
 },
 "nbformat": 4,
 "nbformat_minor": 5
}
