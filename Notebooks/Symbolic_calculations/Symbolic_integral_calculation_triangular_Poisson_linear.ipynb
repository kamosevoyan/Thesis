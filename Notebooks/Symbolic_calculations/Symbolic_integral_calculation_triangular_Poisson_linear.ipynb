{
 "cells": [
  {
   "cell_type": "code",
   "execution_count": 1,
   "id": "f08b13c7",
   "metadata": {},
   "outputs": [],
   "source": [
    "import sympy\n",
    "import numpy as np\n",
    "from tqdm import tqdm\n",
    "import dill\n",
    "dill.settings[\"recurse\"] = True\n",
    "from sympy import Rational as R "
   ]
  },
  {
   "cell_type": "code",
   "execution_count": 2,
   "id": "12b69267",
   "metadata": {},
   "outputs": [],
   "source": [
    "(\n",
    "    reference_x,\n",
    "    reference_y,\n",
    "    physical_x_0,\n",
    "    physical_y_0,\n",
    "    physical_x_1,\n",
    "    physical_y_1,\n",
    "    physical_x_2,\n",
    "    physical_y_2,\n",
    ") = sympy.symbols(\"x y x_0 y_0 x_1 y_1 x_2 y_2\")\n",
    "\n",
    "f_interpolation = sympy.Matrix(sympy.symbols(\"f_0:3\"))\n",
    "g_interpolation = sympy.Matrix(sympy.symbols(\"g_0:3\"))\n",
    "s = sympy.symbols(\"s\")"
   ]
  },
  {
   "cell_type": "code",
   "execution_count": 3,
   "metadata": {},
   "outputs": [],
   "source": [
    "v0 = {reference_x: 0, reference_y: 0}\n",
    "v1 = {reference_x: 1, reference_y: 0}\n",
    "v2 = {reference_x: 0, reference_y: 1}"
   ]
  },
  {
   "cell_type": "markdown",
   "metadata": {},
   "source": [
    "# Get basis functions"
   ]
  },
  {
   "cell_type": "code",
   "execution_count": 4,
   "id": "8f5424ef-f45c-4f03-8e35-bbee98d3dd49",
   "metadata": {},
   "outputs": [],
   "source": [
    "monomial_basis = sympy.Matrix(\n",
    "[\n",
    " 1,\n",
    " reference_x,\n",
    " reference_y,\n",
    "]\n",
    ")"
   ]
  },
  {
   "cell_type": "code",
   "execution_count": 5,
   "metadata": {},
   "outputs": [],
   "source": [
    "Vander = sympy.Matrix(np.zeros((3, 3)))\n",
    "\n",
    "for i, basis in enumerate(monomial_basis):\n",
    "    \n",
    "    Vander[i, 0] = basis.subs(v0)\n",
    "    Vander[i, 1] = basis.subs(v1)\n",
    "    Vander[i, 2] = basis.subs(v2)"
   ]
  },
  {
   "cell_type": "code",
   "execution_count": 6,
   "metadata": {},
   "outputs": [],
   "source": [
    "lagrange_p1_basis = Vander.inv()@monomial_basis"
   ]
  },
  {
   "cell_type": "markdown",
   "metadata": {},
   "source": [
    "# Get mapping function"
   ]
  },
  {
   "cell_type": "code",
   "execution_count": 7,
   "metadata": {},
   "outputs": [],
   "source": [
    "mapping_basis = Vander.inv() @ monomial_basis\n",
    "\n",
    "global_x = (\n",
    "      mapping_basis[0] * physical_x_0\n",
    "    + mapping_basis[1] * physical_x_1\n",
    "    + mapping_basis[2] * physical_x_2\n",
    ")\n",
    "global_y = (\n",
    "      mapping_basis[0] * physical_y_0\n",
    "    + mapping_basis[1] * physical_y_1\n",
    "    + mapping_basis[2] * physical_y_2\n",
    ")\n",
    "\n",
    "mapping_function = sympy.Matrix([global_x, global_y])"
   ]
  },
  {
   "cell_type": "code",
   "execution_count": 8,
   "metadata": {},
   "outputs": [],
   "source": [
    "l0 = ((physical_x_2 - physical_x_1) ** 2 + (physical_y_2 - physical_y_1) ** 2) ** R(1, 2)\n",
    "l1 = ((physical_x_2 - physical_x_0) ** 2 + (physical_y_2 - physical_y_0) ** 2) ** R(1, 2)\n",
    "l2 = ((physical_x_1 - physical_x_0) ** 2 + (physical_y_1 - physical_y_0) ** 2) ** R(1, 2)"
   ]
  },
  {
   "cell_type": "code",
   "execution_count": 9,
   "metadata": {},
   "outputs": [],
   "source": [
    "J_cofactor_T = mapping_function.jacobian([reference_x, reference_y]).cofactor_matrix().T\n",
    "J = J_cofactor_T / J_cofactor_T.det()\n",
    "J_inv = J.inv()"
   ]
  },
  {
   "cell_type": "code",
   "execution_count": 10,
   "metadata": {},
   "outputs": [],
   "source": [
    "u = sympy.Matrix([sympy.Function(\"u\")(reference_x, reference_y)])\n",
    "v = sympy.Matrix([sympy.Function(\"v\")(reference_x, reference_y)])"
   ]
  },
  {
   "cell_type": "code",
   "execution_count": 11,
   "metadata": {},
   "outputs": [],
   "source": [
    "grad_u = u.jacobian([reference_x, reference_y])@J\n",
    "grad_v = v.jacobian([reference_x, reference_y])@J\n",
    "\n",
    "weak_form = grad_u@grad_v.T"
   ]
  },
  {
   "cell_type": "code",
   "execution_count": 12,
   "id": "51abb938",
   "metadata": {},
   "outputs": [
    {
     "name": "stderr",
     "output_type": "stream",
     "text": [
      "100%|██████████| 9/9 [01:00<00:00,  6.70s/it]\n"
     ]
    }
   ],
   "source": [
    "N = len(lagrange_p1_basis)\n",
    "\n",
    "weak_form_functional = [[0 for i in range(N)] for j in range(N)]\n",
    "weak_form_right_part = [[0 for i in range(N)] for j in range(N)]\n",
    "weak_form_right_part_neuman_0 = [[0 for i in range(N)] for j in range(N)]\n",
    "weak_form_right_part_neuman_1 = [[0 for i in range(N)] for j in range(N)]\n",
    "weak_form_right_part_neuman_2 = [[0 for i in range(N)] for j in range(N)]\n",
    "\n",
    "for idx, jdx in tqdm([(idx, jdx) for idx in range(N) for jdx in range(N)]):\n",
    "    first = lagrange_p1_basis[idx]\n",
    "    second = lagrange_p1_basis[jdx]\n",
    "\n",
    "    A = weak_form.subs({u[0]:first, v[0]:second})\n",
    "    A = sympy.simplify(A)\n",
    "    B = first * second\n",
    "    B = sympy.simplify(B)\n",
    "\n",
    "    sym_int_A = sympy.integrate(A, (reference_y, 0, R(1) - reference_x), (reference_x, 0, R(1)))\n",
    "    sym_int_B = sympy.integrate(B, (reference_y, 0, R(1) - reference_x), (reference_x, 0, R(1)))\n",
    "\n",
    "    edge_0 = B.subs({reference_x: s, reference_y: 1-s})\n",
    "    edge_1 = B.subs({reference_x: 0, reference_y: s})\n",
    "    edge_2 = B.subs({reference_x: s, reference_y: 0})\n",
    "    \n",
    "    symp_int_edge_0 = sympy.integrate(edge_0, (s, 0, 1))\n",
    "    symp_int_edge_1 = sympy.integrate(edge_1, (s, 0, 1))\n",
    "    symp_int_edge_2 = sympy.integrate(edge_2, (s, 0, 1))\n",
    "    \n",
    "    weak_form_functional[idx][jdx] = sym_int_A\n",
    "    weak_form_right_part[idx][jdx] = sym_int_B\n",
    "    \n",
    "    weak_form_right_part_neuman_0[idx][jdx] = symp_int_edge_0 * l0\n",
    "    weak_form_right_part_neuman_1[idx][jdx] = symp_int_edge_1 * l1\n",
    "    weak_form_right_part_neuman_2[idx][jdx] = symp_int_edge_2 * l2\n",
    "        \n",
    "\n",
    "weak_form_functional = sympy.Matrix(weak_form_functional)\n",
    "weak_form_right_part = sympy.Matrix(weak_form_right_part)\n",
    "\n",
    "weak_form_functional = weak_form_functional * abs(J.inv().det())\n",
    "weak_form_right_part = weak_form_right_part * abs(J.inv().det())"
   ]
  },
  {
   "cell_type": "code",
   "execution_count": 13,
   "id": "6c846096",
   "metadata": {},
   "outputs": [],
   "source": [
    "weak_form_functional = sympy.Matrix(weak_form_functional)\n",
    "weak_form_right_part = sympy.Matrix(weak_form_right_part)\n",
    "weak_form_right_part_neuman_0 = sympy.Matrix(weak_form_right_part_neuman_0)\n",
    "weak_form_right_part_neuman_1 = sympy.Matrix(weak_form_right_part_neuman_1)\n",
    "weak_form_right_part_neuman_2 = sympy.Matrix(weak_form_right_part_neuman_2)\n",
    "\n",
    "f_interpolation = sympy.Matrix(f_interpolation)\n",
    "g_interpolation = sympy.Matrix(g_interpolation)"
   ]
  },
  {
   "cell_type": "code",
   "execution_count": 14,
   "metadata": {},
   "outputs": [],
   "source": [
    "lambdify_symbols = [    \n",
    "    physical_x_0,\n",
    "    physical_y_0,\n",
    "    physical_x_1,\n",
    "    physical_y_1,\n",
    "    physical_x_2,\n",
    "    physical_y_2\n",
    "]"
   ]
  },
  {
   "cell_type": "code",
   "execution_count": null,
   "metadata": {},
   "outputs": [],
   "source": [
    "weak_form_functional_lambdified = sympy.lambdify(lambdify_symbols, weak_form_functional, cse=True)"
   ]
  },
  {
   "cell_type": "code",
   "execution_count": null,
   "metadata": {},
   "outputs": [],
   "source": [
    "weak_form_right_part_lambdified = sympy.lambdify([*lambdify_symbols, *f_interpolation], weak_form_right_part@f_interpolation, cse=True)"
   ]
  },
  {
   "cell_type": "code",
   "execution_count": 15,
   "metadata": {},
   "outputs": [],
   "source": [
    "weak_form_right_part_M_lambdified = sympy.lambdify(lambdify_symbols, weak_form_right_part, cse=True)"
   ]
  },
  {
   "cell_type": "code",
   "execution_count": null,
   "metadata": {},
   "outputs": [],
   "source": [
    "weak_form_right_part_neuman_0_lambdified = sympy.lambdify([*lambdify_symbols, *g_interpolation], weak_form_right_part_neuman_0@g_interpolation, cse=True)\n",
    "weak_form_right_part_neuman_1_lambdified = sympy.lambdify([*lambdify_symbols, *g_interpolation], weak_form_right_part_neuman_1@g_interpolation, cse=True)\n",
    "weak_form_right_part_neuman_2_lambdified = sympy.lambdify([*lambdify_symbols, *g_interpolation], weak_form_right_part_neuman_2@g_interpolation, cse=True)"
   ]
  },
  {
   "cell_type": "code",
   "execution_count": null,
   "metadata": {},
   "outputs": [],
   "source": [
    "def weak_form_right_part_neuman_lambdified(x_0, y_0, x_1, y_1, x_2, y_2, g_0, g_1, g_2, idx):\n",
    "    return [weak_form_right_part_neuman_0_lambdified,\n",
    "            weak_form_right_part_neuman_1_lambdified,\n",
    "            weak_form_right_part_neuman_2_lambdified,\n",
    "            ][idx](x_0, y_0, x_1, y_1, x_2, y_2, g_0, g_1, g_2)"
   ]
  },
  {
   "cell_type": "code",
   "execution_count": null,
   "id": "b6e4716c",
   "metadata": {},
   "outputs": [],
   "source": [
    "import dill\n",
    "\n",
    "dill.settings[\"recurse\"] = True\n",
    "dill.dump(weak_form_functional_lambdified, open(\"../calculations/lagrange_linear_poisson_matrix\", \"wb\"))\n",
    "dill.dump(weak_form_right_part_lambdified, open(\"../calculations/lagrange_linear_poisson_right_values\", \"wb\"))\n",
    "dill.dump(weak_form_right_part_neuman_lambdified, open(\"../calculations/lagrange_linear_poisson_right_values_neuman\", \"wb\"))"
   ]
  },
  {
   "cell_type": "code",
   "execution_count": 16,
   "metadata": {},
   "outputs": [],
   "source": [
    "dill.dump(weak_form_right_part_M_lambdified, open(\"../calculations/lagrange_linear_poisson_right_M_values\", \"wb\"))"
   ]
  }
 ],
 "metadata": {
  "kernelspec": {
   "display_name": "Python 3 (ipykernel)",
   "language": "python",
   "name": "python3"
  },
  "language_info": {
   "codemirror_mode": {
    "name": "ipython",
    "version": 3
   },
   "file_extension": ".py",
   "mimetype": "text/x-python",
   "name": "python",
   "nbconvert_exporter": "python",
   "pygments_lexer": "ipython3",
   "version": "3.9.18"
  }
 },
 "nbformat": 4,
 "nbformat_minor": 5
}
