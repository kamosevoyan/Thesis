{
 "cells": [
  {
   "cell_type": "code",
   "execution_count": 1,
   "id": "f08b13c7",
   "metadata": {},
   "outputs": [],
   "source": [
    "import sympy\n",
    "import numpy as np\n",
    "from tqdm import tqdm\n",
    "import dill\n",
    "dill.settings[\"recurse\"] = True\n",
    "from sympy import Rational as R "
   ]
  },
  {
   "cell_type": "code",
   "execution_count": 2,
   "id": "12b69267",
   "metadata": {},
   "outputs": [],
   "source": [
    "(\n",
    "    reference_x,\n",
    "    reference_y,\n",
    "    physical_x_0,\n",
    "    physical_y_0,\n",
    "    \n",
    "    physical_x_1,\n",
    "    physical_y_1,\n",
    "    \n",
    "    physical_x_2,\n",
    "    physical_y_2,\n",
    "    \n",
    "    physical_x_3,\n",
    "    physical_y_3,\n",
    "    \n",
    "    physical_x_4,\n",
    "    physical_y_4,\n",
    "    \n",
    "    physical_x_5,\n",
    "    physical_y_5,    \n",
    ") = sympy.symbols(\"x y x_0 y_0 x_1 y_1 x_2 y_2 x_3 y_3 x_4 y_4 x_5 y_5\")\n",
    "\n",
    "f_interpolation = sympy.Matrix(sympy.symbols(\"f_0:6\"))\n",
    "s = sympy.symbols(\"s\")"
   ]
  },
  {
   "cell_type": "code",
   "execution_count": 3,
   "id": "8f5424ef-f45c-4f03-8e35-bbee98d3dd49",
   "metadata": {},
   "outputs": [],
   "source": [
    "v0 = {reference_x: 0, reference_y: 0}\n",
    "v1 = {reference_x: 1, reference_y: 0}\n",
    "v2 = {reference_x: 0, reference_y: 1}\n",
    "\n",
    "v3 = {reference_x: R(1, 2), reference_y: R(1, 2)}\n",
    "v4 = {reference_x: 0, reference_y: R(1, 2)}\n",
    "v5 = {reference_x: R(1, 2), reference_y: 0}"
   ]
  },
  {
   "cell_type": "markdown",
   "id": "6817dbba-079a-4419-82ad-a5289fa8fc04",
   "metadata": {},
   "source": [
    "# Get basis functions"
   ]
  },
  {
   "cell_type": "code",
   "execution_count": 4,
   "id": "51abb938",
   "metadata": {},
   "outputs": [],
   "source": [
    "monomial_basis = sympy.Matrix(\n",
    "[\n",
    " 1,\n",
    " reference_x,\n",
    " reference_y,\n",
    " reference_x**2,\n",
    " reference_x*reference_y,\n",
    " reference_y**2\n",
    "]\n",
    ")"
   ]
  },
  {
   "cell_type": "code",
   "execution_count": 5,
   "id": "6c846096",
   "metadata": {},
   "outputs": [],
   "source": [
    "Vander = sympy.Matrix(np.zeros((6, 6)))\n",
    "\n",
    "for i, basis in enumerate(monomial_basis):\n",
    "        \n",
    "    Vander[i, 0] = basis.subs(v0)\n",
    "    Vander[i, 1] = basis.subs(v1)    \n",
    "    Vander[i, 2] = basis.subs(v2)\n",
    "    \n",
    "    Vander[i, 3] = basis.subs(v3)\n",
    "    Vander[i, 4] = basis.subs(v4)\n",
    "    Vander[i, 5] = basis.subs(v5)    "
   ]
  },
  {
   "cell_type": "code",
   "execution_count": 6,
   "metadata": {},
   "outputs": [],
   "source": [
    "lagrange_p2_basis = Vander.inv() @ monomial_basis"
   ]
  },
  {
   "cell_type": "markdown",
   "metadata": {},
   "source": [
    "# Get mapping function"
   ]
  },
  {
   "cell_type": "code",
   "execution_count": 7,
   "id": "714b7b05-7924-4f44-a048-3095918835a4",
   "metadata": {},
   "outputs": [],
   "source": [
    "mapping_basis = lagrange_p2_basis\n",
    "\n",
    "global_x = (\n",
    "      mapping_basis[0] * physical_x_0\n",
    "    + mapping_basis[1] * physical_x_1\n",
    "    + mapping_basis[2] * physical_x_2    \n",
    "    + mapping_basis[3] * physical_x_3\n",
    "    + mapping_basis[4] * physical_x_4\n",
    "    + mapping_basis[5] * physical_x_5\n",
    "    \n",
    ")\n",
    "global_y = (\n",
    "      mapping_basis[0] * physical_y_0\n",
    "    + mapping_basis[1] * physical_y_1\n",
    "    + mapping_basis[2] * physical_y_2    \n",
    "    + mapping_basis[3] * physical_y_3\n",
    "    + mapping_basis[4] * physical_y_4\n",
    "    + mapping_basis[5] * physical_y_5\n",
    ")\n",
    "\n",
    "mapping_function = sympy.Matrix([global_x, global_y])"
   ]
  },
  {
   "cell_type": "code",
   "execution_count": 8,
   "id": "b89a849e-0305-49f8-8359-80f89d339d0f",
   "metadata": {},
   "outputs": [],
   "source": [
    "J_cofactor_T = mapping_function.jacobian([reference_x, reference_y]).cofactor_matrix().T\n",
    "J = J_cofactor_T / J_cofactor_T.det()"
   ]
  },
  {
   "cell_type": "code",
   "execution_count": 9,
   "metadata": {},
   "outputs": [],
   "source": [
    "u = sympy.Matrix([sympy.Function(\"u\")(reference_x, reference_y)])\n",
    "v = sympy.Matrix([sympy.Function(\"v\")(reference_x, reference_y)])"
   ]
  },
  {
   "cell_type": "code",
   "execution_count": 10,
   "metadata": {},
   "outputs": [],
   "source": [
    "grad_u = u.jacobian([reference_x, reference_y])@J_cofactor_T\n",
    "grad_v = v.jacobian([reference_x, reference_y])@J_cofactor_T\n",
    "weak_form = grad_u@grad_v.T"
   ]
  },
  {
   "cell_type": "code",
   "execution_count": 11,
   "metadata": {},
   "outputs": [
    {
     "name": "stderr",
     "output_type": "stream",
     "text": [
      "100%|██████████| 36/36 [00:01<00:00, 19.40it/s]\n"
     ]
    }
   ],
   "source": [
    "N = len(lagrange_p2_basis)\n",
    "\n",
    "weak_form_functional = [[0 for i in range(N)] for j in range(N)]\n",
    "weak_form_right_part = [[0 for i in range(N)] for j in range(N)]\n",
    "\n",
    "for idx, jdx in tqdm([(idx, jdx) for idx in range(N) for jdx in range(N)]):\n",
    "    first = lagrange_p2_basis[idx]\n",
    "    second = lagrange_p2_basis[jdx]\n",
    "\n",
    "    A = weak_form.subs({u[0]:first, v[0]:second}).doit()\n",
    "    B = first * second\n",
    "\n",
    "    weak_form_functional[idx][jdx] = A\n",
    "    weak_form_right_part[idx][jdx] = B\n",
    "        \n",
    "\n",
    "weak_form_functional = sympy.Matrix(weak_form_functional) / J_cofactor_T.det()**2\n",
    "weak_form_right_part = sympy.Matrix(weak_form_right_part)\n",
    "\n",
    "weak_form_functional = weak_form_functional * abs(J_cofactor_T.det())\n",
    "weak_form_right_part = weak_form_right_part * abs(J_cofactor_T.det())"
   ]
  },
  {
   "cell_type": "code",
   "execution_count": 12,
   "metadata": {},
   "outputs": [],
   "source": [
    "weak_form_functional = sympy.Matrix(weak_form_functional)\n",
    "weak_form_right_part = sympy.Matrix(weak_form_right_part)\n",
    "\n",
    "f_interpolation = sympy.Matrix(f_interpolation)"
   ]
  },
  {
   "cell_type": "code",
   "execution_count": 13,
   "metadata": {},
   "outputs": [],
   "source": [
    "lambdify_symbols = [\n",
    "    reference_x,\n",
    "    reference_y,\n",
    "    \n",
    "    physical_x_0,\n",
    "    physical_y_0,\n",
    "    \n",
    "    physical_x_1,\n",
    "    physical_y_1,\n",
    "    \n",
    "    physical_x_2,\n",
    "    physical_y_2,\n",
    "    \n",
    "    physical_x_3,\n",
    "    physical_y_3,\n",
    "    \n",
    "    physical_x_4,\n",
    "    physical_y_4,\n",
    "    \n",
    "    physical_x_5,\n",
    "    physical_y_5,\n",
    "]"
   ]
  },
  {
   "cell_type": "code",
   "execution_count": 14,
   "metadata": {},
   "outputs": [],
   "source": [
    "weak_form_functional_lambdified = sympy.lambdify(lambdify_symbols, weak_form_functional, cse=True)"
   ]
  },
  {
   "cell_type": "code",
   "execution_count": 15,
   "metadata": {},
   "outputs": [],
   "source": [
    "weak_form_right_part = weak_form_right_part @ f_interpolation\n",
    "weak_form_right_part_lambdified = sympy.lambdify([*lambdify_symbols, *f_interpolation], weak_form_right_part, cse=True)"
   ]
  },
  {
   "cell_type": "code",
   "execution_count": 16,
   "metadata": {},
   "outputs": [],
   "source": [
    "quadrature_weights = np.array([\n",
    "0.090817990382754,\n",
    "0.036725957756467,\n",
    "0.036725957756467,\n",
    "0.036725957756467,\n",
    "0.072757916845420,\n",
    "0.072757916845420,\n",
    "0.072757916845420,\n",
    "0.072757916845420,\n",
    "0.072757916845420,\n",
    "0.072757916845420,\n",
    "0.028327242531057,\n",
    "0.028327242531057,\n",
    "0.028327242531057,\n",
    "0.028327242531057,\n",
    "0.028327242531057,\n",
    "0.028327242531057,\n",
    "0.009421666963733,\n",
    "0.009421666963733,\n",
    "0.009421666963733,\n",
    "0.009421666963733,\n",
    "0.009421666963733,\n",
    "0.009421666963733,\n",
    "0.045321059435528,\n",
    "0.045321059435528,\n",
    "0.045321059435528,\n",
    "]) / 2\n",
    "\n",
    "\n",
    "quadrature_points = np.array([\n",
    "[0.333333333333333,0.333333333333333],\n",
    "[0.485577633383657,0.028844733232685],\n",
    "[0.485577633383657,0.485577633383657],\n",
    "[0.028844733232685,0.485577633383657],\n",
    "[0.141707219414880,0.550352941820999],\n",
    "[0.307939838764121,0.141707219414880],\n",
    "[0.550352941820999,0.307939838764121],\n",
    "[0.307939838764121,0.550352941820999],\n",
    "[0.141707219414880,0.307939838764121],\n",
    "[0.550352941820999,0.141707219414880],\n",
    "[0.025003534762686,0.728323904597411],\n",
    "[0.246672560639903,0.025003534762686],\n",
    "[0.728323904597411,0.246672560639903],\n",
    "[0.246672560639903,0.728323904597411],\n",
    "[0.025003534762686,0.246672560639903],\n",
    "[0.728323904597411,0.025003534762686],\n",
    "[0.009540815400299,0.923655933587500],\n",
    "[0.066803251012200,0.009540815400299],\n",
    "[0.923655933587500,0.066803251012200],\n",
    "[0.066803251012200,0.923655933587500],\n",
    "[0.009540815400299,0.066803251012200],\n",
    "[0.923655933587500,0.009540815400299],\n",
    "[0.109481575485037,0.781036849029926],\n",
    "[0.109481575485037,0.109481575485037],\n",
    "[0.781036849029926,0.109481575485037],\n",
    "])"
   ]
  },
  {
   "cell_type": "code",
   "execution_count": 17,
   "metadata": {},
   "outputs": [],
   "source": [
    "def weak_form_functional_lambdified_quadrature(x_0, y_0, x_1, y_1, x_2, y_2, x_3, y_3, x_4, y_4, x_5, y_5):\n",
    "    \n",
    "    return weak_form_functional_lambdified(*quadrature_points.T, x_0, y_0, x_1, y_1, x_2, y_2, x_3, y_3, x_4, y_4, x_5, y_5)@quadrature_weights"
   ]
  },
  {
   "cell_type": "code",
   "execution_count": 18,
   "metadata": {},
   "outputs": [],
   "source": [
    "def weak_form_right_part_lambdified_quadrature(x_0, y_0, x_1, y_1, x_2, y_2, x_3, y_3, x_4, y_4, x_5, y_5,\n",
    "                                               f_0, f_1, f_2, f_3, f_4, f_5):\n",
    "    \n",
    "    return weak_form_right_part_lambdified(*quadrature_points.T, x_0, y_0, x_1, y_1, x_2, y_2, x_3, y_3, x_4, y_4, x_5, y_5,\n",
    "                                           f_0, f_1, f_2, f_3, f_4, f_5)@quadrature_weights"
   ]
  },
  {
   "cell_type": "code",
   "execution_count": 19,
   "metadata": {},
   "outputs": [],
   "source": [
    "interpolation_function = sympy.lambdify([*lambdify_symbols, *f_interpolation], (lagrange_p2_basis.T@f_interpolation)[0, 0], cse=True)"
   ]
  },
  {
   "cell_type": "code",
   "execution_count": 20,
   "metadata": {},
   "outputs": [],
   "source": [
    "mapping_function_lambdified = sympy.lambdify(lambdify_symbols, mapping_function[:, 0], cse=True)"
   ]
  },
  {
   "cell_type": "code",
   "execution_count": 21,
   "metadata": {},
   "outputs": [],
   "source": [
    "dill.dump(weak_form_functional_lambdified_quadrature, open(\"../calculations/lagrange_quadratic_weak_form_functional_p2\", \"wb\"))\n",
    "dill.dump(weak_form_right_part_lambdified_quadrature, open(\"../calculations/lagrange_quadratic_weak_form_right_part_p2\", \"wb\"))\n",
    "dill.dump(interpolation_function, open(\"../calculations/lagrange_quadratic_basis\", \"wb\"))\n",
    "dill.dump(mapping_function_lambdified, open(\"../calculations/lagrange_quadratic_mapping_function\", \"wb\"))"
   ]
  }
 ],
 "metadata": {
  "kernelspec": {
   "display_name": "Python 3 (ipykernel)",
   "language": "python",
   "name": "python3"
  },
  "language_info": {
   "codemirror_mode": {
    "name": "ipython",
    "version": 3
   },
   "file_extension": ".py",
   "mimetype": "text/x-python",
   "name": "python",
   "nbconvert_exporter": "python",
   "pygments_lexer": "ipython3",
   "version": "3.9.18"
  }
 },
 "nbformat": 4,
 "nbformat_minor": 5
}
