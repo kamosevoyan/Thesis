{
 "cells": [
  {
   "cell_type": "code",
   "execution_count": 1,
   "id": "f08b13c7",
   "metadata": {},
   "outputs": [],
   "source": [
    "import sympy\n",
    "import matplotlib.pyplot as plt\n",
    "import numpy as np\n",
    "from tqdm import tqdm\n",
    "import symfem\n",
    "from sympy import Rational\n",
    "import dill\n",
    "dill.settings[\"recurse\"] = True\n",
    "from sympy import Rational as R"
   ]
  },
  {
   "cell_type": "code",
   "execution_count": 2,
   "id": "102f5975",
   "metadata": {},
   "outputs": [],
   "source": [
    "x, y, x_1, y_1, x_2, y_2, x_3, y_3 = sympy.symbols(\"x y x_1 y_1 x_2 y_2 x_3 y_3\")\n",
    "\n",
    "rotation_matrix = sympy.Matrix(\n",
    "    [\n",
    "        [+R(0), +R(1)],\n",
    "        [-R(1), +R(0)]\n",
    "    ]\n",
    ")\n",
    "\n",
    "t1_hat = sympy.Matrix([-R(1), +R(1)]) / sympy.sqrt(2)\n",
    "t2_hat = sympy.Matrix([+R(0), +R(1)])\n",
    "t3_hat = sympy.Matrix([+R(1), +R(0)])\n",
    "\n",
    "n1_hat = rotation_matrix @ t1_hat\n",
    "n2_hat = rotation_matrix @ t2_hat\n",
    "n3_hat = rotation_matrix @ t3_hat"
   ]
  },
  {
   "cell_type": "markdown",
   "id": "5eaaf6dd",
   "metadata": {},
   "source": [
    "### Get basis functions"
   ]
  },
  {
   "cell_type": "code",
   "execution_count": 3,
   "id": "a25db112",
   "metadata": {},
   "outputs": [],
   "source": [
    "monomial_basis = sympy.Matrix(\n",
    "[1,\n",
    " x,\n",
    " x**2,\n",
    " x**3,\n",
    " x**4,\n",
    " x**5,\n",
    " y,\n",
    " x*y,\n",
    " x**2*y,\n",
    " x**3*y,\n",
    " x**4*y,\n",
    " y**2,\n",
    " x*y**2,\n",
    " x**2*y**2,\n",
    " x**3*y**2,\n",
    " y**3,\n",
    " x*y**3,\n",
    " x**2*y**3,\n",
    " y**4,\n",
    " x*y**4,\n",
    " y**5]\n",
    ")"
   ]
  },
  {
   "cell_type": "code",
   "execution_count": 4,
   "id": "bfe4655c",
   "metadata": {},
   "outputs": [],
   "source": [
    "Vander = sympy.Matrix(np.zeros((21, 21)))\n",
    "\n",
    "for i, basis in enumerate(monomial_basis):\n",
    "\n",
    "    v1 = {x: 0, y: 0}\n",
    "    Vander[i, 0] = basis.subs(v1)\n",
    "    Vander[i, 1] = basis.diff(x).subs(v1)\n",
    "    Vander[i, 2] = basis.diff(y).subs(v1)\n",
    "    Vander[i, 3] = basis.diff(x, x).subs(v1)\n",
    "    Vander[i, 4] = basis.diff(x, y).subs(v1)\n",
    "    Vander[i, 5] = basis.diff(y, y).subs(v1)\n",
    "\n",
    "    v2 = {x: 1, y: 0}\n",
    "    Vander[i, 6] = basis.subs(v2)\n",
    "    Vander[i, 7] = basis.diff(x).subs(v2)\n",
    "    Vander[i, 8] = basis.diff(y).subs(v2)\n",
    "    Vander[i, 9] = basis.diff(x, x).subs(v2)\n",
    "    Vander[i, 10] = basis.diff(x, y).subs(v2)\n",
    "    Vander[i, 11] = basis.diff(y, y).subs(v2)\n",
    "\n",
    "    v3 = {x: 0, y: 1}\n",
    "    Vander[i, 12] = basis.subs(v3)\n",
    "    Vander[i, 13] = basis.diff(x).subs(v3)\n",
    "    Vander[i, 14] = basis.diff(y).subs(v3)\n",
    "    Vander[i, 15] = basis.diff(x, x).subs(v3)\n",
    "    Vander[i, 16] = basis.diff(x, y).subs(v3)\n",
    "    Vander[i, 17] = basis.diff(y, y).subs(v3)\n",
    "\n",
    "    e1 = {x: R(1, 2), y: R(1, 2)}\n",
    "    dn1 = n1_hat[0]*basis.diff(x) + n1_hat[1]*basis.diff(y)\n",
    "    Vander[i, 18] = dn1.subs(e1)\n",
    "\n",
    "    e2 = {x: 0, y: R(1, 2)}\n",
    "    dn2 = n2_hat[0]*basis.diff(x) + n2_hat[1]*basis.diff(y)\n",
    "    Vander[i, 19] = dn2.subs(e2)\n",
    "\n",
    "    e3 = {x: R(1, 2), y: 0}\n",
    "    dn3 = n3_hat[0]*basis.diff(x) + n3_hat[1]*basis.diff(y)\n",
    "    Vander[i, 20] = dn3.subs(e3)"
   ]
  },
  {
   "cell_type": "code",
   "execution_count": 5,
   "id": "5d1881ea",
   "metadata": {},
   "outputs": [],
   "source": [
    "argyris_basis = Vander.inv() @ monomial_basis"
   ]
  },
  {
   "cell_type": "code",
   "execution_count": 17,
   "id": "5229e8c8",
   "metadata": {},
   "outputs": [],
   "source": [
    "dill.dump(\n",
    "    sympy.lambdify(\n",
    "        [x, y], \n",
    "        argyris_basis,\n",
    "        ),\n",
    "    open(\"../calculations/argyris_basis\", \"wb\")\n",
    ")"
   ]
  },
  {
   "cell_type": "markdown",
   "id": "8cac3db9",
   "metadata": {},
   "source": [
    "# Necessary symbols"
   ]
  },
  {
   "cell_type": "code",
   "execution_count": 9,
   "id": "ec0f31c1",
   "metadata": {},
   "outputs": [],
   "source": [
    "G1_hat = n1_hat.row_join(t1_hat).T\n",
    "G2_hat = n2_hat.row_join(t2_hat).T\n",
    "G3_hat = n3_hat.row_join(t3_hat).T\n",
    "\n",
    "l1 = ((x_3 - x_2) ** 2 + (y_3 - y_2) ** 2) ** R(1, 2)\n",
    "l2 = ((x_3 - x_1) ** 2 + (y_3 - y_1) ** 2) ** R(1, 2)\n",
    "l3 = ((x_2 - x_1) ** 2 + (y_2 - y_1) ** 2) ** R(1, 2)\n",
    "\n",
    "t1 = sympy.Matrix([x_3 - x_2, y_3 - y_2]) / l1\n",
    "t2 = sympy.Matrix([x_3 - x_1, y_3 - y_1]) / l2\n",
    "t3 = sympy.Matrix([x_2 - x_1, y_2 - y_1]) / l3\n",
    "\n",
    "n1 = rotation_matrix @ t1\n",
    "n2 = rotation_matrix @ t2\n",
    "n3 = rotation_matrix @ t3\n",
    "\n",
    "tau_1 = sympy.Matrix([t1[0] ** 2, 2 * t1[0] * t1[1], t1[1] ** 2])\n",
    "tau_2 = sympy.Matrix([t2[0] ** 2, 2 * t2[0] * t2[1], t2[1] ** 2])\n",
    "tau_3 = sympy.Matrix([t3[0] ** 2, 2 * t3[0] * t3[1], t3[1] ** 2])\n",
    "\n",
    "delta = x_1 * y_2 - x_1 * y_3 - x_2 * y_1 + x_2 * y_3 + x_3 * y_1 - x_3 * y_2\n",
    "\n",
    "P_1_x = (-y_1 + y_3) / delta\n",
    "P_1_y = (+x_1 - x_3) / delta\n",
    "\n",
    "P_2_x = (+y_1 - y_2) / delta\n",
    "P_2_y = (-x_1 + x_2) / delta\n",
    "\n",
    "J = sympy.Matrix(\n",
    "    [\n",
    "        [P_1_x, P_1_y],\n",
    "        [P_2_x, P_2_y],\n",
    "    ]\n",
    ")\n",
    "\n",
    "THETA = sympy.Matrix(\n",
    "    [\n",
    "        [P_1_x**2, 2 * P_1_x * P_2_x, P_2_x**2],\n",
    "        [P_1_y * P_1_x, P_1_y * P_2_x + P_1_x * P_2_y, P_2_x * P_2_y],\n",
    "        [P_1_y**2, 2 * P_1_y * P_2_y, P_2_y**2],\n",
    "    ]\n",
    ")\n",
    "\n",
    "G1 = n1.row_join(t1).T\n",
    "G2 = n2.row_join(t2).T\n",
    "G3 = n3.row_join(t3).T\n",
    "\n",
    "B1 = G1_hat @ J.inv().T @ G1.T\n",
    "B2 = G2_hat @ J.inv().T @ G2.T\n",
    "B3 = G3_hat @ J.inv().T @ G3.T\n",
    "\n",
    "right_vals_symbols = sympy.symbols(\"W1:25\")\n",
    "right_vals = sympy.Matrix(right_vals_symbols[:21])\n",
    "\n",
    "right_vals[18] = n1[0] * right_vals_symbols[18] + n1[1] * right_vals_symbols[19]\n",
    "right_vals[19] = n2[0] * right_vals_symbols[20] + n2[1] * right_vals_symbols[21]\n",
    "right_vals[20] = n3[0] * right_vals_symbols[22] + n3[1] * right_vals_symbols[23]"
   ]
  },
  {
   "cell_type": "markdown",
   "id": "a8ebacd3",
   "metadata": {},
   "source": [
    "### Calculate bilinear form and right values for forward pushed reference element"
   ]
  },
  {
   "cell_type": "code",
   "execution_count": 50,
   "id": "085190dc",
   "metadata": {},
   "outputs": [
    {
     "name": "stderr",
     "output_type": "stream",
     "text": [
      "100%|██████████| 441/441 [55:02<00:00,  7.49s/it] \n"
     ]
    }
   ],
   "source": [
    "N = len(argyris_basis)\n",
    "\n",
    "#This is done for fast integration\n",
    "J11, J12, J21, J22 = sympy.symbols(\"J11, J12, J21, J22\")\n",
    "J_simp = sympy.Matrix([\n",
    "    [J11, J12],\n",
    "    [J21, J22]\n",
    "])\n",
    "\n",
    "result_b = [[0 for i in range(N)] for j in range(N)]\n",
    "result_B = [[0 for i in range(N)] for j in range(N)]\n",
    "result_A = [[0 for i in range(N)] for j in range(N)]\n",
    "\n",
    "for idx, jdx in tqdm([(idx, jdx) for idx in range(N) for jdx in range(N)]):\n",
    "    first = argyris_basis[idx]\n",
    "    second = argyris_basis[jdx]\n",
    "\n",
    "    # -----------------------U------------------------------------------------------------------------------\n",
    "    u_x = first.diff(x) * J_simp.row(0)[0] + first.diff(y) * J_simp.row(1)[0]\n",
    "    u_y = first.diff(x) * J_simp.row(0)[1] + first.diff(y) * J_simp.row(1)[1]\n",
    "\n",
    "    u_xx = u_x.diff(x) * J_simp.row(0)[0] + u_x.diff(y) * J_simp.row(1)[0]\n",
    "    u_xy = u_x.diff(x) * J_simp.row(0)[1] + u_x.diff(y) * J_simp.row(1)[1]\n",
    "\n",
    "    u_yy = u_y.diff(x) * J_simp.row(0)[1] + u_y.diff(y) * J_simp.row(1)[1]\n",
    "    # ------------------------------------------------------------------------------------------------------\n",
    "\n",
    "    # -----------------------V------------------------------------------------------------------------------\n",
    "    v_x = second.diff(x) * J_simp.row(0)[0] + second.diff(y) * J_simp.row(1)[0]\n",
    "    v_y = second.diff(x) * J_simp.row(0)[1] + second.diff(y) * J_simp.row(1)[1]\n",
    "\n",
    "    v_xx = v_x.diff(x) * J_simp.row(0)[0] + v_x.diff(y) * J_simp.row(1)[0]\n",
    "    v_xy = v_x.diff(x) * J_simp.row(0)[1] + v_x.diff(y) * J_simp.row(1)[1]\n",
    "\n",
    "    v_yy = v_y.diff(x) * J_simp.row(0)[1] + v_y.diff(y) * J_simp.row(1)[1]\n",
    "    # ------------------------------------------------------------------------------------------------------\n",
    "\n",
    "    # -----------------------bilinear-form------------------------------------------------------------------\n",
    "    A = u_xx * v_xx\n",
    "    B = u_xy * v_xy\n",
    "    b = u_xx * v_yy\n",
    "    C = u_yy * v_yy\n",
    "    # ------------------------------------------------------------------------------------------------------\n",
    "\n",
    "    # -----------------------integrals----------------------------------------------------------------------\n",
    "    sym_int_B = sympy.integrate(A + 2 * B + C, (y, 0, 1 - x), (x, 0, 1))\n",
    "    sym_int_b = sympy.integrate(A + 2 * b + C, (y, 0, 1 - x), (x, 0, 1))\n",
    "    sym_int_A = sympy.integrate(first * second, (y, 0, 1 - x), (x, 0, 1))\n",
    "\n",
    "    result_B[idx][jdx] = sym_int_B\n",
    "    result_b[idx][jdx] = sym_int_b\n",
    "    result_A[idx][jdx] = sym_int_A\n",
    "# -----------------------------------------------------------------------------------------------------\n",
    "\n",
    "result_b = sympy.Matrix(result_b)\n",
    "result_B = sympy.Matrix(result_B)\n",
    "result_A = sympy.Matrix(result_A)\n",
    "\n",
    "result_A = result_A * abs(J.inv().det())\n",
    "result_b = result_b * abs(J.inv().det())\n",
    "result_B = result_B * abs(J.inv().det())"
   ]
  },
  {
   "cell_type": "code",
   "execution_count": 51,
   "id": "d4348ab9",
   "metadata": {},
   "outputs": [
    {
     "name": "stderr",
     "output_type": "stream",
     "text": [
      "100%|██████████| 21/21 [00:02<00:00,  7.46it/s]\n"
     ]
    }
   ],
   "source": [
    "N = len(argyris_basis)\n",
    "result_C = [0 for j in range(N)]\n",
    "\n",
    "for idx in tqdm(range(N)):\n",
    "    u = argyris_basis[idx]\n",
    "    sym_int_C = sympy.integrate(u, (y, 0, 1 - x), (x, 0, 1))\n",
    "    result_C[idx] = sym_int_C\n",
    "\n",
    "result_C = sympy.Matrix(result_C)\n",
    "result_C = result_C * abs(J.inv().det())"
   ]
  },
  {
   "cell_type": "code",
   "execution_count": 52,
   "id": "1f49666a",
   "metadata": {},
   "outputs": [],
   "source": [
    "result_b = result_b.subs({\n",
    "        J11: J[0, 0],\n",
    "        J12: J[0, 1],\n",
    "        J21: J[1, 0],\n",
    "        J22: J[1, 1]\n",
    "})\n",
    "\n",
    "result_B = result_B.subs({\n",
    "        J11: J[0, 0],\n",
    "        J12: J[0, 1],\n",
    "        J21: J[1, 0],\n",
    "        J22: J[1, 1]\n",
    "})"
   ]
  },
  {
   "cell_type": "markdown",
   "id": "35b55353",
   "metadata": {},
   "source": [
    "### Save the results"
   ]
  },
  {
   "cell_type": "code",
   "execution_count": 53,
   "id": "300b289a",
   "metadata": {},
   "outputs": [],
   "source": [
    "dill.dump(result_b, open(\"../calculations/pushed_forward_result_for_b\", \"wb\"))\n",
    "dill.dump(result_B, open(\"../calculations/pushed_forward_result_for_B\", \"wb\"))\n",
    "dill.dump(result_A, open(\"../calculations/pushed_forward_result_for_A\", \"wb\"))\n",
    "dill.dump(result_C, open(\"../calculations/pushed_forward_result_for_C\", \"wb\"))"
   ]
  },
  {
   "cell_type": "markdown",
   "id": "6bbf8b41",
   "metadata": {},
   "source": [
    "### Load the results"
   ]
  },
  {
   "cell_type": "code",
   "execution_count": 54,
   "id": "1a0b503c",
   "metadata": {},
   "outputs": [],
   "source": [
    "result_b = dill.load(open(\"../calculations/pushed_forward_result_for_b\", \"rb\"))\n",
    "result_B = dill.load(open(\"../calculations/pushed_forward_result_for_B\", \"rb\"))\n",
    "result_A = dill.load(open(\"../calculations/pushed_forward_result_for_A\", \"rb\"))\n",
    "result_C = dill.load(open(\"../calculations/pushed_forward_result_for_C\", \"rb\"))"
   ]
  },
  {
   "cell_type": "markdown",
   "id": "a8c92cab",
   "metadata": {},
   "source": [
    "# Define transformation matrices"
   ]
  },
  {
   "cell_type": "markdown",
   "id": "7266a9e6",
   "metadata": {},
   "source": [
    "### $V^{c}$"
   ]
  },
  {
   "cell_type": "code",
   "execution_count": 10,
   "id": "beac4a71",
   "metadata": {},
   "outputs": [],
   "source": [
    "THETA_s = sympy.simplify(THETA * delta**2)\n",
    "THETA_inv = THETA_s.inv() * delta**2"
   ]
  },
  {
   "cell_type": "code",
   "execution_count": 11,
   "id": "d049ac56",
   "metadata": {},
   "outputs": [],
   "source": [
    "V_c = sympy.diag(\n",
    "    1,\n",
    "    J.inv().T,\n",
    "    THETA_inv,\n",
    "    1,\n",
    "    J.inv().T,\n",
    "    THETA_inv,\n",
    "    1,\n",
    "    J.inv().T,\n",
    "    THETA_inv,\n",
    "    B1,\n",
    "    B2,\n",
    "    B3,\n",
    ")"
   ]
  },
  {
   "cell_type": "markdown",
   "id": "1aa1c18f",
   "metadata": {},
   "source": [
    "### $E$"
   ]
  },
  {
   "cell_type": "code",
   "execution_count": 12,
   "id": "c99d6b34",
   "metadata": {},
   "outputs": [],
   "source": [
    "E = np.zeros((21, 24), dtype=int)\n",
    "for i in range(21):\n",
    "    for j in range(24):\n",
    "        if (i <= 18) and (j <= 18) and (i == j):\n",
    "            E[i][j] = 1\n",
    "        elif (i == 19) and (j == 20):\n",
    "            E[i][j] = 1\n",
    "        elif (i == 20) and (j == 22):\n",
    "            E[i][j] = 1\n",
    "E = sympy.Matrix(E)"
   ]
  },
  {
   "cell_type": "markdown",
   "id": "9c50044a",
   "metadata": {},
   "source": [
    "### $D$"
   ]
  },
  {
   "cell_type": "code",
   "execution_count": 13,
   "id": "81d94b78",
   "metadata": {},
   "outputs": [],
   "source": [
    "D = sympy.Matrix(\n",
    "    [\n",
    "        [1, 0, 0, 0, 0, 0, 0, 0, 0, 0, 0, 0, 0, 0, 0, 0, 0, 0, 0, 0, 0],\n",
    "        [0, 1, 0, 0, 0, 0, 0, 0, 0, 0, 0, 0, 0, 0, 0, 0, 0, 0, 0, 0, 0],\n",
    "        [0, 0, 1, 0, 0, 0, 0, 0, 0, 0, 0, 0, 0, 0, 0, 0, 0, 0, 0, 0, 0],\n",
    "        [0, 0, 0, 1, 0, 0, 0, 0, 0, 0, 0, 0, 0, 0, 0, 0, 0, 0, 0, 0, 0],\n",
    "        [0, 0, 0, 0, 1, 0, 0, 0, 0, 0, 0, 0, 0, 0, 0, 0, 0, 0, 0, 0, 0],\n",
    "        [0, 0, 0, 0, 0, 1, 0, 0, 0, 0, 0, 0, 0, 0, 0, 0, 0, 0, 0, 0, 0],\n",
    "        [0, 0, 0, 0, 0, 0, 1, 0, 0, 0, 0, 0, 0, 0, 0, 0, 0, 0, 0, 0, 0],\n",
    "        [0, 0, 0, 0, 0, 0, 0, 1, 0, 0, 0, 0, 0, 0, 0, 0, 0, 0, 0, 0, 0],\n",
    "        [0, 0, 0, 0, 0, 0, 0, 0, 1, 0, 0, 0, 0, 0, 0, 0, 0, 0, 0, 0, 0],\n",
    "        [0, 0, 0, 0, 0, 0, 0, 0, 0, 1, 0, 0, 0, 0, 0, 0, 0, 0, 0, 0, 0],\n",
    "        [0, 0, 0, 0, 0, 0, 0, 0, 0, 0, 1, 0, 0, 0, 0, 0, 0, 0, 0, 0, 0],\n",
    "        [0, 0, 0, 0, 0, 0, 0, 0, 0, 0, 0, 1, 0, 0, 0, 0, 0, 0, 0, 0, 0],\n",
    "        [0, 0, 0, 0, 0, 0, 0, 0, 0, 0, 0, 0, 1, 0, 0, 0, 0, 0, 0, 0, 0],\n",
    "        [0, 0, 0, 0, 0, 0, 0, 0, 0, 0, 0, 0, 0, 1, 0, 0, 0, 0, 0, 0, 0],\n",
    "        [0, 0, 0, 0, 0, 0, 0, 0, 0, 0, 0, 0, 0, 0, 1, 0, 0, 0, 0, 0, 0],\n",
    "        [0, 0, 0, 0, 0, 0, 0, 0, 0, 0, 0, 0, 0, 0, 0, 1, 0, 0, 0, 0, 0],\n",
    "        [0, 0, 0, 0, 0, 0, 0, 0, 0, 0, 0, 0, 0, 0, 0, 0, 1, 0, 0, 0, 0],\n",
    "        [0, 0, 0, 0, 0, 0, 0, 0, 0, 0, 0, 0, 0, 0, 0, 0, 0, 1, 0, 0, 0],\n",
    "        [0, 0, 0, 0, 0, 0, 0, 0, 0, 0, 0, 0, 0, 0, 0, 0, 0, 0, 1, 0, 0],\n",
    "        [\n",
    "            0,\n",
    "            0,\n",
    "            0,\n",
    "            0,\n",
    "            0,\n",
    "            0,\n",
    "            -R(15, 8) / l1,\n",
    "            -R(7, 16) * t1[0],\n",
    "            -R(7, 16) * t1[1],\n",
    "            -l1 / 32 * tau_1[0],\n",
    "            -l1 / 32 * tau_1[1],\n",
    "            -l1 / 32 * tau_1[2],\n",
    "            +R(15, 8) / l1,\n",
    "            -R(7, 16) * t1[0],\n",
    "            -R(7, 16) * t1[1],\n",
    "            +l1 / 32 * tau_1[0],\n",
    "            +l1 / 32 * tau_1[1],\n",
    "            +l1 / 32 * tau_1[2],\n",
    "            0,\n",
    "            0,\n",
    "            0,\n",
    "        ],\n",
    "        [0, 0, 0, 0, 0, 0, 0, 0, 0, 0, 0, 0, 0, 0, 0, 0, 0, 0, 0, 1, 0],\n",
    "        [\n",
    "            -R(15, 8) / l2,\n",
    "            -R(7, 16) * t2[0],\n",
    "            -R(7, 16) * t2[1],\n",
    "            -l2 / 32 * tau_2[0],\n",
    "            -l2 / 32 * tau_2[1],\n",
    "            -l2 / 32 * tau_2[2],\n",
    "            0,\n",
    "            0,\n",
    "            0,\n",
    "            0,\n",
    "            0,\n",
    "            0,\n",
    "            +R(15, 8) / l2,\n",
    "            -R(7, 16) * t2[0],\n",
    "            -R(7, 16) * t2[1],\n",
    "            +l2 / 32 * tau_2[0],\n",
    "            +l2 / 32 * tau_2[1],\n",
    "            +l2 / 32 * tau_2[2],\n",
    "            0,\n",
    "            0,\n",
    "            0,\n",
    "        ],\n",
    "        [0, 0, 0, 0, 0, 0, 0, 0, 0, 0, 0, 0, 0, 0, 0, 0, 0, 0, 0, 0, 1],\n",
    "        [\n",
    "            -R(15, 8) / l3,\n",
    "            -R(7, 16) * t3[0],\n",
    "            -R(7, 16) * t3[1],\n",
    "            -l3 / 32 * tau_3[0],\n",
    "            -l3 / 32 * tau_3[1],\n",
    "            -l3 / 32 * tau_3[2],\n",
    "            +R(15, 8) / l3,\n",
    "            -R(7, 16) * t3[0],\n",
    "            -R(7, 16) * t3[1],\n",
    "            +l3 / 32 * tau_3[0],\n",
    "            +l3 / 32 * tau_3[1],\n",
    "            +l3 / 32 * tau_3[2],\n",
    "            0,\n",
    "            0,\n",
    "            0,\n",
    "            0,\n",
    "            0,\n",
    "            0,\n",
    "            0,\n",
    "            0,\n",
    "            0,\n",
    "        ],\n",
    "    ]\n",
    ")"
   ]
  },
  {
   "cell_type": "markdown",
   "id": "91406bd6",
   "metadata": {},
   "source": [
    "### $M$"
   ]
  },
  {
   "cell_type": "code",
   "execution_count": 14,
   "id": "44fbc566",
   "metadata": {},
   "outputs": [],
   "source": [
    "V = E @ V_c @ D\n",
    "M = V.T"
   ]
  },
  {
   "cell_type": "code",
   "execution_count": 16,
   "id": "0b2b2a08",
   "metadata": {},
   "outputs": [],
   "source": [
    "dill.dump(\n",
    "    sympy.lambdify(\n",
    "        [x_1, y_1, x_2, y_2, x_3, y_3], \n",
    "        M\n",
    "        ),\n",
    "    open(\"../calculations/argyris_M\", \"wb\")\n",
    ")"
   ]
  },
  {
   "cell_type": "markdown",
   "id": "641e03f5",
   "metadata": {},
   "source": [
    "### Apply transformations"
   ]
  },
  {
   "cell_type": "code",
   "execution_count": 60,
   "id": "edcaa6a9",
   "metadata": {},
   "outputs": [],
   "source": [
    "bilinear_form_biharmonic_without_mixed = M @ result_b @ M.T"
   ]
  },
  {
   "cell_type": "code",
   "execution_count": 61,
   "id": "bbc0b280",
   "metadata": {},
   "outputs": [],
   "source": [
    "bilinear_form_biharmonic_with_mixed = M @ result_B @ M.T"
   ]
  },
  {
   "cell_type": "code",
   "execution_count": 62,
   "id": "a1347ec4",
   "metadata": {},
   "outputs": [],
   "source": [
    "right_part = M @ result_A @ M.T @ right_vals"
   ]
  },
  {
   "cell_type": "code",
   "execution_count": 63,
   "id": "e2597d2f",
   "metadata": {},
   "outputs": [],
   "source": [
    "integral_values = M @ result_C"
   ]
  },
  {
   "cell_type": "code",
   "execution_count": 64,
   "id": "07c5d814",
   "metadata": {},
   "outputs": [],
   "source": [
    "final_parameters = [x_1, y_1, x_2, y_2, x_3, y_3]"
   ]
  },
  {
   "cell_type": "code",
   "execution_count": 65,
   "id": "d9c94cc4",
   "metadata": {},
   "outputs": [],
   "source": [
    "bilinear_form_biharmonic_without_mixed_f = sympy.lambdify(\n",
    "    final_parameters, \n",
    "    bilinear_form_biharmonic_without_mixed,\n",
    "    cse=True\n",
    ")"
   ]
  },
  {
   "cell_type": "code",
   "execution_count": 66,
   "id": "87910873",
   "metadata": {},
   "outputs": [],
   "source": [
    "bilinear_form_biharmonic_with_mixed_f = sympy.lambdify(\n",
    "    final_parameters, \n",
    "    bilinear_form_biharmonic_with_mixed,\n",
    "    cse=True\n",
    ")"
   ]
  },
  {
   "cell_type": "code",
   "execution_count": 67,
   "id": "c37e389c",
   "metadata": {},
   "outputs": [],
   "source": [
    "right_part_f = sympy.lambdify(\n",
    "    [*final_parameters, *right_vals_symbols],\n",
    "    right_part, \n",
    "    cse=True\n",
    ")"
   ]
  },
  {
   "cell_type": "code",
   "execution_count": 68,
   "id": "8e3639e0",
   "metadata": {},
   "outputs": [],
   "source": [
    "integral_values_f = sympy.lambdify(\n",
    "    final_parameters,\n",
    "    integral_values, \n",
    "    cse=True\n",
    ")"
   ]
  },
  {
   "cell_type": "markdown",
   "id": "29463af6",
   "metadata": {},
   "source": [
    "### Save the results"
   ]
  },
  {
   "cell_type": "code",
   "execution_count": 70,
   "id": "c59c521b",
   "metadata": {},
   "outputs": [],
   "source": [
    "dill.dump(\n",
    "    bilinear_form_biharmonic_without_mixed_f,\n",
    "    open(\"../calculations/argyris_quintic_biharmonic_matrix_without_mixed_simplified\", \"wb\"),\n",
    ")\n",
    "dill.dump(\n",
    "    bilinear_form_biharmonic_with_mixed_f,\n",
    "    open(\"../calculations/argyris_quintic_biharmonic_matrix_with_mixed_simplified\", \"wb\"),\n",
    ")\n",
    "dill.dump(\n",
    "    right_part_f,\n",
    "    open(\"../calculations/argyris_quintic_biharmonic_matrix_right_values_simplified\", \"wb\"),\n",
    ")\n",
    "dill.dump(\n",
    "    integral_values_f,\n",
    "    open(\"../calculations/argyris_quintic_biharmonic_matrix_integral_values_simplified\", \"wb\"),\n",
    ")"
   ]
  }
 ],
 "metadata": {
  "kernelspec": {
   "display_name": "Python 3 (ipykernel)",
   "language": "python",
   "name": "python3"
  },
  "language_info": {
   "codemirror_mode": {
    "name": "ipython",
    "version": 3
   },
   "file_extension": ".py",
   "mimetype": "text/x-python",
   "name": "python",
   "nbconvert_exporter": "python",
   "pygments_lexer": "ipython3",
   "version": "3.9.12"
  }
 },
 "nbformat": 4,
 "nbformat_minor": 5
}
