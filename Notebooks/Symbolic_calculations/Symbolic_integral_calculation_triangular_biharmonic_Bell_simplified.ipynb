{
 "cells": [
  {
   "cell_type": "code",
   "execution_count": null,
   "id": "f08b13c7",
   "metadata": {},
   "outputs": [],
   "source": [
    "import sympy\n",
    "import matplotlib.pyplot as plt\n",
    "import numpy as np\n",
    "from tqdm import tqdm\n",
    "import symfem\n",
    "from sympy import Rational\n",
    "import dill\n",
    "dill.settings[\"recurse\"] = True\n",
    "from sympy import Rational as R"
   ]
  },
  {
   "cell_type": "code",
   "execution_count": null,
   "id": "102f5975",
   "metadata": {},
   "outputs": [],
   "source": [
    "x, y, x_1, y_1, x_2, y_2, x_3, y_3 = sympy.symbols(\"x y x_1 y_1 x_2 y_2 x_3 y_3\")\n",
    "t = sympy.symbols(\"t\")"
   ]
  },
  {
   "cell_type": "code",
   "execution_count": null,
   "id": "8f99576f",
   "metadata": {},
   "outputs": [],
   "source": [
    "rotation_matrix = sympy.Matrix(\n",
    "    [\n",
    "        [+R(0), +R(1)],\n",
    "        [-R(1), +R(0)]\n",
    "    ]\n",
    ")\n",
    "\n",
    "t1_hat = sympy.Matrix([-R(1), +R(1)]) / sympy.sqrt(2)\n",
    "t2_hat = sympy.Matrix([+R(0), +R(1)])\n",
    "t3_hat = sympy.Matrix([+R(1), +R(0)])\n",
    "\n",
    "n1_hat = rotation_matrix @ t1_hat\n",
    "n2_hat = rotation_matrix @ t2_hat\n",
    "n3_hat = rotation_matrix @ t3_hat"
   ]
  },
  {
   "cell_type": "markdown",
   "id": "5eaaf6dd",
   "metadata": {},
   "source": [
    "### Get basis functions"
   ]
  },
  {
   "cell_type": "code",
   "execution_count": null,
   "id": "a25db112",
   "metadata": {},
   "outputs": [],
   "source": [
    "monomial_basis = sympy.Matrix(\n",
    "[1,\n",
    " x,\n",
    " x**2,\n",
    " x**3,\n",
    " x**4,\n",
    " x**5,\n",
    " y,\n",
    " x*y,\n",
    " x**2*y,\n",
    " x**3*y,\n",
    " x**4*y,\n",
    " y**2,\n",
    " x*y**2,\n",
    " x**2*y**2,\n",
    " x**3*y**2,\n",
    " y**3,\n",
    " x*y**3,\n",
    " x**2*y**3,\n",
    " y**4,\n",
    " x*y**4,\n",
    " y**5]\n",
    ")\n",
    "\n",
    "L_4 = R(70)*t**4 - R(140)*t**3 + R(90)*t**2 - R(20)*t + R(1)\n",
    "\n",
    "def l1(f, n):\n",
    "    dfdx = f.diff(x)\n",
    "    dfdy = f.diff(y)\n",
    "    integrant = L_4 * (n[0]*dfdx + n[1]*dfdy).subs({x: t, y: 1 - t})\n",
    "    return sympy.integrate(integrant, (t, 0, 1)) \n",
    "\n",
    "def l2(f, n):\n",
    "    dfdx = f.diff(x)\n",
    "    dfdy = f.diff(y)\n",
    "    integrant = L_4 * (n[0]*dfdx + n[1]*dfdy).subs({x: 0, y: t})\n",
    "    return sympy.integrate(integrant, (t, 0, 1))\n",
    "\n",
    "def l3(f, n):\n",
    "    dfdx = f.diff(x)\n",
    "    dfdy = f.diff(y)\n",
    "    integrant = L_4 * (n[0]*dfdx + n[1]*dfdy).subs({x: t, y: 0})\n",
    "    return sympy.integrate(integrant, (t, 0, 1)) "
   ]
  },
  {
   "cell_type": "code",
   "execution_count": 394,
   "id": "bfe4655c",
   "metadata": {},
   "outputs": [],
   "source": [
    "Vander = sympy.Matrix(np.zeros((21, 21)))\n",
    "\n",
    "for i, basis in enumerate(monomial_basis):\n",
    "\n",
    "    v1 = {x: 0, y: 0}\n",
    "    Vander[i, 0] = basis.subs(v1)\n",
    "    Vander[i, 1] = basis.diff(x).subs(v1)\n",
    "    Vander[i, 2] = basis.diff(y).subs(v1)\n",
    "    Vander[i, 3] = basis.diff(x, x).subs(v1)\n",
    "    Vander[i, 4] = basis.diff(x, y).subs(v1)\n",
    "    Vander[i, 5] = basis.diff(y, y).subs(v1)\n",
    "\n",
    "    v2 = {x: 1, y: 0}\n",
    "    Vander[i, 6] = basis.subs(v2)\n",
    "    Vander[i, 7] = basis.diff(x).subs(v2)\n",
    "    Vander[i, 8] = basis.diff(y).subs(v2)\n",
    "    Vander[i, 9] = basis.diff(x, x).subs(v2)\n",
    "    Vander[i, 10] = basis.diff(x, y).subs(v2)\n",
    "    Vander[i, 11] = basis.diff(y, y).subs(v2)\n",
    "\n",
    "    v3 = {x: 0, y: 1}\n",
    "    Vander[i, 12] = basis.subs(v3)\n",
    "    Vander[i, 13] = basis.diff(x).subs(v3)\n",
    "    Vander[i, 14] = basis.diff(y).subs(v3)\n",
    "    Vander[i, 15] = basis.diff(x, x).subs(v3)\n",
    "    Vander[i, 16] = basis.diff(x, y).subs(v3)\n",
    "    Vander[i, 17] = basis.diff(y, y).subs(v3)\n",
    "\n",
    "    Vander[i, 18] = l1(basis, n1_hat)\n",
    "    Vander[i, 19] = l2(basis, n2_hat)\n",
    "    Vander[i, 20] = l3(basis, n3_hat)"
   ]
  },
  {
   "cell_type": "code",
   "execution_count": 396,
   "id": "5d1881ea",
   "metadata": {},
   "outputs": [],
   "source": [
    "bell_basis = Vander.inv() @ monomial_basis"
   ]
  },
  {
   "cell_type": "markdown",
   "id": "8cac3db9",
   "metadata": {},
   "source": [
    "# Necessary symbols"
   ]
  },
  {
   "cell_type": "code",
   "execution_count": 363,
   "id": "865cd2af",
   "metadata": {},
   "outputs": [],
   "source": [
    "G1_hat = n1_hat.row_join(t1_hat).T\n",
    "G2_hat = n2_hat.row_join(t2_hat).T\n",
    "G3_hat = n3_hat.row_join(t3_hat).T\n",
    "\n",
    "l1 = ((x_3 - x_2)**2 + (y_3 - y_2)**2) ** R(1, 2)\n",
    "l2 = ((x_3 - x_1)**2 + (y_3 - y_1)**2) ** R(1, 2)\n",
    "l3 = ((x_2 - x_1)**2 + (y_2 - y_1)**2) ** R(1, 2)\n",
    "\n",
    "t1 = sympy.Matrix([x_3 - x_2, y_3 - y_2]) / l1\n",
    "t2 = sympy.Matrix([x_3 - x_1, y_3 - y_1]) / l2\n",
    "t3 = sympy.Matrix([x_2 - x_1, y_2 - y_1]) / l3\n",
    "\n",
    "n1 = rotation_matrix @ t1\n",
    "n2 = rotation_matrix @ t2\n",
    "n3 = rotation_matrix @ t3\n",
    "\n",
    "tau_1 = sympy.Matrix([t1[0]**2, R(2) * t1[0] * t1[1], t1[1]**2])\n",
    "tau_2 = sympy.Matrix([t2[0]**2, R(2) * t2[0] * t2[1], t2[1]**2])\n",
    "tau_3 = sympy.Matrix([t3[0]**2, R(2) * t3[0] * t3[1], t3[1]**2])\n",
    "\n",
    "delta = x_1 * y_2 - x_1 * y_3 - x_2 * y_1 + x_2 * y_3 + x_3 * y_1 - x_3 * y_2\n",
    "\n",
    "P_1_x = (-y_1 + y_3) / delta\n",
    "P_1_y = (+x_1 - x_3) / delta\n",
    "\n",
    "P_2_x = (+y_1 - y_2) / delta\n",
    "P_2_y = (-x_1 + x_2) / delta\n",
    "\n",
    "J = sympy.Matrix(\n",
    "    [\n",
    "        [P_1_x, P_1_y],\n",
    "        [P_2_x, P_2_y],\n",
    "    ]\n",
    ")\n",
    "\n",
    "THETA = sympy.Matrix(\n",
    "    [\n",
    "        [P_1_x**2, R(2) * P_1_x * P_2_x, P_2_x**2],\n",
    "        [P_1_y * P_1_x, P_1_y * P_2_x + P_1_x * P_2_y, P_2_x * P_2_y],\n",
    "        [P_1_y**2, R(2) * P_1_y * P_2_y, P_2_y**2],\n",
    "    ]\n",
    ")\n",
    "\n",
    "G1 = n1.row_join(t1).T\n",
    "G2 = n2.row_join(t2).T\n",
    "G3 = n3.row_join(t3).T\n",
    "\n",
    "B1 = G1_hat @ J.inv().T @ G1.T / l1\n",
    "B2 = G2_hat @ J.inv().T @ G2.T / l2\n",
    "B3 = G3_hat @ J.inv().T @ G3.T / l3\n",
    "\n",
    "right_vals_symbols = sympy.symbols(\"W1:19\")\n",
    "right_vals = sympy.Matrix(right_vals_symbols)"
   ]
  },
  {
   "cell_type": "markdown",
   "id": "a8ebacd3",
   "metadata": {},
   "source": [
    "### Calculate bilinear form and right values for forward pushed reference element"
   ]
  },
  {
   "cell_type": "code",
   "execution_count": null,
   "id": "085190dc",
   "metadata": {},
   "outputs": [],
   "source": [
    "N = len(bell_basis)\n",
    "\n",
    "#This is done for fast integration\n",
    "J11, J12, J21, J22 = sympy.symbols(\"J11, J12, J21, J22\")\n",
    "J_simp = sympy.Matrix([\n",
    "    [J11, J12],\n",
    "    [J21, J22]\n",
    "])\n",
    "\n",
    "result_b = [[0 for i in range(N)] for j in range(N)]\n",
    "result_B = [[0 for i in range(N)] for j in range(N)]\n",
    "result_A = [[0 for i in range(N)] for j in range(N)]\n",
    "\n",
    "for idx, jdx in tqdm([(idx, jdx) for idx in range(N) for jdx in range(N)]):\n",
    "    first = bell_basis[idx]\n",
    "    second = bell_basis[jdx]\n",
    "\n",
    "    # -----------------------U------------------------------------------------------------------------------\n",
    "    u_x = first.diff(x) * J_simp.row(0)[0] + first.diff(y) * J_simp.row(1)[0]\n",
    "    u_y = first.diff(x) * J_simp.row(0)[1] + first.diff(y) * J_simp.row(1)[1]\n",
    "\n",
    "    u_xx = u_x.diff(x) * J_simp.row(0)[0] + u_x.diff(y) * J_simp.row(1)[0]\n",
    "    u_xy = u_x.diff(x) * J_simp.row(0)[1] + u_x.diff(y) * J_simp.row(1)[1]\n",
    "\n",
    "    u_yy = u_y.diff(x) * J_simp.row(0)[1] + u_y.diff(y) * J_simp.row(1)[1]\n",
    "    # ------------------------------------------------------------------------------------------------------\n",
    "\n",
    "    # -----------------------V------------------------------------------------------------------------------\n",
    "    v_x = second.diff(x) * J_simp.row(0)[0] + second.diff(y) * J_simp.row(1)[0]\n",
    "    v_y = second.diff(x) * J_simp.row(0)[1] + second.diff(y) * J_simp.row(1)[1]\n",
    "\n",
    "    v_xx = v_x.diff(x) * J_simp.row(0)[0] + v_x.diff(y) * J_simp.row(1)[0]\n",
    "    v_xy = v_x.diff(x) * J_simp.row(0)[1] + v_x.diff(y) * J_simp.row(1)[1]\n",
    "\n",
    "    v_yy = v_y.diff(x) * J_simp.row(0)[1] + v_y.diff(y) * J_simp.row(1)[1]\n",
    "    # ------------------------------------------------------------------------------------------------------\n",
    "\n",
    "    # -----------------------bilinear-form------------------------------------------------------------------\n",
    "    A = u_xx * v_xx\n",
    "    B = u_xy * v_xy\n",
    "    b = u_xx * v_yy\n",
    "    C = u_yy * v_yy\n",
    "    # ------------------------------------------------------------------------------------------------------\n",
    "\n",
    "    # -----------------------integrals----------------------------------------------------------------------\n",
    "    sym_int_B = sympy.integrate(A + R(2) * B + C, (y, 0, 1 - x), (x, 0, 1))\n",
    "    sym_int_b = sympy.integrate(A + R(2) * b + C, (y, 0, 1 - x), (x, 0, 1))\n",
    "    sym_int_A = sympy.integrate(first * second, (y, 0, 1 - x), (x, 0, 1))\n",
    "\n",
    "    result_B[idx][jdx] = sym_int_B\n",
    "    result_b[idx][jdx] = sym_int_b\n",
    "    result_A[idx][jdx] = sym_int_A\n",
    "# -----------------------------------------------------------------------------------------------------\n",
    "\n",
    "result_b = sympy.Matrix(result_b)\n",
    "result_B = sympy.Matrix(result_B)\n",
    "result_A = sympy.Matrix(result_A)\n",
    "\n",
    "result_A = result_A * abs(J.inv().det())\n",
    "result_b = result_b * abs(J.inv().det())\n",
    "result_B = result_B * abs(J.inv().det())"
   ]
  },
  {
   "cell_type": "code",
   "execution_count": null,
   "id": "d4348ab9",
   "metadata": {},
   "outputs": [],
   "source": [
    "N = len(bell_basis)\n",
    "result_C = [0 for j in range(N)]\n",
    "\n",
    "for idx in tqdm(range(N)):\n",
    "    u = bell_basis[idx]\n",
    "    sym_int_C = sympy.integrate(u, (y, 0, 1 - x), (x, 0, 1))\n",
    "    result_C[idx] = sym_int_C\n",
    "\n",
    "result_C = sympy.Matrix(result_C)\n",
    "result_C = result_C * abs(J.inv().det())"
   ]
  },
  {
   "cell_type": "code",
   "execution_count": null,
   "id": "1f49666a",
   "metadata": {},
   "outputs": [],
   "source": [
    "result_b = result_b.subs({\n",
    "        J11: J[0, 0],\n",
    "        J12: J[0, 1],\n",
    "        J21: J[1, 0],\n",
    "        J22: J[1, 1]\n",
    "})\n",
    "\n",
    "result_B = result_B.subs({\n",
    "        J11: J[0, 0],\n",
    "        J12: J[0, 1],\n",
    "        J21: J[1, 0],\n",
    "        J22: J[1, 1]\n",
    "})"
   ]
  },
  {
   "cell_type": "markdown",
   "id": "35b55353",
   "metadata": {},
   "source": [
    "### Save the results"
   ]
  },
  {
   "cell_type": "code",
   "execution_count": null,
   "id": "300b289a",
   "metadata": {},
   "outputs": [],
   "source": [
    "dill.dump(result_b, open(\"../calculations/pushed_forward_result_for_b_bell\", \"wb\"))\n",
    "dill.dump(result_B, open(\"../calculations/pushed_forward_result_for_B_bell\", \"wb\"))\n",
    "dill.dump(result_A, open(\"../calculations/pushed_forward_result_for_A_bell\", \"wb\"))\n",
    "dill.dump(result_C, open(\"../calculations/pushed_forward_result_for_C_bell\", \"wb\"))"
   ]
  },
  {
   "cell_type": "markdown",
   "id": "6bbf8b41",
   "metadata": {},
   "source": [
    "### Load the results"
   ]
  },
  {
   "cell_type": "code",
   "execution_count": null,
   "id": "1a0b503c",
   "metadata": {},
   "outputs": [],
   "source": [
    "result_b = dill.load(open(\"../calculations/pushed_forward_result_for_b_bell\", \"rb\"))\n",
    "result_B = dill.load(open(\"../calculations/pushed_forward_result_for_B_bell\", \"rb\"))\n",
    "result_A = dill.load(open(\"../calculations/pushed_forward_result_for_A_bell\", \"rb\"))\n",
    "result_C = dill.load(open(\"../calculations/pushed_forward_result_for_C_bell\", \"rb\"))"
   ]
  },
  {
   "cell_type": "markdown",
   "id": "a8c92cab",
   "metadata": {},
   "source": [
    "# Define transformation matrices"
   ]
  },
  {
   "cell_type": "markdown",
   "id": "7266a9e6",
   "metadata": {},
   "source": [
    "### $V^{c}$"
   ]
  },
  {
   "cell_type": "code",
   "execution_count": 305,
   "id": "beac4a71",
   "metadata": {},
   "outputs": [],
   "source": [
    "THETA_s = sympy.simplify(THETA * delta**2)\n",
    "THETA_inv = THETA_s.inv() * delta**2"
   ]
  },
  {
   "cell_type": "code",
   "execution_count": 372,
   "id": "d049ac56",
   "metadata": {},
   "outputs": [],
   "source": [
    "V_c = sympy.diag(\n",
    "    R(1),\n",
    "    J.inv().T,\n",
    "    THETA_inv,\n",
    "    R(1),\n",
    "    J.inv().T,\n",
    "    THETA_inv,\n",
    "    R(1),\n",
    "    J.inv().T,\n",
    "    THETA_inv,\n",
    "    B1,\n",
    "    B2,\n",
    "    B3,\n",
    ")"
   ]
  },
  {
   "cell_type": "markdown",
   "id": "1aa1c18f",
   "metadata": {},
   "source": [
    "### $E$"
   ]
  },
  {
   "cell_type": "code",
   "execution_count": 373,
   "id": "c99d6b34",
   "metadata": {},
   "outputs": [],
   "source": [
    "E = np.zeros((21, 24), dtype=int)\n",
    "for i in range(21):\n",
    "    for j in range(24):\n",
    "        if (i <= 18) and (j <= 18) and (i == j):\n",
    "            E[i][j] = 1\n",
    "        elif (i == 19) and (j == 20):\n",
    "            E[i][j] = 1\n",
    "        elif (i == 20) and (j == 22):\n",
    "            E[i][j] = 1\n",
    "E = sympy.Matrix(E)"
   ]
  },
  {
   "cell_type": "markdown",
   "id": "9c50044a",
   "metadata": {},
   "source": [
    "### $D$"
   ]
  },
  {
   "cell_type": "code",
   "execution_count": 375,
   "id": "81d94b78",
   "metadata": {},
   "outputs": [],
   "source": [
    "D = sympy.Matrix(\n",
    "    [\n",
    "        [1, 0, 0, 0, 0, 0, 0, 0, 0, 0, 0, 0, 0, 0, 0, 0, 0, 0, 0, 0, 0],\n",
    "        [0, 1, 0, 0, 0, 0, 0, 0, 0, 0, 0, 0, 0, 0, 0, 0, 0, 0, 0, 0, 0],\n",
    "        [0, 0, 1, 0, 0, 0, 0, 0, 0, 0, 0, 0, 0, 0, 0, 0, 0, 0, 0, 0, 0],\n",
    "        [0, 0, 0, 1, 0, 0, 0, 0, 0, 0, 0, 0, 0, 0, 0, 0, 0, 0, 0, 0, 0],\n",
    "        [0, 0, 0, 0, 1, 0, 0, 0, 0, 0, 0, 0, 0, 0, 0, 0, 0, 0, 0, 0, 0],\n",
    "        [0, 0, 0, 0, 0, 1, 0, 0, 0, 0, 0, 0, 0, 0, 0, 0, 0, 0, 0, 0, 0],\n",
    "        [0, 0, 0, 0, 0, 0, 1, 0, 0, 0, 0, 0, 0, 0, 0, 0, 0, 0, 0, 0, 0],\n",
    "        [0, 0, 0, 0, 0, 0, 0, 1, 0, 0, 0, 0, 0, 0, 0, 0, 0, 0, 0, 0, 0],\n",
    "        [0, 0, 0, 0, 0, 0, 0, 0, 1, 0, 0, 0, 0, 0, 0, 0, 0, 0, 0, 0, 0],\n",
    "        [0, 0, 0, 0, 0, 0, 0, 0, 0, 1, 0, 0, 0, 0, 0, 0, 0, 0, 0, 0, 0],\n",
    "        [0, 0, 0, 0, 0, 0, 0, 0, 0, 0, 1, 0, 0, 0, 0, 0, 0, 0, 0, 0, 0],\n",
    "        [0, 0, 0, 0, 0, 0, 0, 0, 0, 0, 0, 1, 0, 0, 0, 0, 0, 0, 0, 0, 0],\n",
    "        [0, 0, 0, 0, 0, 0, 0, 0, 0, 0, 0, 0, 1, 0, 0, 0, 0, 0, 0, 0, 0],\n",
    "        [0, 0, 0, 0, 0, 0, 0, 0, 0, 0, 0, 0, 0, 1, 0, 0, 0, 0, 0, 0, 0],\n",
    "        [0, 0, 0, 0, 0, 0, 0, 0, 0, 0, 0, 0, 0, 0, 1, 0, 0, 0, 0, 0, 0],\n",
    "        [0, 0, 0, 0, 0, 0, 0, 0, 0, 0, 0, 0, 0, 0, 0, 1, 0, 0, 0, 0, 0],\n",
    "        [0, 0, 0, 0, 0, 0, 0, 0, 0, 0, 0, 0, 0, 0, 0, 0, 1, 0, 0, 0, 0],\n",
    "        [0, 0, 0, 0, 0, 0, 0, 0, 0, 0, 0, 0, 0, 0, 0, 0, 0, 1, 0, 0, 0],\n",
    "        [0, 0, 0, 0, 0, 0, 0, 0, 0, 0, 0, 0, 0, 0, 0, 0, 0, 0, 1, 0, 0],\n",
    "        [\n",
    "            0,\n",
    "            0,\n",
    "            0,\n",
    "            0,\n",
    "            0,\n",
    "            0,\n",
    "            -R(1, 21),\n",
    "            -R(1, 42) * l1 * t1[0],\n",
    "            -R(1, 42) * l1 * t1[1],\n",
    "            -R(1, 252) * l1**2 * tau_1[0],\n",
    "            -R(1, 252) * l1**2 * tau_1[1],\n",
    "            -R(1, 252) * l1**2 * tau_1[2],\n",
    "            +R(1, 21),\n",
    "            -R(1, 42) * l1 * t1[0],\n",
    "            -R(1, 42) * l1 * t1[1],\n",
    "            +R(1, 252) * l1**2 * tau_1[0],\n",
    "            +R(1, 252) * l1**2 * tau_1[1],\n",
    "            +R(1, 252) * l1**2 * tau_1[2],\n",
    "            0,\n",
    "            0,\n",
    "            0,\n",
    "        ],\n",
    "        [0, 0, 0, 0, 0, 0, 0, 0, 0, 0, 0, 0, 0, 0, 0, 0, 0, 0, 0, 1, 0],\n",
    "        [\n",
    "            -R(1, 21),\n",
    "            -R(1, 42) * l2 * t2[0],\n",
    "            -R(1, 42) * l2 * t2[1],\n",
    "            -R(1, 252) * l2**2 * tau_2[0],\n",
    "            -R(1, 252) * l2**2 * tau_2[1],\n",
    "            -R(1, 252) * l2**2 * tau_2[2],\n",
    "            0,\n",
    "            0,\n",
    "            0,\n",
    "            0,\n",
    "            0,\n",
    "            0,\n",
    "            +R(1, 21),\n",
    "            -R(1, 42) * l2 * t2[0],\n",
    "            -R(1, 42) * l2 * t2[1],\n",
    "            +R(1, 252) * l2**2 * tau_2[0],\n",
    "            +R(1, 252) * l2**2 * tau_2[1],\n",
    "            +R(1, 252) * l2**2 * tau_2[2],\n",
    "            0,\n",
    "            0,\n",
    "            0,\n",
    "        ],\n",
    "        [0, 0, 0, 0, 0, 0, 0, 0, 0, 0, 0, 0, 0, 0, 0, 0, 0, 0, 0, 0, 1],\n",
    "        [\n",
    "            -R(1, 21),\n",
    "            -R(1, 42) * l3 * t3[0],\n",
    "            -R(1, 42) * l3 * t3[1],\n",
    "            -R(1, 252) * l3**2 * tau_3[0],\n",
    "            -R(1, 252) * l3**2 * tau_3[1],\n",
    "            -R(1, 252) * l3**2 * tau_3[2],\n",
    "            +R(1, 21),\n",
    "            -R(1, 42) * l3 * t3[0],\n",
    "            -R(1, 42) * l3 * t3[1],\n",
    "            +R(1, 252) * l3**2 * tau_3[0],\n",
    "            +R(1, 252) * l3**2 * tau_3[1],\n",
    "            +R(1, 252) * l3**2 * tau_3[2],\n",
    "            0,\n",
    "            0,\n",
    "            0,\n",
    "            0,\n",
    "            0,\n",
    "            0,\n",
    "            0,\n",
    "            0,\n",
    "            0,\n",
    "        ],\n",
    "    ]\n",
    ")"
   ]
  },
  {
   "cell_type": "markdown",
   "id": "91406bd6",
   "metadata": {},
   "source": [
    "### $M$"
   ]
  },
  {
   "cell_type": "code",
   "execution_count": 377,
   "id": "44fbc566",
   "metadata": {},
   "outputs": [],
   "source": [
    "V = E @ V_c @ D\n",
    "M_c = V.T"
   ]
  },
  {
   "cell_type": "code",
   "execution_count": 378,
   "id": "51f633c1",
   "metadata": {},
   "outputs": [],
   "source": [
    "E_2 = np.zeros((18, 21), dtype=int)\n",
    "for i in range(18):\n",
    "    for j in range(21):\n",
    "        if (i == j):\n",
    "            E_2[i][j] = 1\n",
    "E_2 = sympy.Matrix(E_2)"
   ]
  },
  {
   "cell_type": "code",
   "execution_count": 379,
   "id": "b18b8641",
   "metadata": {},
   "outputs": [],
   "source": [
    "M = E_2 @ M_c"
   ]
  },
  {
   "cell_type": "markdown",
   "id": "641e03f5",
   "metadata": {},
   "source": [
    "### Apply transformations"
   ]
  },
  {
   "cell_type": "code",
   "execution_count": 201,
   "id": "edcaa6a9",
   "metadata": {},
   "outputs": [],
   "source": [
    "bilinear_form_biharmonic_without_mixed = M @ result_b @ M.T"
   ]
  },
  {
   "cell_type": "code",
   "execution_count": 202,
   "id": "bbc0b280",
   "metadata": {},
   "outputs": [],
   "source": [
    "bilinear_form_biharmonic_with_mixed = M @ result_B @ M.T"
   ]
  },
  {
   "cell_type": "code",
   "execution_count": null,
   "id": "a1347ec4",
   "metadata": {},
   "outputs": [],
   "source": [
    "right_part = M @ result_A @ M.T @ right_vals"
   ]
  },
  {
   "cell_type": "code",
   "execution_count": null,
   "id": "e2597d2f",
   "metadata": {},
   "outputs": [],
   "source": [
    "integral_values = M @ result_C"
   ]
  },
  {
   "cell_type": "code",
   "execution_count": null,
   "id": "07c5d814",
   "metadata": {},
   "outputs": [],
   "source": [
    "final_parameters = [x_1, y_1, x_2, y_2, x_3, y_3]"
   ]
  },
  {
   "cell_type": "code",
   "execution_count": 417,
   "id": "d9c94cc4",
   "metadata": {},
   "outputs": [],
   "source": [
    "bilinear_form_biharmonic_without_mixed_f = sympy.lambdify(\n",
    "    final_parameters, \n",
    "    bilinear_form_biharmonic_without_mixed,\n",
    "    cse=True\n",
    ")"
   ]
  },
  {
   "cell_type": "code",
   "execution_count": 418,
   "id": "87910873",
   "metadata": {},
   "outputs": [],
   "source": [
    "bilinear_form_biharmonic_with_mixed_f = sympy.lambdify(\n",
    "    final_parameters, \n",
    "    bilinear_form_biharmonic_with_mixed,\n",
    "    cse=True\n",
    ")"
   ]
  },
  {
   "cell_type": "code",
   "execution_count": 419,
   "id": "c37e389c",
   "metadata": {},
   "outputs": [],
   "source": [
    "right_part_f = sympy.lambdify(\n",
    "    [*final_parameters, *right_vals_symbols],\n",
    "    right_part, \n",
    "    cse=True\n",
    ")"
   ]
  },
  {
   "cell_type": "code",
   "execution_count": 420,
   "id": "8e3639e0",
   "metadata": {},
   "outputs": [],
   "source": [
    "integral_values_f = sympy.lambdify(\n",
    "    final_parameters,\n",
    "    integral_values, \n",
    "    cse=True\n",
    ")"
   ]
  },
  {
   "cell_type": "markdown",
   "id": "29463af6",
   "metadata": {},
   "source": [
    "### Save the results"
   ]
  },
  {
   "cell_type": "code",
   "execution_count": 421,
   "id": "c59c521b",
   "metadata": {},
   "outputs": [],
   "source": [
    "dill.dump(\n",
    "    bilinear_form_biharmonic_without_mixed_f,\n",
    "    open(\"../calculations/bell_quintic_biharmonic_matrix_without_mixed_simplified\", \"wb\"),\n",
    ")\n",
    "dill.dump(\n",
    "    bilinear_form_biharmonic_with_mixed_f,\n",
    "    open(\"../calculations/bell_quintic_biharmonic_matrix_with_mixed_simplified\", \"wb\"),\n",
    ")\n",
    "dill.dump(\n",
    "    right_part_f,\n",
    "    open(\"../calculations/bell_quintic_biharmonic_matrix_right_values_simplified\", \"wb\"),\n",
    ")\n",
    "dill.dump(\n",
    "    integral_values_f,\n",
    "    open(\"../calculations/bell_quintic_biharmonic_matrix_integral_values_simplified\", \"wb\"),\n",
    ")"
   ]
  }
 ],
 "metadata": {
  "kernelspec": {
   "display_name": "Python 3 (ipykernel)",
   "language": "python",
   "name": "python3"
  },
  "language_info": {
   "codemirror_mode": {
    "name": "ipython",
    "version": 3
   },
   "file_extension": ".py",
   "mimetype": "text/x-python",
   "name": "python",
   "nbconvert_exporter": "python",
   "pygments_lexer": "ipython3",
   "version": "3.9.7"
  }
 },
 "nbformat": 4,
 "nbformat_minor": 5
}
