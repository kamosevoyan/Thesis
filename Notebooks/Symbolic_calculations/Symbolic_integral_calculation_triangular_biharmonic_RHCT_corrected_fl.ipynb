{
 "cells": [
  {
   "cell_type": "code",
   "execution_count": 1,
   "id": "f08b13c7",
   "metadata": {},
   "outputs": [],
   "source": [
    "import sympy\n",
    "import numpy as np\n",
    "from tqdm import tqdm\n",
    "import dill\n",
    "dill.settings[\"recurse\"] = True\n",
    "from sympy import Rational as R"
   ]
  },
  {
   "cell_type": "markdown",
   "metadata": {},
   "source": [
    "# Necessary symbols"
   ]
  },
  {
   "cell_type": "code",
   "execution_count": 2,
   "id": "102f5975",
   "metadata": {},
   "outputs": [],
   "source": [
    "(\n",
    "    reference_x,\n",
    "    reference_y,\n",
    "    physical_x_0,\n",
    "    physical_y_0,\n",
    "    physical_x_1,\n",
    "    physical_y_1,\n",
    "    physical_x_2,\n",
    "    physical_y_2,\n",
    ") = sympy.symbols(\"x y x_0 y_0 x_1 y_1 x_2 y_2\")\n",
    "\n",
    "t = sympy.symbols(\"t\")\n",
    "\n",
    "rotation_matrix = sympy.Matrix([[+R(0), +R(1)], [-R(1), +R(0)]])"
   ]
  },
  {
   "cell_type": "code",
   "execution_count": 3,
   "metadata": {},
   "outputs": [],
   "source": [
    "t0_hat = sympy.Matrix([-R(1), +R(1)]) / sympy.sqrt(2)\n",
    "t1_hat = sympy.Matrix([+R(0), +R(1)])\n",
    "t2_hat = sympy.Matrix([+R(1), +R(0)])\n",
    "\n",
    "n0_hat = rotation_matrix @ t0_hat\n",
    "n1_hat = rotation_matrix @ t1_hat\n",
    "n2_hat = rotation_matrix @ t2_hat"
   ]
  },
  {
   "cell_type": "code",
   "execution_count": 4,
   "metadata": {},
   "outputs": [],
   "source": [
    "t0_sub_hat = sympy.Matrix([R(+1, 3), R(+1, 3)]) / sympy.sqrt(R(2, 9))\n",
    "t1_sub_hat = sympy.Matrix([R(-2, 3), R(+1, 3)]) / sympy.sqrt(R(5, 9))\n",
    "t2_sub_hat = sympy.Matrix([R(+1, 3), R(-2, 3)]) / sympy.sqrt(R(5, 9))\n",
    "\n",
    "n0_sub_hat = rotation_matrix @ t0_sub_hat\n",
    "n1_sub_hat = rotation_matrix @ t1_sub_hat\n",
    "n2_sub_hat = rotation_matrix @ t2_sub_hat"
   ]
  },
  {
   "cell_type": "code",
   "execution_count": 5,
   "metadata": {},
   "outputs": [],
   "source": [
    "v0 = {reference_x: 0, reference_y: 0}\n",
    "v1 = {reference_x: 1, reference_y: 0}\n",
    "v2 = {reference_x: 0, reference_y: 1}\n",
    "barycenter_hat = {reference_x: R(1, 3), reference_y: R(1, 3)}\n",
    "\n",
    "e0 = {reference_x: R(1, 2), reference_y: R(1, 2)}\n",
    "e1 = {reference_x: 0, reference_y: R(1, 2)}\n",
    "e2 = {reference_x: R(1, 2), reference_y: 0}\n",
    "\n",
    "e0_sub = {reference_x: R(1, 6), reference_y: R(1, 6)}\n",
    "e1_sub = {reference_x: R(2, 3), reference_y: R(1, 6)}\n",
    "e2_sub = {reference_x: R(1, 6), reference_y: R(2, 3)}"
   ]
  },
  {
   "cell_type": "code",
   "execution_count": 6,
   "metadata": {},
   "outputs": [],
   "source": [
    "subtriangle_0_equation = (reference_y >= 0)&(reference_y <= reference_x)&(2*reference_y <= 1 - reference_x)\n",
    "subtriangle_1_equation = (reference_y <= 1 - reference_x)&(reference_y >= -2*reference_x + 1)&(2*reference_y >= 1 - reference_x)\n",
    "subtriangle_2_equation = (reference_x >= 0)&(reference_y <= -2*reference_x + 1)&(reference_y >= reference_x)"
   ]
  },
  {
   "cell_type": "markdown",
   "id": "5eaaf6dd",
   "metadata": {},
   "source": [
    "# Get basis functions"
   ]
  },
  {
   "cell_type": "code",
   "execution_count": 7,
   "metadata": {},
   "outputs": [],
   "source": [
    "monomial_basis = sympy.Matrix(\n",
    "[\n",
    " 1,\n",
    " reference_x,\n",
    " reference_y,\n",
    " reference_x**2,\n",
    " reference_y**2,\n",
    " reference_x*reference_y,\n",
    " reference_x**3,\n",
    " reference_y**3,\n",
    " reference_x**2*reference_y,\n",
    " reference_x*reference_y**2,\n",
    " ]\n",
    ")\n",
    "\n",
    "L_2 = R(6)*t**2 - R(6)*t + R(1)\n",
    "\n",
    "def l0(f, n):\n",
    "    dfdx = f.diff(reference_x)\n",
    "    dfdy = f.diff(reference_y)\n",
    "    integrant = L_2 * (n[0]*dfdx + n[1]*dfdy).subs({reference_x: t, reference_y: 1 - t})\n",
    "    return sympy.integrate(integrant, (t, 0, 1)) \n",
    "\n",
    "def l1(f, n):\n",
    "    dfdx = f.diff(reference_x)\n",
    "    dfdy = f.diff(reference_y)\n",
    "    integrant = L_2 * (n[0]*dfdx + n[1]*dfdy).subs({reference_x: 0, reference_y: t})\n",
    "    return sympy.integrate(integrant, (t, 0, 1))\n",
    "\n",
    "def l2(f, n):\n",
    "    dfdx = f.diff(reference_x)\n",
    "    dfdy = f.diff(reference_y)\n",
    "    integrant = L_2 * (n[0]*dfdx + n[1]*dfdy).subs({reference_x: t, reference_y: 0})\n",
    "    return sympy.integrate(integrant, (t, 0, 1)) "
   ]
  },
  {
   "cell_type": "code",
   "execution_count": 8,
   "metadata": {},
   "outputs": [],
   "source": [
    "Vander = sympy.Matrix(np.zeros((30, 30)))\n",
    "\n",
    "for i in range(10):\n",
    "            \n",
    "    # subtriangle 0    \n",
    "    Vander[00+i, 0] = monomial_basis[i].subs(v0)\n",
    "    Vander[00+i, 1] = monomial_basis[i].diff(reference_x).subs(v0)\n",
    "    Vander[00+i, 2] = monomial_basis[i].diff(reference_y).subs(v0)\n",
    "    \n",
    "    # subtriangle 1\n",
    "    Vander[10+i, 3] = monomial_basis[i].subs(v1)\n",
    "    Vander[10+i, 4] = monomial_basis[i].diff(reference_x).subs(v1)\n",
    "    Vander[10+i, 5] = monomial_basis[i].diff(reference_y).subs(v1)\n",
    "    \n",
    "    # subtriangle 2\n",
    "    Vander[20+i, 6] = monomial_basis[i].subs(v2)\n",
    "    Vander[20+i, 7] = monomial_basis[i].diff(reference_x).subs(v2)\n",
    "    Vander[20+i, 8] = monomial_basis[i].diff(reference_y).subs(v2)    \n",
    "    \n",
    "    # Normal derivatives at master triangle edge midpoints\n",
    "    Vander[10+i, 9] =  l0(monomial_basis[i], n0_hat)\n",
    "    Vander[20+i, 10] = l1(monomial_basis[i], n1_hat)\n",
    "    Vander[00+i, 11] = l2(monomial_basis[i], n2_hat)\n",
    "        \n",
    "    # Continuity at vertices\n",
    "    Vander[00+i, 12+0] = +monomial_basis[i].subs(v1)\n",
    "    Vander[10+i, 12+0] = -monomial_basis[i].subs(v1)\n",
    "    Vander[00+i, 12+1] = +monomial_basis[i].diff(reference_x).subs(v1)\n",
    "    Vander[10+i, 12+1] = -monomial_basis[i].diff(reference_x).subs(v1)\n",
    "    Vander[00+i, 12+2] = +monomial_basis[i].diff(reference_y).subs(v1)\n",
    "    Vander[10+i, 12+2] = -monomial_basis[i].diff(reference_y).subs(v1)\n",
    "    \n",
    "    Vander[10+i, 12+3] = +monomial_basis[i].subs(v2)\n",
    "    Vander[20+i, 12+3] = -monomial_basis[i].subs(v2)\n",
    "    Vander[10+i, 12+4] = +monomial_basis[i].diff(reference_x).subs(v2)\n",
    "    Vander[20+i, 12+4] = -monomial_basis[i].diff(reference_x).subs(v2)\n",
    "    Vander[10+i, 12+5] = +monomial_basis[i].diff(reference_y).subs(v2)\n",
    "    Vander[20+i, 12+5] = -monomial_basis[i].diff(reference_y).subs(v2)\n",
    "    \n",
    "    Vander[20+i, 12+6] = +monomial_basis[i].subs(v0)\n",
    "    Vander[00+i, 12+6] = -monomial_basis[i].subs(v0)\n",
    "    Vander[20+i, 12+7] = +monomial_basis[i].diff(reference_x).subs(v0)\n",
    "    Vander[00+i, 12+7] = -monomial_basis[i].diff(reference_x).subs(v0)\n",
    "    Vander[20+i, 12+8] = +monomial_basis[i].diff(reference_y).subs(v0)\n",
    "    Vander[00+i, 12+8] = -monomial_basis[i].diff(reference_y).subs(v0)\n",
    "    \n",
    "    # Continuity at barycenter    \n",
    "    Vander[10+i, 12+9] =  +monomial_basis[i].subs(barycenter_hat)    \n",
    "    Vander[00+i, 12+9] =  -monomial_basis[i].subs(barycenter_hat)\n",
    "    Vander[10+i, 12+10] = +monomial_basis[i].diff(reference_x).subs(barycenter_hat)\n",
    "    Vander[00+i, 12+10] = -monomial_basis[i].diff(reference_x).subs(barycenter_hat)\n",
    "    Vander[10+i, 12+11] = +monomial_basis[i].diff(reference_y).subs(barycenter_hat)\n",
    "    Vander[00+i, 12+11] = -monomial_basis[i].diff(reference_y).subs(barycenter_hat)\n",
    "        \n",
    "    Vander[20+i, 12+12] = +monomial_basis[i].subs(barycenter_hat)\n",
    "    Vander[00+i, 12+12] = -monomial_basis[i].subs(barycenter_hat)\n",
    "    Vander[20+i, 12+13] = +monomial_basis[i].diff(reference_x).subs(barycenter_hat)\n",
    "    Vander[00+i, 12+13] = -monomial_basis[i].diff(reference_x).subs(barycenter_hat)\n",
    "    Vander[20+i, 12+14] = +monomial_basis[i].diff(reference_y).subs(barycenter_hat)\n",
    "    Vander[00+i, 12+14] = -monomial_basis[i].diff(reference_y).subs(barycenter_hat)        \n",
    "    \n",
    "    \n",
    "    # Continuity at edges of subtriangles\n",
    "    Vander[00+i, 12+15] = +(n0_sub_hat[0]*monomial_basis[i].diff(reference_x) + n0_sub_hat[1]*monomial_basis[i].diff(reference_y)).subs(e0_sub) \n",
    "    Vander[20+i, 12+15] = -(n0_sub_hat[0]*monomial_basis[i].diff(reference_x) + n0_sub_hat[1]*monomial_basis[i].diff(reference_y)).subs(e0_sub)\n",
    "           \n",
    "    Vander[10+i, 12+16] = +(n1_sub_hat[0]*monomial_basis[i].diff(reference_x) + n1_sub_hat[1]*monomial_basis[i].diff(reference_y)).subs(e1_sub)\n",
    "    Vander[00+i, 12+16] = -(n1_sub_hat[0]*monomial_basis[i].diff(reference_x) + n1_sub_hat[1]*monomial_basis[i].diff(reference_y)).subs(e1_sub)\n",
    "            \n",
    "    Vander[20+i, 12+17] = +(n2_sub_hat[0]*monomial_basis[i].diff(reference_x) + n2_sub_hat[1]*monomial_basis[i].diff(reference_y)).subs(e2_sub)\n",
    "    Vander[10+i, 12+17] = -(n2_sub_hat[0]*monomial_basis[i].diff(reference_x) + n2_sub_hat[1]*monomial_basis[i].diff(reference_y)).subs(e2_sub)"
   ]
  },
  {
   "cell_type": "code",
   "execution_count": 9,
   "metadata": {},
   "outputs": [],
   "source": [
    "rhct_basis = Vander.inv()@sympy.diag(monomial_basis, monomial_basis, monomial_basis)"
   ]
  },
  {
   "cell_type": "markdown",
   "id": "8cac3db9",
   "metadata": {},
   "source": [
    "# Get mapping function"
   ]
  },
  {
   "cell_type": "code",
   "execution_count": 10,
   "id": "865cd2af",
   "metadata": {},
   "outputs": [],
   "source": [
    "monomial_basis = sympy.Matrix(\n",
    "    [\n",
    "        1,\n",
    "        reference_x,\n",
    "        reference_y,\n",
    "    ]\n",
    ")\n",
    "\n",
    "V = sympy.zeros(3, 3)\n",
    "\n",
    "for dofidx, basis in enumerate(monomial_basis):\n",
    "\n",
    "    V[dofidx, 0] = basis.subs({reference_x: 0, reference_y: 0})\n",
    "    V[dofidx, 1] = basis.subs({reference_x: 1, reference_y: 0})\n",
    "    V[dofidx, 2] = basis.subs({reference_x: 0, reference_y: 1})\n",
    "\n",
    "mapping_basis = V.inv() @ monomial_basis\n",
    "\n",
    "global_x = (\n",
    "      mapping_basis[0] * physical_x_0\n",
    "    + mapping_basis[1] * physical_x_1\n",
    "    + mapping_basis[2] * physical_x_2\n",
    ")\n",
    "global_y = (\n",
    "      mapping_basis[0] * physical_y_0\n",
    "    + mapping_basis[1] * physical_y_1\n",
    "    + mapping_basis[2] * physical_y_2\n",
    ")\n",
    "\n",
    "mapping_function = sympy.Matrix([global_x, global_y])"
   ]
  },
  {
   "cell_type": "markdown",
   "metadata": {},
   "source": [
    "# Necessary symbols for transformations"
   ]
  },
  {
   "cell_type": "code",
   "execution_count": 11,
   "metadata": {},
   "outputs": [],
   "source": [
    "J_cofactor_T = mapping_function.jacobian([reference_x, reference_y]).cofactor_matrix().T\n",
    "J = J_cofactor_T / J_cofactor_T.det()\n",
    "J_inv = J.inv()"
   ]
  },
  {
   "cell_type": "code",
   "execution_count": 12,
   "metadata": {},
   "outputs": [],
   "source": [
    "barycenter = sympy.Matrix([\n",
    "                            R(1, 3)*(physical_x_0 + physical_x_1 + physical_x_2),\n",
    "                            R(1, 3)*(physical_y_0 + physical_y_1 + physical_y_2)\n",
    "                            ])"
   ]
  },
  {
   "cell_type": "code",
   "execution_count": 13,
   "metadata": {},
   "outputs": [],
   "source": [
    "G0_hat = n0_hat.row_join(t0_hat).T\n",
    "G1_hat = n1_hat.row_join(t1_hat).T\n",
    "G2_hat = n2_hat.row_join(t2_hat).T\n",
    "\n",
    "# G0_sub_hat = n0_sub_hat.row_join(t0_sub_hat).T\n",
    "# G1_sub_hat = n1_sub_hat.row_join(t1_sub_hat).T\n",
    "# G2_sub_hat = n2_sub_hat.row_join(t2_sub_hat).T\n",
    "\n",
    "\n",
    "l0 = ((physical_x_2 - physical_x_1) ** 2 + (physical_y_2 - physical_y_1) ** 2) ** R(1, 2)\n",
    "l1 = ((physical_x_2 - physical_x_0) ** 2 + (physical_y_2 - physical_y_0) ** 2) ** R(1, 2)\n",
    "l2 = ((physical_x_1 - physical_x_0) ** 2 + (physical_y_1 - physical_y_0) ** 2) ** R(1, 2)\n",
    "\n",
    "# l0_sub = ((barycenter[0] - physical_x_0) ** 2 + (barycenter[1] - physical_y_0) ** 2) ** R(1, 2)\n",
    "# l1_sub = ((barycenter[0] - physical_x_1) ** 2 + (barycenter[1] - physical_y_1) ** 2) ** R(1, 2)\n",
    "# l2_sub = ((barycenter[0] - physical_x_2) ** 2 + (barycenter[1] - physical_y_2) ** 2) ** R(1, 2)\n",
    "\n",
    "\n",
    "t0 = sympy.Matrix([physical_x_2 - physical_x_1, physical_y_2 - physical_y_1]) / l0\n",
    "t1 = sympy.Matrix([physical_x_2 - physical_x_0, physical_y_2 - physical_y_0]) / l1\n",
    "t2 = sympy.Matrix([physical_x_1 - physical_x_0, physical_y_1 - physical_y_0]) / l2\n",
    "\n",
    "# t0_sub = sympy.Matrix([barycenter[0] - physical_x_0, barycenter[1] - physical_y_0]) / l0_sub\n",
    "# t1_sub = sympy.Matrix([barycenter[0] - physical_x_1, barycenter[1] - physical_y_1]) / l1_sub\n",
    "# t2_sub = sympy.Matrix([barycenter[0] - physical_x_2, barycenter[1] - physical_y_2]) / l2_sub\n",
    "\n",
    "n0 = rotation_matrix @ t0\n",
    "n1 = rotation_matrix @ t1\n",
    "n2 = rotation_matrix @ t2\n",
    "\n",
    "# n0_sub = rotation_matrix @ t0_sub\n",
    "# n1_sub = rotation_matrix @ t1_sub\n",
    "# n2_sub = rotation_matrix @ t2_sub\n",
    "\n",
    "G0 = n0.row_join(t0).T\n",
    "G1 = n1.row_join(t1).T\n",
    "G2 = n2.row_join(t2).T\n",
    "\n",
    "# G0_sub = n0_sub.row_join(t0_sub).T\n",
    "# G1_sub = n1_sub.row_join(t1_sub).T\n",
    "# G2_sub = n2_sub.row_join(t2_sub).T\n",
    "\n",
    "B0 = G0_hat @ J_inv.T @ G0.T / l0\n",
    "B1 = G1_hat @ J_inv.T @ G1.T / l1\n",
    "B2 = G2_hat @ J_inv.T @ G2.T / l2\n",
    "\n",
    "# B0_sub = G0_sub_hat @ J_inv.T @ G0_sub.T\n",
    "# B1_sub = G1_sub_hat @ J_inv.T @ G1_sub.T\n",
    "# B2_sub = G2_sub_hat @ J_inv.T @ G2_sub.T\n",
    "\n",
    "\n",
    "f_interpolation = sympy.Matrix(sympy.symbols(\"f_0:9\"))"
   ]
  },
  {
   "cell_type": "markdown",
   "id": "7266a9e6",
   "metadata": {},
   "source": [
    "### $V^{c}$"
   ]
  },
  {
   "cell_type": "code",
   "execution_count": 14,
   "id": "d049ac56",
   "metadata": {},
   "outputs": [],
   "source": [
    "V_c = sympy.diag(\n",
    "    R(1),\n",
    "    J_inv.T,\n",
    "    R(1),\n",
    "    J_inv.T,\n",
    "    R(1),\n",
    "    J_inv.T,\n",
    "    B0,\n",
    "    B1,\n",
    "    B2,\n",
    ")"
   ]
  },
  {
   "cell_type": "markdown",
   "id": "1aa1c18f",
   "metadata": {},
   "source": [
    "### $E$"
   ]
  },
  {
   "cell_type": "code",
   "execution_count": 15,
   "metadata": {},
   "outputs": [],
   "source": [
    "E = np.zeros((30, 33), dtype=int)\n",
    "for i in range(30):\n",
    "    for j in range(33):\n",
    "        if (i <= 9) and (j <= 9) and (i == j):\n",
    "            E[i][j] = 1\n",
    "        elif (i == 10) and (j == 11):\n",
    "            E[i][j] = 1\n",
    "        elif (i == 11) and (j == 13):\n",
    "            E[i][j] = 1        \n",
    "        elif (11 < i) and (j + 1 < 33) and (j == i + 1):\n",
    "            E[i][j+2] = 1\n",
    "                        \n",
    "E = sympy.Matrix(E)"
   ]
  },
  {
   "cell_type": "code",
   "execution_count": 16,
   "metadata": {},
   "outputs": [],
   "source": [
    "E = E[:15, :15]"
   ]
  },
  {
   "cell_type": "markdown",
   "id": "9c50044a",
   "metadata": {},
   "source": [
    "### $D$"
   ]
  },
  {
   "cell_type": "code",
   "execution_count": 17,
   "metadata": {},
   "outputs": [],
   "source": [
    "D = E.T.copy()"
   ]
  },
  {
   "cell_type": "code",
   "execution_count": 18,
   "metadata": {},
   "outputs": [],
   "source": [
    "# Tangential momentum at e0\n",
    "D[10, +6] = -R(1, 5)\n",
    "D[10, +3] = +R(1, 5)\n",
    "D[10, +7] = +R(1, 10)*t0[0]*l0\n",
    "D[10, +8] = +R(1, 10)*t0[1]*l0\n",
    "D[10, +4] = +R(1, 10)*t0[0]*l0\n",
    "D[10, +5] = +R(1, 10)*t0[1]*l0\n",
    "\n",
    "# Tangential momentum at e1\n",
    "D[12, +6] = -R(1, 5)\n",
    "D[12, +0] = +R(1, 5)\n",
    "D[12, +7] = +R(1, 10)*t1[0]*l1\n",
    "D[12, +8] = +R(1, 10)*t1[1]*l1\n",
    "D[12, +1] = +R(1, 10)*t1[0]*l1\n",
    "D[12, +2] = +R(1, 10)*t1[1]*l1\n",
    "\n",
    "# Tangential momentum at e2\n",
    "D[14, +3] = -R(1, 5)\n",
    "D[14, +0] = +R(1, 5)\n",
    "D[14, +4] = +R(1, 10)*t2[0]*l2\n",
    "D[14, +5] = +R(1, 10)*t2[1]*l2\n",
    "D[14, +1] = +R(1, 10)*t2[0]*l2\n",
    "D[14, +2] = +R(1, 10)*t2[1]*l2"
   ]
  },
  {
   "cell_type": "markdown",
   "id": "91406bd6",
   "metadata": {},
   "source": [
    "### $M$"
   ]
  },
  {
   "cell_type": "code",
   "execution_count": 19,
   "id": "44fbc566",
   "metadata": {},
   "outputs": [],
   "source": [
    "V = E @ V_c @ D\n",
    "M_c = V.T"
   ]
  },
  {
   "cell_type": "code",
   "execution_count": 20,
   "id": "51f633c1",
   "metadata": {},
   "outputs": [],
   "source": [
    "E_nullspace = np.zeros((9, 15), dtype=int)\n",
    "for i in range(9):\n",
    "    for j in range(30):\n",
    "        if (i == j) and (i < 9) and (j < 9):\n",
    "            E_nullspace[i][j] = 1\n",
    "E_nullspace = sympy.Matrix(E_nullspace)"
   ]
  },
  {
   "cell_type": "code",
   "execution_count": 21,
   "id": "b18b8641",
   "metadata": {},
   "outputs": [],
   "source": [
    "M = E_nullspace @ M_c"
   ]
  },
  {
   "cell_type": "markdown",
   "metadata": {},
   "source": [
    "## Calculate bilinear form and right values for forward pushed element"
   ]
  },
  {
   "cell_type": "code",
   "execution_count": 22,
   "metadata": {},
   "outputs": [],
   "source": [
    "piecewise_hct_basis = sympy.Matrix([sympy.Piecewise(\n",
    "    (bb0, subtriangle_0_equation),\n",
    "    (bb1, subtriangle_1_equation),\n",
    "    (bb2, subtriangle_2_equation),\n",
    "    (0, True)) for bb0, bb1, bb2 in zip(rhct_basis.col(0)[:15], rhct_basis.col(1)[:15], rhct_basis.col(2)[:15])])"
   ]
  },
  {
   "cell_type": "code",
   "execution_count": 23,
   "metadata": {},
   "outputs": [
    {
     "name": "stderr",
     "output_type": "stream",
     "text": [
      "100%|██████████| 225/225 [00:53<00:00,  4.19it/s]\n"
     ]
    }
   ],
   "source": [
    "N = len(piecewise_hct_basis)\n",
    "\n",
    "weak_form_functional_xxyy = [[0 for i in range(N)] for j in range(N)]\n",
    "weak_form_functional_xyxy = [[0 for i in range(N)] for j in range(N)]\n",
    "weak_form_right_part =      [[0 for i in range(N)] for j in range(N)]\n",
    "\n",
    "for idx, jdx in tqdm([(idx, jdx) for idx in range(N) for jdx in range(N)]):\n",
    "    \n",
    "    first = piecewise_hct_basis[idx]\n",
    "    second = piecewise_hct_basis[jdx]\n",
    "\n",
    "    # -----------------------U------------------------------------------------------------------------------\n",
    "    u_x = first.diff(reference_x) * J_cofactor_T.row(0)[0] + first.diff(reference_y) * J_cofactor_T.row(1)[0]\n",
    "    u_y = first.diff(reference_x) * J_cofactor_T.row(0)[1] + first.diff(reference_y) * J_cofactor_T.row(1)[1]\n",
    "\n",
    "    u_xx = u_x.diff(reference_x) * J_cofactor_T.row(0)[0] + u_x.diff(reference_y) * J_cofactor_T.row(1)[0]\n",
    "    u_xy = u_x.diff(reference_x) * J_cofactor_T.row(0)[1] + u_x.diff(reference_y) * J_cofactor_T.row(1)[1]\n",
    "\n",
    "    u_yy = u_y.diff(reference_x) * J_cofactor_T.row(0)[1] + u_y.diff(reference_y) * J_cofactor_T.row(1)[1]\n",
    "    # ------------------------------------------------------------------------------------------------------\n",
    "\n",
    "    # -----------------------V------------------------------------------------------------------------------\n",
    "    v_x = second.diff(reference_x) * J_cofactor_T.row(0)[0] + second.diff(reference_y) * J_cofactor_T.row(1)[0]    \n",
    "    v_y = second.diff(reference_x) * J_cofactor_T.row(0)[1] + second.diff(reference_y) * J_cofactor_T.row(1)[1]\n",
    "\n",
    "    v_xx = v_x.diff(reference_x) * J_cofactor_T.row(0)[0] + v_x.diff(reference_y) * J_cofactor_T.row(1)[0]\n",
    "    v_xy = v_x.diff(reference_x) * J_cofactor_T.row(0)[1] + v_x.diff(reference_y) * J_cofactor_T.row(1)[1]\n",
    "\n",
    "    v_yy = v_y.diff(reference_x) * J_cofactor_T.row(0)[1] + v_y.diff(reference_y) * J_cofactor_T.row(1)[1]\n",
    "    # ------------------------------------------------------------------------------------------------------\n",
    "\n",
    "    # -----------------------bilinear-form------------------------------------------------------------------\n",
    "    A = u_xx * v_xx\n",
    "    B = u_xy * v_xy\n",
    "    b = u_xx * v_yy\n",
    "    C = u_yy * v_yy\n",
    "    # ------------------------------------------------------------------------------------------------------\n",
    "\n",
    "    weak_form_functional_xyxy[idx][jdx] = A + 2 * B + C\n",
    "    weak_form_functional_xxyy[idx][jdx] = A + 2 * b + C\n",
    "    weak_form_right_part[idx][jdx] = first * second\n",
    "    \n",
    "# -----------------------------------------------------------------------------------------------------\n",
    "\n",
    "weak_form_functional_xxyy = sympy.Matrix(weak_form_functional_xxyy)\n",
    "weak_form_functional_xyxy = sympy.Matrix(weak_form_functional_xyxy)\n",
    "weak_form_right_part = sympy.Matrix(weak_form_right_part)\n",
    "\n",
    "# The determinant of the Jacobian does not depend on (x, y) so we can take it outside to make the symbolic integration faster\n",
    "weak_form_functional_xxyy = weak_form_functional_xxyy * abs(J_cofactor_T.det()) / J_cofactor_T.det()**4\n",
    "weak_form_functional_xyxy = weak_form_functional_xyxy * abs(J_cofactor_T.det()) / J_cofactor_T.det()**4\n",
    "weak_form_right_part = weak_form_right_part * abs(J_cofactor_T.det())"
   ]
  },
  {
   "cell_type": "code",
   "execution_count": 24,
   "metadata": {},
   "outputs": [],
   "source": [
    "lambdify_symbols = [\n",
    "    reference_x, \n",
    "    reference_y,\n",
    "    physical_x_0,\n",
    "    physical_y_0,\n",
    "    physical_x_1,\n",
    "    physical_y_1,\n",
    "    physical_x_2,\n",
    "    physical_y_2,\n",
    "]"
   ]
  },
  {
   "cell_type": "code",
   "execution_count": 25,
   "metadata": {},
   "outputs": [],
   "source": [
    "weak_form_right_part = M @ weak_form_right_part @ M.T @ f_interpolation\n",
    "weak_form_right_part_lambdified = sympy.lambdify([*lambdify_symbols, *f_interpolation], weak_form_right_part, cse=True)"
   ]
  },
  {
   "cell_type": "code",
   "execution_count": 26,
   "metadata": {},
   "outputs": [],
   "source": [
    "weak_form_functional_xxyy_lambdified = sympy.lambdify(lambdify_symbols, M @ weak_form_functional_xxyy @ M.T, cse=True)\n",
    "weak_form_functional_xyxy_lambdified = sympy.lambdify(lambdify_symbols, M @ weak_form_functional_xyxy @ M.T, cse=True)"
   ]
  },
  {
   "cell_type": "code",
   "execution_count": 81,
   "metadata": {},
   "outputs": [],
   "source": [
    "quadrature_weights = np.array([\n",
    "0.090817990382754,\n",
    "0.036725957756467,\n",
    "0.036725957756467,\n",
    "0.036725957756467,\n",
    "0.072757916845420,\n",
    "0.072757916845420,\n",
    "0.072757916845420,\n",
    "0.072757916845420,\n",
    "0.072757916845420,\n",
    "0.072757916845420,\n",
    "0.028327242531057,\n",
    "0.028327242531057,\n",
    "0.028327242531057,\n",
    "0.028327242531057,\n",
    "0.028327242531057,\n",
    "0.028327242531057,\n",
    "0.009421666963733,\n",
    "0.009421666963733,\n",
    "0.009421666963733,\n",
    "0.009421666963733,\n",
    "0.009421666963733,\n",
    "0.009421666963733,\n",
    "0.045321059435528,\n",
    "0.045321059435528,\n",
    "0.045321059435528,\n",
    "]) / 2\n",
    "\n",
    "\n",
    "quadrature_points = np.array([\n",
    "[0.333333333333333,0.333333333333333],\n",
    "[0.485577633383657,0.028844733232685],\n",
    "[0.485577633383657,0.485577633383657],\n",
    "[0.028844733232685,0.485577633383657],\n",
    "[0.141707219414880,0.550352941820999],\n",
    "[0.307939838764121,0.141707219414880],\n",
    "[0.550352941820999,0.307939838764121],\n",
    "[0.307939838764121,0.550352941820999],\n",
    "[0.141707219414880,0.307939838764121],\n",
    "[0.550352941820999,0.141707219414880],\n",
    "[0.025003534762686,0.728323904597411],\n",
    "[0.246672560639903,0.025003534762686],\n",
    "[0.728323904597411,0.246672560639903],\n",
    "[0.246672560639903,0.728323904597411],\n",
    "[0.025003534762686,0.246672560639903],\n",
    "[0.728323904597411,0.025003534762686],\n",
    "[0.009540815400299,0.923655933587500],\n",
    "[0.066803251012200,0.009540815400299],\n",
    "[0.923655933587500,0.066803251012200],\n",
    "[0.066803251012200,0.923655933587500],\n",
    "[0.009540815400299,0.066803251012200],\n",
    "[0.923655933587500,0.009540815400299],\n",
    "[0.109481575485037,0.781036849029926],\n",
    "[0.109481575485037,0.109481575485037],\n",
    "[0.781036849029926,0.109481575485037],\n",
    "])"
   ]
  },
  {
   "cell_type": "code",
   "execution_count": 90,
   "metadata": {},
   "outputs": [],
   "source": [
    "def weak_form_functional_xxyy_lambdified_quadrature(x_0, y_0, x_1, y_1, x_2, y_2):\n",
    "    \n",
    "    return weak_form_functional_xxyy_lambdified(*quadrature_points.T[..., None], x_0, y_0, x_1, y_1, x_2, y_2).transpose(3, 0, 1, 2)@quadrature_weights"
   ]
  },
  {
   "cell_type": "code",
   "execution_count": 91,
   "metadata": {},
   "outputs": [],
   "source": [
    "def weak_form_functional_xyxy_lambdified_quadrature(x_0, y_0, x_1, y_1, x_2, y_2):\n",
    "    \n",
    "    return weak_form_functional_xyxy_lambdified(*quadrature_points.T[..., None], x_0, y_0, x_1, y_1, x_2, y_2).transpose(3, 0, 1, 2)@quadrature_weights"
   ]
  },
  {
   "cell_type": "code",
   "execution_count": 94,
   "metadata": {},
   "outputs": [],
   "source": [
    "def weak_form_right_part_lambdified_quadrature(\n",
    "                                               x_0, y_0, \n",
    "                                               x_1, y_1, \n",
    "                                               x_2, y_2,\n",
    "                                                \n",
    "                                               f_0, f_1, f_2, \n",
    "                                               f_3, f_4, f_5, \n",
    "                                               f_6, f_7, f_8,                                                \n",
    "                                               ):\n",
    "    \n",
    "    return weak_form_right_part_lambdified(\n",
    "                                            *quadrature_points.T[..., None],\n",
    "                                            x_0, y_0, \n",
    "                                            x_1, y_1, \n",
    "                                            x_2, y_2, \n",
    "                                            \n",
    "                                            f_0, f_1, f_2, \n",
    "                                            f_3, f_4, f_5, \n",
    "                                            f_6, f_7, f_8,                                             \n",
    "                                            ).transpose(3, 0, 1, 2)@quadrature_weights"
   ]
  },
  {
   "cell_type": "code",
   "execution_count": 95,
   "metadata": {},
   "outputs": [],
   "source": [
    "mrhct = M@rhct_basis[:15, :]\n",
    "\n",
    "piecewise_hct_basis = sum(sympy.Piecewise(\n",
    "    (bb0, subtriangle_0_equation),\n",
    "    (bb1, subtriangle_1_equation),\n",
    "    (bb2, subtriangle_2_equation),\n",
    "    (0, True))*fj for fj, bb0, bb1, bb2 in zip(f_interpolation, mrhct.col(0), mrhct.col(1), mrhct.col(2)))"
   ]
  },
  {
   "cell_type": "code",
   "execution_count": 96,
   "metadata": {},
   "outputs": [],
   "source": [
    "interpolation_function = sympy.lambdify([*lambdify_symbols, *f_interpolation], piecewise_hct_basis, cse=True)\n",
    "\n",
    "interpolation_function_dx = sympy.lambdify(\n",
    "                                             [*lambdify_symbols, *f_interpolation],\n",
    "                                             J.T[0, 0]*piecewise_hct_basis.diff(reference_x) + J.T[0, 1]*piecewise_hct_basis.diff(reference_y), \n",
    "                                             cse=True\n",
    "                                        )\n",
    "\n",
    "interpolation_function_dy = sympy.lambdify(\n",
    "                                             [*lambdify_symbols, *f_interpolation],\n",
    "                                             J.T[1, 0]*piecewise_hct_basis.diff(reference_x) + J.T[1, 1]*piecewise_hct_basis.diff(reference_y), \n",
    "                                             cse=True\n",
    "                                        )\n",
    "\n",
    "choices = {\n",
    "                \"f\":interpolation_function,\n",
    "                \"f_x\":interpolation_function_dx,\n",
    "                \"f_y\":interpolation_function_dy,                \n",
    "           }                       "
   ]
  },
  {
   "cell_type": "code",
   "execution_count": 97,
   "metadata": {},
   "outputs": [],
   "source": [
    "def interpolation_function_lambdified(\n",
    "                                        x, y, \n",
    "                                        x_0, y_0, \n",
    "                                        x_1, y_1, \n",
    "                                        x_2, y_2, \n",
    "                                        \n",
    "                                        f_0, f_1, f_2, \n",
    "                                        f_3, f_4, f_5, \n",
    "                                        f_6, f_7, f_8,                                         \n",
    "                                        which\n",
    "                                    ): \n",
    "    return choices[which](\n",
    "                            x, y, \n",
    "                            x_0, y_0, \n",
    "                            x_1, y_1, \n",
    "                            x_2, y_2, \n",
    "                            \n",
    "                            f_0, f_1, f_2, \n",
    "                            f_3, f_4, f_5, \n",
    "                            f_6, f_7, f_8,                             \n",
    "                        )"
   ]
  },
  {
   "cell_type": "code",
   "execution_count": 98,
   "metadata": {},
   "outputs": [],
   "source": [
    "mapping_function_lambdified = sympy.lambdify(\n",
    "    [*lambdify_symbols], mapping_function[:, 0], cse=True\n",
    ")"
   ]
  },
  {
   "cell_type": "markdown",
   "metadata": {},
   "source": [
    "### Save the results"
   ]
  },
  {
   "cell_type": "code",
   "execution_count": 99,
   "metadata": {},
   "outputs": [],
   "source": [
    "dill.dump(\n",
    "    weak_form_functional_xxyy_lambdified_quadrature,\n",
    "    open(\n",
    "        \"../calculations/macro_cubic_rhct_weak_form_functional_xxyy\", \"wb\"\n",
    "    ),\n",
    ")\n",
    "dill.dump(\n",
    "    weak_form_functional_xyxy_lambdified_quadrature,\n",
    "    open(\n",
    "        \"../calculations/macro_cubic_rhct_weak_form_functional_xyxy\", \"wb\"\n",
    "    ),\n",
    ")\n",
    "dill.dump(\n",
    "    weak_form_right_part_lambdified_quadrature,\n",
    "    open(\"../calculations/macro_cubic_rhct_weak_form_right_part\", \"wb\"),\n",
    ")\n",
    "\n",
    "dill.dump(\n",
    "    interpolation_function_lambdified,\n",
    "    open(\"../calculations/macro_cubic_rhct_basis\", \"wb\"),\n",
    ")\n",
    "\n",
    "dill.dump(\n",
    "    mapping_function_lambdified,\n",
    "    open(\"../calculations/macro_cubic_rhct_mapping_function\", \"wb\"),\n",
    ")"
   ]
  }
 ],
 "metadata": {
  "kernelspec": {
   "display_name": "Python 3 (ipykernel)",
   "language": "python",
   "name": "python3"
  },
  "language_info": {
   "codemirror_mode": {
    "name": "ipython",
    "version": 3
   },
   "file_extension": ".py",
   "mimetype": "text/x-python",
   "name": "python",
   "nbconvert_exporter": "python",
   "pygments_lexer": "ipython3",
   "version": "3.9.18"
  }
 },
 "nbformat": 4,
 "nbformat_minor": 5
}
