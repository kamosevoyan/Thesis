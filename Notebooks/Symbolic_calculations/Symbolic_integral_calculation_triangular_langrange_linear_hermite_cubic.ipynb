{
 "cells": [
  {
   "cell_type": "code",
   "execution_count": 28,
   "metadata": {},
   "outputs": [],
   "source": [
    "import sympy\n",
    "from sympy import lambdify\n",
    "import dill\n",
    "dill.settings[\"recurse\"] = True\n",
    "from sympy import Rational as R\n",
    "from tqdm.notebook import tqdm\n",
    "import numpy as np"
   ]
  },
  {
   "cell_type": "code",
   "execution_count": 29,
   "metadata": {},
   "outputs": [],
   "source": [
    "(\n",
    "    reference_x,\n",
    "    reference_y,\n",
    "    physical_x_0,\n",
    "    physical_y_0,\n",
    "    physical_x_1,\n",
    "    physical_y_1,\n",
    "    physical_x_2,\n",
    "    physical_y_3,\n",
    ") = sympy.symbols(\"x y x_0 y_0 x_1 y_1 x_2 y_2\")\n",
    "\n",
    "(\n",
    "    physical_v11_1, physical_v11_2,\n",
    "    physical_v12_1, physical_v12_2, \n",
    "    physical_v21_1, physical_v21_2, \n",
    "    physical_v22_1, physical_v22_2, \n",
    "    physical_v31_1, physical_v31_2, \n",
    "    physical_v32_1, physical_v32_2, \n",
    ") = sympy.symbols(\"v_(1:4)(1:3)_(1:3)\")\n",
    "f_interpolation = sympy.Matrix(sympy.symbols(\"f_0:3\"))"
   ]
  },
  {
   "cell_type": "markdown",
   "metadata": {},
   "source": [
    "## Define basis function"
   ]
  },
  {
   "cell_type": "code",
   "execution_count": 30,
   "metadata": {},
   "outputs": [],
   "source": [
    "monomial_basis = sympy.Matrix([\n",
    "    1,\n",
    "    reference_x,\n",
    "    reference_y,\n",
    "])\n",
    "\n",
    "V = sympy.zeros(3, 3)\n",
    "\n",
    "for i, basis in enumerate(monomial_basis):\n",
    "    \n",
    "    V[i, 0] = basis.subs({reference_x: 0, reference_y: 0})\n",
    "    V[i, 1] = basis.subs({reference_x: 1, reference_y: 0})\n",
    "    V[i, 2] = basis.subs({reference_x: 0, reference_y: 1})\n",
    "\n",
    "lagrange_linear_basis = V.inv() @ monomial_basis"
   ]
  },
  {
   "cell_type": "markdown",
   "metadata": {},
   "source": [
    "## Define mapping function"
   ]
  },
  {
   "cell_type": "code",
   "execution_count": 31,
   "metadata": {},
   "outputs": [],
   "source": [
    "monomial_basis = sympy.Matrix([\n",
    "    1,\n",
    "    reference_x,\n",
    "    reference_y,\n",
    "    reference_x**2,\n",
    "    reference_x*reference_y,\n",
    "    reference_y**2,\n",
    "    reference_x**3,\n",
    "    reference_x**2*reference_y,\n",
    "    reference_x*reference_y**2,\n",
    "    reference_y**3,\n",
    "])\n",
    "\n",
    "V = sympy.zeros(10, 10)\n",
    "\n",
    "for i, basis in enumerate(monomial_basis):\n",
    "    \n",
    "    V[i, 0] = basis.subs({reference_x: 0, reference_y: 0})\n",
    "    V[i, 1] = basis.subs({reference_x: 1, reference_y: 0})\n",
    "    V[i, 2] = basis.subs({reference_x: 0, reference_y: 1})\n",
    "\n",
    "    V[i, 3] = basis.diff(reference_x).subs({reference_x: 0, reference_y: 0})\n",
    "    V[i, 4] = basis.diff(reference_y).subs({reference_x: 0, reference_y: 0})\n",
    "    \n",
    "    V[i, 5] = -basis.diff(reference_x).subs({reference_x: 1, reference_y: 0})\n",
    "    V[i, 6] = (-basis.diff(reference_x).subs({reference_x: 1, reference_y: 0}) + +basis.diff(reference_y).subs({reference_x: 1, reference_y: 0}))\n",
    "    \n",
    "    V[i, 7] = -basis.diff(reference_y).subs({reference_x: 0, reference_y: 1})\n",
    "    V[i, 8] = (+basis.diff(reference_x).subs({reference_x: 0, reference_y: 1}) + -basis.diff(reference_y).subs({reference_x: 0, reference_y: 1}))\n",
    "\n",
    "    # center of mass\n",
    "    V[i, 9] = basis.subs({reference_x: R(1,3), reference_y: R(1,3)})\n",
    "    \n",
    "mapping_basis = V.inv() @ monomial_basis\n",
    "\n",
    "physical_v11_1 = (physical_x_1 - physical_x_0)\n",
    "physical_v12_1 = (physical_x_2 - physical_x_0)\n",
    "physical_v21_1 = (physical_x_0 - physical_x_1)\n",
    "physical_v31_1 = (physical_x_0 - physical_x_2)\n",
    "\n",
    "physical_v11_2 = (physical_y_1 - physical_y_0)\n",
    "physical_v12_2 = (physical_y_3 - physical_y_0)\n",
    "physical_v21_2 = (physical_y_0 - physical_y_1)\n",
    "physical_v31_2 = (physical_y_0 - physical_y_3)\n",
    "\n",
    "\n",
    "global_x = physical_x_0*mapping_basis[0] + physical_x_1*mapping_basis[1] + physical_x_2*mapping_basis[2] + \\\n",
    "    physical_v11_1*mapping_basis[3] + physical_v12_1*mapping_basis[4] + \\\n",
    "    physical_v21_1*mapping_basis[5] + physical_v22_1*mapping_basis[6] + \\\n",
    "    physical_v31_1*mapping_basis[7] + physical_v32_1*mapping_basis[8] + \\\n",
    "    R(1,3)*(physical_x_0 + physical_x_1 + physical_x_2)*mapping_basis[9]\n",
    "    \n",
    "    \n",
    "global_y = physical_y_0*mapping_basis[0] + physical_y_1*mapping_basis[1] + physical_y_3*mapping_basis[2] + \\\n",
    "    physical_v11_2*mapping_basis[3] + physical_v12_2*mapping_basis[4] + \\\n",
    "    physical_v21_2*mapping_basis[5] + physical_v22_2*mapping_basis[6] + \\\n",
    "    physical_v31_2*mapping_basis[7] + physical_v32_2*mapping_basis[8] + \\\n",
    "    R(1,3)*(physical_y_0 + physical_y_1 + physical_y_3)*mapping_basis[9]\n",
    "    \n",
    "\n",
    "mapping_function = sympy.Matrix([global_x, global_y])\n"
   ]
  },
  {
   "cell_type": "code",
   "execution_count": 32,
   "metadata": {},
   "outputs": [],
   "source": [
    "J_cofactor_T = mapping_function.jacobian([reference_x, reference_y]).cofactor_matrix().T"
   ]
  },
  {
   "cell_type": "code",
   "execution_count": 33,
   "metadata": {},
   "outputs": [],
   "source": [
    "J = J_cofactor_T / J_cofactor_T.det()"
   ]
  },
  {
   "cell_type": "code",
   "execution_count": 34,
   "metadata": {},
   "outputs": [],
   "source": [
    "u = sympy.Matrix([sympy.Function(\"u\")(reference_x, reference_y)])\n",
    "v = sympy.Matrix([sympy.Function(\"v\")(reference_x, reference_y)])"
   ]
  },
  {
   "cell_type": "code",
   "execution_count": 35,
   "metadata": {},
   "outputs": [],
   "source": [
    "grad_u = u.jacobian([reference_x, reference_y])@J_cofactor_T\n",
    "grad_v = v.jacobian([reference_x, reference_y])@J_cofactor_T\n",
    "\n",
    "weak_form = grad_u@grad_v.T"
   ]
  },
  {
   "cell_type": "code",
   "execution_count": 36,
   "metadata": {},
   "outputs": [
    {
     "data": {
      "application/vnd.jupyter.widget-view+json": {
       "model_id": "be2f5063eb294f6b8db13b3bb75680a5",
       "version_major": 2,
       "version_minor": 0
      },
      "text/plain": [
       "  0%|          | 0/9 [00:00<?, ?it/s]"
      ]
     },
     "metadata": {},
     "output_type": "display_data"
    }
   ],
   "source": [
    "N = len(lagrange_linear_basis)\n",
    "\n",
    "weak_form_functional = [[0 for i in range(N)] for j in range(N)]\n",
    "weak_form_right_part = [[0 for i in range(N)] for j in range(N)]\n",
    "\n",
    "for idx, jdx in tqdm([(idx, jdx) for idx in range(N) for jdx in range(N)]):\n",
    "    first = lagrange_linear_basis[idx]\n",
    "    second = lagrange_linear_basis[jdx]\n",
    "\n",
    "    A = weak_form.subs({u[0]:first, v[0]:second}).doit()\n",
    "    B = first * second\n",
    "    \n",
    "    weak_form_functional[idx][jdx] = A\n",
    "    weak_form_right_part[idx][jdx] = B\n",
    "\n",
    "weak_form_functional = sympy.Matrix(weak_form_functional) / J_cofactor_T.det()**2 * abs(J_cofactor_T.det())\n",
    "weak_form_right_part = sympy.Matrix(weak_form_right_part) * abs(J_cofactor_T.det())"
   ]
  },
  {
   "cell_type": "code",
   "execution_count": 37,
   "metadata": {},
   "outputs": [],
   "source": [
    "lambdify_symbols = [\n",
    "    reference_x, reference_y,\n",
    "    physical_x_0,\n",
    "    physical_y_0,\n",
    "    physical_x_1,\n",
    "    physical_y_1,\n",
    "    physical_x_2,\n",
    "    physical_y_3,\n",
    "    physical_v22_1,\n",
    "    physical_v22_2,\n",
    "    physical_v32_1,\n",
    "    physical_v32_2,\n",
    "]"
   ]
  },
  {
   "cell_type": "code",
   "execution_count": 38,
   "metadata": {},
   "outputs": [],
   "source": [
    "weak_form_right_part = weak_form_right_part @ f_interpolation"
   ]
  },
  {
   "cell_type": "code",
   "execution_count": 39,
   "metadata": {},
   "outputs": [],
   "source": [
    "weak_form_functional_lambdified = sympy.lambdify(lambdify_symbols, weak_form_functional, cse=True)"
   ]
  },
  {
   "cell_type": "code",
   "execution_count": 40,
   "metadata": {},
   "outputs": [],
   "source": [
    "weak_form_right_part_lambdified = sympy.lambdify([*lambdify_symbols, *f_interpolation], weak_form_right_part, cse=True)"
   ]
  },
  {
   "cell_type": "code",
   "execution_count": 41,
   "metadata": {},
   "outputs": [],
   "source": [
    "quadrature_weights = np.array([\n",
    "0.090817990382754,\n",
    "0.036725957756467,\n",
    "0.036725957756467,\n",
    "0.036725957756467,\n",
    "0.072757916845420,\n",
    "0.072757916845420,\n",
    "0.072757916845420,\n",
    "0.072757916845420,\n",
    "0.072757916845420,\n",
    "0.072757916845420,\n",
    "0.028327242531057,\n",
    "0.028327242531057,\n",
    "0.028327242531057,\n",
    "0.028327242531057,\n",
    "0.028327242531057,\n",
    "0.028327242531057,\n",
    "0.009421666963733,\n",
    "0.009421666963733,\n",
    "0.009421666963733,\n",
    "0.009421666963733,\n",
    "0.009421666963733,\n",
    "0.009421666963733,\n",
    "0.045321059435528,\n",
    "0.045321059435528,\n",
    "0.045321059435528,\n",
    "]) / 2\n",
    "\n",
    "\n",
    "quadrature_points = np.array([\n",
    "[0.333333333333333,0.333333333333333],\n",
    "[0.485577633383657,0.028844733232685],\n",
    "[0.485577633383657,0.485577633383657],\n",
    "[0.028844733232685,0.485577633383657],\n",
    "[0.141707219414880,0.550352941820999],\n",
    "[0.307939838764121,0.141707219414880],\n",
    "[0.550352941820999,0.307939838764121],\n",
    "[0.307939838764121,0.550352941820999],\n",
    "[0.141707219414880,0.307939838764121],\n",
    "[0.550352941820999,0.141707219414880],\n",
    "[0.025003534762686,0.728323904597411],\n",
    "[0.246672560639903,0.025003534762686],\n",
    "[0.728323904597411,0.246672560639903],\n",
    "[0.246672560639903,0.728323904597411],\n",
    "[0.025003534762686,0.246672560639903],\n",
    "[0.728323904597411,0.025003534762686],\n",
    "[0.009540815400299,0.923655933587500],\n",
    "[0.066803251012200,0.009540815400299],\n",
    "[0.923655933587500,0.066803251012200],\n",
    "[0.066803251012200,0.923655933587500],\n",
    "[0.009540815400299,0.066803251012200],\n",
    "[0.923655933587500,0.009540815400299],\n",
    "[0.109481575485037,0.781036849029926],\n",
    "[0.109481575485037,0.109481575485037],\n",
    "[0.781036849029926,0.109481575485037],\n",
    "])"
   ]
  },
  {
   "cell_type": "code",
   "execution_count": 42,
   "metadata": {},
   "outputs": [],
   "source": [
    "def weak_form_functional_lambdified_quadrature(x_1, y_1, x_2, y_2, x_3, y_3, v_22_1, v_22_2, v_32_1, v_32_2):\n",
    "    \n",
    "    return weak_form_functional_lambdified(*quadrature_points.T, x_1, y_1, x_2, y_2, x_3, y_3, v_22_1, v_22_2, v_32_1, v_32_2)@quadrature_weights"
   ]
  },
  {
   "cell_type": "code",
   "execution_count": 43,
   "metadata": {},
   "outputs": [],
   "source": [
    "def weak_form_right_part_lambdified_quadrature(x_1, y_1, x_2, y_2, x_3, y_3, v_22_1, v_22_2, v_32_1, v_32_2,\n",
    "                                               f_1, f_2, f_3):\n",
    "    \n",
    "    return weak_form_right_part_lambdified(*quadrature_points.T, x_1, y_1, x_2, y_2, x_3, y_3, v_22_1, v_22_2, v_32_1, v_32_2,\n",
    "                                           f_1, f_2, f_3)@quadrature_weights"
   ]
  },
  {
   "cell_type": "code",
   "execution_count": 44,
   "metadata": {},
   "outputs": [],
   "source": [
    "interpolation_function = sympy.lambdify([*lambdify_symbols, *f_interpolation], (lagrange_linear_basis@f_interpolation.T)[0, 0], cse=True)"
   ]
  },
  {
   "cell_type": "code",
   "execution_count": 45,
   "metadata": {},
   "outputs": [],
   "source": [
    "mapping_function_lambdified = sympy.lambdify(lambdify_symbols, mapping_function[:, 0], cse=True)"
   ]
  },
  {
   "cell_type": "code",
   "execution_count": 46,
   "metadata": {},
   "outputs": [],
   "source": [
    "dill.dump(weak_form_functional_lambdified_quadrature, open(\"../calculations/lagrange_linear_weak_form_functional_cubic_hermite\", \"wb\"))\n",
    "dill.dump(weak_form_right_part_lambdified_quadrature, open(\"../calculations/lagrange_linear_weak_form_right_part_cubic_hermite\", \"wb\"))\n",
    "dill.dump(interpolation_function, open(\"../calculations/lagrange_linear_basis\", \"wb\"))\n",
    "dill.dump(mapping_function_lambdified, open(\"../calculations/lagrange_linear_mapping_function\", \"wb\"))"
   ]
  }
 ],
 "metadata": {
  "kernelspec": {
   "display_name": "experiments",
   "language": "python",
   "name": "python3"
  },
  "language_info": {
   "codemirror_mode": {
    "name": "ipython",
    "version": 3
   },
   "file_extension": ".py",
   "mimetype": "text/x-python",
   "name": "python",
   "nbconvert_exporter": "python",
   "pygments_lexer": "ipython3",
   "version": "3.9.21"
  }
 },
 "nbformat": 4,
 "nbformat_minor": 2
}
