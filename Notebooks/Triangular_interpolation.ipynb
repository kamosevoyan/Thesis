{
 "cells": [
  {
   "cell_type": "code",
   "execution_count": null,
   "id": "33bd4d39",
   "metadata": {},
   "outputs": [],
   "source": [
    "import torch\n",
    "import numpy\n",
    "import matplotlib.pyplot as plt\n",
    "from tqdm import tqdm\n",
    "from scipy.spatial import Delaunay"
   ]
  },
  {
   "cell_type": "markdown",
   "id": "f545e77d",
   "metadata": {},
   "source": [
    "# Version 1: right triangles"
   ]
  },
  {
   "cell_type": "code",
   "execution_count": null,
   "id": "6abd7c90-a5bc-47e4-82ec-87b9403de1cf",
   "metadata": {},
   "outputs": [],
   "source": [
    "def f(x, y):\n",
    "    return numpy.sin(x) * y"
   ]
  },
  {
   "cell_type": "code",
   "execution_count": null,
   "id": "3a521022",
   "metadata": {},
   "outputs": [],
   "source": [
    "y_steps, x_steps = 20, 20\n",
    "y_start, y_end = -2, 2\n",
    "x_start, x_end = -2, 2"
   ]
  },
  {
   "cell_type": "code",
   "execution_count": null,
   "id": "b5973001",
   "metadata": {},
   "outputs": [],
   "source": [
    "triangle1 = torch.tensor([[x_start, y_start]]) + torch.tensor(\n",
    "    [[0, 0], [0, 1], [1, 0]]\n",
    ") * torch.tensor([[(x_end - x_start) / x_steps, (y_end - y_start) / y_steps]])\n",
    "triangle2 = torch.tensor([[x_start, y_start]]) + torch.tensor(\n",
    "    [[1, 0], [1, 1], [0, 1]]\n",
    ") * torch.tensor([[(x_end - x_start) / x_steps, (y_end - y_start) / y_steps]])"
   ]
  },
  {
   "cell_type": "code",
   "execution_count": null,
   "id": "6f4fcdf1",
   "metadata": {},
   "outputs": [],
   "source": [
    "triangles = []\n",
    "for stepy in range(y_steps):\n",
    "    for stepx in range(x_steps):\n",
    "        shift = torch.tensor(\n",
    "            [(x_end - x_start) / x_steps * stepx, (y_end - y_start) / y_steps * stepy]\n",
    "        )\n",
    "        triangles.append(triangle1 + shift)\n",
    "        triangles.append(triangle2 + shift)\n",
    "triangles_s = torch.stack(triangles)\n",
    "triangles_c = torch.cat(triangles)"
   ]
  },
  {
   "cell_type": "code",
   "execution_count": null,
   "id": "1f4d925f",
   "metadata": {},
   "outputs": [],
   "source": [
    "colors = [\"red\", \"blue\", \"green\", \"yellow\"]\n",
    "l = len(colors)\n",
    "fig, ax = plt.subplots(figsize=(6, 6))\n",
    "ax.axis(\"equal\")\n",
    "for index, triangle in enumerate(triangles_s, 1):\n",
    "    t1 = plt.Polygon(triangle, color=colors[index % l])\n",
    "    plt.gca().add_patch(t1)\n",
    "ax.scatter(triangles_c[:, 0], triangles_c[:, 1], color=\"black\")\n",
    "plt.show()"
   ]
  },
  {
   "cell_type": "markdown",
   "id": "b6a1adea",
   "metadata": {},
   "source": [
    "# Version 2: Delaunay triangulrization of given points"
   ]
  },
  {
   "cell_type": "code",
   "execution_count": null,
   "id": "67b1fc7d",
   "metadata": {},
   "outputs": [],
   "source": [
    "points = (numpy.mgrid[0:11, 0:11].transpose(1, 2, 0) - numpy.array([[[5, 5]]])).reshape(\n",
    "    -1, 2\n",
    ") / 2.5"
   ]
  },
  {
   "cell_type": "code",
   "execution_count": null,
   "id": "1d3b1460",
   "metadata": {},
   "outputs": [],
   "source": [
    "r2 = points[:, 0] ** 2 + points[:, 1] ** 2"
   ]
  },
  {
   "cell_type": "code",
   "execution_count": null,
   "id": "427cea4e",
   "metadata": {},
   "outputs": [],
   "source": [
    "points = points[(r2 <= 4)]"
   ]
  },
  {
   "cell_type": "code",
   "execution_count": null,
   "id": "c1a3b209",
   "metadata": {},
   "outputs": [],
   "source": [
    "triangles_s = torch.from_numpy(\n",
    "    points[\n",
    "        Delaunay(\n",
    "            points,\n",
    "        ).simplices\n",
    "    ]\n",
    ")\n",
    "triangles_c = triangles_s.reshape(-1, 2)"
   ]
  },
  {
   "cell_type": "markdown",
   "id": "9edddb39",
   "metadata": {},
   "source": [
    "# Delaunay"
   ]
  },
  {
   "cell_type": "code",
   "execution_count": null,
   "id": "a643bf5b",
   "metadata": {},
   "outputs": [],
   "source": [
    "colors = [\"red\", \"blue\", \"green\", \"yellow\", \"cyan\"]\n",
    "l = len(colors)\n",
    "fig, ax = plt.subplots(figsize=(6, 6))\n",
    "ax.axis(\"equal\")\n",
    "for index, triangle in enumerate(triangles_s, 1):\n",
    "    t1 = plt.Polygon(triangle, color=colors[index % l])\n",
    "    plt.gca().add_patch(t1)\n",
    "ax.scatter(triangles_c[:, 0], triangles_c[:, 1], color=\"black\")\n",
    "plt.show()"
   ]
  },
  {
   "cell_type": "markdown",
   "id": "bd246965",
   "metadata": {},
   "source": [
    "# Preprocessing part"
   ]
  },
  {
   "cell_type": "code",
   "execution_count": null,
   "id": "3e723a79",
   "metadata": {},
   "outputs": [],
   "source": [
    "tx = torch.linspace(-2, 2, 100)\n",
    "ty = torch.linspace(-2, 2, 100)\n",
    "xx, yy = torch.meshgrid(tx, ty, indexing=\"xy\")\n",
    "points_ = torch.stack((xx, yy)).permute(1, 2, 0)"
   ]
  },
  {
   "cell_type": "code",
   "execution_count": null,
   "id": "52e6868d",
   "metadata": {},
   "outputs": [],
   "source": [
    "a = triangles_s[:, 0] - triangles_s[:, 1]\n",
    "b = triangles_s[:, 0] - triangles_s[:, 2]\n",
    "areas = torch.abs(a[:, 0] * b[:, 1] - a[:, 1] * b[:, 0])"
   ]
  },
  {
   "cell_type": "code",
   "execution_count": null,
   "id": "f038bc12",
   "metadata": {},
   "outputs": [],
   "source": [
    "a = points_[...,] - triangles_s[:, 0, None, None]\n",
    "b = points_[...,] - triangles_s[:, 1, None, None]\n",
    "c = points_[...,] - triangles_s[:, 2, None, None]"
   ]
  },
  {
   "cell_type": "code",
   "execution_count": null,
   "id": "f6671a95",
   "metadata": {},
   "outputs": [],
   "source": [
    "area1 = torch.abs(a[..., 0] * b[..., 1] - a[..., 1] * b[..., 0])\n",
    "area2 = torch.abs(a[..., 0] * c[..., 1] - a[..., 1] * c[..., 0])\n",
    "area3 = torch.abs(b[..., 0] * c[..., 1] - b[..., 1] * c[..., 0])"
   ]
  },
  {
   "cell_type": "code",
   "execution_count": null,
   "id": "64c1cd69",
   "metadata": {},
   "outputs": [],
   "source": [
    "indices = torch.where(\n",
    "    torch.isclose((area1 + area2 + area3).permute(1, 2, 0), areas[None, None, ...])\n",
    ")"
   ]
  },
  {
   "cell_type": "markdown",
   "id": "42042925",
   "metadata": {},
   "source": [
    "# $C^{0}$ linear interpolation\n",
    "\n",
    "# $$\\boxed{p_{i}(x,y)=\\frac{1}{S}\\sum_{i=1}^{3}\\alpha_{i}\\left(x,y\\right)f\\left(x_i,y_i\\right)}$$\n",
    "### where \n",
    "# $$a_{k} = x_iy_j-x_jy_i+x(y_i-y_j)-y(x_i-x_j)$$ \n",
    "$$S = \\begin{vmatrix}\n",
    "     1 & x_1 & y_1\\\\ \n",
    "     1 & x_2 & y_2\\\\\n",
    "     1 & x_3 & y_3 \n",
    "\\end{vmatrix}$$\n",
    "### and $i,j,k$ is any permutation of $\\{1, 2, 3\\}$"
   ]
  },
  {
   "cell_type": "code",
   "execution_count": null,
   "id": "7451b436",
   "metadata": {},
   "outputs": [],
   "source": [
    "S = torch.zeros(xx.shape)\n",
    "for j in range(3):\n",
    "    nom = torch.abs(\n",
    "        torch.cat(\n",
    "            (\n",
    "                torch.ones(indices[0].shape[0], 3, 1),\n",
    "                torch.cat(\n",
    "                    (\n",
    "                        triangles_s[indices[-1]][:, torch.arange(3) != j, :],\n",
    "                        points_[indices[:-1]][:, None],\n",
    "                    ),\n",
    "                    dim=1,\n",
    "                ),\n",
    "            ),\n",
    "            dim=-1,\n",
    "        ).det()\n",
    "    )\n",
    "    S[indices[:-1]] += (\n",
    "        f(triangles_s[indices[-1], :, 0], triangles_s[indices[-1], :, 1])[:, j]\n",
    "        * nom\n",
    "        / areas[indices[-1]]\n",
    "    )"
   ]
  },
  {
   "cell_type": "code",
   "execution_count": null,
   "id": "7d04891e",
   "metadata": {},
   "outputs": [],
   "source": [
    "%matplotlib widget\n",
    "fig = plt.figure(figsize=(8, 8))\n",
    "ax = plt.axes(projection=\"3d\")\n",
    "ax.plot_surface(xx, yy, S, color=\"blue\")\n",
    "ax.scatter(\n",
    "    triangles_c[:, 0],\n",
    "    triangles_c[:, 1],\n",
    "    f(triangles_c[:, 0], triangles_c[:, 1]),\n",
    "    color=\"red\",\n",
    ")\n",
    "plt.show()"
   ]
  },
  {
   "cell_type": "markdown",
   "id": "0f94ca65",
   "metadata": {},
   "source": [
    "# $C^0$ quadratic interploation\n",
    "\n",
    "# $$\\boxed{p_{i}(x,y)=\\sum_{i=1}^{6}p^{(2)}_{i}f(x_i,y_i)}$$\n",
    "### where for points of the triangles\n",
    "$$p^{(2)}_{i}=p^{(1)}_{i}(2p^{(1)}_{i}-1), 1\\le i\\le3$$ \n",
    "### and for middle point of the triangle edges \n",
    "$$p^{(2)}_{i}=4p_{i}^{(1)}p_i^{(1)}, 4\\le i\\le6$$"
   ]
  },
  {
   "cell_type": "code",
   "execution_count": null,
   "id": "e3a9d095-3498-45bc-86b7-a4b62e822ad5",
   "metadata": {},
   "outputs": [],
   "source": [
    "pairs"
   ]
  },
  {
   "cell_type": "code",
   "execution_count": null,
   "id": "63b50411",
   "metadata": {},
   "outputs": [],
   "source": [
    "S = torch.zeros(xx.shape)\n",
    "p = []\n",
    "for j in range(3):\n",
    "    nom = torch.abs(\n",
    "        torch.cat(\n",
    "            (\n",
    "                torch.ones(indices[0].shape[0], 3, 1),\n",
    "                torch.cat(\n",
    "                    (\n",
    "                        triangles_s[indices[-1]][:, torch.arange(3) != j, :],\n",
    "                        points_[indices[:-1]][:, None],\n",
    "                    ),\n",
    "                    dim=1,\n",
    "                ),\n",
    "            ),\n",
    "            dim=-1,\n",
    "        ).det()\n",
    "    )\n",
    "    tmp = nom / areas[indices[-1]]\n",
    "    S[indices[:-1]] += (\n",
    "        f(triangles_s[indices[-1], :, 0], triangles_s[indices[-1], :, 1])[:, j]\n",
    "        * tmp\n",
    "        * (2 * tmp - 1)\n",
    "    )\n",
    "    p.append(tmp)\n",
    "pairs = [[j, i] for i in range(3) for j in range(i)]\n",
    "for pair in pairs:\n",
    "    middle_points = triangles_s[:, pair].mean(dim=-2)\n",
    "    S[indices[:-1]] += (\n",
    "        4\n",
    "        * p[pair[0]]\n",
    "        * p[pair[1]]\n",
    "        * f(middle_points[indices[-1], 0], (middle_points[indices[-1], 1]))\n",
    "    )"
   ]
  },
  {
   "cell_type": "code",
   "execution_count": null,
   "id": "63698e9d",
   "metadata": {},
   "outputs": [],
   "source": [
    "%matplotlib widget\n",
    "fig = plt.figure(figsize=(8, 8))\n",
    "ax = plt.axes(projection=\"3d\")\n",
    "# ax.plot_surface(xx, yy, S, cmap='magma')\n",
    "k = 0\n",
    "ax.plot_surface(xx[k:], yy[k:], numpy.diff(S, axis=0, n=k))\n",
    "ax.set_box_aspect((numpy.ptp(xx), numpy.ptp(yy), numpy.ptp(S)))\n",
    "# ax.scatter(triangles_c[:, 0], triangles_c[:, 1], f(triangles_c[:, 0], triangles_c[:, 1]), color='red', s=30)\n",
    "plt.show()"
   ]
  },
  {
   "cell_type": "markdown",
   "id": "8a86a337",
   "metadata": {},
   "source": [
    "# $C^0$ cubic interpolation\n",
    "\n",
    "# $$\\boxed{p_{i}(x,y)=\\frac{1}{S}\\sum_{i=1}^{10}p^{(3)}_{i}f(x_i,y_i)}$$\n",
    "### where for points of the triangles\n",
    "$$p^{(3)}_{i}=\\frac{1}{2} p^{(1)}_{i}(3p^{(1)}_{i}-1)(3p^{(1)}_{i}-2), 1\\le i\\le3$$ \n",
    "### and for trisection point of the triangle edges \n",
    "$$p^{(2)}_{i}=\\frac{9}{2}p_1p_2(3p_1-1), 4\\le i\\le9$$\n",
    "### and for the center point of the triangle\n",
    "$$p_{10}^{(3)}=27p_1p_2p_3$$"
   ]
  },
  {
   "cell_type": "code",
   "execution_count": null,
   "id": "ade7d4ba",
   "metadata": {},
   "outputs": [],
   "source": [
    "S = torch.zeros(xx.shape)\n",
    "\n",
    "p = []\n",
    "for j in range(3):\n",
    "    nom = torch.abs(\n",
    "        torch.cat(\n",
    "            (\n",
    "                torch.ones(indices[0].shape[0], 3, 1),\n",
    "                torch.cat(\n",
    "                    (\n",
    "                        triangles_s[indices[-1]][:, torch.arange(3) != j, :],\n",
    "                        points_[indices[:-1]][:, None],\n",
    "                    ),\n",
    "                    dim=1,\n",
    "                ),\n",
    "            ),\n",
    "            dim=-1,\n",
    "        ).det()\n",
    "    )\n",
    "    tmp = nom / areas[indices[-1]]\n",
    "    S[indices[:-1]] += (\n",
    "        f(triangles_s[indices[-1], :, 0], triangles_s[indices[-1], :, 1])[:, j]\n",
    "        * 0.5\n",
    "        * tmp\n",
    "        * (3 * tmp - 1)\n",
    "        * (3 * tmp - 2)\n",
    "    )\n",
    "    p.append(tmp)\n",
    "\n",
    "pairs = [[j, i] for i in range(3) for j in range(i)]\n",
    "\n",
    "for pair in pairs:\n",
    "    third_one = 2 / 3 * triangles_s[:, pair[0]] + 1 / 3 * triangles_s[:, pair[1]]\n",
    "    third_two = 1 / 3 * triangles_s[:, pair[0]] + 2 / 3 * triangles_s[:, pair[1]]\n",
    "\n",
    "    S[indices[:-1]] += (\n",
    "        9\n",
    "        / 2\n",
    "        * p[pair[0]]\n",
    "        * p[pair[1]]\n",
    "        * (3 * p[pair[0]] - 1)\n",
    "        * f(third_one[indices[-1], 0], third_one[indices[-1], 1])\n",
    "    )\n",
    "    S[indices[:-1]] += (\n",
    "        9\n",
    "        / 2\n",
    "        * p[pair[0]]\n",
    "        * p[pair[1]]\n",
    "        * (3 * p[pair[1]] - 1)\n",
    "        * f(third_two[indices[-1], 0], third_two[indices[-1], 1])\n",
    "    )\n",
    "\n",
    "middle = triangles_s.mean(dim=-2)\n",
    "S[indices[:-1]] += (\n",
    "    27 * p[0] * p[1] * p[2] * f(middle[indices[-1], 0], middle[indices[-1], 1])\n",
    ")"
   ]
  },
  {
   "cell_type": "code",
   "execution_count": null,
   "id": "03753ad6",
   "metadata": {},
   "outputs": [],
   "source": [
    "%matplotlib widget\n",
    "fig = plt.figure(figsize=(8, 8))\n",
    "ax = plt.axes(\n",
    "    projection=\"3d\",\n",
    ")\n",
    "k = 0\n",
    "ax.plot_surface(xx[k:], yy[k:], numpy.diff(S, axis=0, n=k), cmap=\"magma\")\n",
    "# ax.scatter(XX, YY, f(XX, YY), color='red')\n",
    "# ax.scatter(triangles_c[:, 0], triangles_c[:, 1], f(triangles_c[:, 0], triangles_c[:, 1]), color='blue', s=30)\n",
    "plt.show()"
   ]
  },
  {
   "cell_type": "markdown",
   "id": "ddae5598",
   "metadata": {},
   "source": [
    "# Single basis"
   ]
  },
  {
   "cell_type": "code",
   "execution_count": null,
   "id": "c2ab7898",
   "metadata": {},
   "outputs": [],
   "source": [
    "y_steps, x_steps = 5, 5\n",
    "y_start, y_end = -10, 10\n",
    "x_start, x_end = -10, 10\n",
    "n_x, n_y = 50, 50\n",
    "tx = torch.linspace(-10, 10, n_x)\n",
    "ty = torch.linspace(-10, 10, n_y)\n",
    "xx, yy = torch.meshgrid(tx, ty, indexing=\"xy\")\n",
    "zz = torch.zeros(n_y, n_x)"
   ]
  },
  {
   "cell_type": "code",
   "execution_count": null,
   "id": "18e97092",
   "metadata": {},
   "outputs": [],
   "source": [
    "X = torch.linspace(x_start, x_end, x_steps)\n",
    "Y = torch.linspace(y_start, y_end, y_steps)\n",
    "h_1 = X.diff()[0]\n",
    "h_2 = Y.diff()[0]"
   ]
  },
  {
   "cell_type": "code",
   "execution_count": null,
   "id": "32e01bc9",
   "metadata": {},
   "outputs": [],
   "source": [
    "def phi(X, Y, h1, h2, i, j, n_x, n_y):\n",
    "    tx = torch.linspace(X.min(), X.max(), n_x)\n",
    "    ty = torch.linspace(Y.min(), Y.max(), n_y)\n",
    "\n",
    "    xx, yy = torch.meshgrid(tx, ty, indexing=\"xy\")\n",
    "    xm = xx.min()\n",
    "    ym = yy.min()\n",
    "\n",
    "    xx = xx - ym\n",
    "    yy = yy - ym\n",
    "\n",
    "    tmp = torch.zeros(xx.shape)\n",
    "\n",
    "    S1 = (\n",
    "        (i <= xx / h1)\n",
    "        & (xx / h1 <= i + 1)\n",
    "        & (j <= yy / h2)\n",
    "        & (yy / h2 <= j + 1)\n",
    "        & (yy / h2 - j >= xx / h1 - i)\n",
    "    )\n",
    "    tmp[S1] = (j + 1 - yy / h2)[S1]\n",
    "\n",
    "    S2 = (\n",
    "        (i - 1 <= xx / h1)\n",
    "        & (xx / h1 <= i)\n",
    "        & (j <= yy / h2)\n",
    "        & (yy / h2 <= j + 1)\n",
    "        & (yy / h2 - j <= 1 + xx / h1 - i)\n",
    "    )\n",
    "    tmp[S2] = (1 + xx / h1 - yy / h2 - i + j)[S2]\n",
    "\n",
    "    S3 = (\n",
    "        (i - 1 <= xx / h1)\n",
    "        & (xx / h1 <= i)\n",
    "        & (j - 1 <= yy / h2)\n",
    "        & (yy / h2 <= j)\n",
    "        & (yy / h2 - j >= xx / h1 - i)\n",
    "    )\n",
    "    tmp[S3] = (1 + xx / h1 - i)[S3]\n",
    "\n",
    "    S4 = (\n",
    "        (i - 1 <= xx / h1)\n",
    "        & (xx / h1 <= i)\n",
    "        & (j - 1 <= yy / h2)\n",
    "        & (yy / h2 <= j)\n",
    "        & (yy / h2 - j <= xx / h1 - i)\n",
    "    )\n",
    "    tmp[S4] = (1 + yy / h2 - j)[S4]\n",
    "\n",
    "    S5 = (\n",
    "        (i <= xx / h1)\n",
    "        & (xx / h1 <= i + 1)\n",
    "        & (j - 1 <= yy / h2)\n",
    "        & (yy / h2 <= j)\n",
    "        & (yy / h2 - j >= xx / h1 - i - 1)\n",
    "    )\n",
    "    tmp[S5] = (1 - xx / h1 + yy / h2 + i - j)[S5]\n",
    "\n",
    "    S6 = (\n",
    "        (i <= xx / h1)\n",
    "        & (xx / h1 <= i + 1)\n",
    "        & (j <= yy / h2)\n",
    "        & (yy / h2 <= j + 1)\n",
    "        & (yy / h2 - j <= xx / h1 - i)\n",
    "    )\n",
    "    tmp[S6] = (1 - xx / h1 + i)[S6]\n",
    "\n",
    "    return tmp"
   ]
  },
  {
   "cell_type": "code",
   "execution_count": null,
   "id": "afa405b6",
   "metadata": {},
   "outputs": [],
   "source": [
    "%matplotlib widget\n",
    "fig = plt.figure(figsize=(15, 15))\n",
    "ax = plt.axes(projection=\"3d\")\n",
    "zz = phi(X, Y, h_1, h_2, 2, 2, n_x, n_y)\n",
    "ax.plot_surface(xx, yy, zz, cmap=\"magma\", alpha=0.9)\n",
    "ax.set_box_aspect((numpy.ptp(xx), numpy.ptp(yy), 6 * numpy.ptp(zz)))\n",
    "\n",
    "plt.show()"
   ]
  },
  {
   "cell_type": "code",
   "execution_count": null,
   "id": "6945f8de-b878-4b30-8dc5-c530475a18bf",
   "metadata": {},
   "outputs": [],
   "source": [
    "fig.savefig(\"cur.png\")"
   ]
  },
  {
   "cell_type": "markdown",
   "id": "80b2c254",
   "metadata": {},
   "source": [
    "# Test"
   ]
  },
  {
   "cell_type": "code",
   "execution_count": null,
   "id": "e7a64867",
   "metadata": {},
   "outputs": [],
   "source": [
    "n_x, n_y = 50, 50\n",
    "tx = torch.linspace(-10, 10, n_x)\n",
    "ty = torch.linspace(-10, 10, n_y)\n",
    "xx, yy = torch.meshgrid(tx, ty, indexing=\"xy\")\n",
    "zz = torch.zeros(n_y, n_x)\n",
    "\n",
    "for i in range(x_steps):\n",
    "    for j in range(y_steps):\n",
    "        zz += phi(X, Y, h_1, h_2, i, j, n_x, n_y) * f(X[i], Y[j])"
   ]
  },
  {
   "cell_type": "code",
   "execution_count": null,
   "id": "10be8ba4",
   "metadata": {},
   "outputs": [],
   "source": [
    "%matplotlib widget\n",
    "fig = plt.figure(figsize=(8, 8))\n",
    "ax = plt.axes(projection=\"3d\")\n",
    "ax.plot_surface(xx, yy, zz, color=\"blue\")\n",
    "# ax.scatter(XX, YY, f(XX, YY), color='red', s=100)"
   ]
  }
 ],
 "metadata": {
  "kernelspec": {
   "display_name": "Python 3 (ipykernel)",
   "language": "python",
   "name": "python3"
  },
  "language_info": {
   "codemirror_mode": {
    "name": "ipython",
    "version": 3
   },
   "file_extension": ".py",
   "mimetype": "text/x-python",
   "name": "python",
   "nbconvert_exporter": "python",
   "pygments_lexer": "ipython3",
   "version": "3.9.12"
  }
 },
 "nbformat": 4,
 "nbformat_minor": 5
}
