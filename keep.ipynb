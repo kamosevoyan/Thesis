{
 "cells": [
  {
   "cell_type": "markdown",
   "metadata": {},
   "source": [
    "# CT as system of equations"
   ]
  },
  {
   "cell_type": "code",
   "execution_count": null,
   "metadata": {},
   "outputs": [],
   "source": [
    "import sympy\n",
    "import numpy as np\n",
    "from tqdm import tqdm\n",
    "import dill\n",
    "dill.settings[\"recurse\"] = True\n",
    "from sympy import Rational as R"
   ]
  },
  {
   "cell_type": "code",
   "execution_count": null,
   "metadata": {},
   "outputs": [],
   "source": [
    "(\n",
    "    reference_x,\n",
    "    reference_y,\n",
    "    physical_x_0,\n",
    "    physical_y_0,\n",
    "    physical_x_1,\n",
    "    physical_y_1,\n",
    "    physical_x_2,\n",
    "    physical_y_2,\n",
    ") = sympy.symbols(\"x y x_0 y_0 x_1 y_1 x_2 y_2\")\n",
    "\n",
    "monomial_basis = sympy.Matrix(\n",
    "[\n",
    " 1,\n",
    " reference_x,\n",
    " reference_y,\n",
    " reference_x**2,\n",
    " reference_y**2,\n",
    " reference_x*reference_y,\n",
    " reference_x**3,\n",
    " reference_y**3,\n",
    " reference_x**2*reference_y,\n",
    " reference_x*reference_y**2,\n",
    " ]\n",
    ")\n",
    "\n",
    "rotation_matrix = sympy.Matrix([[+R(0), +R(1)], [-R(1), +R(0)]])\n"
   ]
  },
  {
   "cell_type": "code",
   "execution_count": null,
   "metadata": {},
   "outputs": [],
   "source": [
    "v0 = {reference_x: 0, reference_y: 0}\n",
    "v1 = {reference_x: 1, reference_y: 0}\n",
    "v2 = {reference_x: 0, reference_y: 1}\n",
    "barycenter = {reference_x: R(1, 3), reference_y: R(1, 3)}\n",
    "\n",
    "e0 = {reference_x: R(1, 2), reference_y: R(1, 2)}\n",
    "e1 = {reference_x: 0, reference_y: R(1, 2)}\n",
    "e2 = {reference_x: R(1, 2), reference_y: 0}\n",
    "\n",
    "e0_sub = {reference_x: R(1, 6), reference_y: R(1, 6)}\n",
    "e1_sub = {reference_x: R(2, 3), reference_y: R(1, 6)}\n",
    "e2_sub = {reference_x: R(1, 6), reference_y: R(2, 3)}"
   ]
  },
  {
   "cell_type": "code",
   "execution_count": null,
   "metadata": {},
   "outputs": [],
   "source": [
    "t0_sub = sympy.Matrix([R(+1, 3), R(+1, 3)]) / sympy.sqrt(R(2, 9))\n",
    "t1_sub = sympy.Matrix([R(-2, 3), R(+1, 3)]) / sympy.sqrt(R(5, 9))\n",
    "t2_sub = sympy.Matrix([R(+1, 3), R(-2, 3)]) / sympy.sqrt(R(5, 9))\n",
    "\n",
    "n0_sub = rotation_matrix @ t0_sub\n",
    "n1_sub = rotation_matrix @ t1_sub\n",
    "n2_sub = rotation_matrix @ t2_sub"
   ]
  },
  {
   "cell_type": "code",
   "execution_count": null,
   "metadata": {},
   "outputs": [],
   "source": [
    "t0_hat = sympy.Matrix([-R(1), +R(1)]) / sympy.sqrt(2)\n",
    "t1_hat = sympy.Matrix([+R(0), +R(1)])\n",
    "t2_hat = sympy.Matrix([+R(1), +R(0)])\n",
    "\n",
    "n0_hat = rotation_matrix @ t0_hat\n",
    "n1_hat = rotation_matrix @ t1_hat\n",
    "n2_hat = rotation_matrix @ t2_hat"
   ]
  },
  {
   "cell_type": "code",
   "execution_count": null,
   "metadata": {},
   "outputs": [],
   "source": [
    "subtriangle_0_equation = (reference_y >= 0)&(reference_y <= reference_x)&(2*reference_y <= 1 - reference_x)\n",
    "subtriangle_1_equation = (reference_y <= 1 - reference_x)&(reference_y >= -2*reference_x + 1)&(2*reference_y >= 1 - reference_x)\n",
    "subtriangle_2_equation = (reference_x >= 0)&(reference_y <= -2*reference_x + 1)&(reference_y >= reference_x)"
   ]
  },
  {
   "cell_type": "code",
   "execution_count": null,
   "metadata": {},
   "outputs": [],
   "source": [
    "coefs = sympy.Matrix([sympy.symbols(\"a_(0:3)_(0:10)\")]).reshape(3, 10)\n",
    "\n",
    "st_0_basis = (coefs.row(0)@monomial_basis)[0, 0]\n",
    "st_1_basis = (coefs.row(1)@monomial_basis)[0, 0]\n",
    "st_2_basis = (coefs.row(2)@monomial_basis)[0, 0]\n",
    "\n",
    "eqn = []\n",
    "\n",
    "fv0 = sympy.symbols(\"fv0\")\n",
    "dfdxv0 = sympy.symbols(\"dfdxv0\")\n",
    "dfdyv0 = sympy.symbols(\"dfdyv0\")\n",
    "\n",
    "fv1 = sympy.symbols(\"fv1\")\n",
    "dfdxv1 = sympy.symbols(\"dfdxv1\")\n",
    "dfdyv1 = sympy.symbols(\"dfdyv1\")\n",
    "\n",
    "fv2 = sympy.symbols(\"fv2\")\n",
    "dfdxv2 = sympy.symbols(\"dfdxv2\")\n",
    "dfdyv2 = sympy.symbols(\"dfdyv2\")\n",
    "\n",
    "dfdn0 = sympy.symbols(\"dfdn0\")\n",
    "dfdn1 = sympy.symbols(\"dfdn1\")\n",
    "dfdn2 = sympy.symbols(\"dfdn2\")\n",
    "\n",
    "# subtriangle 0\n",
    "eqn.append(st_0_basis.subs(v0) - fv0)\n",
    "eqn.append(st_0_basis.diff(reference_x).subs(v0) - dfdxv0)\n",
    "eqn.append(st_0_basis.diff(reference_y).subs(v0) - dfdyv0)\n",
    "\n",
    "eqn.append((n2_hat[0]*st_0_basis.diff(reference_x) + n2_hat[1]*st_0_basis.diff(reference_y)).subs(e2) - dfdn2)\n",
    "\n",
    "# subtriangle 1\n",
    "eqn.append(st_1_basis.subs(v1) - fv1)\n",
    "eqn.append(st_1_basis.diff(reference_x).subs(v1) - dfdxv1)\n",
    "eqn.append(st_1_basis.diff(reference_y).subs(v1) - dfdyv1)\n",
    "\n",
    "eqn.append((n0_hat[0]*st_1_basis.diff(reference_x) + n0_hat[1]*st_1_basis.diff(reference_y)).subs(e0) - dfdn0)\n",
    "\n",
    "# subtriangle 2\n",
    "eqn.append(st_2_basis.subs(v2) - fv2)\n",
    "eqn.append(st_2_basis.diff(reference_x).subs(v2) - dfdxv2)\n",
    "eqn.append(st_2_basis.diff(reference_y).subs(v2) - dfdyv2)\n",
    "\n",
    "eqn.append((n1_hat[0]*st_2_basis.diff(reference_x) + n1_hat[1]*st_2_basis.diff(reference_y)).subs(e1) - dfdn1)\n",
    "\n",
    "# C1 continuity\n",
    "\n",
    "# Global vertices\n",
    "eqn.append(st_0_basis.subs(v1) - st_1_basis.subs(v1))\n",
    "eqn.append(st_0_basis.diff(reference_x).subs(v1) - st_1_basis.diff(reference_x).subs(v1))\n",
    "eqn.append(st_0_basis.diff(reference_y).subs(v1) - st_1_basis.diff(reference_y).subs(v1))\n",
    "\n",
    "eqn.append(st_1_basis.subs(v2) - st_2_basis.subs(v2))\n",
    "eqn.append(st_1_basis.diff(reference_x).subs(v2) - st_2_basis.diff(reference_x).subs(v2))\n",
    "eqn.append(st_1_basis.diff(reference_y).subs(v2) - st_2_basis.diff(reference_y).subs(v2))\n",
    "\n",
    "eqn.append(st_2_basis.subs(v0) - st_0_basis.subs(v0))\n",
    "eqn.append(st_2_basis.diff(reference_x).subs(v0) - st_0_basis.diff(reference_x).subs(v0))\n",
    "eqn.append(st_2_basis.diff(reference_y).subs(v0) - st_0_basis.diff(reference_y).subs(v0))\n",
    "\n",
    "# Barycenter\n",
    "eqn.append(st_1_basis.subs(barycenter) - st_0_basis.subs(barycenter))\n",
    "eqn.append(st_1_basis.diff(reference_x).subs(barycenter) - st_0_basis.diff(reference_x).subs(barycenter))\n",
    "eqn.append(st_1_basis.diff(reference_y).subs(barycenter) - st_0_basis.diff(reference_y).subs(barycenter))\n",
    "\n",
    "eqn.append(st_2_basis.subs(barycenter) - st_0_basis.subs(barycenter))\n",
    "eqn.append(st_2_basis.diff(reference_x).subs(barycenter) - st_0_basis.diff(reference_x).subs(barycenter))\n",
    "eqn.append(st_2_basis.diff(reference_y).subs(barycenter) - st_0_basis.diff(reference_y).subs(barycenter))\n",
    "\n",
    "# Subtriangle edges\n",
    "eqn.append((n0_sub[0]*st_0_basis.diff(reference_x) + n0_sub[1]*st_0_basis.diff(reference_y)).subs(e0_sub) - \n",
    "           (n0_sub[0]*st_2_basis.diff(reference_x) + n0_sub[1]*st_2_basis.diff(reference_y)).subs(e0_sub)\n",
    "           )\n",
    "\n",
    "eqn.append((n1_sub[0]*st_1_basis.diff(reference_x) + n1_sub[1]*st_1_basis.diff(reference_y)).subs(e1_sub) - \n",
    "           (n1_sub[0]*st_0_basis.diff(reference_x) + n1_sub[1]*st_0_basis.diff(reference_y)).subs(e1_sub)\n",
    "           )\n",
    "\n",
    "eqn.append((n2_sub[0]*st_2_basis.diff(reference_x) + n2_sub[1]*st_2_basis.diff(reference_y)).subs(e2_sub) - \n",
    "           (n2_sub[0]*st_1_basis.diff(reference_x) + n2_sub[1]*st_1_basis.diff(reference_y)).subs(e2_sub)\n",
    "           )\n",
    "\n",
    "\n",
    "solved_coefs = sympy.solve(eqn)\n",
    "\n",
    "solved_coefs = sympy.Matrix(list(solved_coefs.values())).reshape(3, 10)\n",
    "\n",
    "\n",
    "subtriangle_0_basis = solved_coefs.row(0)@monomial_basis\n",
    "subtriangle_1_basis = solved_coefs.row(1)@monomial_basis\n",
    "subtriangle_2_basis = solved_coefs.row(2)@monomial_basis\n",
    "\n",
    "solution_0 = sympy.Piecewise(\n",
    "    (subtriangle_0_basis, subtriangle_0_equation),\n",
    ")\n",
    "\n",
    "solution_1 = sympy.Piecewise(\n",
    "    (subtriangle_1_basis, subtriangle_1_equation),\n",
    ")\n",
    "\n",
    "solution_2 = sympy.Piecewise(\n",
    "    (subtriangle_2_basis, subtriangle_2_equation),\n",
    ")"
   ]
  },
  {
   "cell_type": "markdown",
   "metadata": {},
   "source": [
    "# Map"
   ]
  },
  {
   "cell_type": "code",
   "execution_count": null,
   "metadata": {},
   "outputs": [],
   "source": [
    "monomial_basis = sympy.Matrix(\n",
    "    [\n",
    "        1,\n",
    "        reference_x,\n",
    "        reference_y,\n",
    "    ]\n",
    ")\n",
    "\n",
    "V = sympy.zeros(3, 3)\n",
    "\n",
    "for dofidx, basis in enumerate(monomial_basis):\n",
    "\n",
    "    V[dofidx, 0] = basis.subs({reference_x: 0, reference_y: 0})\n",
    "    V[dofidx, 1] = basis.subs({reference_x: 1, reference_y: 0})\n",
    "    V[dofidx, 2] = basis.subs({reference_x: 0, reference_y: 1})\n",
    "\n",
    "mapping_basis = V.inv() @ monomial_basis\n",
    "\n",
    "global_x = (\n",
    "      mapping_basis[0] * physical_x_0\n",
    "    + mapping_basis[1] * physical_x_1\n",
    "    + mapping_basis[2] * physical_x_2\n",
    ")\n",
    "global_y = (\n",
    "      mapping_basis[0] * physical_y_0\n",
    "    + mapping_basis[1] * physical_y_1\n",
    "    + mapping_basis[2] * physical_y_2\n",
    ")\n",
    "\n",
    "mapping_function = sympy.Matrix([global_x, global_y])\n",
    "J = mapping_function.jacobian([reference_x, reference_y]).inv()"
   ]
  },
  {
   "cell_type": "code",
   "execution_count": null,
   "metadata": {},
   "outputs": [],
   "source": [
    "omega = sympy.symbols(\"omega\")"
   ]
  },
  {
   "cell_type": "code",
   "execution_count": null,
   "metadata": {},
   "outputs": [],
   "source": [
    "# subtriangle_2_basis[0].subs({reference_x : omega, reference_y: omega}).diff(omega).subs({omega: R(1, 3)})"
   ]
  },
  {
   "cell_type": "code",
   "execution_count": null,
   "metadata": {},
   "outputs": [],
   "source": [
    "grad = subtriangle_0_basis.jacobian([reference_x, reference_y])"
   ]
  },
  {
   "cell_type": "code",
   "execution_count": null,
   "metadata": {},
   "outputs": [],
   "source": [
    "(J.T@grad.T).subs(barycenter)"
   ]
  },
  {
   "cell_type": "code",
   "execution_count": null,
   "metadata": {},
   "outputs": [],
   "source": [
    "subtriangle_2_basis[0].diff(reference_x).subs(e0_sub)"
   ]
  },
  {
   "cell_type": "markdown",
   "metadata": {},
   "source": [
    "## Coeff extraction"
   ]
  },
  {
   "cell_type": "code",
   "execution_count": null,
   "metadata": {},
   "outputs": [],
   "source": [
    "coefficients = []\n",
    "constants = []\n",
    "for equation in eqn:\n",
    "    coefficients.append([equation.expand().coeff(term) for term in sympy.symbols(\"a_(0:3)_(0:10)\")])\n",
    "    \n",
    "# Create matrix and vector\n",
    "A = sympy.Matrix(coefficients)"
   ]
  },
  {
   "cell_type": "code",
   "execution_count": null,
   "metadata": {},
   "outputs": [],
   "source": [
    "poly_coefs = sympy.symbols(\"a_(0:6)\")\n",
    "omega = sympy.symbols(\"omega\")\n",
    "\n",
    "poly = sum([c*omega**n for n, c in enumerate(poly_coefs)])\n",
    "\n",
    "eqn = [\n",
    "        poly.diff(omega, 0).subs(omega, +1),\n",
    "        poly.diff(omega, 0).subs(omega, -1),\n",
    "        poly.diff(omega, 1).subs(omega, +1),\n",
    "        poly.diff(omega, 1).subs(omega, -1),\n",
    "        poly.diff(omega, 2).subs(omega, +1),\n",
    "        poly.diff(omega, 2).subs(omega, -1),\n",
    "    ]\n",
    "\n",
    "b = poly.diff(omega, 1).subs(omega, 0)\n",
    "\n",
    "coefficients = []\n",
    "for equation in eqn:\n",
    "    coefficients.append([equation.expand().coeff(term) for term in poly_coefs])\n",
    "    \n",
    "constants = [b.expand().coeff(term) for term in poly_coefs]\n",
    "A = sympy.Matrix(coefficients)\n",
    "b = sympy.Matrix(constants)\n",
    "\n",
    "(A.inv().T@b).T\n"
   ]
  },
  {
   "cell_type": "code",
   "execution_count": null,
   "metadata": {},
   "outputs": [],
   "source": [
    "poly_coefs = sympy.symbols(\"a_(0:4)\")\n",
    "omega = sympy.symbols(\"omega\")\n",
    "\n",
    "poly = sympy.Matrix([omega**n for n, c in enumerate(poly_coefs)])\n",
    "\n",
    "N = len(poly)\n",
    "\n",
    "Vander = sympy.Matrix(np.zeros((N, N)))\n",
    "\n",
    "for i, p in enumerate(poly):\n",
    "    \n",
    "    Vander[i, 0] = p.diff(omega, 0).subs({omega: +1})\n",
    "    Vander[i, 1] = p.diff(omega, 0).subs({omega: +0})\n",
    "    \n",
    "    Vander[i, 2] = p.diff(omega, 1).subs({omega: +1})\n",
    "    Vander[i, 3] = p.diff(omega, 1).subs({omega: +0})\n",
    "    \n",
    "    # Vander[i, 4] = p.diff(omega, 2).subs({omega: +1})\n",
    "    # Vander[i, 5] = p.diff(omega, 2).subs({omega: +0})    \n"
   ]
  },
  {
   "cell_type": "code",
   "execution_count": null,
   "metadata": {},
   "outputs": [],
   "source": [
    "solution = Vander.inv()@poly"
   ]
  },
  {
   "cell_type": "code",
   "execution_count": null,
   "metadata": {},
   "outputs": [],
   "source": [
    "poly_with_dofs = sympy.Matrix([poly_coefs])@solution"
   ]
  },
  {
   "cell_type": "code",
   "execution_count": null,
   "metadata": {},
   "outputs": [],
   "source": [
    "L_2 = R(6)*omega**2 - R(6)*omega + R(1)\n",
    "L_4 = R(70)*omega**4 - R(140)*omega**3 + R(90)*omega**2 - R(20)*omega + R(1)"
   ]
  },
  {
   "cell_type": "code",
   "execution_count": null,
   "metadata": {},
   "outputs": [],
   "source": [
    "sympy.integrate(poly_with_dofs.diff(omega)*L_2, (omega, +0, +1))"
   ]
  },
  {
   "cell_type": "code",
   "execution_count": null,
   "metadata": {},
   "outputs": [],
   "source": []
  }
 ],
 "metadata": {
  "kernelspec": {
   "display_name": "base",
   "language": "python",
   "name": "python3"
  },
  "language_info": {
   "codemirror_mode": {
    "name": "ipython",
    "version": 3
   },
   "file_extension": ".py",
   "mimetype": "text/x-python",
   "name": "python",
   "nbconvert_exporter": "python",
   "pygments_lexer": "ipython3",
   "version": "3.9.7"
  }
 },
 "nbformat": 4,
 "nbformat_minor": 2
}
