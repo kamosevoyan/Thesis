{
 "cells": [
  {
   "cell_type": "markdown",
   "metadata": {},
   "source": [
    "# gmsh"
   ]
  },
  {
   "cell_type": "markdown",
   "metadata": {},
   "source": [
    "## Circle"
   ]
  },
  {
   "cell_type": "code",
   "execution_count": null,
   "metadata": {},
   "outputs": [],
   "source": [
    "import gmsh\n",
    "import numpy as np\n",
    "\n",
    "gmsh.initialize()\n",
    "\n",
    "# Define points\n",
    "p1 = gmsh.model.geo.addPoint(0, 0, 0, 0.1)\n",
    "p2 = gmsh.model.geo.addPoint(1, 0, 0, 0.1)\n",
    "p3 = gmsh.model.geo.addPoint(0, 1, 0, 0.1)\n",
    "p4 = gmsh.model.geo.addPoint(-1, 0, 0, 0.1)\n",
    "p5 = gmsh.model.geo.addPoint(0, -1, 0, 0.1)\n",
    "\n",
    "# Define circles\n",
    "c1 = gmsh.model.geo.addCircleArc(p2, p1, p3)\n",
    "c2 = gmsh.model.geo.addCircleArc(p3, p1, p4)\n",
    "c3 = gmsh.model.geo.addCircleArc(p4, p1, p5)\n",
    "c4 = gmsh.model.geo.addCircleArc(p5, p1, p2)\n",
    "\n",
    "# Define line loop\n",
    "ll1 = gmsh.model.geo.addCurveLoop([c2, c3, c4, c1])\n",
    "\n",
    "# Define plane surface\n",
    "ps1 = gmsh.model.geo.addPlaneSurface([ll1])\n",
    "\n",
    "gmsh.model.geo.synchronize()\n",
    "gmsh.option.setNumber(name=\"Mesh.Smoothing\", value=50)\n",
    "\n",
    "\n",
    "gmsh.model.mesh.generate(dim=2)\n",
    "\n",
    "gmsh.model.mesh.recombine()\n",
    "\n",
    "boundary_tags = []\n",
    "boundary = gmsh.model.getBoundary(gmsh.model.getEntities(2))\n",
    "for dim, tag in boundary:\n",
    "    nodeTags, coord, parametricCoord = gmsh.model.mesh.getNodes(dim, tag, includeBoundary=True)\n",
    "    boundary_tags.append(nodeTags)\n",
    "\n",
    "boundary_tags = np.concatenate(boundary_tags)\n",
    "\n",
    "\n",
    "gmsh.fltk.run()"
   ]
  },
  {
   "cell_type": "markdown",
   "metadata": {},
   "source": [
    "## Rectangle"
   ]
  },
  {
   "cell_type": "code",
   "execution_count": null,
   "metadata": {},
   "outputs": [],
   "source": [
    "import gmsh\n",
    "import numpy as np\n",
    "import matplotlib.pyplot as plt\n",
    "\n",
    "gmsh.initialize()\n",
    "\n",
    "gmsh.model.add(\"t1\")\n",
    "\n",
    "lc = 0.07\n",
    "\n",
    "gmsh.model.geo.addPoint(x=0.0, y=0.0, z=0.0, meshSize=lc, tag=1)\n",
    "gmsh.model.geo.addPoint(x=1.0, y=0.0, z=0.0, meshSize=lc, tag=2)\n",
    "gmsh.model.geo.addPoint(x=0.7, y=0.7, z=0.0, meshSize=lc, tag=3)\n",
    "gmsh.model.geo.addPoint(x=0.0, y=1.0, z=0.0, meshSize=lc, tag=4)\n",
    "\n",
    "gmsh.model.geo.addLine(startTag=1, endTag=2, tag=1)\n",
    "gmsh.model.geo.addLine(startTag=3, endTag=2, tag=2)\n",
    "gmsh.model.geo.addLine(startTag=3, endTag=4, tag=3)\n",
    "gmsh.model.geo.addLine(startTag=4, endTag=1, tag=4)\n",
    "\n",
    "gmsh.model.geo.addCurveLoop(curveTags=[4, 1, -2, 3], tag=1, reorient=True)\n",
    "\n",
    "gmsh.model.geo.addPlaneSurface(wireTags=[1], tag=1)\n",
    "gmsh.model.addPhysicalGroup(dim=1, tags=[1, 2, 3, 4], tag=5, name=\"My loop\")\n",
    "gmsh.model.addPhysicalGroup(dim=2, tags=[1], tag=7, name=\"My surface\")\n",
    "\n",
    "gmsh.model.geo.synchronize()\n",
    "gmsh.option.setNumber(name=\"Mesh.Smoothing\", value=50)\n",
    "\n",
    "\n",
    "# gmsh.model.mesh.set_algorithm(dim=2, tag=1, val=18)\n",
    "\n",
    "gmsh.model.mesh.generate(dim=2)\n",
    "\n",
    "gmsh.model.mesh.recombine(2)\n",
    "\n",
    "boundary_tags = []\n",
    "boundary = gmsh.model.getBoundary(gmsh.model.getEntities(2))\n",
    "for dim, tag in boundary:\n",
    "    nodeTags, coord, parametricCoord = gmsh.model.mesh.getNodes(dim, tag, includeBoundary=True)\n",
    "    boundary_tags.append(nodeTags)\n",
    "\n",
    "boundary_tags = np.concatenate(boundary_tags)\n",
    "gmsh.fltk.run()"
   ]
  },
  {
   "cell_type": "markdown",
   "metadata": {},
   "source": [
    "## Transfinite quadrolange"
   ]
  },
  {
   "cell_type": "code",
   "execution_count": null,
   "metadata": {},
   "outputs": [],
   "source": [
    "import gmsh\n",
    "import numpy as np\n",
    "import matplotlib.pyplot as plt\n",
    "\n",
    "\n",
    "gmsh.initialize()\n",
    "gmsh.model.add(\"quad_mesh\")\n",
    "\n",
    "lc = 1\n",
    "p1 = gmsh.model.geo.addPoint(0, 0, 0, lc)\n",
    "p2 = gmsh.model.geo.addPoint(1, 0, 0, lc)\n",
    "p3 = gmsh.model.geo.addPoint(0.8, 0.9, 0, lc)\n",
    "p4 = gmsh.model.geo.addPoint(0, 1, 0, lc)\n",
    "\n",
    "l1 = gmsh.model.geo.addLine(p1, p2)\n",
    "l2 = gmsh.model.geo.addLine(p2, p3)\n",
    "l3 = gmsh.model.geo.addLine(p3, p4)\n",
    "l4 = gmsh.model.geo.addLine(p4, p1)\n",
    "\n",
    "ll = gmsh.model.geo.addCurveLoop([l4, l1, l2, l3])\n",
    "ps = gmsh.model.geo.addPlaneSurface([ll])\n",
    "\n",
    "gmsh.model.geo.synchronize()\n",
    "\n",
    "gmsh.model.mesh.setTransfiniteCurve(l1, 10)\n",
    "gmsh.model.mesh.setTransfiniteCurve(l2, 10)\n",
    "gmsh.model.mesh.setTransfiniteCurve(l3, 10)\n",
    "gmsh.model.mesh.setTransfiniteCurve(l4, 10)\n",
    "\n",
    "gmsh.model.mesh.setTransfiniteSurface(ps)\n",
    "# gmsh.model.mesh.setRecombine(2, ps)\n",
    "\n",
    "gmsh.model.mesh.generate(2)\n",
    "\n",
    "boundary_tags = []\n",
    "boundary = gmsh.model.getBoundary(gmsh.model.getEntities(2))\n",
    "for dim, tag in boundary:\n",
    "    nodeTags, coord, parametricCoord = gmsh.model.mesh.getNodes(dim, tag, includeBoundary=True)\n",
    "    boundary_tags.append(nodeTags)\n",
    "\n",
    "boundary_tags = np.concatenate(boundary_tags)\n",
    "gmsh.fltk.run()\n"
   ]
  },
  {
   "cell_type": "markdown",
   "metadata": {},
   "source": [
    "## Transfinite circle"
   ]
  },
  {
   "cell_type": "code",
   "execution_count": null,
   "metadata": {},
   "outputs": [],
   "source": [
    "import gmsh\n",
    "import numpy as np\n",
    "import matplotlib.pyplot as plt\n",
    "\n",
    "\n",
    "gmsh.initialize()\n",
    "gmsh.model.add(\"quad_mesh\")\n",
    "\n",
    "\n",
    "# Define points\n",
    "p1 = gmsh.model.geo.addPoint(0, 0, 0, 0.1)\n",
    "p2 = gmsh.model.geo.addPoint(1, 0, 0, 0.1)\n",
    "p3 = gmsh.model.geo.addPoint(0, 1, 0, 0.1)\n",
    "p4 = gmsh.model.geo.addPoint(-1, 0, 0, 0.1)\n",
    "p5 = gmsh.model.geo.addPoint(0, -1, 0, 0.1)\n",
    "\n",
    "# Define circles\n",
    "c1 = gmsh.model.geo.addCircleArc(p2, p1, p3)\n",
    "c2 = gmsh.model.geo.addCircleArc(p3, p1, p4)\n",
    "c3 = gmsh.model.geo.addCircleArc(p4, p1, p5)\n",
    "c4 = gmsh.model.geo.addCircleArc(p5, p1, p2)\n",
    "\n",
    "# Define line loop\n",
    "ll1 = gmsh.model.geo.addCurveLoop([c2, c3, c4, c1])\n",
    "\n",
    "# Define plane surface\n",
    "ps1 = gmsh.model.geo.addPlaneSurface([ll1])\n",
    "\n",
    "gmsh.model.geo.synchronize()\n",
    "gmsh.option.setNumber(name=\"Mesh.Smoothing\", value=30)\n",
    "\n",
    "gmsh.model.mesh\n",
    "gmsh.model.mesh.setTransfiniteCurve(c1, 6)\n",
    "gmsh.model.mesh.setTransfiniteCurve(c2, 6)\n",
    "gmsh.model.mesh.setTransfiniteCurve(c3, 6)\n",
    "gmsh.model.mesh.setTransfiniteCurve(c4, 6)\n",
    "\n",
    "gmsh.model.mesh.setTransfiniteSurface(ps1)\n",
    "# gmsh.model.mesh.setRecombine(2, ps1)\n",
    "\n",
    "gmsh.model.mesh.generate(2)\n",
    "gmsh.model.mesh.optimize(\"HighOrder\", force=True)\n",
    "\n",
    "boundary_tags = []\n",
    "boundary = gmsh.model.getBoundary(gmsh.model.getEntities(2))\n",
    "for dim, tag in boundary:\n",
    "    nodeTags, coord, parametricCoord = gmsh.model.mesh.getNodes(dim, tag, includeBoundary=True)\n",
    "    boundary_tags.append(nodeTags)\n",
    "\n",
    "boundary_tags = np.concatenate(boundary_tags)\n",
    "# gmsh.fltk.run()\n"
   ]
  },
  {
   "cell_type": "code",
   "execution_count": null,
   "metadata": {},
   "outputs": [],
   "source": [
    "node_tags, node_coords, _ = gmsh.model.mesh.getNodes()\n",
    "vertices = np.array(node_coords).reshape(-1, 3)"
   ]
  },
  {
   "cell_type": "code",
   "execution_count": null,
   "metadata": {},
   "outputs": [],
   "source": [
    "node_indices = {tag: index for index, tag in enumerate(node_tags)}\n",
    "\n",
    "# Get the element (face) information\n",
    "element_types, element_tags, element_node_tags = gmsh.model.mesh.getElements()\n",
    "\n",
    "# Filter for triangular faces (element type 2 corresponds to 2-node line)\n",
    "triangular_faces = [nodes for elem_type, nodes in zip(element_types, element_node_tags) if elem_type == 2]\n",
    "\n",
    "# Convert node tags to indices\n",
    "faces = [[node_indices[node] for node in face] for face in triangular_faces]"
   ]
  },
  {
   "cell_type": "code",
   "execution_count": null,
   "metadata": {},
   "outputs": [],
   "source": [
    "triangles = np.array(faces[0]).reshape(-1, 3)\n",
    "# quadroliterals = np.array(faces[0]).reshape(-1, 4)"
   ]
  },
  {
   "cell_type": "code",
   "execution_count": null,
   "metadata": {},
   "outputs": [],
   "source": [
    "# edges = quadroliterals[:, [[0, 1], [1, 2], [2, 3], [3, 0]]].reshape(-1, 2)\n",
    "edges = triangles[:, [[0, 1], [1, 2], [2, 0]]].reshape(-1, 2)\n",
    "edges = np.unique(edges, axis=0)"
   ]
  },
  {
   "cell_type": "code",
   "execution_count": null,
   "metadata": {},
   "outputs": [],
   "source": [
    "is_boundary_vertex = np.zeros(vertices.shape[0])\n",
    "is_boundary_vertex[boundary_tags - 1] = 1"
   ]
  },
  {
   "cell_type": "code",
   "execution_count": null,
   "metadata": {},
   "outputs": [],
   "source": [
    "%matplotlib inline\n",
    "import matplotlib.pyplot as plt\n",
    "fig, ax = plt.subplots(figsize=(7, 7))\n",
    "ax.axis(\"equal\")\n",
    "\n",
    "cl = [\"black\", \"brown\"]\n",
    "\n",
    "for eidx, edge in enumerate(edges):\n",
    "    ax.plot(\n",
    "        vertices[edge][:, 0],\n",
    "        vertices[edge][:, 1],\n",
    "        color=\"blue\"   \n",
    "    )\n",
    "\n",
    "colors = {0:\"black\", 1:\"red\"}\n",
    "\n",
    "for vidx, v in enumerate(vertices):\n",
    "    ax.scatter(x=v[0], y=v[1], color=colors[is_boundary_vertex[vidx]])\n",
    "\n",
    "fig.tight_layout()\n",
    "plt.show()"
   ]
  },
  {
   "cell_type": "code",
   "execution_count": null,
   "metadata": {},
   "outputs": [],
   "source": []
  }
 ],
 "metadata": {
  "kernelspec": {
   "display_name": "base",
   "language": "python",
   "name": "python3"
  },
  "language_info": {
   "codemirror_mode": {
    "name": "ipython",
    "version": 3
   },
   "file_extension": ".py",
   "mimetype": "text/x-python",
   "name": "python",
   "nbconvert_exporter": "python",
   "pygments_lexer": "ipython3",
   "version": "3.9.7"
  }
 },
 "nbformat": 4,
 "nbformat_minor": 2
}
